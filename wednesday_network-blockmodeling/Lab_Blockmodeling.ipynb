{
 "cells": [
  {
   "cell_type": "code",
   "execution_count": null,
   "metadata": {},
   "outputs": [],
   "source": [
    "# import the necessary modules\n",
    "\n",
    "import networkx as nx\n",
    "import numpy as np\n",
    "import matplotlib.pyplot as plt\n",
    "import scipy as sc\n",
    "import scipy.cluster.hierarchy as sch\n",
	"import importlib.util\n",
	"spec = importlib.util.spec_from_file_location("blockmodeling", "https://github.com/CALDISS-AAU/sdsphd19_coursematerials/blob/master/wednesday_network-blockmodeling/blockmodeling.py")\n",
	"foo = importlib.util.module_from_spec(spec)\n",
	"spec.loader.exec_module(foo)\n",
	"foo.MyClass()\n",
	"import blockmodeling as bm"
   ]
  },
  {
   "cell_type": "code",
   "execution_count": null,
   "metadata": {},
   "outputs": [],
   "source": [
    "# Specify the sociomatrix file you want to work with\n",
    "#datafile=\"https://github.com/CALDISS-AAU/sdsphd19_coursematerials/raw/master/wednesday_network-blockmodeling/bm_examples/bakerCitation_el2.txt\"\n",
    "#datafile=\"https://github.com/CALDISS-AAU/sdsphd19_coursematerials/raw/master/wednesday_network-blockmodeling/bm_examples/simpleCP_el2.txt\"\n",
    "#datafile=\"https://github.com/CALDISS-AAU/sdsphd19_coursematerials/raw/master/wednesday_network-blockmodeling/bm_examples/trivial6actor_el2.txt\"\n",
    "datafile=\"https://github.com/CALDISS-AAU/sdsphd19_coursematerials/raw/master/wednesday_network-blockmodeling/bm_examples/LittleLeagueTI_el2.txt\"\n",
    "\n",
    "# Read edgelist from file, directional and binary\n",
    "G = nx.read_adjlist(datafile,create_using=nx.DiGraph())\n",
    "\n",
    "# Convert to matrix (numpy.matrix)\n",
    "mat=nx.adjacency_matrix(G).todense()\n",
    "\n",
    "# Extract the node labels into a list - useful later on\n",
    "nodelabels=list(G.nodes())\n",
    "\n",
    "# Display the sociomatrix\n",
    "bm.displaySociomatrix(mat,nodelabels)"
   ]
  },
  {
   "cell_type": "code",
   "execution_count": null,
   "metadata": {
    "scrolled": false
   },
   "outputs": [],
   "source": [
    "# Display the network (you might get a warning message the first time - then do it again)\n",
    "nx.draw(G,with_labels=True,node_color='#FFA0A0', node_size=500)\n",
    "plt.show()"
   ]
  },
  {
   "cell_type": "code",
   "execution_count": null,
   "metadata": {},
   "outputs": [],
   "source": [
    "# Calculate indirect structural equivalence (Hamming distances)\n",
    "dist=bm.indirectSEhamming(mat) # Also works with bm.indirectSE(mat,method='hamming')\n",
    "\n",
    "# or calculate correlation-based indirect structural equivalence instead\n",
    "#corr=bm.indirectSEcorr(mat) # Also works with bm.indirectSE(mat,method='corr')\n",
    "# As the clustering functionality here works for distances, we need to then convert correlations to distances\n",
    "# I have added a function for this: corr2dist(mat) - so if you do the following:\n",
    "#dist=bm.corr2dist(corr)\n",
    "# ...you should have something that will work as we continue"
   ]
  },
  {
   "cell_type": "code",
   "execution_count": null,
   "metadata": {},
   "outputs": [],
   "source": [
    "# Display the distance matrix if you want\n",
    "#print(dist)"
   ]
  },
  {
   "cell_type": "code",
   "execution_count": null,
   "metadata": {},
   "outputs": [],
   "source": [
    "# In order to do hierarchical clustering on these distance values, this must first be converted to a condensed distance matrix\n",
    "# For this, we use scipy.spatial.distance.squareform:\n",
    "\n",
    "dist_cond = sc.spatial.distance.squareform(dist)"
   ]
  },
  {
   "cell_type": "code",
   "execution_count": null,
   "metadata": {},
   "outputs": [],
   "source": [
    "# When doing (agglomerative/bottom-up) hierarchical clustering, we can use one out of many different methods for clustering\n",
    "# 'single-link' is typically NOT recommended; 'complete', 'average' and 'ward' are more common in this context\n",
    "\n",
    "# Using the (non-weighted) average clustering approach, we create our clustering object\n",
    "Z=sch.linkage(dist_cond, method='complete')"
   ]
  },
  {
   "cell_type": "code",
   "execution_count": null,
   "metadata": {
    "scrolled": true
   },
   "outputs": [],
   "source": [
    "# Then we can plot the dendrogram for this particular hierarchical clustering\n",
    "plt.figure(figsize=(10, 7))\n",
    "sch.dendrogram(Z,labels=nodelabels) # ...using the nodelabels we extracted in the beginning\n",
    "plt.show()"
   ]
  },
  {
   "cell_type": "code",
   "execution_count": null,
   "metadata": {},
   "outputs": [],
   "source": [
    "# The dendrogram should assist us in choosing a suitable cutoff in the dendrogram\n",
    "# This cutoff will thus specify the number of positions our blockmodel will have,\n",
    "# and which nodes/actors that will be part of different partitions\n",
    "\n",
    "\n",
    "# We use the fcluster function to \"cut\" the dendrogram at a suitable level. First set that threshold/cutoff value:\n",
    "threshold=10\n",
    "\n",
    "partition = sch.fcluster(Z,threshold,'distance')\n",
    "\n",
    "# This 'partition' object is a 1-dimensional array (numpy.ndarray), indicating (for each node) which position it belongs to\n",
    "\n",
    "# Have a look at it:\n",
    "print(partition)"
   ]
  },
  {
   "cell_type": "code",
   "execution_count": null,
   "metadata": {},
   "outputs": [],
   "source": [
    "# Check that you got the number of partitions that you wanted\n",
    "len(np.unique(partition))"
   ]
  },
  {
   "cell_type": "code",
   "execution_count": null,
   "metadata": {},
   "outputs": [],
   "source": [
    "# An alternative (and better) way to store this partition is in the form of a dictionary, of lists\n",
    "# In the blockmodeling library, I have created a function that generates such a dictionary, from your partition list\n",
    "\n",
    "blockdict=bm.createBlockdict(partition)\n",
    "\n",
    "# Display it and you will see\n",
    "bm.displayBlockdict(blockdict,nodelabels)"
   ]
  },
  {
   "cell_type": "code",
   "execution_count": null,
   "metadata": {},
   "outputs": [],
   "source": [
    "# Finally, given your original sociomatrix (max),\n",
    "# the partition you have found (blockdict), and\n",
    "# the nodelabels, you can display the final blockmodel\n",
    "\n",
    "bm.displayBlockmodel(mat,blockdict,nodelabels)"
   ]
  },
  {
   "cell_type": "code",
   "execution_count": null,
   "metadata": {},
   "outputs": [],
   "source": [
    "# To assist in interpreting this, I have created a function for\n",
    "# calculating block densities. It returns a numpy ndarray, containing the\n",
    "# block densities for the partition specified in blockdict\n",
    "# This blockimage is sorted according to the indices of blockdict,\n",
    "# i.e. following the same order as the blockmodel above\n",
    "\n",
    "densityBI=bm.calcDensityBlockimage(mat,blockdict)\n",
    "\n",
    "print(np.around(densityBI,decimals=2))"
   ]
  },
  {
   "cell_type": "code",
   "execution_count": null,
   "metadata": {},
   "outputs": [],
   "source": [
    "# Values below 0.5 are thus closer to a null block\n",
    "# and values above 0.5 are closer to a complete block\n",
    "\n",
    "# But ideally, these values should be either close to zero or unity"
   ]
  }
 ],
 "metadata": {
  "kernelspec": {
   "display_name": "Python 3",
   "language": "python",
   "name": "python3"
  },
  "language_info": {
   "codemirror_mode": {
    "name": "ipython",
    "version": 3
   },
   "file_extension": ".py",
   "mimetype": "text/x-python",
   "name": "python",
   "nbconvert_exporter": "python",
   "pygments_lexer": "ipython3",
   "version": "3.7.4"
  }
 },
 "nbformat": 4,
 "nbformat_minor": 2
}
