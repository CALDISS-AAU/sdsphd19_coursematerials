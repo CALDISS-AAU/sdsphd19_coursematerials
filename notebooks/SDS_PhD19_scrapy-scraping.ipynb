{
 "cells": [
  {
   "cell_type": "markdown",
   "metadata": {},
   "source": [
    "We start out by importing beautifulsoup and requests"
   ]
  },
  {
   "cell_type": "code",
   "execution_count": null,
   "metadata": {},
   "outputs": [],
   "source": [
    "from bs4 import BeautifulSoup\n",
    "import requests"
   ]
  },
  {
   "cell_type": "markdown",
   "metadata": {},
   "source": [
    "We create a list of all the links we want the script to look at. In this case, all the text on all domains at sociology at Aalborg University."
   ]
  },
  {
   "cell_type": "code",
   "execution_count": null,
   "metadata": {},
   "outputs": [],
   "source": [
    "my_list=[\n",
    "        \"https://www.sociologi.aau.dk/\",\"https://www.sociologi.aau.dk/?rss=36\",\"https://www.sociologi.aau.dk/international-students/\",\"https://www.sociologi.aau.dk/til-nye-studerende/\",\n",
    "        \"http://www.sociologi.aau.dk/kandidatuddannelse/Projektorienteret+forl%C3%B8b/\",\"https://www.sociologi.aau.dk/studienaevn/Udlands-ophold/\",\"https://www.sociologi.aau.dk/bacheloruddannelse/\",\"https://www.sociologi.aau.dk/eksamen/\",\"https://www.sociologi.aau.dk/studienaevn/\",\"https://www.sociologi.aau.dk/bekendtgoerelser/\",\"https://www.sociologi.aau.dk/sociologiske-forskningsgrupper/\",\"https://www.sociologi.aau.dk/kandidatuddannelse/\",\"https://www.sociologi.aau.dk/tilmeldingsblanketter/\",\"https://www.sociologi.aau.dk/praktisk-information/\",\"https://www.sociologi.aau.dk/kvalitetssikring/\",\"https://www.sociologi.aau.dk/kontakt/\",\"https://www.sociologi.aau.dk/.\",\"https://www.sociologi.aau.dk/kandidatuddannelse/Projektorienteret+forl%c3%b8b/\",\"https://www.sociologi.aau.dk/arrangementer/\",\"https://www.sociologi.aau.dk/bacheloruddannelse/semesterbeskrivelser/\",\n",
    "        \"https://www.sociologi.aau.dk/bacheloruddannelse/valgfag/\",\"https://www.sociologi.aau.dk/bacheloruddannelse/studieordninger/\",\"https://www.sociologi.aau.dk/bacheloruddannelse/Regler+og+retningslinjer+for+gruppearbejde+p%C3%A5+Sociologiuddannelsen/\",\"https://www.sociologi.aau.dk/studienaevn/dispensationer/\",\"http://www.sociologi.aau.dk/studienaevn/ansoegninger-studienaevn/\",\"https://www.sociologi.aau.dk/studienaevn/M%C3%B8deplan+2019+med+dagsorden+og+referat/\",\"https://www.sociologi.aau.dk/studienaevn/arkiv-moeder/\",\"https://www.sociologi.aau.dk/studienaevn/studienaevnets-medlemmer/\",\"https://www.sociologi.aau.dk/studienaevn/ansoegninger-studienaevn/\",\"https://www.sociologi.aau.dk/eksamen/projekteksamen/\",\"https://www.sociologi.aau.dk/eksamen/eksamensordning-tilmelding/\",\"https://www.sociologi.aau.dk/eksamen/digital+eksamen/\",\n",
    "        \"https://www.sociologi.aau.dk/kandidatuddannelse/semesterbeskrivelser/\",\"https://www.sociologi.aau.dk/kandidatuddannelse/Studieordningen/\",\"https://www.sociologi.aau.dk/kandidatuddannelse/specialiseringer/\",\"https://www.sociologi.aau.dk/kandidatuddannelse/Projektorienteret+forl%C3%B8b/\",\"https://www.sociologi.aau.dk/kandidatuddannelse/Regler+og+retningslinjer+for+gruppearbejde+p%C3%A5+Sociologiuddannelsen/\",\"https://www.sociologi.aau.dk/arrangementer/?rss=6\",\"https://www.sociologi.aau.dk/sociologiske-forskningsgrupper/castor/\",\"https://www.sociologi.aau.dk/sociologiske-forskningsgrupper/dansk-sociologforening/\",\"https://www.sociologi.aau.dk/sociologiske-forskningsgrupper/saga/\",\"https://www.sociologi.aau.dk/sociologiske-forskningsgrupper/socmap/\",\n",
    "    ]\n"
   ]
  },
  {
   "cell_type": "markdown",
   "metadata": {},
   "source": [
    "Now for the actual (and this this case really easy) scrape"
   ]
  },
  {
   "cell_type": "code",
   "execution_count": null,
   "metadata": {},
   "outputs": [],
   "source": [
    "for links in my_list:\n",
    "    print(links)\n",
    "    page_response = requests.get(links, timeout=15)\n",
    "    page_contents = BeautifulSoup(page_response.content, \"html.parser\").find_all('p')\n",
    "\n",
    "    for content in page_contents:\n",
    "        print(content.text)\n",
    "        with open(\"sociologi.txt\",\"a\",encoding=\"utf-8\") as f:\n",
    "            f.write('\\n')\n",
    "            f.write(links)\n",
    "            f.write('\\n')\n",
    "            f.write(content.text)\n",
    "            f.write('\\n')"
   ]
  }
 ],
 "metadata": {
  "kernelspec": {
   "display_name": "Python 3",
   "language": "python",
   "name": "python3"
  },
  "language_info": {
   "codemirror_mode": {
    "name": "ipython",
    "version": 3
   },
   "file_extension": ".py",
   "mimetype": "text/x-python",
   "name": "python",
   "nbconvert_exporter": "python",
   "pygments_lexer": "ipython3",
   "version": "3.7.4"
  }
 },
 "nbformat": 4,
 "nbformat_minor": 2
}
