{
  "nbformat": 4,
  "nbformat_minor": 0,
  "metadata": {
    "colab": {
      "name": "Tweet-search - twint",
      "provenance": [],
      "include_colab_link": true
    },
    "kernelspec": {
      "name": "python3",
      "display_name": "Python 3"
    }
  },
  "cells": [
    {
      "cell_type": "markdown",
      "metadata": {
        "id": "view-in-github",
        "colab_type": "text"
      },
      "source": [
        "<a href=\"https://colab.research.google.com/github/CALDISS-AAU/sdsphd19_coursematerials/blob/master/notebooks/Tweet_search_twint.ipynb\" target=\"_parent\"><img src=\"https://colab.research.google.com/assets/colab-badge.svg\" alt=\"Open In Colab\"/></a>"
      ]
    },
    {
      "cell_type": "markdown",
      "metadata": {
        "id": "wszoTNyeBGyU",
        "colab_type": "text"
      },
      "source": [
        "# Getting twitter data - Easy and without API\n",
        "\n",
        "In this short tutorial we are going to use Twint - https://pypi.org/project/twint/ to get Twitter data. This is a relatively new package that manages to get around Twitter's API. Use with care...\n",
        "\n",
        "<img src=\"https://media.giphy.com/media/SMKiEh9WDO6ze/giphy.gif\" alt=\"Girl in a jacket\" width=\"300\">\n",
        "\n",
        "We will cover 2 cases:\n",
        "\n",
        "\n",
        "\n",
        "*   Searching for tweets\n",
        "*   Extracting followers/following\n",
        "\n",
        "**tl;dr Benefits** (from Twint authors)\n",
        "Some of the benefits of using Twint vs Twitter API:\n",
        "\n",
        "- Can fetch almost all Tweets (Twitter API limits to last 3200 Tweets only);\n",
        "- Fast initial setup;\n",
        "- Can be used anonymously and without Twitter sign up;\n",
        "- No rate limitations.\n",
        "\n"
      ]
    },
    {
      "cell_type": "code",
      "metadata": {
        "id": "n7SpTq3oZ_nn",
        "colab_type": "code",
        "outputId": "8e959b7f-8ec7-4a30-e0e7-668b98787c86",
        "colab": {
          "base_uri": "https://localhost:8080/",
          "height": 119
        }
      },
      "source": [
        "\n",
        "!pip3 install -qq twint\n",
        "!pip install -qq whatthelang"
      ],
      "execution_count": 0,
      "outputs": [
        {
          "output_type": "stream",
          "text": [
            "\u001b[K     |████████████████████████████████| 788kB 5.0MB/s \n",
            "\u001b[K     |████████████████████████████████| 102kB 10.7MB/s \n",
            "\u001b[K     |████████████████████████████████| 245kB 46.7MB/s \n",
            "\u001b[?25h  Building wheel for whatthelang (setup.py) ... \u001b[?25l\u001b[?25hdone\n",
            "  Building wheel for cysignals (setup.py) ... \u001b[?25l\u001b[?25hdone\n",
            "  Building wheel for pyfasttext (setup.py) ... \u001b[?25l\u001b[?25hdone\n"
          ],
          "name": "stdout"
        }
      ]
    },
    {
      "cell_type": "code",
      "metadata": {
        "id": "YBUSmvxYBx9l",
        "colab_type": "code",
        "colab": {}
      },
      "source": [
        "# Import Library\n",
        "import twint"
      ],
      "execution_count": 0,
      "outputs": []
    },
    {
      "cell_type": "markdown",
      "metadata": {
        "id": "YDOzHbrnEP0_",
        "colab_type": "text"
      },
      "source": [
        "## Get tweets\n",
        "\n",
        "In this example you can see, how I got you the lovely #OKBoomer data"
      ]
    },
    {
      "cell_type": "code",
      "metadata": {
        "id": "bJJWsWNzBbub",
        "colab_type": "code",
        "colab": {}
      },
      "source": [
        "# Instantiate and configure the twint-object\n",
        "c = twint.Config()\n",
        "c.Store_object = True\n",
        "c.Pandas =True\n",
        "c.Search = \"#okboomer\"\n",
        "c.Limit = 10000\n",
        "c.Lang = 'en'"
      ],
      "execution_count": 0,
      "outputs": []
    },
    {
      "cell_type": "code",
      "metadata": {
        "id": "KW02ADNCDosg",
        "colab_type": "code",
        "colab": {}
      },
      "source": [
        "# Run search\n",
        "twint.run.Search(c)"
      ],
      "execution_count": 0,
      "outputs": []
    },
    {
      "cell_type": "code",
      "metadata": {
        "id": "ZYIuXe58gBY4",
        "colab_type": "code",
        "outputId": "d5a345af-ced1-4d43-ec1f-c121e93cfd2b",
        "colab": {
          "base_uri": "https://localhost:8080/",
          "height": 479
        }
      },
      "source": [
        "# Quick check\n",
        "twint.storage.panda.Tweets_df.head()"
      ],
      "execution_count": 0,
      "outputs": [
        {
          "output_type": "execute_result",
          "data": {
            "text/html": [
              "<div>\n",
              "<style scoped>\n",
              "    .dataframe tbody tr th:only-of-type {\n",
              "        vertical-align: middle;\n",
              "    }\n",
              "\n",
              "    .dataframe tbody tr th {\n",
              "        vertical-align: top;\n",
              "    }\n",
              "\n",
              "    .dataframe thead th {\n",
              "        text-align: right;\n",
              "    }\n",
              "</style>\n",
              "<table border=\"1\" class=\"dataframe\">\n",
              "  <thead>\n",
              "    <tr style=\"text-align: right;\">\n",
              "      <th></th>\n",
              "      <th>id</th>\n",
              "      <th>conversation_id</th>\n",
              "      <th>created_at</th>\n",
              "      <th>date</th>\n",
              "      <th>timezone</th>\n",
              "      <th>place</th>\n",
              "      <th>tweet</th>\n",
              "      <th>hashtags</th>\n",
              "      <th>cashtags</th>\n",
              "      <th>user_id</th>\n",
              "      <th>user_id_str</th>\n",
              "      <th>username</th>\n",
              "      <th>name</th>\n",
              "      <th>day</th>\n",
              "      <th>hour</th>\n",
              "      <th>link</th>\n",
              "      <th>retweet</th>\n",
              "      <th>nlikes</th>\n",
              "      <th>nreplies</th>\n",
              "      <th>nretweets</th>\n",
              "      <th>quote_url</th>\n",
              "      <th>search</th>\n",
              "      <th>near</th>\n",
              "      <th>geo</th>\n",
              "      <th>source</th>\n",
              "      <th>user_rt_id</th>\n",
              "      <th>user_rt</th>\n",
              "      <th>retweet_id</th>\n",
              "      <th>reply_to</th>\n",
              "      <th>retweet_date</th>\n",
              "    </tr>\n",
              "  </thead>\n",
              "  <tbody>\n",
              "    <tr>\n",
              "      <th>0</th>\n",
              "      <td>1197612747715837953</td>\n",
              "      <td>1197612747715837953</td>\n",
              "      <td>1574368104000</td>\n",
              "      <td>2019-11-21 20:28:24</td>\n",
              "      <td>UTC</td>\n",
              "      <td></td>\n",
              "      <td>Suddenly, #OkBoomer is trending again.  https:...</td>\n",
              "      <td>[#okboomer]</td>\n",
              "      <td>[]</td>\n",
              "      <td>262050686</td>\n",
              "      <td>262050686</td>\n",
              "      <td>DanClarkSports</td>\n",
              "      <td>Dan</td>\n",
              "      <td>3</td>\n",
              "      <td>01</td>\n",
              "      <td>https://twitter.com/DanClarkSports/status/1197...</td>\n",
              "      <td>False</td>\n",
              "      <td>0</td>\n",
              "      <td>0</td>\n",
              "      <td>0</td>\n",
              "      <td>https://twitter.com/Fox35Matt/status/119718535...</td>\n",
              "      <td>#okboomer</td>\n",
              "      <td></td>\n",
              "      <td></td>\n",
              "      <td></td>\n",
              "      <td></td>\n",
              "      <td></td>\n",
              "      <td></td>\n",
              "      <td>[{'user_id': '262050686', 'username': 'DanClar...</td>\n",
              "      <td></td>\n",
              "    </tr>\n",
              "    <tr>\n",
              "      <th>1</th>\n",
              "      <td>1197612550403297280</td>\n",
              "      <td>1197612550403297280</td>\n",
              "      <td>1574368057000</td>\n",
              "      <td>2019-11-21 20:27:37</td>\n",
              "      <td>UTC</td>\n",
              "      <td></td>\n",
              "      <td>I like my role in this 🤷‍♂️ #OkBoomer #GenX pi...</td>\n",
              "      <td>[#okboomer, #genx]</td>\n",
              "      <td>[]</td>\n",
              "      <td>41444665</td>\n",
              "      <td>41444665</td>\n",
              "      <td>sinths</td>\n",
              "      <td>Sven Thomas</td>\n",
              "      <td>2</td>\n",
              "      <td>12</td>\n",
              "      <td>https://twitter.com/sinths/status/119761255040...</td>\n",
              "      <td>False</td>\n",
              "      <td>0</td>\n",
              "      <td>0</td>\n",
              "      <td>0</td>\n",
              "      <td></td>\n",
              "      <td>#okboomer</td>\n",
              "      <td></td>\n",
              "      <td></td>\n",
              "      <td></td>\n",
              "      <td></td>\n",
              "      <td></td>\n",
              "      <td></td>\n",
              "      <td>[{'user_id': '41444665', 'username': 'sinths'}]</td>\n",
              "      <td></td>\n",
              "    </tr>\n",
              "    <tr>\n",
              "      <th>2</th>\n",
              "      <td>1197612190867476481</td>\n",
              "      <td>1197611882955325441</td>\n",
              "      <td>1574367971000</td>\n",
              "      <td>2019-11-21 20:26:11</td>\n",
              "      <td>UTC</td>\n",
              "      <td></td>\n",
              "      <td>He looks allot like you. Old and white.\\n\\n#Ok...</td>\n",
              "      <td>[#okboomer]</td>\n",
              "      <td>[]</td>\n",
              "      <td>1005516908181925888</td>\n",
              "      <td>1005516908181925888</td>\n",
              "      <td>DustFar</td>\n",
              "      <td>FarThrustStarDust</td>\n",
              "      <td>1</td>\n",
              "      <td>12</td>\n",
              "      <td>https://twitter.com/DustFar/status/11976121908...</td>\n",
              "      <td>False</td>\n",
              "      <td>0</td>\n",
              "      <td>1</td>\n",
              "      <td>0</td>\n",
              "      <td></td>\n",
              "      <td>#okboomer</td>\n",
              "      <td></td>\n",
              "      <td></td>\n",
              "      <td></td>\n",
              "      <td></td>\n",
              "      <td></td>\n",
              "      <td></td>\n",
              "      <td>[{'user_id': '1005516908181925888', 'username'...</td>\n",
              "      <td></td>\n",
              "    </tr>\n",
              "    <tr>\n",
              "      <th>3</th>\n",
              "      <td>1197611782669402113</td>\n",
              "      <td>1197611782669402113</td>\n",
              "      <td>1574367874000</td>\n",
              "      <td>2019-11-21 20:24:34</td>\n",
              "      <td>UTC</td>\n",
              "      <td></td>\n",
              "      <td>wait is my university’s president gaslighting ...</td>\n",
              "      <td>[#okboomer]</td>\n",
              "      <td>[]</td>\n",
              "      <td>2509106274</td>\n",
              "      <td>2509106274</td>\n",
              "      <td>summerash99</td>\n",
              "      <td>queer, sultry summer</td>\n",
              "      <td>7</td>\n",
              "      <td>09</td>\n",
              "      <td>https://twitter.com/summerash99/status/1197611...</td>\n",
              "      <td>False</td>\n",
              "      <td>1</td>\n",
              "      <td>0</td>\n",
              "      <td>0</td>\n",
              "      <td></td>\n",
              "      <td>#okboomer</td>\n",
              "      <td></td>\n",
              "      <td></td>\n",
              "      <td></td>\n",
              "      <td></td>\n",
              "      <td></td>\n",
              "      <td></td>\n",
              "      <td>[{'user_id': '2509106274', 'username': 'summer...</td>\n",
              "      <td></td>\n",
              "    </tr>\n",
              "    <tr>\n",
              "      <th>4</th>\n",
              "      <td>1197611614687637504</td>\n",
              "      <td>1197611614687637504</td>\n",
              "      <td>1574367834000</td>\n",
              "      <td>2019-11-21 20:23:54</td>\n",
              "      <td>UTC</td>\n",
              "      <td></td>\n",
              "      <td>Shut up Conway you whiny, fragile fossil. #okb...</td>\n",
              "      <td>[#okboomer, #expirealready]</td>\n",
              "      <td>[]</td>\n",
              "      <td>2789202068</td>\n",
              "      <td>2789202068</td>\n",
              "      <td>Crayondroids</td>\n",
              "      <td>Crayondroids</td>\n",
              "      <td>6</td>\n",
              "      <td>22</td>\n",
              "      <td>https://twitter.com/Crayondroids/status/119761...</td>\n",
              "      <td>False</td>\n",
              "      <td>0</td>\n",
              "      <td>0</td>\n",
              "      <td>0</td>\n",
              "      <td></td>\n",
              "      <td>#okboomer</td>\n",
              "      <td></td>\n",
              "      <td></td>\n",
              "      <td></td>\n",
              "      <td></td>\n",
              "      <td></td>\n",
              "      <td></td>\n",
              "      <td>[{'user_id': '2789202068', 'username': 'Crayon...</td>\n",
              "      <td></td>\n",
              "    </tr>\n",
              "  </tbody>\n",
              "</table>\n",
              "</div>"
            ],
            "text/plain": [
              "                    id  ... retweet_date\n",
              "0  1197612747715837953  ...             \n",
              "1  1197612550403297280  ...             \n",
              "2  1197612190867476481  ...             \n",
              "3  1197611782669402113  ...             \n",
              "4  1197611614687637504  ...             \n",
              "\n",
              "[5 rows x 30 columns]"
            ]
          },
          "metadata": {
            "tags": []
          },
          "execution_count": 35
        }
      ]
    },
    {
      "cell_type": "markdown",
      "metadata": {
        "id": "nXeXUL_yFilw",
        "colab_type": "text"
      },
      "source": [
        "### The End (of the data extraction)\n",
        "the stuff below is just some cleanup..."
      ]
    },
    {
      "cell_type": "code",
      "metadata": {
        "id": "uWmqmKbbiRx6",
        "colab_type": "code",
        "colab": {}
      },
      "source": [
        "# Cleanup\n",
        "tweets = twint.storage.panda.Tweets_df.drop_duplicates(subset=['id'])"
      ],
      "execution_count": 0,
      "outputs": []
    },
    {
      "cell_type": "code",
      "metadata": {
        "id": "maX3YS-1iYQZ",
        "colab_type": "code",
        "colab": {}
      },
      "source": [
        "# Reindex\n",
        "tweets.index = range(len(tweets))"
      ],
      "execution_count": 0,
      "outputs": []
    },
    {
      "cell_type": "code",
      "metadata": {
        "id": "fHwamqw4jF6z",
        "colab_type": "code",
        "colab": {}
      },
      "source": [
        "# Remove non-english\n",
        "from whatthelang import WhatTheLang\n",
        "wtl = WhatTheLang()"
      ],
      "execution_count": 0,
      "outputs": []
    },
    {
      "cell_type": "code",
      "metadata": {
        "id": "zMBEdgFEjLUP",
        "colab_type": "code",
        "colab": {}
      },
      "source": [
        "# This function makes easy to handle exceptions (e.g. no text where text should be)\n",
        "# not really needed but can be useful \n",
        "\n",
        "def detect_lang(text):\n",
        "    try: \n",
        "        return wtl.predict_lang(text)\n",
        "    except Exception:\n",
        "        return 'exp'"
      ],
      "execution_count": 0,
      "outputs": []
    },
    {
      "cell_type": "code",
      "metadata": {
        "id": "l9rlZgXgjXDw",
        "colab_type": "code",
        "outputId": "d7e23c68-b273-44d9-c11d-9bf0156cde67",
        "colab": {
          "base_uri": "https://localhost:8080/",
          "height": 51
        }
      },
      "source": [
        "# Added performance measure here...you can leave teh %%time line out\n",
        "\n",
        "%%time\n",
        "\n",
        "tweets['lang'] = tweets['tweet'].map(lambda t: detect_lang(t))"
      ],
      "execution_count": 0,
      "outputs": [
        {
          "output_type": "stream",
          "text": [
            "CPU times: user 383 ms, sys: 1.01 ms, total: 384 ms\n",
            "Wall time: 390 ms\n"
          ],
          "name": "stdout"
        }
      ]
    },
    {
      "cell_type": "code",
      "metadata": {
        "id": "rCPieQn9j3MV",
        "colab_type": "code",
        "colab": {}
      },
      "source": [
        "# keep only english\n",
        "\n",
        "tweets = tweets[tweets.lang == 'en']"
      ],
      "execution_count": 0,
      "outputs": []
    },
    {
      "cell_type": "code",
      "metadata": {
        "id": "w1VSc-YxknvE",
        "colab_type": "code",
        "colab": {}
      },
      "source": [
        "# Done\n",
        "\n",
        "tweets.to_json('tweets_boomer.json')"
      ],
      "execution_count": 0,
      "outputs": []
    },
    {
      "cell_type": "markdown",
      "metadata": {
        "id": "QywSTKb6ETB1",
        "colab_type": "text"
      },
      "source": [
        "## Get peoples' connections"
      ]
    },
    {
      "cell_type": "markdown",
      "metadata": {
        "id": "_B-5weE8FJfd",
        "colab_type": "text"
      },
      "source": [
        "This is a short analysis in which I combine (very) basic scraping with extraction of Twitter networks and network analysis. \n",
        "The purpose was to identify interesting people on Twitter for me to follow...\n",
        "\n",
        "The appropach:\n",
        "\n",
        "- Fet links to all shows\n",
        "- Fetch links to twitter-accounts form the shownotes\n",
        "- Use these URLs to identify users\n",
        "- Scrape all people these people follow\n",
        "\n",
        "Assumption: People that are followed by people that are invited on TwimlAI are people, I should be following...\n",
        "\n"
      ]
    },
    {
      "cell_type": "code",
      "metadata": {
        "id": "0q8OwylNKpoW",
        "colab_type": "code",
        "colab": {}
      },
      "source": [
        "# Import libraries\n",
        "import re\n",
        "import pickle # pickle is for storing element...pickling... you can store any kind of python object with that\n",
        "import requests as rq"
      ],
      "execution_count": 0,
      "outputs": []
    },
    {
      "cell_type": "code",
      "metadata": {
        "id": "f3mCF_w9K-dy",
        "colab_type": "code",
        "colab": {}
      },
      "source": [
        "# Load HTML parser library...yes, that's its name.\n",
        "from bs4 import BeautifulSoup"
      ],
      "execution_count": 0,
      "outputs": []
    },
    {
      "cell_type": "code",
      "metadata": {
        "id": "L5_XGrPaK7M5",
        "colab_type": "code",
        "colab": {}
      },
      "source": [
        "# Get URLs of all TWIML shows\n",
        "r = rq.get('https://twimlai.com/shows/')"
      ],
      "execution_count": 0,
      "outputs": []
    },
    {
      "cell_type": "code",
      "metadata": {
        "id": "8r9j0Q46K_t-",
        "colab_type": "code",
        "colab": {}
      },
      "source": [
        "# Parse the HTML\n",
        "soup = BeautifulSoup(r.text)"
      ],
      "execution_count": 0,
      "outputs": []
    },
    {
      "cell_type": "code",
      "metadata": {
        "id": "UGNoxJLELbJ4",
        "colab_type": "code",
        "colab": {}
      },
      "source": [
        "# Fetch all links from parsed HTML\n",
        "links = soup.find_all('a')"
      ],
      "execution_count": 0,
      "outputs": []
    },
    {
      "cell_type": "code",
      "metadata": {
        "id": "ISt5Oe5EMJg6",
        "colab_type": "code",
        "colab": {}
      },
      "source": [
        "# Keep only links leading to a twiml-podcast\n",
        "links = [l.attrs['href'] for l in links if l.attrs['href'].startswith('https://twimlai.com/twiml-talk')]"
      ],
      "execution_count": 0,
      "outputs": []
    },
    {
      "cell_type": "code",
      "metadata": {
        "id": "HpkIUNL4Mb97",
        "colab_type": "code",
        "colab": {}
      },
      "source": [
        "# Drop duplicated links\n",
        "links = list(set(links))"
      ],
      "execution_count": 0,
      "outputs": []
    },
    {
      "cell_type": "code",
      "metadata": {
        "id": "JOO05iDkfmA8",
        "colab_type": "code",
        "colab": {}
      },
      "source": [
        "# Iterate and fetch show-notes, then extract links leading to twitter. \n",
        "twitter_urls = []\n",
        "for link in links:\n",
        "  show = rq.get(link) # get shownotes \n",
        "  soup = BeautifulSoup(show.text) # parse\n",
        "  show_links = soup.find_all('a') # find links \n",
        "  show_links = [l.attrs['href'] for l in show_links if l.attrs['href'].startswith('https://twitter.com')] # keep only links to twitter\n",
        "  twitter_urls.extend(show_links) # store"
      ],
      "execution_count": 0,
      "outputs": []
    },
    {
      "cell_type": "code",
      "metadata": {
        "id": "rd-OhmSuQLrZ",
        "colab_type": "code",
        "colab": {}
      },
      "source": [
        "# Store the lovely list of links to twitter profiles\n",
        "pickle.dump(list(set(twitter_urls)), open('twitter-list.p','wb'))"
      ],
      "execution_count": 0,
      "outputs": []
    },
    {
      "cell_type": "code",
      "metadata": {
        "id": "1hhFblsXZm0q",
        "colab_type": "code",
        "colab": {}
      },
      "source": [
        "# Unless already imported\n",
        "import twint\n",
        "import numpy as np"
      ],
      "execution_count": 0,
      "outputs": []
    },
    {
      "cell_type": "code",
      "metadata": {
        "id": "ws0uHEKvlU5Q",
        "colab_type": "code",
        "colab": {}
      },
      "source": [
        "# Filter out tooooo long twitter links that are more than likely not profiles\n",
        "usernames = [x.replace('https://twitter.com/','') for x in set(twitter_urls) if len(x) <= 50]"
      ],
      "execution_count": 0,
      "outputs": []
    },
    {
      "cell_type": "code",
      "metadata": {
        "id": "AjAc-FD4OwRw",
        "colab_type": "code",
        "colab": {}
      },
      "source": [
        "# Profile lookup\n",
        "\n",
        "for username in usernames:\n",
        "  c = twint.Config()\n",
        "  c.Username = username\n",
        "  c.Store_object = True\n",
        "  c.User_full = False\n",
        "  c.Pandas =True\n",
        "  twint.run.Lookup(c)"
      ],
      "execution_count": 0,
      "outputs": []
    },
    {
      "cell_type": "code",
      "metadata": {
        "id": "3UdlnGAWJKjU",
        "colab_type": "code",
        "colab": {}
      },
      "source": [
        "# Store in a DF\n",
        "user_df = twint.storage.panda.User_df.drop_duplicates(subset=['id'])"
      ],
      "execution_count": 0,
      "outputs": []
    },
    {
      "cell_type": "code",
      "metadata": {
        "id": "s7ewsMJAZJQ9",
        "colab_type": "code",
        "colab": {}
      },
      "source": [
        "#Store away\n",
        "user_df.to_csv('user_df.csv')"
      ],
      "execution_count": 0,
      "outputs": []
    },
    {
      "cell_type": "code",
      "metadata": {
        "id": "1GmoylsTVVWI",
        "colab_type": "code",
        "colab": {}
      },
      "source": [
        "# Or like that\n",
        "user_df[['bio','username']].to_csv('short.csv')"
      ],
      "execution_count": 0,
      "outputs": []
    },
    {
      "cell_type": "code",
      "metadata": {
        "id": "k0XBKyrAe2nT",
        "colab_type": "code",
        "colab": {}
      },
      "source": [
        "# Clean up\n",
        "twint.storage.panda.clean()\n",
        "twint.output.clean_follow_list()"
      ],
      "execution_count": 0,
      "outputs": []
    },
    {
      "cell_type": "code",
      "metadata": {
        "id": "rlI6EyXlr-6H",
        "colab_type": "code",
        "outputId": "f30d84e3-f5c6-436c-926b-3c3d12994d4e",
        "colab": {
          "base_uri": "https://localhost:8080/",
          "height": 122
        }
      },
      "source": [
        "# Connect Google drive\n",
        "from google.colab import drive\n",
        "drive.mount('/content/drive')"
      ],
      "execution_count": 0,
      "outputs": [
        {
          "output_type": "stream",
          "text": [
            "Go to this URL in a browser: https://accounts.google.com/o/oauth2/auth?client_id=947318989803-6bn6qk8qdgf4n4g3pfee6491hc0brc4i.apps.googleusercontent.com&redirect_uri=urn%3Aietf%3Awg%3Aoauth%3A2.0%3Aoob&scope=email%20https%3A%2F%2Fwww.googleapis.com%2Fauth%2Fdocs.test%20https%3A%2F%2Fwww.googleapis.com%2Fauth%2Fdrive%20https%3A%2F%2Fwww.googleapis.com%2Fauth%2Fdrive.photos.readonly%20https%3A%2F%2Fwww.googleapis.com%2Fauth%2Fpeopleapi.readonly&response_type=code\n",
            "\n",
            "Enter your authorization code:\n",
            "··········\n",
            "Mounted at /content/drive\n"
          ],
          "name": "stdout"
        }
      ]
    },
    {
      "cell_type": "markdown",
      "metadata": {
        "id": "lxyL3n5fJfDN",
        "colab_type": "text"
      },
      "source": [
        "Unfortunately getting followers is not as easy. It requires some trickery. In this case I decided to write out the followers of each person as a pickle file to disk. This happened after I realized that I often get blank responses. Writing on disk of individual DFs with followers allowed me to spot the ones that are empty and remove by hand. Probably there is a smarter solution to that somewhere"
      ]
    },
    {
      "cell_type": "code",
      "metadata": {
        "id": "R4anxeOYZytq",
        "colab_type": "code",
        "colab": {}
      },
      "source": [
        "# we iterate over the different usernames and store follower dataframe\n",
        "for u in user_df['username']:\n",
        "  c = twint.Config()\n",
        "  c.Username = u\n",
        "  c.Store_object = True\n",
        "  c.User_full = False\n",
        "  c.Pandas = True\n",
        "  c.Store_pandas = True\n",
        "  c.Stats = False\n",
        "  c.Hide_output = True\n",
        "\n",
        "  twint.run.Following(c)\n",
        "  twint.storage.panda.Follow_df.to_pickle(\"/content/drive/My Drive/Colab/TWIML-guests/{}.p\".format(u))\n",
        "  twint.storage.panda.clean()\n",
        "  twint.output.clean_follow_list()"
      ],
      "execution_count": 0,
      "outputs": []
    },
    {
      "cell_type": "code",
      "metadata": {
        "id": "Scek9Zxf9u6D",
        "colab_type": "code",
        "colab": {}
      },
      "source": [
        "# To get the data back we use glob...which will help us dealing with many tiny filed\n",
        "import glob"
      ],
      "execution_count": 0,
      "outputs": []
    },
    {
      "cell_type": "code",
      "metadata": {
        "id": "-dpBbfUD9wXH",
        "colab_type": "code",
        "colab": {}
      },
      "source": [
        "# Get paths of all stored files\n",
        "paths = glob.glob('/content/drive/My Drive/Colab/TWIML-guests/*.*')"
      ],
      "execution_count": 0,
      "outputs": []
    },
    {
      "cell_type": "code",
      "metadata": {
        "id": "7SXO4fPnqb4N",
        "colab_type": "code",
        "colab": {}
      },
      "source": [
        "# Create an edgelist\n",
        "# read stored DFs with following, append into long edgelist\n",
        "\n",
        "empty = []\n",
        "edgelist = pd.DataFrame(columns = ['target', 'source'])\n",
        "for path in paths:\n",
        "  df = pd.read_pickle(path)\n",
        "  if len(df) == 1:\n",
        "    name = df.index[0]\n",
        "    edges = pd.DataFrame(df['following'][name], columns=['target'])\n",
        "    edges['source'] = name\n",
        "    edgelist = edgelist.append(edges)\n",
        "  else:\n",
        "    empty.append(path)"
      ],
      "execution_count": 0,
      "outputs": []
    },
    {
      "cell_type": "code",
      "metadata": {
        "id": "TBJbG-ww-sL6",
        "colab_type": "code",
        "colab": {}
      },
      "source": [
        "# Reindex\n",
        "\n",
        "edgelist.index = range(edgelist.shape[0])"
      ],
      "execution_count": 0,
      "outputs": []
    },
    {
      "cell_type": "markdown",
      "metadata": {
        "id": "agpXQRN0KuOJ",
        "colab_type": "text"
      },
      "source": [
        "### From here: Network analysis 101"
      ]
    },
    {
      "cell_type": "code",
      "metadata": {
        "id": "j7zP0D2V-uxu",
        "colab_type": "code",
        "colab": {}
      },
      "source": [
        "import networkx as nx\n",
        "from networkx.algorithms import bipartite "
      ],
      "execution_count": 0,
      "outputs": []
    },
    {
      "cell_type": "code",
      "metadata": {
        "id": "XBsbcSlm_Vtj",
        "colab_type": "code",
        "colab": {}
      },
      "source": [
        "G = nx.DiGraph()"
      ],
      "execution_count": 0,
      "outputs": []
    },
    {
      "cell_type": "code",
      "metadata": {
        "id": "A8a5zmE__V0d",
        "colab_type": "code",
        "colab": {}
      },
      "source": [
        "G.add_edges_from([(u,v) for (u,v) in zip(edgelist['source'],edgelist['target'])])"
      ],
      "execution_count": 0,
      "outputs": []
    },
    {
      "cell_type": "code",
      "metadata": {
        "id": "hIjvwsFe_V-J",
        "colab_type": "code",
        "outputId": "f2ac3ccf-fba6-4249-e78d-a2371f9f8840",
        "colab": {
          "base_uri": "https://localhost:8080/",
          "height": 34
        }
      },
      "source": [
        "len(G.nodes)"
      ],
      "execution_count": 0,
      "outputs": [
        {
          "output_type": "execute_result",
          "data": {
            "text/plain": [
              "87738"
            ]
          },
          "metadata": {
            "tags": []
          },
          "execution_count": 415
        }
      ]
    },
    {
      "cell_type": "code",
      "metadata": {
        "id": "VF9LRMnc_V8e",
        "colab_type": "code",
        "colab": {}
      },
      "source": [
        "eigenvector = nx.eigenvector_centrality(G)"
      ],
      "execution_count": 0,
      "outputs": []
    },
    {
      "cell_type": "code",
      "metadata": {
        "id": "A3NTBtld_V4P",
        "colab_type": "code",
        "colab": {}
      },
      "source": [
        "nx.set_node_attributes(G, eigenvector, 'eigenvector_centrality')"
      ],
      "execution_count": 0,
      "outputs": []
    },
    {
      "cell_type": "code",
      "metadata": {
        "id": "YTsg0ZRDAzXp",
        "colab_type": "code",
        "colab": {}
      },
      "source": [
        "import community"
      ],
      "execution_count": 0,
      "outputs": []
    },
    {
      "cell_type": "code",
      "metadata": {
        "id": "GRjTFCweA4Hq",
        "colab_type": "code",
        "colab": {}
      },
      "source": [
        "G_und = G.to_undirected()"
      ],
      "execution_count": 0,
      "outputs": []
    },
    {
      "cell_type": "code",
      "metadata": {
        "id": "bPqvt5X0A4fh",
        "colab_type": "code",
        "colab": {}
      },
      "source": [
        "communities = community.best_partition(G_und, resolution = 1)\n",
        "nx.set_node_attributes(G, communities, 'community')"
      ],
      "execution_count": 0,
      "outputs": []
    },
    {
      "cell_type": "code",
      "metadata": {
        "id": "JGNNhqv1Hb8Y",
        "colab_type": "code",
        "colab": {}
      },
      "source": [
        "perc_filter = np.percentile([v for u,v in eigenvector.items()], 90)"
      ],
      "execution_count": 0,
      "outputs": []
    },
    {
      "cell_type": "code",
      "metadata": {
        "id": "EqTrTKviHjZW",
        "colab_type": "code",
        "colab": {}
      },
      "source": [
        "nodes_selected = [x for x,y in eigenvector.items() if y >= perc_filter]\n",
        "\n",
        "G_sub = G.subgraph(nodes_selected)"
      ],
      "execution_count": 0,
      "outputs": []
    },
    {
      "cell_type": "code",
      "metadata": {
        "id": "KX6na4vFPOcU",
        "colab_type": "code",
        "colab": {}
      },
      "source": [
        "communities = community.best_partition(G_sub.to_undirected(), resolution = 1)\n",
        "nx.set_node_attributes(G_sub, communities, 'community_2')"
      ],
      "execution_count": 0,
      "outputs": []
    },
    {
      "cell_type": "code",
      "metadata": {
        "id": "IR786gP9Hrzx",
        "colab_type": "code",
        "outputId": "5a1bccf3-1e49-4aac-d350-86d0aa6cc353",
        "colab": {
          "base_uri": "https://localhost:8080/",
          "height": 34
        }
      },
      "source": [
        "len(G_sub.nodes)"
      ],
      "execution_count": 0,
      "outputs": [
        {
          "output_type": "execute_result",
          "data": {
            "text/plain": [
              "6772"
            ]
          },
          "metadata": {
            "tags": []
          },
          "execution_count": 493
        }
      ]
    },
    {
      "cell_type": "code",
      "metadata": {
        "id": "0Y5HhMrgH2kM",
        "colab_type": "code",
        "colab": {}
      },
      "source": [
        "nx.write_gexf(G_sub, 'twiml.gexf')"
      ],
      "execution_count": 0,
      "outputs": []
    },
    {
      "cell_type": "code",
      "metadata": {
        "id": "izI0DgleC6ce",
        "colab_type": "code",
        "colab": {}
      },
      "source": [
        "net_df = pd.DataFrame(dict(G_sub.nodes(data=True))).T"
      ],
      "execution_count": 0,
      "outputs": []
    },
    {
      "cell_type": "code",
      "metadata": {
        "id": "z4XK5oX1C6oi",
        "colab_type": "code",
        "outputId": "825f1888-49d7-404f-ffd4-f5db60230f61",
        "colab": {
          "base_uri": "https://localhost:8080/",
          "height": 450
        }
      },
      "source": [
        "net_df.groupby('community_2').apply(lambda t: t.sort_values(['eigenvector_centrality'],ascending=False)[:10])"
      ],
      "execution_count": 0,
      "outputs": [
        {
          "output_type": "execute_result",
          "data": {
            "text/html": [
              "<div>\n",
              "<style scoped>\n",
              "    .dataframe tbody tr th:only-of-type {\n",
              "        vertical-align: middle;\n",
              "    }\n",
              "\n",
              "    .dataframe tbody tr th {\n",
              "        vertical-align: top;\n",
              "    }\n",
              "\n",
              "    .dataframe thead th {\n",
              "        text-align: right;\n",
              "    }\n",
              "</style>\n",
              "<table border=\"1\" class=\"dataframe\">\n",
              "  <thead>\n",
              "    <tr style=\"text-align: right;\">\n",
              "      <th></th>\n",
              "      <th></th>\n",
              "      <th>eigenvector_centrality</th>\n",
              "      <th>community</th>\n",
              "      <th>community_2</th>\n",
              "    </tr>\n",
              "    <tr>\n",
              "      <th>community_2</th>\n",
              "      <th></th>\n",
              "      <th></th>\n",
              "      <th></th>\n",
              "      <th></th>\n",
              "    </tr>\n",
              "  </thead>\n",
              "  <tbody>\n",
              "    <tr>\n",
              "      <th rowspan=\"5\" valign=\"top\">0.0</th>\n",
              "      <th>ylecun</th>\n",
              "      <td>0.086733</td>\n",
              "      <td>4.0</td>\n",
              "      <td>0.0</td>\n",
              "    </tr>\n",
              "    <tr>\n",
              "      <th>AndrewYNg</th>\n",
              "      <td>0.070358</td>\n",
              "      <td>3.0</td>\n",
              "      <td>0.0</td>\n",
              "    </tr>\n",
              "    <tr>\n",
              "      <th>demishassabis</th>\n",
              "      <td>0.065999</td>\n",
              "      <td>4.0</td>\n",
              "      <td>0.0</td>\n",
              "    </tr>\n",
              "    <tr>\n",
              "      <th>GoogleAI</th>\n",
              "      <td>0.061435</td>\n",
              "      <td>3.0</td>\n",
              "      <td>0.0</td>\n",
              "    </tr>\n",
              "    <tr>\n",
              "      <th>BillGates</th>\n",
              "      <td>0.058128</td>\n",
              "      <td>12.0</td>\n",
              "      <td>0.0</td>\n",
              "    </tr>\n",
              "    <tr>\n",
              "      <th>...</th>\n",
              "      <th>...</th>\n",
              "      <td>...</td>\n",
              "      <td>...</td>\n",
              "      <td>...</td>\n",
              "    </tr>\n",
              "    <tr>\n",
              "      <th rowspan=\"5\" valign=\"top\">8.0</th>\n",
              "      <th>DeepMindAI</th>\n",
              "      <td>0.070552</td>\n",
              "      <td>4.0</td>\n",
              "      <td>8.0</td>\n",
              "    </tr>\n",
              "    <tr>\n",
              "      <th>OpenAI</th>\n",
              "      <td>0.067212</td>\n",
              "      <td>4.0</td>\n",
              "      <td>8.0</td>\n",
              "    </tr>\n",
              "    <tr>\n",
              "      <th>pabbeel</th>\n",
              "      <td>0.065127</td>\n",
              "      <td>4.0</td>\n",
              "      <td>8.0</td>\n",
              "    </tr>\n",
              "    <tr>\n",
              "      <th>drfeifei</th>\n",
              "      <td>0.065037</td>\n",
              "      <td>4.0</td>\n",
              "      <td>8.0</td>\n",
              "    </tr>\n",
              "    <tr>\n",
              "      <th>fchollet</th>\n",
              "      <td>0.065032</td>\n",
              "      <td>4.0</td>\n",
              "      <td>8.0</td>\n",
              "    </tr>\n",
              "  </tbody>\n",
              "</table>\n",
              "<p>90 rows × 3 columns</p>\n",
              "</div>"
            ],
            "text/plain": [
              "                           eigenvector_centrality  community  community_2\n",
              "community_2                                                              \n",
              "0.0         ylecun                       0.086733        4.0          0.0\n",
              "            AndrewYNg                    0.070358        3.0          0.0\n",
              "            demishassabis                0.065999        4.0          0.0\n",
              "            GoogleAI                     0.061435        3.0          0.0\n",
              "            BillGates                    0.058128       12.0          0.0\n",
              "...                                           ...        ...          ...\n",
              "8.0         DeepMindAI                   0.070552        4.0          8.0\n",
              "            OpenAI                       0.067212        4.0          8.0\n",
              "            pabbeel                      0.065127        4.0          8.0\n",
              "            drfeifei                     0.065037        4.0          8.0\n",
              "            fchollet                     0.065032        4.0          8.0\n",
              "\n",
              "[90 rows x 3 columns]"
            ]
          },
          "metadata": {
            "tags": []
          },
          "execution_count": 503
        }
      ]
    },
    {
      "cell_type": "code",
      "metadata": {
        "id": "E_JQLB6nGTWH",
        "colab_type": "code",
        "colab": {}
      },
      "source": [
        "nlp_ppl = net_df[net_df.community_2 == 3].sort_values(['eigenvector_centrality'],ascending=False).index"
      ],
      "execution_count": 0,
      "outputs": []
    }
  ]
}