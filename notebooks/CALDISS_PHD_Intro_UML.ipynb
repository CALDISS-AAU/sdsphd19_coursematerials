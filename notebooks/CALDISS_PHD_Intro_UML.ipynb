{
  "nbformat": 4,
  "nbformat_minor": 0,
  "metadata": {
    "colab": {
      "name": "CALDISS_PHD_Intro_UML.ipynb",
      "provenance": [],
      "toc_visible": true,
      "include_colab_link": true
    },
    "kernelspec": {
      "name": "python3",
      "display_name": "Python 3"
    }
  },
  "cells": [
    {
      "cell_type": "markdown",
      "metadata": {
        "id": "view-in-github",
        "colab_type": "text"
      },
      "source": [
        "<a href=\"https://colab.research.google.com/github/CALDISS-AAU/sdsphd19_coursematerials/blob/master/notebooks/CALDISS_PHD_Intro_UML.ipynb\" target=\"_parent\"><img src=\"https://colab.research.google.com/assets/colab-badge.svg\" alt=\"Open In Colab\"/></a>"
      ]
    },
    {
      "cell_type": "markdown",
      "metadata": {
        "id": "NJQTISVhSIPF",
        "colab_type": "text"
      },
      "source": [
        "# Premable"
      ]
    },
    {
      "cell_type": "code",
      "metadata": {
        "id": "ewubjVryR-_V",
        "colab_type": "code",
        "colab": {}
      },
      "source": [
        "import pandas as pd #Pandas handles tabular data\n",
        "pd.set_option('display.float_format', lambda x: '%.3f' % x) # turn off scientific notation and too much decimal blah\n",
        "import matplotlib.pyplot as plt # standard plotting library\n",
        "import numpy as np #Numpy for linear algebra & co\n",
        "import seaborn as sns # For pretty dataviz\n",
        "sns.set_style(\"darkgrid\") # Define style for dataviz"
      ],
      "execution_count": 0,
      "outputs": []
    },
    {
      "cell_type": "markdown",
      "metadata": {
        "id": "FpK2NYvT6Dqu",
        "colab_type": "text"
      },
      "source": [
        "# Introduction to Machine Learning"
      ]
    },
    {
      "cell_type": "markdown",
      "metadata": {
        "id": "1fn4douZ7uzH",
        "colab_type": "text"
      },
      "source": [
        "## General\n",
        "\n",
        "As with any concept, machine learning may have a slightly different definition, depending on whom you ask. A little compilation of definitions by academics and practioneers alike:\n",
        "\n",
        "* \"Machine Learning at its most basic is the practice of using algorithms to parse data, learn from it, and then make a determination or prediction about something in the world.\" - Nvidia \n",
        "* \"Machine learning is the science of getting computers to act without being explicitly programmed.\" - Stanford\n",
        "* \"Machine learning is based on algorithms that can learn from data without relying on rules-based programming.\"- McKinsey & Co.\n",
        "* \"Machine learning algorithms can figure out how to perform important tasks by generalizing from examples.\" - University of Washington\n",
        "* \"The field of Machine Learning seeks to answer the question \"How can we build computer systems that automatically improve with experience, and what are the fundamental laws that govern all learning processes?\" - Carnegie Mellon University\n"
      ]
    },
    {
      "cell_type": "markdown",
      "metadata": {
        "id": "RzhexkzV9fbZ",
        "colab_type": "text"
      },
      "source": [
        "## Supervised vs. Unsupervised ML\n",
        "\n",
        "![](https://www.dropbox.com/s/45m8ef7qsmqbhvs/super_unsuper2.png?dl=1)\n",
        "\n",
        "![](https://www.dropbox.com/s/yeb7tnyo7vkij42/ML_super_unsuper.png?dl=1)\n",
        "\n",
        "### Supervised ML\n",
        "\n",
        "* Concerned with labeling/classification/input-output-mapping/prediction tasks\n",
        "* Subject of the next lecture, so stay patient\n",
        "\n",
        "### Unsupervised ML\n",
        "\n",
        "Tasks related to pattern recognition and data exploration, in dase there yet does not exist a right answer or problem structure. Main applications:\n",
        "\n",
        "1. **Dimensionality reduction:** Finding patterns in the features of the data\n",
        "2. **Clustering:** Finding homogenous subgroups within larger group"
      ]
    },
    {
      "cell_type": "markdown",
      "metadata": {
        "id": "zRUD-kgd9zyY",
        "colab_type": "text"
      },
      "source": [
        "# Dimensionality Reduction Techniques\n"
      ]
    },
    {
      "cell_type": "markdown",
      "metadata": {
        "id": "H3CkZmlK94FO",
        "colab_type": "text"
      },
      "source": [
        "## Introduction\n",
        "\n",
        "Dimensionality reduction techniques are foremost useful to (you might see it coming) reduce the dimensionality of our data. So, what does that mean? And why should we want to do that?\n",
        "\n",
        "Dimensions here is a synonym for variables, so what we want to really do is have less variables. To do that, we have to find ways to express the same amount of information with fewer, but more information-rich variables. This is particularly useful to:\n",
        "\n",
        "* Find patterns in the **features** of the data.\n",
        "* Visualization of **high-dimensional** data.\n",
        "* **Pre-processing** before supervised ML tasks (complexity & noise reduction).\n",
        "\n",
        "![](https://www.dropbox.com/s/mtkqlczhp3qusjn/UML_dimensionality_red_types.png?dl=1)"
      ]
    },
    {
      "cell_type": "markdown",
      "metadata": {
        "id": "hi2ZUglX58Qi",
        "colab_type": "text"
      },
      "source": [
        "\n",
        "\n",
        "# Principal Component Analysis (PCA)\n",
        "\n"
      ]
    },
    {
      "cell_type": "markdown",
      "metadata": {
        "id": "ETcque4UQi0A",
        "colab_type": "text"
      },
      "source": [
        "## General\n",
        "\n",
        "* A popular method is \"Principal Component Analysis\" (PCA)\n",
        "* Three goals when finding lower dimensional\n",
        "representation of features:\n",
        "     1. Find linear combination of variables to createprincipal components\n",
        "     2. Maintain most variance in the data\n",
        "     3. Principal components are uncorrelated (i.e.orthogonal to each other)"
      ]
    },
    {
      "cell_type": "markdown",
      "metadata": {
        "id": "uo5CQ-ZUQjD9",
        "colab_type": "text"
      },
      "source": [
        "## The intuition behind it\n",
        "I won't go into too much detail with the math, but the basics of PCA are as follows: you take a dataset with many variables, and you simplify that dataset by turning your original variables into a smaller number of \"Principal Components\".\n",
        "\n",
        "![](https://www.dropbox.com/s/n8mefi1s2wt9h9g/PCA1.png?dl=1)\n",
        "\n"
      ]
    },
    {
      "cell_type": "markdown",
      "metadata": {
        "id": "GSl4rhe0Z5Kl",
        "colab_type": "text"
      },
      "source": [
        "But what are these exactly? Principal Components are the underlying structure in the data. They are the directions where there is the most variance, the directions where the data is most spread out. This means that we try to find the straight line that best spreads the data out when it is projected along it. This is the first principal component, the straight line that shows the most substantial variance in the data.\n",
        "\n",
        "![](https://www.dropbox.com/s/3iw8vizfick75lh/PCA2.png?dl=1)"
      ]
    },
    {
      "cell_type": "markdown",
      "metadata": {
        "id": "kahOjQEoZ8Oi",
        "colab_type": "text"
      },
      "source": [
        "Where many variables correlate with one another, they will all contribute strongly to the same principal component. Each principal component sums up a certain percentage of the total variation in the dataset. Where your initial variables are strongly correlated with one another, you will be able to approximate most of the complexity in your dataset with just a few principal components. Usually, the first principal component captures the main similarity in your data, the second the main difference.\n",
        "\n",
        "![](https://www.dropbox.com/s/tjooyreiguak7oy/PCA3.png?dl=1)"
      ]
    },
    {
      "cell_type": "markdown",
      "metadata": {
        "id": "R3jOJrqzaBg4",
        "colab_type": "text"
      },
      "source": [
        "These principal components can be computed via **Eigenvalues** and **Eigenvectors**. Just like many things in life, eigenvectors, and eigenvalues come in pairs: every eigenvector has a corresponding eigenvalue. Simply put, an eigenvector is a direction, such as \"vertical\" or \"45 degrees\", while an eigenvalue is a number telling you how much variance there is in the data in that direction. The eigenvector with the highest eigenvalue is, therefore, the first principal component. The number of eigenvalues and eigenvectors that exits is equal to the number of dimensions the data set has. Consequently, we can reframe a dataset in terms of these eigenvectors and eigenvalues without changing the underlying information. \n",
        "\n",
        "Note that reframing a dataset regarding a set of eigenvalues and eigenvectors does not entail changing the data itself, you're just looking at it from a different angle, which should represent the data better."
      ]
    },
    {
      "cell_type": "markdown",
      "metadata": {
        "id": "CFlOMUTcQxo6",
        "colab_type": "text"
      },
      "source": [
        "## The math behind Eigendecompositions\n",
        "\n",
        "The eigenvectors and eigenvalues of a covariance (or correlation) matrix represent the \"core\" of a PCA: The eigenvectors (principal components) determine the directions of the new feature space, and the eigenvalues determine their magnitude. In other words, the eigenvalues explain the variance of the data along the new feature axes."
      ]
    },
    {
      "cell_type": "code",
      "metadata": {
        "id": "VQejvFwgRn3i",
        "colab_type": "code",
        "outputId": "880854f2-2061-4595-8b58-93cd72438832",
        "colab": {
          "base_uri": "https://localhost:8080/",
          "height": 66
        }
      },
      "source": [
        "# define a matrix\n",
        "mat = np.array([[1, 2, 4], [3, 4, 4], [3, 6, 7]])\n",
        "\n",
        "mat"
      ],
      "execution_count": 3,
      "outputs": [
        {
          "output_type": "execute_result",
          "data": {
            "text/plain": [
              "array([[1, 2, 4],\n",
              "       [3, 4, 4],\n",
              "       [3, 6, 7]])"
            ]
          },
          "metadata": {
            "tags": []
          },
          "execution_count": 3
        }
      ]
    },
    {
      "cell_type": "code",
      "metadata": {
        "id": "Wdre9AXae0yw",
        "colab_type": "code",
        "colab": {}
      },
      "source": [
        "# center columns by subtracting column means\n",
        "mat_cent = mat - np.mean(mat.T, axis=1)"
      ],
      "execution_count": 0,
      "outputs": []
    },
    {
      "cell_type": "code",
      "metadata": {
        "id": "UX2O1u4RT-_R",
        "colab_type": "code",
        "outputId": "38d0758c-53f2-4c29-fea5-d5d2f78699e2",
        "colab": {
          "base_uri": "https://localhost:8080/",
          "height": 82
        }
      },
      "source": [
        "# Compute the covariance matrix\n",
        "cov_mat = np.cov(mat_cent.T)\n",
        "print('Covariance matrix by NumPy\\n%s' %cov_mat)"
      ],
      "execution_count": 5,
      "outputs": [
        {
          "output_type": "stream",
          "text": [
            "Covariance matrix by NumPy\n",
            "[[1.33333333 2.         1.        ]\n",
            " [2.         4.         3.        ]\n",
            " [1.         3.         3.        ]]\n"
          ],
          "name": "stdout"
        }
      ]
    },
    {
      "cell_type": "code",
      "metadata": {
        "id": "wcvYiN7JVbsA",
        "colab_type": "code",
        "outputId": "8de1ea35-1db3-40a0-f5a4-df39d89b7478",
        "colab": {
          "base_uri": "https://localhost:8080/",
          "height": 131
        }
      },
      "source": [
        "# Next, we perform an eigendecomposition on the covariance matrix:\n",
        "eig_vals, eig_vecs = np.linalg.eig(cov_mat)\n",
        "\n",
        "print('Eigenvectors \\n%s' %eig_vecs)\n",
        "print('\\nEigenvalues \\n%s' %eig_vals)"
      ],
      "execution_count": 6,
      "outputs": [
        {
          "output_type": "stream",
          "text": [
            "Eigenvectors \n",
            "[[-0.34238119 -0.6882472   0.63960215]\n",
            " [-0.73367398 -0.22941573 -0.63960215]\n",
            " [-0.58693919  0.6882472   0.42640143]]\n",
            "\n",
            "Eigenvalues \n",
            "[7.33333333e+00 1.00000000e+00 2.20574804e-16]\n"
          ],
          "name": "stdout"
        }
      ]
    },
    {
      "cell_type": "markdown",
      "metadata": {
        "id": "mMfHZvvdaT_S",
        "colab_type": "text"
      },
      "source": [
        "## Python Tools"
      ]
    },
    {
      "cell_type": "code",
      "metadata": {
        "id": "oVwMHugGcFlr",
        "colab_type": "code",
        "colab": {}
      },
      "source": [
        "# Import the functions we need\n",
        "from sklearn.decomposition import PCA # PCA from  sklearn, the python ML standard library"
      ],
      "execution_count": 0,
      "outputs": []
    },
    {
      "cell_type": "code",
      "metadata": {
        "id": "QHQ_beOdcK7E",
        "colab_type": "code",
        "colab": {}
      },
      "source": [
        "# Initialize\n",
        "model = PCA()"
      ],
      "execution_count": 0,
      "outputs": []
    },
    {
      "cell_type": "code",
      "metadata": {
        "id": "Tb1PU4NicRde",
        "colab_type": "code",
        "outputId": "efecbe95-323e-4c8a-bc84-d48c97c8e02f",
        "colab": {
          "base_uri": "https://localhost:8080/",
          "height": 0
        }
      },
      "source": [
        "# Fit the model\n",
        "model.fit(mat)"
      ],
      "execution_count": 9,
      "outputs": [
        {
          "output_type": "execute_result",
          "data": {
            "text/plain": [
              "PCA(copy=True, iterated_power='auto', n_components=None, random_state=None,\n",
              "    svd_solver='auto', tol=0.0, whiten=False)"
            ]
          },
          "metadata": {
            "tags": []
          },
          "execution_count": 9
        }
      ]
    },
    {
      "cell_type": "code",
      "metadata": {
        "id": "jE0JaedZeRf5",
        "colab_type": "code",
        "outputId": "698dce17-f798-430e-b530-b81abd90e5b8",
        "colab": {
          "base_uri": "https://localhost:8080/",
          "height": 0
        }
      },
      "source": [
        "model.components_"
      ],
      "execution_count": 10,
      "outputs": [
        {
          "output_type": "execute_result",
          "data": {
            "text/plain": [
              "array([[ 0.34238119,  0.73367398,  0.58693919],\n",
              "       [ 0.6882472 ,  0.22941573, -0.6882472 ],\n",
              "       [-0.63960215,  0.63960215, -0.42640143]])"
            ]
          },
          "metadata": {
            "tags": []
          },
          "execution_count": 10
        }
      ]
    },
    {
      "cell_type": "code",
      "metadata": {
        "id": "WoNwbALhgeZW",
        "colab_type": "code",
        "outputId": "e2682f8c-e421-4104-e592-4b54a9af8784",
        "colab": {
          "base_uri": "https://localhost:8080/",
          "height": 0
        }
      },
      "source": [
        "model.explained_variance_"
      ],
      "execution_count": 11,
      "outputs": [
        {
          "output_type": "execute_result",
          "data": {
            "text/plain": [
              "array([7.33333333e+00, 1.00000000e+00, 1.09813024e-32])"
            ]
          },
          "metadata": {
            "tags": []
          },
          "execution_count": 11
        }
      ]
    },
    {
      "cell_type": "code",
      "metadata": {
        "id": "6Wv9GOTjhFeG",
        "colab_type": "code",
        "colab": {}
      },
      "source": [
        "# Transform the original data\n",
        "mat_pca = model.transform(mat)"
      ],
      "execution_count": 0,
      "outputs": []
    },
    {
      "cell_type": "code",
      "metadata": {
        "id": "QreOmgLMiB6M",
        "colab_type": "code",
        "outputId": "8758158d-47b7-4a6c-b306-c8fd5b1a01f6",
        "colab": {
          "base_uri": "https://localhost:8080/",
          "height": 0
        }
      },
      "source": [
        "mat_pca"
      ],
      "execution_count": 13,
      "outputs": [
        {
          "output_type": "execute_result",
          "data": {
            "text/plain": [
              "array([[-2.51079541e+00, -6.88247202e-01,  5.55111512e-16],\n",
              "       [-3.58685058e-01,  1.14707867e+00,  1.11022302e-16],\n",
              "       [ 2.86948046e+00, -4.58831468e-01, -3.33066907e-16]])"
            ]
          },
          "metadata": {
            "tags": []
          },
          "execution_count": 13
        }
      ]
    },
    {
      "cell_type": "markdown",
      "metadata": {
        "id": "xk9vPnfE_a3Z",
        "colab_type": "text"
      },
      "source": [
        "## Example"
      ]
    },
    {
      "cell_type": "markdown",
      "metadata": {
        "id": "LLVqD6_6VtZ8",
        "colab_type": "text"
      },
      "source": [
        "### Load the data"
      ]
    },
    {
      "cell_type": "code",
      "metadata": {
        "id": "YQxMeFq3i7Cq",
        "colab_type": "code",
        "colab": {}
      },
      "source": [
        "# load dataset into Pandas DataFrame\n",
        "data = pd.read_csv(\"https://archive.ics.uci.edu/ml/machine-learning-databases/iris/iris.data\", \n",
        "                 names=['sepal length','sepal width','petal length','petal width','species'])"
      ],
      "execution_count": 0,
      "outputs": []
    },
    {
      "cell_type": "markdown",
      "metadata": {
        "id": "_LD26gNFolEE",
        "colab_type": "text"
      },
      "source": [
        "### Brief exploration"
      ]
    },
    {
      "cell_type": "code",
      "metadata": {
        "id": "RjVTW4FwjKaW",
        "colab_type": "code",
        "outputId": "e115bf3d-9736-4f20-af96-4bca38fcbdf5",
        "colab": {
          "base_uri": "https://localhost:8080/",
          "height": 0
        }
      },
      "source": [
        "data.head()"
      ],
      "execution_count": 15,
      "outputs": [
        {
          "output_type": "execute_result",
          "data": {
            "text/html": [
              "<div>\n",
              "<style scoped>\n",
              "    .dataframe tbody tr th:only-of-type {\n",
              "        vertical-align: middle;\n",
              "    }\n",
              "\n",
              "    .dataframe tbody tr th {\n",
              "        vertical-align: top;\n",
              "    }\n",
              "\n",
              "    .dataframe thead th {\n",
              "        text-align: right;\n",
              "    }\n",
              "</style>\n",
              "<table border=\"1\" class=\"dataframe\">\n",
              "  <thead>\n",
              "    <tr style=\"text-align: right;\">\n",
              "      <th></th>\n",
              "      <th>sepal length</th>\n",
              "      <th>sepal width</th>\n",
              "      <th>petal length</th>\n",
              "      <th>petal width</th>\n",
              "      <th>species</th>\n",
              "    </tr>\n",
              "  </thead>\n",
              "  <tbody>\n",
              "    <tr>\n",
              "      <th>0</th>\n",
              "      <td>5.100</td>\n",
              "      <td>3.500</td>\n",
              "      <td>1.400</td>\n",
              "      <td>0.200</td>\n",
              "      <td>Iris-setosa</td>\n",
              "    </tr>\n",
              "    <tr>\n",
              "      <th>1</th>\n",
              "      <td>4.900</td>\n",
              "      <td>3.000</td>\n",
              "      <td>1.400</td>\n",
              "      <td>0.200</td>\n",
              "      <td>Iris-setosa</td>\n",
              "    </tr>\n",
              "    <tr>\n",
              "      <th>2</th>\n",
              "      <td>4.700</td>\n",
              "      <td>3.200</td>\n",
              "      <td>1.300</td>\n",
              "      <td>0.200</td>\n",
              "      <td>Iris-setosa</td>\n",
              "    </tr>\n",
              "    <tr>\n",
              "      <th>3</th>\n",
              "      <td>4.600</td>\n",
              "      <td>3.100</td>\n",
              "      <td>1.500</td>\n",
              "      <td>0.200</td>\n",
              "      <td>Iris-setosa</td>\n",
              "    </tr>\n",
              "    <tr>\n",
              "      <th>4</th>\n",
              "      <td>5.000</td>\n",
              "      <td>3.600</td>\n",
              "      <td>1.400</td>\n",
              "      <td>0.200</td>\n",
              "      <td>Iris-setosa</td>\n",
              "    </tr>\n",
              "  </tbody>\n",
              "</table>\n",
              "</div>"
            ],
            "text/plain": [
              "   sepal length  sepal width  petal length  petal width      species\n",
              "0         5.100        3.500         1.400        0.200  Iris-setosa\n",
              "1         4.900        3.000         1.400        0.200  Iris-setosa\n",
              "2         4.700        3.200         1.300        0.200  Iris-setosa\n",
              "3         4.600        3.100         1.500        0.200  Iris-setosa\n",
              "4         5.000        3.600         1.400        0.200  Iris-setosa"
            ]
          },
          "metadata": {
            "tags": []
          },
          "execution_count": 15
        }
      ]
    },
    {
      "cell_type": "code",
      "metadata": {
        "id": "i5ZNH0crlCSZ",
        "colab_type": "code",
        "outputId": "a5908c23-786f-48fc-b0ab-5bb7bbba0445",
        "colab": {
          "base_uri": "https://localhost:8080/",
          "height": 0
        }
      },
      "source": [
        "data.describe()"
      ],
      "execution_count": 16,
      "outputs": [
        {
          "output_type": "execute_result",
          "data": {
            "text/html": [
              "<div>\n",
              "<style scoped>\n",
              "    .dataframe tbody tr th:only-of-type {\n",
              "        vertical-align: middle;\n",
              "    }\n",
              "\n",
              "    .dataframe tbody tr th {\n",
              "        vertical-align: top;\n",
              "    }\n",
              "\n",
              "    .dataframe thead th {\n",
              "        text-align: right;\n",
              "    }\n",
              "</style>\n",
              "<table border=\"1\" class=\"dataframe\">\n",
              "  <thead>\n",
              "    <tr style=\"text-align: right;\">\n",
              "      <th></th>\n",
              "      <th>sepal length</th>\n",
              "      <th>sepal width</th>\n",
              "      <th>petal length</th>\n",
              "      <th>petal width</th>\n",
              "    </tr>\n",
              "  </thead>\n",
              "  <tbody>\n",
              "    <tr>\n",
              "      <th>count</th>\n",
              "      <td>150.000</td>\n",
              "      <td>150.000</td>\n",
              "      <td>150.000</td>\n",
              "      <td>150.000</td>\n",
              "    </tr>\n",
              "    <tr>\n",
              "      <th>mean</th>\n",
              "      <td>5.843</td>\n",
              "      <td>3.054</td>\n",
              "      <td>3.759</td>\n",
              "      <td>1.199</td>\n",
              "    </tr>\n",
              "    <tr>\n",
              "      <th>std</th>\n",
              "      <td>0.828</td>\n",
              "      <td>0.434</td>\n",
              "      <td>1.764</td>\n",
              "      <td>0.763</td>\n",
              "    </tr>\n",
              "    <tr>\n",
              "      <th>min</th>\n",
              "      <td>4.300</td>\n",
              "      <td>2.000</td>\n",
              "      <td>1.000</td>\n",
              "      <td>0.100</td>\n",
              "    </tr>\n",
              "    <tr>\n",
              "      <th>25%</th>\n",
              "      <td>5.100</td>\n",
              "      <td>2.800</td>\n",
              "      <td>1.600</td>\n",
              "      <td>0.300</td>\n",
              "    </tr>\n",
              "    <tr>\n",
              "      <th>50%</th>\n",
              "      <td>5.800</td>\n",
              "      <td>3.000</td>\n",
              "      <td>4.350</td>\n",
              "      <td>1.300</td>\n",
              "    </tr>\n",
              "    <tr>\n",
              "      <th>75%</th>\n",
              "      <td>6.400</td>\n",
              "      <td>3.300</td>\n",
              "      <td>5.100</td>\n",
              "      <td>1.800</td>\n",
              "    </tr>\n",
              "    <tr>\n",
              "      <th>max</th>\n",
              "      <td>7.900</td>\n",
              "      <td>4.400</td>\n",
              "      <td>6.900</td>\n",
              "      <td>2.500</td>\n",
              "    </tr>\n",
              "  </tbody>\n",
              "</table>\n",
              "</div>"
            ],
            "text/plain": [
              "       sepal length  sepal width  petal length  petal width\n",
              "count       150.000      150.000       150.000      150.000\n",
              "mean          5.843        3.054         3.759        1.199\n",
              "std           0.828        0.434         1.764        0.763\n",
              "min           4.300        2.000         1.000        0.100\n",
              "25%           5.100        2.800         1.600        0.300\n",
              "50%           5.800        3.000         4.350        1.300\n",
              "75%           6.400        3.300         5.100        1.800\n",
              "max           7.900        4.400         6.900        2.500"
            ]
          },
          "metadata": {
            "tags": []
          },
          "execution_count": 16
        }
      ]
    },
    {
      "cell_type": "code",
      "metadata": {
        "id": "_wfncV_flMIr",
        "colab_type": "code",
        "outputId": "6918c71d-c358-4905-ce23-959bca65ac0c",
        "colab": {
          "base_uri": "https://localhost:8080/",
          "height": 0
        }
      },
      "source": [
        "sns.pairplot(data, hue='species')"
      ],
      "execution_count": 17,
      "outputs": [
        {
          "output_type": "execute_result",
          "data": {
            "text/plain": [
              "<seaborn.axisgrid.PairGrid at 0x7fbc8d0bfdd8>"
            ]
          },
          "metadata": {
            "tags": []
          },
          "execution_count": 17
        },
        {
          "output_type": "display_data",
          "data": {
            "image/png": "[encoded data removed]",
            "text/plain": [
              "<Figure size 823.5x720 with 20 Axes>"
            ]
          },
          "metadata": {
            "tags": []
          }
        }
      ]
    },
    {
      "cell_type": "code",
      "metadata": {
        "id": "qzcxNkhplZ38",
        "colab_type": "code",
        "outputId": "d5083484-40ce-4b6c-ab0e-fb8f6d0532c0",
        "colab": {
          "base_uri": "https://localhost:8080/",
          "height": 0
        }
      },
      "source": [
        "sns.heatmap(data.corr())"
      ],
      "execution_count": 18,
      "outputs": [
        {
          "output_type": "execute_result",
          "data": {
            "text/plain": [
              "<matplotlib.axes._subplots.AxesSubplot at 0x7fbc8a19c4a8>"
            ]
          },
          "metadata": {
            "tags": []
          },
          "execution_count": 18
        },
        {
          "output_type": "display_data",
          "data": {
            "image/png": "[encoded data removed]",
            "text/plain": [
              "<Figure size 432x288 with 2 Axes>"
            ]
          },
          "metadata": {
            "tags": []
          }
        }
      ]
    },
    {
      "cell_type": "markdown",
      "metadata": {
        "id": "aaYEBIkKoq_Z",
        "colab_type": "text"
      },
      "source": [
        "### Preprocessing"
      ]
    },
    {
      "cell_type": "code",
      "metadata": {
        "id": "9vFTAjl4ov87",
        "colab_type": "code",
        "colab": {}
      },
      "source": [
        "# Import \n",
        "from sklearn.decomposition import PCA # For PCA\n",
        "from sklearn.preprocessing import StandardScaler # For feature scaling"
      ],
      "execution_count": 0,
      "outputs": []
    },
    {
      "cell_type": "code",
      "metadata": {
        "id": "QMVzy6KetNQo",
        "colab_type": "code",
        "colab": {}
      },
      "source": [
        "data.set_index('species',inplace=True)"
      ],
      "execution_count": 0,
      "outputs": []
    },
    {
      "cell_type": "code",
      "metadata": {
        "id": "5nMbOHt-tbwf",
        "colab_type": "code",
        "colab": {}
      },
      "source": [
        "# Let's standard-scale our data\n",
        "scaler = StandardScaler()\n",
        "data_scaled = scaler.fit_transform(data)"
      ],
      "execution_count": 0,
      "outputs": []
    },
    {
      "cell_type": "code",
      "metadata": {
        "id": "qZV52DQWtr6_",
        "colab_type": "code",
        "outputId": "bcf0f1fc-459d-417b-d00c-b58c200e9de0",
        "colab": {
          "base_uri": "https://localhost:8080/",
          "height": 0
        }
      },
      "source": [
        "pd.DataFrame(data_scaled, columns=data.columns).describe()"
      ],
      "execution_count": 22,
      "outputs": [
        {
          "output_type": "execute_result",
          "data": {
            "text/html": [
              "<div>\n",
              "<style scoped>\n",
              "    .dataframe tbody tr th:only-of-type {\n",
              "        vertical-align: middle;\n",
              "    }\n",
              "\n",
              "    .dataframe tbody tr th {\n",
              "        vertical-align: top;\n",
              "    }\n",
              "\n",
              "    .dataframe thead th {\n",
              "        text-align: right;\n",
              "    }\n",
              "</style>\n",
              "<table border=\"1\" class=\"dataframe\">\n",
              "  <thead>\n",
              "    <tr style=\"text-align: right;\">\n",
              "      <th></th>\n",
              "      <th>sepal length</th>\n",
              "      <th>sepal width</th>\n",
              "      <th>petal length</th>\n",
              "      <th>petal width</th>\n",
              "    </tr>\n",
              "  </thead>\n",
              "  <tbody>\n",
              "    <tr>\n",
              "      <th>count</th>\n",
              "      <td>150.000</td>\n",
              "      <td>150.000</td>\n",
              "      <td>150.000</td>\n",
              "      <td>150.000</td>\n",
              "    </tr>\n",
              "    <tr>\n",
              "      <th>mean</th>\n",
              "      <td>-0.000</td>\n",
              "      <td>-0.000</td>\n",
              "      <td>0.000</td>\n",
              "      <td>0.000</td>\n",
              "    </tr>\n",
              "    <tr>\n",
              "      <th>std</th>\n",
              "      <td>1.003</td>\n",
              "      <td>1.003</td>\n",
              "      <td>1.003</td>\n",
              "      <td>1.003</td>\n",
              "    </tr>\n",
              "    <tr>\n",
              "      <th>min</th>\n",
              "      <td>-1.870</td>\n",
              "      <td>-2.439</td>\n",
              "      <td>-1.569</td>\n",
              "      <td>-1.444</td>\n",
              "    </tr>\n",
              "    <tr>\n",
              "      <th>25%</th>\n",
              "      <td>-0.901</td>\n",
              "      <td>-0.588</td>\n",
              "      <td>-1.228</td>\n",
              "      <td>-1.182</td>\n",
              "    </tr>\n",
              "    <tr>\n",
              "      <th>50%</th>\n",
              "      <td>-0.053</td>\n",
              "      <td>-0.125</td>\n",
              "      <td>0.336</td>\n",
              "      <td>0.133</td>\n",
              "    </tr>\n",
              "    <tr>\n",
              "      <th>75%</th>\n",
              "      <td>0.675</td>\n",
              "      <td>0.569</td>\n",
              "      <td>0.763</td>\n",
              "      <td>0.791</td>\n",
              "    </tr>\n",
              "    <tr>\n",
              "      <th>max</th>\n",
              "      <td>2.492</td>\n",
              "      <td>3.115</td>\n",
              "      <td>1.786</td>\n",
              "      <td>1.711</td>\n",
              "    </tr>\n",
              "  </tbody>\n",
              "</table>\n",
              "</div>"
            ],
            "text/plain": [
              "       sepal length  sepal width  petal length  petal width\n",
              "count       150.000      150.000       150.000      150.000\n",
              "mean         -0.000       -0.000         0.000        0.000\n",
              "std           1.003        1.003         1.003        1.003\n",
              "min          -1.870       -2.439        -1.569       -1.444\n",
              "25%          -0.901       -0.588        -1.228       -1.182\n",
              "50%          -0.053       -0.125         0.336        0.133\n",
              "75%           0.675        0.569         0.763        0.791\n",
              "max           2.492        3.115         1.786        1.711"
            ]
          },
          "metadata": {
            "tags": []
          },
          "execution_count": 22
        }
      ]
    },
    {
      "cell_type": "markdown",
      "metadata": {
        "id": "r3hWdjmuowWp",
        "colab_type": "text"
      },
      "source": [
        "### Executingh PCA"
      ]
    },
    {
      "cell_type": "code",
      "metadata": {
        "id": "PYTwiVcCqVRA",
        "colab_type": "code",
        "colab": {}
      },
      "source": [
        "# Instantiate a PCA object\n",
        "model = PCA() # Number of components needs to be defined. We just for illustration take about half of the numbers of features"
      ],
      "execution_count": 0,
      "outputs": []
    },
    {
      "cell_type": "code",
      "metadata": {
        "id": "LMvoRY26u8TS",
        "colab_type": "code",
        "outputId": "9e60c9c8-5b38-435d-db58-ed6bf8a78a19",
        "colab": {
          "base_uri": "https://localhost:8080/",
          "height": 0
        }
      },
      "source": [
        "# Fitr the model\n",
        "model.fit(data_scaled)"
      ],
      "execution_count": 24,
      "outputs": [
        {
          "output_type": "execute_result",
          "data": {
            "text/plain": [
              "PCA(copy=True, iterated_power='auto', n_components=None, random_state=None,\n",
              "    svd_solver='auto', tol=0.0, whiten=False)"
            ]
          },
          "metadata": {
            "tags": []
          },
          "execution_count": 24
        }
      ]
    },
    {
      "cell_type": "code",
      "metadata": {
        "id": "KSjJ2ngsuM-y",
        "colab_type": "code",
        "colab": {}
      },
      "source": [
        "# Fit and transform the data\n",
        "data_reduced = model.transform(data_scaled)"
      ],
      "execution_count": 0,
      "outputs": []
    },
    {
      "cell_type": "markdown",
      "metadata": {
        "id": "HIMTDC4nqVwV",
        "colab_type": "text"
      },
      "source": [
        "### Inspecting Results"
      ]
    },
    {
      "cell_type": "code",
      "metadata": {
        "id": "YD2CNpI6vCwc",
        "colab_type": "code",
        "outputId": "8e2865dc-a0bf-4603-c184-642f06d0b7a0",
        "colab": {
          "base_uri": "https://localhost:8080/",
          "height": 0
        }
      },
      "source": [
        "plot_data = pd.DataFrame({'evr': model.explained_variance_ratio_, 'cumsum_evr': np.cumsum(model.explained_variance_ratio_)}).stack()\n",
        "sns.set(rc={'figure.figsize':(15,10)})\n",
        "sns.lineplot(y = plot_data.values, x = plot_data.index.get_level_values(0), hue=plot_data.index.get_level_values(1))"
      ],
      "execution_count": 26,
      "outputs": [
        {
          "output_type": "execute_result",
          "data": {
            "text/plain": [
              "<matplotlib.axes._subplots.AxesSubplot at 0x7fbc871df470>"
            ]
          },
          "metadata": {
            "tags": []
          },
          "execution_count": 26
        },
        {
          "output_type": "display_data",
          "data": {
            "image/png": "[encoded data removed]",
            "text/plain": [
              "<Figure size 1080x720 with 1 Axes>"
            ]
          },
          "metadata": {
            "tags": []
          }
        }
      ]
    },
    {
      "cell_type": "code",
      "metadata": {
        "id": "Fat1kiwSY7hW",
        "colab_type": "code",
        "outputId": "dca680ce-a5b9-4a71-c26d-0ef006df7b64",
        "colab": {
          "base_uri": "https://localhost:8080/",
          "height": 0
        }
      },
      "source": [
        "# Scatter plot of the first 2 componentws\n",
        "sns.scatterplot(x = data_reduced[:,0], y = data_reduced[:,1])\n",
        "plt.axis('equal')\n",
        "plt.show()"
      ],
      "execution_count": 27,
      "outputs": [
        {
          "output_type": "display_data",
          "data": {
            "image/png": "[encoded data removed]",
            "text/plain": [
              "<Figure size 1080x720 with 1 Axes>"
            ]
          },
          "metadata": {
            "tags": []
          }
        }
      ]
    },
    {
      "cell_type": "code",
      "metadata": {
        "id": "pTuHGkasZ_DN",
        "colab_type": "code",
        "outputId": "d3615d23-9279-4fb9-bfcd-fc5867ffb99d",
        "colab": {
          "base_uri": "https://localhost:8080/",
          "height": 0
        }
      },
      "source": [
        "sns.heatmap(pd.DataFrame(data_reduced).corr())"
      ],
      "execution_count": 28,
      "outputs": [
        {
          "output_type": "execute_result",
          "data": {
            "text/plain": [
              "<matplotlib.axes._subplots.AxesSubplot at 0x7fbc871c10f0>"
            ]
          },
          "metadata": {
            "tags": []
          },
          "execution_count": 28
        },
        {
          "output_type": "display_data",
          "data": {
            "image/png": "[encoded data removed]",
            "text/plain": [
              "<Figure size 1080x720 with 2 Axes>"
            ]
          },
          "metadata": {
            "tags": []
          }
        }
      ]
    },
    {
      "cell_type": "code",
      "metadata": {
        "id": "s3YTJsLtw6wE",
        "colab_type": "code",
        "colab": {}
      },
      "source": [
        "# Get the mean of the grain samples: mean\n",
        "mean = model.mean_\n",
        "\n",
        "# Get the first principal component: first_pc\n",
        "first_pc = model.components_[0,:]\n",
        "second_pc = model.components_[1,:]"
      ],
      "execution_count": 0,
      "outputs": []
    },
    {
      "cell_type": "code",
      "metadata": {
        "id": "CGJ2ceRO5t-D",
        "colab_type": "code",
        "outputId": "58981969-96f9-4889-8c33-1ee027101d4e",
        "colab": {
          "base_uri": "https://localhost:8080/",
          "height": 0
        }
      },
      "source": [
        "# Make a scatter plot of the untransformed points\n",
        "plt.scatter(data_scaled[:,0], data_scaled[:,1])\n",
        "\n",
        "# Plot first_pc as an arrow, starting at mean\n",
        "plt.arrow(mean[0], mean[1], first_pc[0], first_pc[1], color='red', width=0.01)\n",
        "plt.arrow(mean[0], mean[1], second_pc[0], second_pc[1], color='green', width=0.01)\n",
        "\n",
        "# Keep axes on same scale\n",
        "plt.axis('equal')\n",
        "plt.show()"
      ],
      "execution_count": 30,
      "outputs": [
        {
          "output_type": "display_data",
          "data": {
            "image/png": "[encoded data removed]",
            "text/plain": [
              "<Figure size 1080x720 with 1 Axes>"
            ]
          },
          "metadata": {
            "tags": []
          }
        }
      ]
    },
    {
      "cell_type": "code",
      "metadata": {
        "id": "xXivq39d7Lmq",
        "colab_type": "code",
        "outputId": "4e7b732a-9388-4cc6-c920-643c7a31b741",
        "colab": {
          "base_uri": "https://localhost:8080/",
          "height": 0
        }
      },
      "source": [
        "# Make a scatter plot of the untransformed points\n",
        "plt.scatter(data_scaled[:,2], data_scaled[:,3])\n",
        "\n",
        "# Plot first_pc as an arrow, starting at mean\n",
        "plt.arrow(mean[0], mean[1], first_pc[2], first_pc[3], color='red', width=0.01)\n",
        "plt.arrow(mean[0], mean[1], second_pc[2], second_pc[3], color='green', width=0.01)\n",
        "\n",
        "# Keep axes on same scale\n",
        "plt.axis('equal')\n",
        "plt.show()"
      ],
      "execution_count": 31,
      "outputs": [
        {
          "output_type": "display_data",
          "data": {
            "image/png": "[encoded data removed]",
            "text/plain": [
              "<Figure size 1080x720 with 1 Axes>"
            ]
          },
          "metadata": {
            "tags": []
          }
        }
      ]
    },
    {
      "cell_type": "code",
      "metadata": {
        "id": "HpmBQnmJv2Cy",
        "colab_type": "code",
        "colab": {}
      },
      "source": [
        "pcscores = pd.DataFrame(data_reduced)\n",
        "loadings = pd.DataFrame(model.components_, columns=data.columns)\n",
        "loadings.index = ['PC'+str(i+1) for i in range(len(pcscores.columns))]"
      ],
      "execution_count": 0,
      "outputs": []
    },
    {
      "cell_type": "code",
      "metadata": {
        "id": "sUtgcQFbwQIx",
        "colab_type": "code",
        "outputId": "3eedc5f8-cac4-4561-caa0-6e04d814a085",
        "colab": {
          "base_uri": "https://localhost:8080/",
          "height": 0
        }
      },
      "source": [
        "ax = sns.heatmap(loadings.transpose(), center=0, linewidths=0.5, \n",
        "                 cmap=\"bone\", vmin=-1, vmax=1, annot=True)"
      ],
      "execution_count": 33,
      "outputs": [
        {
          "output_type": "display_data",
          "data": {
            "image/png": "[encoded data removed]",
            "text/plain": [
              "<Figure size 1080x720 with 2 Axes>"
            ]
          },
          "metadata": {
            "tags": []
          }
        }
      ]
    },
    {
      "cell_type": "markdown",
      "metadata": {
        "id": "ln3VKjFqi2aN",
        "colab_type": "text"
      },
      "source": [
        "# Case study"
      ]
    },
    {
      "cell_type": "markdown",
      "metadata": {
        "id": "60L3komj0aWQ",
        "colab_type": "text"
      },
      "source": [
        "## Introduction to the caese\n",
        "The data used in this tutorial is taken with permission form https://nomadlist.com/"
      ]
    },
    {
      "cell_type": "markdown",
      "metadata": {
        "id": "Z7mnuGbn0dxV",
        "colab_type": "text"
      },
      "source": [
        "## Loading data "
      ]
    },
    {
      "cell_type": "code",
      "metadata": {
        "id": "RSpJ0irR0TYh",
        "colab_type": "code",
        "colab": {}
      },
      "source": [
        "# We open the data directly from Github\n",
        "cities = pd.read_csv('https://github.com/SDS-AAU/M1-2019/raw/master/data/nomad_cities.csv', sep='\\t')"
      ],
      "execution_count": 0,
      "outputs": []
    },
    {
      "cell_type": "code",
      "metadata": {
        "id": "Gum9OBtk0xYN",
        "colab_type": "code",
        "outputId": "bcb5668b-e599-44d7-9e11-b68ede5fb985",
        "colab": {
          "base_uri": "https://localhost:8080/",
          "height": 0
        }
      },
      "source": [
        "cities.info"
      ],
      "execution_count": 35,
      "outputs": [
        {
          "output_type": "execute_result",
          "data": {
            "text/plain": [
              "<bound method DataFrame.info of      Unnamed: 0  coffee_in_cafe  cost_beer  ...  racism  safety  weed\n",
              "0             0           1.730      1.730  ...   0.400   0.600     0\n",
              "1             1           0.850      0.850  ...   0.400   0.800     0\n",
              "2             2           1.990      1.990  ...   0.420   0.800     1\n",
              "3             3           1.880      1.880  ...   0.000   1.000     0\n",
              "4             4           5.000      5.000  ...   0.800   0.730     0\n",
              "..          ...             ...        ...  ...     ...     ...   ...\n",
              "776         776           4.000      4.000  ...   0.200   0.200     0\n",
              "777         777           2.000      2.000  ...   0.600   0.200     0\n",
              "778         778           1.600      1.600  ...   0.400   0.200     1\n",
              "779         779           5.000      5.000  ...   0.000   0.200     0\n",
              "780         780           0.000      0.000  ...   0.200   0.200     0\n",
              "\n",
              "[781 rows x 27 columns]>"
            ]
          },
          "metadata": {
            "tags": []
          },
          "execution_count": 35
        }
      ]
    },
    {
      "cell_type": "code",
      "metadata": {
        "id": "AHqR0NA604Qz",
        "colab_type": "code",
        "outputId": "392a898a-4357-4fc1-cdb0-e2ddd5b55085",
        "colab": {
          "base_uri": "https://localhost:8080/",
          "height": 0
        }
      },
      "source": [
        "cities.head()"
      ],
      "execution_count": 36,
      "outputs": [
        {
          "output_type": "execute_result",
          "data": {
            "text/html": [
              "<div>\n",
              "<style scoped>\n",
              "    .dataframe tbody tr th:only-of-type {\n",
              "        vertical-align: middle;\n",
              "    }\n",
              "\n",
              "    .dataframe tbody tr th {\n",
              "        vertical-align: top;\n",
              "    }\n",
              "\n",
              "    .dataframe thead th {\n",
              "        text-align: right;\n",
              "    }\n",
              "</style>\n",
              "<table border=\"1\" class=\"dataframe\">\n",
              "  <thead>\n",
              "    <tr style=\"text-align: right;\">\n",
              "      <th></th>\n",
              "      <th>Unnamed: 0</th>\n",
              "      <th>coffee_in_cafe</th>\n",
              "      <th>cost_beer</th>\n",
              "      <th>cost_coworking</th>\n",
              "      <th>cost_expat</th>\n",
              "      <th>cost_nomad</th>\n",
              "      <th>female_friendly</th>\n",
              "      <th>fragile_states_index</th>\n",
              "      <th>free_wifi_available</th>\n",
              "      <th>freedom_score</th>\n",
              "      <th>friendly_to_foreigners</th>\n",
              "      <th>internet_speed</th>\n",
              "      <th>latitude</th>\n",
              "      <th>leisure</th>\n",
              "      <th>lgbt_friendly</th>\n",
              "      <th>life_score</th>\n",
              "      <th>longitude</th>\n",
              "      <th>nightlife</th>\n",
              "      <th>nomadScore</th>\n",
              "      <th>nomad_score</th>\n",
              "      <th>peace_score</th>\n",
              "      <th>place</th>\n",
              "      <th>places_to_work</th>\n",
              "      <th>press_freedom_index</th>\n",
              "      <th>racism</th>\n",
              "      <th>safety</th>\n",
              "      <th>weed</th>\n",
              "    </tr>\n",
              "  </thead>\n",
              "  <tbody>\n",
              "    <tr>\n",
              "      <th>0</th>\n",
              "      <td>0</td>\n",
              "      <td>1.730</td>\n",
              "      <td>1.730</td>\n",
              "      <td>152.410</td>\n",
              "      <td>1273</td>\n",
              "      <td>1364</td>\n",
              "      <td>1.000</td>\n",
              "      <td>52.7</td>\n",
              "      <td>0.400</td>\n",
              "      <td>0.6</td>\n",
              "      <td>0.600</td>\n",
              "      <td>31</td>\n",
              "      <td>47.498</td>\n",
              "      <td>0.800</td>\n",
              "      <td>0.270</td>\n",
              "      <td>0.860</td>\n",
              "      <td>19.040</td>\n",
              "      <td>1.000</td>\n",
              "      <td>1.000</td>\n",
              "      <td>1.000</td>\n",
              "      <td>0.8</td>\n",
              "      <td>Budapest</td>\n",
              "      <td>1.000</td>\n",
              "      <td>28.17</td>\n",
              "      <td>0.400</td>\n",
              "      <td>0.600</td>\n",
              "      <td>0</td>\n",
              "    </tr>\n",
              "    <tr>\n",
              "      <th>1</th>\n",
              "      <td>1</td>\n",
              "      <td>0.850</td>\n",
              "      <td>0.850</td>\n",
              "      <td>98.880</td>\n",
              "      <td>780</td>\n",
              "      <td>777</td>\n",
              "      <td>0.800</td>\n",
              "      <td>78.8</td>\n",
              "      <td>0.600</td>\n",
              "      <td>0.2</td>\n",
              "      <td>0.600</td>\n",
              "      <td>14</td>\n",
              "      <td>18.788</td>\n",
              "      <td>0.620</td>\n",
              "      <td>0.600</td>\n",
              "      <td>0.750</td>\n",
              "      <td>98.993</td>\n",
              "      <td>0.400</td>\n",
              "      <td>0.950</td>\n",
              "      <td>0.950</td>\n",
              "      <td>0.4</td>\n",
              "      <td>Chiang Mai</td>\n",
              "      <td>0.800</td>\n",
              "      <td>44.53</td>\n",
              "      <td>0.400</td>\n",
              "      <td>0.800</td>\n",
              "      <td>0</td>\n",
              "    </tr>\n",
              "    <tr>\n",
              "      <th>2</th>\n",
              "      <td>2</td>\n",
              "      <td>1.990</td>\n",
              "      <td>1.990</td>\n",
              "      <td>159.130</td>\n",
              "      <td>1653</td>\n",
              "      <td>1639</td>\n",
              "      <td>1.000</td>\n",
              "      <td>40.8</td>\n",
              "      <td>0.600</td>\n",
              "      <td>0.8</td>\n",
              "      <td>0.800</td>\n",
              "      <td>15</td>\n",
              "      <td>50.076</td>\n",
              "      <td>1.000</td>\n",
              "      <td>0.600</td>\n",
              "      <td>0.830</td>\n",
              "      <td>14.438</td>\n",
              "      <td>1.000</td>\n",
              "      <td>0.940</td>\n",
              "      <td>0.940</td>\n",
              "      <td>0.8</td>\n",
              "      <td>Prague</td>\n",
              "      <td>1.000</td>\n",
              "      <td>16.66</td>\n",
              "      <td>0.420</td>\n",
              "      <td>0.800</td>\n",
              "      <td>1</td>\n",
              "    </tr>\n",
              "    <tr>\n",
              "      <th>3</th>\n",
              "      <td>3</td>\n",
              "      <td>1.880</td>\n",
              "      <td>1.880</td>\n",
              "      <td>47.010</td>\n",
              "      <td>1640</td>\n",
              "      <td>1545</td>\n",
              "      <td>1.000</td>\n",
              "      <td>DotMap(__next__=DotMap())</td>\n",
              "      <td>1.000</td>\n",
              "      <td>0.6</td>\n",
              "      <td>0.800</td>\n",
              "      <td>16</td>\n",
              "      <td>25.091</td>\n",
              "      <td>1.000</td>\n",
              "      <td>0.800</td>\n",
              "      <td>0.930</td>\n",
              "      <td>121.560</td>\n",
              "      <td>0.600</td>\n",
              "      <td>0.940</td>\n",
              "      <td>0.940</td>\n",
              "      <td>DotMap(__next__=DotMap())</td>\n",
              "      <td>Taipei</td>\n",
              "      <td>1.000</td>\n",
              "      <td>24.37</td>\n",
              "      <td>0.000</td>\n",
              "      <td>1.000</td>\n",
              "      <td>0</td>\n",
              "    </tr>\n",
              "    <tr>\n",
              "      <th>4</th>\n",
              "      <td>4</td>\n",
              "      <td>5.000</td>\n",
              "      <td>5.000</td>\n",
              "      <td>200.000</td>\n",
              "      <td>3309</td>\n",
              "      <td>3028</td>\n",
              "      <td>0.800</td>\n",
              "      <td>34</td>\n",
              "      <td>0.600</td>\n",
              "      <td>0.6</td>\n",
              "      <td>0.800</td>\n",
              "      <td>118</td>\n",
              "      <td>30.267</td>\n",
              "      <td>1.000</td>\n",
              "      <td>0.600</td>\n",
              "      <td>0.950</td>\n",
              "      <td>-97.743</td>\n",
              "      <td>1.000</td>\n",
              "      <td>0.940</td>\n",
              "      <td>0.940</td>\n",
              "      <td>0.8</td>\n",
              "      <td>Austin</td>\n",
              "      <td>1.000</td>\n",
              "      <td>22.49</td>\n",
              "      <td>0.800</td>\n",
              "      <td>0.730</td>\n",
              "      <td>0</td>\n",
              "    </tr>\n",
              "  </tbody>\n",
              "</table>\n",
              "</div>"
            ],
            "text/plain": [
              "   Unnamed: 0  coffee_in_cafe  cost_beer  ...  racism  safety  weed\n",
              "0           0           1.730      1.730  ...   0.400   0.600     0\n",
              "1           1           0.850      0.850  ...   0.400   0.800     0\n",
              "2           2           1.990      1.990  ...   0.420   0.800     1\n",
              "3           3           1.880      1.880  ...   0.000   1.000     0\n",
              "4           4           5.000      5.000  ...   0.800   0.730     0\n",
              "\n",
              "[5 rows x 27 columns]"
            ]
          },
          "metadata": {
            "tags": []
          },
          "execution_count": 36
        }
      ]
    },
    {
      "cell_type": "code",
      "metadata": {
        "id": "U5sYzB9X09SB",
        "colab_type": "code",
        "outputId": "fc6d44e3-22f3-4d4b-fa6c-c33ca7654a6f",
        "colab": {
          "base_uri": "https://localhost:8080/",
          "height": 0
        }
      },
      "source": [
        "cities.describe()"
      ],
      "execution_count": 37,
      "outputs": [
        {
          "output_type": "execute_result",
          "data": {
            "text/html": [
              "<div>\n",
              "<style scoped>\n",
              "    .dataframe tbody tr th:only-of-type {\n",
              "        vertical-align: middle;\n",
              "    }\n",
              "\n",
              "    .dataframe tbody tr th {\n",
              "        vertical-align: top;\n",
              "    }\n",
              "\n",
              "    .dataframe thead th {\n",
              "        text-align: right;\n",
              "    }\n",
              "</style>\n",
              "<table border=\"1\" class=\"dataframe\">\n",
              "  <thead>\n",
              "    <tr style=\"text-align: right;\">\n",
              "      <th></th>\n",
              "      <th>Unnamed: 0</th>\n",
              "      <th>coffee_in_cafe</th>\n",
              "      <th>cost_beer</th>\n",
              "      <th>cost_coworking</th>\n",
              "      <th>cost_expat</th>\n",
              "      <th>cost_nomad</th>\n",
              "      <th>female_friendly</th>\n",
              "      <th>free_wifi_available</th>\n",
              "      <th>friendly_to_foreigners</th>\n",
              "      <th>internet_speed</th>\n",
              "      <th>latitude</th>\n",
              "      <th>leisure</th>\n",
              "      <th>lgbt_friendly</th>\n",
              "      <th>life_score</th>\n",
              "      <th>longitude</th>\n",
              "      <th>nightlife</th>\n",
              "      <th>nomadScore</th>\n",
              "      <th>nomad_score</th>\n",
              "      <th>places_to_work</th>\n",
              "      <th>racism</th>\n",
              "      <th>safety</th>\n",
              "      <th>weed</th>\n",
              "    </tr>\n",
              "  </thead>\n",
              "  <tbody>\n",
              "    <tr>\n",
              "      <th>count</th>\n",
              "      <td>781.000</td>\n",
              "      <td>781.000</td>\n",
              "      <td>781.000</td>\n",
              "      <td>781.000</td>\n",
              "      <td>781.000</td>\n",
              "      <td>781.000</td>\n",
              "      <td>781.000</td>\n",
              "      <td>781.000</td>\n",
              "      <td>781.000</td>\n",
              "      <td>781.000</td>\n",
              "      <td>781.000</td>\n",
              "      <td>781.000</td>\n",
              "      <td>781.000</td>\n",
              "      <td>781.000</td>\n",
              "      <td>781.000</td>\n",
              "      <td>781.000</td>\n",
              "      <td>781.000</td>\n",
              "      <td>781.000</td>\n",
              "      <td>781.000</td>\n",
              "      <td>781.000</td>\n",
              "      <td>781.000</td>\n",
              "      <td>781.000</td>\n",
              "    </tr>\n",
              "    <tr>\n",
              "      <th>mean</th>\n",
              "      <td>390.000</td>\n",
              "      <td>3.296</td>\n",
              "      <td>3.296</td>\n",
              "      <td>210.360</td>\n",
              "      <td>1880.431</td>\n",
              "      <td>2332.348</td>\n",
              "      <td>0.645</td>\n",
              "      <td>0.561</td>\n",
              "      <td>0.737</td>\n",
              "      <td>13.589</td>\n",
              "      <td>29.521</td>\n",
              "      <td>0.631</td>\n",
              "      <td>0.545</td>\n",
              "      <td>0.700</td>\n",
              "      <td>14.851</td>\n",
              "      <td>0.605</td>\n",
              "      <td>0.649</td>\n",
              "      <td>0.649</td>\n",
              "      <td>0.571</td>\n",
              "      <td>23280176929344430622638080.000</td>\n",
              "      <td>0.678</td>\n",
              "      <td>0.117</td>\n",
              "    </tr>\n",
              "    <tr>\n",
              "      <th>std</th>\n",
              "      <td>225.600</td>\n",
              "      <td>1.982</td>\n",
              "      <td>1.982</td>\n",
              "      <td>173.979</td>\n",
              "      <td>1265.411</td>\n",
              "      <td>1117.532</td>\n",
              "      <td>0.247</td>\n",
              "      <td>0.240</td>\n",
              "      <td>0.184</td>\n",
              "      <td>18.199</td>\n",
              "      <td>22.174</td>\n",
              "      <td>0.201</td>\n",
              "      <td>0.244</td>\n",
              "      <td>0.148</td>\n",
              "      <td>77.089</td>\n",
              "      <td>0.234</td>\n",
              "      <td>0.135</td>\n",
              "      <td>0.135</td>\n",
              "      <td>0.220</td>\n",
              "      <td>650596606331366367658246144.000</td>\n",
              "      <td>0.210</td>\n",
              "      <td>0.321</td>\n",
              "    </tr>\n",
              "    <tr>\n",
              "      <th>min</th>\n",
              "      <td>0.000</td>\n",
              "      <td>0.000</td>\n",
              "      <td>0.000</td>\n",
              "      <td>0.010</td>\n",
              "      <td>296.000</td>\n",
              "      <td>387.000</td>\n",
              "      <td>0.000</td>\n",
              "      <td>0.000</td>\n",
              "      <td>0.000</td>\n",
              "      <td>0.000</td>\n",
              "      <td>-45.879</td>\n",
              "      <td>0.000</td>\n",
              "      <td>0.180</td>\n",
              "      <td>0.010</td>\n",
              "      <td>-157.858</td>\n",
              "      <td>0.000</td>\n",
              "      <td>0.000</td>\n",
              "      <td>0.000</td>\n",
              "      <td>0.000</td>\n",
              "      <td>0.000</td>\n",
              "      <td>0.000</td>\n",
              "      <td>0.000</td>\n",
              "    </tr>\n",
              "    <tr>\n",
              "      <th>25%</th>\n",
              "      <td>195.000</td>\n",
              "      <td>1.600</td>\n",
              "      <td>1.600</td>\n",
              "      <td>88.960</td>\n",
              "      <td>1010.000</td>\n",
              "      <td>1486.000</td>\n",
              "      <td>0.440</td>\n",
              "      <td>0.400</td>\n",
              "      <td>0.600</td>\n",
              "      <td>2.000</td>\n",
              "      <td>19.991</td>\n",
              "      <td>0.450</td>\n",
              "      <td>0.400</td>\n",
              "      <td>0.620</td>\n",
              "      <td>-63.000</td>\n",
              "      <td>0.400</td>\n",
              "      <td>0.550</td>\n",
              "      <td>0.550</td>\n",
              "      <td>0.400</td>\n",
              "      <td>0.400</td>\n",
              "      <td>0.600</td>\n",
              "      <td>0.000</td>\n",
              "    </tr>\n",
              "    <tr>\n",
              "      <th>50%</th>\n",
              "      <td>390.000</td>\n",
              "      <td>3.030</td>\n",
              "      <td>3.030</td>\n",
              "      <td>172.050</td>\n",
              "      <td>1646.000</td>\n",
              "      <td>2209.000</td>\n",
              "      <td>0.600</td>\n",
              "      <td>0.600</td>\n",
              "      <td>0.800</td>\n",
              "      <td>6.000</td>\n",
              "      <td>35.514</td>\n",
              "      <td>0.600</td>\n",
              "      <td>0.600</td>\n",
              "      <td>0.720</td>\n",
              "      <td>14.791</td>\n",
              "      <td>0.600</td>\n",
              "      <td>0.680</td>\n",
              "      <td>0.680</td>\n",
              "      <td>0.400</td>\n",
              "      <td>0.600</td>\n",
              "      <td>0.600</td>\n",
              "      <td>0.000</td>\n",
              "    </tr>\n",
              "    <tr>\n",
              "      <th>75%</th>\n",
              "      <td>585.000</td>\n",
              "      <td>4.620</td>\n",
              "      <td>4.620</td>\n",
              "      <td>277.350</td>\n",
              "      <td>2408.000</td>\n",
              "      <td>3056.000</td>\n",
              "      <td>0.800</td>\n",
              "      <td>0.800</td>\n",
              "      <td>0.800</td>\n",
              "      <td>19.000</td>\n",
              "      <td>44.933</td>\n",
              "      <td>0.800</td>\n",
              "      <td>0.800</td>\n",
              "      <td>0.810</td>\n",
              "      <td>77.595</td>\n",
              "      <td>0.800</td>\n",
              "      <td>0.740</td>\n",
              "      <td>0.740</td>\n",
              "      <td>0.800</td>\n",
              "      <td>0.800</td>\n",
              "      <td>0.800</td>\n",
              "      <td>0.000</td>\n",
              "    </tr>\n",
              "    <tr>\n",
              "      <th>max</th>\n",
              "      <td>780.000</td>\n",
              "      <td>13.720</td>\n",
              "      <td>13.720</td>\n",
              "      <td>1524.460</td>\n",
              "      <td>13406.000</td>\n",
              "      <td>10121.000</td>\n",
              "      <td>1.000</td>\n",
              "      <td>1.000</td>\n",
              "      <td>1.000</td>\n",
              "      <td>197.000</td>\n",
              "      <td>69.649</td>\n",
              "      <td>1.000</td>\n",
              "      <td>1.000</td>\n",
              "      <td>1.000</td>\n",
              "      <td>174.776</td>\n",
              "      <td>1.000</td>\n",
              "      <td>1.000</td>\n",
              "      <td>1.000</td>\n",
              "      <td>1.000</td>\n",
              "      <td>18181818181818001939777978368.000</td>\n",
              "      <td>1.000</td>\n",
              "      <td>1.000</td>\n",
              "    </tr>\n",
              "  </tbody>\n",
              "</table>\n",
              "</div>"
            ],
            "text/plain": [
              "       Unnamed: 0  coffee_in_cafe  ...  safety    weed\n",
              "count     781.000         781.000  ... 781.000 781.000\n",
              "mean      390.000           3.296  ...   0.678   0.117\n",
              "std       225.600           1.982  ...   0.210   0.321\n",
              "min         0.000           0.000  ...   0.000   0.000\n",
              "25%       195.000           1.600  ...   0.600   0.000\n",
              "50%       390.000           3.030  ...   0.600   0.000\n",
              "75%       585.000           4.620  ...   0.800   0.000\n",
              "max       780.000          13.720  ...   1.000   1.000\n",
              "\n",
              "[8 rows x 22 columns]"
            ]
          },
          "metadata": {
            "tags": []
          },
          "execution_count": 37
        }
      ]
    },
    {
      "cell_type": "markdown",
      "metadata": {
        "id": "LQJzgyZ99HoR",
        "colab_type": "text"
      },
      "source": [
        "## Preprocessing"
      ]
    },
    {
      "cell_type": "markdown",
      "metadata": {
        "id": "rXs3ihgE1ars",
        "colab_type": "text"
      },
      "source": [
        "For some reason (data is messy) we have the name of the city as well as longitude/langitude but we don't have the country or region names.\n",
        "Let's try to fix that.\n",
        "\n",
        "One approach could be based on the lon/lat values, as city names may non-unique.\n",
        "\n",
        "For this we need to start by \"looking up\" the country name for each specific coordinate\n",
        "\n",
        "We can use an offline reverse geocoder package for that."
      ]
    },
    {
      "cell_type": "code",
      "metadata": {
        "id": "CE5Lw7h01jK0",
        "colab_type": "code",
        "outputId": "90d0a5e6-a838-415e-926a-f3be4e50cf0b",
        "colab": {
          "base_uri": "https://localhost:8080/",
          "height": 0
        }
      },
      "source": [
        "#Load and instantiate the reversegeocoder\n",
        "!pip install rgeocoder\n",
        "from rgeocoder import ReverseGeocoder\n",
        "rg = ReverseGeocoder()"
      ],
      "execution_count": 38,
      "outputs": [
        {
          "output_type": "stream",
          "text": [
            "Collecting rgeocoder\n",
            "\u001b[?25l  Downloading https://files.pythonhosted.org/packages/4a/8c/a9ff81ba906599ca5c4c07c8ddaf8d083aa3a79589a38cb7431b348683c3/rgeocoder-0.1.3-cp36-cp36m-manylinux1_x86_64.whl (3.1MB)\n",
            "\u001b[K     |████████████████████████████████| 3.1MB 9.6MB/s \n",
            "\u001b[?25hInstalling collected packages: rgeocoder\n",
            "Successfully installed rgeocoder-0.1.3\n"
          ],
          "name": "stdout"
        }
      ]
    },
    {
      "cell_type": "code",
      "metadata": {
        "id": "MFsIisTD1_MR",
        "colab_type": "code",
        "colab": {}
      },
      "source": [
        "# That's how it works\n",
        "location = rg.nearest(56.457, 10.039) #lat, lon"
      ],
      "execution_count": 0,
      "outputs": []
    },
    {
      "cell_type": "code",
      "metadata": {
        "id": "HaNbBXa42Gby",
        "colab_type": "code",
        "outputId": "b2070b05-4061-42fb-b011-16af087a2aca",
        "colab": {
          "base_uri": "https://localhost:8080/",
          "height": 0
        }
      },
      "source": [
        "# Let's see what we get\n",
        "print(location.name)\n",
        "print(location.admin1)\n",
        "print(location.admin2)\n",
        "print(location.cc)"
      ],
      "execution_count": 40,
      "outputs": [
        {
          "output_type": "stream",
          "text": [
            "Randers\n",
            "Central Jutland\n",
            "Randers Kommune\n",
            "DK\n"
          ],
          "name": "stdout"
        }
      ]
    },
    {
      "cell_type": "code",
      "metadata": {
        "id": "LOn70i672pUd",
        "colab_type": "code",
        "colab": {}
      },
      "source": [
        "# A smart way to get all geocoding done in one line\n",
        "cities['countrycode'] = cities.apply(lambda t: rg.nearest(t['latitude'],t['longitude']).cc, axis=1)"
      ],
      "execution_count": 0,
      "outputs": []
    },
    {
      "cell_type": "code",
      "metadata": {
        "id": "saha6Jv8B1SI",
        "colab_type": "code",
        "outputId": "fd02c9d9-d485-4cd8-e76e-9840f1c28733",
        "colab": {
          "base_uri": "https://localhost:8080/",
          "height": 0
        }
      },
      "source": [
        "cities.info()"
      ],
      "execution_count": 42,
      "outputs": [
        {
          "output_type": "stream",
          "text": [
            "<class 'pandas.core.frame.DataFrame'>\n",
            "RangeIndex: 781 entries, 0 to 780\n",
            "Data columns (total 28 columns):\n",
            "Unnamed: 0                781 non-null int64\n",
            "coffee_in_cafe            781 non-null float64\n",
            "cost_beer                 781 non-null float64\n",
            "cost_coworking            781 non-null float64\n",
            "cost_expat                781 non-null int64\n",
            "cost_nomad                781 non-null int64\n",
            "female_friendly           781 non-null float64\n",
            "fragile_states_index      781 non-null object\n",
            "free_wifi_available       781 non-null float64\n",
            "freedom_score             781 non-null object\n",
            "friendly_to_foreigners    781 non-null float64\n",
            "internet_speed            781 non-null int64\n",
            "latitude                  781 non-null float64\n",
            "leisure                   781 non-null float64\n",
            "lgbt_friendly             781 non-null float64\n",
            "life_score                781 non-null float64\n",
            "longitude                 781 non-null float64\n",
            "nightlife                 781 non-null float64\n",
            "nomadScore                781 non-null float64\n",
            "nomad_score               781 non-null float64\n",
            "peace_score               781 non-null object\n",
            "place                     781 non-null object\n",
            "places_to_work            781 non-null float64\n",
            "press_freedom_index       781 non-null object\n",
            "racism                    781 non-null float64\n",
            "safety                    781 non-null float64\n",
            "weed                      781 non-null int64\n",
            "countrycode               781 non-null object\n",
            "dtypes: float64(17), int64(5), object(6)\n",
            "memory usage: 171.0+ KB\n"
          ],
          "name": "stdout"
        }
      ]
    },
    {
      "cell_type": "markdown",
      "metadata": {
        "id": "HDlRbZkC25bN",
        "colab_type": "text"
      },
      "source": [
        "in the above cell we apply the \n",
        "\n",
        "\n",
        "```\n",
        "rg.nearest(t['latitude'],t['longitude']).cc\n",
        "```\n",
        "\n",
        "function to each row t of the dataframe cities\n",
        "\n",
        "\n",
        "```\n",
        "lambda t:\n",
        "```\n",
        "\n",
        "is a rather scary syntactic way of calling an anonymous function\n",
        "\n",
        "Basically, we could say:\n",
        "\n",
        "\n",
        "*   For each row of the cities dataframe\n",
        "*   take the value of the longitude and latitude columns\n",
        "*   look up the corresponding place\n",
        "*   write the country code \"cc\" into a new column \"alpha-2\"\n",
        "\n",
        "Now that we have exact country codes for each city, we need to find the regions these countries belong to\n",
        "\n",
        "Luckily it's easy to find tables listing this information on the internet."
      ]
    },
    {
      "cell_type": "code",
      "metadata": {
        "id": "Q1-3Uvae3Dp5",
        "colab_type": "code",
        "colab": {}
      },
      "source": [
        "# Download a recent country info table\n",
        "c = pd.read_csv('https://github.com/SDS-AAU/M1-2019/raw/master/data/countrylist.csv')"
      ],
      "execution_count": 0,
      "outputs": []
    },
    {
      "cell_type": "code",
      "metadata": {
        "id": "h3C5hN7x3Hqk",
        "colab_type": "code",
        "outputId": "84d3332f-32e5-4206-d9eb-e8143b07868c",
        "colab": {
          "base_uri": "https://localhost:8080/",
          "height": 0
        }
      },
      "source": [
        "c.head()"
      ],
      "execution_count": 44,
      "outputs": [
        {
          "output_type": "execute_result",
          "data": {
            "text/html": [
              "<div>\n",
              "<style scoped>\n",
              "    .dataframe tbody tr th:only-of-type {\n",
              "        vertical-align: middle;\n",
              "    }\n",
              "\n",
              "    .dataframe tbody tr th {\n",
              "        vertical-align: top;\n",
              "    }\n",
              "\n",
              "    .dataframe thead th {\n",
              "        text-align: right;\n",
              "    }\n",
              "</style>\n",
              "<table border=\"1\" class=\"dataframe\">\n",
              "  <thead>\n",
              "    <tr style=\"text-align: right;\">\n",
              "      <th></th>\n",
              "      <th>alpha_2</th>\n",
              "      <th>region</th>\n",
              "      <th>sub_region</th>\n",
              "    </tr>\n",
              "  </thead>\n",
              "  <tbody>\n",
              "    <tr>\n",
              "      <th>0</th>\n",
              "      <td>AF</td>\n",
              "      <td>Asia</td>\n",
              "      <td>Southern Asia</td>\n",
              "    </tr>\n",
              "    <tr>\n",
              "      <th>1</th>\n",
              "      <td>AX</td>\n",
              "      <td>Europe</td>\n",
              "      <td>Northern Europe</td>\n",
              "    </tr>\n",
              "    <tr>\n",
              "      <th>2</th>\n",
              "      <td>AL</td>\n",
              "      <td>Europe</td>\n",
              "      <td>Southern Europe</td>\n",
              "    </tr>\n",
              "    <tr>\n",
              "      <th>3</th>\n",
              "      <td>DZ</td>\n",
              "      <td>Africa</td>\n",
              "      <td>Northern Africa</td>\n",
              "    </tr>\n",
              "    <tr>\n",
              "      <th>4</th>\n",
              "      <td>AS</td>\n",
              "      <td>Oceania</td>\n",
              "      <td>Polynesia</td>\n",
              "    </tr>\n",
              "  </tbody>\n",
              "</table>\n",
              "</div>"
            ],
            "text/plain": [
              "  alpha_2   region       sub_region\n",
              "0      AF     Asia    Southern Asia\n",
              "1      AX   Europe  Northern Europe\n",
              "2      AL   Europe  Southern Europe\n",
              "3      DZ   Africa  Northern Africa\n",
              "4      AS  Oceania        Polynesia"
            ]
          },
          "metadata": {
            "tags": []
          },
          "execution_count": 44
        }
      ]
    },
    {
      "cell_type": "code",
      "metadata": {
        "id": "WfyQLZgU3VIe",
        "colab_type": "code",
        "colab": {}
      },
      "source": [
        " # Merge this lookup table with our initial cities list\n",
        "cities = cities.merge(c, left_on='countrycode', right_on='alpha_2')"
      ],
      "execution_count": 0,
      "outputs": []
    },
    {
      "cell_type": "code",
      "metadata": {
        "id": "IZfUGTJ234pf",
        "colab_type": "code",
        "colab": {}
      },
      "source": [
        "# Let's select interesting variables for the analysis\n",
        "vars_analysis = [\"cost_nomad\", \"cost_coworking\", \"cost_expat\", \"coffee_in_cafe\", \"cost_beer\", # costs\n",
        "          \"places_to_work\", \"free_wifi_available\", \"internet_speed\", # work\n",
        "          \"freedom_score\", \"peace_score\", \"safety\", \"fragile_states_index\", \"press_freedom_index\", # safety & freedom\n",
        "          \"female_friendly\", \"lgbt_friendly\", \"friendly_to_foreigners\", \"racism\", # friendly\n",
        "          \"leisure\",\"life_score\",\"nightlife\",\"weed\"] # fun \n",
        "\n",
        "vars_descr = [\"nomad_score\", \"cost_nomad\", \"places_to_work\", \"freedom_score\", \"friendly_to_foreigners\", \"life_score\"]"
      ],
      "execution_count": 0,
      "outputs": []
    },
    {
      "cell_type": "code",
      "metadata": {
        "id": "szGMR2E04KJr",
        "colab_type": "code",
        "colab": {}
      },
      "source": [
        "# And use the selection to only extract these variables into a new object\n",
        "data = cities[vars_analysis]\n",
        "descr = cities[vars_descr]"
      ],
      "execution_count": 0,
      "outputs": []
    },
    {
      "cell_type": "code",
      "metadata": {
        "id": "Plvdkoe14iqM",
        "colab_type": "code",
        "outputId": "adc48f80-7e9c-45d6-d9e3-4925b95d8830",
        "colab": {
          "base_uri": "https://localhost:8080/",
          "height": 0
        }
      },
      "source": [
        "# Quick check\n",
        "data.info()"
      ],
      "execution_count": 48,
      "outputs": [
        {
          "output_type": "stream",
          "text": [
            "<class 'pandas.core.frame.DataFrame'>\n",
            "Int64Index: 780 entries, 0 to 779\n",
            "Data columns (total 21 columns):\n",
            "cost_nomad                780 non-null int64\n",
            "cost_coworking            780 non-null float64\n",
            "cost_expat                780 non-null int64\n",
            "coffee_in_cafe            780 non-null float64\n",
            "cost_beer                 780 non-null float64\n",
            "places_to_work            780 non-null float64\n",
            "free_wifi_available       780 non-null float64\n",
            "internet_speed            780 non-null int64\n",
            "freedom_score             780 non-null object\n",
            "peace_score               780 non-null object\n",
            "safety                    780 non-null float64\n",
            "fragile_states_index      780 non-null object\n",
            "press_freedom_index       780 non-null object\n",
            "female_friendly           780 non-null float64\n",
            "lgbt_friendly             780 non-null float64\n",
            "friendly_to_foreigners    780 non-null float64\n",
            "racism                    780 non-null float64\n",
            "leisure                   780 non-null float64\n",
            "life_score                780 non-null float64\n",
            "nightlife                 780 non-null float64\n",
            "weed                      780 non-null int64\n",
            "dtypes: float64(13), int64(4), object(4)\n",
            "memory usage: 134.1+ KB\n"
          ],
          "name": "stdout"
        }
      ]
    },
    {
      "cell_type": "markdown",
      "metadata": {
        "id": "r5v5gXaM4rXn",
        "colab_type": "text"
      },
      "source": [
        "We can see some strange things going with the data types. Some are floats or ints as we would expect but others are objects"
      ]
    },
    {
      "cell_type": "code",
      "metadata": {
        "id": "70m5aR6Z4x3P",
        "colab_type": "code",
        "outputId": "2402f868-f68e-42c1-960c-e53a621f24ec",
        "colab": {
          "base_uri": "https://localhost:8080/",
          "height": 0
        }
      },
      "source": [
        "print(data['peace_score'].unique())"
      ],
      "execution_count": 49,
      "outputs": [
        {
          "output_type": "stream",
          "text": [
            "['0.8' '0.4' 'DotMap(__next__=DotMap())' 'DotMap()' '1' '0.6' '0.2']\n"
          ],
          "name": "stdout"
        }
      ]
    },
    {
      "cell_type": "code",
      "metadata": {
        "id": "2g9sAPoF43qa",
        "colab_type": "code",
        "outputId": "a7d71246-15e9-440a-8191-7ec5d305ee75",
        "colab": {
          "base_uri": "https://localhost:8080/",
          "height": 0
        }
      },
      "source": [
        "print(data['freedom_score'].unique())"
      ],
      "execution_count": 50,
      "outputs": [
        {
          "output_type": "stream",
          "text": [
            "['0.6' '0.2' '0.8' '0.4' '1' 'DotMap()']\n"
          ],
          "name": "stdout"
        }
      ]
    },
    {
      "cell_type": "code",
      "metadata": {
        "id": "8D73nlIQ461W",
        "colab_type": "code",
        "outputId": "1c78aefa-280b-4a1a-ad8c-24f4230a646c",
        "colab": {
          "base_uri": "https://localhost:8080/",
          "height": 0
        }
      },
      "source": [
        "print(data['fragile_states_index'].unique())"
      ],
      "execution_count": 51,
      "outputs": [
        {
          "output_type": "stream",
          "text": [
            "['52.7' '78.8' '40.8' 'DotMap(__next__=DotMap())' 'DotMap()' '34' '23.8'\n",
            " '32.4' '74.2' '35.1' '65.3' '66.1' '39.8' '29.2' '29' '21.3' '22.6'\n",
            " '74.9' '84.7' '48.4' '28.6' '70.7' '22.5' '36.1' '28.2' '21.8' '39.6'\n",
            " '34.5' '43.1' '27.5' '110.8' '55.9' '53.2' '45.1' '52.9' '21.2' '70.4'\n",
            " '32.9' '40.7' '47.4' '43.4' '36.2' '75.5' '67' '73.9' '81' '79.6' '41.9'\n",
            " '72' '21.5' '69.6' '44.9' '77.3' '18.8' '64' '52.4' '33.9' '53.7' '78.9'\n",
            " '78' '42.4' '70.8' '65' '71.2' '44.5' '51.6' '75.6' '66.3' '80.2' '62'\n",
            " '24.1' '72.5' '72.6' '87.7' '55.2' '83.6' '43.2' '61.2' '63.4' '22.8'\n",
            " '72.2' '76.3' '66' '74' '73.2' '69.9' '90.7' '66.5' '87.4' '103.5' '98.3'\n",
            " '89.6' '78.5' '101.7' '79' '90.2' '56.6' '83.2' '96.3' '84.4' '74.6'\n",
            " '104.7' '95.2' '91.2' '78.3' '91.3' '83.5' '87.8' '84.2' '81.8' '97.2'\n",
            " '97.7' '79.8' '83.8' '86.9' '100.5' '103.8' '97.8' '90.5' '111.5' '81.6'\n",
            " '86.2' '91' '96.4' '93.9']\n"
          ],
          "name": "stdout"
        }
      ]
    },
    {
      "cell_type": "code",
      "metadata": {
        "id": "8s48c6sl49M8",
        "colab_type": "code",
        "outputId": "7cfad5d1-9fec-45d2-cbcb-1714e6528afc",
        "colab": {
          "base_uri": "https://localhost:8080/",
          "height": 0
        }
      },
      "source": [
        "print(data['press_freedom_index'].unique())"
      ],
      "execution_count": 52,
      "outputs": [
        {
          "output_type": "stream",
          "text": [
            "['28.17' '44.53' '16.66' '24.37' '22.49' '15.26' '21.7' '42.64' '28.67'\n",
            " '32.62' '46.57' '19.92' '17.27' '14.18' '10.01' '12.33' '41.72' '44.66'\n",
            " '25.09' '14.8' '74.27' '28.5' '17.84' '28.58' '8.76' '11.76' '23.84'\n",
            " '23.83' '28.93' '13.18' '32.58' '81.35' '30.35' '30.59' '11.1' '24.29'\n",
            " '8.79' '49.33' '52.96' '23.89' '17.38' '14.31' '15.88' '32.93' 'DotMap()'\n",
            " '36.09' '80.96' '12.4' '54.32' '49.03' '43.17' '19.23' '27.6' '8.89'\n",
            " '28.79' '13.26' '50.76' '8.59' '18.26' '27.91' '22.26' '34.46' '27.96'\n",
            " '44.49' '19.95' '27.9' '12.45' '28.45' '17.95' '36.73' '40.43' '33.21'\n",
            " '29.99' '70.23' '44.11' '53.85' '14.43' '33.63' '44.96' '32.79' '27.99'\n",
            " '27.69' '29.92' '54.86' '15.3' '59.72' '57.89' '20.61' '34.17' '28.83'\n",
            " '21.92' '45.94' '35.97' '54.55' '40.7' '30.17' '35.9' '31.16' '31.95'\n",
            " '31.78' '42.93' '48.52' '28.82' '54.45' '27.61' '38.03' '30.16' '71.58'\n",
            " '31.6' '54.35' '39.83' '41.69' '54.61' '61.15' '30.25' '27.04' '28.65'\n",
            " '45.13' '44.62' '50.34' '66.52' '40.41' '33.08' '40.53' '39.89' '72.53'\n",
            " '44.77' '25.81' '29.94' '83.76']\n"
          ],
          "name": "stdout"
        }
      ]
    },
    {
      "cell_type": "markdown",
      "metadata": {
        "id": "zzTaFiy-5EtW",
        "colab_type": "text"
      },
      "source": [
        "This is a problem that probably has something to do with the scraping process. Let's try to turn everything into floats and if we can't we just put in a missing value statement"
      ]
    },
    {
      "cell_type": "code",
      "metadata": {
        "id": "GUOH0SQN5FXg",
        "colab_type": "code",
        "colab": {}
      },
      "source": [
        "# This function will fo exactly that\n",
        "def floater(x):\n",
        "  try: #Try to\n",
        "    return float(x) #Turn X into a floating point number\n",
        "  except ValueError: #In case a ValueError occurs\n",
        "    return np.nan #Turn X into np.nan (missing value placeholder)"
      ],
      "execution_count": 0,
      "outputs": []
    },
    {
      "cell_type": "code",
      "metadata": {
        "id": "z8FvwKyW8WzS",
        "colab_type": "code",
        "outputId": "06c0e52a-ce4f-492f-b779-f990656f7189",
        "colab": {
          "base_uri": "https://localhost:8080/",
          "height": 0
        }
      },
      "source": [
        "# map applies the defined function to every observation\n",
        "data.loc[:,'peace_score'] = data['peace_score'].map(floater)\n",
        "data.loc[:,'freedom_score'] = data['freedom_score'].map(floater)\n",
        "data.loc[:,'fragile_states_index'] = data['fragile_states_index'].map(floater)\n",
        "data.loc[:,'press_freedom_index'] = data['press_freedom_index'].map(floater)"
      ],
      "execution_count": 54,
      "outputs": [
        {
          "output_type": "stream",
          "text": [
            "/usr/local/lib/python3.6/dist-packages/pandas/core/indexing.py:494: SettingWithCopyWarning: \n",
            "A value is trying to be set on a copy of a slice from a DataFrame.\n",
            "Try using .loc[row_indexer,col_indexer] = value instead\n",
            "\n",
            "See the caveats in the documentation: http://pandas.pydata.org/pandas-docs/stable/user_guide/indexing.html#returning-a-view-versus-a-copy\n",
            "  self.obj[item] = s\n"
          ],
          "name": "stderr"
        }
      ]
    },
    {
      "cell_type": "code",
      "metadata": {
        "id": "kkHI3yYz8iS6",
        "colab_type": "code",
        "outputId": "0311a54a-3547-46d3-b9c6-311ae9867e17",
        "colab": {
          "base_uri": "https://localhost:8080/",
          "height": 0
        }
      },
      "source": [
        "# yup, some missing data...\n",
        "data.isnull().sum()"
      ],
      "execution_count": 55,
      "outputs": [
        {
          "output_type": "execute_result",
          "data": {
            "text/plain": [
              "cost_nomad                 0\n",
              "cost_coworking             0\n",
              "cost_expat                 0\n",
              "coffee_in_cafe             0\n",
              "cost_beer                  0\n",
              "places_to_work             0\n",
              "free_wifi_available        0\n",
              "internet_speed             0\n",
              "freedom_score             12\n",
              "peace_score               25\n",
              "safety                     0\n",
              "fragile_states_index      25\n",
              "press_freedom_index       12\n",
              "female_friendly            0\n",
              "lgbt_friendly              0\n",
              "friendly_to_foreigners     0\n",
              "racism                     0\n",
              "leisure                    0\n",
              "life_score                 0\n",
              "nightlife                  0\n",
              "weed                       0\n",
              "dtype: int64"
            ]
          },
          "metadata": {
            "tags": []
          },
          "execution_count": 55
        }
      ]
    },
    {
      "cell_type": "markdown",
      "metadata": {
        "id": "u2yaohIL8y0O",
        "colab_type": "text"
      },
      "source": [
        "Now we are facing a new problem - Missing Data. While it would be easier to just kick out these cities, we will try to do better and impute.\n",
        "\n",
        "Read up on imputation in the documentation of the package: https://github.com/iskandr/fancyimpute\n",
        "also here: https://medium.com/ibm-data-science-experience/missing-data-conundrum-exploration-and-imputation-techniques-9f40abe0fd87\n",
        "\n",
        "There are many other packages and modules that perform imputation. I found facyimpute the least problematic so far"
      ]
    },
    {
      "cell_type": "code",
      "metadata": {
        "id": "rJWjMSTQ8z2f",
        "colab_type": "code",
        "colab": {
          "base_uri": "https://localhost:8080/",
          "height": 0
        },
        "outputId": "c36adb89-4db8-4ea0-b8f2-c488db4029a5"
      },
      "source": [
        "# Import the imputation package\n",
        "from fancyimpute import SoftImpute, SimpleFill"
      ],
      "execution_count": 56,
      "outputs": [
        {
          "output_type": "stream",
          "text": [
            "/usr/local/lib/python3.6/dist-packages/sklearn/externals/six.py:31: DeprecationWarning: The module is deprecated in version 0.21 and will be removed in version 0.23 since we've dropped support for Python 2.7. Please rely on the official version of six (https://pypi.org/project/six/).\n",
            "  \"(https://pypi.org/project/six/).\", DeprecationWarning)\n",
            "Using TensorFlow backend.\n"
          ],
          "name": "stderr"
        },
        {
          "output_type": "display_data",
          "data": {
            "text/html": [
              "<p style=\"color: red;\">\n",
              "The default version of TensorFlow in Colab will soon switch to TensorFlow 2.x.<br>\n",
              "We recommend you <a href=\"https://www.tensorflow.org/guide/migrate\" target=\"_blank\">upgrade</a> now \n",
              "or ensure your notebook will continue to use TensorFlow 1.x via the <code>%tensorflow_version 1.x</code> magic:\n",
              "<a href=\"https://colab.research.google.com/notebooks/tensorflow_version.ipynb\" target=\"_blank\">more info</a>.</p>\n"
            ],
            "text/plain": [
              "<IPython.core.display.HTML object>"
            ]
          },
          "metadata": {
            "tags": []
          }
        }
      ]
    },
    {
      "cell_type": "code",
      "metadata": {
        "id": "_YxrLMm489k7",
        "colab_type": "code",
        "colab": {}
      },
      "source": [
        "# Easy version: Just replace missing values by the mean of the column\n",
        "data_imp = SimpleFill(fill_method='mean').fit_transform(data)"
      ],
      "execution_count": 0,
      "outputs": []
    },
    {
      "cell_type": "code",
      "metadata": {
        "id": "sc2CWKQf8_QJ",
        "colab_type": "code",
        "outputId": "28849c89-350f-41e9-b90c-e0a010dc67b3",
        "colab": {
          "base_uri": "https://localhost:8080/",
          "height": 0
        }
      },
      "source": [
        "# We can have a quick look\n",
        "pd.DataFrame(data_imp, columns=data.columns).head()"
      ],
      "execution_count": 58,
      "outputs": [
        {
          "output_type": "execute_result",
          "data": {
            "text/html": [
              "<div>\n",
              "<style scoped>\n",
              "    .dataframe tbody tr th:only-of-type {\n",
              "        vertical-align: middle;\n",
              "    }\n",
              "\n",
              "    .dataframe tbody tr th {\n",
              "        vertical-align: top;\n",
              "    }\n",
              "\n",
              "    .dataframe thead th {\n",
              "        text-align: right;\n",
              "    }\n",
              "</style>\n",
              "<table border=\"1\" class=\"dataframe\">\n",
              "  <thead>\n",
              "    <tr style=\"text-align: right;\">\n",
              "      <th></th>\n",
              "      <th>cost_nomad</th>\n",
              "      <th>cost_coworking</th>\n",
              "      <th>cost_expat</th>\n",
              "      <th>coffee_in_cafe</th>\n",
              "      <th>cost_beer</th>\n",
              "      <th>places_to_work</th>\n",
              "      <th>free_wifi_available</th>\n",
              "      <th>internet_speed</th>\n",
              "      <th>freedom_score</th>\n",
              "      <th>peace_score</th>\n",
              "      <th>safety</th>\n",
              "      <th>fragile_states_index</th>\n",
              "      <th>press_freedom_index</th>\n",
              "      <th>female_friendly</th>\n",
              "      <th>lgbt_friendly</th>\n",
              "      <th>friendly_to_foreigners</th>\n",
              "      <th>racism</th>\n",
              "      <th>leisure</th>\n",
              "      <th>life_score</th>\n",
              "      <th>nightlife</th>\n",
              "      <th>weed</th>\n",
              "    </tr>\n",
              "  </thead>\n",
              "  <tbody>\n",
              "    <tr>\n",
              "      <th>0</th>\n",
              "      <td>1364.000</td>\n",
              "      <td>152.410</td>\n",
              "      <td>1273.000</td>\n",
              "      <td>1.730</td>\n",
              "      <td>1.730</td>\n",
              "      <td>1.000</td>\n",
              "      <td>0.400</td>\n",
              "      <td>31.000</td>\n",
              "      <td>0.600</td>\n",
              "      <td>0.800</td>\n",
              "      <td>0.600</td>\n",
              "      <td>52.700</td>\n",
              "      <td>28.170</td>\n",
              "      <td>1.000</td>\n",
              "      <td>0.270</td>\n",
              "      <td>0.600</td>\n",
              "      <td>0.400</td>\n",
              "      <td>0.800</td>\n",
              "      <td>0.860</td>\n",
              "      <td>1.000</td>\n",
              "      <td>0.000</td>\n",
              "    </tr>\n",
              "    <tr>\n",
              "      <th>1</th>\n",
              "      <td>777.000</td>\n",
              "      <td>98.880</td>\n",
              "      <td>780.000</td>\n",
              "      <td>0.850</td>\n",
              "      <td>0.850</td>\n",
              "      <td>0.800</td>\n",
              "      <td>0.600</td>\n",
              "      <td>14.000</td>\n",
              "      <td>0.200</td>\n",
              "      <td>0.400</td>\n",
              "      <td>0.800</td>\n",
              "      <td>78.800</td>\n",
              "      <td>44.530</td>\n",
              "      <td>0.800</td>\n",
              "      <td>0.600</td>\n",
              "      <td>0.600</td>\n",
              "      <td>0.400</td>\n",
              "      <td>0.620</td>\n",
              "      <td>0.750</td>\n",
              "      <td>0.400</td>\n",
              "      <td>0.000</td>\n",
              "    </tr>\n",
              "    <tr>\n",
              "      <th>2</th>\n",
              "      <td>1012.000</td>\n",
              "      <td>155.430</td>\n",
              "      <td>1714.000</td>\n",
              "      <td>1.410</td>\n",
              "      <td>1.410</td>\n",
              "      <td>0.800</td>\n",
              "      <td>0.400</td>\n",
              "      <td>14.000</td>\n",
              "      <td>0.200</td>\n",
              "      <td>0.400</td>\n",
              "      <td>0.800</td>\n",
              "      <td>78.800</td>\n",
              "      <td>44.530</td>\n",
              "      <td>0.600</td>\n",
              "      <td>0.800</td>\n",
              "      <td>0.600</td>\n",
              "      <td>0.420</td>\n",
              "      <td>0.600</td>\n",
              "      <td>0.750</td>\n",
              "      <td>0.820</td>\n",
              "      <td>0.000</td>\n",
              "    </tr>\n",
              "    <tr>\n",
              "      <th>3</th>\n",
              "      <td>1197.000</td>\n",
              "      <td>131.410</td>\n",
              "      <td>1158.000</td>\n",
              "      <td>2.120</td>\n",
              "      <td>2.120</td>\n",
              "      <td>1.000</td>\n",
              "      <td>1.000</td>\n",
              "      <td>24.000</td>\n",
              "      <td>0.200</td>\n",
              "      <td>0.400</td>\n",
              "      <td>0.770</td>\n",
              "      <td>78.800</td>\n",
              "      <td>44.530</td>\n",
              "      <td>0.800</td>\n",
              "      <td>0.800</td>\n",
              "      <td>1.000</td>\n",
              "      <td>0.420</td>\n",
              "      <td>0.820</td>\n",
              "      <td>0.720</td>\n",
              "      <td>1.000</td>\n",
              "      <td>0.000</td>\n",
              "    </tr>\n",
              "    <tr>\n",
              "      <th>4</th>\n",
              "      <td>1352.000</td>\n",
              "      <td>169.560</td>\n",
              "      <td>1347.000</td>\n",
              "      <td>1.410</td>\n",
              "      <td>1.410</td>\n",
              "      <td>0.800</td>\n",
              "      <td>0.400</td>\n",
              "      <td>15.000</td>\n",
              "      <td>0.200</td>\n",
              "      <td>0.400</td>\n",
              "      <td>0.800</td>\n",
              "      <td>78.800</td>\n",
              "      <td>44.530</td>\n",
              "      <td>0.800</td>\n",
              "      <td>0.800</td>\n",
              "      <td>1.000</td>\n",
              "      <td>0.400</td>\n",
              "      <td>0.800</td>\n",
              "      <td>0.800</td>\n",
              "      <td>0.800</td>\n",
              "      <td>0.000</td>\n",
              "    </tr>\n",
              "  </tbody>\n",
              "</table>\n",
              "</div>"
            ],
            "text/plain": [
              "   cost_nomad  cost_coworking  cost_expat  ...  life_score  nightlife  weed\n",
              "0    1364.000         152.410    1273.000  ...       0.860      1.000 0.000\n",
              "1     777.000          98.880     780.000  ...       0.750      0.400 0.000\n",
              "2    1012.000         155.430    1714.000  ...       0.750      0.820 0.000\n",
              "3    1197.000         131.410    1158.000  ...       0.720      1.000 0.000\n",
              "4    1352.000         169.560    1347.000  ...       0.800      0.800 0.000\n",
              "\n",
              "[5 rows x 21 columns]"
            ]
          },
          "metadata": {
            "tags": []
          },
          "execution_count": 58
        }
      ]
    },
    {
      "cell_type": "code",
      "metadata": {
        "id": "F4_gfsuB9U2a",
        "colab_type": "code",
        "outputId": "673e44ef-d1f0-44f4-e1bd-bcd044b7e356",
        "colab": {
          "base_uri": "https://localhost:8080/",
          "height": 0
        }
      },
      "source": [
        "# Or, we go crazy and use a neural network powered method\n",
        "data_imp = SoftImpute().fit_transform(data)"
      ],
      "execution_count": 59,
      "outputs": [
        {
          "output_type": "stream",
          "text": [
            "[SoftImpute] Max Singular Value of X_init = 18181818181818001939777978368.000000\n",
            "[SoftImpute] Iter 1: observed MAE=22300770491622278299648.000000 rank=1\n",
            "[SoftImpute] Iter 2: observed MAE=22300770491622265716736.000000 rank=1\n",
            "[SoftImpute] Iter 3: observed MAE=22300770491622592872448.000000 rank=1\n",
            "[SoftImpute] Iter 4: observed MAE=22300770491622257328128.000000 rank=1\n",
            "[SoftImpute] Iter 5: observed MAE=22300770491622550929408.000000 rank=1\n",
            "[SoftImpute] Iter 6: observed MAE=22300770491621972115456.000000 rank=1\n",
            "[SoftImpute] Iter 7: observed MAE=22300770491622655787008.000000 rank=1\n",
            "[SoftImpute] Iter 8: observed MAE=22300770491622244745216.000000 rank=1\n",
            "[SoftImpute] Iter 9: observed MAE=22300770491622613843968.000000 rank=1\n",
            "[SoftImpute] Iter 10: observed MAE=22300770491622043418624.000000 rank=1\n",
            "[SoftImpute] Iter 11: observed MAE=22300770491622697730048.000000 rank=1\n",
            "[SoftImpute] Iter 12: observed MAE=22300770491622701924352.000000 rank=1\n",
            "[SoftImpute] Iter 13: observed MAE=22300770491622005669888.000000 rank=1\n",
            "[SoftImpute] Iter 14: observed MAE=22300770491622295076864.000000 rank=1\n",
            "[SoftImpute] Iter 15: observed MAE=22300770491622081167360.000000 rank=1\n",
            "[SoftImpute] Iter 16: observed MAE=22300770491622450266112.000000 rank=1\n",
            "[SoftImpute] Iter 17: observed MAE=22300770491622454460416.000000 rank=1\n",
            "[SoftImpute] Iter 18: observed MAE=22300770491622001475584.000000 rank=1\n",
            "[SoftImpute] Iter 19: observed MAE=22300770491622580289536.000000 rank=1\n",
            "[SoftImpute] Iter 20: observed MAE=22300770491622118916096.000000 rank=1\n",
            "[SoftImpute] Iter 21: observed MAE=22300770491621984698368.000000 rank=1\n",
            "[SoftImpute] Iter 22: observed MAE=22300770491622383157248.000000 rank=1\n",
            "[SoftImpute] Iter 23: observed MAE=22300770491622353797120.000000 rank=1\n",
            "[SoftImpute] Iter 24: observed MAE=22300770491622626426880.000000 rank=1\n",
            "[SoftImpute] Iter 25: observed MAE=22300770491622433488896.000000 rank=1\n",
            "[SoftImpute] Iter 26: observed MAE=22300770491622186024960.000000 rank=1\n",
            "[SoftImpute] Iter 27: observed MAE=22300770491621946949632.000000 rank=1\n",
            "[SoftImpute] Iter 28: observed MAE=22300770491622332825600.000000 rank=1\n",
            "[SoftImpute] Iter 29: observed MAE=22300770491622395740160.000000 rank=1\n",
            "[SoftImpute] Iter 30: observed MAE=22300770491622701924352.000000 rank=1\n",
            "[SoftImpute] Iter 31: observed MAE=22300770491622513180672.000000 rank=1\n",
            "[SoftImpute] Iter 32: observed MAE=22300770491622081167360.000000 rank=1\n",
            "[SoftImpute] Iter 33: observed MAE=22300770491622106333184.000000 rank=1\n",
            "[SoftImpute] Iter 34: observed MAE=22300770491622647398400.000000 rank=1\n",
            "[SoftImpute] Iter 35: observed MAE=22300770491622118916096.000000 rank=1\n",
            "[SoftImpute] Iter 36: observed MAE=22300770491622097944576.000000 rank=1\n",
            "[SoftImpute] Iter 37: observed MAE=22300770491622362185728.000000 rank=1\n",
            "[SoftImpute] Iter 38: observed MAE=22300770491622387351552.000000 rank=1\n",
            "[SoftImpute] Iter 39: observed MAE=22300770491621892423680.000000 rank=1\n",
            "[SoftImpute] Iter 40: observed MAE=22300770491622458654720.000000 rank=1\n",
            "[SoftImpute] Iter 41: observed MAE=22300770491622248939520.000000 rank=1\n",
            "[SoftImpute] Iter 42: observed MAE=22300770491622609649664.000000 rank=1\n",
            "[SoftImpute] Iter 43: observed MAE=22300770491622316048384.000000 rank=1\n",
            "[SoftImpute] Iter 44: observed MAE=22300770491622513180672.000000 rank=1\n",
            "[SoftImpute] Iter 45: observed MAE=22300770491622739673088.000000 rank=1\n",
            "[SoftImpute] Iter 46: observed MAE=22300770491621884035072.000000 rank=1\n",
            "[SoftImpute] Iter 47: observed MAE=22300770491622165053440.000000 rank=1\n",
            "[SoftImpute] Iter 48: observed MAE=22300770491622030835712.000000 rank=1\n",
            "[SoftImpute] Iter 49: observed MAE=22300770491622039224320.000000 rank=1\n",
            "[SoftImpute] Iter 50: observed MAE=22300770491622416711680.000000 rank=1\n",
            "[SoftImpute] Iter 51: observed MAE=22300770491622244745216.000000 rank=1\n",
            "[SoftImpute] Iter 52: observed MAE=22300770491622399934464.000000 rank=1\n",
            "[SoftImpute] Iter 53: observed MAE=22300770491622836142080.000000 rank=1\n",
            "[SoftImpute] Iter 54: observed MAE=22300770491621976309760.000000 rank=1\n",
            "[SoftImpute] Iter 55: observed MAE=22300770491622043418624.000000 rank=1\n",
            "[SoftImpute] Iter 56: observed MAE=22300770491622282493952.000000 rank=1\n",
            "[SoftImpute] Iter 57: observed MAE=22300770491622018252800.000000 rank=1\n",
            "[SoftImpute] Iter 58: observed MAE=22300770491622433488896.000000 rank=1\n",
            "[SoftImpute] Iter 59: observed MAE=22300770491622043418624.000000 rank=1\n",
            "[SoftImpute] Iter 60: observed MAE=22300770491622056001536.000000 rank=1\n",
            "[SoftImpute] Iter 61: observed MAE=22300770491622102138880.000000 rank=1\n",
            "[SoftImpute] Iter 62: observed MAE=22300770491622437683200.000000 rank=1\n",
            "[SoftImpute] Iter 63: observed MAE=22300770491622202802176.000000 rank=1\n",
            "[SoftImpute] Iter 64: observed MAE=22300770491622580289536.000000 rank=1\n",
            "[SoftImpute] Iter 65: observed MAE=22300770491622047612928.000000 rank=1\n",
            "[SoftImpute] Iter 66: observed MAE=22300770491622332825600.000000 rank=1\n",
            "[SoftImpute] Iter 67: observed MAE=22300770491622022447104.000000 rank=1\n",
            "[SoftImpute] Iter 68: observed MAE=22300770491622597066752.000000 rank=1\n",
            "[SoftImpute] Iter 69: observed MAE=22300770491622563512320.000000 rank=1\n",
            "[SoftImpute] Iter 70: observed MAE=22300770491622236356608.000000 rank=1\n",
            "[SoftImpute] Iter 71: observed MAE=22300770491622014058496.000000 rank=1\n",
            "[SoftImpute] Iter 72: observed MAE=22300770491622127304704.000000 rank=1\n",
            "[SoftImpute] Iter 73: observed MAE=22300770491622278299648.000000 rank=1\n",
            "[SoftImpute] Iter 74: observed MAE=22300770491622563512320.000000 rank=1\n",
            "[SoftImpute] Iter 75: observed MAE=22300770491622479626240.000000 rank=1\n",
            "[SoftImpute] Iter 76: observed MAE=22300770491622081167360.000000 rank=1\n",
            "[SoftImpute] Iter 77: observed MAE=22300770491622278299648.000000 rank=1\n",
            "[SoftImpute] Iter 78: observed MAE=22300770491621993086976.000000 rank=1\n",
            "[SoftImpute] Iter 79: observed MAE=22300770491622727090176.000000 rank=1\n",
            "[SoftImpute] Iter 80: observed MAE=22300770491622186024960.000000 rank=1\n",
            "[SoftImpute] Iter 81: observed MAE=22300770491622139887616.000000 rank=1\n",
            "[SoftImpute] Iter 82: observed MAE=22300770491621959532544.000000 rank=1\n",
            "[SoftImpute] Iter 83: observed MAE=22300770491622420905984.000000 rank=1\n",
            "[SoftImpute] Iter 84: observed MAE=22300770491621728845824.000000 rank=1\n",
            "[SoftImpute] Iter 85: observed MAE=22300770491622773227520.000000 rank=1\n",
            "[SoftImpute] Iter 86: observed MAE=22300770491622001475584.000000 rank=1\n",
            "[SoftImpute] Iter 87: observed MAE=22300770491622949388288.000000 rank=1\n",
            "[SoftImpute] Iter 88: observed MAE=22300770491622257328128.000000 rank=1\n",
            "[SoftImpute] Iter 89: observed MAE=22300770491622030835712.000000 rank=1\n",
            "[SoftImpute] Iter 90: observed MAE=22300770491622479626240.000000 rank=1\n",
            "[SoftImpute] Iter 91: observed MAE=22300770491621837897728.000000 rank=1\n",
            "[SoftImpute] Iter 92: observed MAE=22300770491622559318016.000000 rank=1\n",
            "[SoftImpute] Iter 93: observed MAE=22300770491621963726848.000000 rank=1\n",
            "[SoftImpute] Iter 94: observed MAE=22300770491622425100288.000000 rank=1\n",
            "[SoftImpute] Iter 95: observed MAE=22300770491621791760384.000000 rank=1\n",
            "[SoftImpute] Iter 96: observed MAE=22300770491622211190784.000000 rank=1\n",
            "[SoftImpute] Iter 97: observed MAE=22300770491622907445248.000000 rank=1\n",
            "[SoftImpute] Iter 98: observed MAE=22300770491621967921152.000000 rank=1\n",
            "[SoftImpute] Iter 99: observed MAE=22300770491622643204096.000000 rank=1\n",
            "[SoftImpute] Iter 100: observed MAE=22300770491622706118656.000000 rank=1\n",
            "[SoftImpute] Stopped after iteration 100 for lambda=363636363636360055288233984.000000\n"
          ],
          "name": "stdout"
        }
      ]
    },
    {
      "cell_type": "markdown",
      "metadata": {
        "id": "2LwVioUE9cl_",
        "colab_type": "text"
      },
      "source": [
        "Ok, by now our data is pretty much in the shape we want it to be. No missing values, all features are numeric.\n",
        "\n",
        "The last thing to do is to standardize the values."
      ]
    },
    {
      "cell_type": "code",
      "metadata": {
        "id": "Kp85Q-oa-Gyw",
        "colab_type": "code",
        "colab": {}
      },
      "source": [
        "# Let's standard-scale our data\n",
        "from sklearn.preprocessing import StandardScaler\n",
        "scaler = StandardScaler()\n",
        "\n",
        "data_scaled = scaler.fit_transform(data_imp)"
      ],
      "execution_count": 0,
      "outputs": []
    },
    {
      "cell_type": "markdown",
      "metadata": {
        "id": "uF_F2aD3-lxQ",
        "colab_type": "text"
      },
      "source": [
        "As you can see, now our data has a mean of 0 and a standard deviation of one."
      ]
    },
    {
      "cell_type": "code",
      "metadata": {
        "id": "9eiwonpL-mXA",
        "colab_type": "code",
        "outputId": "91787265-a1cd-4e84-a886-2bab15fa002c",
        "colab": {
          "base_uri": "https://localhost:8080/",
          "height": 0
        }
      },
      "source": [
        "pd.DataFrame(data_scaled, columns=data.columns).describe()"
      ],
      "execution_count": 61,
      "outputs": [
        {
          "output_type": "execute_result",
          "data": {
            "text/html": [
              "<div>\n",
              "<style scoped>\n",
              "    .dataframe tbody tr th:only-of-type {\n",
              "        vertical-align: middle;\n",
              "    }\n",
              "\n",
              "    .dataframe tbody tr th {\n",
              "        vertical-align: top;\n",
              "    }\n",
              "\n",
              "    .dataframe thead th {\n",
              "        text-align: right;\n",
              "    }\n",
              "</style>\n",
              "<table border=\"1\" class=\"dataframe\">\n",
              "  <thead>\n",
              "    <tr style=\"text-align: right;\">\n",
              "      <th></th>\n",
              "      <th>cost_nomad</th>\n",
              "      <th>cost_coworking</th>\n",
              "      <th>cost_expat</th>\n",
              "      <th>coffee_in_cafe</th>\n",
              "      <th>cost_beer</th>\n",
              "      <th>places_to_work</th>\n",
              "      <th>free_wifi_available</th>\n",
              "      <th>internet_speed</th>\n",
              "      <th>freedom_score</th>\n",
              "      <th>peace_score</th>\n",
              "      <th>safety</th>\n",
              "      <th>fragile_states_index</th>\n",
              "      <th>press_freedom_index</th>\n",
              "      <th>female_friendly</th>\n",
              "      <th>lgbt_friendly</th>\n",
              "      <th>friendly_to_foreigners</th>\n",
              "      <th>racism</th>\n",
              "      <th>leisure</th>\n",
              "      <th>life_score</th>\n",
              "      <th>nightlife</th>\n",
              "      <th>weed</th>\n",
              "    </tr>\n",
              "  </thead>\n",
              "  <tbody>\n",
              "    <tr>\n",
              "      <th>count</th>\n",
              "      <td>780.000</td>\n",
              "      <td>780.000</td>\n",
              "      <td>780.000</td>\n",
              "      <td>780.000</td>\n",
              "      <td>780.000</td>\n",
              "      <td>780.000</td>\n",
              "      <td>780.000</td>\n",
              "      <td>780.000</td>\n",
              "      <td>780.000</td>\n",
              "      <td>780.000</td>\n",
              "      <td>780.000</td>\n",
              "      <td>780.000</td>\n",
              "      <td>780.000</td>\n",
              "      <td>780.000</td>\n",
              "      <td>780.000</td>\n",
              "      <td>780.000</td>\n",
              "      <td>780.000</td>\n",
              "      <td>780.000</td>\n",
              "      <td>780.000</td>\n",
              "      <td>780.000</td>\n",
              "      <td>780.000</td>\n",
              "    </tr>\n",
              "    <tr>\n",
              "      <th>mean</th>\n",
              "      <td>0.000</td>\n",
              "      <td>0.000</td>\n",
              "      <td>-0.000</td>\n",
              "      <td>0.000</td>\n",
              "      <td>0.000</td>\n",
              "      <td>0.000</td>\n",
              "      <td>0.000</td>\n",
              "      <td>0.000</td>\n",
              "      <td>0.000</td>\n",
              "      <td>-0.000</td>\n",
              "      <td>-0.000</td>\n",
              "      <td>0.000</td>\n",
              "      <td>0.000</td>\n",
              "      <td>-0.000</td>\n",
              "      <td>0.000</td>\n",
              "      <td>-0.000</td>\n",
              "      <td>0.000</td>\n",
              "      <td>-0.000</td>\n",
              "      <td>0.000</td>\n",
              "      <td>-0.000</td>\n",
              "      <td>-0.000</td>\n",
              "    </tr>\n",
              "    <tr>\n",
              "      <th>std</th>\n",
              "      <td>1.001</td>\n",
              "      <td>1.001</td>\n",
              "      <td>1.001</td>\n",
              "      <td>1.001</td>\n",
              "      <td>1.001</td>\n",
              "      <td>1.001</td>\n",
              "      <td>1.001</td>\n",
              "      <td>1.001</td>\n",
              "      <td>1.001</td>\n",
              "      <td>1.001</td>\n",
              "      <td>1.001</td>\n",
              "      <td>1.001</td>\n",
              "      <td>1.001</td>\n",
              "      <td>1.001</td>\n",
              "      <td>1.001</td>\n",
              "      <td>1.001</td>\n",
              "      <td>1.001</td>\n",
              "      <td>1.001</td>\n",
              "      <td>1.001</td>\n",
              "      <td>1.001</td>\n",
              "      <td>1.001</td>\n",
              "    </tr>\n",
              "    <tr>\n",
              "      <th>min</th>\n",
              "      <td>-1.740</td>\n",
              "      <td>-1.209</td>\n",
              "      <td>-1.253</td>\n",
              "      <td>-1.664</td>\n",
              "      <td>-1.664</td>\n",
              "      <td>-2.598</td>\n",
              "      <td>-2.344</td>\n",
              "      <td>-0.748</td>\n",
              "      <td>-1.871</td>\n",
              "      <td>-2.597</td>\n",
              "      <td>-3.229</td>\n",
              "      <td>-2.140</td>\n",
              "      <td>-1.736</td>\n",
              "      <td>-2.609</td>\n",
              "      <td>-1.498</td>\n",
              "      <td>-4.008</td>\n",
              "      <td>-0.036</td>\n",
              "      <td>-3.140</td>\n",
              "      <td>-4.673</td>\n",
              "      <td>-2.587</td>\n",
              "      <td>-0.363</td>\n",
              "    </tr>\n",
              "    <tr>\n",
              "      <th>25%</th>\n",
              "      <td>-0.757</td>\n",
              "      <td>-0.697</td>\n",
              "      <td>-0.688</td>\n",
              "      <td>-0.856</td>\n",
              "      <td>-0.856</td>\n",
              "      <td>-0.780</td>\n",
              "      <td>-0.674</td>\n",
              "      <td>-0.638</td>\n",
              "      <td>-1.077</td>\n",
              "      <td>-1.003</td>\n",
              "      <td>-0.372</td>\n",
              "      <td>-0.790</td>\n",
              "      <td>-0.635</td>\n",
              "      <td>-0.830</td>\n",
              "      <td>-0.596</td>\n",
              "      <td>-0.744</td>\n",
              "      <td>-0.036</td>\n",
              "      <td>-0.900</td>\n",
              "      <td>-0.545</td>\n",
              "      <td>-0.878</td>\n",
              "      <td>-0.363</td>\n",
              "    </tr>\n",
              "    <tr>\n",
              "      <th>50%</th>\n",
              "      <td>-0.110</td>\n",
              "      <td>-0.224</td>\n",
              "      <td>-0.186</td>\n",
              "      <td>-0.119</td>\n",
              "      <td>-0.119</td>\n",
              "      <td>-0.780</td>\n",
              "      <td>0.161</td>\n",
              "      <td>-0.418</td>\n",
              "      <td>0.511</td>\n",
              "      <td>-0.205</td>\n",
              "      <td>-0.372</td>\n",
              "      <td>-0.040</td>\n",
              "      <td>-0.279</td>\n",
              "      <td>-0.184</td>\n",
              "      <td>0.223</td>\n",
              "      <td>0.344</td>\n",
              "      <td>-0.036</td>\n",
              "      <td>-0.153</td>\n",
              "      <td>0.132</td>\n",
              "      <td>-0.023</td>\n",
              "      <td>-0.363</td>\n",
              "    </tr>\n",
              "    <tr>\n",
              "      <th>75%</th>\n",
              "      <td>0.649</td>\n",
              "      <td>0.378</td>\n",
              "      <td>0.418</td>\n",
              "      <td>0.669</td>\n",
              "      <td>0.669</td>\n",
              "      <td>1.038</td>\n",
              "      <td>0.996</td>\n",
              "      <td>0.310</td>\n",
              "      <td>0.511</td>\n",
              "      <td>0.592</td>\n",
              "      <td>0.580</td>\n",
              "      <td>0.834</td>\n",
              "      <td>0.485</td>\n",
              "      <td>0.625</td>\n",
              "      <td>1.043</td>\n",
              "      <td>0.344</td>\n",
              "      <td>-0.036</td>\n",
              "      <td>0.843</td>\n",
              "      <td>0.741</td>\n",
              "      <td>0.831</td>\n",
              "      <td>-0.363</td>\n",
              "    </tr>\n",
              "    <tr>\n",
              "      <th>max</th>\n",
              "      <td>6.971</td>\n",
              "      <td>7.555</td>\n",
              "      <td>9.108</td>\n",
              "      <td>5.260</td>\n",
              "      <td>5.260</td>\n",
              "      <td>1.946</td>\n",
              "      <td>1.832</td>\n",
              "      <td>10.080</td>\n",
              "      <td>2.099</td>\n",
              "      <td>1.389</td>\n",
              "      <td>1.532</td>\n",
              "      <td>2.287</td>\n",
              "      <td>2.482</td>\n",
              "      <td>1.433</td>\n",
              "      <td>1.863</td>\n",
              "      <td>1.432</td>\n",
              "      <td>27.911</td>\n",
              "      <td>1.838</td>\n",
              "      <td>2.027</td>\n",
              "      <td>1.686</td>\n",
              "      <td>2.752</td>\n",
              "    </tr>\n",
              "  </tbody>\n",
              "</table>\n",
              "</div>"
            ],
            "text/plain": [
              "       cost_nomad  cost_coworking  cost_expat  ...  life_score  nightlife    weed\n",
              "count     780.000         780.000     780.000  ...     780.000    780.000 780.000\n",
              "mean        0.000           0.000      -0.000  ...       0.000     -0.000  -0.000\n",
              "std         1.001           1.001       1.001  ...       1.001      1.001   1.001\n",
              "min        -1.740          -1.209      -1.253  ...      -4.673     -2.587  -0.363\n",
              "25%        -0.757          -0.697      -0.688  ...      -0.545     -0.878  -0.363\n",
              "50%        -0.110          -0.224      -0.186  ...       0.132     -0.023  -0.363\n",
              "75%         0.649           0.378       0.418  ...       0.741      0.831  -0.363\n",
              "max         6.971           7.555       9.108  ...       2.027      1.686   2.752\n",
              "\n",
              "[8 rows x 21 columns]"
            ]
          },
          "metadata": {
            "tags": []
          },
          "execution_count": 61
        }
      ]
    },
    {
      "cell_type": "markdown",
      "metadata": {
        "id": "DBCvH6OylLFP",
        "colab_type": "text"
      },
      "source": [
        "## Executing the PCA"
      ]
    },
    {
      "cell_type": "code",
      "metadata": {
        "id": "td-OVgEL_d3n",
        "colab_type": "code",
        "colab": {}
      },
      "source": [
        "# Import the module and instantiate a PCA object\n",
        "from sklearn.decomposition import PCA\n",
        "model = PCA(n_components=7) #We pick 7 as the number of components...just because (it's a 3rd of the columns available)\n",
        "\n",
        "# Fit and transform the data\n",
        "data_reduced = model.fit_transform(data_scaled)"
      ],
      "execution_count": 0,
      "outputs": []
    },
    {
      "cell_type": "code",
      "metadata": {
        "id": "Ixg9dxpA_jwl",
        "colab_type": "code",
        "outputId": "24d8b001-7e7a-4f54-ea96-b38f703b57bc",
        "colab": {
          "base_uri": "https://localhost:8080/",
          "height": 33
        }
      },
      "source": [
        "# Make sure the data shape is as it should be\n",
        "data_reduced.shape"
      ],
      "execution_count": 63,
      "outputs": [
        {
          "output_type": "execute_result",
          "data": {
            "text/plain": [
              "(780, 7)"
            ]
          },
          "metadata": {
            "tags": []
          },
          "execution_count": 63
        }
      ]
    },
    {
      "cell_type": "code",
      "metadata": {
        "id": "ws8mS3kP_rTV",
        "colab_type": "code",
        "colab": {}
      },
      "source": [
        "plot_data = pd.DataFrame({'evr': model.explained_variance_ratio_, 'cumsum_evr': np.cumsum(model.explained_variance_ratio_)}).stack()"
      ],
      "execution_count": 0,
      "outputs": []
    },
    {
      "cell_type": "code",
      "metadata": {
        "id": "jIU1w47N_tw0",
        "colab_type": "code",
        "outputId": "8b01224b-a2ec-4b2c-a234-b537d3043230",
        "colab": {
          "base_uri": "https://localhost:8080/",
          "height": 516
        }
      },
      "source": [
        "# Is 7 components really a good choice?\n",
        "sns.set(rc={'figure.figsize':(11.7,8.27)})\n",
        "sns.lineplot(y = plot_data.values, x = plot_data.index.get_level_values(0), hue=plot_data.index.get_level_values(1))"
      ],
      "execution_count": 65,
      "outputs": [
        {
          "output_type": "execute_result",
          "data": {
            "text/plain": [
              "<matplotlib.axes._subplots.AxesSubplot at 0x7fbc427893c8>"
            ]
          },
          "metadata": {
            "tags": []
          },
          "execution_count": 65
        },
        {
          "output_type": "display_data",
          "data": {
            "image/png": "[encoded data removed]",
            "text/plain": [
              "<Figure size 842.4x595.44 with 1 Axes>"
            ]
          },
          "metadata": {
            "tags": []
          }
        }
      ]
    },
    {
      "cell_type": "code",
      "metadata": {
        "id": "TLwGOr6F_2T4",
        "colab_type": "code",
        "outputId": "6e1ee0f4-aea9-44ce-81da-7c10d6ec4a3d",
        "colab": {
          "base_uri": "https://localhost:8080/",
          "height": 33
        }
      },
      "source": [
        "# How mach \"information\" do we kick out?\n",
        "model.explained_variance_ratio_.sum()"
      ],
      "execution_count": 68,
      "outputs": [
        {
          "output_type": "execute_result",
          "data": {
            "text/plain": [
              "0.730583269059914"
            ]
          },
          "metadata": {
            "tags": []
          },
          "execution_count": 68
        }
      ]
    },
    {
      "cell_type": "code",
      "metadata": {
        "id": "-QwIa9zAo8_Y",
        "colab_type": "code",
        "colab": {}
      },
      "source": [
        "pcscores = pd.DataFrame(data_reduced)\n",
        "loadings = pd.DataFrame(model.components_, columns=data.columns)\n",
        "loadings.index = ['PC'+str(i+1) for i in range(len(pcscores.columns))]"
      ],
      "execution_count": 0,
      "outputs": []
    },
    {
      "cell_type": "code",
      "metadata": {
        "id": "ByVCZSmmprEP",
        "colab_type": "code",
        "outputId": "9120a1cc-5fae-4387-ff31-d478232c1075",
        "colab": {
          "base_uri": "https://localhost:8080/",
          "height": 506
        }
      },
      "source": [
        "ax = sns.heatmap(loadings.transpose(), center=0, linewidths=0.5, \n",
        "                 cmap=\"bone\", vmin=-1, vmax=1, annot=True)"
      ],
      "execution_count": 70,
      "outputs": [
        {
          "output_type": "display_data",
          "data": {
            "image/png": "[encoded data removed]",
            "text/plain": [
              "<Figure size 842.4x595.44 with 2 Axes>"
            ]
          },
          "metadata": {
            "tags": []
          }
        }
      ]
    },
    {
      "cell_type": "code",
      "metadata": {
        "id": "Uw5kvgG9AIYp",
        "colab_type": "code",
        "outputId": "a8dd593d-dbe1-4f5f-e351-6d5fc08ecc5e",
        "colab": {
          "base_uri": "https://localhost:8080/",
          "height": 702
        }
      },
      "source": [
        "# Now we can plot in our points\n",
        "plt.figure(figsize=(12,12))\n",
        "g = sns.scatterplot(data_reduced[:,0], data_reduced[:,1],\n",
        "                    legend='full', palette='viridis')\n",
        "\n",
        "legend = g.get_legend()"
      ],
      "execution_count": 71,
      "outputs": [
        {
          "output_type": "display_data",
          "data": {
            "image/png": "[encoded data removed]",
            "text/plain": [
              "<Figure size 864x864 with 1 Axes>"
            ]
          },
          "metadata": {
            "tags": []
          }
        }
      ]
    },
    {
      "cell_type": "markdown",
      "metadata": {
        "id": "-JKwEhKyAUWc",
        "colab_type": "text"
      },
      "source": [
        "We can certainly make things much more fancy. However, as you can see, that will require more work.\n",
        "\n",
        "We can use `Bokeh` for an interactive visualisation."
      ]
    },
    {
      "cell_type": "code",
      "metadata": {
        "id": "jRafiaJLHisG",
        "colab_type": "code",
        "colab": {}
      },
      "source": [
        "import altair as alt"
      ],
      "execution_count": 0,
      "outputs": []
    },
    {
      "cell_type": "code",
      "metadata": {
        "id": "I4nPJ2S2A5a5",
        "colab_type": "code",
        "colab": {}
      },
      "source": [
        "# Define the data that we are going to use as a dataframe\n",
        "d = pd.DataFrame({'y': data_reduced[:,1],\n",
        "                 'x': data_reduced[:,0], \n",
        "                 'place': cities.place, \n",
        "                 'country': cities['alpha_2'],\n",
        "                 'region': cities['region']})"
      ],
      "execution_count": 0,
      "outputs": []
    },
    {
      "cell_type": "code",
      "metadata": {
        "id": "STz3jeSuDPF2",
        "colab_type": "code",
        "outputId": "402692aa-5a15-4a3c-b8c2-c3c993e708fd",
        "colab": {
          "base_uri": "https://localhost:8080/",
          "height": 367
        }
      },
      "source": [
        "alt.Chart(d).mark_point().encode(\n",
        "    x='x',\n",
        "    y='y',\n",
        "    color='region',\n",
        "    tooltip=['place', 'country', 'region']\n",
        ").interactive()"
      ],
      "execution_count": 138,
      "outputs": [
        {
          "output_type": "execute_result",
          "data": {
            "text/plain": [
              "alt.Chart(...)"
            ],
            "text/html": [
              "<!DOCTYPE html>\n",
              "<html>\n",
              "<head>\n",
              "  <style>\n",
              "    .vega-actions a {\n",
              "        margin-right: 12px;\n",
              "        color: #757575;\n",
              "        font-weight: normal;\n",
              "        font-size: 13px;\n",
              "    }\n",
              "    .error {\n",
              "        color: red;\n",
              "    }\n",
              "  </style>\n",
              "  <script type=\"text/javascript\" src=\"https://cdn.jsdelivr.net/npm//vega@5\"></script>\n",
              "  <script type=\"text/javascript\" src=\"https://cdn.jsdelivr.net/npm//vega-lite@3.4.0\"></script>\n",
              "  <script type=\"text/javascript\" src=\"https://cdn.jsdelivr.net/npm//vega-embed@4\"></script>\n",
              "</head>\n",
              "<body>\n",
              "  <div id=\"altair-viz\"></div>\n",
              "  <script>\n",
              "    (function(vegaEmbed) {\n",
              "      var spec = {\"config\": {\"view\": {\"width\": 400, \"height\": 300}, \"mark\": {\"tooltip\": null}}, \"data\": {\"name\": \"data-e1d334b2a6bea21f83f7bf692d51261e\"}, \"mark\": \"point\", \"encoding\": {\"color\": {\"type\": \"nominal\", \"field\": \"region\"}, \"tooltip\": [{\"type\": \"nominal\", \"field\": \"place\"}, {\"type\": \"nominal\", \"field\": \"country\"}, {\"type\": \"nominal\", \"field\": \"region\"}], \"x\": {\"type\": \"quantitative\", \"field\": \"x\"}, \"y\": {\"type\": \"quantitative\", \"field\": \"y\"}}, \"selection\": {\"selector004\": {\"type\": \"interval\", \"bind\": \"scales\", \"encodings\": [\"x\", \"y\"]}}, \"$schema\": \"https://vega.github.io/schema/vega-lite/v3.4.0.json\", \"datasets\": {\"data-e1d334b2a6bea21f83f7bf692d51261e\": [{\"y\": -1.9848081353667326, \"x\": -0.5493278338215589, \"place\": \"Budapest\", \"country\": \"HU\", \"region\": \"Europe\"}, {\"y\": -1.8635524237362435, \"x\": 1.893504008694607, \"place\": \"Chiang Mai\", \"country\": \"TH\", \"region\": \"Asia\"}, {\"y\": -1.418357037018604, \"x\": 1.3315213337158043, \"place\": \"Phuket\", \"country\": \"TH\", \"region\": \"Asia\"}, {\"y\": -2.9395209358475767, \"x\": -0.2876847247345722, \"place\": \"Bangkok\", \"country\": \"TH\", \"region\": \"Asia\"}, {\"y\": -2.4228726585803093, \"x\": 0.5037005632741828, \"place\": \"Ko Samui\", \"country\": \"TH\", \"region\": \"Asia\"}, {\"y\": -1.4871294129886743, \"x\": 1.723453403406715, \"place\": \"Ko Lanta\", \"country\": \"TH\", \"region\": \"Asia\"}, {\"y\": -1.8999591686376243, \"x\": 1.4941570707064349, \"place\": \"Chiang Rai\", \"country\": \"TH\", \"region\": \"Asia\"}, {\"y\": -1.5795750269804478, \"x\": 1.5711882079384283, \"place\": \"Pattaya\", \"country\": \"TH\", \"region\": \"Asia\"}, {\"y\": -0.5428707510072978, \"x\": 2.5873432212905527, \"place\": \"Ao Nang\", \"country\": \"TH\", \"region\": \"Asia\"}, {\"y\": 0.0754358796953127, \"x\": 2.689552816464869, \"place\": \"Hua Hin\", \"country\": \"TH\", \"region\": \"Asia\"}, {\"y\": -1.4426515753330937, \"x\": 2.1878562399098556, \"place\": \"Ko Pha Ngan\", \"country\": \"TH\", \"region\": \"Asia\"}, {\"y\": -1.1697677924977465, \"x\": 2.2032597858111824, \"place\": \"Ko Tao\", \"country\": \"TH\", \"region\": \"Asia\"}, {\"y\": -1.2859745013446675, \"x\": 2.263013116452748, \"place\": \"Ko Phi Phi\", \"country\": \"TH\", \"region\": \"Asia\"}, {\"y\": -0.488299827561967, \"x\": 2.0632074599290653, \"place\": \"Pai\", \"country\": \"TH\", \"region\": \"Asia\"}, {\"y\": -2.8425825579351094, \"x\": -2.3886429979611843, \"place\": \"Prague\", \"country\": \"CZ\", \"region\": \"Europe\"}, {\"y\": -1.6828471719144151, \"x\": -0.27730130552305887, \"place\": \"Brno\", \"country\": \"CZ\", \"region\": \"Europe\"}, {\"y\": -3.0530646917351945, \"x\": -1.957395874953559, \"place\": \"Taipei\", \"country\": \"TW\", \"region\": \"Asia\"}, {\"y\": -1.8457540731143214, \"x\": -0.5538016425341726, \"place\": \"New Taipei City\", \"country\": \"TW\", \"region\": \"Asia\"}, {\"y\": -0.8586459526477096, \"x\": 0.2241567040564072, \"place\": \"Taichung\", \"country\": \"TW\", \"region\": \"Asia\"}, {\"y\": -2.626242643543135, \"x\": -0.8440890980222533, \"place\": \"Kaohsiung\", \"country\": \"TW\", \"region\": \"Asia\"}, {\"y\": -1.6305507548739746, \"x\": 0.15484315408792784, \"place\": \"Tainan\", \"country\": \"TW\", \"region\": \"Asia\"}, {\"y\": -0.6626801290501099, \"x\": -4.171127460724431, \"place\": \"Austin\", \"country\": \"US\", \"region\": \"Americas\"}, {\"y\": -1.057402364585131, \"x\": -4.671410376414057, \"place\": \"Miami\", \"country\": \"US\", \"region\": \"Americas\"}, {\"y\": -0.9167232686963951, \"x\": -3.98862049479449, \"place\": \"Portland\", \"country\": \"US\", \"region\": \"Americas\"}, {\"y\": 0.03316226860210894, \"x\": -4.5041023131897004, \"place\": \"San Diego\", \"country\": \"US\", \"region\": \"Americas\"}, {\"y\": -0.377943313410799, \"x\": -3.0112829694002783, \"place\": \"Atlanta\", \"country\": \"US\", \"region\": \"Americas\"}, {\"y\": -0.25615955378371164, \"x\": -2.979230878862699, \"place\": \"Minneapolis\", \"country\": \"US\", \"region\": \"Americas\"}, {\"y\": 0.7241811654180774, \"x\": -2.6810615045765016, \"place\": \"Oakland\", \"country\": \"US\", \"region\": \"Americas\"}, {\"y\": 1.6032059561644512, \"x\": -1.3661855099567313, \"place\": \"Houston\", \"country\": \"US\", \"region\": \"Americas\"}, {\"y\": -1.7274804548621474, \"x\": -4.252100792976867, \"place\": \"Las Vegas\", \"country\": \"US\", \"region\": \"Americas\"}, {\"y\": 0.2804688972548403, \"x\": -3.9146515517999734, \"place\": \"Denver\", \"country\": \"US\", \"region\": \"Americas\"}, {\"y\": 0.2665957768276399, \"x\": -3.997983792450722, \"place\": \"Seattle\", \"country\": \"US\", \"region\": \"Americas\"}, {\"y\": -0.7976766314048741, \"x\": -2.8139431203455194, \"place\": \"San Antonio\", \"country\": \"US\", \"region\": \"Americas\"}, {\"y\": -0.29042059974888607, \"x\": -2.929888295215362, \"place\": \"Dallas\", \"country\": \"US\", \"region\": \"Americas\"}, {\"y\": -0.9401518728034587, \"x\": -3.598497431235494, \"place\": \"Kansas City\", \"country\": \"US\", \"region\": \"Americas\"}, {\"y\": -0.7434112135408452, \"x\": -2.76145942385257, \"place\": \"Madison\", \"country\": \"US\", \"region\": \"Americas\"}, {\"y\": -1.0001284814047244, \"x\": -3.137263961390965, \"place\": \"Buffalo\", \"country\": \"US\", \"region\": \"Americas\"}, {\"y\": 0.06383485093647666, \"x\": -3.4201786979890443, \"place\": \"Fort Lauderdale\", \"country\": \"US\", \"region\": \"Americas\"}, {\"y\": -0.23830872374054565, \"x\": -2.5497755293075093, \"place\": \"Tampa\", \"country\": \"US\", \"region\": \"Americas\"}, {\"y\": -1.0182797327132482, \"x\": -2.498273673217826, \"place\": \"Louisville\", \"country\": \"US\", \"region\": \"Americas\"}, {\"y\": 1.0156961706030037, \"x\": -4.761673071620962, \"place\": \"Philadelphia\", \"country\": \"US\", \"region\": \"Americas\"}, {\"y\": -0.2741760191434367, \"x\": -3.05272594059161, \"place\": \"New Orleans\", \"country\": \"US\", \"region\": \"Americas\"}, {\"y\": 0.7957555727099785, \"x\": -2.918736824815462, \"place\": \"Richmond\", \"country\": \"US\", \"region\": \"Americas\"}, {\"y\": -0.3858714892608155, \"x\": -3.4624227153925915, \"place\": \"Sacramento\", \"country\": \"US\", \"region\": \"Americas\"}, {\"y\": -1.193583295457401, \"x\": -2.624721700579159, \"place\": \"Albuquerque\", \"country\": \"US\", \"region\": \"Americas\"}, {\"y\": 0.4092900672115953, \"x\": -1.654682707882925, \"place\": \"Norfolk\", \"country\": \"US\", \"region\": \"Americas\"}, {\"y\": -0.38944605887604866, \"x\": -2.6889814251404416, \"place\": \"Colorado Springs\", \"country\": \"US\", \"region\": \"Americas\"}, {\"y\": -1.70643629037527, \"x\": -3.184773888643611, \"place\": \"Windsor\", \"country\": \"US\", \"region\": \"Americas\"}, {\"y\": 0.6858533549869807, \"x\": -2.128046641839587, \"place\": \"Omaha\", \"country\": \"US\", \"region\": \"Americas\"}, {\"y\": 0.14887671301778305, \"x\": -2.705891530435906, \"place\": \"Raleigh\", \"country\": \"US\", \"region\": \"Americas\"}, {\"y\": 0.2553705639654183, \"x\": -3.055428962971562, \"place\": \"Nashville\", \"country\": \"US\", \"region\": \"Americas\"}, {\"y\": 0.4092783862856908, \"x\": -3.4839843506748314, \"place\": \"Milwaukee\", \"country\": \"US\", \"region\": \"Americas\"}, {\"y\": 0.6302317910296262, \"x\": -2.431825340069861, \"place\": \"Phoenix\", \"country\": \"US\", \"region\": \"Americas\"}, {\"y\": 0.33193313578037426, \"x\": -2.04993264524205, \"place\": \"Rochester\", \"country\": \"US\", \"region\": \"Americas\"}, {\"y\": 0.4360588218372309, \"x\": -2.3201479323602627, \"place\": \"Orlando\", \"country\": \"US\", \"region\": \"Americas\"}, {\"y\": -0.24491395617133602, \"x\": -2.2885597265437183, \"place\": \"Tucson\", \"country\": \"US\", \"region\": \"Americas\"}, {\"y\": 0.016469415334681145, \"x\": -2.7445389428337528, \"place\": \"Asheville\", \"country\": \"US\", \"region\": \"Americas\"}, {\"y\": -0.49787739171953516, \"x\": -2.697439250981465, \"place\": \"Grand Rapids\", \"country\": \"US\", \"region\": \"Americas\"}, {\"y\": 0.35460435243003974, \"x\": -3.4297528606317895, \"place\": \"San Jose\", \"country\": \"US\", \"region\": \"Americas\"}, {\"y\": -0.2599451563318176, \"x\": -3.329119378139195, \"place\": \"Pittsburgh\", \"country\": \"US\", \"region\": \"Americas\"}, {\"y\": 2.2017591433853023, \"x\": -4.145507442558095, \"place\": \"Palo Alto\", \"country\": \"US\", \"region\": \"Americas\"}, {\"y\": 0.9651798075978276, \"x\": -1.969629385477534, \"place\": \"Oklahoma City\", \"country\": \"US\", \"region\": \"Americas\"}, {\"y\": 0.02191031457401229, \"x\": -2.3380682959793044, \"place\": \"St. Louis\", \"country\": \"US\", \"region\": \"Americas\"}, {\"y\": -0.04397189802815964, \"x\": -3.376592104703656, \"place\": \"Salt Lake City\", \"country\": \"US\", \"region\": \"Americas\"}, {\"y\": -0.6185571109895173, \"x\": -2.758906677806294, \"place\": \"Charlotte\", \"country\": \"US\", \"region\": \"Americas\"}, {\"y\": -0.001662764589249973, \"x\": -4.2462044684369875, \"place\": \"Boulder\", \"country\": \"US\", \"region\": \"Americas\"}, {\"y\": 0.5224383222430973, \"x\": -3.0091181536531857, \"place\": \"Bellingham\", \"country\": \"US\", \"region\": \"Americas\"}, {\"y\": -0.09625162109353047, \"x\": -4.54393110881046, \"place\": \"Honolulu\", \"country\": \"US\", \"region\": \"Americas\"}, {\"y\": -1.2160368521163647, \"x\": -2.9621813420950107, \"place\": \"Cincinnati\", \"country\": \"US\", \"region\": \"Americas\"}, {\"y\": 0.5980072942453284, \"x\": -3.4289763347345805, \"place\": \"Columbus\", \"country\": \"US\", \"region\": \"Americas\"}, {\"y\": 0.08279077255812488, \"x\": -2.49274610206192, \"place\": \"Gainesville\", \"country\": \"US\", \"region\": \"Americas\"}, {\"y\": -0.5045695053574388, \"x\": -4.046006421063922, \"place\": \"Baton Rouge\", \"country\": \"US\", \"region\": \"Americas\"}, {\"y\": -1.39784675533776, \"x\": -2.805643628796755, \"place\": \"Chico\", \"country\": \"US\", \"region\": \"Americas\"}, {\"y\": 0.607058062518999, \"x\": -2.3032113318874283, \"place\": \"Flagstaff\", \"country\": \"US\", \"region\": \"Americas\"}, {\"y\": 1.5449022154374004, \"x\": -4.2733603369968645, \"place\": \"Fairfax\", \"country\": \"US\", \"region\": \"Americas\"}, {\"y\": -0.40883837768556214, \"x\": -2.1047117405717843, \"place\": \"Memphis\", \"country\": \"US\", \"region\": \"Americas\"}, {\"y\": 0.021158655028840498, \"x\": -2.6904571257009513, \"place\": \"Boise\", \"country\": \"US\", \"region\": \"Americas\"}, {\"y\": 0.3265905342503379, \"x\": -2.320252146231851, \"place\": \"Des Moines\", \"country\": \"US\", \"region\": \"Americas\"}, {\"y\": 1.7717142573344367, \"x\": -2.399986167384232, \"place\": \"Mount Vernon\", \"country\": \"US\", \"region\": \"Americas\"}, {\"y\": -0.10741713054513059, \"x\": -1.6891174013827415, \"place\": \"Knoxville\", \"country\": \"US\", \"region\": \"Americas\"}, {\"y\": 0.7409947582608923, \"x\": -2.778047912464685, \"place\": \"Provo\", \"country\": \"US\", \"region\": \"Americas\"}, {\"y\": 0.7997033679962521, \"x\": -0.8574301054202477, \"place\": \"Ogden\", \"country\": \"US\", \"region\": \"Americas\"}, {\"y\": 0.7894801745377981, \"x\": -1.7598264004996529, \"place\": \"Reno\", \"country\": \"US\", \"region\": \"Americas\"}, {\"y\": 0.16052567588988134, \"x\": -2.197074787859478, \"place\": \"Virginia Beach\", \"country\": \"US\", \"region\": \"Americas\"}, {\"y\": -0.03529360546843571, \"x\": -0.9736913104474701, \"place\": \"Battle Creek\", \"country\": \"US\", \"region\": \"Americas\"}, {\"y\": -0.8510532086464583, \"x\": -4.125775753957839, \"place\": \"Los Angeles\", \"country\": \"US\", \"region\": \"Americas\"}, {\"y\": 1.4837128075720634, \"x\": -3.7134881960027797, \"place\": \"Newark\", \"country\": \"US\", \"region\": \"Americas\"}, {\"y\": 1.8261747808256006, \"x\": -5.156985351949844, \"place\": \"New York City\", \"country\": \"US\", \"region\": \"Americas\"}, {\"y\": 0.3418977276132829, \"x\": -3.1473917868422516, \"place\": \"Chattanooga\", \"country\": \"US\", \"region\": \"Americas\"}, {\"y\": 0.5595565853336448, \"x\": -4.133285969275276, \"place\": \"Park City\", \"country\": \"US\", \"region\": \"Americas\"}, {\"y\": -0.539960825647455, \"x\": -1.9066000619347796, \"place\": \"Jacksonville\", \"country\": \"US\", \"region\": \"Americas\"}, {\"y\": 0.5654061816313386, \"x\": -2.575154083600658, \"place\": \"Fargo\", \"country\": \"US\", \"region\": \"Americas\"}, {\"y\": -1.3829074461550304, \"x\": -2.9303391942902226, \"place\": \"Fresno\", \"country\": \"US\", \"region\": \"Americas\"}, {\"y\": 0.7348873270687131, \"x\": -2.068891511328252, \"place\": \"Bloomington\", \"country\": \"US\", \"region\": \"Americas\"}, {\"y\": 2.5547380800837045, \"x\": -2.467083037903491, \"place\": \"Baltimore\", \"country\": \"US\", \"region\": \"Americas\"}, {\"y\": 0.5899779863388612, \"x\": -1.6430473961452496, \"place\": \"Wichita\", \"country\": \"US\", \"region\": \"Americas\"}, {\"y\": 1.1529817022896043, \"x\": -1.2300937996074481, \"place\": \"Cleveland\", \"country\": \"US\", \"region\": \"Americas\"}, {\"y\": 0.6080875246680395, \"x\": -4.051036899167703, \"place\": \"Key West\", \"country\": \"US\", \"region\": \"Americas\"}, {\"y\": 0.8232749571103223, \"x\": -2.310678080787217, \"place\": \"Beacon\", \"country\": \"US\", \"region\": \"Americas\"}, {\"y\": 1.257576298392684, \"x\": -2.8314727519627927, \"place\": \"Ann Arbor\", \"country\": \"US\", \"region\": \"Americas\"}, {\"y\": 1.4712753974194408, \"x\": -3.451731889955265, \"place\": \"Princeton\", \"country\": \"US\", \"region\": \"Americas\"}, {\"y\": 0.5343597403140109, \"x\": -3.0824754014618034, \"place\": \"West Palm Beach\", \"country\": \"US\", \"region\": \"Americas\"}, {\"y\": 0.9023620962444013, \"x\": -1.6878158925174545, \"place\": \"Indianapolis\", \"country\": \"US\", \"region\": \"Americas\"}, {\"y\": 2.2298643616147285, \"x\": -3.2479658887924416, \"place\": \"Scottsdale\", \"country\": \"US\", \"region\": \"Americas\"}, {\"y\": 1.6015316755673983, \"x\": -2.241427474508911, \"place\": \"Tulsa\", \"country\": \"US\", \"region\": \"Americas\"}, {\"y\": 1.1809833325654717, \"x\": -4.829737683997275, \"place\": \"San Francisco\", \"country\": \"US\", \"region\": \"Americas\"}, {\"y\": 1.678422416459691, \"x\": -4.650027930492833, \"place\": \"Washington\", \"country\": \"US\", \"region\": \"Americas\"}, {\"y\": 0.058766930399356605, \"x\": -4.006422421652029, \"place\": \"Hilo\", \"country\": \"US\", \"region\": \"Americas\"}, {\"y\": 1.3802951775324863, \"x\": -3.305106327895289, \"place\": \"Boston\", \"country\": \"US\", \"region\": \"Americas\"}, {\"y\": 1.3200246811005005, \"x\": -2.4137444251855458, \"place\": \"Huntsville\", \"country\": \"US\", \"region\": \"Americas\"}, {\"y\": 2.628157603788758, \"x\": -3.195324979845677, \"place\": \"Stamford\", \"country\": \"US\", \"region\": \"Americas\"}, {\"y\": 0.5509390497861743, \"x\": -2.622984394913556, \"place\": \"Dayton\", \"country\": \"US\", \"region\": \"Americas\"}, {\"y\": 1.8090223407874302, \"x\": -3.119778437689794, \"place\": \"Hartford\", \"country\": \"US\", \"region\": \"Americas\"}, {\"y\": 0.9853724549819873, \"x\": -2.301130106881694, \"place\": \"Syracuse\", \"country\": \"US\", \"region\": \"Americas\"}, {\"y\": 3.4569038875649567, \"x\": -3.275971312912778, \"place\": \"Monterey\", \"country\": \"US\", \"region\": \"Americas\"}, {\"y\": 2.0508357423402277, \"x\": -2.1108595523141425, \"place\": \"Bedford\", \"country\": \"US\", \"region\": \"Americas\"}, {\"y\": 1.6143403417875348, \"x\": -1.8502422498423272, \"place\": \"Ithaca\", \"country\": \"US\", \"region\": \"Americas\"}, {\"y\": 1.684510305656479, \"x\": -3.353508643963297, \"place\": \"Santa Monica\", \"country\": \"US\", \"region\": \"Americas\"}, {\"y\": 1.2096480844309963, \"x\": -3.228393520255156, \"place\": \"Anchorage\", \"country\": \"US\", \"region\": \"Americas\"}, {\"y\": 3.494397752411146, \"x\": -3.557865955040311, \"place\": \"Santa Barbara\", \"country\": \"US\", \"region\": \"Americas\"}, {\"y\": 2.2081127294494, \"x\": -2.1422762159999813, \"place\": \"Salem\", \"country\": \"US\", \"region\": \"Americas\"}, {\"y\": 0.1903322393449465, \"x\": -1.076770039795621, \"place\": \"Detroit\", \"country\": \"US\", \"region\": \"Americas\"}, {\"y\": 1.5409018167472603, \"x\": -1.887321479787978, \"place\": \"York\", \"country\": \"US\", \"region\": \"Americas\"}, {\"y\": 0.20646916600910262, \"x\": -2.126133423566604, \"place\": \"Charleston\", \"country\": \"US\", \"region\": \"Americas\"}, {\"y\": 1.4456022236499446, \"x\": -1.1141111859149015, \"place\": \"Saint Louis\", \"country\": \"US\", \"region\": \"Americas\"}, {\"y\": -1.5036623471275485, \"x\": 2.1728878824392095, \"place\": \"Fez\", \"country\": \"US\", \"region\": \"Americas\"}, {\"y\": -0.4132665352335382, \"x\": -2.7376411784634285, \"place\": \"Kobe\", \"country\": \"US\", \"region\": \"Americas\"}, {\"y\": 2.466872956625374, \"x\": -1.6783782668363048, \"place\": \"Chicago\", \"country\": \"US\", \"region\": \"Americas\"}, {\"y\": 3.639055388522241, \"x\": 0.26386510182761636, \"place\": \"An\\u00e1polis\", \"country\": \"US\", \"region\": \"Americas\"}, {\"y\": 1.6648324045681844, \"x\": 0.5813834946666321, \"place\": \"George Town\", \"country\": \"US\", \"region\": \"Americas\"}, {\"y\": -0.7638455535221558, \"x\": -3.42290951944314, \"place\": \"Madrid\", \"country\": \"ES\", \"region\": \"Europe\"}, {\"y\": -1.3402743636642016, \"x\": -2.575406177619219, \"place\": \"Las Palmas\", \"country\": \"ES\", \"region\": \"Europe\"}, {\"y\": -0.8904564645035413, \"x\": -2.227858401012917, \"place\": \"Seville\", \"country\": \"ES\", \"region\": \"Europe\"}, {\"y\": -1.237494412577914, \"x\": -2.896382624351684, \"place\": \"Valencia\", \"country\": \"ES\", \"region\": \"Europe\"}, {\"y\": -0.5003185855928555, \"x\": -3.7112663393472434, \"place\": \"Barcelona\", \"country\": \"ES\", \"region\": \"Europe\"}, {\"y\": 0.962580884323646, \"x\": -2.0448819822331434, \"place\": \"Bilbao\", \"country\": \"ES\", \"region\": \"Europe\"}, {\"y\": -0.5999428384777022, \"x\": -4.017397598544938, \"place\": \"Palma De Mallorca\", \"country\": \"ES\", \"region\": \"Europe\"}, {\"y\": 0.1729086669971888, \"x\": -3.0206053810147697, \"place\": \"Alicante\", \"country\": \"ES\", \"region\": \"Europe\"}, {\"y\": -1.9381297679439917, \"x\": -1.9418554491867501, \"place\": \"Corralejo\", \"country\": \"ES\", \"region\": \"Europe\"}, {\"y\": 0.016627818296328964, \"x\": -1.593383799767389, \"place\": \"A Coruna\", \"country\": \"ES\", \"region\": \"Europe\"}, {\"y\": -0.47424501128312, \"x\": -1.5082648144296626, \"place\": \"Malaga\", \"country\": \"ES\", \"region\": \"Europe\"}, {\"y\": -0.33779066313462275, \"x\": -0.6298094812448508, \"place\": \"Pamplona\", \"country\": \"ES\", \"region\": \"Europe\"}, {\"y\": 1.0151677029326367, \"x\": -1.6682588479688034, \"place\": \"Granada\", \"country\": \"ES\", \"region\": \"Europe\"}, {\"y\": -1.4352222331861395, \"x\": -2.2171089902819694, \"place\": \"Marbella\", \"country\": \"ES\", \"region\": \"Europe\"}, {\"y\": -0.9775227021467853, \"x\": -2.424091848387984, \"place\": \"Ciutadella\", \"country\": \"ES\", \"region\": \"Europe\"}, {\"y\": -0.988908411174802, \"x\": -1.023689855523914, \"place\": \"Ibi\", \"country\": \"ES\", \"region\": \"Europe\"}, {\"y\": -2.1081969690770275, \"x\": -2.034773027792588, \"place\": \"Porto\", \"country\": \"PT\", \"region\": \"Europe\"}, {\"y\": -2.3075941399956053, \"x\": -2.6680286821111534, \"place\": \"Lisbon\", \"country\": \"PT\", \"region\": \"Europe\"}, {\"y\": -2.0453584647097154, \"x\": -1.5729246323357784, \"place\": \"Braga\", \"country\": \"PT\", \"region\": \"Europe\"}, {\"y\": -1.3740580117794454, \"x\": -1.8701398360902906, \"place\": \"Aveiro\", \"country\": \"PT\", \"region\": \"Europe\"}, {\"y\": -1.1750797881617447, \"x\": -0.49272794713595236, \"place\": \"Funchal\", \"country\": \"PT\", \"region\": \"Europe\"}, {\"y\": -0.4051348569961234, \"x\": -1.4767098265189809, \"place\": \"Coimbra\", \"country\": \"PT\", \"region\": \"Europe\"}, {\"y\": 0.1659466141965677, \"x\": -2.6595970093949513, \"place\": \"Brussels\", \"country\": \"BE\", \"region\": \"Europe\"}, {\"y\": -0.5684178324809627, \"x\": -5.491569493172513, \"place\": \"Antwerp\", \"country\": \"BE\", \"region\": \"Europe\"}, {\"y\": -0.8394921623684, \"x\": -2.82333464016937, \"place\": \"Ghent\", \"country\": \"BE\", \"region\": \"Europe\"}, {\"y\": 0.12663465274278227, \"x\": -2.2806484572963948, \"place\": \"Leuven\", \"country\": \"BE\", \"region\": \"Europe\"}, {\"y\": -1.2186421449151525, \"x\": -4.1423908499780335, \"place\": \"Wellington\", \"country\": \"NZ\", \"region\": \"Oceania\"}, {\"y\": -0.8966549011785643, \"x\": -2.458201720605276, \"place\": \"Christchurch\", \"country\": \"NZ\", \"region\": \"Oceania\"}, {\"y\": 0.39999271547267007, \"x\": -3.5811183636989776, \"place\": \"Auckland\", \"country\": \"NZ\", \"region\": \"Oceania\"}, {\"y\": 0.1626497509535651, \"x\": -3.767573141216816, \"place\": \"Dunedin\", \"country\": \"NZ\", \"region\": \"Oceania\"}, {\"y\": -0.5042991757186038, \"x\": -4.268936240796309, \"place\": \"Stockholm\", \"country\": \"SE\", \"region\": \"Europe\"}, {\"y\": -1.3047999867124422, \"x\": -4.446942079657023, \"place\": \"Gothenburg\", \"country\": \"SE\", \"region\": \"Europe\"}, {\"y\": -0.37558558707215467, \"x\": -2.6247780954714597, \"place\": \"Malmo\", \"country\": \"SE\", \"region\": \"Europe\"}, {\"y\": -2.084562841474038, \"x\": 0.5690766529698699, \"place\": \"Ubud\", \"country\": \"ID\", \"region\": \"Asia\"}, {\"y\": -2.2142048270534502, \"x\": 1.9620133902929666, \"place\": \"Denpasar\", \"country\": \"ID\", \"region\": \"Asia\"}, {\"y\": -1.34079088244453, \"x\": 0.5655663275129725, \"place\": \"Canggu\", \"country\": \"ID\", \"region\": \"Asia\"}, {\"y\": -0.9002415676456776, \"x\": 2.412974175117689, \"place\": \"Kuta\", \"country\": \"ID\", \"region\": \"Asia\"}, {\"y\": -0.8075693356403949, \"x\": 3.0442517796821433, \"place\": \"Makassar\", \"country\": \"ID\", \"region\": \"Asia\"}, {\"y\": -1.4449489911252291, \"x\": 2.5888008785702366, \"place\": \"Bandung\", \"country\": \"ID\", \"region\": \"Asia\"}, {\"y\": -1.1157536614600718, \"x\": 2.886215763019712, \"place\": \"Surabaya\", \"country\": \"ID\", \"region\": \"Asia\"}, {\"y\": -1.3039538767449246, \"x\": 3.1253487184988615, \"place\": \"Malang\", \"country\": \"ID\", \"region\": \"Asia\"}, {\"y\": -0.40598907768688575, \"x\": 2.2028690255575, \"place\": \"Jakarta\", \"country\": \"ID\", \"region\": \"Asia\"}, {\"y\": -1.7750423139320448, \"x\": 2.888250310062676, \"place\": \"Cirebon\", \"country\": \"ID\", \"region\": \"Asia\"}, {\"y\": -0.27801079648857485, \"x\": 3.109302656986196, \"place\": \"Yogyakarta\", \"country\": \"ID\", \"region\": \"Asia\"}, {\"y\": -0.5463471041211073, \"x\": 4.466937694603012, \"place\": \"Surakarta\", \"country\": \"ID\", \"region\": \"Asia\"}, {\"y\": -0.37587209447482334, \"x\": 4.614431803584846, \"place\": \"Semarang\", \"country\": \"ID\", \"region\": \"Asia\"}, {\"y\": -0.1772662445097096, \"x\": 4.223988558985537, \"place\": \"Pekanbaru\", \"country\": \"ID\", \"region\": \"Asia\"}, {\"y\": -1.6025201046753985, \"x\": 3.071741962424333, \"place\": \"Batam\", \"country\": \"ID\", \"region\": \"Asia\"}, {\"y\": -2.0915611050183296, \"x\": -1.6778196997654193, \"place\": \"Buenos Aires\", \"country\": \"AR\", \"region\": \"Americas\"}, {\"y\": -1.4521681540577198, \"x\": -0.4305893915475503, \"place\": \"La Plata\", \"country\": \"AR\", \"region\": \"Americas\"}, {\"y\": -0.5188095709548113, \"x\": 0.8126999211552425, \"place\": \"Mar del Plata\", \"country\": \"AR\", \"region\": \"Americas\"}, {\"y\": -3.136137308162488, \"x\": -0.3875769052838599, \"place\": \"Cordoba\", \"country\": \"AR\", \"region\": \"Americas\"}, {\"y\": 0.6522682229221455, \"x\": -0.6563881065748753, \"place\": \"Rosario\", \"country\": \"AR\", \"region\": \"Americas\"}, {\"y\": 1.57141660612606, \"x\": -0.01625398475515184, \"place\": \"Mendoza\", \"country\": \"AR\", \"region\": \"Americas\"}, {\"y\": -1.2958569308051204, \"x\": -3.248156374840252, \"place\": \"Montreal\", \"country\": \"CA\", \"region\": \"Americas\"}, {\"y\": -1.7533697963132813, \"x\": -1.9919715716081081, \"place\": \"Quebec City\", \"country\": \"CA\", \"region\": \"Americas\"}, {\"y\": -0.45433876827289754, \"x\": -1.8899433771725178, \"place\": \"Halifax\", \"country\": \"CA\", \"region\": \"Americas\"}, {\"y\": -1.3447741454717963, \"x\": -2.2683341460105906, \"place\": \"Ottawa\", \"country\": \"CA\", \"region\": \"Americas\"}, {\"y\": -1.0718286387128553, \"x\": -3.60191437454431, \"place\": \"Victoria\", \"country\": \"CA\", \"region\": \"Americas\"}, {\"y\": 0.8798583413418201, \"x\": -1.9984512023663372, \"place\": \"Calgary\", \"country\": \"CA\", \"region\": \"Americas\"}, {\"y\": -0.24371266251852294, \"x\": -4.018151172549929, \"place\": \"Kitchener\", \"country\": \"CA\", \"region\": \"Americas\"}, {\"y\": -1.6720704862957094, \"x\": -2.6984396490856497, \"place\": \"Oshawa\", \"country\": \"CA\", \"region\": \"Americas\"}, {\"y\": 0.2659976255989094, \"x\": -5.539548214787265, \"place\": \"Lethbridge\", \"country\": \"CA\", \"region\": \"Americas\"}, {\"y\": -0.5031821672245154, \"x\": -3.873217327944084, \"place\": \"Kelowna\", \"country\": \"CA\", \"region\": \"Americas\"}, {\"y\": -1.411380703091216, \"x\": -2.8126325725132535, \"place\": \"Surrey\", \"country\": \"CA\", \"region\": \"Americas\"}, {\"y\": -1.0501376682265853, \"x\": -1.1948563014687021, \"place\": \"Chatham\", \"country\": \"CA\", \"region\": \"Americas\"}, {\"y\": -0.9780104508616746, \"x\": -2.8309841208481887, \"place\": \"Winnipeg\", \"country\": \"CA\", \"region\": \"Americas\"}, {\"y\": -1.145731022283315, \"x\": -2.516169696059805, \"place\": \"Saskatoon\", \"country\": \"CA\", \"region\": \"Americas\"}, {\"y\": -0.06344952329417466, \"x\": -2.054343131691627, \"place\": \"Barrie\", \"country\": \"CA\", \"region\": \"Americas\"}, {\"y\": -0.21032934081328414, \"x\": -1.6408805413986247, \"place\": \"Regina\", \"country\": \"CA\", \"region\": \"Americas\"}, {\"y\": 0.014924687345859272, \"x\": -3.2049050055823676, \"place\": \"Vancouver\", \"country\": \"CA\", \"region\": \"Americas\"}, {\"y\": -0.7785662157046743, \"x\": -0.9401499873214418, \"place\": \"Edmonton\", \"country\": \"CA\", \"region\": \"Americas\"}, {\"y\": 0.5621151250902418, \"x\": -2.744983242742239, \"place\": \"Nanaimo\", \"country\": \"CA\", \"region\": \"Americas\"}, {\"y\": -1.0401911573301836, \"x\": -2.5381891965046974, \"place\": \"St.Catharines\", \"country\": \"CA\", \"region\": \"Americas\"}, {\"y\": 0.039895469477994334, \"x\": -3.959872808069539, \"place\": \"Moncton\", \"country\": \"CA\", \"region\": \"Americas\"}, {\"y\": -0.4465091718871698, \"x\": -2.6239391254250273, \"place\": \"Toronto\", \"country\": \"CA\", \"region\": \"Americas\"}, {\"y\": -0.7946024354268091, \"x\": -3.4150496973268867, \"place\": \"Abbotsford\", \"country\": \"CA\", \"region\": \"Americas\"}, {\"y\": -0.7900312270921689, \"x\": -1.890984475753045, \"place\": \"Brampton\", \"country\": \"CA\", \"region\": \"Americas\"}, {\"y\": 0.5491128981447321, \"x\": -2.609278048676548, \"place\": \"Whistler\", \"country\": \"CA\", \"region\": \"Americas\"}, {\"y\": -0.1896983476985417, \"x\": -2.20764979340056, \"place\": \"Fredericton\", \"country\": \"CA\", \"region\": \"Americas\"}, {\"y\": 2.724944474726943, \"x\": -2.9089382661234624, \"place\": \"Fort McMurray\", \"country\": \"CA\", \"region\": \"Americas\"}, {\"y\": -2.512718632740602, \"x\": -4.605076612522129, \"place\": \"Berlin\", \"country\": \"DE\", \"region\": \"Europe\"}, {\"y\": -0.4895876284256061, \"x\": -3.7374672348496585, \"place\": \"Hamburg\", \"country\": \"DE\", \"region\": \"Europe\"}, {\"y\": -0.7168983217424861, \"x\": -3.12802812691846, \"place\": \"Cologne\", \"country\": \"DE\", \"region\": \"Europe\"}, {\"y\": -1.5110173896358028, \"x\": -4.149029925236691, \"place\": \"Munich\", \"country\": \"DE\", \"region\": \"Europe\"}, {\"y\": -1.6426016393846785, \"x\": -3.974064626661398, \"place\": \"Stuttgart\", \"country\": \"DE\", \"region\": \"Europe\"}, {\"y\": -1.2930640996669351, \"x\": -3.1517772035691602, \"place\": \"Nuremberg\", \"country\": \"DE\", \"region\": \"Europe\"}, {\"y\": -0.31755560741155364, \"x\": -2.1904791475426504, \"place\": \"Leipzig\", \"country\": \"DE\", \"region\": \"Europe\"}, {\"y\": -0.11648091879171904, \"x\": -2.7012918278053437, \"place\": \"Dusseldorf\", \"country\": \"DE\", \"region\": \"Europe\"}, {\"y\": 0.23371724589362905, \"x\": -1.9031942550653604, \"place\": \"Karlsruhe\", \"country\": \"DE\", \"region\": \"Europe\"}, {\"y\": -0.8863000655249552, \"x\": -3.6798185269902235, \"place\": \"Bremen\", \"country\": \"DE\", \"region\": \"Europe\"}, {\"y\": -0.659794802592951, \"x\": -2.867534270362378, \"place\": \"Jena\", \"country\": \"DE\", \"region\": \"Europe\"}, {\"y\": -1.5493503464516432, \"x\": -3.09659118122335, \"place\": \"Dresden\", \"country\": \"DE\", \"region\": \"Europe\"}, {\"y\": -0.4569164570885627, \"x\": -2.3853058815749266, \"place\": \"Dortmund\", \"country\": \"DE\", \"region\": \"Europe\"}, {\"y\": -0.07204145253004779, \"x\": -2.9816675214499013, \"place\": \"Aachen\", \"country\": \"DE\", \"region\": \"Europe\"}, {\"y\": -0.23745251371489637, \"x\": -2.329031538531281, \"place\": \"Hannover\", \"country\": \"DE\", \"region\": \"Europe\"}, {\"y\": 0.48327594034085003, \"x\": -1.7265361007994, \"place\": \"Heidelberg\", \"country\": \"DE\", \"region\": \"Europe\"}, {\"y\": 0.344061988312697, \"x\": -1.6433067523116782, \"place\": \"Erlangen\", \"country\": \"DE\", \"region\": \"Europe\"}, {\"y\": -1.1591245957758725, \"x\": -3.8338621321030932, \"place\": \"Frankfurt\", \"country\": \"DE\", \"region\": \"Europe\"}, {\"y\": -1.4510864991602912, \"x\": 2.7496528728379674, \"place\": \"Hanoi\", \"country\": \"VN\", \"region\": \"Asia\"}, {\"y\": -1.7686718356478834, \"x\": 2.2121639786067826, \"place\": \"Ho Chi Minh City\", \"country\": \"VN\", \"region\": \"Asia\"}, {\"y\": -1.0421989399057956, \"x\": 3.0417886366123796, \"place\": \"Hoi An\", \"country\": \"VN\", \"region\": \"Asia\"}, {\"y\": -1.1483269202466169, \"x\": 2.2100879101027933, \"place\": \"Da Nang\", \"country\": \"VN\", \"region\": \"Asia\"}, {\"y\": -1.6793687026734614, \"x\": 2.560710618012567, \"place\": \"Da Lat\", \"country\": \"VN\", \"region\": \"Asia\"}, {\"y\": -0.17513429137444303, \"x\": -1.321816878135402, \"place\": \"Hong Kong\", \"country\": \"HK\", \"region\": \"Asia\"}, {\"y\": -1.7633471799338745, \"x\": -3.3992941730613655, \"place\": \"Perth\", \"country\": \"AU\", \"region\": \"Oceania\"}, {\"y\": -1.1432209505177695, \"x\": -4.745882401345219, \"place\": \"Wollongong\", \"country\": \"AU\", \"region\": \"Oceania\"}, {\"y\": -0.4362195323816462, \"x\": -3.8958132039249427, \"place\": \"Cairns\", \"country\": \"AU\", \"region\": \"Oceania\"}, {\"y\": 1.1483551313347753, \"x\": -3.8578694780963105, \"place\": \"Brisbane\", \"country\": \"AU\", \"region\": \"Oceania\"}, {\"y\": 0.9399835941862588, \"x\": -3.099065843585402, \"place\": \"Gold Coast\", \"country\": \"AU\", \"region\": \"Oceania\"}, {\"y\": -1.6201826870784164, \"x\": -3.4035420005629855, \"place\": \"Hobart\", \"country\": \"AU\", \"region\": \"Oceania\"}, {\"y\": 0.34063366002006, \"x\": -4.123385504853495, \"place\": \"Sydney\", \"country\": \"AU\", \"region\": \"Oceania\"}, {\"y\": 0.8027745146176164, \"x\": -3.3851058566120114, \"place\": \"Melbourne\", \"country\": \"AU\", \"region\": \"Oceania\"}, {\"y\": 3.0090686694478004, \"x\": -5.910002933674792, \"place\": \"Darwin\", \"country\": \"AU\", \"region\": \"Oceania\"}, {\"y\": 0.18976169868260673, \"x\": -4.39388959340589, \"place\": \"Canberra\", \"country\": \"AU\", \"region\": \"Oceania\"}, {\"y\": -0.9060910734163635, \"x\": -3.831021010533689, \"place\": \"Adelaide\", \"country\": \"AU\", \"region\": \"Oceania\"}, {\"y\": 2.4154008514281724, \"x\": -2.780883720042634, \"place\": \"Byron Bay\", \"country\": \"AU\", \"region\": \"Oceania\"}, {\"y\": -2.159933639885685, \"x\": -3.0654896048308085, \"place\": \"Seoul\", \"country\": \"KR\", \"region\": \"Asia\"}, {\"y\": -3.0084584546550195, \"x\": -2.2239364930718954, \"place\": \"Daegu\", \"country\": \"KR\", \"region\": \"Asia\"}, {\"y\": -2.731397851676458, \"x\": -2.307304244544302, \"place\": \"Busan\", \"country\": \"KR\", \"region\": \"Asia\"}, {\"y\": -1.690677302598023, \"x\": -2.784230183956083, \"place\": \"Jeju Island\", \"country\": \"KR\", \"region\": \"Asia\"}, {\"y\": -1.8883472448356469, \"x\": -1.7791131516846164, \"place\": \"Daejeon\", \"country\": \"KR\", \"region\": \"Asia\"}, {\"y\": -2.028322471154886, \"x\": -1.5864117281254728, \"place\": \"Gwangju\", \"country\": \"KR\", \"region\": \"Asia\"}, {\"y\": -1.0611649280529956, \"x\": -5.426320312293227, \"place\": \"Utrecht\", \"country\": \"NL\", \"region\": \"Europe\"}, {\"y\": -0.9020227038628537, \"x\": -4.540152583458652, \"place\": \"Groningen\", \"country\": \"NL\", \"region\": \"Europe\"}, {\"y\": -0.12812893808716572, \"x\": -3.8717769728583074, \"place\": \"Rotterdam\", \"country\": \"NL\", \"region\": \"Europe\"}, {\"y\": -1.2544278702685003, \"x\": -5.222411948056571, \"place\": \"Leiden\", \"country\": \"NL\", \"region\": \"Europe\"}, {\"y\": -0.430665487789956, \"x\": -5.075966228460079, \"place\": \"Eindhoven\", \"country\": \"NL\", \"region\": \"Europe\"}, {\"y\": -0.9589540957818493, \"x\": -4.798683844278548, \"place\": \"The Hague\", \"country\": \"NL\", \"region\": \"Europe\"}, {\"y\": 0.7254394272194018, \"x\": -2.6107924228142982, \"place\": \"Nijmegen\", \"country\": \"NL\", \"region\": \"Europe\"}, {\"y\": -0.5114286159187237, \"x\": -4.87333789391755, \"place\": \"Amsterdam\", \"country\": \"NL\", \"region\": \"Europe\"}, {\"y\": 0.2729183983539519, \"x\": -4.251675862616257, \"place\": \"Haarlem\", \"country\": \"NL\", \"region\": \"Europe\"}, {\"y\": -0.043189665805195766, \"x\": -3.78017051696531, \"place\": \"Tilburg\", \"country\": \"NL\", \"region\": \"Europe\"}, {\"y\": 0.8119745111366359, \"x\": -2.711864330321851, \"place\": \"Leeuwarden\", \"country\": \"NL\", \"region\": \"Europe\"}, {\"y\": 0.9935963788669615, \"x\": -3.098216562955755, \"place\": \"Lelystad\", \"country\": \"NL\", \"region\": \"Europe\"}, {\"y\": 1.305079015721487, \"x\": -2.9603486923865874, \"place\": \"Deventer\", \"country\": \"NL\", \"region\": \"Europe\"}, {\"y\": -2.1111946804965385, \"x\": -4.678965717253969, \"place\": \"Bern\", \"country\": \"CH\", \"region\": \"Europe\"}, {\"y\": 0.3271890616991786, \"x\": -3.819493358683312, \"place\": \"Basel\", \"country\": \"CH\", \"region\": \"Europe\"}, {\"y\": 2.7953087223858484, \"x\": -6.890602828892654, \"place\": \"Zurich\", \"country\": \"CH\", \"region\": \"Europe\"}, {\"y\": 3.5860273524094337, \"x\": -6.475516791381582, \"place\": \"Geneva\", \"country\": \"CH\", \"region\": \"Europe\"}, {\"y\": 1.7275075307385845, \"x\": -5.410056522935859, \"place\": \"Lugano\", \"country\": \"CH\", \"region\": \"Europe\"}, {\"y\": 2.979437218719063, \"x\": -3.783028756907804, \"place\": \"Interlaken\", \"country\": \"CH\", \"region\": \"Europe\"}, {\"y\": 6.5623280180715104, \"x\": -6.244120715377175, \"place\": \"Lausanne\", \"country\": \"CH\", \"region\": \"Europe\"}, {\"y\": -0.7585482484849533, \"x\": -2.1360133486716606, \"place\": \"Sliema\", \"country\": \"MT\", \"region\": \"Europe\"}, {\"y\": -1.044709177302345, \"x\": -0.03343045106838374, \"place\": \"Sao Paulo\", \"country\": \"BR\", \"region\": \"Americas\"}, {\"y\": -0.6522375721958916, \"x\": 1.3542527518009289, \"place\": \"Belo Horizonte\", \"country\": \"BR\", \"region\": \"Americas\"}, {\"y\": -0.9720032716538801, \"x\": 0.6980671223003827, \"place\": \"Curitiba\", \"country\": \"BR\", \"region\": \"Americas\"}, {\"y\": 0.1728677456721199, \"x\": 1.1175208048351186, \"place\": \"Brasilia\", \"country\": \"BR\", \"region\": \"Americas\"}, {\"y\": -0.8395574508132818, \"x\": 0.5904485834238172, \"place\": \"Campinas\", \"country\": \"BR\", \"region\": \"Americas\"}, {\"y\": -0.9180459266426532, \"x\": 0.5939294471384132, \"place\": \"Florianopolis\", \"country\": \"BR\", \"region\": \"Americas\"}, {\"y\": -0.8273715345557938, \"x\": 1.9040848561587258, \"place\": \"Porto Alegre\", \"country\": \"BR\", \"region\": \"Americas\"}, {\"y\": -0.13180929045912382, \"x\": 1.3440341066652177, \"place\": \"Goiania\", \"country\": \"BR\", \"region\": \"Americas\"}, {\"y\": -0.4695805495542717, \"x\": 1.1896688692291009, \"place\": \"Vitoria\", \"country\": \"BR\", \"region\": \"Americas\"}, {\"y\": 0.17579234072296576, \"x\": -0.23730473861585571, \"place\": \"Rio de Janeiro\", \"country\": \"BR\", \"region\": \"Americas\"}, {\"y\": -0.9772262774410068, \"x\": 0.40625603830311646, \"place\": \"Fortaleza\", \"country\": \"BR\", \"region\": \"Americas\"}, {\"y\": 0.7400677851064285, \"x\": 1.5417912988363676, \"place\": \"Sorocaba\", \"country\": \"BR\", \"region\": \"Americas\"}, {\"y\": 0.1801148069123412, \"x\": 1.4980119151783269, \"place\": \"Sao Luis\", \"country\": \"BR\", \"region\": \"Americas\"}, {\"y\": 1.6388013358582436, \"x\": 0.6197623133648795, \"place\": \"S\\u00e3o Jos\\u00e9 dos Campos\", \"country\": \"BR\", \"region\": \"Americas\"}, {\"y\": -0.5652960406434964, \"x\": 1.570871420925765, \"place\": \"Recife\", \"country\": \"BR\", \"region\": \"Americas\"}, {\"y\": -1.825364109249631, \"x\": 0.5517411909466564, \"place\": \"Natal\", \"country\": \"BR\", \"region\": \"Americas\"}, {\"y\": -1.308471323657743, \"x\": 0.8562844929994512, \"place\": \"Belem\", \"country\": \"BR\", \"region\": \"Americas\"}, {\"y\": -0.9380864274755994, \"x\": 1.8837628489651213, \"place\": \"Joao Pessoa\", \"country\": \"BR\", \"region\": \"Americas\"}, {\"y\": -0.14180909214743553, \"x\": -4.3758556856129545, \"place\": \"Bordeaux\", \"country\": \"FR\", \"region\": \"Europe\"}, {\"y\": -0.7796801290469454, \"x\": -3.9381136082933295, \"place\": \"Nice\", \"country\": \"FR\", \"region\": \"Europe\"}, {\"y\": 0.1778810828739277, \"x\": -3.3786854889527924, \"place\": \"Marseille\", \"country\": \"FR\", \"region\": \"Europe\"}, {\"y\": -1.7198074337657019, \"x\": -2.39468617044563, \"place\": \"Toulouse\", \"country\": \"FR\", \"region\": \"Europe\"}, {\"y\": -0.15326820234469227, \"x\": -3.0796265603736455, \"place\": \"Lille\", \"country\": \"FR\", \"region\": \"Europe\"}, {\"y\": 0.2818809443224052, \"x\": -2.7576226121239866, \"place\": \"Lyon\", \"country\": \"FR\", \"region\": \"Europe\"}, {\"y\": -0.5162281401454254, \"x\": -1.1892614980426306, \"place\": \"Nantes\", \"country\": \"FR\", \"region\": \"Europe\"}, {\"y\": 1.7642163280850722, \"x\": -3.592334152086154, \"place\": \"Paris\", \"country\": \"FR\", \"region\": \"Europe\"}, {\"y\": 0.39230895986758624, \"x\": -2.7604521299440035, \"place\": \"Grenoble\", \"country\": \"FR\", \"region\": \"Europe\"}, {\"y\": 1.3518679527690356, \"x\": -2.0159476901456417, \"place\": \"Strasbourg\", \"country\": \"FR\", \"region\": \"Europe\"}, {\"y\": 1.7151823246789608, \"x\": -1.1940023382161078, \"place\": \"Annecy\", \"country\": \"FR\", \"region\": \"Europe\"}, {\"y\": 1.7173447766412833, \"x\": -3.602316108521398, \"place\": \"Milan\", \"country\": \"IT\", \"region\": \"Europe\"}, {\"y\": -0.47301511234155463, \"x\": -3.37807131964598, \"place\": \"Florence\", \"country\": \"IT\", \"region\": \"Europe\"}, {\"y\": 2.2530234187354323, \"x\": -2.164489643002647, \"place\": \"Turin\", \"country\": \"IT\", \"region\": \"Europe\"}, {\"y\": -0.9347954530874613, \"x\": -1.8717414188598707, \"place\": \"Pisa\", \"country\": \"IT\", \"region\": \"Europe\"}, {\"y\": -1.4746490786175992, \"x\": -1.651752573939051, \"place\": \"Padova\", \"country\": \"IT\", \"region\": \"Europe\"}, {\"y\": -1.2580656139175947, \"x\": -2.104039338498805, \"place\": \"Genoa\", \"country\": \"IT\", \"region\": \"Europe\"}, {\"y\": 3.178094827890588, \"x\": -2.481990025891596, \"place\": \"Rome\", \"country\": \"IT\", \"region\": \"Europe\"}, {\"y\": -0.8150544026112672, \"x\": -0.640582569147372, \"place\": \"Bologna\", \"country\": \"IT\", \"region\": \"Europe\"}, {\"y\": 0.8767857094047472, \"x\": -1.2875381380673425, \"place\": \"Monza\", \"country\": \"IT\", \"region\": \"Europe\"}, {\"y\": -1.0910395536509487, \"x\": -1.7457586735953448, \"place\": \"Trento\", \"country\": \"IT\", \"region\": \"Europe\"}, {\"y\": 0.9209907298527301, \"x\": -3.43796082758863, \"place\": \"Modena\", \"country\": \"IT\", \"region\": \"Europe\"}, {\"y\": -0.48377140246018585, \"x\": -0.3198090786738555, \"place\": \"Como\", \"country\": \"IT\", \"region\": \"Europe\"}, {\"y\": 3.6294207423650784, \"x\": -2.009727400307219, \"place\": \"Naples\", \"country\": \"IT\", \"region\": \"Europe\"}, {\"y\": -0.35239890371407057, \"x\": -1.1742730131159105, \"place\": \"Trieste\", \"country\": \"IT\", \"region\": \"Europe\"}, {\"y\": 4.290052683945573, \"x\": -5.463837256325935, \"place\": \"Venice\", \"country\": \"IT\", \"region\": \"Europe\"}, {\"y\": -0.35170434524089905, \"x\": -0.6585102875265078, \"place\": \"Treviso\", \"country\": \"IT\", \"region\": \"Europe\"}, {\"y\": 1.6146803932843516, \"x\": -0.7580199354440597, \"place\": \"Verona\", \"country\": \"IT\", \"region\": \"Europe\"}, {\"y\": 0.33418358842988155, \"x\": 0.008007279162454554, \"place\": \"Palermo\", \"country\": \"IT\", \"region\": \"Europe\"}, {\"y\": 0.2260350360613942, \"x\": 0.8859625328917617, \"place\": \"Avellino\", \"country\": \"IT\", \"region\": \"Europe\"}, {\"y\": 0.4384978819750006, \"x\": -1.0306238540085677, \"place\": \"Rimini\", \"country\": \"IT\", \"region\": \"Europe\"}, {\"y\": 0.9690568534524804, \"x\": -1.0294752495512982, \"place\": \"Lucca\", \"country\": \"IT\", \"region\": \"Europe\"}, {\"y\": 0.6001470474854569, \"x\": -0.5976981717226917, \"place\": \"Cagliari\", \"country\": \"IT\", \"region\": \"Europe\"}, {\"y\": 2.5127541208747486, \"x\": -0.6865229831341121, \"place\": \"Ferrara\", \"country\": \"IT\", \"region\": \"Europe\"}, {\"y\": -0.97182430829404, \"x\": -3.72086234114942, \"place\": \"Vienna\", \"country\": \"AT\", \"region\": \"Europe\"}, {\"y\": -0.030501942531571513, \"x\": -2.1476388230055328, \"place\": \"Salzburg\", \"country\": \"AT\", \"region\": \"Europe\"}, {\"y\": -0.5485807849074565, \"x\": -2.6757045530584285, \"place\": \"Graz\", \"country\": \"AT\", \"region\": \"Europe\"}, {\"y\": 0.12117032185002884, \"x\": -3.400093867395075, \"place\": \"Tel Aviv\", \"country\": \"IL\", \"region\": \"Asia\"}, {\"y\": 2.907820316061439, \"x\": -3.051187130686813, \"place\": \"Jerusalem\", \"country\": \"IL\", \"region\": \"Asia\"}, {\"y\": 2.9588604325248027, \"x\": -2.0252150313439348, \"place\": \"Haifa\", \"country\": \"IL\", \"region\": \"Asia\"}, {\"y\": 2.6561972220884256, \"x\": -0.9770033011580356, \"place\": \"Beersheba\", \"country\": \"IL\", \"region\": \"Asia\"}, {\"y\": -1.2419218727115395, \"x\": -3.443967424387956, \"place\": \"Bristol\", \"country\": \"GB\", \"region\": \"Europe\"}, {\"y\": -1.1005859761782932, \"x\": -2.5720935424063387, \"place\": \"Liverpool\", \"country\": \"GB\", \"region\": \"Europe\"}, {\"y\": -0.45018972937423263, \"x\": -2.3762416628927214, \"place\": \"Manchester\", \"country\": \"GB\", \"region\": \"Europe\"}, {\"y\": -0.057687939202243084, \"x\": -2.283232547119936, \"place\": \"Nottingham\", \"country\": \"GB\", \"region\": \"Europe\"}, {\"y\": 0.42886165741268745, \"x\": -3.216729001601054, \"place\": \"London\", \"country\": \"GB\", \"region\": \"Europe\"}, {\"y\": -0.6730479804366342, \"x\": -2.7078873487873145, \"place\": \"Edinburgh\", \"country\": \"GB\", \"region\": \"Europe\"}, {\"y\": 0.33573443902858685, \"x\": -1.840668908341748, \"place\": \"Brighton\", \"country\": \"GB\", \"region\": \"Europe\"}, {\"y\": 0.3025340016895934, \"x\": -2.2394155422573445, \"place\": \"Cambridge\", \"country\": \"GB\", \"region\": \"Europe\"}, {\"y\": -1.5590362839312575, \"x\": -2.6788116275898237, \"place\": \"Glasgow\", \"country\": \"GB\", \"region\": \"Europe\"}, {\"y\": -1.150537768118667, \"x\": -3.1288343371303657, \"place\": \"Newcastle Upon Tyne\", \"country\": \"GB\", \"region\": \"Europe\"}, {\"y\": -0.21936331405143597, \"x\": -3.0142466875783005, \"place\": \"Birmingham\", \"country\": \"GB\", \"region\": \"Europe\"}, {\"y\": -0.6004599012992727, \"x\": -2.249914426296389, \"place\": \"Leeds\", \"country\": \"GB\", \"region\": \"Europe\"}, {\"y\": -1.1229072862912748, \"x\": -1.7827661112116946, \"place\": \"Leicester\", \"country\": \"GB\", \"region\": \"Europe\"}, {\"y\": -0.2819440128399603, \"x\": -2.633137471219258, \"place\": \"Bournemouth\", \"country\": \"GB\", \"region\": \"Europe\"}, {\"y\": -0.18692366356392168, \"x\": -3.077121157559109, \"place\": \"Oxford\", \"country\": \"GB\", \"region\": \"Europe\"}, {\"y\": -0.08804070674713167, \"x\": -2.049775231995127, \"place\": \"Norwich\", \"country\": \"GB\", \"region\": \"Europe\"}, {\"y\": 0.2772300396902533, \"x\": -1.91286382339423, \"place\": \"Cardiff\", \"country\": \"GB\", \"region\": \"Europe\"}, {\"y\": 0.9163933363835428, \"x\": -0.7564944267454097, \"place\": \"Belfast\", \"country\": \"GB\", \"region\": \"Europe\"}, {\"y\": 0.14313164618532007, \"x\": -2.6780344499352675, \"place\": \"Southampton\", \"country\": \"GB\", \"region\": \"Europe\"}, {\"y\": 0.5505241347269757, \"x\": -2.0789656742838294, \"place\": \"Aberdeen\", \"country\": \"GB\", \"region\": \"Europe\"}, {\"y\": 0.12925942596633375, \"x\": -2.471040321198368, \"place\": \"Northampton\", \"country\": \"GB\", \"region\": \"Europe\"}, {\"y\": 0.8117461989345122, \"x\": -1.261670971587382, \"place\": \"Reading\", \"country\": \"GB\", \"region\": \"Europe\"}, {\"y\": 0.6352481840994844, \"x\": -2.01411154629951, \"place\": \"Coventry\", \"country\": \"GB\", \"region\": \"Europe\"}, {\"y\": 1.5633008234769852, \"x\": -1.6767373028411054, \"place\": \"Cheltenham\", \"country\": \"GB\", \"region\": \"Europe\"}, {\"y\": 1.015387340083937, \"x\": -2.4770459651994114, \"place\": \"Portsmouth\", \"country\": \"GB\", \"region\": \"Europe\"}, {\"y\": 3.257144840705133, \"x\": 6.959076335815183, \"place\": \"Hama\", \"country\": \"GB\", \"region\": \"Europe\"}, {\"y\": -0.34241750550433575, \"x\": -1.9585077698280458, \"place\": \"Athens\", \"country\": \"GR\", \"region\": \"Europe\"}, {\"y\": -1.561662270539927, \"x\": -0.316337227227678, \"place\": \"Thessaloniki\", \"country\": \"GR\", \"region\": \"Europe\"}, {\"y\": -0.3342108393861872, \"x\": -0.1510994951463169, \"place\": \"Patras\", \"country\": \"GR\", \"region\": \"Europe\"}, {\"y\": -1.6359167276840663, \"x\": -1.0334229109787052, \"place\": \"Rethymno\", \"country\": \"GR\", \"region\": \"Europe\"}, {\"y\": 1.4662885255849278, \"x\": -1.3603981324032068, \"place\": \"Chania\", \"country\": \"GR\", \"region\": \"Europe\"}, {\"y\": 1.6398497359832056, \"x\": -1.2714628632590237, \"place\": \"Santorini\", \"country\": \"GR\", \"region\": \"Europe\"}, {\"y\": -0.5590969873637578, \"x\": -2.1365454531381154, \"place\": \"Panama City\", \"country\": \"PA\", \"region\": \"Americas\"}, {\"y\": -0.12268687909945737, \"x\": -1.7557703340476816, \"place\": \"Puerto Viejo\", \"country\": \"PA\", \"region\": \"Americas\"}, {\"y\": -1.1171858674275998, \"x\": -0.28294713232371105, \"place\": \"Bocas del Toro\", \"country\": \"PA\", \"region\": \"Americas\"}, {\"y\": -1.1787912508980607, \"x\": -2.719834697448659, \"place\": \"Fukuoka\", \"country\": \"JP\", \"region\": \"Asia\"}, {\"y\": -0.4414150490440743, \"x\": -2.712755479844342, \"place\": \"Nagoya\", \"country\": \"JP\", \"region\": \"Asia\"}, {\"y\": -1.5272043610423667, \"x\": -1.9677515148167135, \"place\": \"Osaka\", \"country\": \"JP\", \"region\": \"Asia\"}, {\"y\": 0.25206882119416935, \"x\": -2.072699650578015, \"place\": \"Hiroshima\", \"country\": \"JP\", \"region\": \"Asia\"}, {\"y\": 0.0421344519963284, \"x\": -1.3874730909212474, \"place\": \"Yokohama\", \"country\": \"JP\", \"region\": \"Asia\"}, {\"y\": 0.8507973158247648, \"x\": -1.6010593824569597, \"place\": \"Sendai\", \"country\": \"JP\", \"region\": \"Asia\"}, {\"y\": -0.3723505533389883, \"x\": -2.07096102609446, \"place\": \"Sapporo\", \"country\": \"JP\", \"region\": \"Asia\"}, {\"y\": -0.5631173754066389, \"x\": -1.9268269637090083, \"place\": \"Kitakyushu\", \"country\": \"JP\", \"region\": \"Asia\"}, {\"y\": -1.0257609864972643, \"x\": -2.5696261673812133, \"place\": \"Tokyo\", \"country\": \"JP\", \"region\": \"Asia\"}, {\"y\": 0.4970998691492279, \"x\": -2.0154167017410187, \"place\": \"Naha\", \"country\": \"JP\", \"region\": \"Asia\"}, {\"y\": -0.20375343167137372, \"x\": -2.6740579838697216, \"place\": \"Kyoto\", \"country\": \"JP\", \"region\": \"Asia\"}, {\"y\": -1.9577963286842914, \"x\": -0.6007848300701649, \"place\": \"Cluj\", \"country\": \"RO\", \"region\": \"Europe\"}, {\"y\": -1.0743252863500943, \"x\": -0.277356014711945, \"place\": \"Timisoara\", \"country\": \"RO\", \"region\": \"Europe\"}, {\"y\": 0.08540793241225449, \"x\": 0.19206354268594125, \"place\": \"Bucharest\", \"country\": \"RO\", \"region\": \"Europe\"}, {\"y\": -0.6135278014472655, \"x\": 0.6839489360794553, \"place\": \"Brasov\", \"country\": \"RO\", \"region\": \"Europe\"}, {\"y\": -0.780751730556717, \"x\": 0.46190032412457527, \"place\": \"Craiova\", \"country\": \"RO\", \"region\": \"Europe\"}, {\"y\": -0.6781052664520014, \"x\": 0.5043798880820406, \"place\": \"Iasi\", \"country\": \"RO\", \"region\": \"Europe\"}, {\"y\": -1.9083046706959677, \"x\": -0.6581981930089186, \"place\": \"Ploiesti\", \"country\": \"RO\", \"region\": \"Europe\"}, {\"y\": -1.489844271506602, \"x\": 0.4277458946907492, \"place\": \"Constanta\", \"country\": \"RO\", \"region\": \"Europe\"}, {\"y\": -0.2878545755630444, \"x\": -3.1825649978157724, \"place\": \"Oslo\", \"country\": \"NO\", \"region\": \"Europe\"}, {\"y\": 0.1123886687344602, \"x\": -3.521377663100004, \"place\": \"Trondheim\", \"country\": \"NO\", \"region\": \"Europe\"}, {\"y\": 1.381369342802222, \"x\": -4.173061822208264, \"place\": \"Aalesund\", \"country\": \"NO\", \"region\": \"Europe\"}, {\"y\": 0.7110924463442428, \"x\": -3.688780834385697, \"place\": \"Tromso\", \"country\": \"NO\", \"region\": \"Europe\"}, {\"y\": 2.235630571259677, \"x\": -5.898413415756838, \"place\": \"Bergen\", \"country\": \"NO\", \"region\": \"Europe\"}, {\"y\": -2.039285712998534, \"x\": 0.5069595259415298, \"place\": \"Playa del Carmen\", \"country\": \"MX\", \"region\": \"Americas\"}, {\"y\": -1.1811694987202646, \"x\": 1.1425837628226914, \"place\": \"Mexico City\", \"country\": \"MX\", \"region\": \"Americas\"}, {\"y\": -2.4208020166306965, \"x\": 0.888894793143302, \"place\": \"Cancun\", \"country\": \"MX\", \"region\": \"Americas\"}, {\"y\": -0.26278914109057633, \"x\": 2.023418812497474, \"place\": \"Guadalajara\", \"country\": \"MX\", \"region\": \"Americas\"}, {\"y\": -1.5104755408581898, \"x\": 2.0744033593017344, \"place\": \"Tijuana\", \"country\": \"MX\", \"region\": \"Americas\"}, {\"y\": -1.1744084468723568, \"x\": 1.622890407823855, \"place\": \"Monterrey\", \"country\": \"MX\", \"region\": \"Americas\"}, {\"y\": -2.003094970533562, \"x\": 1.1773702741364636, \"place\": \"Queretaro\", \"country\": \"MX\", \"region\": \"Americas\"}, {\"y\": -2.365731088751536, \"x\": 0.704047057081651, \"place\": \"Puerto Vallarta\", \"country\": \"MX\", \"region\": \"Americas\"}, {\"y\": -1.342237652551092, \"x\": 1.3311402007630593, \"place\": \"Hermosillo\", \"country\": \"MX\", \"region\": \"Americas\"}, {\"y\": 0.5098925547568558, \"x\": 0.0632770943808937, \"place\": \"San Miguel de Allende\", \"country\": \"MX\", \"region\": \"Americas\"}, {\"y\": -0.9544403562348713, \"x\": 1.9878303906739332, \"place\": \"Merida\", \"country\": \"MX\", \"region\": \"Americas\"}, {\"y\": 0.9088695439876564, \"x\": 2.630742861669783, \"place\": \"Toluca\", \"country\": \"MX\", \"region\": \"Americas\"}, {\"y\": 0.11736934237694786, \"x\": 2.8332016859981035, \"place\": \"Puebla\", \"country\": \"MX\", \"region\": \"Americas\"}, {\"y\": 1.0353291007771956, \"x\": 2.769413090741311, \"place\": \"Tulum\", \"country\": \"MX\", \"region\": \"Americas\"}, {\"y\": -1.2354531040857772, \"x\": 1.9476116996338002, \"place\": \"Oaxaca\", \"country\": \"MX\", \"region\": \"Americas\"}, {\"y\": 2.4942494101092745, \"x\": 4.93712301932367, \"place\": \"Juarez\", \"country\": \"MX\", \"region\": \"Americas\"}, {\"y\": -0.06710457015824305, \"x\": 3.3891812619485537, \"place\": \"Aguascalientes\", \"country\": \"MX\", \"region\": \"Americas\"}, {\"y\": 0.7541224540322784, \"x\": 3.731806610064846, \"place\": \"Torreon\", \"country\": \"MX\", \"region\": \"Americas\"}, {\"y\": 0.4212281677018634, \"x\": 3.0116830879362237, \"place\": \"San Luis Potosi\", \"country\": \"MX\", \"region\": \"Americas\"}, {\"y\": -0.39632804340820105, \"x\": -1.7586146454262863, \"place\": \"Singapore\", \"country\": \"SG\", \"region\": \"Asia\"}, {\"y\": -1.743001598374603, \"x\": -0.7793109262524333, \"place\": \"Warsaw\", \"country\": \"PL\", \"region\": \"Europe\"}, {\"y\": -0.722652768456943, \"x\": -0.28159841970756483, \"place\": \"Wroc\\u0142aw\", \"country\": \"PL\", \"region\": \"Europe\"}, {\"y\": -1.1961506525820713, \"x\": 0.0068783247893658105, \"place\": \"Krak\\u00f3w\", \"country\": \"PL\", \"region\": \"Europe\"}, {\"y\": -0.5819322904678795, \"x\": -0.4859873338773737, \"place\": \"Szczecin\", \"country\": \"PL\", \"region\": \"Europe\"}, {\"y\": -1.1017341688121032, \"x\": -0.2815383035325333, \"place\": \"Lublin\", \"country\": \"PL\", \"region\": \"Europe\"}, {\"y\": -2.406871430747974, \"x\": -1.6079949325082548, \"place\": \"Gdansk\", \"country\": \"PL\", \"region\": \"Europe\"}, {\"y\": 0.04360722762685897, \"x\": 0.8978150114609595, \"place\": \"Poznan\", \"country\": \"PL\", \"region\": \"Europe\"}, {\"y\": -0.6800507240985044, \"x\": 0.8387832584242214, \"place\": \"Lodz\", \"country\": \"PL\", \"region\": \"Europe\"}, {\"y\": -1.521703795428308, \"x\": 0.6969065344965766, \"place\": \"Katowice\", \"country\": \"PL\", \"region\": \"Europe\"}, {\"y\": -0.8886888880680752, \"x\": -0.30719245476210133, \"place\": \"Riga\", \"country\": \"LV\", \"region\": \"Europe\"}, {\"y\": -2.884059984952735, \"x\": -1.9266876706037241, \"place\": \"Tallinn\", \"country\": \"EE\", \"region\": \"Europe\"}, {\"y\": -2.2907990950560886, \"x\": -1.2693164853323216, \"place\": \"Tartu\", \"country\": \"EE\", \"region\": \"Europe\"}, {\"y\": 0.11084362814142701, \"x\": -1.8987878872548851, \"place\": \"Montevideo\", \"country\": \"UY\", \"region\": \"Americas\"}, {\"y\": 3.0079894164061183, \"x\": -1.0335667534307702, \"place\": \"Punta del Este\", \"country\": \"UY\", \"region\": \"Americas\"}, {\"y\": -0.3797413673822398, \"x\": 2.251261066197984, \"place\": \"Kiev\", \"country\": \"UA\", \"region\": \"Europe\"}, {\"y\": -1.6992499208469745, \"x\": 2.9585333479595675, \"place\": \"Lviv\", \"country\": \"UA\", \"region\": \"Europe\"}, {\"y\": -0.04478919661955871, \"x\": 3.868111962987572, \"place\": \"Kharkiv\", \"country\": \"UA\", \"region\": \"Europe\"}, {\"y\": -0.8903810456181906, \"x\": 3.3087467045506638, \"place\": \"Ivano-Frankivsk\", \"country\": \"UA\", \"region\": \"Europe\"}, {\"y\": -0.4065625292815709, \"x\": 3.8191671323663012, \"place\": \"Krivoy-Rog\", \"country\": \"UA\", \"region\": \"Europe\"}, {\"y\": -0.4708880571698849, \"x\": 2.9059251177402405, \"place\": \"Odesa\", \"country\": \"UA\", \"region\": \"Europe\"}, {\"y\": 0.5331012929830334, \"x\": 0.027796807221058078, \"place\": \"Macau\", \"country\": \"MO\", \"region\": \"Asia\"}, {\"y\": -0.4520130939754582, \"x\": 2.2880945415124048, \"place\": \"Skopje\", \"country\": \"MK\", \"region\": \"Europe\"}, {\"y\": -2.064931111048475, \"x\": -0.11127056653813855, \"place\": \"Shanghai\", \"country\": \"CN\", \"region\": \"Asia\"}, {\"y\": -0.2906023324947656, \"x\": 1.967126577317571, \"place\": \"Anyang\", \"country\": \"CN\", \"region\": \"Asia\"}, {\"y\": 0.7355573377849296, \"x\": 2.6232999410852775, \"place\": \"Zhongshan\", \"country\": \"CN\", \"region\": \"Asia\"}, {\"y\": 0.4701485236402521, \"x\": 2.593061814632785, \"place\": \"Shenzhen\", \"country\": \"CN\", \"region\": \"Asia\"}, {\"y\": -1.2709554719172813, \"x\": 1.4161362803252802, \"place\": \"Hangzhou\", \"country\": \"CN\", \"region\": \"Asia\"}, {\"y\": 0.8581690344378173, \"x\": 1.942819910068032, \"place\": \"Dongguan\", \"country\": \"CN\", \"region\": \"Asia\"}, {\"y\": 1.1036729744527762, \"x\": 2.955202672303655, \"place\": \"Zibo\", \"country\": \"CN\", \"region\": \"Asia\"}, {\"y\": -1.2858795972086587, \"x\": 3.265272950768411, \"place\": \"Nanyang\", \"country\": \"CN\", \"region\": \"Asia\"}, {\"y\": -1.3886911588047182, \"x\": 2.966083997074214, \"place\": \"Zhoukou\", \"country\": \"CN\", \"region\": \"Asia\"}, {\"y\": -2.057221626483307, \"x\": 1.5307591905025664, \"place\": \"Nanjing\", \"country\": \"CN\", \"region\": \"Asia\"}, {\"y\": -0.98556373515046, \"x\": 3.043922541714777, \"place\": \"Weifang\", \"country\": \"CN\", \"region\": \"Asia\"}, {\"y\": 1.5344443618090235, \"x\": 2.5452032117817436, \"place\": \"Urumqi\", \"country\": \"CN\", \"region\": \"Asia\"}, {\"y\": -1.0143902837923011, \"x\": 2.8288092393698556, \"place\": \"Shijiazhuang\", \"country\": \"CN\", \"region\": \"Asia\"}, {\"y\": -0.4753431357430419, \"x\": 2.8778111811499882, \"place\": \"Dalian\", \"country\": \"CN\", \"region\": \"Asia\"}, {\"y\": 0.17402912027441672, \"x\": 1.8752555875140913, \"place\": \"Chaoyang\", \"country\": \"CN\", \"region\": \"Asia\"}, {\"y\": 0.5874364733802464, \"x\": 3.053289325191954, \"place\": \"Kunming\", \"country\": \"CN\", \"region\": \"Asia\"}, {\"y\": -0.47146797655189676, \"x\": 2.305928516323812, \"place\": \"Haikou\", \"country\": \"CN\", \"region\": \"Asia\"}, {\"y\": 0.6704820861062044, \"x\": 2.1461907560295184, \"place\": \"Fuzhou\", \"country\": \"CN\", \"region\": \"Asia\"}, {\"y\": 0.8008955167335097, \"x\": 2.9347188697593967, \"place\": \"Kunshan\", \"country\": \"CN\", \"region\": \"Asia\"}, {\"y\": -0.47016512885493744, \"x\": 2.946995486860717, \"place\": \"Guiyang\", \"country\": \"CN\", \"region\": \"Asia\"}, {\"y\": 0.20672450301484158, \"x\": 2.1846812367544515, \"place\": \"Huainan\", \"country\": \"CN\", \"region\": \"Asia\"}, {\"y\": 0.15040170620933713, \"x\": 2.2089087160200416, \"place\": \"Cixi\", \"country\": \"CN\", \"region\": \"Asia\"}, {\"y\": 1.533583607498525, \"x\": 0.981734164532472, \"place\": \"Changzhou\", \"country\": \"CN\", \"region\": \"Asia\"}, {\"y\": 0.11113674311488929, \"x\": 2.203177521769875, \"place\": \"Jiangmen\", \"country\": \"CN\", \"region\": \"Asia\"}, {\"y\": -0.02049572522855895, \"x\": 2.668944093811747, \"place\": \"Jinan\", \"country\": \"CN\", \"region\": \"Asia\"}, {\"y\": 0.09970113225802904, \"x\": 2.559510839217801, \"place\": \"Huai'an\", \"country\": \"CN\", \"region\": \"Asia\"}, {\"y\": 0.42437186137722144, \"x\": 2.3231075152942777, \"place\": \"Jiaxing\", \"country\": \"CN\", \"region\": \"Asia\"}, {\"y\": 0.18103452812665288, \"x\": 2.5108981319869756, \"place\": \"Hefei\", \"country\": \"CN\", \"region\": \"Asia\"}, {\"y\": 0.6168333837939115, \"x\": 2.270126435999173, \"place\": \"Changsha\", \"country\": \"CN\", \"region\": \"Asia\"}, {\"y\": 0.04317916777162864, \"x\": 2.9618054523638286, \"place\": \"Foshan\", \"country\": \"CN\", \"region\": \"Asia\"}, {\"y\": 0.8200607498162724, \"x\": 2.7504206705372622, \"place\": \"Beijing\", \"country\": \"CN\", \"region\": \"Asia\"}, {\"y\": 0.9134007687551033, \"x\": 2.836066039854813, \"place\": \"Nantong\", \"country\": \"CN\", \"region\": \"Asia\"}, {\"y\": 3.384169993748867, \"x\": 0.5330431505219679, \"place\": \"Changshu\", \"country\": \"CN\", \"region\": \"Asia\"}, {\"y\": -1.2083608040354838, \"x\": 3.158772023853999, \"place\": \"Nanchang\", \"country\": \"CN\", \"region\": \"Asia\"}, {\"y\": 0.08623609201041706, \"x\": 3.4468876018983043, \"place\": \"Yiwu\", \"country\": \"CN\", \"region\": \"Asia\"}, {\"y\": 2.029208357910482, \"x\": 2.1042035070170773, \"place\": \"Xiamen\", \"country\": \"CN\", \"region\": \"Asia\"}, {\"y\": 1.722966489038392, \"x\": 2.747458303026676, \"place\": \"Zhuhai\", \"country\": \"CN\", \"region\": \"Asia\"}, {\"y\": -1.6548856244590584, \"x\": 3.012524735671627, \"place\": \"Shantou\", \"country\": \"CN\", \"region\": \"Asia\"}, {\"y\": 0.517894022166231, \"x\": 2.2635948211306736, \"place\": \"Huizhou\", \"country\": \"CN\", \"region\": \"Asia\"}, {\"y\": -0.34696906712651254, \"x\": 3.5610350029685804, \"place\": \"Wuhan\", \"country\": \"CN\", \"region\": \"Asia\"}, {\"y\": 0.13113650160495371, \"x\": 2.582636379659976, \"place\": \"Hohhot\", \"country\": \"CN\", \"region\": \"Asia\"}, {\"y\": -1.0053254321358656, \"x\": 3.120119182583521, \"place\": \"Guangzhou\", \"country\": \"CN\", \"region\": \"Asia\"}, {\"y\": 0.2764692351780858, \"x\": 1.8389789085923562, \"place\": \"Datong\", \"country\": \"CN\", \"region\": \"Asia\"}, {\"y\": -0.09261916091885594, \"x\": 2.7805961231291443, \"place\": \"Quanzhou\", \"country\": \"CN\", \"region\": \"Asia\"}, {\"y\": -1.154840407694983, \"x\": 2.736761736121744, \"place\": \"Tianjin\", \"country\": \"CN\", \"region\": \"Asia\"}, {\"y\": 0.7934387875077663, \"x\": 2.429047517113003, \"place\": \"Taiyuan\", \"country\": \"CN\", \"region\": \"Asia\"}, {\"y\": -0.09663181319985853, \"x\": 3.4746153365068007, \"place\": \"Wenzhou\", \"country\": \"CN\", \"region\": \"Asia\"}, {\"y\": -1.0622836418221813, \"x\": 2.176961541556318, \"place\": \"Qingdao\", \"country\": \"CN\", \"region\": \"Asia\"}, {\"y\": -1.7115627462593066, \"x\": 2.6588415326073207, \"place\": \"Chongqing\", \"country\": \"CN\", \"region\": \"Asia\"}, {\"y\": -1.5090186032826884, \"x\": 2.386183920364541, \"place\": \"Chengdu\", \"country\": \"CN\", \"region\": \"Asia\"}, {\"y\": 0.7234898968567164, \"x\": 3.5077671698982136, \"place\": \"Weihai\", \"country\": \"CN\", \"region\": \"Asia\"}, {\"y\": 0.008940307151229803, \"x\": 2.6954368300786746, \"place\": \"Changchun\", \"country\": \"CN\", \"region\": \"Asia\"}, {\"y\": -0.08129667357134324, \"x\": 2.7537954099074344, \"place\": \"Jiamusi\", \"country\": \"CN\", \"region\": \"Asia\"}, {\"y\": 2.4769012214931663, \"x\": 2.2969524685783917, \"place\": \"Wuxi\", \"country\": \"CN\", \"region\": \"Asia\"}, {\"y\": -0.44621276102484037, \"x\": 3.569152711556231, \"place\": \"Linyi\", \"country\": \"CN\", \"region\": \"Asia\"}, {\"y\": 2.0882770281517917, \"x\": 2.5221388164639356, \"place\": \"Yantai\", \"country\": \"CN\", \"region\": \"Asia\"}, {\"y\": -0.781442296223154, \"x\": 3.6516039096378616, \"place\": \"Anshan\", \"country\": \"CN\", \"region\": \"Asia\"}, {\"y\": -1.0595356120678083, \"x\": 2.876785704455929, \"place\": \"Suzhou\", \"country\": \"CN\", \"region\": \"Asia\"}, {\"y\": 0.20295101473835633, \"x\": 3.2750462327397503, \"place\": \"Shenyang\", \"country\": \"CN\", \"region\": \"Asia\"}, {\"y\": 0.54325123902312, \"x\": 2.3751652718908325, \"place\": \"Fushun\", \"country\": \"CN\", \"region\": \"Asia\"}, {\"y\": 0.09121943160493635, \"x\": 3.7597318599958625, \"place\": \"Xuzhou\", \"country\": \"CN\", \"region\": \"Asia\"}, {\"y\": -0.8875129156471224, \"x\": 3.203631441836387, \"place\": \"Zhengzhou\", \"country\": \"CN\", \"region\": \"Asia\"}, {\"y\": -0.5882782941593081, \"x\": 3.4429698012219387, \"place\": \"Handan\", \"country\": \"CN\", \"region\": \"Asia\"}, {\"y\": 0.6857080500263704, \"x\": 2.91103504845653, \"place\": \"Putian\", \"country\": \"CN\", \"region\": \"Asia\"}, {\"y\": 0.429772231968721, \"x\": 3.0918954803614755, \"place\": \"Tangshan\", \"country\": \"CN\", \"region\": \"Asia\"}, {\"y\": -0.46516666710243293, \"x\": 4.022945786931869, \"place\": \"Baoding\", \"country\": \"CN\", \"region\": \"Asia\"}, {\"y\": 0.34298422381109683, \"x\": 3.0597162230072725, \"place\": \"Harbin\", \"country\": \"CN\", \"region\": \"Asia\"}, {\"y\": 0.21384918814501064, \"x\": 3.314815219264823, \"place\": \"Qiqihar\", \"country\": \"CN\", \"region\": \"Asia\"}, {\"y\": 1.2302059268744938, \"x\": 2.6553768499736186, \"place\": \"Qinhuangdao\", \"country\": \"CN\", \"region\": \"Asia\"}, {\"y\": 0.39054216266478176, \"x\": -3.4221357774922065, \"place\": \"Dublin\", \"country\": \"IE\", \"region\": \"Europe\"}, {\"y\": 0.1577008892288574, \"x\": -2.780269329555014, \"place\": \"Cork\", \"country\": \"IE\", \"region\": \"Europe\"}, {\"y\": 0.4776516202987671, \"x\": -3.7154051524615537, \"place\": \"Galway\", \"country\": \"IE\", \"region\": \"Europe\"}, {\"y\": -2.273627653947014, \"x\": 1.646504147810834, \"place\": \"Minsk\", \"country\": \"BY\", \"region\": \"Europe\"}, {\"y\": -0.5034332703002173, \"x\": 3.9749220600077653, \"place\": \"Grodno\", \"country\": \"BY\", \"region\": \"Europe\"}, {\"y\": -0.1390921494839612, \"x\": 1.0376914280709304, \"place\": \"Moscow\", \"country\": \"RU\", \"region\": \"Europe\"}, {\"y\": -0.034404763903303326, \"x\": 2.4969363692867357, \"place\": \"Saint Petersburg\", \"country\": \"RU\", \"region\": \"Europe\"}, {\"y\": 1.6063249188706772, \"x\": 2.021245272322551, \"place\": \"Kazan\", \"country\": \"RU\", \"region\": \"Europe\"}, {\"y\": 0.6565230534087012, \"x\": 2.6795431725536516, \"place\": \"Yekaterinburg\", \"country\": \"RU\", \"region\": \"Europe\"}, {\"y\": 0.8136109435010502, \"x\": 5.207298115071785, \"place\": \"Obninsk\", \"country\": \"RU\", \"region\": \"Europe\"}, {\"y\": -0.5863047096848092, \"x\": 3.685725160618758, \"place\": \"Saratov\", \"country\": \"RU\", \"region\": \"Europe\"}, {\"y\": 2.673006299351239, \"x\": 1.8064814365718798, \"place\": \"Kaliningrad\", \"country\": \"RU\", \"region\": \"Europe\"}, {\"y\": 1.396844816658902, \"x\": 1.838491883504565, \"place\": \"Nizhny\", \"country\": \"RU\", \"region\": \"Europe\"}, {\"y\": 0.5349403254974054, \"x\": 0.7507683013739661, \"place\": \"Krasnoyarsk\", \"country\": \"RU\", \"region\": \"Europe\"}, {\"y\": 0.7026146223062543, \"x\": 3.2232158939923585, \"place\": \"Izhevsk\", \"country\": \"RU\", \"region\": \"Europe\"}, {\"y\": 0.07215846916904708, \"x\": 4.826303584234205, \"place\": \"Samara\", \"country\": \"RU\", \"region\": \"Europe\"}, {\"y\": 1.095049744902033, \"x\": 2.584443908089861, \"place\": \"Tomsk\", \"country\": \"RU\", \"region\": \"Europe\"}, {\"y\": 1.3860157795064103, \"x\": 4.495467419056565, \"place\": \"Rostov-on-Don\", \"country\": \"RU\", \"region\": \"Europe\"}, {\"y\": 0.11633051140257987, \"x\": 3.206923734331436, \"place\": \"Novosibirsk\", \"country\": \"RU\", \"region\": \"Europe\"}, {\"y\": 1.1258540887922956, \"x\": 2.6062639014046347, \"place\": \"Chelyabinsk\", \"country\": \"RU\", \"region\": \"Europe\"}, {\"y\": 1.259417650037178, \"x\": 3.7661258511432587, \"place\": \"Ufa\", \"country\": \"RU\", \"region\": \"Europe\"}, {\"y\": -0.6489518481446716, \"x\": 2.0344719668343827, \"place\": \"Krasnodar\", \"country\": \"RU\", \"region\": \"Europe\"}, {\"y\": 1.8612762592453769, \"x\": 1.9521093623848744, \"place\": \"Vladivostok\", \"country\": \"RU\", \"region\": \"Europe\"}, {\"y\": -0.14794341421007287, \"x\": 2.5283665895553615, \"place\": \"Gurgaon\", \"country\": \"IN\", \"region\": \"Asia\"}, {\"y\": -1.0100883111528267, \"x\": 1.702383333847391, \"place\": \"Visakhapatnam\", \"country\": \"IN\", \"region\": \"Asia\"}, {\"y\": -0.20764886753698494, \"x\": 4.50992380610735, \"place\": \"Chennai\", \"country\": \"IN\", \"region\": \"Asia\"}, {\"y\": 0.09691594320092495, \"x\": 2.965062582995465, \"place\": \"Raipur\", \"country\": \"IN\", \"region\": \"Asia\"}, {\"y\": 0.24382021540891435, \"x\": 2.8348130427584817, \"place\": \"Chandigarh\", \"country\": \"IN\", \"region\": \"Asia\"}, {\"y\": 0.8937290731877283, \"x\": 3.2386007053798083, \"place\": \"Guwahati\", \"country\": \"IN\", \"region\": \"Asia\"}, {\"y\": -1.504082854263473, \"x\": 1.3415583003398852, \"place\": \"Jodhpur\", \"country\": \"IN\", \"region\": \"Asia\"}, {\"y\": -0.6442130052867542, \"x\": 3.87526112667538, \"place\": \"Bangalore\", \"country\": \"IN\", \"region\": \"Asia\"}, {\"y\": -0.5757830378542163, \"x\": 4.422982955015011, \"place\": \"Tirupur\", \"country\": \"IN\", \"region\": \"Asia\"}, {\"y\": 1.1734480215703553, \"x\": 2.2121778301453245, \"place\": \"Vijayawada\", \"country\": \"IN\", \"region\": \"Asia\"}, {\"y\": 0.6719183574386481, \"x\": 4.105111716778782, \"place\": \"Srinagar\", \"country\": \"IN\", \"region\": \"Asia\"}, {\"y\": -0.9147199786348336, \"x\": 3.9673758622791464, \"place\": \"Hyderabad\", \"country\": \"IN\", \"region\": \"Asia\"}, {\"y\": -0.5789749347396219, \"x\": 3.5130712829655595, \"place\": \"New Delhi\", \"country\": \"IN\", \"region\": \"Asia\"}, {\"y\": -0.7768149557721314, \"x\": 3.511112397377767, \"place\": \"Nagpur\", \"country\": \"IN\", \"region\": \"Asia\"}, {\"y\": 0.4504682384414724, \"x\": 3.393493142911917, \"place\": \"Aurangabad\", \"country\": \"IN\", \"region\": \"Asia\"}, {\"y\": -0.597495574229631, \"x\": 3.7022905621759676, \"place\": \"Jaipur\", \"country\": \"IN\", \"region\": \"Asia\"}, {\"y\": -0.19795799377426973, \"x\": 3.0842121514303407, \"place\": \"Jamshedpur\", \"country\": \"IN\", \"region\": \"Asia\"}, {\"y\": -0.8344848025802538, \"x\": 2.860605884774985, \"place\": \"Lucknow\", \"country\": \"IN\", \"region\": \"Asia\"}, {\"y\": -0.8812244981623479, \"x\": 2.926847353162174, \"place\": \"Ludhiana\", \"country\": \"IN\", \"region\": \"Asia\"}, {\"y\": -0.39241297341462145, \"x\": 3.423891825539541, \"place\": \"Mumbai\", \"country\": \"IN\", \"region\": \"Asia\"}, {\"y\": -0.24168609500404176, \"x\": 3.7393716144640323, \"place\": \"Kalyan\", \"country\": \"IN\", \"region\": \"Asia\"}, {\"y\": -1.0762012956428264, \"x\": 3.3321326347376723, \"place\": \"Pune\", \"country\": \"IN\", \"region\": \"Asia\"}, {\"y\": -1.397512645100864, \"x\": 2.0485185794688094, \"place\": \"Varanasi\", \"country\": \"IN\", \"region\": \"Asia\"}, {\"y\": -1.3029567597453184, \"x\": 1.4905969646203805, \"place\": \"Amritsar\", \"country\": \"IN\", \"region\": \"Asia\"}, {\"y\": 0.7007449362249767, \"x\": 2.667384689590733, \"place\": \"Dhanbad\", \"country\": \"IN\", \"region\": \"Asia\"}, {\"y\": -0.25132588386659727, \"x\": 3.708192717604598, \"place\": \"Gwalior\", \"country\": \"IN\", \"region\": \"Asia\"}, {\"y\": -0.696624823498895, \"x\": 3.7246388725637614, \"place\": \"Thrissur\", \"country\": \"IN\", \"region\": \"Asia\"}, {\"y\": -0.9672436643951562, \"x\": 3.81556405497616, \"place\": \"Asansol\", \"country\": \"IN\", \"region\": \"Asia\"}, {\"y\": 1.0302524976226008, \"x\": 2.770108549396103, \"place\": \"Jabalpur\", \"country\": \"IN\", \"region\": \"Asia\"}, {\"y\": -1.2790334165884083, \"x\": 3.1415689291228213, \"place\": \"Surat\", \"country\": \"IN\", \"region\": \"Asia\"}, {\"y\": -1.2775370293867006, \"x\": 2.6898762383167583, \"place\": \"Agra\", \"country\": \"IN\", \"region\": \"Asia\"}, {\"y\": -1.8119531173478858, \"x\": 3.7497759150524317, \"place\": \"Ahmedabad\", \"country\": \"IN\", \"region\": \"Asia\"}, {\"y\": -0.8979810734183036, \"x\": 3.4612165422365533, \"place\": \"Thane\", \"country\": \"IN\", \"region\": \"Asia\"}, {\"y\": -1.2901894832141836, \"x\": 3.1730764006801344, \"place\": \"Vadodara\", \"country\": \"IN\", \"region\": \"Asia\"}, {\"y\": 0.6343448864355484, \"x\": 3.0570878435678073, \"place\": \"Indore\", \"country\": \"IN\", \"region\": \"Asia\"}, {\"y\": -0.16948493588146224, \"x\": 3.718238802691837, \"place\": \"Noida\", \"country\": \"IN\", \"region\": \"Asia\"}, {\"y\": 0.707042435731972, \"x\": 3.698837027742843, \"place\": \"Kannur\", \"country\": \"IN\", \"region\": \"Asia\"}, {\"y\": -0.07562113528683875, \"x\": 3.2505705286708366, \"place\": \"Kollam\", \"country\": \"IN\", \"region\": \"Asia\"}, {\"y\": 1.4925575800836197, \"x\": 2.3319413242773748, \"place\": \"Kanpur\", \"country\": \"IN\", \"region\": \"Asia\"}, {\"y\": -0.3038111002815312, \"x\": 3.9430473166242415, \"place\": \"Bhopal\", \"country\": \"IN\", \"region\": \"Asia\"}, {\"y\": 0.05044859496015115, \"x\": 4.202228007972509, \"place\": \"Allahabad\", \"country\": \"IN\", \"region\": \"Asia\"}, {\"y\": -1.0081438076737155, \"x\": 3.2562508394447276, \"place\": \"Nasik\", \"country\": \"IN\", \"region\": \"Asia\"}, {\"y\": 0.912479558989659, \"x\": 3.3020198824401543, \"place\": \"Bhubaneswar\", \"country\": \"IN\", \"region\": \"Asia\"}, {\"y\": -0.8751286099596105, \"x\": 2.6399029373740097, \"place\": \"Mysore\", \"country\": \"IN\", \"region\": \"Asia\"}, {\"y\": 0.2701265684285504, \"x\": 2.841873728351761, \"place\": \"Kozhikode\", \"country\": \"IN\", \"region\": \"Asia\"}, {\"y\": 0.5500102482204949, \"x\": 3.0482129028805085, \"place\": \"Coimbatore\", \"country\": \"IN\", \"region\": \"Asia\"}, {\"y\": 0.6585301612503759, \"x\": 3.331764047975984, \"place\": \"Nashik\", \"country\": \"IN\", \"region\": \"Asia\"}, {\"y\": -0.20066928381216118, \"x\": 4.8542211107140485, \"place\": \"Kochi\", \"country\": \"IN\", \"region\": \"Asia\"}, {\"y\": -0.07758007372312752, \"x\": 3.2334450100723746, \"place\": \"Madurai\", \"country\": \"IN\", \"region\": \"Asia\"}, {\"y\": -0.03406250202370348, \"x\": 3.5350110600497757, \"place\": \"Patna\", \"country\": \"IN\", \"region\": \"Asia\"}, {\"y\": -0.28901177229051667, \"x\": 4.518642754707879, \"place\": \"Kolkata\", \"country\": \"IN\", \"region\": \"Asia\"}, {\"y\": 0.10480958331638651, \"x\": 3.807522445374261, \"place\": \"Thiruvananthapuram\", \"country\": \"IN\", \"region\": \"Asia\"}, {\"y\": -1.3970304960872102, \"x\": 2.5358745098184166, \"place\": \"Goa\", \"country\": \"IN\", \"region\": \"Asia\"}, {\"y\": 0.1889604518961994, \"x\": 3.786187099370692, \"place\": \"Rajkot\", \"country\": \"IN\", \"region\": \"Asia\"}, {\"y\": 0.11072958241826564, \"x\": 4.070822273441515, \"place\": \"Kota\", \"country\": \"IN\", \"region\": \"Asia\"}, {\"y\": 0.14063650320097082, \"x\": 4.159441143088978, \"place\": \"Ranchi\", \"country\": \"IN\", \"region\": \"Asia\"}, {\"y\": -0.9913449142884645, \"x\": 0.7499188185422315, \"place\": \"Santiago\", \"country\": \"CL\", \"region\": \"Americas\"}, {\"y\": -2.583864493854395, \"x\": 0.4913465233444753, \"place\": \"Belgrade\", \"country\": \"RS\", \"region\": \"Europe\"}, {\"y\": -1.124542742184771, \"x\": 1.2512045563798, \"place\": \"Novi Sad\", \"country\": \"RS\", \"region\": \"Europe\"}, {\"y\": -2.925587633591746, \"x\": 0.7679389663535806, \"place\": \"Nis\", \"country\": \"RS\", \"region\": \"Europe\"}, {\"y\": 2.018898845276027, \"x\": -5.577146401330648, \"place\": \"Copenhagen\", \"country\": \"DK\", \"region\": \"Europe\"}, {\"y\": 1.39188701310299, \"x\": -5.573081376900864, \"place\": \"Aarhus\", \"country\": \"DK\", \"region\": \"Europe\"}, {\"y\": 1.6401854506798215, \"x\": -4.907549031974774, \"place\": \"Aalborg\", \"country\": \"DK\", \"region\": \"Europe\"}, {\"y\": -1.5644887534461578, \"x\": 0.3405167489524512, \"place\": \"Yerevan\", \"country\": \"AM\", \"region\": \"Asia\"}, {\"y\": -1.1698273106316932, \"x\": -0.1966553271015642, \"place\": \"Bratislava\", \"country\": \"SK\", \"region\": \"Europe\"}, {\"y\": -0.8961688290352519, \"x\": 0.4379411150836643, \"place\": \"Kosice\", \"country\": \"SK\", \"region\": \"Europe\"}, {\"y\": -1.5524618388375848, \"x\": 1.5366242978763838, \"place\": \"Adana\", \"country\": \"TR\", \"region\": \"Asia\"}, {\"y\": -1.2670158755528655, \"x\": 2.3898992178413248, \"place\": \"Gaziantep\", \"country\": \"TR\", \"region\": \"Asia\"}, {\"y\": -1.0745571002944057, \"x\": 1.372307516425904, \"place\": \"Antalya\", \"country\": \"TR\", \"region\": \"Asia\"}, {\"y\": -0.8190219796696325, \"x\": 1.2959559721477691, \"place\": \"Istanbul\", \"country\": \"TR\", \"region\": \"Asia\"}, {\"y\": -0.1073162856721512, \"x\": 2.7320907611717815, \"place\": \"Izmir\", \"country\": \"TR\", \"region\": \"Asia\"}, {\"y\": 1.5540926851602976, \"x\": 3.726104404767747, \"place\": \"Konya\", \"country\": \"TR\", \"region\": \"Asia\"}, {\"y\": 4.0577168949105324, \"x\": 0.5207605991943451, \"place\": \"Ankara\", \"country\": \"TR\", \"region\": \"Asia\"}, {\"y\": -0.3218578125412637, \"x\": 1.895055441698924, \"place\": \"Alanya\", \"country\": \"TR\", \"region\": \"Asia\"}, {\"y\": -0.1649964713791035, \"x\": 2.4373529266338405, \"place\": \"Bursa\", \"country\": \"TR\", \"region\": \"Asia\"}, {\"y\": -0.35952716865732237, \"x\": 1.5292758636467887, \"place\": \"Bodrum\", \"country\": \"TR\", \"region\": \"Asia\"}, {\"y\": -1.2403986481046911, \"x\": -4.300890892211366, \"place\": \"Tampere\", \"country\": \"FI\", \"region\": \"Europe\"}, {\"y\": -0.9374741496742045, \"x\": -4.630266554827591, \"place\": \"Espoo\", \"country\": \"FI\", \"region\": \"Europe\"}, {\"y\": -0.46858333407859526, \"x\": -3.7748569108360863, \"place\": \"Turku\", \"country\": \"FI\", \"region\": \"Europe\"}, {\"y\": -0.037369820121093154, \"x\": -2.35219687492222, \"place\": \"Oulu\", \"country\": \"FI\", \"region\": \"Europe\"}, {\"y\": -1.1354750551269213, \"x\": -4.620836219489972, \"place\": \"Helsinki\", \"country\": \"FI\", \"region\": \"Europe\"}, {\"y\": 0.06279697885726657, \"x\": -3.925988328478294, \"place\": \"Jyvaskyla\", \"country\": \"FI\", \"region\": \"Europe\"}, {\"y\": 2.112781331379727, \"x\": -1.328888974877036, \"place\": \"Nicosia\", \"country\": \"CY\", \"region\": \"Asia\"}, {\"y\": 0.21338651550250495, \"x\": -3.0807859775948345, \"place\": \"Limassol\", \"country\": \"CY\", \"region\": \"Asia\"}, {\"y\": 1.513867038897283, \"x\": -1.2796557989607298, \"place\": \"Paphos\", \"country\": \"CY\", \"region\": \"Asia\"}, {\"y\": -1.7167026686072808, \"x\": -0.06012215433524612, \"place\": \"Zadar\", \"country\": \"HR\", \"region\": \"Europe\"}, {\"y\": -1.1249385930931037, \"x\": 0.45399411148004415, \"place\": \"Zagreb\", \"country\": \"HR\", \"region\": \"Europe\"}, {\"y\": -0.8498496081170089, \"x\": 0.4507452170302102, \"place\": \"Split\", \"country\": \"HR\", \"region\": \"Europe\"}, {\"y\": -1.3331937068519124, \"x\": 1.0473193928787483, \"place\": \"Osijek\", \"country\": \"HR\", \"region\": \"Europe\"}, {\"y\": -1.2753886220180892, \"x\": 0.6904725191792814, \"place\": \"Rijeka\", \"country\": \"HR\", \"region\": \"Europe\"}, {\"y\": 1.263763293463429, \"x\": -0.08888483483515706, \"place\": \"Dubrovnik\", \"country\": \"HR\", \"region\": \"Europe\"}, {\"y\": -1.6480797313664788, \"x\": -1.270449300981545, \"place\": \"Ljubljana\", \"country\": \"SI\", \"region\": \"Europe\"}, {\"y\": 0.34322780671102504, \"x\": -2.561740822371596, \"place\": \"San Juan\", \"country\": \"PR\", \"region\": \"Americas\"}, {\"y\": -1.07927385853097, \"x\": 0.03708164826974829, \"place\": \"Sofia\", \"country\": \"BG\", \"region\": \"Europe\"}, {\"y\": -0.25063872204078147, \"x\": -0.3563522548086383, \"place\": \"Plovdiv\", \"country\": \"BG\", \"region\": \"Europe\"}, {\"y\": 2.2443503020745172, \"x\": -2.451252204454657, \"place\": \"Burgas\", \"country\": \"BG\", \"region\": \"Europe\"}, {\"y\": -1.1840412574129713, \"x\": 0.6900854934653826, \"place\": \"Varna\", \"country\": \"BG\", \"region\": \"Europe\"}, {\"y\": 2.016264879811468, \"x\": -1.1686328191544264, \"place\": \"Gibraltar\", \"country\": \"GI\", \"region\": \"Europe\"}, {\"y\": -1.666011321862935, \"x\": 1.698238520963788, \"place\": \"Tbilisi\", \"country\": \"GE\", \"region\": \"Asia\"}, {\"y\": -0.8482045430321471, \"x\": 2.127762277755213, \"place\": \"Amman\", \"country\": \"JO\", \"region\": \"Asia\"}, {\"y\": -1.140602798596362, \"x\": -1.107021680556354, \"place\": \"Vilnius\", \"country\": \"LT\", \"region\": \"Europe\"}, {\"y\": -0.3936268001484424, \"x\": -0.17080797936101175, \"place\": \"Kaunas\", \"country\": \"LT\", \"region\": \"Europe\"}, {\"y\": -0.015929102527822394, \"x\": 0.8800886805013246, \"place\": \"Klaipeda\", \"country\": \"LT\", \"region\": \"Europe\"}, {\"y\": -0.4953686313177606, \"x\": 3.019386628535993, \"place\": \"Kuala Lumpur\", \"country\": \"MY\", \"region\": \"Asia\"}, {\"y\": -0.32585998581816167, \"x\": 3.2723190140062046, \"place\": \"Johor Bahru\", \"country\": \"MY\", \"region\": \"Asia\"}, {\"y\": -1.270159769628041, \"x\": 2.5681537504067955, \"place\": \"Kota Kinabalu\", \"country\": \"MY\", \"region\": \"Asia\"}, {\"y\": -0.743286193656577, \"x\": 3.2081667554023237, \"place\": \"Penang\", \"country\": \"MY\", \"region\": \"Asia\"}, {\"y\": 1.1818902484967289, \"x\": 2.108187537195299, \"place\": \"Ipoh\", \"country\": \"MY\", \"region\": \"Asia\"}, {\"y\": -0.6074186247189495, \"x\": 0.42364745150557237, \"place\": \"Santo Domingo\", \"country\": \"DO\", \"region\": \"Americas\"}, {\"y\": -1.5294601543059978, \"x\": -0.084293409532478, \"place\": \"Jarabacoa\", \"country\": \"DO\", \"region\": \"Americas\"}, {\"y\": -1.0637599797139774, \"x\": 0.14868058449988203, \"place\": \"Kingston\", \"country\": \"JM\", \"region\": \"Americas\"}, {\"y\": -0.9531337438810787, \"x\": 1.3782880961012982, \"place\": \"Sarajevo\", \"country\": \"BA\", \"region\": \"Europe\"}, {\"y\": -0.9599811455227495, \"x\": 1.1207244920751425, \"place\": \"Banja Luka\", \"country\": \"BA\", \"region\": \"Europe\"}, {\"y\": -0.11264453100520878, \"x\": -3.1599527510797207, \"place\": \"Bruges\", \"country\": \"GH\", \"region\": \"Africa\"}, {\"y\": 0.7493276830858652, \"x\": -2.068596261302558, \"place\": \"Innsbruck\", \"country\": \"GH\", \"region\": \"Africa\"}, {\"y\": 3.485822174704318, \"x\": 0.07902575320569229, \"place\": \"Accra\", \"country\": \"GH\", \"region\": \"Africa\"}, {\"y\": 2.163701714480226, \"x\": -1.9485616393169023, \"place\": \"Dubai\", \"country\": \"AE\", \"region\": \"Asia\"}, {\"y\": 0.4646416806264329, \"x\": -0.11371202895105488, \"place\": \"Sharjah\", \"country\": \"AE\", \"region\": \"Asia\"}, {\"y\": 2.6926663572087115, \"x\": -2.7021592318566197, \"place\": \"Abu Dhabi\", \"country\": \"AE\", \"region\": \"Asia\"}, {\"y\": 0.10548403538491415, \"x\": 0.5668594878955387, \"place\": \"Muscat\", \"country\": \"OM\", \"region\": \"Asia\"}, {\"y\": -1.4467447990255256, \"x\": 1.6977808819857572, \"place\": \"Cuenca\", \"country\": \"EC\", \"region\": \"Americas\"}, {\"y\": -0.14658161837031689, \"x\": 2.3535169297957954, \"place\": \"Guayaquil\", \"country\": \"EC\", \"region\": \"Americas\"}, {\"y\": -1.2965702851549934, \"x\": 1.748623386637235, \"place\": \"Quito\", \"country\": \"EC\", \"region\": \"Americas\"}, {\"y\": 1.8835698282635085, \"x\": -3.6080838188084643, \"place\": \"Monaco\", \"country\": \"MC\", \"region\": \"Europe\"}, {\"y\": -0.4021801157799435, \"x\": 2.822015729450567, \"place\": \"Chachapoyas\", \"country\": \"PE\", \"region\": \"Americas\"}, {\"y\": -1.0242165402253283, \"x\": 1.1953531060994247, \"place\": \"Lima\", \"country\": \"PE\", \"region\": \"Americas\"}, {\"y\": -1.0994925537222102, \"x\": 1.824537066965252, \"place\": \"Arequipa\", \"country\": \"PE\", \"region\": \"Americas\"}, {\"y\": 1.2758905737192336, \"x\": 2.127867791636581, \"place\": \"Cusco\", \"country\": \"PE\", \"region\": \"Americas\"}, {\"y\": -1.5119350740504613, \"x\": 1.5203950421955752, \"place\": \"Taghazout\", \"country\": \"MA\", \"region\": \"Africa\"}, {\"y\": 4.077234359279665, \"x\": -1.063563994156426, \"place\": \"Rabat\", \"country\": \"MA\", \"region\": \"Africa\"}, {\"y\": -0.7088389818267781, \"x\": 1.0901522276937707, \"place\": \"Casablanca\", \"country\": \"MA\", \"region\": \"Africa\"}, {\"y\": -0.10459892680953098, \"x\": 2.85057015444492, \"place\": \"Agadir\", \"country\": \"MA\", \"region\": \"Africa\"}, {\"y\": -1.3591747486947452, \"x\": 2.4053617688343416, \"place\": \"El Jadida\", \"country\": \"MA\", \"region\": \"Africa\"}, {\"y\": -1.9559282818453338, \"x\": 1.233713506439217, \"place\": \"Havana\", \"country\": \"CU\", \"region\": \"Americas\"}, {\"y\": -1.365660485207233, \"x\": 2.1979344472701348, \"place\": \"Bogota\", \"country\": \"CO\", \"region\": \"Americas\"}, {\"y\": -0.940623969611758, \"x\": 0.9386062026006533, \"place\": \"Cartagena\", \"country\": \"CO\", \"region\": \"Americas\"}, {\"y\": -0.48863464962194647, \"x\": 2.8606283023283816, \"place\": \"Barranquilla\", \"country\": \"CO\", \"region\": \"Americas\"}, {\"y\": -0.6792992451989883, \"x\": 2.593331451619162, \"place\": \"Medell\\u00edn\", \"country\": \"CO\", \"region\": \"Americas\"}, {\"y\": -0.5835895327666878, \"x\": 2.979287256468564, \"place\": \"Bucaramanga\", \"country\": \"CO\", \"region\": \"Americas\"}, {\"y\": -1.6867789466723397, \"x\": 1.7814747768306387, \"place\": \"Salento\", \"country\": \"CO\", \"region\": \"Americas\"}, {\"y\": 0.0610724543737967, \"x\": 2.8867973635789967, \"place\": \"Santa Marta\", \"country\": \"CO\", \"region\": \"Americas\"}, {\"y\": -0.6275047282022453, \"x\": 3.675526219423563, \"place\": \"Pasto\", \"country\": \"CO\", \"region\": \"Americas\"}, {\"y\": -1.1641608477899543, \"x\": 3.0443155419066907, \"place\": \"Cali\", \"country\": \"CO\", \"region\": \"Americas\"}, {\"y\": -0.33806104958848354, \"x\": 1.9900412031586365, \"place\": \"Bandar Seri Begawan\", \"country\": \"BN\", \"region\": \"Asia\"}, {\"y\": 2.7677278114136445, \"x\": -3.3052290307385666, \"place\": \"Luxembourg\", \"country\": \"LU\", \"region\": \"Europe\"}, {\"y\": -0.20547756646276713, \"x\": 0.855396538490243, \"place\": \"Salvador\", \"country\": \"SV\", \"region\": \"Americas\"}, {\"y\": -0.5092600501357184, \"x\": 2.0522564645569172, \"place\": \"San Salvador\", \"country\": \"SV\", \"region\": \"Americas\"}, {\"y\": 2.4178081865383545, \"x\": 3.0023399589880655, \"place\": \"Asuncion\", \"country\": \"PY\", \"region\": \"Americas\"}, {\"y\": -2.1385373643343315, \"x\": 2.186529688269867, \"place\": \"Colombo\", \"country\": \"LK\", \"region\": \"Asia\"}, {\"y\": -0.8449912215114843, \"x\": 2.0339560537507295, \"place\": \"Kandy\", \"country\": \"LK\", \"region\": \"Asia\"}, {\"y\": -1.5745553099829748, \"x\": 1.8433945384020922, \"place\": \"Bar\", \"country\": \"ME\", \"region\": \"Europe\"}, {\"y\": 1.5500450073694818, \"x\": 1.2051408957805494, \"place\": \"Budva\", \"country\": \"ME\", \"region\": \"Europe\"}, {\"y\": 0.3990779879772023, \"x\": 0.827022227289598, \"place\": \"Podgorica\", \"country\": \"ME\", \"region\": \"Europe\"}, {\"y\": 2.422701910163858, \"x\": 0.29860828035790155, \"place\": \"Dorobo\", \"country\": \"TZ\", \"region\": \"Africa\"}, {\"y\": -0.9646285529022509, \"x\": 1.5894754563698583, \"place\": \"Dakar\", \"country\": \"SN\", \"region\": \"Africa\"}, {\"y\": -0.5302425747455074, \"x\": 2.7301074314032827, \"place\": \"Palawan\", \"country\": \"PH\", \"region\": \"Asia\"}, {\"y\": 0.05195279674731231, \"x\": 2.921562402413468, \"place\": \"Cebu\", \"country\": \"PH\", \"region\": \"Asia\"}, {\"y\": -0.0959055545527131, \"x\": 2.691593583790356, \"place\": \"Boracay\", \"country\": \"PH\", \"region\": \"Asia\"}, {\"y\": -1.8097396092843145, \"x\": 2.5654777521492815, \"place\": \"General Santos\", \"country\": \"PH\", \"region\": \"Asia\"}, {\"y\": 0.8992737314577944, \"x\": -0.5345682031316424, \"place\": \"Makati\", \"country\": \"PH\", \"region\": \"Asia\"}, {\"y\": 0.3425447749916341, \"x\": 3.6187510553782976, \"place\": \"Manila\", \"country\": \"PH\", \"region\": \"Asia\"}, {\"y\": -1.7588809290959775, \"x\": 1.8510175309095014, \"place\": \"Davao\", \"country\": \"PH\", \"region\": \"Asia\"}, {\"y\": 0.04208408395173595, \"x\": -0.8507578007352247, \"place\": \"Port Louis\", \"country\": \"MU\", \"region\": \"Africa\"}, {\"y\": -1.1116581936830152, \"x\": 0.9276335956428619, \"place\": \"Tirana\", \"country\": \"AL\", \"region\": \"Europe\"}, {\"y\": -0.7341439719780559, \"x\": -0.7340612710203543, \"place\": \"Manama\", \"country\": \"BH\", \"region\": \"Asia\"}, {\"y\": 1.5800148220320516, \"x\": -4.534996336404528, \"place\": \"Reykjavik\", \"country\": \"IS\", \"region\": \"Europe\"}, {\"y\": 2.676479883331877, \"x\": 2.8986835643224254, \"place\": \"Dammam\", \"country\": \"SA\", \"region\": \"Asia\"}, {\"y\": 1.1576425521757374, \"x\": 2.5830853321747904, \"place\": \"Riyadh\", \"country\": \"SA\", \"region\": \"Asia\"}, {\"y\": 4.705821267857937, \"x\": 2.923992401427028, \"place\": \"Jeddah\", \"country\": \"SA\", \"region\": \"Asia\"}, {\"y\": -1.0133623511493377, \"x\": 2.237896291206523, \"place\": \"Baku\", \"country\": \"AZ\", \"region\": \"Asia\"}, {\"y\": 6.184163618346668, \"x\": -4.481109878975271, \"place\": \"Saint Helier\", \"country\": \"JE\", \"region\": \"Europe\"}, {\"y\": 2.0127987210211726, \"x\": 1.2511267630441498, \"place\": \"Caye Caulker\", \"country\": \"BZ\", \"region\": \"Americas\"}, {\"y\": 0.8117443394761569, \"x\": 0.7461782902608569, \"place\": \"Belize City\", \"country\": \"BZ\", \"region\": \"Americas\"}, {\"y\": -0.5777167388347512, \"x\": -0.09555264914256388, \"place\": \"San Pedro\", \"country\": \"BZ\", \"region\": \"Americas\"}, {\"y\": -0.18851127881140514, \"x\": 2.4576932218296466, \"place\": \"Male\", \"country\": \"MV\", \"region\": \"Asia\"}, {\"y\": -1.0250707864636337, \"x\": 1.6369143886680895, \"place\": \"Chisinau\", \"country\": \"MD\", \"region\": \"Europe\"}, {\"y\": -0.30156836105752066, \"x\": -0.34373046785000383, \"place\": \"Cape Town\", \"country\": \"ZA\", \"region\": \"Africa\"}, {\"y\": -0.5493216135552168, \"x\": -0.48187548198044533, \"place\": \"Pretoria\", \"country\": \"ZA\", \"region\": \"Africa\"}, {\"y\": 0.024213259034086464, \"x\": 0.6483955329586437, \"place\": \"Port Elizabeth\", \"country\": \"ZA\", \"region\": \"Africa\"}, {\"y\": 1.3956117776918955, \"x\": 0.5664684842012094, \"place\": \"Durban\", \"country\": \"ZA\", \"region\": \"Africa\"}, {\"y\": 0.6055154933461879, \"x\": 1.6433031708643817, \"place\": \"Johannesburg\", \"country\": \"ZA\", \"region\": \"Africa\"}, {\"y\": 1.3677715763662297, \"x\": 4.150099506799335, \"place\": \"Dhaka\", \"country\": \"BD\", \"region\": \"Asia\"}, {\"y\": 0.3448170534330689, \"x\": 3.166416298701849, \"place\": \"Chittagong\", \"country\": \"BD\", \"region\": \"Asia\"}, {\"y\": 1.537164564364462, \"x\": 1.8625795780866292, \"place\": \"Khulna\", \"country\": \"BD\", \"region\": \"Asia\"}, {\"y\": 1.4487638538504597, \"x\": -1.3177512756115448, \"place\": \"Doha\", \"country\": \"QA\", \"region\": \"Asia\"}, {\"y\": 0.2385231884005269, \"x\": 1.9100866756134287, \"place\": \"Almaty\", \"country\": \"KZ\", \"region\": \"Asia\"}, {\"y\": 6.03970742417061, \"x\": -3.6316296459665467, \"place\": \"Hamilton\", \"country\": \"BM\", \"region\": \"Americas\"}, {\"y\": -0.6835185338183852, \"x\": 2.577490473969521, \"place\": \"Siem Reap\", \"country\": \"KH\", \"region\": \"Asia\"}, {\"y\": -0.5945615456513956, \"x\": 2.9488931337817186, \"place\": \"Phnom Penh\", \"country\": \"KH\", \"region\": \"Asia\"}, {\"y\": 0.5942245983601782, \"x\": 0.9917660667500173, \"place\": \"Abidjan\", \"country\": \"NG\", \"region\": \"Africa\"}, {\"y\": 1.3860782915639338, \"x\": 4.267881607298596, \"place\": \"Abuja\", \"country\": \"NG\", \"region\": \"Africa\"}, {\"y\": 0.32723730735226964, \"x\": 4.660268682910294, \"place\": \"Ibadan\", \"country\": \"NG\", \"region\": \"Africa\"}, {\"y\": 0.07224560774230379, \"x\": 4.1400551060954305, \"place\": \"Lagos\", \"country\": \"NG\", \"region\": \"Africa\"}, {\"y\": 2.6624764618385526, \"x\": 4.819534192945599, \"place\": \"Port Harcourt\", \"country\": \"NG\", \"region\": \"Africa\"}, {\"y\": 0.9495853209398382, \"x\": 5.09435487851617, \"place\": \"Kano\", \"country\": \"NG\", \"region\": \"Africa\"}, {\"y\": -0.40362701812057167, \"x\": 2.9734806357848416, \"place\": \"Nairobi\", \"country\": \"KE\", \"region\": \"Africa\"}, {\"y\": -0.941178969891683, \"x\": 1.1466532769141478, \"place\": \"Beirut\", \"country\": \"LB\", \"region\": \"Asia\"}, {\"y\": -1.815475534825283, \"x\": 1.4123595500336148, \"place\": \"Santa Cruz\", \"country\": \"BO\", \"region\": \"Americas\"}, {\"y\": -2.0151429331858868, \"x\": 1.7528056306569701, \"place\": \"Cochabamba\", \"country\": \"BO\", \"region\": \"Americas\"}, {\"y\": 0.11598642495676205, \"x\": 3.3189731064137318, \"place\": \"La Paz\", \"country\": \"BO\", \"region\": \"Americas\"}, {\"y\": 0.9301639619862877, \"x\": 1.059480575291869, \"place\": \"Ramallah\", \"country\": \"PS\", \"region\": \"Asia\"}, {\"y\": 0.41161846430747095, \"x\": 4.4016755313143445, \"place\": \"Lahore\", \"country\": \"PK\", \"region\": \"Asia\"}, {\"y\": 2.825899144010456, \"x\": 4.920437101980157, \"place\": \"Faisalabad\", \"country\": \"PK\", \"region\": \"Asia\"}, {\"y\": 1.4570576747831065, \"x\": 5.873918378863475, \"place\": \"Islamabad\", \"country\": \"PK\", \"region\": \"Asia\"}, {\"y\": 3.341304153570071, \"x\": 4.856267963706034, \"place\": \"Peshawar\", \"country\": \"PK\", \"region\": \"Asia\"}, {\"y\": 1.4405015619389987, \"x\": 6.717034376642607, \"place\": \"Rawalpindi\", \"country\": \"PK\", \"region\": \"Asia\"}, {\"y\": 2.169403475412264, \"x\": 6.163135209523641, \"place\": \"Gujranwala\", \"country\": \"PK\", \"region\": \"Asia\"}, {\"y\": 2.587256738682693, \"x\": 5.280791128206455, \"place\": \"Karachi\", \"country\": \"PK\", \"region\": \"Asia\"}, {\"y\": 3.0950597224740664, \"x\": 5.528555459322014, \"place\": \"Bahawalpur\", \"country\": \"PK\", \"region\": \"Asia\"}, {\"y\": -0.5125654051789673, \"x\": 2.053108630434317, \"place\": \"Managua\", \"country\": \"NI\", \"region\": \"Americas\"}, {\"y\": -0.9259980252834299, \"x\": 3.95931586494533, \"place\": \"Cairo\", \"country\": \"EG\", \"region\": \"Africa\"}, {\"y\": 0.30078831023470776, \"x\": 4.464825781140339, \"place\": \"Alexandria\", \"country\": \"EG\", \"region\": \"Africa\"}, {\"y\": -0.1618870004771948, \"x\": 4.1200323096209805, \"place\": \"Port Said\", \"country\": \"EG\", \"region\": \"Africa\"}, {\"y\": 0.9174300139808415, \"x\": 5.6086396077584695, \"place\": \"Dahab\", \"country\": \"EG\", \"region\": \"Africa\"}, {\"y\": -0.7763863554472483, \"x\": 2.0102267837095162, \"place\": \"Ulaanbaatar\", \"country\": \"MN\", \"region\": \"Asia\"}, {\"y\": -0.9783598934670962, \"x\": 2.3556884282408257, \"place\": \"Antigua\", \"country\": \"GT\", \"region\": \"Americas\"}, {\"y\": 0.5866320921416488, \"x\": 3.759704718732602, \"place\": \"Guatemala City\", \"country\": \"GT\", \"region\": \"Americas\"}, {\"y\": -1.5324423931626499, \"x\": 2.5541222357685824, \"place\": \"Yangon\", \"country\": \"MM\", \"region\": \"Asia\"}, {\"y\": -2.759112980117347, \"x\": 0.9579795405380302, \"place\": \"Bishkek\", \"country\": \"KG\", \"region\": \"Asia\"}, {\"y\": -0.3854873366567124, \"x\": 3.6858015607538794, \"place\": \"Vientiane\", \"country\": \"LA\", \"region\": \"Asia\"}, {\"y\": 0.019722422670625593, \"x\": 2.209808915156517, \"place\": \"Tunis\", \"country\": \"TN\", \"region\": \"Africa\"}, {\"y\": 0.19747891787697527, \"x\": 1.6236415656391585, \"place\": \"Duhok\", \"country\": \"IQ\", \"region\": \"Asia\"}, {\"y\": 1.892386099790159, \"x\": 0.746210208294125, \"place\": \"Sulaymaniyah\", \"country\": \"IQ\", \"region\": \"Asia\"}, {\"y\": 1.6885834208447812, \"x\": 2.1265177457325164, \"place\": \"Erbil\", \"country\": \"IQ\", \"region\": \"Asia\"}, {\"y\": 3.179504296949801, \"x\": 5.806566868989139, \"place\": \"Baghdad\", \"country\": \"IQ\", \"region\": \"Asia\"}, {\"y\": 5.3510512596722535, \"x\": 4.4228855746287605, \"place\": \"Basra\", \"country\": \"IQ\", \"region\": \"Asia\"}, {\"y\": 1.1378850155522244, \"x\": 2.613741867599273, \"place\": \"Kinshasa\", \"country\": \"CD\", \"region\": \"Africa\"}, {\"y\": 3.957800201965423, \"x\": 3.238318431247602, \"place\": \"Bamako\", \"country\": \"ML\", \"region\": \"Africa\"}, {\"y\": -2.0497955475485368, \"x\": 3.063350156055195, \"place\": \"Kathmandu\", \"country\": \"NP\", \"region\": \"Asia\"}, {\"y\": 1.0604451606589151, \"x\": 3.9798751687284466, \"place\": \"Algiers\", \"country\": \"DZ\", \"region\": \"Africa\"}, {\"y\": -0.8145278315139031, \"x\": 2.603442177440443, \"place\": \"Kigali\", \"country\": \"RW\", \"region\": \"Africa\"}, {\"y\": 0.3185361374109122, \"x\": 3.0257275972444506, \"place\": \"Tashkent\", \"country\": \"UZ\", \"region\": \"Asia\"}, {\"y\": 0.3973548647390201, \"x\": 2.420030079126291, \"place\": \"Maputo\", \"country\": \"MZ\", \"region\": \"Africa\"}, {\"y\": 0.7429967769775971, \"x\": 2.844196487639547, \"place\": \"Brazzaville\", \"country\": \"CG\", \"region\": \"Africa\"}, {\"y\": 0.70980756160939, \"x\": 3.3533212712442997, \"place\": \"Antananarivo\", \"country\": \"YE\", \"region\": \"Asia\"}, {\"y\": 1.498542030041987, \"x\": 3.1107156339162203, \"place\": \"Dar es Salaam\", \"country\": \"ET\", \"region\": \"Africa\"}, {\"y\": 0.7685793406453062, \"x\": 4.379330037901262, \"place\": \"Addis Ababa\", \"country\": \"ET\", \"region\": \"Africa\"}, {\"y\": 0.02092353428591139, \"x\": 4.114404142177463, \"place\": \"Kampala\", \"country\": \"UG\", \"region\": \"Africa\"}, {\"y\": 2.4263133877050107, \"x\": 4.375985287793864, \"place\": \"Tegucigalpa\", \"country\": \"HN\", \"region\": \"Americas\"}, {\"y\": -0.900518339828519, \"x\": 3.2294295557309716, \"place\": \"Dushanbe\", \"country\": \"TJ\", \"region\": \"Asia\"}, {\"y\": 1.6925790014961701, \"x\": 5.680818641909346, \"place\": \"Isfahan\", \"country\": \"IR\", \"region\": \"Asia\"}, {\"y\": 2.91661504290022, \"x\": 1.9831044129951965, \"place\": \"Tehran\", \"country\": \"IR\", \"region\": \"Asia\"}, {\"y\": 2.881787944938197, \"x\": 3.8842917685586027, \"place\": \"Harare\", \"country\": \"ZW\", \"region\": \"Africa\"}, {\"y\": 1.40195412577707, \"x\": 4.526288924594796, \"place\": \"Conakry\", \"country\": \"GN\", \"region\": \"Africa\"}, {\"y\": 2.4588080562928716, \"x\": 4.803327039388331, \"place\": \"Yaounde\", \"country\": \"CM\", \"region\": \"Africa\"}, {\"y\": 2.688823822468581, \"x\": 0.33700161854412153, \"place\": \"Luanda\", \"country\": \"AO\", \"region\": \"Africa\"}, {\"y\": 2.3489272883855046, \"x\": 3.165814576682159, \"place\": \"Huambo\", \"country\": \"AO\", \"region\": \"Africa\"}, {\"y\": 0.12265501936226975, \"x\": 4.98037045217461, \"place\": \"Khartoum\", \"country\": \"SD\", \"region\": \"Africa\"}, {\"y\": 1.8852877102935266, \"x\": 3.838541540950394, \"place\": \"Caracas\", \"country\": \"VE\", \"region\": \"Americas\"}, {\"y\": 3.6921360973737514, \"x\": 3.7361191057257375, \"place\": \"Port Moresby\", \"country\": \"PG\", \"region\": \"Oceania\"}, {\"y\": 3.3623723817669497, \"x\": 4.662180134574641, \"place\": \"Freetown\", \"country\": \"SL\", \"region\": \"Africa\"}, {\"y\": 2.059699699474662, \"x\": 4.973700793205496, \"place\": \"Tripoli\", \"country\": \"LY\", \"region\": \"Africa\"}, {\"y\": 3.3053005550587966, \"x\": 6.965470964186953, \"place\": \"Damascus\", \"country\": \"SY\", \"region\": \"Asia\"}, {\"y\": 5.735825641583653, \"x\": 4.950576380433881, \"place\": \"Pyongyang\", \"country\": \"KP\", \"region\": \"Asia\"}]}};\n",
              "      var embedOpt = {\"mode\": \"vega-lite\"};\n",
              "\n",
              "      function showError(el, error){\n",
              "          el.innerHTML = ('<div class=\"error\" style=\"color:red;\">'\n",
              "                          + '<p>JavaScript Error: ' + error.message + '</p>'\n",
              "                          + \"<p>This usually means there's a typo in your chart specification. \"\n",
              "                          + \"See the javascript console for the full traceback.</p>\"\n",
              "                          + '</div>');\n",
              "          throw error;\n",
              "      }\n",
              "      const el = document.getElementById('altair-viz');\n",
              "      vegaEmbed(\"#altair-viz\", spec, embedOpt)\n",
              "        .catch(error => showError(el, error));\n",
              "    })(vegaEmbed);\n",
              "\n",
              "  </script>\n",
              "</body>\n",
              "</html>"
            ]
          },
          "metadata": {
            "tags": []
          },
          "execution_count": 138
        }
      ]
    },
    {
      "cell_type": "code",
      "metadata": {
        "id": "uP-XBmR-3oPk",
        "colab_type": "code",
        "colab": {
          "base_uri": "https://localhost:8080/",
          "height": 115
        },
        "outputId": "bd43feea-d51c-43bc-c3eb-5d786f08a621"
      },
      "source": [
        "data['quadrant'] = 0"
      ],
      "execution_count": 130,
      "outputs": [
        {
          "output_type": "stream",
          "text": [
            "/usr/local/lib/python3.6/dist-packages/ipykernel_launcher.py:1: SettingWithCopyWarning: \n",
            "A value is trying to be set on a copy of a slice from a DataFrame.\n",
            "Try using .loc[row_indexer,col_indexer] = value instead\n",
            "\n",
            "See the caveats in the documentation: http://pandas.pydata.org/pandas-docs/stable/user_guide/indexing.html#returning-a-view-versus-a-copy\n",
            "  \"\"\"Entry point for launching an IPython kernel.\n"
          ],
          "name": "stderr"
        }
      ]
    },
    {
      "cell_type": "code",
      "metadata": {
        "id": "lVuatzx33Q3v",
        "colab_type": "code",
        "colab": {}
      },
      "source": [
        "q1 = data[(d['x'] < 0) & (d['y'] < 0)].index\n",
        "q2 = data[(d['x'] < 0) & (d['y'] >= 0)].index\n",
        "q3 = data[(d['x'] >= 0) & (d['y'] < 0)].index\n",
        "q4 = data[(d['x'] >= 0) & (d['y'] >= 0)].index"
      ],
      "execution_count": 0,
      "outputs": []
    },
    {
      "cell_type": "code",
      "metadata": {
        "id": "99vRxgG23jKO",
        "colab_type": "code",
        "colab": {
          "base_uri": "https://localhost:8080/",
          "height": 505
        },
        "outputId": "f3f8a692-b024-4463-9dd6-43cddbc43ef0"
      },
      "source": [
        "data['quadrant'][q1] = 1\n",
        "data['quadrant'][q2] = 2\n",
        "data['quadrant'][q3] = 3\n",
        "data['quadrant'][q4] = 4"
      ],
      "execution_count": 135,
      "outputs": [
        {
          "output_type": "stream",
          "text": [
            "/usr/local/lib/python3.6/dist-packages/ipykernel_launcher.py:1: SettingWithCopyWarning: \n",
            "A value is trying to be set on a copy of a slice from a DataFrame\n",
            "\n",
            "See the caveats in the documentation: http://pandas.pydata.org/pandas-docs/stable/user_guide/indexing.html#returning-a-view-versus-a-copy\n",
            "  \"\"\"Entry point for launching an IPython kernel.\n",
            "/usr/local/lib/python3.6/dist-packages/pandas/core/series.py:1295: SettingWithCopyWarning: \n",
            "A value is trying to be set on a copy of a slice from a DataFrame\n",
            "\n",
            "See the caveats in the documentation: http://pandas.pydata.org/pandas-docs/stable/user_guide/indexing.html#returning-a-view-versus-a-copy\n",
            "  self._set_labels(key, value)\n",
            "/usr/local/lib/python3.6/dist-packages/IPython/core/interactiveshell.py:2882: SettingWithCopyWarning: \n",
            "A value is trying to be set on a copy of a slice from a DataFrame\n",
            "\n",
            "See the caveats in the documentation: http://pandas.pydata.org/pandas-docs/stable/user_guide/indexing.html#returning-a-view-versus-a-copy\n",
            "  exec(code_obj, self.user_global_ns, self.user_ns)\n",
            "/usr/local/lib/python3.6/dist-packages/ipykernel_launcher.py:2: SettingWithCopyWarning: \n",
            "A value is trying to be set on a copy of a slice from a DataFrame\n",
            "\n",
            "See the caveats in the documentation: http://pandas.pydata.org/pandas-docs/stable/user_guide/indexing.html#returning-a-view-versus-a-copy\n",
            "  \n",
            "/usr/local/lib/python3.6/dist-packages/ipykernel_launcher.py:3: SettingWithCopyWarning: \n",
            "A value is trying to be set on a copy of a slice from a DataFrame\n",
            "\n",
            "See the caveats in the documentation: http://pandas.pydata.org/pandas-docs/stable/user_guide/indexing.html#returning-a-view-versus-a-copy\n",
            "  This is separate from the ipykernel package so we can avoid doing imports until\n",
            "/usr/local/lib/python3.6/dist-packages/ipykernel_launcher.py:4: SettingWithCopyWarning: \n",
            "A value is trying to be set on a copy of a slice from a DataFrame\n",
            "\n",
            "See the caveats in the documentation: http://pandas.pydata.org/pandas-docs/stable/user_guide/indexing.html#returning-a-view-versus-a-copy\n",
            "  after removing the cwd from sys.path.\n"
          ],
          "name": "stderr"
        }
      ]
    },
    {
      "cell_type": "code",
      "metadata": {
        "id": "NU5n0u7a4ZL3",
        "colab_type": "code",
        "colab": {
          "base_uri": "https://localhost:8080/",
          "height": 211
        },
        "outputId": "31c2f982-8bac-43fb-affd-333aee8ee320"
      },
      "source": [
        "data.groupby(['quadrant']).mean()"
      ],
      "execution_count": 136,
      "outputs": [
        {
          "output_type": "execute_result",
          "data": {
            "text/html": [
              "<div>\n",
              "<style scoped>\n",
              "    .dataframe tbody tr th:only-of-type {\n",
              "        vertical-align: middle;\n",
              "    }\n",
              "\n",
              "    .dataframe tbody tr th {\n",
              "        vertical-align: top;\n",
              "    }\n",
              "\n",
              "    .dataframe thead th {\n",
              "        text-align: right;\n",
              "    }\n",
              "</style>\n",
              "<table border=\"1\" class=\"dataframe\">\n",
              "  <thead>\n",
              "    <tr style=\"text-align: right;\">\n",
              "      <th></th>\n",
              "      <th>cost_nomad</th>\n",
              "      <th>cost_coworking</th>\n",
              "      <th>cost_expat</th>\n",
              "      <th>coffee_in_cafe</th>\n",
              "      <th>cost_beer</th>\n",
              "      <th>places_to_work</th>\n",
              "      <th>free_wifi_available</th>\n",
              "      <th>internet_speed</th>\n",
              "      <th>freedom_score</th>\n",
              "      <th>peace_score</th>\n",
              "      <th>safety</th>\n",
              "      <th>fragile_states_index</th>\n",
              "      <th>press_freedom_index</th>\n",
              "      <th>female_friendly</th>\n",
              "      <th>lgbt_friendly</th>\n",
              "      <th>friendly_to_foreigners</th>\n",
              "      <th>racism</th>\n",
              "      <th>leisure</th>\n",
              "      <th>life_score</th>\n",
              "      <th>nightlife</th>\n",
              "      <th>weed</th>\n",
              "    </tr>\n",
              "    <tr>\n",
              "      <th>quadrant</th>\n",
              "      <th></th>\n",
              "      <th></th>\n",
              "      <th></th>\n",
              "      <th></th>\n",
              "      <th></th>\n",
              "      <th></th>\n",
              "      <th></th>\n",
              "      <th></th>\n",
              "      <th></th>\n",
              "      <th></th>\n",
              "      <th></th>\n",
              "      <th></th>\n",
              "      <th></th>\n",
              "      <th></th>\n",
              "      <th></th>\n",
              "      <th></th>\n",
              "      <th></th>\n",
              "      <th></th>\n",
              "      <th></th>\n",
              "      <th></th>\n",
              "      <th></th>\n",
              "    </tr>\n",
              "  </thead>\n",
              "  <tbody>\n",
              "    <tr>\n",
              "      <th>1</th>\n",
              "      <td>2556.586</td>\n",
              "      <td>196.907</td>\n",
              "      <td>2040.719</td>\n",
              "      <td>3.829</td>\n",
              "      <td>3.829</td>\n",
              "      <td>0.697</td>\n",
              "      <td>0.709</td>\n",
              "      <td>21.916</td>\n",
              "      <td>0.691</td>\n",
              "      <td>0.864</td>\n",
              "      <td>0.837</td>\n",
              "      <td>35.125</td>\n",
              "      <td>20.896</td>\n",
              "      <td>0.843</td>\n",
              "      <td>0.731</td>\n",
              "      <td>0.853</td>\n",
              "      <td>0.698</td>\n",
              "      <td>0.736</td>\n",
              "      <td>0.821</td>\n",
              "      <td>0.733</td>\n",
              "      <td>0.187</td>\n",
              "    </tr>\n",
              "    <tr>\n",
              "      <th>2</th>\n",
              "      <td>3527.689</td>\n",
              "      <td>355.543</td>\n",
              "      <td>3108.137</td>\n",
              "      <td>5.560</td>\n",
              "      <td>5.560</td>\n",
              "      <td>0.629</td>\n",
              "      <td>0.653</td>\n",
              "      <td>20.984</td>\n",
              "      <td>0.658</td>\n",
              "      <td>0.845</td>\n",
              "      <td>0.764</td>\n",
              "      <td>34.151</td>\n",
              "      <td>21.434</td>\n",
              "      <td>0.751</td>\n",
              "      <td>0.665</td>\n",
              "      <td>0.755</td>\n",
              "      <td>0.713</td>\n",
              "      <td>0.648</td>\n",
              "      <td>0.796</td>\n",
              "      <td>0.676</td>\n",
              "      <td>0.175</td>\n",
              "    </tr>\n",
              "    <tr>\n",
              "      <th>3</th>\n",
              "      <td>1343.422</td>\n",
              "      <td>112.755</td>\n",
              "      <td>993.213</td>\n",
              "      <td>1.453</td>\n",
              "      <td>1.453</td>\n",
              "      <td>0.538</td>\n",
              "      <td>0.480</td>\n",
              "      <td>6.022</td>\n",
              "      <td>0.295</td>\n",
              "      <td>0.519</td>\n",
              "      <td>0.601</td>\n",
              "      <td>73.869</td>\n",
              "      <td>45.853</td>\n",
              "      <td>0.515</td>\n",
              "      <td>0.431</td>\n",
              "      <td>0.748</td>\n",
              "      <td>0.366</td>\n",
              "      <td>0.634</td>\n",
              "      <td>0.642</td>\n",
              "      <td>0.578</td>\n",
              "      <td>0.084</td>\n",
              "    </tr>\n",
              "    <tr>\n",
              "      <th>4</th>\n",
              "      <td>2082.485</td>\n",
              "      <td>198.835</td>\n",
              "      <td>1541.923</td>\n",
              "      <td>2.661</td>\n",
              "      <td>2.661</td>\n",
              "      <td>0.404</td>\n",
              "      <td>0.392</td>\n",
              "      <td>5.722</td>\n",
              "      <td>0.269</td>\n",
              "      <td>0.461</td>\n",
              "      <td>0.498</td>\n",
              "      <td>79.676</td>\n",
              "      <td>52.669</td>\n",
              "      <td>0.468</td>\n",
              "      <td>0.345</td>\n",
              "      <td>0.564</td>\n",
              "      <td>107584722969337283993403392.000</td>\n",
              "      <td>0.481</td>\n",
              "      <td>0.530</td>\n",
              "      <td>0.413</td>\n",
              "      <td>0.012</td>\n",
              "    </tr>\n",
              "  </tbody>\n",
              "</table>\n",
              "</div>"
            ],
            "text/plain": [
              "          cost_nomad  cost_coworking  cost_expat  ...  life_score  nightlife  weed\n",
              "quadrant                                          ...                             \n",
              "1           2556.586         196.907    2040.719  ...       0.821      0.733 0.187\n",
              "2           3527.689         355.543    3108.137  ...       0.796      0.676 0.175\n",
              "3           1343.422         112.755     993.213  ...       0.642      0.578 0.084\n",
              "4           2082.485         198.835    1541.923  ...       0.530      0.413 0.012\n",
              "\n",
              "[4 rows x 21 columns]"
            ]
          },
          "metadata": {
            "tags": []
          },
          "execution_count": 136
        }
      ]
    }
  ]
}