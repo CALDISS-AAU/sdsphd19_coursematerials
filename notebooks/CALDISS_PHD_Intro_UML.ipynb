{
  "nbformat": 4,
  "nbformat_minor": 0,
  "metadata": {
    "colab": {
      "name": "CALDISS_PHD_Intro_UML.ipynb",
      "provenance": [],
      "toc_visible": true,
      "include_colab_link": true
    },
    "kernelspec": {
      "name": "python3",
      "display_name": "Python 3"
    }
  },
  "cells": [
    {
      "cell_type": "markdown",
      "metadata": {
        "id": "view-in-github",
        "colab_type": "text"
      },
      "source": [
        "<a href=\"https://colab.research.google.com/github/CALDISS-AAU/sdsphd19_coursematerials/blob/master/notebooks/CALDISS_PHD_Intro_UML.ipynb\" target=\"_parent\"><img src=\"https://colab.research.google.com/assets/colab-badge.svg\" alt=\"Open In Colab\"/></a>"
      ]
    },
    {
      "cell_type": "markdown",
      "metadata": {
        "id": "NJQTISVhSIPF",
        "colab_type": "text"
      },
      "source": [
        "# Premable"
      ]
    },
    {
      "cell_type": "code",
      "metadata": {
        "id": "ewubjVryR-_V",
        "colab_type": "code",
        "colab": {}
      },
      "source": [
        "import pandas as pd #Pandas handles tabular data\n",
        "pd.set_option('display.float_format', lambda x: '%.3f' % x) # turn off scientific notation and too much decimal blah\n",
        "import matplotlib.pyplot as plt # standard plotting library\n",
        "import seaborn as sns # For pretty dataviz\n",
        "sns.set_style(\"darkgrid\") # Define style for dataviz\n",
        "import numpy as np #Numpy for linear algebra & co"
      ],
      "execution_count": 0,
      "outputs": []
    },
    {
      "cell_type": "markdown",
      "metadata": {
        "id": "FpK2NYvT6Dqu",
        "colab_type": "text"
      },
      "source": [
        "# Introduction to Machine Learning"
      ]
    },
    {
      "cell_type": "markdown",
      "metadata": {
        "id": "1fn4douZ7uzH",
        "colab_type": "text"
      },
      "source": [
        "## General\n",
        "\n",
        "As with any concept, machine learning may have a slightly different definition, depending on whom you ask. A little compilation of definitions by academics and practioneers alike:\n",
        "\n",
        "* \"Machine Learning at its most basic is the practice of using algorithms to parse data, learn from it, and then make a determination or prediction about something in the world.\" - Nvidia \n",
        "* \"Machine learning is the science of getting computers to act without being explicitly programmed.\" - Stanford\n",
        "* \"Machine learning is based on algorithms that can learn from data without relying on rules-based programming.\"- McKinsey & Co.\n",
        "* \"Machine learning algorithms can figure out how to perform important tasks by generalizing from examples.\" - University of Washington\n",
        "* \"The field of Machine Learning seeks to answer the question \"How can we build computer systems that automatically improve with experience, and what are the fundamental laws that govern all learning processes?\" - Carnegie Mellon University\n"
      ]
    },
    {
      "cell_type": "markdown",
      "metadata": {
        "id": "RzhexkzV9fbZ",
        "colab_type": "text"
      },
      "source": [
        "## Supervised vs. Unsupervised ML\n",
        "\n",
        "<div>\n",
        "<img src=\"https://www.dropbox.com/s/45m8ef7qsmqbhvs/super_unsuper2.png?dl=1\" align=\"middle\" style=\"width: 1000px;\"/>\n",
        "</div>\n",
        "\n",
        "\n",
        "### Supervised ML\n",
        "\n",
        "* Concerned with labeling/classification/input-output-mapping/prediction tasks\n",
        "* Subject of the next lecture, so stay patient\n",
        "\n",
        "### Unsupervised ML\n",
        "\n",
        "Tasks related to pattern recognition and data exploration, in dase there yet does not exist a right answer or problem structure. Main applications:\n",
        "\n",
        "1. **Dimensionality reduction:** Finding patterns in the features of the data\n",
        "2. **Clustering:** Finding homogenous subgroups within larger group"
      ]
    },
    {
      "cell_type": "markdown",
      "metadata": {
        "id": "zRUD-kgd9zyY",
        "colab_type": "text"
      },
      "source": [
        "# Dimensionality Reduction Techniques\n"
      ]
    },
    {
      "cell_type": "markdown",
      "metadata": {
        "id": "H3CkZmlK94FO",
        "colab_type": "text"
      },
      "source": [
        "## Introduction\n",
        "\n",
        "Dimensionality reduction techniques are foremost useful to (you might see it coming) reduce the dimensionality of our data. So, what does that mean? And why should we want to do that?\n",
        "\n",
        "Dimensions here is a synonym for variables, so what we want to really do is have less variables. To do that, we have to find ways to express the same amount of information with fewer, but more information-rich variables. This is particularly useful to:\n",
        "\n",
        "* Find patterns in the **features** of the data.\n",
        "* Visualization of **high-dimensional** data.\n",
        "* **Pre-processing** before supervised ML tasks (complexity & noise reduction).\n",
        "\n",
        "The type of analysis to be performed depends on the data set formats and structures. The most commonly used DR techniques are:\n",
        "\n",
        "* **Principal Component Analysis (PCA):** Is used to summarize the information contained in a continuous (i.e, quantitative) multivariate data by reducing the dimensionality of the data without loosing important information.\n",
        "* **Correspondence Analysis (CA):** An extension of the principal component analysis suited to analyse a large contingency table formed by two qualitative variables (or categorical data).\n",
        "* **Multiple Correspondence Analysis (MCA):** An adaptation of CA to a data table containing more than two categorical variables.\n",
        "* **Multiple Factor Analysis (MFA):** Dedicated to datasets where variables are organized into groups (qualitative and/or quantitative variables).\n",
        "* **Hierarchical Multiple Factor Analysis (HMFA):** An extension of MFA in a situation where the data are organized into a hierarchical structure.\n",
        "* **Factor Analysis of Mixed Data (FAMD):** A particular case of the MFA, dedicated to analyze a data set containing both quantitative and qualitative variables.\n",
        "\n",
        "![](https://www.dropbox.com/s/uwhlsjwl4yxb25y/dim_tech.png?dl=1)"
      ]
    },
    {
      "cell_type": "markdown",
      "metadata": {
        "id": "hi2ZUglX58Qi",
        "colab_type": "text"
      },
      "source": [
        "\n",
        "\n",
        "# Principal Component Analysis (PCA)\n",
        "\n"
      ]
    },
    {
      "cell_type": "markdown",
      "metadata": {
        "id": "ETcque4UQi0A",
        "colab_type": "text"
      },
      "source": [
        "## General\n",
        "\n",
        "* A popular method is \"Principal Component Analysis\" (PCA)\n",
        "* Three goals when finding lower dimensional\n",
        "representation of features:\n",
        "     1. Find linear combination of variables to createprincipal components\n",
        "     2. Maintain most variance in the data\n",
        "     3. Principal components are uncorrelated (i.e.orthogonal to each other)"
      ]
    },
    {
      "cell_type": "markdown",
      "metadata": {
        "id": "uo5CQ-ZUQjD9",
        "colab_type": "text"
      },
      "source": [
        "## The intuition behind it\n",
        "I won't go into too much detail with the math, but the basics of PCA are as follows: you take a dataset with many variables, and you simplify that dataset by turning your original variables into a smaller number of \"Principal Components\".\n",
        "\n",
        "![](https://www.dropbox.com/s/n8mefi1s2wt9h9g/PCA1.png?dl=1)\n",
        "\n"
      ]
    },
    {
      "cell_type": "markdown",
      "metadata": {
        "id": "GSl4rhe0Z5Kl",
        "colab_type": "text"
      },
      "source": [
        "But what are these exactly? Principal Components are the underlying structure in the data. They are the directions where there is the most variance, the directions where the data is most spread out. This means that we try to find the straight line that best spreads the data out when it is projected along it. This is the first principal component, the straight line that shows the most substantial variance in the data.\n",
        "\n",
        "![](https://www.dropbox.com/s/3iw8vizfick75lh/PCA2.png?dl=1)"
      ]
    },
    {
      "cell_type": "markdown",
      "metadata": {
        "id": "kahOjQEoZ8Oi",
        "colab_type": "text"
      },
      "source": [
        "Where many variables correlate with one another, they will all contribute strongly to the same principal component. Each principal component sums up a certain percentage of the total variation in the dataset. Where your initial variables are strongly correlated with one another, you will be able to approximate most of the complexity in your dataset with just a few principal components. Usually, the first principal component captures the main similarity in your data, the second the main difference.\n",
        "\n",
        "![](https://www.dropbox.com/s/tjooyreiguak7oy/PCA3.png?dl=1)"
      ]
    },
    {
      "cell_type": "markdown",
      "metadata": {
        "id": "R3jOJrqzaBg4",
        "colab_type": "text"
      },
      "source": [
        "These principal components can be computed via **Eigenvalues** and **Eigenvectors**. Just like many things in life, eigenvectors, and eigenvalues come in pairs: every eigenvector has a corresponding eigenvalue. Simply put, an eigenvector is a direction, such as \"vertical\" or \"45 degrees\", while an eigenvalue is a number telling you how much variance there is in the data in that direction. The eigenvector with the highest eigenvalue is, therefore, the first principal component. The number of eigenvalues and eigenvectors that exits is equal to the number of dimensions the data set has. Consequently, we can reframe a dataset in terms of these eigenvectors and eigenvalues without changing the underlying information. \n",
        "\n",
        "Note that reframing a dataset regarding a set of eigenvalues and eigenvectors does not entail changing the data itself, you're just looking at it from a different angle, which should represent the data better."
      ]
    },
    {
      "cell_type": "markdown",
      "metadata": {
        "id": "CFlOMUTcQxo6",
        "colab_type": "text"
      },
      "source": [
        "## The math behind Eigendecompositions\n",
        "\n",
        "The eigenvectors and eigenvalues of a covariance (or correlation) matrix represent the \"core\" of a PCA: The eigenvectors (principal components) determine the directions of the new feature space, and the eigenvalues determine their magnitude. In other words, the eigenvalues explain the variance of the data along the new feature axes."
      ]
    },
    {
      "cell_type": "code",
      "metadata": {
        "id": "VQejvFwgRn3i",
        "colab_type": "code",
        "outputId": "816c63f3-143c-45ac-ccab-bd7604e783be",
        "colab": {
          "base_uri": "https://localhost:8080/",
          "height": 67
        }
      },
      "source": [
        "# define a matrix\n",
        "mat = np.array([[1, 2, 4], [3, 4, 4], [3, 6, 7]])\n",
        "\n",
        "mat"
      ],
      "execution_count": 97,
      "outputs": [
        {
          "output_type": "execute_result",
          "data": {
            "text/plain": [
              "array([[1, 2, 4],\n",
              "       [3, 4, 4],\n",
              "       [3, 6, 7]])"
            ]
          },
          "metadata": {
            "tags": []
          },
          "execution_count": 97
        }
      ]
    },
    {
      "cell_type": "code",
      "metadata": {
        "id": "Wdre9AXae0yw",
        "colab_type": "code",
        "colab": {}
      },
      "source": [
        "# center columns by subtracting column means\n",
        "mat_cent = mat - np.mean(mat.T, axis=1)"
      ],
      "execution_count": 0,
      "outputs": []
    },
    {
      "cell_type": "code",
      "metadata": {
        "id": "UX2O1u4RT-_R",
        "colab_type": "code",
        "outputId": "5505927b-7061-4b67-8923-5231f9cd8559",
        "colab": {
          "base_uri": "https://localhost:8080/",
          "height": 84
        }
      },
      "source": [
        "# Compute the covariance matrix\n",
        "cov_mat = np.cov(mat_cent.T)\n",
        "print('Covariance matrix by NumPy\\n%s' %cov_mat)"
      ],
      "execution_count": 99,
      "outputs": [
        {
          "output_type": "stream",
          "text": [
            "Covariance matrix by NumPy\n",
            "[[1.33333333 2.         1.        ]\n",
            " [2.         4.         3.        ]\n",
            " [1.         3.         3.        ]]\n"
          ],
          "name": "stdout"
        }
      ]
    },
    {
      "cell_type": "code",
      "metadata": {
        "id": "wcvYiN7JVbsA",
        "colab_type": "code",
        "outputId": "ae425c18-1257-4a8b-f997-0038504e616c",
        "colab": {
          "base_uri": "https://localhost:8080/",
          "height": 135
        }
      },
      "source": [
        "# Next, we perform an eigendecomposition on the covariance matrix:\n",
        "eig_vals, eig_vecs = np.linalg.eig(cov_mat)\n",
        "\n",
        "print('Eigenvectors \\n%s' %eig_vecs)\n",
        "print('\\nEigenvalues \\n%s' %eig_vals)"
      ],
      "execution_count": 100,
      "outputs": [
        {
          "output_type": "stream",
          "text": [
            "Eigenvectors \n",
            "[[-0.34238119 -0.6882472   0.63960215]\n",
            " [-0.73367398 -0.22941573 -0.63960215]\n",
            " [-0.58693919  0.6882472   0.42640143]]\n",
            "\n",
            "Eigenvalues \n",
            "[7.33333333e+00 1.00000000e+00 2.20574804e-16]\n"
          ],
          "name": "stdout"
        }
      ]
    },
    {
      "cell_type": "markdown",
      "metadata": {
        "id": "mMfHZvvdaT_S",
        "colab_type": "text"
      },
      "source": [
        "## Python Tools"
      ]
    },
    {
      "cell_type": "code",
      "metadata": {
        "id": "oVwMHugGcFlr",
        "colab_type": "code",
        "colab": {}
      },
      "source": [
        "# Import the functions we need\n",
        "from sklearn.decomposition import PCA # PCA from  sklearn, the python ML standard library"
      ],
      "execution_count": 0,
      "outputs": []
    },
    {
      "cell_type": "code",
      "metadata": {
        "id": "QHQ_beOdcK7E",
        "colab_type": "code",
        "colab": {}
      },
      "source": [
        "# Initialize\n",
        "model = PCA()"
      ],
      "execution_count": 0,
      "outputs": []
    },
    {
      "cell_type": "code",
      "metadata": {
        "id": "Tb1PU4NicRde",
        "colab_type": "code",
        "outputId": "4690e680-1d57-460e-c3d9-099ae8a6ba87",
        "colab": {
          "base_uri": "https://localhost:8080/",
          "height": 50
        }
      },
      "source": [
        "# Fit the model\n",
        "model.fit(mat)"
      ],
      "execution_count": 103,
      "outputs": [
        {
          "output_type": "execute_result",
          "data": {
            "text/plain": [
              "PCA(copy=True, iterated_power='auto', n_components=None, random_state=None,\n",
              "    svd_solver='auto', tol=0.0, whiten=False)"
            ]
          },
          "metadata": {
            "tags": []
          },
          "execution_count": 103
        }
      ]
    },
    {
      "cell_type": "code",
      "metadata": {
        "id": "jE0JaedZeRf5",
        "colab_type": "code",
        "outputId": "0a5ff584-4db7-430c-d997-52bae693a1b3",
        "colab": {
          "base_uri": "https://localhost:8080/",
          "height": 67
        }
      },
      "source": [
        "model.components_"
      ],
      "execution_count": 104,
      "outputs": [
        {
          "output_type": "execute_result",
          "data": {
            "text/plain": [
              "array([[ 0.34238119,  0.73367398,  0.58693919],\n",
              "       [ 0.6882472 ,  0.22941573, -0.6882472 ],\n",
              "       [-0.63960215,  0.63960215, -0.42640143]])"
            ]
          },
          "metadata": {
            "tags": []
          },
          "execution_count": 104
        }
      ]
    },
    {
      "cell_type": "code",
      "metadata": {
        "id": "WoNwbALhgeZW",
        "colab_type": "code",
        "outputId": "838ffe27-0100-4753-bd8a-e4d2c33056b0",
        "colab": {
          "base_uri": "https://localhost:8080/",
          "height": 34
        }
      },
      "source": [
        "model.explained_variance_"
      ],
      "execution_count": 105,
      "outputs": [
        {
          "output_type": "execute_result",
          "data": {
            "text/plain": [
              "array([7.33333333e+00, 1.00000000e+00, 1.09813024e-32])"
            ]
          },
          "metadata": {
            "tags": []
          },
          "execution_count": 105
        }
      ]
    },
    {
      "cell_type": "code",
      "metadata": {
        "id": "6Wv9GOTjhFeG",
        "colab_type": "code",
        "colab": {}
      },
      "source": [
        "# Transform the original data\n",
        "mat_pca = model.transform(mat)"
      ],
      "execution_count": 0,
      "outputs": []
    },
    {
      "cell_type": "code",
      "metadata": {
        "id": "QreOmgLMiB6M",
        "colab_type": "code",
        "outputId": "f66f7e88-a671-4a99-f1d0-53b5e932da1a",
        "colab": {
          "base_uri": "https://localhost:8080/",
          "height": 67
        }
      },
      "source": [
        "mat_pca"
      ],
      "execution_count": 107,
      "outputs": [
        {
          "output_type": "execute_result",
          "data": {
            "text/plain": [
              "array([[-2.51079541e+00, -6.88247202e-01,  5.55111512e-16],\n",
              "       [-3.58685058e-01,  1.14707867e+00,  1.11022302e-16],\n",
              "       [ 2.86948046e+00, -4.58831468e-01, -3.33066907e-16]])"
            ]
          },
          "metadata": {
            "tags": []
          },
          "execution_count": 107
        }
      ]
    },
    {
      "cell_type": "markdown",
      "metadata": {
        "id": "xk9vPnfE_a3Z",
        "colab_type": "text"
      },
      "source": [
        "## Example"
      ]
    },
    {
      "cell_type": "markdown",
      "metadata": {
        "id": "LLVqD6_6VtZ8",
        "colab_type": "text"
      },
      "source": [
        "### Load the data"
      ]
    },
    {
      "cell_type": "code",
      "metadata": {
        "id": "YQxMeFq3i7Cq",
        "colab_type": "code",
        "colab": {}
      },
      "source": [
        "# load dataset into Pandas DataFrame\n",
        "data = pd.read_csv(\"https://archive.ics.uci.edu/ml/machine-learning-databases/iris/iris.data\", \n",
        "                 names=['sepal length','sepal width','petal length','petal width','species'])"
      ],
      "execution_count": 0,
      "outputs": []
    },
    {
      "cell_type": "markdown",
      "metadata": {
        "id": "_LD26gNFolEE",
        "colab_type": "text"
      },
      "source": [
        "### Brief exploration"
      ]
    },
    {
      "cell_type": "code",
      "metadata": {
        "id": "RjVTW4FwjKaW",
        "colab_type": "code",
        "outputId": "a7f91635-6550-4744-e007-2b2954eb9908",
        "colab": {
          "base_uri": "https://localhost:8080/",
          "height": 201
        }
      },
      "source": [
        "data.head()"
      ],
      "execution_count": 109,
      "outputs": [
        {
          "output_type": "execute_result",
          "data": {
            "text/html": [
              "<div>\n",
              "<style scoped>\n",
              "    .dataframe tbody tr th:only-of-type {\n",
              "        vertical-align: middle;\n",
              "    }\n",
              "\n",
              "    .dataframe tbody tr th {\n",
              "        vertical-align: top;\n",
              "    }\n",
              "\n",
              "    .dataframe thead th {\n",
              "        text-align: right;\n",
              "    }\n",
              "</style>\n",
              "<table border=\"1\" class=\"dataframe\">\n",
              "  <thead>\n",
              "    <tr style=\"text-align: right;\">\n",
              "      <th></th>\n",
              "      <th>sepal length</th>\n",
              "      <th>sepal width</th>\n",
              "      <th>petal length</th>\n",
              "      <th>petal width</th>\n",
              "      <th>species</th>\n",
              "    </tr>\n",
              "  </thead>\n",
              "  <tbody>\n",
              "    <tr>\n",
              "      <th>0</th>\n",
              "      <td>5.100</td>\n",
              "      <td>3.500</td>\n",
              "      <td>1.400</td>\n",
              "      <td>0.200</td>\n",
              "      <td>Iris-setosa</td>\n",
              "    </tr>\n",
              "    <tr>\n",
              "      <th>1</th>\n",
              "      <td>4.900</td>\n",
              "      <td>3.000</td>\n",
              "      <td>1.400</td>\n",
              "      <td>0.200</td>\n",
              "      <td>Iris-setosa</td>\n",
              "    </tr>\n",
              "    <tr>\n",
              "      <th>2</th>\n",
              "      <td>4.700</td>\n",
              "      <td>3.200</td>\n",
              "      <td>1.300</td>\n",
              "      <td>0.200</td>\n",
              "      <td>Iris-setosa</td>\n",
              "    </tr>\n",
              "    <tr>\n",
              "      <th>3</th>\n",
              "      <td>4.600</td>\n",
              "      <td>3.100</td>\n",
              "      <td>1.500</td>\n",
              "      <td>0.200</td>\n",
              "      <td>Iris-setosa</td>\n",
              "    </tr>\n",
              "    <tr>\n",
              "      <th>4</th>\n",
              "      <td>5.000</td>\n",
              "      <td>3.600</td>\n",
              "      <td>1.400</td>\n",
              "      <td>0.200</td>\n",
              "      <td>Iris-setosa</td>\n",
              "    </tr>\n",
              "  </tbody>\n",
              "</table>\n",
              "</div>"
            ],
            "text/plain": [
              "   sepal length  sepal width  petal length  petal width      species\n",
              "0         5.100        3.500         1.400        0.200  Iris-setosa\n",
              "1         4.900        3.000         1.400        0.200  Iris-setosa\n",
              "2         4.700        3.200         1.300        0.200  Iris-setosa\n",
              "3         4.600        3.100         1.500        0.200  Iris-setosa\n",
              "4         5.000        3.600         1.400        0.200  Iris-setosa"
            ]
          },
          "metadata": {
            "tags": []
          },
          "execution_count": 109
        }
      ]
    },
    {
      "cell_type": "code",
      "metadata": {
        "id": "i5ZNH0crlCSZ",
        "colab_type": "code",
        "outputId": "8d3bd5db-2f72-4112-d737-b4395979e004",
        "colab": {
          "base_uri": "https://localhost:8080/",
          "height": 293
        }
      },
      "source": [
        "data.describe()"
      ],
      "execution_count": 110,
      "outputs": [
        {
          "output_type": "execute_result",
          "data": {
            "text/html": [
              "<div>\n",
              "<style scoped>\n",
              "    .dataframe tbody tr th:only-of-type {\n",
              "        vertical-align: middle;\n",
              "    }\n",
              "\n",
              "    .dataframe tbody tr th {\n",
              "        vertical-align: top;\n",
              "    }\n",
              "\n",
              "    .dataframe thead th {\n",
              "        text-align: right;\n",
              "    }\n",
              "</style>\n",
              "<table border=\"1\" class=\"dataframe\">\n",
              "  <thead>\n",
              "    <tr style=\"text-align: right;\">\n",
              "      <th></th>\n",
              "      <th>sepal length</th>\n",
              "      <th>sepal width</th>\n",
              "      <th>petal length</th>\n",
              "      <th>petal width</th>\n",
              "    </tr>\n",
              "  </thead>\n",
              "  <tbody>\n",
              "    <tr>\n",
              "      <th>count</th>\n",
              "      <td>150.000</td>\n",
              "      <td>150.000</td>\n",
              "      <td>150.000</td>\n",
              "      <td>150.000</td>\n",
              "    </tr>\n",
              "    <tr>\n",
              "      <th>mean</th>\n",
              "      <td>5.843</td>\n",
              "      <td>3.054</td>\n",
              "      <td>3.759</td>\n",
              "      <td>1.199</td>\n",
              "    </tr>\n",
              "    <tr>\n",
              "      <th>std</th>\n",
              "      <td>0.828</td>\n",
              "      <td>0.434</td>\n",
              "      <td>1.764</td>\n",
              "      <td>0.763</td>\n",
              "    </tr>\n",
              "    <tr>\n",
              "      <th>min</th>\n",
              "      <td>4.300</td>\n",
              "      <td>2.000</td>\n",
              "      <td>1.000</td>\n",
              "      <td>0.100</td>\n",
              "    </tr>\n",
              "    <tr>\n",
              "      <th>25%</th>\n",
              "      <td>5.100</td>\n",
              "      <td>2.800</td>\n",
              "      <td>1.600</td>\n",
              "      <td>0.300</td>\n",
              "    </tr>\n",
              "    <tr>\n",
              "      <th>50%</th>\n",
              "      <td>5.800</td>\n",
              "      <td>3.000</td>\n",
              "      <td>4.350</td>\n",
              "      <td>1.300</td>\n",
              "    </tr>\n",
              "    <tr>\n",
              "      <th>75%</th>\n",
              "      <td>6.400</td>\n",
              "      <td>3.300</td>\n",
              "      <td>5.100</td>\n",
              "      <td>1.800</td>\n",
              "    </tr>\n",
              "    <tr>\n",
              "      <th>max</th>\n",
              "      <td>7.900</td>\n",
              "      <td>4.400</td>\n",
              "      <td>6.900</td>\n",
              "      <td>2.500</td>\n",
              "    </tr>\n",
              "  </tbody>\n",
              "</table>\n",
              "</div>"
            ],
            "text/plain": [
              "       sepal length  sepal width  petal length  petal width\n",
              "count       150.000      150.000       150.000      150.000\n",
              "mean          5.843        3.054         3.759        1.199\n",
              "std           0.828        0.434         1.764        0.763\n",
              "min           4.300        2.000         1.000        0.100\n",
              "25%           5.100        2.800         1.600        0.300\n",
              "50%           5.800        3.000         4.350        1.300\n",
              "75%           6.400        3.300         5.100        1.800\n",
              "max           7.900        4.400         6.900        2.500"
            ]
          },
          "metadata": {
            "tags": []
          },
          "execution_count": 110
        }
      ]
    },
    {
      "cell_type": "code",
      "metadata": {
        "id": "_wfncV_flMIr",
        "colab_type": "code",
        "outputId": "df2c4ee5-e1a4-416f-ab7f-23a6c548ed5e",
        "colab": {
          "base_uri": "https://localhost:8080/",
          "height": 738
        }
      },
      "source": [
        "sns.pairplot(data, hue='species')"
      ],
      "execution_count": 111,
      "outputs": [
        {
          "output_type": "execute_result",
          "data": {
            "text/plain": [
              "<seaborn.axisgrid.PairGrid at 0x7fdf1e5dd588>"
            ]
          },
          "metadata": {
            "tags": []
          },
          "execution_count": 111
        },
        {
          "output_type": "display_data",
          "data": {
            "image/png": "[encoded data removed]",
            "text/plain": [
              "<Figure size 834.6x720 with 20 Axes>"
            ]
          },
          "metadata": {
            "tags": []
          }
        }
      ]
    },
    {
      "cell_type": "code",
      "metadata": {
        "id": "qzcxNkhplZ38",
        "colab_type": "code",
        "outputId": "dc35c00f-5256-42c0-ae65-ee471beff583",
        "colab": {
          "base_uri": "https://localhost:8080/",
          "height": 560
        }
      },
      "source": [
        "sns.heatmap(data.corr())"
      ],
      "execution_count": 112,
      "outputs": [
        {
          "output_type": "execute_result",
          "data": {
            "text/plain": [
              "<matplotlib.axes._subplots.AxesSubplot at 0x7fdf1df735f8>"
            ]
          },
          "metadata": {
            "tags": []
          },
          "execution_count": 112
        },
        {
          "output_type": "display_data",
          "data": {
            "image/png": "[encoded data removed]",
            "text/plain": [
              "<Figure size 842.4x595.44 with 2 Axes>"
            ]
          },
          "metadata": {
            "tags": []
          }
        }
      ]
    },
    {
      "cell_type": "markdown",
      "metadata": {
        "id": "aaYEBIkKoq_Z",
        "colab_type": "text"
      },
      "source": [
        "### Preprocessing"
      ]
    },
    {
      "cell_type": "code",
      "metadata": {
        "id": "9vFTAjl4ov87",
        "colab_type": "code",
        "colab": {}
      },
      "source": [
        "# Import \n",
        "from sklearn.decomposition import PCA # For PCA\n",
        "from sklearn.preprocessing import StandardScaler # For feature scaling"
      ],
      "execution_count": 0,
      "outputs": []
    },
    {
      "cell_type": "code",
      "metadata": {
        "id": "QMVzy6KetNQo",
        "colab_type": "code",
        "colab": {}
      },
      "source": [
        "data.set_index('species',inplace=True)"
      ],
      "execution_count": 0,
      "outputs": []
    },
    {
      "cell_type": "code",
      "metadata": {
        "id": "5nMbOHt-tbwf",
        "colab_type": "code",
        "colab": {}
      },
      "source": [
        "# Let's standard-scale our data\n",
        "scaler = StandardScaler()\n",
        "data_scaled = scaler.fit_transform(data)"
      ],
      "execution_count": 0,
      "outputs": []
    },
    {
      "cell_type": "code",
      "metadata": {
        "id": "qZV52DQWtr6_",
        "colab_type": "code",
        "outputId": "adab5846-bdba-4236-9043-90778b6dfd66",
        "colab": {
          "base_uri": "https://localhost:8080/",
          "height": 293
        }
      },
      "source": [
        "pd.DataFrame(data_scaled, columns=data.columns).describe()"
      ],
      "execution_count": 116,
      "outputs": [
        {
          "output_type": "execute_result",
          "data": {
            "text/html": [
              "<div>\n",
              "<style scoped>\n",
              "    .dataframe tbody tr th:only-of-type {\n",
              "        vertical-align: middle;\n",
              "    }\n",
              "\n",
              "    .dataframe tbody tr th {\n",
              "        vertical-align: top;\n",
              "    }\n",
              "\n",
              "    .dataframe thead th {\n",
              "        text-align: right;\n",
              "    }\n",
              "</style>\n",
              "<table border=\"1\" class=\"dataframe\">\n",
              "  <thead>\n",
              "    <tr style=\"text-align: right;\">\n",
              "      <th></th>\n",
              "      <th>sepal length</th>\n",
              "      <th>sepal width</th>\n",
              "      <th>petal length</th>\n",
              "      <th>petal width</th>\n",
              "    </tr>\n",
              "  </thead>\n",
              "  <tbody>\n",
              "    <tr>\n",
              "      <th>count</th>\n",
              "      <td>150.000</td>\n",
              "      <td>150.000</td>\n",
              "      <td>150.000</td>\n",
              "      <td>150.000</td>\n",
              "    </tr>\n",
              "    <tr>\n",
              "      <th>mean</th>\n",
              "      <td>-0.000</td>\n",
              "      <td>-0.000</td>\n",
              "      <td>0.000</td>\n",
              "      <td>0.000</td>\n",
              "    </tr>\n",
              "    <tr>\n",
              "      <th>std</th>\n",
              "      <td>1.003</td>\n",
              "      <td>1.003</td>\n",
              "      <td>1.003</td>\n",
              "      <td>1.003</td>\n",
              "    </tr>\n",
              "    <tr>\n",
              "      <th>min</th>\n",
              "      <td>-1.870</td>\n",
              "      <td>-2.439</td>\n",
              "      <td>-1.569</td>\n",
              "      <td>-1.444</td>\n",
              "    </tr>\n",
              "    <tr>\n",
              "      <th>25%</th>\n",
              "      <td>-0.901</td>\n",
              "      <td>-0.588</td>\n",
              "      <td>-1.228</td>\n",
              "      <td>-1.182</td>\n",
              "    </tr>\n",
              "    <tr>\n",
              "      <th>50%</th>\n",
              "      <td>-0.053</td>\n",
              "      <td>-0.125</td>\n",
              "      <td>0.336</td>\n",
              "      <td>0.133</td>\n",
              "    </tr>\n",
              "    <tr>\n",
              "      <th>75%</th>\n",
              "      <td>0.675</td>\n",
              "      <td>0.569</td>\n",
              "      <td>0.763</td>\n",
              "      <td>0.791</td>\n",
              "    </tr>\n",
              "    <tr>\n",
              "      <th>max</th>\n",
              "      <td>2.492</td>\n",
              "      <td>3.115</td>\n",
              "      <td>1.786</td>\n",
              "      <td>1.711</td>\n",
              "    </tr>\n",
              "  </tbody>\n",
              "</table>\n",
              "</div>"
            ],
            "text/plain": [
              "       sepal length  sepal width  petal length  petal width\n",
              "count       150.000      150.000       150.000      150.000\n",
              "mean         -0.000       -0.000         0.000        0.000\n",
              "std           1.003        1.003         1.003        1.003\n",
              "min          -1.870       -2.439        -1.569       -1.444\n",
              "25%          -0.901       -0.588        -1.228       -1.182\n",
              "50%          -0.053       -0.125         0.336        0.133\n",
              "75%           0.675        0.569         0.763        0.791\n",
              "max           2.492        3.115         1.786        1.711"
            ]
          },
          "metadata": {
            "tags": []
          },
          "execution_count": 116
        }
      ]
    },
    {
      "cell_type": "markdown",
      "metadata": {
        "id": "r3hWdjmuowWp",
        "colab_type": "text"
      },
      "source": [
        "### Executingh PCA"
      ]
    },
    {
      "cell_type": "code",
      "metadata": {
        "id": "PYTwiVcCqVRA",
        "colab_type": "code",
        "colab": {}
      },
      "source": [
        "# Instantiate a PCA object\n",
        "model = PCA() # Number of components needs to be defined. We just for illustration take about half of the numbers of features"
      ],
      "execution_count": 0,
      "outputs": []
    },
    {
      "cell_type": "code",
      "metadata": {
        "id": "LMvoRY26u8TS",
        "colab_type": "code",
        "outputId": "07e8af24-4bff-4ff5-d7f8-ce974d6ba174",
        "colab": {
          "base_uri": "https://localhost:8080/",
          "height": 50
        }
      },
      "source": [
        "# Fitr the model\n",
        "model.fit(data_scaled)"
      ],
      "execution_count": 118,
      "outputs": [
        {
          "output_type": "execute_result",
          "data": {
            "text/plain": [
              "PCA(copy=True, iterated_power='auto', n_components=None, random_state=None,\n",
              "    svd_solver='auto', tol=0.0, whiten=False)"
            ]
          },
          "metadata": {
            "tags": []
          },
          "execution_count": 118
        }
      ]
    },
    {
      "cell_type": "code",
      "metadata": {
        "id": "KSjJ2ngsuM-y",
        "colab_type": "code",
        "colab": {}
      },
      "source": [
        "# Fit and transform the data\n",
        "data_reduced = model.transform(data_scaled)"
      ],
      "execution_count": 0,
      "outputs": []
    },
    {
      "cell_type": "markdown",
      "metadata": {
        "id": "HIMTDC4nqVwV",
        "colab_type": "text"
      },
      "source": [
        "### Inspecting Results"
      ]
    },
    {
      "cell_type": "code",
      "metadata": {
        "id": "YD2CNpI6vCwc",
        "colab_type": "code",
        "outputId": "ca92542d-957e-4c15-a500-1bec0850e784",
        "colab": {
          "base_uri": "https://localhost:8080/",
          "height": 610
        }
      },
      "source": [
        "plot_data = pd.DataFrame({'evr': model.explained_variance_ratio_, 'cumsum_evr': np.cumsum(model.explained_variance_ratio_)}).stack()\n",
        "sns.set(rc={'figure.figsize':(15,10)})\n",
        "sns.lineplot(y = plot_data.values, x = plot_data.index.get_level_values(0), hue=plot_data.index.get_level_values(1))"
      ],
      "execution_count": 120,
      "outputs": [
        {
          "output_type": "execute_result",
          "data": {
            "text/plain": [
              "<matplotlib.axes._subplots.AxesSubplot at 0x7fdf1dee29b0>"
            ]
          },
          "metadata": {
            "tags": []
          },
          "execution_count": 120
        },
        {
          "output_type": "display_data",
          "data": {
            "image/png": "[encoded data removed]",
            "text/plain": [
              "<Figure size 1080x720 with 1 Axes>"
            ]
          },
          "metadata": {
            "tags": []
          }
        }
      ]
    },
    {
      "cell_type": "code",
      "metadata": {
        "id": "Fat1kiwSY7hW",
        "colab_type": "code",
        "outputId": "62fbec17-dbfc-477c-9eb2-6957c5633cda",
        "colab": {
          "base_uri": "https://localhost:8080/",
          "height": 594
        }
      },
      "source": [
        "# Scatter plot of the first 2 componentws\n",
        "sns.scatterplot(x = data_reduced[:,0], y = data_reduced[:,1])\n",
        "plt.axis('equal')\n",
        "plt.show()"
      ],
      "execution_count": 121,
      "outputs": [
        {
          "output_type": "display_data",
          "data": {
            "image/png": "[encoded data removed]",
            "text/plain": [
              "<Figure size 1080x720 with 1 Axes>"
            ]
          },
          "metadata": {
            "tags": []
          }
        }
      ]
    },
    {
      "cell_type": "code",
      "metadata": {
        "id": "pTuHGkasZ_DN",
        "colab_type": "code",
        "outputId": "46d759db-8d0e-4efa-9ac8-1787d1a059b8",
        "colab": {
          "base_uri": "https://localhost:8080/",
          "height": 615
        }
      },
      "source": [
        "sns.heatmap(pd.DataFrame(data_reduced).corr())"
      ],
      "execution_count": 122,
      "outputs": [
        {
          "output_type": "execute_result",
          "data": {
            "text/plain": [
              "<matplotlib.axes._subplots.AxesSubplot at 0x7fdf1ddc1ac8>"
            ]
          },
          "metadata": {
            "tags": []
          },
          "execution_count": 122
        },
        {
          "output_type": "display_data",
          "data": {
            "image/png": "[encoded data removed]",
            "text/plain": [
              "<Figure size 1080x720 with 2 Axes>"
            ]
          },
          "metadata": {
            "tags": []
          }
        }
      ]
    },
    {
      "cell_type": "code",
      "metadata": {
        "id": "s3YTJsLtw6wE",
        "colab_type": "code",
        "colab": {}
      },
      "source": [
        "# Get the mean of the grain samples: mean\n",
        "mean = model.mean_\n",
        "\n",
        "# Get the first principal component: first_pc\n",
        "first_pc = model.components_[0,:]\n",
        "second_pc = model.components_[1,:]"
      ],
      "execution_count": 0,
      "outputs": []
    },
    {
      "cell_type": "code",
      "metadata": {
        "id": "CGJ2ceRO5t-D",
        "colab_type": "code",
        "outputId": "42966d4d-0a93-41ed-925f-a3445e9e2dba",
        "colab": {
          "base_uri": "https://localhost:8080/",
          "height": 594
        }
      },
      "source": [
        "# Make a scatter plot of the untransformed points\n",
        "plt.scatter(data_scaled[:,0], data_scaled[:,1])\n",
        "\n",
        "# Plot first_pc as an arrow, starting at mean\n",
        "plt.arrow(mean[0], mean[1], first_pc[0], first_pc[1], color='red', width=0.01)\n",
        "plt.arrow(mean[0], mean[1], second_pc[0], second_pc[1], color='green', width=0.01)\n",
        "\n",
        "# Keep axes on same scale\n",
        "plt.axis('equal')\n",
        "plt.show()"
      ],
      "execution_count": 124,
      "outputs": [
        {
          "output_type": "display_data",
          "data": {
            "image/png": "[encoded data removed]",
            "text/plain": [
              "<Figure size 1080x720 with 1 Axes>"
            ]
          },
          "metadata": {
            "tags": []
          }
        }
      ]
    },
    {
      "cell_type": "code",
      "metadata": {
        "id": "xXivq39d7Lmq",
        "colab_type": "code",
        "outputId": "9ed98a32-4374-4633-fcce-d2cd2b53f706",
        "colab": {
          "base_uri": "https://localhost:8080/",
          "height": 594
        }
      },
      "source": [
        "# Make a scatter plot of the untransformed points\n",
        "plt.scatter(data_scaled[:,2], data_scaled[:,3])\n",
        "\n",
        "# Plot first_pc as an arrow, starting at mean\n",
        "plt.arrow(mean[0], mean[1], first_pc[2], first_pc[3], color='red', width=0.01)\n",
        "plt.arrow(mean[0], mean[1], second_pc[2], second_pc[3], color='green', width=0.01)\n",
        "\n",
        "# Keep axes on same scale\n",
        "plt.axis('equal')\n",
        "plt.show()"
      ],
      "execution_count": 125,
      "outputs": [
        {
          "output_type": "display_data",
          "data": {
            "image/png": "[encoded data removed]",
            "text/plain": [
              "<Figure size 1080x720 with 1 Axes>"
            ]
          },
          "metadata": {
            "tags": []
          }
        }
      ]
    },
    {
      "cell_type": "code",
      "metadata": {
        "id": "HpmBQnmJv2Cy",
        "colab_type": "code",
        "colab": {}
      },
      "source": [
        "pcscores = pd.DataFrame(data_reduced)\n",
        "loadings = pd.DataFrame(model.components_, columns=data.columns)\n",
        "loadings.index = ['PC'+str(i+1) for i in range(len(pcscores.columns))]"
      ],
      "execution_count": 0,
      "outputs": []
    },
    {
      "cell_type": "code",
      "metadata": {
        "id": "sUtgcQFbwQIx",
        "colab_type": "code",
        "outputId": "5f7554d0-e003-47b0-c544-2a1202c56c04",
        "colab": {
          "base_uri": "https://localhost:8080/",
          "height": 600
        }
      },
      "source": [
        "ax = sns.heatmap(loadings.transpose(), center=0, linewidths=0.5, \n",
        "                 cmap=\"bone\", vmin=-1, vmax=1, annot=True)"
      ],
      "execution_count": 127,
      "outputs": [
        {
          "output_type": "display_data",
          "data": {
            "image/png": "[encoded data removed]",
            "text/plain": [
              "<Figure size 1080x720 with 2 Axes>"
            ]
          },
          "metadata": {
            "tags": []
          }
        }
      ]
    },
    {
      "cell_type": "markdown",
      "metadata": {
        "id": "ln3VKjFqi2aN",
        "colab_type": "text"
      },
      "source": [
        "# Case study"
      ]
    },
    {
      "cell_type": "markdown",
      "metadata": {
        "id": "60L3komj0aWQ",
        "colab_type": "text"
      },
      "source": [
        "## Introduction to the caese\n",
        "The data used in this tutorial is taken with permission form https://nomadlist.com/"
      ]
    },
    {
      "cell_type": "markdown",
      "metadata": {
        "id": "Z7mnuGbn0dxV",
        "colab_type": "text"
      },
      "source": [
        "## Loading data "
      ]
    },
    {
      "cell_type": "code",
      "metadata": {
        "id": "RSpJ0irR0TYh",
        "colab_type": "code",
        "colab": {}
      },
      "source": [
        "# We open the data directly from Github\n",
        "cities = pd.read_csv('https://github.com/SDS-AAU/M1-2019/raw/master/data/nomad_cities.csv', sep='\\t')"
      ],
      "execution_count": 0,
      "outputs": []
    },
    {
      "cell_type": "code",
      "metadata": {
        "id": "Gum9OBtk0xYN",
        "colab_type": "code",
        "outputId": "661bf07b-a1e5-4e1a-b81e-73a3f42cd955",
        "colab": {
          "base_uri": "https://localhost:8080/",
          "height": 253
        }
      },
      "source": [
        "cities.info"
      ],
      "execution_count": 129,
      "outputs": [
        {
          "output_type": "execute_result",
          "data": {
            "text/plain": [
              "<bound method DataFrame.info of      Unnamed: 0  coffee_in_cafe  cost_beer  ...  racism  safety  weed\n",
              "0             0           1.730      1.730  ...   0.400   0.600     0\n",
              "1             1           0.850      0.850  ...   0.400   0.800     0\n",
              "2             2           1.990      1.990  ...   0.420   0.800     1\n",
              "3             3           1.880      1.880  ...   0.000   1.000     0\n",
              "4             4           5.000      5.000  ...   0.800   0.730     0\n",
              "..          ...             ...        ...  ...     ...     ...   ...\n",
              "776         776           4.000      4.000  ...   0.200   0.200     0\n",
              "777         777           2.000      2.000  ...   0.600   0.200     0\n",
              "778         778           1.600      1.600  ...   0.400   0.200     1\n",
              "779         779           5.000      5.000  ...   0.000   0.200     0\n",
              "780         780           0.000      0.000  ...   0.200   0.200     0\n",
              "\n",
              "[781 rows x 27 columns]>"
            ]
          },
          "metadata": {
            "tags": []
          },
          "execution_count": 129
        }
      ]
    },
    {
      "cell_type": "code",
      "metadata": {
        "id": "AHqR0NA604Qz",
        "colab_type": "code",
        "outputId": "bed27e38-a23d-4a12-e6a5-4d76d2c4fa96",
        "colab": {
          "base_uri": "https://localhost:8080/",
          "height": 255
        }
      },
      "source": [
        "cities.head()"
      ],
      "execution_count": 130,
      "outputs": [
        {
          "output_type": "execute_result",
          "data": {
            "text/html": [
              "<div>\n",
              "<style scoped>\n",
              "    .dataframe tbody tr th:only-of-type {\n",
              "        vertical-align: middle;\n",
              "    }\n",
              "\n",
              "    .dataframe tbody tr th {\n",
              "        vertical-align: top;\n",
              "    }\n",
              "\n",
              "    .dataframe thead th {\n",
              "        text-align: right;\n",
              "    }\n",
              "</style>\n",
              "<table border=\"1\" class=\"dataframe\">\n",
              "  <thead>\n",
              "    <tr style=\"text-align: right;\">\n",
              "      <th></th>\n",
              "      <th>Unnamed: 0</th>\n",
              "      <th>coffee_in_cafe</th>\n",
              "      <th>cost_beer</th>\n",
              "      <th>cost_coworking</th>\n",
              "      <th>cost_expat</th>\n",
              "      <th>cost_nomad</th>\n",
              "      <th>female_friendly</th>\n",
              "      <th>fragile_states_index</th>\n",
              "      <th>free_wifi_available</th>\n",
              "      <th>freedom_score</th>\n",
              "      <th>friendly_to_foreigners</th>\n",
              "      <th>internet_speed</th>\n",
              "      <th>latitude</th>\n",
              "      <th>leisure</th>\n",
              "      <th>lgbt_friendly</th>\n",
              "      <th>life_score</th>\n",
              "      <th>longitude</th>\n",
              "      <th>nightlife</th>\n",
              "      <th>nomadScore</th>\n",
              "      <th>nomad_score</th>\n",
              "      <th>peace_score</th>\n",
              "      <th>place</th>\n",
              "      <th>places_to_work</th>\n",
              "      <th>press_freedom_index</th>\n",
              "      <th>racism</th>\n",
              "      <th>safety</th>\n",
              "      <th>weed</th>\n",
              "    </tr>\n",
              "  </thead>\n",
              "  <tbody>\n",
              "    <tr>\n",
              "      <th>0</th>\n",
              "      <td>0</td>\n",
              "      <td>1.730</td>\n",
              "      <td>1.730</td>\n",
              "      <td>152.410</td>\n",
              "      <td>1273</td>\n",
              "      <td>1364</td>\n",
              "      <td>1.000</td>\n",
              "      <td>52.7</td>\n",
              "      <td>0.400</td>\n",
              "      <td>0.6</td>\n",
              "      <td>0.600</td>\n",
              "      <td>31</td>\n",
              "      <td>47.498</td>\n",
              "      <td>0.800</td>\n",
              "      <td>0.270</td>\n",
              "      <td>0.860</td>\n",
              "      <td>19.040</td>\n",
              "      <td>1.000</td>\n",
              "      <td>1.000</td>\n",
              "      <td>1.000</td>\n",
              "      <td>0.8</td>\n",
              "      <td>Budapest</td>\n",
              "      <td>1.000</td>\n",
              "      <td>28.17</td>\n",
              "      <td>0.400</td>\n",
              "      <td>0.600</td>\n",
              "      <td>0</td>\n",
              "    </tr>\n",
              "    <tr>\n",
              "      <th>1</th>\n",
              "      <td>1</td>\n",
              "      <td>0.850</td>\n",
              "      <td>0.850</td>\n",
              "      <td>98.880</td>\n",
              "      <td>780</td>\n",
              "      <td>777</td>\n",
              "      <td>0.800</td>\n",
              "      <td>78.8</td>\n",
              "      <td>0.600</td>\n",
              "      <td>0.2</td>\n",
              "      <td>0.600</td>\n",
              "      <td>14</td>\n",
              "      <td>18.788</td>\n",
              "      <td>0.620</td>\n",
              "      <td>0.600</td>\n",
              "      <td>0.750</td>\n",
              "      <td>98.993</td>\n",
              "      <td>0.400</td>\n",
              "      <td>0.950</td>\n",
              "      <td>0.950</td>\n",
              "      <td>0.4</td>\n",
              "      <td>Chiang Mai</td>\n",
              "      <td>0.800</td>\n",
              "      <td>44.53</td>\n",
              "      <td>0.400</td>\n",
              "      <td>0.800</td>\n",
              "      <td>0</td>\n",
              "    </tr>\n",
              "    <tr>\n",
              "      <th>2</th>\n",
              "      <td>2</td>\n",
              "      <td>1.990</td>\n",
              "      <td>1.990</td>\n",
              "      <td>159.130</td>\n",
              "      <td>1653</td>\n",
              "      <td>1639</td>\n",
              "      <td>1.000</td>\n",
              "      <td>40.8</td>\n",
              "      <td>0.600</td>\n",
              "      <td>0.8</td>\n",
              "      <td>0.800</td>\n",
              "      <td>15</td>\n",
              "      <td>50.076</td>\n",
              "      <td>1.000</td>\n",
              "      <td>0.600</td>\n",
              "      <td>0.830</td>\n",
              "      <td>14.438</td>\n",
              "      <td>1.000</td>\n",
              "      <td>0.940</td>\n",
              "      <td>0.940</td>\n",
              "      <td>0.8</td>\n",
              "      <td>Prague</td>\n",
              "      <td>1.000</td>\n",
              "      <td>16.66</td>\n",
              "      <td>0.420</td>\n",
              "      <td>0.800</td>\n",
              "      <td>1</td>\n",
              "    </tr>\n",
              "    <tr>\n",
              "      <th>3</th>\n",
              "      <td>3</td>\n",
              "      <td>1.880</td>\n",
              "      <td>1.880</td>\n",
              "      <td>47.010</td>\n",
              "      <td>1640</td>\n",
              "      <td>1545</td>\n",
              "      <td>1.000</td>\n",
              "      <td>DotMap(__next__=DotMap())</td>\n",
              "      <td>1.000</td>\n",
              "      <td>0.6</td>\n",
              "      <td>0.800</td>\n",
              "      <td>16</td>\n",
              "      <td>25.091</td>\n",
              "      <td>1.000</td>\n",
              "      <td>0.800</td>\n",
              "      <td>0.930</td>\n",
              "      <td>121.560</td>\n",
              "      <td>0.600</td>\n",
              "      <td>0.940</td>\n",
              "      <td>0.940</td>\n",
              "      <td>DotMap(__next__=DotMap())</td>\n",
              "      <td>Taipei</td>\n",
              "      <td>1.000</td>\n",
              "      <td>24.37</td>\n",
              "      <td>0.000</td>\n",
              "      <td>1.000</td>\n",
              "      <td>0</td>\n",
              "    </tr>\n",
              "    <tr>\n",
              "      <th>4</th>\n",
              "      <td>4</td>\n",
              "      <td>5.000</td>\n",
              "      <td>5.000</td>\n",
              "      <td>200.000</td>\n",
              "      <td>3309</td>\n",
              "      <td>3028</td>\n",
              "      <td>0.800</td>\n",
              "      <td>34</td>\n",
              "      <td>0.600</td>\n",
              "      <td>0.6</td>\n",
              "      <td>0.800</td>\n",
              "      <td>118</td>\n",
              "      <td>30.267</td>\n",
              "      <td>1.000</td>\n",
              "      <td>0.600</td>\n",
              "      <td>0.950</td>\n",
              "      <td>-97.743</td>\n",
              "      <td>1.000</td>\n",
              "      <td>0.940</td>\n",
              "      <td>0.940</td>\n",
              "      <td>0.8</td>\n",
              "      <td>Austin</td>\n",
              "      <td>1.000</td>\n",
              "      <td>22.49</td>\n",
              "      <td>0.800</td>\n",
              "      <td>0.730</td>\n",
              "      <td>0</td>\n",
              "    </tr>\n",
              "  </tbody>\n",
              "</table>\n",
              "</div>"
            ],
            "text/plain": [
              "   Unnamed: 0  coffee_in_cafe  cost_beer  ...  racism  safety  weed\n",
              "0           0           1.730      1.730  ...   0.400   0.600     0\n",
              "1           1           0.850      0.850  ...   0.400   0.800     0\n",
              "2           2           1.990      1.990  ...   0.420   0.800     1\n",
              "3           3           1.880      1.880  ...   0.000   1.000     0\n",
              "4           4           5.000      5.000  ...   0.800   0.730     0\n",
              "\n",
              "[5 rows x 27 columns]"
            ]
          },
          "metadata": {
            "tags": []
          },
          "execution_count": 130
        }
      ]
    },
    {
      "cell_type": "code",
      "metadata": {
        "id": "U5sYzB9X09SB",
        "colab_type": "code",
        "outputId": "636f28b0-fb80-4627-c232-a43bcc17fda5",
        "colab": {
          "base_uri": "https://localhost:8080/",
          "height": 330
        }
      },
      "source": [
        "cities.describe()"
      ],
      "execution_count": 131,
      "outputs": [
        {
          "output_type": "execute_result",
          "data": {
            "text/html": [
              "<div>\n",
              "<style scoped>\n",
              "    .dataframe tbody tr th:only-of-type {\n",
              "        vertical-align: middle;\n",
              "    }\n",
              "\n",
              "    .dataframe tbody tr th {\n",
              "        vertical-align: top;\n",
              "    }\n",
              "\n",
              "    .dataframe thead th {\n",
              "        text-align: right;\n",
              "    }\n",
              "</style>\n",
              "<table border=\"1\" class=\"dataframe\">\n",
              "  <thead>\n",
              "    <tr style=\"text-align: right;\">\n",
              "      <th></th>\n",
              "      <th>Unnamed: 0</th>\n",
              "      <th>coffee_in_cafe</th>\n",
              "      <th>cost_beer</th>\n",
              "      <th>cost_coworking</th>\n",
              "      <th>cost_expat</th>\n",
              "      <th>cost_nomad</th>\n",
              "      <th>female_friendly</th>\n",
              "      <th>free_wifi_available</th>\n",
              "      <th>friendly_to_foreigners</th>\n",
              "      <th>internet_speed</th>\n",
              "      <th>latitude</th>\n",
              "      <th>leisure</th>\n",
              "      <th>lgbt_friendly</th>\n",
              "      <th>life_score</th>\n",
              "      <th>longitude</th>\n",
              "      <th>nightlife</th>\n",
              "      <th>nomadScore</th>\n",
              "      <th>nomad_score</th>\n",
              "      <th>places_to_work</th>\n",
              "      <th>racism</th>\n",
              "      <th>safety</th>\n",
              "      <th>weed</th>\n",
              "    </tr>\n",
              "  </thead>\n",
              "  <tbody>\n",
              "    <tr>\n",
              "      <th>count</th>\n",
              "      <td>781.000</td>\n",
              "      <td>781.000</td>\n",
              "      <td>781.000</td>\n",
              "      <td>781.000</td>\n",
              "      <td>781.000</td>\n",
              "      <td>781.000</td>\n",
              "      <td>781.000</td>\n",
              "      <td>781.000</td>\n",
              "      <td>781.000</td>\n",
              "      <td>781.000</td>\n",
              "      <td>781.000</td>\n",
              "      <td>781.000</td>\n",
              "      <td>781.000</td>\n",
              "      <td>781.000</td>\n",
              "      <td>781.000</td>\n",
              "      <td>781.000</td>\n",
              "      <td>781.000</td>\n",
              "      <td>781.000</td>\n",
              "      <td>781.000</td>\n",
              "      <td>781.000</td>\n",
              "      <td>781.000</td>\n",
              "      <td>781.000</td>\n",
              "    </tr>\n",
              "    <tr>\n",
              "      <th>mean</th>\n",
              "      <td>390.000</td>\n",
              "      <td>3.296</td>\n",
              "      <td>3.296</td>\n",
              "      <td>210.360</td>\n",
              "      <td>1880.431</td>\n",
              "      <td>2332.348</td>\n",
              "      <td>0.645</td>\n",
              "      <td>0.561</td>\n",
              "      <td>0.737</td>\n",
              "      <td>13.589</td>\n",
              "      <td>29.521</td>\n",
              "      <td>0.631</td>\n",
              "      <td>0.545</td>\n",
              "      <td>0.700</td>\n",
              "      <td>14.851</td>\n",
              "      <td>0.605</td>\n",
              "      <td>0.649</td>\n",
              "      <td>0.649</td>\n",
              "      <td>0.571</td>\n",
              "      <td>23280176929344430622638080.000</td>\n",
              "      <td>0.678</td>\n",
              "      <td>0.117</td>\n",
              "    </tr>\n",
              "    <tr>\n",
              "      <th>std</th>\n",
              "      <td>225.600</td>\n",
              "      <td>1.982</td>\n",
              "      <td>1.982</td>\n",
              "      <td>173.979</td>\n",
              "      <td>1265.411</td>\n",
              "      <td>1117.532</td>\n",
              "      <td>0.247</td>\n",
              "      <td>0.240</td>\n",
              "      <td>0.184</td>\n",
              "      <td>18.199</td>\n",
              "      <td>22.174</td>\n",
              "      <td>0.201</td>\n",
              "      <td>0.244</td>\n",
              "      <td>0.148</td>\n",
              "      <td>77.089</td>\n",
              "      <td>0.234</td>\n",
              "      <td>0.135</td>\n",
              "      <td>0.135</td>\n",
              "      <td>0.220</td>\n",
              "      <td>650596606331366367658246144.000</td>\n",
              "      <td>0.210</td>\n",
              "      <td>0.321</td>\n",
              "    </tr>\n",
              "    <tr>\n",
              "      <th>min</th>\n",
              "      <td>0.000</td>\n",
              "      <td>0.000</td>\n",
              "      <td>0.000</td>\n",
              "      <td>0.010</td>\n",
              "      <td>296.000</td>\n",
              "      <td>387.000</td>\n",
              "      <td>0.000</td>\n",
              "      <td>0.000</td>\n",
              "      <td>0.000</td>\n",
              "      <td>0.000</td>\n",
              "      <td>-45.879</td>\n",
              "      <td>0.000</td>\n",
              "      <td>0.180</td>\n",
              "      <td>0.010</td>\n",
              "      <td>-157.858</td>\n",
              "      <td>0.000</td>\n",
              "      <td>0.000</td>\n",
              "      <td>0.000</td>\n",
              "      <td>0.000</td>\n",
              "      <td>0.000</td>\n",
              "      <td>0.000</td>\n",
              "      <td>0.000</td>\n",
              "    </tr>\n",
              "    <tr>\n",
              "      <th>25%</th>\n",
              "      <td>195.000</td>\n",
              "      <td>1.600</td>\n",
              "      <td>1.600</td>\n",
              "      <td>88.960</td>\n",
              "      <td>1010.000</td>\n",
              "      <td>1486.000</td>\n",
              "      <td>0.440</td>\n",
              "      <td>0.400</td>\n",
              "      <td>0.600</td>\n",
              "      <td>2.000</td>\n",
              "      <td>19.991</td>\n",
              "      <td>0.450</td>\n",
              "      <td>0.400</td>\n",
              "      <td>0.620</td>\n",
              "      <td>-63.000</td>\n",
              "      <td>0.400</td>\n",
              "      <td>0.550</td>\n",
              "      <td>0.550</td>\n",
              "      <td>0.400</td>\n",
              "      <td>0.400</td>\n",
              "      <td>0.600</td>\n",
              "      <td>0.000</td>\n",
              "    </tr>\n",
              "    <tr>\n",
              "      <th>50%</th>\n",
              "      <td>390.000</td>\n",
              "      <td>3.030</td>\n",
              "      <td>3.030</td>\n",
              "      <td>172.050</td>\n",
              "      <td>1646.000</td>\n",
              "      <td>2209.000</td>\n",
              "      <td>0.600</td>\n",
              "      <td>0.600</td>\n",
              "      <td>0.800</td>\n",
              "      <td>6.000</td>\n",
              "      <td>35.514</td>\n",
              "      <td>0.600</td>\n",
              "      <td>0.600</td>\n",
              "      <td>0.720</td>\n",
              "      <td>14.791</td>\n",
              "      <td>0.600</td>\n",
              "      <td>0.680</td>\n",
              "      <td>0.680</td>\n",
              "      <td>0.400</td>\n",
              "      <td>0.600</td>\n",
              "      <td>0.600</td>\n",
              "      <td>0.000</td>\n",
              "    </tr>\n",
              "    <tr>\n",
              "      <th>75%</th>\n",
              "      <td>585.000</td>\n",
              "      <td>4.620</td>\n",
              "      <td>4.620</td>\n",
              "      <td>277.350</td>\n",
              "      <td>2408.000</td>\n",
              "      <td>3056.000</td>\n",
              "      <td>0.800</td>\n",
              "      <td>0.800</td>\n",
              "      <td>0.800</td>\n",
              "      <td>19.000</td>\n",
              "      <td>44.933</td>\n",
              "      <td>0.800</td>\n",
              "      <td>0.800</td>\n",
              "      <td>0.810</td>\n",
              "      <td>77.595</td>\n",
              "      <td>0.800</td>\n",
              "      <td>0.740</td>\n",
              "      <td>0.740</td>\n",
              "      <td>0.800</td>\n",
              "      <td>0.800</td>\n",
              "      <td>0.800</td>\n",
              "      <td>0.000</td>\n",
              "    </tr>\n",
              "    <tr>\n",
              "      <th>max</th>\n",
              "      <td>780.000</td>\n",
              "      <td>13.720</td>\n",
              "      <td>13.720</td>\n",
              "      <td>1524.460</td>\n",
              "      <td>13406.000</td>\n",
              "      <td>10121.000</td>\n",
              "      <td>1.000</td>\n",
              "      <td>1.000</td>\n",
              "      <td>1.000</td>\n",
              "      <td>197.000</td>\n",
              "      <td>69.649</td>\n",
              "      <td>1.000</td>\n",
              "      <td>1.000</td>\n",
              "      <td>1.000</td>\n",
              "      <td>174.776</td>\n",
              "      <td>1.000</td>\n",
              "      <td>1.000</td>\n",
              "      <td>1.000</td>\n",
              "      <td>1.000</td>\n",
              "      <td>18181818181818001939777978368.000</td>\n",
              "      <td>1.000</td>\n",
              "      <td>1.000</td>\n",
              "    </tr>\n",
              "  </tbody>\n",
              "</table>\n",
              "</div>"
            ],
            "text/plain": [
              "       Unnamed: 0  coffee_in_cafe  ...  safety    weed\n",
              "count     781.000         781.000  ... 781.000 781.000\n",
              "mean      390.000           3.296  ...   0.678   0.117\n",
              "std       225.600           1.982  ...   0.210   0.321\n",
              "min         0.000           0.000  ...   0.000   0.000\n",
              "25%       195.000           1.600  ...   0.600   0.000\n",
              "50%       390.000           3.030  ...   0.600   0.000\n",
              "75%       585.000           4.620  ...   0.800   0.000\n",
              "max       780.000          13.720  ...   1.000   1.000\n",
              "\n",
              "[8 rows x 22 columns]"
            ]
          },
          "metadata": {
            "tags": []
          },
          "execution_count": 131
        }
      ]
    },
    {
      "cell_type": "markdown",
      "metadata": {
        "id": "LQJzgyZ99HoR",
        "colab_type": "text"
      },
      "source": [
        "## Preprocessing"
      ]
    },
    {
      "cell_type": "markdown",
      "metadata": {
        "id": "rXs3ihgE1ars",
        "colab_type": "text"
      },
      "source": [
        "For some reason (data is messy) we have the name of the city as well as longitude/langitude but we don't have the country or region names.\n",
        "Let's try to fix that.\n",
        "\n",
        "One approach could be based on the lon/lat values, as city names may non-unique.\n",
        "\n",
        "For this we need to start by \"looking up\" the country name for each specific coordinate\n",
        "\n",
        "We can use an offline reverse geocoder package for that."
      ]
    },
    {
      "cell_type": "code",
      "metadata": {
        "id": "CE5Lw7h01jK0",
        "colab_type": "code",
        "outputId": "d26e77c5-5d19-4000-c045-3a5b1def1f40",
        "colab": {
          "base_uri": "https://localhost:8080/",
          "height": 34
        }
      },
      "source": [
        "#Load and instantiate the reversegeocoder\n",
        "!pip install rgeocoder\n",
        "from rgeocoder import ReverseGeocoder\n",
        "rg = ReverseGeocoder()"
      ],
      "execution_count": 132,
      "outputs": [
        {
          "output_type": "stream",
          "text": [
            "Requirement already satisfied: rgeocoder in /usr/local/lib/python3.6/dist-packages (0.1.3)\n"
          ],
          "name": "stdout"
        }
      ]
    },
    {
      "cell_type": "code",
      "metadata": {
        "id": "MFsIisTD1_MR",
        "colab_type": "code",
        "colab": {}
      },
      "source": [
        "# That's how it works\n",
        "location = rg.nearest(56.457, 10.039) #lat, lon"
      ],
      "execution_count": 0,
      "outputs": []
    },
    {
      "cell_type": "code",
      "metadata": {
        "id": "HaNbBXa42Gby",
        "colab_type": "code",
        "outputId": "532700f9-17e5-46b2-c930-700f7a7fc750",
        "colab": {
          "base_uri": "https://localhost:8080/",
          "height": 84
        }
      },
      "source": [
        "# Let's see what we get\n",
        "print(location.name)\n",
        "print(location.admin1)\n",
        "print(location.admin2)\n",
        "print(location.cc)"
      ],
      "execution_count": 134,
      "outputs": [
        {
          "output_type": "stream",
          "text": [
            "Randers\n",
            "Central Jutland\n",
            "Randers Kommune\n",
            "DK\n"
          ],
          "name": "stdout"
        }
      ]
    },
    {
      "cell_type": "code",
      "metadata": {
        "id": "LOn70i672pUd",
        "colab_type": "code",
        "colab": {}
      },
      "source": [
        "# A smart way to get all geocoding done in one line\n",
        "cities['countrycode'] = cities.apply(lambda t: rg.nearest(t['latitude'],t['longitude']).cc, axis=1)"
      ],
      "execution_count": 0,
      "outputs": []
    },
    {
      "cell_type": "code",
      "metadata": {
        "id": "saha6Jv8B1SI",
        "colab_type": "code",
        "outputId": "1c9133ea-191b-407b-9676-003c68acc1fc",
        "colab": {
          "base_uri": "https://localhost:8080/",
          "height": 574
        }
      },
      "source": [
        "cities.info()"
      ],
      "execution_count": 136,
      "outputs": [
        {
          "output_type": "stream",
          "text": [
            "<class 'pandas.core.frame.DataFrame'>\n",
            "RangeIndex: 781 entries, 0 to 780\n",
            "Data columns (total 28 columns):\n",
            "Unnamed: 0                781 non-null int64\n",
            "coffee_in_cafe            781 non-null float64\n",
            "cost_beer                 781 non-null float64\n",
            "cost_coworking            781 non-null float64\n",
            "cost_expat                781 non-null int64\n",
            "cost_nomad                781 non-null int64\n",
            "female_friendly           781 non-null float64\n",
            "fragile_states_index      781 non-null object\n",
            "free_wifi_available       781 non-null float64\n",
            "freedom_score             781 non-null object\n",
            "friendly_to_foreigners    781 non-null float64\n",
            "internet_speed            781 non-null int64\n",
            "latitude                  781 non-null float64\n",
            "leisure                   781 non-null float64\n",
            "lgbt_friendly             781 non-null float64\n",
            "life_score                781 non-null float64\n",
            "longitude                 781 non-null float64\n",
            "nightlife                 781 non-null float64\n",
            "nomadScore                781 non-null float64\n",
            "nomad_score               781 non-null float64\n",
            "peace_score               781 non-null object\n",
            "place                     781 non-null object\n",
            "places_to_work            781 non-null float64\n",
            "press_freedom_index       781 non-null object\n",
            "racism                    781 non-null float64\n",
            "safety                    781 non-null float64\n",
            "weed                      781 non-null int64\n",
            "countrycode               781 non-null object\n",
            "dtypes: float64(17), int64(5), object(6)\n",
            "memory usage: 171.0+ KB\n"
          ],
          "name": "stdout"
        }
      ]
    },
    {
      "cell_type": "markdown",
      "metadata": {
        "id": "HDlRbZkC25bN",
        "colab_type": "text"
      },
      "source": [
        "in the above cell we apply the \n",
        "\n",
        "\n",
        "```\n",
        "rg.nearest(t['latitude'],t['longitude']).cc\n",
        "```\n",
        "\n",
        "function to each row t of the dataframe cities\n",
        "\n",
        "\n",
        "```\n",
        "lambda t:\n",
        "```\n",
        "\n",
        "is a rather scary syntactic way of calling an anonymous function\n",
        "\n",
        "Basically, we could say:\n",
        "\n",
        "\n",
        "*   For each row of the cities dataframe\n",
        "*   take the value of the longitude and latitude columns\n",
        "*   look up the corresponding place\n",
        "*   write the country code \"cc\" into a new column \"alpha-2\"\n",
        "\n",
        "Now that we have exact country codes for each city, we need to find the regions these countries belong to\n",
        "\n",
        "Luckily it's easy to find tables listing this information on the internet."
      ]
    },
    {
      "cell_type": "code",
      "metadata": {
        "id": "Q1-3Uvae3Dp5",
        "colab_type": "code",
        "colab": {}
      },
      "source": [
        "# Download a recent country info table\n",
        "c = pd.read_csv('https://github.com/SDS-AAU/M1-2019/raw/master/data/countrylist.csv')"
      ],
      "execution_count": 0,
      "outputs": []
    },
    {
      "cell_type": "code",
      "metadata": {
        "id": "h3C5hN7x3Hqk",
        "colab_type": "code",
        "outputId": "e521aa9e-7747-4512-de37-971af3c6f3a0",
        "colab": {
          "base_uri": "https://localhost:8080/",
          "height": 201
        }
      },
      "source": [
        "c.head()"
      ],
      "execution_count": 138,
      "outputs": [
        {
          "output_type": "execute_result",
          "data": {
            "text/html": [
              "<div>\n",
              "<style scoped>\n",
              "    .dataframe tbody tr th:only-of-type {\n",
              "        vertical-align: middle;\n",
              "    }\n",
              "\n",
              "    .dataframe tbody tr th {\n",
              "        vertical-align: top;\n",
              "    }\n",
              "\n",
              "    .dataframe thead th {\n",
              "        text-align: right;\n",
              "    }\n",
              "</style>\n",
              "<table border=\"1\" class=\"dataframe\">\n",
              "  <thead>\n",
              "    <tr style=\"text-align: right;\">\n",
              "      <th></th>\n",
              "      <th>alpha_2</th>\n",
              "      <th>region</th>\n",
              "      <th>sub_region</th>\n",
              "    </tr>\n",
              "  </thead>\n",
              "  <tbody>\n",
              "    <tr>\n",
              "      <th>0</th>\n",
              "      <td>AF</td>\n",
              "      <td>Asia</td>\n",
              "      <td>Southern Asia</td>\n",
              "    </tr>\n",
              "    <tr>\n",
              "      <th>1</th>\n",
              "      <td>AX</td>\n",
              "      <td>Europe</td>\n",
              "      <td>Northern Europe</td>\n",
              "    </tr>\n",
              "    <tr>\n",
              "      <th>2</th>\n",
              "      <td>AL</td>\n",
              "      <td>Europe</td>\n",
              "      <td>Southern Europe</td>\n",
              "    </tr>\n",
              "    <tr>\n",
              "      <th>3</th>\n",
              "      <td>DZ</td>\n",
              "      <td>Africa</td>\n",
              "      <td>Northern Africa</td>\n",
              "    </tr>\n",
              "    <tr>\n",
              "      <th>4</th>\n",
              "      <td>AS</td>\n",
              "      <td>Oceania</td>\n",
              "      <td>Polynesia</td>\n",
              "    </tr>\n",
              "  </tbody>\n",
              "</table>\n",
              "</div>"
            ],
            "text/plain": [
              "  alpha_2   region       sub_region\n",
              "0      AF     Asia    Southern Asia\n",
              "1      AX   Europe  Northern Europe\n",
              "2      AL   Europe  Southern Europe\n",
              "3      DZ   Africa  Northern Africa\n",
              "4      AS  Oceania        Polynesia"
            ]
          },
          "metadata": {
            "tags": []
          },
          "execution_count": 138
        }
      ]
    },
    {
      "cell_type": "code",
      "metadata": {
        "id": "WfyQLZgU3VIe",
        "colab_type": "code",
        "colab": {}
      },
      "source": [
        " # Merge this lookup table with our initial cities list\n",
        "cities = cities.merge(c, left_on='countrycode', right_on='alpha_2')"
      ],
      "execution_count": 0,
      "outputs": []
    },
    {
      "cell_type": "code",
      "metadata": {
        "id": "IZfUGTJ234pf",
        "colab_type": "code",
        "colab": {}
      },
      "source": [
        "# Let's select interesting variables for the analysis\n",
        "vars_analysis = [\"cost_nomad\", \"cost_coworking\", \"cost_expat\", \"coffee_in_cafe\", \"cost_beer\", # costs\n",
        "          \"places_to_work\", \"free_wifi_available\", \"internet_speed\", # work\n",
        "          \"freedom_score\", \"peace_score\", \"safety\", \"fragile_states_index\", \"press_freedom_index\", # safety & freedom\n",
        "          \"female_friendly\", \"lgbt_friendly\", \"friendly_to_foreigners\", \"racism\", # friendly\n",
        "          \"leisure\",\"life_score\",\"nightlife\",\"weed\"] # fun \n",
        "\n",
        "vars_descr = [\"nomad_score\", \"cost_nomad\", \"places_to_work\", \"freedom_score\", \"friendly_to_foreigners\", \"life_score\"]"
      ],
      "execution_count": 0,
      "outputs": []
    },
    {
      "cell_type": "code",
      "metadata": {
        "id": "szGMR2E04KJr",
        "colab_type": "code",
        "colab": {}
      },
      "source": [
        "# And use the selection to only extract these variables into a new object\n",
        "data = cities[vars_analysis]\n",
        "descr = cities[vars_descr]"
      ],
      "execution_count": 0,
      "outputs": []
    },
    {
      "cell_type": "code",
      "metadata": {
        "id": "Plvdkoe14iqM",
        "colab_type": "code",
        "outputId": "fec188b0-ef57-419a-8192-98184ce4bb01",
        "colab": {
          "base_uri": "https://localhost:8080/",
          "height": 455
        }
      },
      "source": [
        "# Quick check\n",
        "data.info()"
      ],
      "execution_count": 142,
      "outputs": [
        {
          "output_type": "stream",
          "text": [
            "<class 'pandas.core.frame.DataFrame'>\n",
            "Int64Index: 780 entries, 0 to 779\n",
            "Data columns (total 21 columns):\n",
            "cost_nomad                780 non-null int64\n",
            "cost_coworking            780 non-null float64\n",
            "cost_expat                780 non-null int64\n",
            "coffee_in_cafe            780 non-null float64\n",
            "cost_beer                 780 non-null float64\n",
            "places_to_work            780 non-null float64\n",
            "free_wifi_available       780 non-null float64\n",
            "internet_speed            780 non-null int64\n",
            "freedom_score             780 non-null object\n",
            "peace_score               780 non-null object\n",
            "safety                    780 non-null float64\n",
            "fragile_states_index      780 non-null object\n",
            "press_freedom_index       780 non-null object\n",
            "female_friendly           780 non-null float64\n",
            "lgbt_friendly             780 non-null float64\n",
            "friendly_to_foreigners    780 non-null float64\n",
            "racism                    780 non-null float64\n",
            "leisure                   780 non-null float64\n",
            "life_score                780 non-null float64\n",
            "nightlife                 780 non-null float64\n",
            "weed                      780 non-null int64\n",
            "dtypes: float64(13), int64(4), object(4)\n",
            "memory usage: 134.1+ KB\n"
          ],
          "name": "stdout"
        }
      ]
    },
    {
      "cell_type": "markdown",
      "metadata": {
        "id": "r5v5gXaM4rXn",
        "colab_type": "text"
      },
      "source": [
        "We can see some strange things going with the data types. Some are floats or ints as we would expect but others are objects"
      ]
    },
    {
      "cell_type": "code",
      "metadata": {
        "id": "70m5aR6Z4x3P",
        "colab_type": "code",
        "outputId": "b600b5bd-8f21-4cd3-e19f-ba5d5d45ac43",
        "colab": {
          "base_uri": "https://localhost:8080/",
          "height": 34
        }
      },
      "source": [
        "print(data['peace_score'].unique())"
      ],
      "execution_count": 143,
      "outputs": [
        {
          "output_type": "stream",
          "text": [
            "['0.8' '0.4' 'DotMap(__next__=DotMap())' 'DotMap()' '1' '0.6' '0.2']\n"
          ],
          "name": "stdout"
        }
      ]
    },
    {
      "cell_type": "code",
      "metadata": {
        "id": "2g9sAPoF43qa",
        "colab_type": "code",
        "outputId": "8f5b677e-4327-4d70-a70d-731145eb2307",
        "colab": {
          "base_uri": "https://localhost:8080/",
          "height": 34
        }
      },
      "source": [
        "print(data['freedom_score'].unique())"
      ],
      "execution_count": 144,
      "outputs": [
        {
          "output_type": "stream",
          "text": [
            "['0.6' '0.2' '0.8' '0.4' '1' 'DotMap()']\n"
          ],
          "name": "stdout"
        }
      ]
    },
    {
      "cell_type": "code",
      "metadata": {
        "id": "8D73nlIQ461W",
        "colab_type": "code",
        "outputId": "387180ba-edd2-4e3e-f7f1-2f2cc0558828",
        "colab": {
          "base_uri": "https://localhost:8080/",
          "height": 236
        }
      },
      "source": [
        "print(data['fragile_states_index'].unique())"
      ],
      "execution_count": 145,
      "outputs": [
        {
          "output_type": "stream",
          "text": [
            "['52.7' '78.8' '40.8' 'DotMap(__next__=DotMap())' 'DotMap()' '34' '23.8'\n",
            " '32.4' '74.2' '35.1' '65.3' '66.1' '39.8' '29.2' '29' '21.3' '22.6'\n",
            " '74.9' '84.7' '48.4' '28.6' '70.7' '22.5' '36.1' '28.2' '21.8' '39.6'\n",
            " '34.5' '43.1' '27.5' '110.8' '55.9' '53.2' '45.1' '52.9' '21.2' '70.4'\n",
            " '32.9' '40.7' '47.4' '43.4' '36.2' '75.5' '67' '73.9' '81' '79.6' '41.9'\n",
            " '72' '21.5' '69.6' '44.9' '77.3' '18.8' '64' '52.4' '33.9' '53.7' '78.9'\n",
            " '78' '42.4' '70.8' '65' '71.2' '44.5' '51.6' '75.6' '66.3' '80.2' '62'\n",
            " '24.1' '72.5' '72.6' '87.7' '55.2' '83.6' '43.2' '61.2' '63.4' '22.8'\n",
            " '72.2' '76.3' '66' '74' '73.2' '69.9' '90.7' '66.5' '87.4' '103.5' '98.3'\n",
            " '89.6' '78.5' '101.7' '79' '90.2' '56.6' '83.2' '96.3' '84.4' '74.6'\n",
            " '104.7' '95.2' '91.2' '78.3' '91.3' '83.5' '87.8' '84.2' '81.8' '97.2'\n",
            " '97.7' '79.8' '83.8' '86.9' '100.5' '103.8' '97.8' '90.5' '111.5' '81.6'\n",
            " '86.2' '91' '96.4' '93.9']\n"
          ],
          "name": "stdout"
        }
      ]
    },
    {
      "cell_type": "code",
      "metadata": {
        "id": "8s48c6sl49M8",
        "colab_type": "code",
        "outputId": "0fa74d1d-a2fb-4fb1-a0fe-352cd2ea8f58",
        "colab": {
          "base_uri": "https://localhost:8080/",
          "height": 270
        }
      },
      "source": [
        "print(data['press_freedom_index'].unique())"
      ],
      "execution_count": 146,
      "outputs": [
        {
          "output_type": "stream",
          "text": [
            "['28.17' '44.53' '16.66' '24.37' '22.49' '15.26' '21.7' '42.64' '28.67'\n",
            " '32.62' '46.57' '19.92' '17.27' '14.18' '10.01' '12.33' '41.72' '44.66'\n",
            " '25.09' '14.8' '74.27' '28.5' '17.84' '28.58' '8.76' '11.76' '23.84'\n",
            " '23.83' '28.93' '13.18' '32.58' '81.35' '30.35' '30.59' '11.1' '24.29'\n",
            " '8.79' '49.33' '52.96' '23.89' '17.38' '14.31' '15.88' '32.93' 'DotMap()'\n",
            " '36.09' '80.96' '12.4' '54.32' '49.03' '43.17' '19.23' '27.6' '8.89'\n",
            " '28.79' '13.26' '50.76' '8.59' '18.26' '27.91' '22.26' '34.46' '27.96'\n",
            " '44.49' '19.95' '27.9' '12.45' '28.45' '17.95' '36.73' '40.43' '33.21'\n",
            " '29.99' '70.23' '44.11' '53.85' '14.43' '33.63' '44.96' '32.79' '27.99'\n",
            " '27.69' '29.92' '54.86' '15.3' '59.72' '57.89' '20.61' '34.17' '28.83'\n",
            " '21.92' '45.94' '35.97' '54.55' '40.7' '30.17' '35.9' '31.16' '31.95'\n",
            " '31.78' '42.93' '48.52' '28.82' '54.45' '27.61' '38.03' '30.16' '71.58'\n",
            " '31.6' '54.35' '39.83' '41.69' '54.61' '61.15' '30.25' '27.04' '28.65'\n",
            " '45.13' '44.62' '50.34' '66.52' '40.41' '33.08' '40.53' '39.89' '72.53'\n",
            " '44.77' '25.81' '29.94' '83.76']\n"
          ],
          "name": "stdout"
        }
      ]
    },
    {
      "cell_type": "markdown",
      "metadata": {
        "id": "zzTaFiy-5EtW",
        "colab_type": "text"
      },
      "source": [
        "This is a problem that probably has something to do with the scraping process. Let's try to turn everything into floats and if we can't we just put in a missing value statement"
      ]
    },
    {
      "cell_type": "code",
      "metadata": {
        "id": "GUOH0SQN5FXg",
        "colab_type": "code",
        "colab": {}
      },
      "source": [
        "# This function will fo exactly that\n",
        "def floater(x):\n",
        "  try: #Try to\n",
        "    return float(x) #Turn X into a floating point number\n",
        "  except ValueError: #In case a ValueError occurs\n",
        "    return np.nan #Turn X into np.nan (missing value placeholder)"
      ],
      "execution_count": 0,
      "outputs": []
    },
    {
      "cell_type": "code",
      "metadata": {
        "id": "z8FvwKyW8WzS",
        "colab_type": "code",
        "outputId": "f5449371-2ae8-4a35-80e1-c67721c445bb",
        "colab": {
          "base_uri": "https://localhost:8080/",
          "height": 118
        }
      },
      "source": [
        "# map applies the defined function to every observation\n",
        "data.loc[:,'peace_score'] = data['peace_score'].map(floater)\n",
        "data.loc[:,'freedom_score'] = data['freedom_score'].map(floater)\n",
        "data.loc[:,'fragile_states_index'] = data['fragile_states_index'].map(floater)\n",
        "data.loc[:,'press_freedom_index'] = data['press_freedom_index'].map(floater)"
      ],
      "execution_count": 148,
      "outputs": [
        {
          "output_type": "stream",
          "text": [
            "/usr/local/lib/python3.6/dist-packages/pandas/core/indexing.py:494: SettingWithCopyWarning: \n",
            "A value is trying to be set on a copy of a slice from a DataFrame.\n",
            "Try using .loc[row_indexer,col_indexer] = value instead\n",
            "\n",
            "See the caveats in the documentation: http://pandas.pydata.org/pandas-docs/stable/user_guide/indexing.html#returning-a-view-versus-a-copy\n",
            "  self.obj[item] = s\n"
          ],
          "name": "stderr"
        }
      ]
    },
    {
      "cell_type": "code",
      "metadata": {
        "id": "kkHI3yYz8iS6",
        "colab_type": "code",
        "outputId": "023e7b33-fe2f-4df6-9069-4c466381a5c2",
        "colab": {
          "base_uri": "https://localhost:8080/",
          "height": 388
        }
      },
      "source": [
        "# yup, some missing data...\n",
        "data.isnull().sum()"
      ],
      "execution_count": 149,
      "outputs": [
        {
          "output_type": "execute_result",
          "data": {
            "text/plain": [
              "cost_nomad                 0\n",
              "cost_coworking             0\n",
              "cost_expat                 0\n",
              "coffee_in_cafe             0\n",
              "cost_beer                  0\n",
              "places_to_work             0\n",
              "free_wifi_available        0\n",
              "internet_speed             0\n",
              "freedom_score             12\n",
              "peace_score               25\n",
              "safety                     0\n",
              "fragile_states_index      25\n",
              "press_freedom_index       12\n",
              "female_friendly            0\n",
              "lgbt_friendly              0\n",
              "friendly_to_foreigners     0\n",
              "racism                     0\n",
              "leisure                    0\n",
              "life_score                 0\n",
              "nightlife                  0\n",
              "weed                       0\n",
              "dtype: int64"
            ]
          },
          "metadata": {
            "tags": []
          },
          "execution_count": 149
        }
      ]
    },
    {
      "cell_type": "markdown",
      "metadata": {
        "id": "u2yaohIL8y0O",
        "colab_type": "text"
      },
      "source": [
        "Now we are facing a new problem - Missing Data. While it would be easier to just kick out these cities, we will try to do better and impute.\n",
        "\n",
        "Read up on imputation in the documentation of the package: https://github.com/iskandr/fancyimpute\n",
        "also here: https://medium.com/ibm-data-science-experience/missing-data-conundrum-exploration-and-imputation-techniques-9f40abe0fd87\n",
        "\n",
        "There are many other packages and modules that perform imputation. I found facyimpute the least problematic so far"
      ]
    },
    {
      "cell_type": "code",
      "metadata": {
        "id": "rJWjMSTQ8z2f",
        "colab_type": "code",
        "colab": {}
      },
      "source": [
        "# Import the imputation package\n",
        "from fancyimpute import SoftImpute, SimpleFill"
      ],
      "execution_count": 0,
      "outputs": []
    },
    {
      "cell_type": "code",
      "metadata": {
        "id": "_YxrLMm489k7",
        "colab_type": "code",
        "colab": {}
      },
      "source": [
        "# Easy version: Just replace missing values by the mean of the column\n",
        "data_imp = SimpleFill(fill_method='mean').fit_transform(data)"
      ],
      "execution_count": 0,
      "outputs": []
    },
    {
      "cell_type": "code",
      "metadata": {
        "id": "sc2CWKQf8_QJ",
        "colab_type": "code",
        "outputId": "c7616256-9167-47cc-8cbe-e4f711dcb35e",
        "colab": {
          "base_uri": "https://localhost:8080/",
          "height": 221
        }
      },
      "source": [
        "# We can have a quick look\n",
        "pd.DataFrame(data_imp, columns=data.columns).head()"
      ],
      "execution_count": 152,
      "outputs": [
        {
          "output_type": "execute_result",
          "data": {
            "text/html": [
              "<div>\n",
              "<style scoped>\n",
              "    .dataframe tbody tr th:only-of-type {\n",
              "        vertical-align: middle;\n",
              "    }\n",
              "\n",
              "    .dataframe tbody tr th {\n",
              "        vertical-align: top;\n",
              "    }\n",
              "\n",
              "    .dataframe thead th {\n",
              "        text-align: right;\n",
              "    }\n",
              "</style>\n",
              "<table border=\"1\" class=\"dataframe\">\n",
              "  <thead>\n",
              "    <tr style=\"text-align: right;\">\n",
              "      <th></th>\n",
              "      <th>cost_nomad</th>\n",
              "      <th>cost_coworking</th>\n",
              "      <th>cost_expat</th>\n",
              "      <th>coffee_in_cafe</th>\n",
              "      <th>cost_beer</th>\n",
              "      <th>places_to_work</th>\n",
              "      <th>free_wifi_available</th>\n",
              "      <th>internet_speed</th>\n",
              "      <th>freedom_score</th>\n",
              "      <th>peace_score</th>\n",
              "      <th>safety</th>\n",
              "      <th>fragile_states_index</th>\n",
              "      <th>press_freedom_index</th>\n",
              "      <th>female_friendly</th>\n",
              "      <th>lgbt_friendly</th>\n",
              "      <th>friendly_to_foreigners</th>\n",
              "      <th>racism</th>\n",
              "      <th>leisure</th>\n",
              "      <th>life_score</th>\n",
              "      <th>nightlife</th>\n",
              "      <th>weed</th>\n",
              "    </tr>\n",
              "  </thead>\n",
              "  <tbody>\n",
              "    <tr>\n",
              "      <th>0</th>\n",
              "      <td>1364.000</td>\n",
              "      <td>152.410</td>\n",
              "      <td>1273.000</td>\n",
              "      <td>1.730</td>\n",
              "      <td>1.730</td>\n",
              "      <td>1.000</td>\n",
              "      <td>0.400</td>\n",
              "      <td>31.000</td>\n",
              "      <td>0.600</td>\n",
              "      <td>0.800</td>\n",
              "      <td>0.600</td>\n",
              "      <td>52.700</td>\n",
              "      <td>28.170</td>\n",
              "      <td>1.000</td>\n",
              "      <td>0.270</td>\n",
              "      <td>0.600</td>\n",
              "      <td>0.400</td>\n",
              "      <td>0.800</td>\n",
              "      <td>0.860</td>\n",
              "      <td>1.000</td>\n",
              "      <td>0.000</td>\n",
              "    </tr>\n",
              "    <tr>\n",
              "      <th>1</th>\n",
              "      <td>777.000</td>\n",
              "      <td>98.880</td>\n",
              "      <td>780.000</td>\n",
              "      <td>0.850</td>\n",
              "      <td>0.850</td>\n",
              "      <td>0.800</td>\n",
              "      <td>0.600</td>\n",
              "      <td>14.000</td>\n",
              "      <td>0.200</td>\n",
              "      <td>0.400</td>\n",
              "      <td>0.800</td>\n",
              "      <td>78.800</td>\n",
              "      <td>44.530</td>\n",
              "      <td>0.800</td>\n",
              "      <td>0.600</td>\n",
              "      <td>0.600</td>\n",
              "      <td>0.400</td>\n",
              "      <td>0.620</td>\n",
              "      <td>0.750</td>\n",
              "      <td>0.400</td>\n",
              "      <td>0.000</td>\n",
              "    </tr>\n",
              "    <tr>\n",
              "      <th>2</th>\n",
              "      <td>1012.000</td>\n",
              "      <td>155.430</td>\n",
              "      <td>1714.000</td>\n",
              "      <td>1.410</td>\n",
              "      <td>1.410</td>\n",
              "      <td>0.800</td>\n",
              "      <td>0.400</td>\n",
              "      <td>14.000</td>\n",
              "      <td>0.200</td>\n",
              "      <td>0.400</td>\n",
              "      <td>0.800</td>\n",
              "      <td>78.800</td>\n",
              "      <td>44.530</td>\n",
              "      <td>0.600</td>\n",
              "      <td>0.800</td>\n",
              "      <td>0.600</td>\n",
              "      <td>0.420</td>\n",
              "      <td>0.600</td>\n",
              "      <td>0.750</td>\n",
              "      <td>0.820</td>\n",
              "      <td>0.000</td>\n",
              "    </tr>\n",
              "    <tr>\n",
              "      <th>3</th>\n",
              "      <td>1197.000</td>\n",
              "      <td>131.410</td>\n",
              "      <td>1158.000</td>\n",
              "      <td>2.120</td>\n",
              "      <td>2.120</td>\n",
              "      <td>1.000</td>\n",
              "      <td>1.000</td>\n",
              "      <td>24.000</td>\n",
              "      <td>0.200</td>\n",
              "      <td>0.400</td>\n",
              "      <td>0.770</td>\n",
              "      <td>78.800</td>\n",
              "      <td>44.530</td>\n",
              "      <td>0.800</td>\n",
              "      <td>0.800</td>\n",
              "      <td>1.000</td>\n",
              "      <td>0.420</td>\n",
              "      <td>0.820</td>\n",
              "      <td>0.720</td>\n",
              "      <td>1.000</td>\n",
              "      <td>0.000</td>\n",
              "    </tr>\n",
              "    <tr>\n",
              "      <th>4</th>\n",
              "      <td>1352.000</td>\n",
              "      <td>169.560</td>\n",
              "      <td>1347.000</td>\n",
              "      <td>1.410</td>\n",
              "      <td>1.410</td>\n",
              "      <td>0.800</td>\n",
              "      <td>0.400</td>\n",
              "      <td>15.000</td>\n",
              "      <td>0.200</td>\n",
              "      <td>0.400</td>\n",
              "      <td>0.800</td>\n",
              "      <td>78.800</td>\n",
              "      <td>44.530</td>\n",
              "      <td>0.800</td>\n",
              "      <td>0.800</td>\n",
              "      <td>1.000</td>\n",
              "      <td>0.400</td>\n",
              "      <td>0.800</td>\n",
              "      <td>0.800</td>\n",
              "      <td>0.800</td>\n",
              "      <td>0.000</td>\n",
              "    </tr>\n",
              "  </tbody>\n",
              "</table>\n",
              "</div>"
            ],
            "text/plain": [
              "   cost_nomad  cost_coworking  cost_expat  ...  life_score  nightlife  weed\n",
              "0    1364.000         152.410    1273.000  ...       0.860      1.000 0.000\n",
              "1     777.000          98.880     780.000  ...       0.750      0.400 0.000\n",
              "2    1012.000         155.430    1714.000  ...       0.750      0.820 0.000\n",
              "3    1197.000         131.410    1158.000  ...       0.720      1.000 0.000\n",
              "4    1352.000         169.560    1347.000  ...       0.800      0.800 0.000\n",
              "\n",
              "[5 rows x 21 columns]"
            ]
          },
          "metadata": {
            "tags": []
          },
          "execution_count": 152
        }
      ]
    },
    {
      "cell_type": "code",
      "metadata": {
        "id": "F4_gfsuB9U2a",
        "colab_type": "code",
        "outputId": "3a9395e6-a354-4810-c8f0-5ca5ff0e2f09",
        "colab": {
          "base_uri": "https://localhost:8080/",
          "height": 1000
        }
      },
      "source": [
        "# Or, we go crazy and use a neural network powered method\n",
        "data_imp = SoftImpute().fit_transform(data)"
      ],
      "execution_count": 153,
      "outputs": [
        {
          "output_type": "stream",
          "text": [
            "[SoftImpute] Max Singular Value of X_init = 18181818181818001939777978368.000000\n",
            "[SoftImpute] Iter 1: observed MAE=22300770491622278299648.000000 rank=1\n",
            "[SoftImpute] Iter 2: observed MAE=22300770491622265716736.000000 rank=1\n",
            "[SoftImpute] Iter 3: observed MAE=22300770491622592872448.000000 rank=1\n",
            "[SoftImpute] Iter 4: observed MAE=22300770491622257328128.000000 rank=1\n",
            "[SoftImpute] Iter 5: observed MAE=22300770491622550929408.000000 rank=1\n",
            "[SoftImpute] Iter 6: observed MAE=22300770491621972115456.000000 rank=1\n",
            "[SoftImpute] Iter 7: observed MAE=22300770491622655787008.000000 rank=1\n",
            "[SoftImpute] Iter 8: observed MAE=22300770491622244745216.000000 rank=1\n",
            "[SoftImpute] Iter 9: observed MAE=22300770491622613843968.000000 rank=1\n",
            "[SoftImpute] Iter 10: observed MAE=22300770491622043418624.000000 rank=1\n",
            "[SoftImpute] Iter 11: observed MAE=22300770491622697730048.000000 rank=1\n",
            "[SoftImpute] Iter 12: observed MAE=22300770491622701924352.000000 rank=1\n",
            "[SoftImpute] Iter 13: observed MAE=22300770491622005669888.000000 rank=1\n",
            "[SoftImpute] Iter 14: observed MAE=22300770491622295076864.000000 rank=1\n",
            "[SoftImpute] Iter 15: observed MAE=22300770491622081167360.000000 rank=1\n",
            "[SoftImpute] Iter 16: observed MAE=22300770491622450266112.000000 rank=1\n",
            "[SoftImpute] Iter 17: observed MAE=22300770491622454460416.000000 rank=1\n",
            "[SoftImpute] Iter 18: observed MAE=22300770491622001475584.000000 rank=1\n",
            "[SoftImpute] Iter 19: observed MAE=22300770491622580289536.000000 rank=1\n",
            "[SoftImpute] Iter 20: observed MAE=22300770491622118916096.000000 rank=1\n",
            "[SoftImpute] Iter 21: observed MAE=22300770491621984698368.000000 rank=1\n",
            "[SoftImpute] Iter 22: observed MAE=22300770491622383157248.000000 rank=1\n",
            "[SoftImpute] Iter 23: observed MAE=22300770491622353797120.000000 rank=1\n",
            "[SoftImpute] Iter 24: observed MAE=22300770491622626426880.000000 rank=1\n",
            "[SoftImpute] Iter 25: observed MAE=22300770491622433488896.000000 rank=1\n",
            "[SoftImpute] Iter 26: observed MAE=22300770491622186024960.000000 rank=1\n",
            "[SoftImpute] Iter 27: observed MAE=22300770491621946949632.000000 rank=1\n",
            "[SoftImpute] Iter 28: observed MAE=22300770491622332825600.000000 rank=1\n",
            "[SoftImpute] Iter 29: observed MAE=22300770491622395740160.000000 rank=1\n",
            "[SoftImpute] Iter 30: observed MAE=22300770491622701924352.000000 rank=1\n",
            "[SoftImpute] Iter 31: observed MAE=22300770491622513180672.000000 rank=1\n",
            "[SoftImpute] Iter 32: observed MAE=22300770491622081167360.000000 rank=1\n",
            "[SoftImpute] Iter 33: observed MAE=22300770491622106333184.000000 rank=1\n",
            "[SoftImpute] Iter 34: observed MAE=22300770491622647398400.000000 rank=1\n",
            "[SoftImpute] Iter 35: observed MAE=22300770491622118916096.000000 rank=1\n",
            "[SoftImpute] Iter 36: observed MAE=22300770491622097944576.000000 rank=1\n",
            "[SoftImpute] Iter 37: observed MAE=22300770491622362185728.000000 rank=1\n",
            "[SoftImpute] Iter 38: observed MAE=22300770491622387351552.000000 rank=1\n",
            "[SoftImpute] Iter 39: observed MAE=22300770491621892423680.000000 rank=1\n",
            "[SoftImpute] Iter 40: observed MAE=22300770491622458654720.000000 rank=1\n",
            "[SoftImpute] Iter 41: observed MAE=22300770491622248939520.000000 rank=1\n",
            "[SoftImpute] Iter 42: observed MAE=22300770491622609649664.000000 rank=1\n",
            "[SoftImpute] Iter 43: observed MAE=22300770491622316048384.000000 rank=1\n",
            "[SoftImpute] Iter 44: observed MAE=22300770491622513180672.000000 rank=1\n",
            "[SoftImpute] Iter 45: observed MAE=22300770491622739673088.000000 rank=1\n",
            "[SoftImpute] Iter 46: observed MAE=22300770491621884035072.000000 rank=1\n",
            "[SoftImpute] Iter 47: observed MAE=22300770491622165053440.000000 rank=1\n",
            "[SoftImpute] Iter 48: observed MAE=22300770491622030835712.000000 rank=1\n",
            "[SoftImpute] Iter 49: observed MAE=22300770491622039224320.000000 rank=1\n",
            "[SoftImpute] Iter 50: observed MAE=22300770491622416711680.000000 rank=1\n",
            "[SoftImpute] Iter 51: observed MAE=22300770491622244745216.000000 rank=1\n",
            "[SoftImpute] Iter 52: observed MAE=22300770491622399934464.000000 rank=1\n",
            "[SoftImpute] Iter 53: observed MAE=22300770491622836142080.000000 rank=1\n",
            "[SoftImpute] Iter 54: observed MAE=22300770491621976309760.000000 rank=1\n",
            "[SoftImpute] Iter 55: observed MAE=22300770491622043418624.000000 rank=1\n",
            "[SoftImpute] Iter 56: observed MAE=22300770491622282493952.000000 rank=1\n",
            "[SoftImpute] Iter 57: observed MAE=22300770491622018252800.000000 rank=1\n",
            "[SoftImpute] Iter 58: observed MAE=22300770491622433488896.000000 rank=1\n",
            "[SoftImpute] Iter 59: observed MAE=22300770491622043418624.000000 rank=1\n",
            "[SoftImpute] Iter 60: observed MAE=22300770491622056001536.000000 rank=1\n",
            "[SoftImpute] Iter 61: observed MAE=22300770491622102138880.000000 rank=1\n",
            "[SoftImpute] Iter 62: observed MAE=22300770491622437683200.000000 rank=1\n",
            "[SoftImpute] Iter 63: observed MAE=22300770491622202802176.000000 rank=1\n",
            "[SoftImpute] Iter 64: observed MAE=22300770491622580289536.000000 rank=1\n",
            "[SoftImpute] Iter 65: observed MAE=22300770491622047612928.000000 rank=1\n",
            "[SoftImpute] Iter 66: observed MAE=22300770491622332825600.000000 rank=1\n",
            "[SoftImpute] Iter 67: observed MAE=22300770491622022447104.000000 rank=1\n",
            "[SoftImpute] Iter 68: observed MAE=22300770491622597066752.000000 rank=1\n",
            "[SoftImpute] Iter 69: observed MAE=22300770491622563512320.000000 rank=1\n",
            "[SoftImpute] Iter 70: observed MAE=22300770491622236356608.000000 rank=1\n",
            "[SoftImpute] Iter 71: observed MAE=22300770491622014058496.000000 rank=1\n",
            "[SoftImpute] Iter 72: observed MAE=22300770491622127304704.000000 rank=1\n",
            "[SoftImpute] Iter 73: observed MAE=22300770491622278299648.000000 rank=1\n",
            "[SoftImpute] Iter 74: observed MAE=22300770491622563512320.000000 rank=1\n",
            "[SoftImpute] Iter 75: observed MAE=22300770491622479626240.000000 rank=1\n",
            "[SoftImpute] Iter 76: observed MAE=22300770491622081167360.000000 rank=1\n",
            "[SoftImpute] Iter 77: observed MAE=22300770491622278299648.000000 rank=1\n",
            "[SoftImpute] Iter 78: observed MAE=22300770491621993086976.000000 rank=1\n",
            "[SoftImpute] Iter 79: observed MAE=22300770491622727090176.000000 rank=1\n",
            "[SoftImpute] Iter 80: observed MAE=22300770491622186024960.000000 rank=1\n",
            "[SoftImpute] Iter 81: observed MAE=22300770491622139887616.000000 rank=1\n",
            "[SoftImpute] Iter 82: observed MAE=22300770491621959532544.000000 rank=1\n",
            "[SoftImpute] Iter 83: observed MAE=22300770491622420905984.000000 rank=1\n",
            "[SoftImpute] Iter 84: observed MAE=22300770491621728845824.000000 rank=1\n",
            "[SoftImpute] Iter 85: observed MAE=22300770491622773227520.000000 rank=1\n",
            "[SoftImpute] Iter 86: observed MAE=22300770491622001475584.000000 rank=1\n",
            "[SoftImpute] Iter 87: observed MAE=22300770491622949388288.000000 rank=1\n",
            "[SoftImpute] Iter 88: observed MAE=22300770491622257328128.000000 rank=1\n",
            "[SoftImpute] Iter 89: observed MAE=22300770491622030835712.000000 rank=1\n",
            "[SoftImpute] Iter 90: observed MAE=22300770491622479626240.000000 rank=1\n",
            "[SoftImpute] Iter 91: observed MAE=22300770491621837897728.000000 rank=1\n",
            "[SoftImpute] Iter 92: observed MAE=22300770491622559318016.000000 rank=1\n",
            "[SoftImpute] Iter 93: observed MAE=22300770491621963726848.000000 rank=1\n",
            "[SoftImpute] Iter 94: observed MAE=22300770491622425100288.000000 rank=1\n",
            "[SoftImpute] Iter 95: observed MAE=22300770491621791760384.000000 rank=1\n",
            "[SoftImpute] Iter 96: observed MAE=22300770491622211190784.000000 rank=1\n",
            "[SoftImpute] Iter 97: observed MAE=22300770491622907445248.000000 rank=1\n",
            "[SoftImpute] Iter 98: observed MAE=22300770491621967921152.000000 rank=1\n",
            "[SoftImpute] Iter 99: observed MAE=22300770491622643204096.000000 rank=1\n",
            "[SoftImpute] Iter 100: observed MAE=22300770491622706118656.000000 rank=1\n",
            "[SoftImpute] Stopped after iteration 100 for lambda=363636363636360055288233984.000000\n"
          ],
          "name": "stdout"
        }
      ]
    },
    {
      "cell_type": "markdown",
      "metadata": {
        "id": "2LwVioUE9cl_",
        "colab_type": "text"
      },
      "source": [
        "Ok, by now our data is pretty much in the shape we want it to be. No missing values, all features are numeric.\n",
        "\n",
        "The last thing to do is to standardize the values."
      ]
    },
    {
      "cell_type": "code",
      "metadata": {
        "id": "Kp85Q-oa-Gyw",
        "colab_type": "code",
        "colab": {}
      },
      "source": [
        "# Let's standard-scale our data\n",
        "from sklearn.preprocessing import StandardScaler\n",
        "scaler = StandardScaler()\n",
        "\n",
        "data_scaled = scaler.fit_transform(data_imp)"
      ],
      "execution_count": 0,
      "outputs": []
    },
    {
      "cell_type": "markdown",
      "metadata": {
        "id": "uF_F2aD3-lxQ",
        "colab_type": "text"
      },
      "source": [
        "As you can see, now our data has a mean of 0 and a standard deviation of one."
      ]
    },
    {
      "cell_type": "code",
      "metadata": {
        "id": "9eiwonpL-mXA",
        "colab_type": "code",
        "outputId": "a040b9b1-9c08-448f-a678-4faa62878cdf",
        "colab": {
          "base_uri": "https://localhost:8080/",
          "height": 313
        }
      },
      "source": [
        "pd.DataFrame(data_scaled, columns=data.columns).describe()"
      ],
      "execution_count": 155,
      "outputs": [
        {
          "output_type": "execute_result",
          "data": {
            "text/html": [
              "<div>\n",
              "<style scoped>\n",
              "    .dataframe tbody tr th:only-of-type {\n",
              "        vertical-align: middle;\n",
              "    }\n",
              "\n",
              "    .dataframe tbody tr th {\n",
              "        vertical-align: top;\n",
              "    }\n",
              "\n",
              "    .dataframe thead th {\n",
              "        text-align: right;\n",
              "    }\n",
              "</style>\n",
              "<table border=\"1\" class=\"dataframe\">\n",
              "  <thead>\n",
              "    <tr style=\"text-align: right;\">\n",
              "      <th></th>\n",
              "      <th>cost_nomad</th>\n",
              "      <th>cost_coworking</th>\n",
              "      <th>cost_expat</th>\n",
              "      <th>coffee_in_cafe</th>\n",
              "      <th>cost_beer</th>\n",
              "      <th>places_to_work</th>\n",
              "      <th>free_wifi_available</th>\n",
              "      <th>internet_speed</th>\n",
              "      <th>freedom_score</th>\n",
              "      <th>peace_score</th>\n",
              "      <th>safety</th>\n",
              "      <th>fragile_states_index</th>\n",
              "      <th>press_freedom_index</th>\n",
              "      <th>female_friendly</th>\n",
              "      <th>lgbt_friendly</th>\n",
              "      <th>friendly_to_foreigners</th>\n",
              "      <th>racism</th>\n",
              "      <th>leisure</th>\n",
              "      <th>life_score</th>\n",
              "      <th>nightlife</th>\n",
              "      <th>weed</th>\n",
              "    </tr>\n",
              "  </thead>\n",
              "  <tbody>\n",
              "    <tr>\n",
              "      <th>count</th>\n",
              "      <td>780.000</td>\n",
              "      <td>780.000</td>\n",
              "      <td>780.000</td>\n",
              "      <td>780.000</td>\n",
              "      <td>780.000</td>\n",
              "      <td>780.000</td>\n",
              "      <td>780.000</td>\n",
              "      <td>780.000</td>\n",
              "      <td>780.000</td>\n",
              "      <td>780.000</td>\n",
              "      <td>780.000</td>\n",
              "      <td>780.000</td>\n",
              "      <td>780.000</td>\n",
              "      <td>780.000</td>\n",
              "      <td>780.000</td>\n",
              "      <td>780.000</td>\n",
              "      <td>780.000</td>\n",
              "      <td>780.000</td>\n",
              "      <td>780.000</td>\n",
              "      <td>780.000</td>\n",
              "      <td>780.000</td>\n",
              "    </tr>\n",
              "    <tr>\n",
              "      <th>mean</th>\n",
              "      <td>0.000</td>\n",
              "      <td>0.000</td>\n",
              "      <td>-0.000</td>\n",
              "      <td>0.000</td>\n",
              "      <td>0.000</td>\n",
              "      <td>0.000</td>\n",
              "      <td>0.000</td>\n",
              "      <td>0.000</td>\n",
              "      <td>0.000</td>\n",
              "      <td>-0.000</td>\n",
              "      <td>-0.000</td>\n",
              "      <td>0.000</td>\n",
              "      <td>0.000</td>\n",
              "      <td>-0.000</td>\n",
              "      <td>0.000</td>\n",
              "      <td>-0.000</td>\n",
              "      <td>0.000</td>\n",
              "      <td>-0.000</td>\n",
              "      <td>0.000</td>\n",
              "      <td>-0.000</td>\n",
              "      <td>-0.000</td>\n",
              "    </tr>\n",
              "    <tr>\n",
              "      <th>std</th>\n",
              "      <td>1.001</td>\n",
              "      <td>1.001</td>\n",
              "      <td>1.001</td>\n",
              "      <td>1.001</td>\n",
              "      <td>1.001</td>\n",
              "      <td>1.001</td>\n",
              "      <td>1.001</td>\n",
              "      <td>1.001</td>\n",
              "      <td>1.001</td>\n",
              "      <td>1.001</td>\n",
              "      <td>1.001</td>\n",
              "      <td>1.001</td>\n",
              "      <td>1.001</td>\n",
              "      <td>1.001</td>\n",
              "      <td>1.001</td>\n",
              "      <td>1.001</td>\n",
              "      <td>1.001</td>\n",
              "      <td>1.001</td>\n",
              "      <td>1.001</td>\n",
              "      <td>1.001</td>\n",
              "      <td>1.001</td>\n",
              "    </tr>\n",
              "    <tr>\n",
              "      <th>min</th>\n",
              "      <td>-1.740</td>\n",
              "      <td>-1.209</td>\n",
              "      <td>-1.253</td>\n",
              "      <td>-1.664</td>\n",
              "      <td>-1.664</td>\n",
              "      <td>-2.598</td>\n",
              "      <td>-2.344</td>\n",
              "      <td>-0.748</td>\n",
              "      <td>-1.871</td>\n",
              "      <td>-2.597</td>\n",
              "      <td>-3.229</td>\n",
              "      <td>-2.140</td>\n",
              "      <td>-1.736</td>\n",
              "      <td>-2.609</td>\n",
              "      <td>-1.498</td>\n",
              "      <td>-4.008</td>\n",
              "      <td>-0.036</td>\n",
              "      <td>-3.140</td>\n",
              "      <td>-4.673</td>\n",
              "      <td>-2.587</td>\n",
              "      <td>-0.363</td>\n",
              "    </tr>\n",
              "    <tr>\n",
              "      <th>25%</th>\n",
              "      <td>-0.757</td>\n",
              "      <td>-0.697</td>\n",
              "      <td>-0.688</td>\n",
              "      <td>-0.856</td>\n",
              "      <td>-0.856</td>\n",
              "      <td>-0.780</td>\n",
              "      <td>-0.674</td>\n",
              "      <td>-0.638</td>\n",
              "      <td>-1.077</td>\n",
              "      <td>-1.003</td>\n",
              "      <td>-0.372</td>\n",
              "      <td>-0.790</td>\n",
              "      <td>-0.635</td>\n",
              "      <td>-0.830</td>\n",
              "      <td>-0.596</td>\n",
              "      <td>-0.744</td>\n",
              "      <td>-0.036</td>\n",
              "      <td>-0.900</td>\n",
              "      <td>-0.545</td>\n",
              "      <td>-0.878</td>\n",
              "      <td>-0.363</td>\n",
              "    </tr>\n",
              "    <tr>\n",
              "      <th>50%</th>\n",
              "      <td>-0.110</td>\n",
              "      <td>-0.224</td>\n",
              "      <td>-0.186</td>\n",
              "      <td>-0.119</td>\n",
              "      <td>-0.119</td>\n",
              "      <td>-0.780</td>\n",
              "      <td>0.161</td>\n",
              "      <td>-0.418</td>\n",
              "      <td>0.511</td>\n",
              "      <td>-0.205</td>\n",
              "      <td>-0.372</td>\n",
              "      <td>-0.040</td>\n",
              "      <td>-0.279</td>\n",
              "      <td>-0.184</td>\n",
              "      <td>0.223</td>\n",
              "      <td>0.344</td>\n",
              "      <td>-0.036</td>\n",
              "      <td>-0.153</td>\n",
              "      <td>0.132</td>\n",
              "      <td>-0.023</td>\n",
              "      <td>-0.363</td>\n",
              "    </tr>\n",
              "    <tr>\n",
              "      <th>75%</th>\n",
              "      <td>0.649</td>\n",
              "      <td>0.378</td>\n",
              "      <td>0.418</td>\n",
              "      <td>0.669</td>\n",
              "      <td>0.669</td>\n",
              "      <td>1.038</td>\n",
              "      <td>0.996</td>\n",
              "      <td>0.310</td>\n",
              "      <td>0.511</td>\n",
              "      <td>0.592</td>\n",
              "      <td>0.580</td>\n",
              "      <td>0.834</td>\n",
              "      <td>0.485</td>\n",
              "      <td>0.625</td>\n",
              "      <td>1.043</td>\n",
              "      <td>0.344</td>\n",
              "      <td>-0.036</td>\n",
              "      <td>0.843</td>\n",
              "      <td>0.741</td>\n",
              "      <td>0.831</td>\n",
              "      <td>-0.363</td>\n",
              "    </tr>\n",
              "    <tr>\n",
              "      <th>max</th>\n",
              "      <td>6.971</td>\n",
              "      <td>7.555</td>\n",
              "      <td>9.108</td>\n",
              "      <td>5.260</td>\n",
              "      <td>5.260</td>\n",
              "      <td>1.946</td>\n",
              "      <td>1.832</td>\n",
              "      <td>10.080</td>\n",
              "      <td>2.099</td>\n",
              "      <td>1.389</td>\n",
              "      <td>1.532</td>\n",
              "      <td>2.287</td>\n",
              "      <td>2.482</td>\n",
              "      <td>1.433</td>\n",
              "      <td>1.863</td>\n",
              "      <td>1.432</td>\n",
              "      <td>27.911</td>\n",
              "      <td>1.838</td>\n",
              "      <td>2.027</td>\n",
              "      <td>1.686</td>\n",
              "      <td>2.752</td>\n",
              "    </tr>\n",
              "  </tbody>\n",
              "</table>\n",
              "</div>"
            ],
            "text/plain": [
              "       cost_nomad  cost_coworking  cost_expat  ...  life_score  nightlife    weed\n",
              "count     780.000         780.000     780.000  ...     780.000    780.000 780.000\n",
              "mean        0.000           0.000      -0.000  ...       0.000     -0.000  -0.000\n",
              "std         1.001           1.001       1.001  ...       1.001      1.001   1.001\n",
              "min        -1.740          -1.209      -1.253  ...      -4.673     -2.587  -0.363\n",
              "25%        -0.757          -0.697      -0.688  ...      -0.545     -0.878  -0.363\n",
              "50%        -0.110          -0.224      -0.186  ...       0.132     -0.023  -0.363\n",
              "75%         0.649           0.378       0.418  ...       0.741      0.831  -0.363\n",
              "max         6.971           7.555       9.108  ...       2.027      1.686   2.752\n",
              "\n",
              "[8 rows x 21 columns]"
            ]
          },
          "metadata": {
            "tags": []
          },
          "execution_count": 155
        }
      ]
    },
    {
      "cell_type": "markdown",
      "metadata": {
        "id": "DBCvH6OylLFP",
        "colab_type": "text"
      },
      "source": [
        "## Executing the PCA"
      ]
    },
    {
      "cell_type": "code",
      "metadata": {
        "id": "td-OVgEL_d3n",
        "colab_type": "code",
        "colab": {}
      },
      "source": [
        "# Import the module and instantiate a PCA object\n",
        "from sklearn.decomposition import PCA\n",
        "model = PCA(n_components=7) #We pick 7 as the number of components...just because (it's a 3rd of the columns available)\n",
        "\n",
        "# Fit and transform the data\n",
        "data_reduced = model.fit_transform(data_scaled)"
      ],
      "execution_count": 0,
      "outputs": []
    },
    {
      "cell_type": "code",
      "metadata": {
        "id": "Ixg9dxpA_jwl",
        "colab_type": "code",
        "outputId": "1347f5ec-d68c-40ba-c1da-cd83700fa15d",
        "colab": {
          "base_uri": "https://localhost:8080/",
          "height": 34
        }
      },
      "source": [
        "# Make sure the data shape is as it should be\n",
        "data_reduced.shape"
      ],
      "execution_count": 157,
      "outputs": [
        {
          "output_type": "execute_result",
          "data": {
            "text/plain": [
              "(780, 7)"
            ]
          },
          "metadata": {
            "tags": []
          },
          "execution_count": 157
        }
      ]
    },
    {
      "cell_type": "code",
      "metadata": {
        "id": "ws8mS3kP_rTV",
        "colab_type": "code",
        "colab": {}
      },
      "source": [
        "plot_data = pd.DataFrame({'evr': model.explained_variance_ratio_, 'cumsum_evr': np.cumsum(model.explained_variance_ratio_)}).stack()"
      ],
      "execution_count": 0,
      "outputs": []
    },
    {
      "cell_type": "code",
      "metadata": {
        "id": "jIU1w47N_tw0",
        "colab_type": "code",
        "outputId": "9569563f-faf8-468f-dbc7-4d229ee24fbc",
        "colab": {
          "base_uri": "https://localhost:8080/",
          "height": 517
        }
      },
      "source": [
        "# Is 7 components really a good choice?\n",
        "sns.set(rc={'figure.figsize':(11.7,8.27)})\n",
        "sns.lineplot(y = plot_data.values, x = plot_data.index.get_level_values(0), hue=plot_data.index.get_level_values(1))"
      ],
      "execution_count": 175,
      "outputs": [
        {
          "output_type": "execute_result",
          "data": {
            "text/plain": [
              "<matplotlib.axes._subplots.AxesSubplot at 0x7fdf1e956898>"
            ]
          },
          "metadata": {
            "tags": []
          },
          "execution_count": 175
        },
        {
          "output_type": "display_data",
          "data": {
            "image/png": "[encoded data removed]",
            "text/plain": [
              "<Figure size 842.4x595.44 with 1 Axes>"
            ]
          },
          "metadata": {
            "tags": []
          }
        }
      ]
    },
    {
      "cell_type": "code",
      "metadata": {
        "id": "TLwGOr6F_2T4",
        "colab_type": "code",
        "outputId": "01b0f462-7619-4f08-f291-87cd7812a080",
        "colab": {
          "base_uri": "https://localhost:8080/",
          "height": 34
        }
      },
      "source": [
        "# How mach \"information\" do we kick out?\n",
        "model.explained_variance_ratio_.sum()"
      ],
      "execution_count": 176,
      "outputs": [
        {
          "output_type": "execute_result",
          "data": {
            "text/plain": [
              "0.7305816936626532"
            ]
          },
          "metadata": {
            "tags": []
          },
          "execution_count": 176
        }
      ]
    },
    {
      "cell_type": "code",
      "metadata": {
        "id": "-QwIa9zAo8_Y",
        "colab_type": "code",
        "colab": {}
      },
      "source": [
        "pcscores = pd.DataFrame(data_reduced)\n",
        "loadings = pd.DataFrame(model.components_, columns=data.columns)\n",
        "loadings.index = ['PC'+str(i+1) for i in range(len(pcscores.columns))]"
      ],
      "execution_count": 0,
      "outputs": []
    },
    {
      "cell_type": "code",
      "metadata": {
        "id": "ByVCZSmmprEP",
        "colab_type": "code",
        "colab": {
          "base_uri": "https://localhost:8080/",
          "height": 506
        },
        "outputId": "7086655a-0212-441b-ab4b-794e3755489d"
      },
      "source": [
        "ax = sns.heatmap(loadings.transpose(), center=0, linewidths=0.5, \n",
        "                 cmap=\"bone\", vmin=-1, vmax=1, annot=True)"
      ],
      "execution_count": 182,
      "outputs": [
        {
          "output_type": "display_data",
          "data": {
            "image/png": "[encoded data removed]",
            "text/plain": [
              "<Figure size 842.4x595.44 with 2 Axes>"
            ]
          },
          "metadata": {
            "tags": []
          }
        }
      ]
    },
    {
      "cell_type": "code",
      "metadata": {
        "id": "Uw5kvgG9AIYp",
        "colab_type": "code",
        "outputId": "35b89604-eda4-447c-be45-4858ad58660c",
        "colab": {
          "base_uri": "https://localhost:8080/",
          "height": 703
        }
      },
      "source": [
        "# Now we can plot in our points with some coloring\n",
        "\n",
        "plt.figure(figsize=(12,12))\n",
        "g = sns.scatterplot(data_reduced[:,0], data_reduced[:,1],\n",
        "                    legend='full', palette='viridis')\n",
        "\n",
        "legend = g.get_legend()"
      ],
      "execution_count": 161,
      "outputs": [
        {
          "output_type": "display_data",
          "data": {
            "image/png": "[encoded data removed]",
            "text/plain": [
              "<Figure size 864x864 with 1 Axes>"
            ]
          },
          "metadata": {
            "tags": []
          }
        }
      ]
    },
    {
      "cell_type": "markdown",
      "metadata": {
        "id": "-JKwEhKyAUWc",
        "colab_type": "text"
      },
      "source": [
        "We can certainly make things much more fancy. However, as you can see, that will require more work.\n",
        "\n",
        "We can use `Bokeh` for an interactive visualisation."
      ]
    },
    {
      "cell_type": "code",
      "metadata": {
        "id": "jRafiaJLHisG",
        "colab_type": "code",
        "colab": {}
      },
      "source": [
        "# Load the needed bokeh modules\n",
        "from bokeh.models import ColumnDataSource\n",
        "from bokeh.plotting import figure, show, output_notebook\n",
        "from bokeh.palettes import Spectral6\n",
        "from bokeh.transform import factor_cmap"
      ],
      "execution_count": 0,
      "outputs": []
    },
    {
      "cell_type": "code",
      "metadata": {
        "id": "I4nPJ2S2A5a5",
        "colab_type": "code",
        "colab": {}
      },
      "source": [
        "# Define the data that we are going to use as a dictionary\n",
        "\n",
        "d = {'y':data_reduced[:,1],'x':data_reduced[:,0], 'place': cities.place, \n",
        "     'country':cities['alpha_2'],\n",
        "     'region':cities['sub_region']}"
      ],
      "execution_count": 0,
      "outputs": []
    },
    {
      "cell_type": "code",
      "metadata": {
        "id": "1dYwOSDJAU9K",
        "colab_type": "code",
        "outputId": "48809e0d-fbd0-4f2c-cef5-2e450dfdfd8d",
        "colab": {
          "base_uri": "https://localhost:8080/",
          "height": 84
        }
      },
      "source": [
        "# Defineand transform a color-palette\n",
        "\n",
        "colors = factor_cmap('region', palette=Spectral6, factors=d['region'].unique())\n",
        "\n"
      ],
      "execution_count": 169,
      "outputs": [
        {
          "output_type": "stream",
          "text": [
            "/usr/local/lib/python3.6/dist-packages/bokeh/models/mappers.py:140: UserWarning: Palette length does not match number of factors. ['Australia and New Zealand' 'Northern Europe'\n",
            " 'Latin America and the Caribbean' 'Western Asia' 'Southern Asia'\n",
            " 'Sub-Saharan Africa' 'Northern Africa' 'Central Asia' 'Melanesia'] will be assigned to `nan_color` gray\n",
            "  warnings.warn(\"Palette length does not match number of factors. %s will be assigned to `nan_color` %s\" % (extra_factors, self.nan_color))\n"
          ],
          "name": "stderr"
        }
      ]
    },
    {
      "cell_type": "code",
      "metadata": {
        "id": "STz3jeSuDPF2",
        "colab_type": "code",
        "outputId": "2fc6f70e-9bd2-4ae8-9c40-ccf84e2e0e24",
        "colab": {
          "base_uri": "https://localhost:8080/",
          "height": 617
        }
      },
      "source": [
        "# Define interactive tooling and plot for notebook output\n",
        "output_notebook()\n",
        "\n",
        "TOOLS=\"hover,crosshair,pan,wheel_zoom,zoom_in,zoom_out,box_zoom,undo,redo,reset,tap,save,box_select,poly_select,lasso_select\"\n",
        "p = figure(tools=TOOLS)\n",
        "p.hover.tooltips = [('Place', \"@place\"),('Country', \"@country\"),('Region', \"@region\")]\n",
        "p.scatter(x='x', y='y',fill_alpha=0.8,\n",
        "          color = colors,\n",
        "          line_color = None,\n",
        "          radius = 0.1,\n",
        "          source=d)\n",
        "show(p)"
      ],
      "execution_count": 170,
      "outputs": [
        {
          "output_type": "display_data",
          "data": {
            "application/javascript": [
              "\n",
              "(function(root) {\n",
              "  function now() {\n",
              "    return new Date();\n",
              "  }\n",
              "\n",
              "  var force = true;\n",
              "\n",
              "  if (typeof root._bokeh_onload_callbacks === \"undefined\" || force === true) {\n",
              "    root._bokeh_onload_callbacks = [];\n",
              "    root._bokeh_is_loading = undefined;\n",
              "  }\n",
              "\n",
              "  var JS_MIME_TYPE = 'application/javascript';\n",
              "  var HTML_MIME_TYPE = 'text/html';\n",
              "  var EXEC_MIME_TYPE = 'application/vnd.bokehjs_exec.v0+json';\n",
              "  var CLASS_NAME = 'output_bokeh rendered_html';\n",
              "\n",
              "  /**\n",
              "   * Render data to the DOM node\n",
              "   */\n",
              "  function render(props, node) {\n",
              "    var script = document.createElement(\"script\");\n",
              "    node.appendChild(script);\n",
              "  }\n",
              "\n",
              "  /**\n",
              "   * Handle when an output is cleared or removed\n",
              "   */\n",
              "  function handleClearOutput(event, handle) {\n",
              "    var cell = handle.cell;\n",
              "\n",
              "    var id = cell.output_area._bokeh_element_id;\n",
              "    var server_id = cell.output_area._bokeh_server_id;\n",
              "    // Clean up Bokeh references\n",
              "    if (id != null && id in Bokeh.index) {\n",
              "      Bokeh.index[id].model.document.clear();\n",
              "      delete Bokeh.index[id];\n",
              "    }\n",
              "\n",
              "    if (server_id !== undefined) {\n",
              "      // Clean up Bokeh references\n",
              "      var cmd = \"from bokeh.io.state import curstate; print(curstate().uuid_to_server['\" + server_id + \"'].get_sessions()[0].document.roots[0]._id)\";\n",
              "      cell.notebook.kernel.execute(cmd, {\n",
              "        iopub: {\n",
              "          output: function(msg) {\n",
              "            var id = msg.content.text.trim();\n",
              "            if (id in Bokeh.index) {\n",
              "              Bokeh.index[id].model.document.clear();\n",
              "              delete Bokeh.index[id];\n",
              "            }\n",
              "          }\n",
              "        }\n",
              "      });\n",
              "      // Destroy server and session\n",
              "      var cmd = \"import bokeh.io.notebook as ion; ion.destroy_server('\" + server_id + \"')\";\n",
              "      cell.notebook.kernel.execute(cmd);\n",
              "    }\n",
              "  }\n",
              "\n",
              "  /**\n",
              "   * Handle when a new output is added\n",
              "   */\n",
              "  function handleAddOutput(event, handle) {\n",
              "    var output_area = handle.output_area;\n",
              "    var output = handle.output;\n",
              "\n",
              "    // limit handleAddOutput to display_data with EXEC_MIME_TYPE content only\n",
              "    if ((output.output_type != \"display_data\") || (!output.data.hasOwnProperty(EXEC_MIME_TYPE))) {\n",
              "      return\n",
              "    }\n",
              "\n",
              "    var toinsert = output_area.element.find(\".\" + CLASS_NAME.split(' ')[0]);\n",
              "\n",
              "    if (output.metadata[EXEC_MIME_TYPE][\"id\"] !== undefined) {\n",
              "      toinsert[toinsert.length - 1].firstChild.textContent = output.data[JS_MIME_TYPE];\n",
              "      // store reference to embed id on output_area\n",
              "      output_area._bokeh_element_id = output.metadata[EXEC_MIME_TYPE][\"id\"];\n",
              "    }\n",
              "    if (output.metadata[EXEC_MIME_TYPE][\"server_id\"] !== undefined) {\n",
              "      var bk_div = document.createElement(\"div\");\n",
              "      bk_div.innerHTML = output.data[HTML_MIME_TYPE];\n",
              "      var script_attrs = bk_div.children[0].attributes;\n",
              "      for (var i = 0; i < script_attrs.length; i++) {\n",
              "        toinsert[toinsert.length - 1].firstChild.setAttribute(script_attrs[i].name, script_attrs[i].value);\n",
              "      }\n",
              "      // store reference to server id on output_area\n",
              "      output_area._bokeh_server_id = output.metadata[EXEC_MIME_TYPE][\"server_id\"];\n",
              "    }\n",
              "  }\n",
              "\n",
              "  function register_renderer(events, OutputArea) {\n",
              "\n",
              "    function append_mime(data, metadata, element) {\n",
              "      // create a DOM node to render to\n",
              "      var toinsert = this.create_output_subarea(\n",
              "        metadata,\n",
              "        CLASS_NAME,\n",
              "        EXEC_MIME_TYPE\n",
              "      );\n",
              "      this.keyboard_manager.register_events(toinsert);\n",
              "      // Render to node\n",
              "      var props = {data: data, metadata: metadata[EXEC_MIME_TYPE]};\n",
              "      render(props, toinsert[toinsert.length - 1]);\n",
              "      element.append(toinsert);\n",
              "      return toinsert\n",
              "    }\n",
              "\n",
              "    /* Handle when an output is cleared or removed */\n",
              "    events.on('clear_output.CodeCell', handleClearOutput);\n",
              "    events.on('delete.Cell', handleClearOutput);\n",
              "\n",
              "    /* Handle when a new output is added */\n",
              "    events.on('output_added.OutputArea', handleAddOutput);\n",
              "\n",
              "    /**\n",
              "     * Register the mime type and append_mime function with output_area\n",
              "     */\n",
              "    OutputArea.prototype.register_mime_type(EXEC_MIME_TYPE, append_mime, {\n",
              "      /* Is output safe? */\n",
              "      safe: true,\n",
              "      /* Index of renderer in `output_area.display_order` */\n",
              "      index: 0\n",
              "    });\n",
              "  }\n",
              "\n",
              "  // register the mime type if in Jupyter Notebook environment and previously unregistered\n",
              "  if (root.Jupyter !== undefined) {\n",
              "    var events = require('base/js/events');\n",
              "    var OutputArea = require('notebook/js/outputarea').OutputArea;\n",
              "\n",
              "    if (OutputArea.prototype.mime_types().indexOf(EXEC_MIME_TYPE) == -1) {\n",
              "      register_renderer(events, OutputArea);\n",
              "    }\n",
              "  }\n",
              "\n",
              "  \n",
              "  if (typeof (root._bokeh_timeout) === \"undefined\" || force === true) {\n",
              "    root._bokeh_timeout = Date.now() + 5000;\n",
              "    root._bokeh_failed_load = false;\n",
              "  }\n",
              "\n",
              "  var NB_LOAD_WARNING = {'data': {'text/html':\n",
              "     \"<div style='background-color: #fdd'>\\n\"+\n",
              "     \"<p>\\n\"+\n",
              "     \"BokehJS does not appear to have successfully loaded. If loading BokehJS from CDN, this \\n\"+\n",
              "     \"may be due to a slow or bad network connection. Possible fixes:\\n\"+\n",
              "     \"</p>\\n\"+\n",
              "     \"<ul>\\n\"+\n",
              "     \"<li>re-rerun `output_notebook()` to attempt to load from CDN again, or</li>\\n\"+\n",
              "     \"<li>use INLINE resources instead, as so:</li>\\n\"+\n",
              "     \"</ul>\\n\"+\n",
              "     \"<code>\\n\"+\n",
              "     \"from bokeh.resources import INLINE\\n\"+\n",
              "     \"output_notebook(resources=INLINE)\\n\"+\n",
              "     \"</code>\\n\"+\n",
              "     \"</div>\"}};\n",
              "\n",
              "  function display_loaded() {\n",
              "    var el = document.getElementById(null);\n",
              "    if (el != null) {\n",
              "      el.textContent = \"BokehJS is loading...\";\n",
              "    }\n",
              "    if (root.Bokeh !== undefined) {\n",
              "      if (el != null) {\n",
              "        el.textContent = \"BokehJS \" + root.Bokeh.version + \" successfully loaded.\";\n",
              "      }\n",
              "    } else if (Date.now() < root._bokeh_timeout) {\n",
              "      setTimeout(display_loaded, 100)\n",
              "    }\n",
              "  }\n",
              "\n",
              "\n",
              "  function run_callbacks() {\n",
              "    try {\n",
              "      root._bokeh_onload_callbacks.forEach(function(callback) {\n",
              "        if (callback != null)\n",
              "          callback();\n",
              "      });\n",
              "    } finally {\n",
              "      delete root._bokeh_onload_callbacks\n",
              "    }\n",
              "    console.debug(\"Bokeh: all callbacks have finished\");\n",
              "  }\n",
              "\n",
              "  function load_libs(css_urls, js_urls, callback) {\n",
              "    if (css_urls == null) css_urls = [];\n",
              "    if (js_urls == null) js_urls = [];\n",
              "\n",
              "    root._bokeh_onload_callbacks.push(callback);\n",
              "    if (root._bokeh_is_loading > 0) {\n",
              "      console.debug(\"Bokeh: BokehJS is being loaded, scheduling callback at\", now());\n",
              "      return null;\n",
              "    }\n",
              "    if (js_urls == null || js_urls.length === 0) {\n",
              "      run_callbacks();\n",
              "      return null;\n",
              "    }\n",
              "    console.debug(\"Bokeh: BokehJS not loaded, scheduling load and callback at\", now());\n",
              "    root._bokeh_is_loading = css_urls.length + js_urls.length;\n",
              "\n",
              "    function on_load() {\n",
              "      root._bokeh_is_loading--;\n",
              "      if (root._bokeh_is_loading === 0) {\n",
              "        console.debug(\"Bokeh: all BokehJS libraries/stylesheets loaded\");\n",
              "        run_callbacks()\n",
              "      }\n",
              "    }\n",
              "\n",
              "    function on_error() {\n",
              "      console.error(\"failed to load \" + url);\n",
              "    }\n",
              "\n",
              "    for (var i = 0; i < css_urls.length; i++) {\n",
              "      var url = css_urls[i];\n",
              "      const element = document.createElement(\"link\");\n",
              "      element.onload = on_load;\n",
              "      element.onerror = on_error;\n",
              "      element.rel = \"stylesheet\";\n",
              "      element.type = \"text/css\";\n",
              "      element.href = url;\n",
              "      console.debug(\"Bokeh: injecting link tag for BokehJS stylesheet: \", url);\n",
              "      document.body.appendChild(element);\n",
              "    }\n",
              "\n",
              "    for (var i = 0; i < js_urls.length; i++) {\n",
              "      var url = js_urls[i];\n",
              "      var element = document.createElement('script');\n",
              "      element.onload = on_load;\n",
              "      element.onerror = on_error;\n",
              "      element.async = false;\n",
              "      element.src = url;\n",
              "      console.debug(\"Bokeh: injecting script tag for BokehJS library: \", url);\n",
              "      document.head.appendChild(element);\n",
              "    }\n",
              "  };\n",
              "\n",
              "  function inject_raw_css(css) {\n",
              "    const element = document.createElement(\"style\");\n",
              "    element.appendChild(document.createTextNode(css));\n",
              "    document.body.appendChild(element);\n",
              "  }\n",
              "\n",
              "  \n",
              "  var js_urls = [\"https://cdn.pydata.org/bokeh/release/bokeh-1.4.0.min.js\", \"https://cdn.pydata.org/bokeh/release/bokeh-widgets-1.4.0.min.js\", \"https://cdn.pydata.org/bokeh/release/bokeh-tables-1.4.0.min.js\", \"https://cdn.pydata.org/bokeh/release/bokeh-gl-1.4.0.min.js\"];\n",
              "  var css_urls = [];\n",
              "  \n",
              "\n",
              "  var inline_js = [\n",
              "    function(Bokeh) {\n",
              "      Bokeh.set_log_level(\"info\");\n",
              "    },\n",
              "    function(Bokeh) {\n",
              "    \n",
              "    \n",
              "    }\n",
              "  ];\n",
              "\n",
              "  function run_inline_js() {\n",
              "    \n",
              "    if (root.Bokeh !== undefined || force === true) {\n",
              "      \n",
              "    for (var i = 0; i < inline_js.length; i++) {\n",
              "      inline_js[i].call(root, root.Bokeh);\n",
              "    }\n",
              "    } else if (Date.now() < root._bokeh_timeout) {\n",
              "      setTimeout(run_inline_js, 100);\n",
              "    } else if (!root._bokeh_failed_load) {\n",
              "      console.log(\"Bokeh: BokehJS failed to load within specified timeout.\");\n",
              "      root._bokeh_failed_load = true;\n",
              "    } else if (force !== true) {\n",
              "      var cell = $(document.getElementById(null)).parents('.cell').data().cell;\n",
              "      cell.output_area.append_execute_result(NB_LOAD_WARNING)\n",
              "    }\n",
              "\n",
              "  }\n",
              "\n",
              "  if (root._bokeh_is_loading === 0) {\n",
              "    console.debug(\"Bokeh: BokehJS loaded, going straight to plotting\");\n",
              "    run_inline_js();\n",
              "  } else {\n",
              "    load_libs(css_urls, js_urls, function() {\n",
              "      console.debug(\"Bokeh: BokehJS plotting callback run at\", now());\n",
              "      run_inline_js();\n",
              "    });\n",
              "  }\n",
              "}(window));"
            ],
            "application/vnd.bokehjs_load.v0+json": "\n(function(root) {\n  function now() {\n    return new Date();\n  }\n\n  var force = true;\n\n  if (typeof root._bokeh_onload_callbacks === \"undefined\" || force === true) {\n    root._bokeh_onload_callbacks = [];\n    root._bokeh_is_loading = undefined;\n  }\n\n  \n\n  \n  if (typeof (root._bokeh_timeout) === \"undefined\" || force === true) {\n    root._bokeh_timeout = Date.now() + 5000;\n    root._bokeh_failed_load = false;\n  }\n\n  var NB_LOAD_WARNING = {'data': {'text/html':\n     \"<div style='background-color: #fdd'>\\n\"+\n     \"<p>\\n\"+\n     \"BokehJS does not appear to have successfully loaded. If loading BokehJS from CDN, this \\n\"+\n     \"may be due to a slow or bad network connection. Possible fixes:\\n\"+\n     \"</p>\\n\"+\n     \"<ul>\\n\"+\n     \"<li>re-rerun `output_notebook()` to attempt to load from CDN again, or</li>\\n\"+\n     \"<li>use INLINE resources instead, as so:</li>\\n\"+\n     \"</ul>\\n\"+\n     \"<code>\\n\"+\n     \"from bokeh.resources import INLINE\\n\"+\n     \"output_notebook(resources=INLINE)\\n\"+\n     \"</code>\\n\"+\n     \"</div>\"}};\n\n  function display_loaded() {\n    var el = document.getElementById(null);\n    if (el != null) {\n      el.textContent = \"BokehJS is loading...\";\n    }\n    if (root.Bokeh !== undefined) {\n      if (el != null) {\n        el.textContent = \"BokehJS \" + root.Bokeh.version + \" successfully loaded.\";\n      }\n    } else if (Date.now() < root._bokeh_timeout) {\n      setTimeout(display_loaded, 100)\n    }\n  }\n\n\n  function run_callbacks() {\n    try {\n      root._bokeh_onload_callbacks.forEach(function(callback) {\n        if (callback != null)\n          callback();\n      });\n    } finally {\n      delete root._bokeh_onload_callbacks\n    }\n    console.debug(\"Bokeh: all callbacks have finished\");\n  }\n\n  function load_libs(css_urls, js_urls, callback) {\n    if (css_urls == null) css_urls = [];\n    if (js_urls == null) js_urls = [];\n\n    root._bokeh_onload_callbacks.push(callback);\n    if (root._bokeh_is_loading > 0) {\n      console.debug(\"Bokeh: BokehJS is being loaded, scheduling callback at\", now());\n      return null;\n    }\n    if (js_urls == null || js_urls.length === 0) {\n      run_callbacks();\n      return null;\n    }\n    console.debug(\"Bokeh: BokehJS not loaded, scheduling load and callback at\", now());\n    root._bokeh_is_loading = css_urls.length + js_urls.length;\n\n    function on_load() {\n      root._bokeh_is_loading--;\n      if (root._bokeh_is_loading === 0) {\n        console.debug(\"Bokeh: all BokehJS libraries/stylesheets loaded\");\n        run_callbacks()\n      }\n    }\n\n    function on_error() {\n      console.error(\"failed to load \" + url);\n    }\n\n    for (var i = 0; i < css_urls.length; i++) {\n      var url = css_urls[i];\n      const element = document.createElement(\"link\");\n      element.onload = on_load;\n      element.onerror = on_error;\n      element.rel = \"stylesheet\";\n      element.type = \"text/css\";\n      element.href = url;\n      console.debug(\"Bokeh: injecting link tag for BokehJS stylesheet: \", url);\n      document.body.appendChild(element);\n    }\n\n    for (var i = 0; i < js_urls.length; i++) {\n      var url = js_urls[i];\n      var element = document.createElement('script');\n      element.onload = on_load;\n      element.onerror = on_error;\n      element.async = false;\n      element.src = url;\n      console.debug(\"Bokeh: injecting script tag for BokehJS library: \", url);\n      document.head.appendChild(element);\n    }\n  };\n\n  function inject_raw_css(css) {\n    const element = document.createElement(\"style\");\n    element.appendChild(document.createTextNode(css));\n    document.body.appendChild(element);\n  }\n\n  \n  var js_urls = [\"https://cdn.pydata.org/bokeh/release/bokeh-1.4.0.min.js\", \"https://cdn.pydata.org/bokeh/release/bokeh-widgets-1.4.0.min.js\", \"https://cdn.pydata.org/bokeh/release/bokeh-tables-1.4.0.min.js\", \"https://cdn.pydata.org/bokeh/release/bokeh-gl-1.4.0.min.js\"];\n  var css_urls = [];\n  \n\n  var inline_js = [\n    function(Bokeh) {\n      Bokeh.set_log_level(\"info\");\n    },\n    function(Bokeh) {\n    \n    \n    }\n  ];\n\n  function run_inline_js() {\n    \n    if (root.Bokeh !== undefined || force === true) {\n      \n    for (var i = 0; i < inline_js.length; i++) {\n      inline_js[i].call(root, root.Bokeh);\n    }\n    } else if (Date.now() < root._bokeh_timeout) {\n      setTimeout(run_inline_js, 100);\n    } else if (!root._bokeh_failed_load) {\n      console.log(\"Bokeh: BokehJS failed to load within specified timeout.\");\n      root._bokeh_failed_load = true;\n    } else if (force !== true) {\n      var cell = $(document.getElementById(null)).parents('.cell').data().cell;\n      cell.output_area.append_execute_result(NB_LOAD_WARNING)\n    }\n\n  }\n\n  if (root._bokeh_is_loading === 0) {\n    console.debug(\"Bokeh: BokehJS loaded, going straight to plotting\");\n    run_inline_js();\n  } else {\n    load_libs(css_urls, js_urls, function() {\n      console.debug(\"Bokeh: BokehJS plotting callback run at\", now());\n      run_inline_js();\n    });\n  }\n}(window));"
          },
          "metadata": {
            "tags": []
          }
        },
        {
          "output_type": "display_data",
          "data": {
            "text/html": [
              "\n",
              "\n",
              "\n",
              "\n",
              "\n",
              "\n",
              "  <div class=\"bk-root\" id=\"a30c0e25-1e1b-461d-8c04-dc4905035085\" data-root-id=\"1218\"></div>\n"
            ]
          },
          "metadata": {
            "tags": []
          }
        },
        {
          "output_type": "display_data",
          "data": {
            "application/javascript": [
              "(function(root) {\n",
              "  function embed_document(root) {\n",
              "    \n",
              "  var docs_json = {\"3cf83659-c1cd-4fe8-9b32-22196bf0bd9d\":{\"roots\":{\"references\":[{\"attributes\":{\"below\":[{\"id\":\"1227\",\"type\":\"LinearAxis\"}],\"center\":[{\"id\":\"1231\",\"type\":\"Grid\"},{\"id\":\"1236\",\"type\":\"Grid\"}],\"left\":[{\"id\":\"1232\",\"type\":\"LinearAxis\"}],\"renderers\":[{\"id\":\"1273\",\"type\":\"GlyphRenderer\"}],\"title\":{\"id\":\"1275\",\"type\":\"Title\"},\"toolbar\":{\"id\":\"1252\",\"type\":\"Toolbar\"},\"x_range\":{\"id\":\"1219\",\"type\":\"DataRange1d\"},\"x_scale\":{\"id\":\"1223\",\"type\":\"LinearScale\"},\"y_range\":{\"id\":\"1221\",\"type\":\"DataRange1d\"},\"y_scale\":{\"id\":\"1225\",\"type\":\"LinearScale\"}},\"id\":\"1218\",\"subtype\":\"Figure\",\"type\":\"Plot\"},{\"attributes\":{},\"id\":\"1280\",\"type\":\"BasicTickFormatter\"},{\"attributes\":{},\"id\":\"1281\",\"type\":\"UnionRenderers\"},{\"attributes\":{},\"id\":\"1238\",\"type\":\"CrosshairTool\"},{\"attributes\":{},\"id\":\"1239\",\"type\":\"PanTool\"},{\"attributes\":{},\"id\":\"1241\",\"type\":\"ZoomInTool\"},{\"attributes\":{\"formatter\":{\"id\":\"1278\",\"type\":\"BasicTickFormatter\"},\"ticker\":{\"id\":\"1228\",\"type\":\"BasicTicker\"}},\"id\":\"1227\",\"type\":\"LinearAxis\"},{\"attributes\":{\"callback\":null,\"overlay\":{\"id\":\"1284\",\"type\":\"BoxAnnotation\"}},\"id\":\"1249\",\"type\":\"BoxSelectTool\"},{\"attributes\":{\"callback\":null},\"id\":\"1247\",\"type\":\"TapTool\"},{\"attributes\":{},\"id\":\"1278\",\"type\":\"BasicTickFormatter\"},{\"attributes\":{},\"id\":\"1244\",\"type\":\"UndoTool\"},{\"attributes\":{\"active_drag\":\"auto\",\"active_inspect\":\"auto\",\"active_multi\":null,\"active_scroll\":\"auto\",\"active_tap\":\"auto\",\"tools\":[{\"id\":\"1237\",\"type\":\"HoverTool\"},{\"id\":\"1238\",\"type\":\"CrosshairTool\"},{\"id\":\"1239\",\"type\":\"PanTool\"},{\"id\":\"1240\",\"type\":\"WheelZoomTool\"},{\"id\":\"1241\",\"type\":\"ZoomInTool\"},{\"id\":\"1242\",\"type\":\"ZoomOutTool\"},{\"id\":\"1243\",\"type\":\"BoxZoomTool\"},{\"id\":\"1244\",\"type\":\"UndoTool\"},{\"id\":\"1245\",\"type\":\"RedoTool\"},{\"id\":\"1246\",\"type\":\"ResetTool\"},{\"id\":\"1247\",\"type\":\"TapTool\"},{\"id\":\"1248\",\"type\":\"SaveTool\"},{\"id\":\"1249\",\"type\":\"BoxSelectTool\"},{\"id\":\"1250\",\"type\":\"PolySelectTool\"},{\"id\":\"1251\",\"type\":\"LassoSelectTool\"}]},\"id\":\"1252\",\"type\":\"Toolbar\"},{\"attributes\":{\"callback\":null,\"tooltips\":[[\"Place\",\"@place\"],[\"Country\",\"@country\"],[\"Region\",\"@region\"]]},\"id\":\"1237\",\"type\":\"HoverTool\"},{\"attributes\":{},\"id\":\"1233\",\"type\":\"BasicTicker\"},{\"attributes\":{\"fill_alpha\":{\"value\":0.1},\"fill_color\":{\"value\":\"#1f77b4\"},\"line_alpha\":{\"value\":0.1},\"line_color\":{\"value\":\"#1f77b4\"},\"radius\":{\"units\":\"data\",\"value\":0.1},\"x\":{\"field\":\"x\"},\"y\":{\"field\":\"y\"}},\"id\":\"1272\",\"type\":\"Circle\"},{\"attributes\":{},\"id\":\"1228\",\"type\":\"BasicTicker\"},{\"attributes\":{},\"id\":\"1225\",\"type\":\"LinearScale\"},{\"attributes\":{\"fill_alpha\":{\"value\":0.8},\"fill_color\":{\"field\":\"region\",\"transform\":{\"id\":\"1217\",\"type\":\"CategoricalColorMapper\"}},\"line_color\":{\"value\":null},\"radius\":{\"units\":\"data\",\"value\":0.1},\"x\":{\"field\":\"x\"},\"y\":{\"field\":\"y\"}},\"id\":\"1271\",\"type\":\"Circle\"},{\"attributes\":{\"data_source\":{\"id\":\"1269\",\"type\":\"ColumnDataSource\"},\"glyph\":{\"id\":\"1271\",\"type\":\"Circle\"},\"hover_glyph\":null,\"muted_glyph\":null,\"nonselection_glyph\":{\"id\":\"1272\",\"type\":\"Circle\"},\"selection_glyph\":null,\"view\":{\"id\":\"1274\",\"type\":\"CDSView\"}},\"id\":\"1273\",\"type\":\"GlyphRenderer\"},{\"attributes\":{},\"id\":\"1242\",\"type\":\"ZoomOutTool\"},{\"attributes\":{\"callback\":null,\"data\":{\"country\":[\"HU\",\"TH\",\"TH\",\"TH\",\"TH\",\"TH\",\"TH\",\"TH\",\"TH\",\"TH\",\"TH\",\"TH\",\"TH\",\"TH\",\"CZ\",\"CZ\",\"TW\",\"TW\",\"TW\",\"TW\",\"TW\",\"US\",\"US\",\"US\",\"US\",\"US\",\"US\",\"US\",\"US\",\"US\",\"US\",\"US\",\"US\",\"US\",\"US\",\"US\",\"US\",\"US\",\"US\",\"US\",\"US\",\"US\",\"US\",\"US\",\"US\",\"US\",\"US\",\"US\",\"US\",\"US\",\"US\",\"US\",\"US\",\"US\",\"US\",\"US\",\"US\",\"US\",\"US\",\"US\",\"US\",\"US\",\"US\",\"US\",\"US\",\"US\",\"US\",\"US\",\"US\",\"US\",\"US\",\"US\",\"US\",\"US\",\"US\",\"US\",\"US\",\"US\",\"US\",\"US\",\"US\",\"US\",\"US\",\"US\",\"US\",\"US\",\"US\",\"US\",\"US\",\"US\",\"US\",\"US\",\"US\",\"US\",\"US\",\"US\",\"US\",\"US\",\"US\",\"US\",\"US\",\"US\",\"US\",\"US\",\"US\",\"US\",\"US\",\"US\",\"US\",\"US\",\"US\",\"US\",\"US\",\"US\",\"US\",\"US\",\"US\",\"US\",\"US\",\"US\",\"US\",\"US\",\"US\",\"US\",\"US\",\"US\",\"US\",\"US\",\"US\",\"US\",\"ES\",\"ES\",\"ES\",\"ES\",\"ES\",\"ES\",\"ES\",\"ES\",\"ES\",\"ES\",\"ES\",\"ES\",\"ES\",\"ES\",\"ES\",\"ES\",\"PT\",\"PT\",\"PT\",\"PT\",\"PT\",\"PT\",\"BE\",\"BE\",\"BE\",\"BE\",\"NZ\",\"NZ\",\"NZ\",\"NZ\",\"SE\",\"SE\",\"SE\",\"ID\",\"ID\",\"ID\",\"ID\",\"ID\",\"ID\",\"ID\",\"ID\",\"ID\",\"ID\",\"ID\",\"ID\",\"ID\",\"ID\",\"ID\",\"AR\",\"AR\",\"AR\",\"AR\",\"AR\",\"AR\",\"CA\",\"CA\",\"CA\",\"CA\",\"CA\",\"CA\",\"CA\",\"CA\",\"CA\",\"CA\",\"CA\",\"CA\",\"CA\",\"CA\",\"CA\",\"CA\",\"CA\",\"CA\",\"CA\",\"CA\",\"CA\",\"CA\",\"CA\",\"CA\",\"CA\",\"CA\",\"CA\",\"DE\",\"DE\",\"DE\",\"DE\",\"DE\",\"DE\",\"DE\",\"DE\",\"DE\",\"DE\",\"DE\",\"DE\",\"DE\",\"DE\",\"DE\",\"DE\",\"DE\",\"DE\",\"VN\",\"VN\",\"VN\",\"VN\",\"VN\",\"HK\",\"AU\",\"AU\",\"AU\",\"AU\",\"AU\",\"AU\",\"AU\",\"AU\",\"AU\",\"AU\",\"AU\",\"AU\",\"KR\",\"KR\",\"KR\",\"KR\",\"KR\",\"KR\",\"NL\",\"NL\",\"NL\",\"NL\",\"NL\",\"NL\",\"NL\",\"NL\",\"NL\",\"NL\",\"NL\",\"NL\",\"NL\",\"CH\",\"CH\",\"CH\",\"CH\",\"CH\",\"CH\",\"CH\",\"MT\",\"BR\",\"BR\",\"BR\",\"BR\",\"BR\",\"BR\",\"BR\",\"BR\",\"BR\",\"BR\",\"BR\",\"BR\",\"BR\",\"BR\",\"BR\",\"BR\",\"BR\",\"BR\",\"FR\",\"FR\",\"FR\",\"FR\",\"FR\",\"FR\",\"FR\",\"FR\",\"FR\",\"FR\",\"FR\",\"IT\",\"IT\",\"IT\",\"IT\",\"IT\",\"IT\",\"IT\",\"IT\",\"IT\",\"IT\",\"IT\",\"IT\",\"IT\",\"IT\",\"IT\",\"IT\",\"IT\",\"IT\",\"IT\",\"IT\",\"IT\",\"IT\",\"IT\",\"AT\",\"AT\",\"AT\",\"IL\",\"IL\",\"IL\",\"IL\",\"GB\",\"GB\",\"GB\",\"GB\",\"GB\",\"GB\",\"GB\",\"GB\",\"GB\",\"GB\",\"GB\",\"GB\",\"GB\",\"GB\",\"GB\",\"GB\",\"GB\",\"GB\",\"GB\",\"GB\",\"GB\",\"GB\",\"GB\",\"GB\",\"GB\",\"GB\",\"GR\",\"GR\",\"GR\",\"GR\",\"GR\",\"GR\",\"PA\",\"PA\",\"PA\",\"JP\",\"JP\",\"JP\",\"JP\",\"JP\",\"JP\",\"JP\",\"JP\",\"JP\",\"JP\",\"JP\",\"RO\",\"RO\",\"RO\",\"RO\",\"RO\",\"RO\",\"RO\",\"RO\",\"NO\",\"NO\",\"NO\",\"NO\",\"NO\",\"MX\",\"MX\",\"MX\",\"MX\",\"MX\",\"MX\",\"MX\",\"MX\",\"MX\",\"MX\",\"MX\",\"MX\",\"MX\",\"MX\",\"MX\",\"MX\",\"MX\",\"MX\",\"MX\",\"SG\",\"PL\",\"PL\",\"PL\",\"PL\",\"PL\",\"PL\",\"PL\",\"PL\",\"PL\",\"LV\",\"EE\",\"EE\",\"UY\",\"UY\",\"UA\",\"UA\",\"UA\",\"UA\",\"UA\",\"UA\",\"MO\",\"MK\",\"CN\",\"CN\",\"CN\",\"CN\",\"CN\",\"CN\",\"CN\",\"CN\",\"CN\",\"CN\",\"CN\",\"CN\",\"CN\",\"CN\",\"CN\",\"CN\",\"CN\",\"CN\",\"CN\",\"CN\",\"CN\",\"CN\",\"CN\",\"CN\",\"CN\",\"CN\",\"CN\",\"CN\",\"CN\",\"CN\",\"CN\",\"CN\",\"CN\",\"CN\",\"CN\",\"CN\",\"CN\",\"CN\",\"CN\",\"CN\",\"CN\",\"CN\",\"CN\",\"CN\",\"CN\",\"CN\",\"CN\",\"CN\",\"CN\",\"CN\",\"CN\",\"CN\",\"CN\",\"CN\",\"CN\",\"CN\",\"CN\",\"CN\",\"CN\",\"CN\",\"CN\",\"CN\",\"CN\",\"CN\",\"CN\",\"CN\",\"CN\",\"CN\",\"CN\",\"IE\",\"IE\",\"IE\",\"BY\",\"BY\",\"RU\",\"RU\",\"RU\",\"RU\",\"RU\",\"RU\",\"RU\",\"RU\",\"RU\",\"RU\",\"RU\",\"RU\",\"RU\",\"RU\",\"RU\",\"RU\",\"RU\",\"RU\",\"IN\",\"IN\",\"IN\",\"IN\",\"IN\",\"IN\",\"IN\",\"IN\",\"IN\",\"IN\",\"IN\",\"IN\",\"IN\",\"IN\",\"IN\",\"IN\",\"IN\",\"IN\",\"IN\",\"IN\",\"IN\",\"IN\",\"IN\",\"IN\",\"IN\",\"IN\",\"IN\",\"IN\",\"IN\",\"IN\",\"IN\",\"IN\",\"IN\",\"IN\",\"IN\",\"IN\",\"IN\",\"IN\",\"IN\",\"IN\",\"IN\",\"IN\",\"IN\",\"IN\",\"IN\",\"IN\",\"IN\",\"IN\",\"IN\",\"IN\",\"IN\",\"IN\",\"IN\",\"IN\",\"IN\",\"IN\",\"CL\",\"RS\",\"RS\",\"RS\",\"DK\",\"DK\",\"DK\",\"AM\",\"SK\",\"SK\",\"TR\",\"TR\",\"TR\",\"TR\",\"TR\",\"TR\",\"TR\",\"TR\",\"TR\",\"TR\",\"FI\",\"FI\",\"FI\",\"FI\",\"FI\",\"FI\",\"CY\",\"CY\",\"CY\",\"HR\",\"HR\",\"HR\",\"HR\",\"HR\",\"HR\",\"SI\",\"PR\",\"BG\",\"BG\",\"BG\",\"BG\",\"GI\",\"GE\",\"JO\",\"LT\",\"LT\",\"LT\",\"MY\",\"MY\",\"MY\",\"MY\",\"MY\",\"DO\",\"DO\",\"JM\",\"BA\",\"BA\",\"GH\",\"GH\",\"GH\",\"AE\",\"AE\",\"AE\",\"OM\",\"EC\",\"EC\",\"EC\",\"MC\",\"PE\",\"PE\",\"PE\",\"PE\",\"MA\",\"MA\",\"MA\",\"MA\",\"MA\",\"CU\",\"CO\",\"CO\",\"CO\",\"CO\",\"CO\",\"CO\",\"CO\",\"CO\",\"CO\",\"BN\",\"LU\",\"SV\",\"SV\",\"PY\",\"LK\",\"LK\",\"ME\",\"ME\",\"ME\",\"TZ\",\"SN\",\"PH\",\"PH\",\"PH\",\"PH\",\"PH\",\"PH\",\"PH\",\"MU\",\"AL\",\"BH\",\"IS\",\"SA\",\"SA\",\"SA\",\"AZ\",\"JE\",\"BZ\",\"BZ\",\"BZ\",\"MV\",\"MD\",\"ZA\",\"ZA\",\"ZA\",\"ZA\",\"ZA\",\"BD\",\"BD\",\"BD\",\"QA\",\"KZ\",\"BM\",\"KH\",\"KH\",\"NG\",\"NG\",\"NG\",\"NG\",\"NG\",\"NG\",\"KE\",\"LB\",\"BO\",\"BO\",\"BO\",\"PS\",\"PK\",\"PK\",\"PK\",\"PK\",\"PK\",\"PK\",\"PK\",\"PK\",\"NI\",\"EG\",\"EG\",\"EG\",\"EG\",\"MN\",\"GT\",\"GT\",\"MM\",\"KG\",\"LA\",\"TN\",\"IQ\",\"IQ\",\"IQ\",\"IQ\",\"IQ\",\"CD\",\"ML\",\"NP\",\"DZ\",\"RW\",\"UZ\",\"MZ\",\"CG\",\"YE\",\"ET\",\"ET\",\"UG\",\"HN\",\"TJ\",\"IR\",\"IR\",\"ZW\",\"GN\",\"CM\",\"AO\",\"AO\",\"SD\",\"VE\",\"PG\",\"SL\",\"LY\",\"SY\",\"KP\"],\"place\":[\"Budapest\",\"Chiang Mai\",\"Phuket\",\"Bangkok\",\"Ko Samui\",\"Ko Lanta\",\"Chiang Rai\",\"Pattaya\",\"Ao Nang\",\"Hua Hin\",\"Ko Pha Ngan\",\"Ko Tao\",\"Ko Phi Phi\",\"Pai\",\"Prague\",\"Brno\",\"Taipei\",\"New Taipei City\",\"Taichung\",\"Kaohsiung\",\"Tainan\",\"Austin\",\"Miami\",\"Portland\",\"San Diego\",\"Atlanta\",\"Minneapolis\",\"Oakland\",\"Houston\",\"Las Vegas\",\"Denver\",\"Seattle\",\"San Antonio\",\"Dallas\",\"Kansas City\",\"Madison\",\"Buffalo\",\"Fort Lauderdale\",\"Tampa\",\"Louisville\",\"Philadelphia\",\"New Orleans\",\"Richmond\",\"Sacramento\",\"Albuquerque\",\"Norfolk\",\"Colorado Springs\",\"Windsor\",\"Omaha\",\"Raleigh\",\"Nashville\",\"Milwaukee\",\"Phoenix\",\"Rochester\",\"Orlando\",\"Tucson\",\"Asheville\",\"Grand Rapids\",\"San Jose\",\"Pittsburgh\",\"Palo Alto\",\"Oklahoma City\",\"St. Louis\",\"Salt Lake City\",\"Charlotte\",\"Boulder\",\"Bellingham\",\"Honolulu\",\"Cincinnati\",\"Columbus\",\"Gainesville\",\"Baton Rouge\",\"Chico\",\"Flagstaff\",\"Fairfax\",\"Memphis\",\"Boise\",\"Des Moines\",\"Mount Vernon\",\"Knoxville\",\"Provo\",\"Ogden\",\"Reno\",\"Virginia Beach\",\"Battle Creek\",\"Los Angeles\",\"Newark\",\"New York City\",\"Chattanooga\",\"Park City\",\"Jacksonville\",\"Fargo\",\"Fresno\",\"Bloomington\",\"Baltimore\",\"Wichita\",\"Cleveland\",\"Key West\",\"Beacon\",\"Ann Arbor\",\"Princeton\",\"West Palm Beach\",\"Indianapolis\",\"Scottsdale\",\"Tulsa\",\"San Francisco\",\"Washington\",\"Hilo\",\"Boston\",\"Huntsville\",\"Stamford\",\"Dayton\",\"Hartford\",\"Syracuse\",\"Monterey\",\"Bedford\",\"Ithaca\",\"Santa Monica\",\"Anchorage\",\"Santa Barbara\",\"Salem\",\"Detroit\",\"York\",\"Charleston\",\"Saint Louis\",\"Fez\",\"Kobe\",\"Chicago\",\"An\\u00e1polis\",\"George Town\",\"Madrid\",\"Las Palmas\",\"Seville\",\"Valencia\",\"Barcelona\",\"Bilbao\",\"Palma De Mallorca\",\"Alicante\",\"Corralejo\",\"A Coruna\",\"Malaga\",\"Pamplona\",\"Granada\",\"Marbella\",\"Ciutadella\",\"Ibi\",\"Porto\",\"Lisbon\",\"Braga\",\"Aveiro\",\"Funchal\",\"Coimbra\",\"Brussels\",\"Antwerp\",\"Ghent\",\"Leuven\",\"Wellington\",\"Christchurch\",\"Auckland\",\"Dunedin\",\"Stockholm\",\"Gothenburg\",\"Malmo\",\"Ubud\",\"Denpasar\",\"Canggu\",\"Kuta\",\"Makassar\",\"Bandung\",\"Surabaya\",\"Malang\",\"Jakarta\",\"Cirebon\",\"Yogyakarta\",\"Surakarta\",\"Semarang\",\"Pekanbaru\",\"Batam\",\"Buenos Aires\",\"La Plata\",\"Mar del Plata\",\"Cordoba\",\"Rosario\",\"Mendoza\",\"Montreal\",\"Quebec City\",\"Halifax\",\"Ottawa\",\"Victoria\",\"Calgary\",\"Kitchener\",\"Oshawa\",\"Lethbridge\",\"Kelowna\",\"Surrey\",\"Chatham\",\"Winnipeg\",\"Saskatoon\",\"Barrie\",\"Regina\",\"Vancouver\",\"Edmonton\",\"Nanaimo\",\"St.Catharines\",\"Moncton\",\"Toronto\",\"Abbotsford\",\"Brampton\",\"Whistler\",\"Fredericton\",\"Fort McMurray\",\"Berlin\",\"Hamburg\",\"Cologne\",\"Munich\",\"Stuttgart\",\"Nuremberg\",\"Leipzig\",\"Dusseldorf\",\"Karlsruhe\",\"Bremen\",\"Jena\",\"Dresden\",\"Dortmund\",\"Aachen\",\"Hannover\",\"Heidelberg\",\"Erlangen\",\"Frankfurt\",\"Hanoi\",\"Ho Chi Minh City\",\"Hoi An\",\"Da Nang\",\"Da Lat\",\"Hong Kong\",\"Perth\",\"Wollongong\",\"Cairns\",\"Brisbane\",\"Gold Coast\",\"Hobart\",\"Sydney\",\"Melbourne\",\"Darwin\",\"Canberra\",\"Adelaide\",\"Byron Bay\",\"Seoul\",\"Daegu\",\"Busan\",\"Jeju Island\",\"Daejeon\",\"Gwangju\",\"Utrecht\",\"Groningen\",\"Rotterdam\",\"Leiden\",\"Eindhoven\",\"The Hague\",\"Nijmegen\",\"Amsterdam\",\"Haarlem\",\"Tilburg\",\"Leeuwarden\",\"Lelystad\",\"Deventer\",\"Bern\",\"Basel\",\"Zurich\",\"Geneva\",\"Lugano\",\"Interlaken\",\"Lausanne\",\"Sliema\",\"Sao Paulo\",\"Belo Horizonte\",\"Curitiba\",\"Brasilia\",\"Campinas\",\"Florianopolis\",\"Porto Alegre\",\"Goiania\",\"Vitoria\",\"Rio de Janeiro\",\"Fortaleza\",\"Sorocaba\",\"Sao Luis\",\"S\\u00e3o Jos\\u00e9 dos Campos\",\"Recife\",\"Natal\",\"Belem\",\"Joao Pessoa\",\"Bordeaux\",\"Nice\",\"Marseille\",\"Toulouse\",\"Lille\",\"Lyon\",\"Nantes\",\"Paris\",\"Grenoble\",\"Strasbourg\",\"Annecy\",\"Milan\",\"Florence\",\"Turin\",\"Pisa\",\"Padova\",\"Genoa\",\"Rome\",\"Bologna\",\"Monza\",\"Trento\",\"Modena\",\"Como\",\"Naples\",\"Trieste\",\"Venice\",\"Treviso\",\"Verona\",\"Palermo\",\"Avellino\",\"Rimini\",\"Lucca\",\"Cagliari\",\"Ferrara\",\"Vienna\",\"Salzburg\",\"Graz\",\"Tel Aviv\",\"Jerusalem\",\"Haifa\",\"Beersheba\",\"Bristol\",\"Liverpool\",\"Manchester\",\"Nottingham\",\"London\",\"Edinburgh\",\"Brighton\",\"Cambridge\",\"Glasgow\",\"Newcastle Upon Tyne\",\"Birmingham\",\"Leeds\",\"Leicester\",\"Bournemouth\",\"Oxford\",\"Norwich\",\"Cardiff\",\"Belfast\",\"Southampton\",\"Aberdeen\",\"Northampton\",\"Reading\",\"Coventry\",\"Cheltenham\",\"Portsmouth\",\"Hama\",\"Athens\",\"Thessaloniki\",\"Patras\",\"Rethymno\",\"Chania\",\"Santorini\",\"Panama City\",\"Puerto Viejo\",\"Bocas del Toro\",\"Fukuoka\",\"Nagoya\",\"Osaka\",\"Hiroshima\",\"Yokohama\",\"Sendai\",\"Sapporo\",\"Kitakyushu\",\"Tokyo\",\"Naha\",\"Kyoto\",\"Cluj\",\"Timisoara\",\"Bucharest\",\"Brasov\",\"Craiova\",\"Iasi\",\"Ploiesti\",\"Constanta\",\"Oslo\",\"Trondheim\",\"Aalesund\",\"Tromso\",\"Bergen\",\"Playa del Carmen\",\"Mexico City\",\"Cancun\",\"Guadalajara\",\"Tijuana\",\"Monterrey\",\"Queretaro\",\"Puerto Vallarta\",\"Hermosillo\",\"San Miguel de Allende\",\"Merida\",\"Toluca\",\"Puebla\",\"Tulum\",\"Oaxaca\",\"Juarez\",\"Aguascalientes\",\"Torreon\",\"San Luis Potosi\",\"Singapore\",\"Warsaw\",\"Wroc\\u0142aw\",\"Krak\\u00f3w\",\"Szczecin\",\"Lublin\",\"Gdansk\",\"Poznan\",\"Lodz\",\"Katowice\",\"Riga\",\"Tallinn\",\"Tartu\",\"Montevideo\",\"Punta del Este\",\"Kiev\",\"Lviv\",\"Kharkiv\",\"Ivano-Frankivsk\",\"Krivoy-Rog\",\"Odesa\",\"Macau\",\"Skopje\",\"Shanghai\",\"Anyang\",\"Zhongshan\",\"Shenzhen\",\"Hangzhou\",\"Dongguan\",\"Zibo\",\"Nanyang\",\"Zhoukou\",\"Nanjing\",\"Weifang\",\"Urumqi\",\"Shijiazhuang\",\"Dalian\",\"Chaoyang\",\"Kunming\",\"Haikou\",\"Fuzhou\",\"Kunshan\",\"Guiyang\",\"Huainan\",\"Cixi\",\"Changzhou\",\"Jiangmen\",\"Jinan\",\"Huai'an\",\"Jiaxing\",\"Hefei\",\"Changsha\",\"Foshan\",\"Beijing\",\"Nantong\",\"Changshu\",\"Nanchang\",\"Yiwu\",\"Xiamen\",\"Zhuhai\",\"Shantou\",\"Huizhou\",\"Wuhan\",\"Hohhot\",\"Guangzhou\",\"Datong\",\"Quanzhou\",\"Tianjin\",\"Taiyuan\",\"Wenzhou\",\"Qingdao\",\"Chongqing\",\"Chengdu\",\"Weihai\",\"Changchun\",\"Jiamusi\",\"Wuxi\",\"Linyi\",\"Yantai\",\"Anshan\",\"Suzhou\",\"Shenyang\",\"Fushun\",\"Xuzhou\",\"Zhengzhou\",\"Handan\",\"Putian\",\"Tangshan\",\"Baoding\",\"Harbin\",\"Qiqihar\",\"Qinhuangdao\",\"Dublin\",\"Cork\",\"Galway\",\"Minsk\",\"Grodno\",\"Moscow\",\"Saint Petersburg\",\"Kazan\",\"Yekaterinburg\",\"Obninsk\",\"Saratov\",\"Kaliningrad\",\"Nizhny\",\"Krasnoyarsk\",\"Izhevsk\",\"Samara\",\"Tomsk\",\"Rostov-on-Don\",\"Novosibirsk\",\"Chelyabinsk\",\"Ufa\",\"Krasnodar\",\"Vladivostok\",\"Gurgaon\",\"Visakhapatnam\",\"Chennai\",\"Raipur\",\"Chandigarh\",\"Guwahati\",\"Jodhpur\",\"Bangalore\",\"Tirupur\",\"Vijayawada\",\"Srinagar\",\"Hyderabad\",\"New Delhi\",\"Nagpur\",\"Aurangabad\",\"Jaipur\",\"Jamshedpur\",\"Lucknow\",\"Ludhiana\",\"Mumbai\",\"Kalyan\",\"Pune\",\"Varanasi\",\"Amritsar\",\"Dhanbad\",\"Gwalior\",\"Thrissur\",\"Asansol\",\"Jabalpur\",\"Surat\",\"Agra\",\"Ahmedabad\",\"Thane\",\"Vadodara\",\"Indore\",\"Noida\",\"Kannur\",\"Kollam\",\"Kanpur\",\"Bhopal\",\"Allahabad\",\"Nasik\",\"Bhubaneswar\",\"Mysore\",\"Kozhikode\",\"Coimbatore\",\"Nashik\",\"Kochi\",\"Madurai\",\"Patna\",\"Kolkata\",\"Thiruvananthapuram\",\"Goa\",\"Rajkot\",\"Kota\",\"Ranchi\",\"Santiago\",\"Belgrade\",\"Novi Sad\",\"Nis\",\"Copenhagen\",\"Aarhus\",\"Aalborg\",\"Yerevan\",\"Bratislava\",\"Kosice\",\"Adana\",\"Gaziantep\",\"Antalya\",\"Istanbul\",\"Izmir\",\"Konya\",\"Ankara\",\"Alanya\",\"Bursa\",\"Bodrum\",\"Tampere\",\"Espoo\",\"Turku\",\"Oulu\",\"Helsinki\",\"Jyvaskyla\",\"Nicosia\",\"Limassol\",\"Paphos\",\"Zadar\",\"Zagreb\",\"Split\",\"Osijek\",\"Rijeka\",\"Dubrovnik\",\"Ljubljana\",\"San Juan\",\"Sofia\",\"Plovdiv\",\"Burgas\",\"Varna\",\"Gibraltar\",\"Tbilisi\",\"Amman\",\"Vilnius\",\"Kaunas\",\"Klaipeda\",\"Kuala Lumpur\",\"Johor Bahru\",\"Kota Kinabalu\",\"Penang\",\"Ipoh\",\"Santo Domingo\",\"Jarabacoa\",\"Kingston\",\"Sarajevo\",\"Banja Luka\",\"Bruges\",\"Innsbruck\",\"Accra\",\"Dubai\",\"Sharjah\",\"Abu Dhabi\",\"Muscat\",\"Cuenca\",\"Guayaquil\",\"Quito\",\"Monaco\",\"Chachapoyas\",\"Lima\",\"Arequipa\",\"Cusco\",\"Taghazout\",\"Rabat\",\"Casablanca\",\"Agadir\",\"El Jadida\",\"Havana\",\"Bogota\",\"Cartagena\",\"Barranquilla\",\"Medell\\u00edn\",\"Bucaramanga\",\"Salento\",\"Santa Marta\",\"Pasto\",\"Cali\",\"Bandar Seri Begawan\",\"Luxembourg\",\"Salvador\",\"San Salvador\",\"Asuncion\",\"Colombo\",\"Kandy\",\"Bar\",\"Budva\",\"Podgorica\",\"Dorobo\",\"Dakar\",\"Palawan\",\"Cebu\",\"Boracay\",\"General Santos\",\"Makati\",\"Manila\",\"Davao\",\"Port Louis\",\"Tirana\",\"Manama\",\"Reykjavik\",\"Dammam\",\"Riyadh\",\"Jeddah\",\"Baku\",\"Saint Helier\",\"Caye Caulker\",\"Belize City\",\"San Pedro\",\"Male\",\"Chisinau\",\"Cape Town\",\"Pretoria\",\"Port Elizabeth\",\"Durban\",\"Johannesburg\",\"Dhaka\",\"Chittagong\",\"Khulna\",\"Doha\",\"Almaty\",\"Hamilton\",\"Siem Reap\",\"Phnom Penh\",\"Abidjan\",\"Abuja\",\"Ibadan\",\"Lagos\",\"Port Harcourt\",\"Kano\",\"Nairobi\",\"Beirut\",\"Santa Cruz\",\"Cochabamba\",\"La Paz\",\"Ramallah\",\"Lahore\",\"Faisalabad\",\"Islamabad\",\"Peshawar\",\"Rawalpindi\",\"Gujranwala\",\"Karachi\",\"Bahawalpur\",\"Managua\",\"Cairo\",\"Alexandria\",\"Port Said\",\"Dahab\",\"Ulaanbaatar\",\"Antigua\",\"Guatemala City\",\"Yangon\",\"Bishkek\",\"Vientiane\",\"Tunis\",\"Duhok\",\"Sulaymaniyah\",\"Erbil\",\"Baghdad\",\"Basra\",\"Kinshasa\",\"Bamako\",\"Kathmandu\",\"Algiers\",\"Kigali\",\"Tashkent\",\"Maputo\",\"Brazzaville\",\"Antananarivo\",\"Dar es Salaam\",\"Addis Ababa\",\"Kampala\",\"Tegucigalpa\",\"Dushanbe\",\"Isfahan\",\"Tehran\",\"Harare\",\"Conakry\",\"Yaounde\",\"Luanda\",\"Huambo\",\"Khartoum\",\"Caracas\",\"Port Moresby\",\"Freetown\",\"Tripoli\",\"Damascus\",\"Pyongyang\"],\"region\":[\"Eastern Europe\",\"South-eastern Asia\",\"South-eastern Asia\",\"South-eastern Asia\",\"South-eastern Asia\",\"South-eastern Asia\",\"South-eastern Asia\",\"South-eastern Asia\",\"South-eastern Asia\",\"South-eastern Asia\",\"South-eastern Asia\",\"South-eastern Asia\",\"South-eastern Asia\",\"South-eastern Asia\",\"Eastern Europe\",\"Eastern Europe\",\"Eastern Asia\",\"Eastern Asia\",\"Eastern Asia\",\"Eastern Asia\",\"Eastern Asia\",\"Northern America\",\"Northern America\",\"Northern America\",\"Northern America\",\"Northern America\",\"Northern America\",\"Northern America\",\"Northern America\",\"Northern America\",\"Northern America\",\"Northern America\",\"Northern America\",\"Northern America\",\"Northern America\",\"Northern America\",\"Northern America\",\"Northern America\",\"Northern America\",\"Northern America\",\"Northern America\",\"Northern America\",\"Northern America\",\"Northern America\",\"Northern America\",\"Northern America\",\"Northern America\",\"Northern America\",\"Northern America\",\"Northern America\",\"Northern America\",\"Northern America\",\"Northern America\",\"Northern America\",\"Northern America\",\"Northern America\",\"Northern America\",\"Northern America\",\"Northern America\",\"Northern America\",\"Northern America\",\"Northern America\",\"Northern America\",\"Northern America\",\"Northern America\",\"Northern America\",\"Northern America\",\"Northern America\",\"Northern America\",\"Northern America\",\"Northern America\",\"Northern America\",\"Northern America\",\"Northern America\",\"Northern America\",\"Northern America\",\"Northern America\",\"Northern America\",\"Northern America\",\"Northern America\",\"Northern America\",\"Northern America\",\"Northern America\",\"Northern America\",\"Northern America\",\"Northern America\",\"Northern America\",\"Northern America\",\"Northern America\",\"Northern America\",\"Northern America\",\"Northern America\",\"Northern America\",\"Northern America\",\"Northern America\",\"Northern America\",\"Northern America\",\"Northern America\",\"Northern America\",\"Northern America\",\"Northern America\",\"Northern America\",\"Northern America\",\"Northern America\",\"Northern America\",\"Northern America\",\"Northern America\",\"Northern America\",\"Northern America\",\"Northern America\",\"Northern America\",\"Northern America\",\"Northern America\",\"Northern America\",\"Northern America\",\"Northern America\",\"Northern America\",\"Northern America\",\"Northern America\",\"Northern America\",\"Northern America\",\"Northern America\",\"Northern America\",\"Northern America\",\"Northern America\",\"Northern America\",\"Northern America\",\"Northern America\",\"Northern America\",\"Northern America\",\"Southern Europe\",\"Southern Europe\",\"Southern Europe\",\"Southern Europe\",\"Southern Europe\",\"Southern Europe\",\"Southern Europe\",\"Southern Europe\",\"Southern Europe\",\"Southern Europe\",\"Southern Europe\",\"Southern Europe\",\"Southern Europe\",\"Southern Europe\",\"Southern Europe\",\"Southern Europe\",\"Southern Europe\",\"Southern Europe\",\"Southern Europe\",\"Southern Europe\",\"Southern Europe\",\"Southern Europe\",\"Western Europe\",\"Western Europe\",\"Western Europe\",\"Western Europe\",\"Australia and New Zealand\",\"Australia and New Zealand\",\"Australia and New Zealand\",\"Australia and New Zealand\",\"Northern Europe\",\"Northern Europe\",\"Northern Europe\",\"South-eastern Asia\",\"South-eastern Asia\",\"South-eastern Asia\",\"South-eastern Asia\",\"South-eastern Asia\",\"South-eastern Asia\",\"South-eastern Asia\",\"South-eastern Asia\",\"South-eastern Asia\",\"South-eastern Asia\",\"South-eastern Asia\",\"South-eastern Asia\",\"South-eastern Asia\",\"South-eastern Asia\",\"South-eastern Asia\",\"Latin America and the Caribbean\",\"Latin America and the Caribbean\",\"Latin America and the Caribbean\",\"Latin America and the Caribbean\",\"Latin America and the Caribbean\",\"Latin America and the Caribbean\",\"Northern America\",\"Northern America\",\"Northern America\",\"Northern America\",\"Northern America\",\"Northern America\",\"Northern America\",\"Northern America\",\"Northern America\",\"Northern America\",\"Northern America\",\"Northern America\",\"Northern America\",\"Northern America\",\"Northern America\",\"Northern America\",\"Northern America\",\"Northern America\",\"Northern America\",\"Northern America\",\"Northern America\",\"Northern America\",\"Northern America\",\"Northern America\",\"Northern America\",\"Northern America\",\"Northern America\",\"Western Europe\",\"Western Europe\",\"Western Europe\",\"Western Europe\",\"Western Europe\",\"Western Europe\",\"Western Europe\",\"Western Europe\",\"Western Europe\",\"Western Europe\",\"Western Europe\",\"Western Europe\",\"Western Europe\",\"Western Europe\",\"Western Europe\",\"Western Europe\",\"Western Europe\",\"Western Europe\",\"South-eastern Asia\",\"South-eastern Asia\",\"South-eastern Asia\",\"South-eastern Asia\",\"South-eastern Asia\",\"Eastern Asia\",\"Australia and New Zealand\",\"Australia and New Zealand\",\"Australia and New Zealand\",\"Australia and New Zealand\",\"Australia and New Zealand\",\"Australia and New Zealand\",\"Australia and New Zealand\",\"Australia and New Zealand\",\"Australia and New Zealand\",\"Australia and New Zealand\",\"Australia and New Zealand\",\"Australia and New Zealand\",\"Eastern Asia\",\"Eastern Asia\",\"Eastern Asia\",\"Eastern Asia\",\"Eastern Asia\",\"Eastern Asia\",\"Western Europe\",\"Western Europe\",\"Western Europe\",\"Western Europe\",\"Western Europe\",\"Western Europe\",\"Western Europe\",\"Western Europe\",\"Western Europe\",\"Western Europe\",\"Western Europe\",\"Western Europe\",\"Western Europe\",\"Western Europe\",\"Western Europe\",\"Western Europe\",\"Western Europe\",\"Western Europe\",\"Western Europe\",\"Western Europe\",\"Southern Europe\",\"Latin America and the Caribbean\",\"Latin America and the Caribbean\",\"Latin America and the Caribbean\",\"Latin America and the Caribbean\",\"Latin America and the Caribbean\",\"Latin America and the Caribbean\",\"Latin America and the Caribbean\",\"Latin America and the Caribbean\",\"Latin America and the Caribbean\",\"Latin America and the Caribbean\",\"Latin America and the Caribbean\",\"Latin America and the Caribbean\",\"Latin America and the Caribbean\",\"Latin America and the Caribbean\",\"Latin America and the Caribbean\",\"Latin America and the Caribbean\",\"Latin America and the Caribbean\",\"Latin America and the Caribbean\",\"Western Europe\",\"Western Europe\",\"Western Europe\",\"Western Europe\",\"Western Europe\",\"Western Europe\",\"Western Europe\",\"Western Europe\",\"Western Europe\",\"Western Europe\",\"Western Europe\",\"Southern Europe\",\"Southern Europe\",\"Southern Europe\",\"Southern Europe\",\"Southern Europe\",\"Southern Europe\",\"Southern Europe\",\"Southern Europe\",\"Southern Europe\",\"Southern Europe\",\"Southern Europe\",\"Southern Europe\",\"Southern Europe\",\"Southern Europe\",\"Southern Europe\",\"Southern Europe\",\"Southern Europe\",\"Southern Europe\",\"Southern Europe\",\"Southern Europe\",\"Southern Europe\",\"Southern Europe\",\"Southern Europe\",\"Western Europe\",\"Western Europe\",\"Western Europe\",\"Western Asia\",\"Western Asia\",\"Western Asia\",\"Western Asia\",\"Northern Europe\",\"Northern Europe\",\"Northern Europe\",\"Northern Europe\",\"Northern Europe\",\"Northern Europe\",\"Northern Europe\",\"Northern Europe\",\"Northern Europe\",\"Northern Europe\",\"Northern Europe\",\"Northern Europe\",\"Northern Europe\",\"Northern Europe\",\"Northern Europe\",\"Northern Europe\",\"Northern Europe\",\"Northern Europe\",\"Northern Europe\",\"Northern Europe\",\"Northern Europe\",\"Northern Europe\",\"Northern Europe\",\"Northern Europe\",\"Northern Europe\",\"Northern Europe\",\"Southern Europe\",\"Southern Europe\",\"Southern Europe\",\"Southern Europe\",\"Southern Europe\",\"Southern Europe\",\"Latin America and the Caribbean\",\"Latin America and the Caribbean\",\"Latin America and the Caribbean\",\"Eastern Asia\",\"Eastern Asia\",\"Eastern Asia\",\"Eastern Asia\",\"Eastern Asia\",\"Eastern Asia\",\"Eastern Asia\",\"Eastern Asia\",\"Eastern Asia\",\"Eastern Asia\",\"Eastern Asia\",\"Eastern Europe\",\"Eastern Europe\",\"Eastern Europe\",\"Eastern Europe\",\"Eastern Europe\",\"Eastern Europe\",\"Eastern Europe\",\"Eastern Europe\",\"Northern Europe\",\"Northern Europe\",\"Northern Europe\",\"Northern Europe\",\"Northern Europe\",\"Latin America and the Caribbean\",\"Latin America and the Caribbean\",\"Latin America and the Caribbean\",\"Latin America and the Caribbean\",\"Latin America and the Caribbean\",\"Latin America and the Caribbean\",\"Latin America and the Caribbean\",\"Latin America and the Caribbean\",\"Latin America and the Caribbean\",\"Latin America and the Caribbean\",\"Latin America and the Caribbean\",\"Latin America and the Caribbean\",\"Latin America and the Caribbean\",\"Latin America and the Caribbean\",\"Latin America and the Caribbean\",\"Latin America and the Caribbean\",\"Latin America and the Caribbean\",\"Latin America and the Caribbean\",\"Latin America and the Caribbean\",\"South-eastern Asia\",\"Eastern Europe\",\"Eastern Europe\",\"Eastern Europe\",\"Eastern Europe\",\"Eastern Europe\",\"Eastern Europe\",\"Eastern Europe\",\"Eastern Europe\",\"Eastern Europe\",\"Northern Europe\",\"Northern Europe\",\"Northern Europe\",\"Latin America and the Caribbean\",\"Latin America and the Caribbean\",\"Eastern Europe\",\"Eastern Europe\",\"Eastern Europe\",\"Eastern Europe\",\"Eastern Europe\",\"Eastern Europe\",\"Eastern Asia\",\"Southern Europe\",\"Eastern Asia\",\"Eastern Asia\",\"Eastern Asia\",\"Eastern Asia\",\"Eastern Asia\",\"Eastern Asia\",\"Eastern Asia\",\"Eastern Asia\",\"Eastern Asia\",\"Eastern Asia\",\"Eastern Asia\",\"Eastern Asia\",\"Eastern Asia\",\"Eastern Asia\",\"Eastern Asia\",\"Eastern Asia\",\"Eastern Asia\",\"Eastern Asia\",\"Eastern Asia\",\"Eastern Asia\",\"Eastern Asia\",\"Eastern Asia\",\"Eastern Asia\",\"Eastern Asia\",\"Eastern Asia\",\"Eastern Asia\",\"Eastern Asia\",\"Eastern Asia\",\"Eastern Asia\",\"Eastern Asia\",\"Eastern Asia\",\"Eastern Asia\",\"Eastern Asia\",\"Eastern Asia\",\"Eastern Asia\",\"Eastern Asia\",\"Eastern Asia\",\"Eastern Asia\",\"Eastern Asia\",\"Eastern Asia\",\"Eastern Asia\",\"Eastern Asia\",\"Eastern Asia\",\"Eastern Asia\",\"Eastern Asia\",\"Eastern Asia\",\"Eastern Asia\",\"Eastern Asia\",\"Eastern Asia\",\"Eastern Asia\",\"Eastern Asia\",\"Eastern Asia\",\"Eastern Asia\",\"Eastern Asia\",\"Eastern Asia\",\"Eastern Asia\",\"Eastern Asia\",\"Eastern Asia\",\"Eastern Asia\",\"Eastern Asia\",\"Eastern Asia\",\"Eastern Asia\",\"Eastern Asia\",\"Eastern Asia\",\"Eastern Asia\",\"Eastern Asia\",\"Eastern Asia\",\"Eastern Asia\",\"Eastern Asia\",\"Northern Europe\",\"Northern Europe\",\"Northern Europe\",\"Eastern Europe\",\"Eastern Europe\",\"Eastern Europe\",\"Eastern Europe\",\"Eastern Europe\",\"Eastern Europe\",\"Eastern Europe\",\"Eastern Europe\",\"Eastern Europe\",\"Eastern Europe\",\"Eastern Europe\",\"Eastern Europe\",\"Eastern Europe\",\"Eastern Europe\",\"Eastern Europe\",\"Eastern Europe\",\"Eastern Europe\",\"Eastern Europe\",\"Eastern Europe\",\"Eastern Europe\",\"Southern Asia\",\"Southern Asia\",\"Southern Asia\",\"Southern Asia\",\"Southern Asia\",\"Southern Asia\",\"Southern Asia\",\"Southern Asia\",\"Southern Asia\",\"Southern Asia\",\"Southern Asia\",\"Southern Asia\",\"Southern Asia\",\"Southern Asia\",\"Southern Asia\",\"Southern Asia\",\"Southern Asia\",\"Southern Asia\",\"Southern Asia\",\"Southern Asia\",\"Southern Asia\",\"Southern Asia\",\"Southern Asia\",\"Southern Asia\",\"Southern Asia\",\"Southern Asia\",\"Southern Asia\",\"Southern Asia\",\"Southern Asia\",\"Southern Asia\",\"Southern Asia\",\"Southern Asia\",\"Southern Asia\",\"Southern Asia\",\"Southern Asia\",\"Southern Asia\",\"Southern Asia\",\"Southern Asia\",\"Southern Asia\",\"Southern Asia\",\"Southern Asia\",\"Southern Asia\",\"Southern Asia\",\"Southern Asia\",\"Southern Asia\",\"Southern Asia\",\"Southern Asia\",\"Southern Asia\",\"Southern Asia\",\"Southern Asia\",\"Southern Asia\",\"Southern Asia\",\"Southern Asia\",\"Southern Asia\",\"Southern Asia\",\"Southern Asia\",\"Latin America and the Caribbean\",\"Southern Europe\",\"Southern Europe\",\"Southern Europe\",\"Northern Europe\",\"Northern Europe\",\"Northern Europe\",\"Western Asia\",\"Eastern Europe\",\"Eastern Europe\",\"Western Asia\",\"Western Asia\",\"Western Asia\",\"Western Asia\",\"Western Asia\",\"Western Asia\",\"Western Asia\",\"Western Asia\",\"Western Asia\",\"Western Asia\",\"Northern Europe\",\"Northern Europe\",\"Northern Europe\",\"Northern Europe\",\"Northern Europe\",\"Northern Europe\",\"Western Asia\",\"Western Asia\",\"Western Asia\",\"Southern Europe\",\"Southern Europe\",\"Southern Europe\",\"Southern Europe\",\"Southern Europe\",\"Southern Europe\",\"Southern Europe\",\"Latin America and the Caribbean\",\"Eastern Europe\",\"Eastern Europe\",\"Eastern Europe\",\"Eastern Europe\",\"Southern Europe\",\"Western Asia\",\"Western Asia\",\"Northern Europe\",\"Northern Europe\",\"Northern Europe\",\"South-eastern Asia\",\"South-eastern Asia\",\"South-eastern Asia\",\"South-eastern Asia\",\"South-eastern Asia\",\"Latin America and the Caribbean\",\"Latin America and the Caribbean\",\"Latin America and the Caribbean\",\"Southern Europe\",\"Southern Europe\",\"Sub-Saharan Africa\",\"Sub-Saharan Africa\",\"Sub-Saharan Africa\",\"Western Asia\",\"Western Asia\",\"Western Asia\",\"Western Asia\",\"Latin America and the Caribbean\",\"Latin America and the Caribbean\",\"Latin America and the Caribbean\",\"Western Europe\",\"Latin America and the Caribbean\",\"Latin America and the Caribbean\",\"Latin America and the Caribbean\",\"Latin America and the Caribbean\",\"Northern Africa\",\"Northern Africa\",\"Northern Africa\",\"Northern Africa\",\"Northern Africa\",\"Latin America and the Caribbean\",\"Latin America and the Caribbean\",\"Latin America and the Caribbean\",\"Latin America and the Caribbean\",\"Latin America and the Caribbean\",\"Latin America and the Caribbean\",\"Latin America and the Caribbean\",\"Latin America and the Caribbean\",\"Latin America and the Caribbean\",\"Latin America and the Caribbean\",\"South-eastern Asia\",\"Western Europe\",\"Latin America and the Caribbean\",\"Latin America and the Caribbean\",\"Latin America and the Caribbean\",\"Southern Asia\",\"Southern Asia\",\"Southern Europe\",\"Southern Europe\",\"Southern Europe\",\"Sub-Saharan Africa\",\"Sub-Saharan Africa\",\"South-eastern Asia\",\"South-eastern Asia\",\"South-eastern Asia\",\"South-eastern Asia\",\"South-eastern Asia\",\"South-eastern Asia\",\"South-eastern Asia\",\"Sub-Saharan Africa\",\"Southern Europe\",\"Western Asia\",\"Northern Europe\",\"Western Asia\",\"Western Asia\",\"Western Asia\",\"Western Asia\",\"Northern Europe\",\"Latin America and the Caribbean\",\"Latin America and the Caribbean\",\"Latin America and the Caribbean\",\"Southern Asia\",\"Eastern Europe\",\"Sub-Saharan Africa\",\"Sub-Saharan Africa\",\"Sub-Saharan Africa\",\"Sub-Saharan Africa\",\"Sub-Saharan Africa\",\"Southern Asia\",\"Southern Asia\",\"Southern Asia\",\"Western Asia\",\"Central Asia\",\"Northern America\",\"South-eastern Asia\",\"South-eastern Asia\",\"Sub-Saharan Africa\",\"Sub-Saharan Africa\",\"Sub-Saharan Africa\",\"Sub-Saharan Africa\",\"Sub-Saharan Africa\",\"Sub-Saharan Africa\",\"Sub-Saharan Africa\",\"Western Asia\",\"Latin America and the Caribbean\",\"Latin America and the Caribbean\",\"Latin America and the Caribbean\",\"Western Asia\",\"Southern Asia\",\"Southern Asia\",\"Southern Asia\",\"Southern Asia\",\"Southern Asia\",\"Southern Asia\",\"Southern Asia\",\"Southern Asia\",\"Latin America and the Caribbean\",\"Northern Africa\",\"Northern Africa\",\"Northern Africa\",\"Northern Africa\",\"Eastern Asia\",\"Latin America and the Caribbean\",\"Latin America and the Caribbean\",\"South-eastern Asia\",\"Central Asia\",\"South-eastern Asia\",\"Northern Africa\",\"Western Asia\",\"Western Asia\",\"Western Asia\",\"Western Asia\",\"Western Asia\",\"Sub-Saharan Africa\",\"Sub-Saharan Africa\",\"Southern Asia\",\"Northern Africa\",\"Sub-Saharan Africa\",\"Central Asia\",\"Sub-Saharan Africa\",\"Sub-Saharan Africa\",\"Western Asia\",\"Sub-Saharan Africa\",\"Sub-Saharan Africa\",\"Sub-Saharan Africa\",\"Latin America and the Caribbean\",\"Central Asia\",\"Southern Asia\",\"Southern Asia\",\"Sub-Saharan Africa\",\"Sub-Saharan Africa\",\"Sub-Saharan Africa\",\"Sub-Saharan Africa\",\"Sub-Saharan Africa\",\"Northern Africa\",\"Latin America and the Caribbean\",\"Melanesia\",\"Sub-Saharan Africa\",\"Northern Africa\",\"Western Asia\",\"Eastern Asia\"],\"x\":{\"__ndarray__\":\"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\",\"dtype\":\"float64\",\"shape\":[780]},\"y\":{\"__ndarray__\":\"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\",\"dtype\":\"float64\",\"shape\":[780]}},\"selected\":{\"id\":\"1282\",\"type\":\"Selection\"},\"selection_policy\":{\"id\":\"1281\",\"type\":\"UnionRenderers\"}},\"id\":\"1269\",\"type\":\"ColumnDataSource\"},{\"attributes\":{},\"id\":\"1245\",\"type\":\"RedoTool\"},{\"attributes\":{\"overlay\":{\"id\":\"1283\",\"type\":\"BoxAnnotation\"}},\"id\":\"1243\",\"type\":\"BoxZoomTool\"},{\"attributes\":{\"callback\":null,\"overlay\":{\"id\":\"1285\",\"type\":\"PolyAnnotation\"}},\"id\":\"1250\",\"type\":\"PolySelectTool\"},{\"attributes\":{},\"id\":\"1240\",\"type\":\"WheelZoomTool\"},{\"attributes\":{\"ticker\":{\"id\":\"1228\",\"type\":\"BasicTicker\"}},\"id\":\"1231\",\"type\":\"Grid\"},{\"attributes\":{\"callback\":null},\"id\":\"1219\",\"type\":\"DataRange1d\"},{\"attributes\":{\"fill_alpha\":{\"value\":0.5},\"fill_color\":{\"value\":\"lightgrey\"},\"level\":\"overlay\",\"line_alpha\":{\"value\":1.0},\"line_color\":{\"value\":\"black\"},\"line_dash\":[4,4],\"line_width\":{\"value\":2},\"xs_units\":\"screen\",\"ys_units\":\"screen\"},\"id\":\"1285\",\"type\":\"PolyAnnotation\"},{\"attributes\":{\"bottom_units\":\"screen\",\"fill_alpha\":{\"value\":0.5},\"fill_color\":{\"value\":\"lightgrey\"},\"left_units\":\"screen\",\"level\":\"overlay\",\"line_alpha\":{\"value\":1.0},\"line_color\":{\"value\":\"black\"},\"line_dash\":[4,4],\"line_width\":{\"value\":2},\"render_mode\":\"css\",\"right_units\":\"screen\",\"top_units\":\"screen\"},\"id\":\"1284\",\"type\":\"BoxAnnotation\"},{\"attributes\":{\"callback\":null},\"id\":\"1221\",\"type\":\"DataRange1d\"},{\"attributes\":{},\"id\":\"1223\",\"type\":\"LinearScale\"},{\"attributes\":{\"formatter\":{\"id\":\"1280\",\"type\":\"BasicTickFormatter\"},\"ticker\":{\"id\":\"1233\",\"type\":\"BasicTicker\"}},\"id\":\"1232\",\"type\":\"LinearAxis\"},{\"attributes\":{\"text\":\"\",\"text_color\":{\"value\":\"black\"},\"text_font_size\":{\"value\":\"12pt\"}},\"id\":\"1275\",\"type\":\"Title\"},{\"attributes\":{},\"id\":\"1246\",\"type\":\"ResetTool\"},{\"attributes\":{\"fill_alpha\":{\"value\":0.5},\"fill_color\":{\"value\":\"lightgrey\"},\"level\":\"overlay\",\"line_alpha\":{\"value\":1.0},\"line_color\":{\"value\":\"black\"},\"line_dash\":[4,4],\"line_width\":{\"value\":2},\"xs_units\":\"screen\",\"ys_units\":\"screen\"},\"id\":\"1286\",\"type\":\"PolyAnnotation\"},{\"attributes\":{\"source\":{\"id\":\"1269\",\"type\":\"ColumnDataSource\"}},\"id\":\"1274\",\"type\":\"CDSView\"},{\"attributes\":{},\"id\":\"1248\",\"type\":\"SaveTool\"},{\"attributes\":{},\"id\":\"1282\",\"type\":\"Selection\"},{\"attributes\":{\"callback\":null,\"overlay\":{\"id\":\"1286\",\"type\":\"PolyAnnotation\"}},\"id\":\"1251\",\"type\":\"LassoSelectTool\"},{\"attributes\":{\"bottom_units\":\"screen\",\"fill_alpha\":{\"value\":0.5},\"fill_color\":{\"value\":\"lightgrey\"},\"left_units\":\"screen\",\"level\":\"overlay\",\"line_alpha\":{\"value\":1.0},\"line_color\":{\"value\":\"black\"},\"line_dash\":[4,4],\"line_width\":{\"value\":2},\"render_mode\":\"css\",\"right_units\":\"screen\",\"top_units\":\"screen\"},\"id\":\"1283\",\"type\":\"BoxAnnotation\"},{\"attributes\":{\"dimension\":1,\"ticker\":{\"id\":\"1233\",\"type\":\"BasicTicker\"}},\"id\":\"1236\",\"type\":\"Grid\"},{\"attributes\":{\"factors\":[\"Eastern Europe\",\"South-eastern Asia\",\"Eastern Asia\",\"Northern America\",\"Southern Europe\",\"Western Europe\",\"Australia and New Zealand\",\"Northern Europe\",\"Latin America and the Caribbean\",\"Western Asia\",\"Southern Asia\",\"Sub-Saharan Africa\",\"Northern Africa\",\"Central Asia\",\"Melanesia\"],\"palette\":[\"#3288bd\",\"#99d594\",\"#e6f598\",\"#fee08b\",\"#fc8d59\",\"#d53e4f\"]},\"id\":\"1217\",\"type\":\"CategoricalColorMapper\"}],\"root_ids\":[\"1218\"]},\"title\":\"Bokeh Application\",\"version\":\"1.4.0\"}};\n",
              "  var render_items = [{\"docid\":\"3cf83659-c1cd-4fe8-9b32-22196bf0bd9d\",\"roots\":{\"1218\":\"a30c0e25-1e1b-461d-8c04-dc4905035085\"}}];\n",
              "  root.Bokeh.embed.embed_items_notebook(docs_json, render_items);\n",
              "\n",
              "  }\n",
              "  if (root.Bokeh !== undefined) {\n",
              "    embed_document(root);\n",
              "  } else {\n",
              "    var attempts = 0;\n",
              "    var timer = setInterval(function(root) {\n",
              "      if (root.Bokeh !== undefined) {\n",
              "        clearInterval(timer);\n",
              "        embed_document(root);\n",
              "      } else {\n",
              "        attempts++;\n",
              "        if (attempts > 100) {\n",
              "          clearInterval(timer);\n",
              "          console.log(\"Bokeh: ERROR: Unable to run BokehJS code because BokehJS library is missing\");\n",
              "        }\n",
              "      }\n",
              "    }, 10, root)\n",
              "  }\n",
              "})(window);"
            ],
            "application/vnd.bokehjs_exec.v0+json": ""
          },
          "metadata": {
            "tags": [],
            "application/vnd.bokehjs_exec.v0+json": {
              "id": "1218"
            }
          }
        }
      ]
    },
    {
      "cell_type": "code",
      "metadata": {
        "id": "gLEipFSODvDP",
        "colab_type": "code",
        "colab": {}
      },
      "source": [
        "#\n",
        "# TODO: DO something nice analysing the regions...\n",
        "#"
      ],
      "execution_count": 0,
      "outputs": []
    },
    {
      "cell_type": "markdown",
      "metadata": {
        "id": "1XGptE6UoKP5",
        "colab_type": "text"
      },
      "source": [
        "# Outlook"
      ]
    },
    {
      "cell_type": "markdown",
      "metadata": {
        "id": "OqFxoeQBoTVs",
        "colab_type": "text"
      },
      "source": [
        ""
      ]
    }
  ]
}