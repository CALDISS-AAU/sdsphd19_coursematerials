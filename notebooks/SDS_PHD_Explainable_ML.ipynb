{
  "nbformat": 4,
  "nbformat_minor": 0,
  "metadata": {
    "colab": {
      "name": "SDS_PHD_Explainable_ML.ipynb",
      "provenance": [],
      "private_outputs": true,
      "include_colab_link": true
    },
    "kernelspec": {
      "name": "python3",
      "display_name": "Python 3"
    }
  },
  "cells": [
    {
      "cell_type": "markdown",
      "metadata": {
        "id": "view-in-github",
        "colab_type": "text"
      },
      "source": [
        "<a href=\"https://colab.research.google.com/github/CALDISS-AAU/sdsphd19_coursematerials/blob/master/notebooks/SDS_PHD_Explainable_ML.ipynb\" target=\"_parent\"><img src=\"https://colab.research.google.com/assets/colab-badge.svg\" alt=\"Open In Colab\"/></a>"
      ]
    },
    {
      "cell_type": "code",
      "metadata": {
        "id": "8P4lpEsa5jZT",
        "colab_type": "code",
        "colab": {}
      },
      "source": [
        "# Standard stuff\n",
        "import pandas as pd #for manipulating data\n",
        "import numpy as np #for manipulating data\n",
        "import sklearn #for building models\n",
        "\n",
        "# Dataviz\n",
        "import matplotlib.pyplot as plt #for custom graphs at the end\n",
        "import seaborn as sns #for custom graphs at the end\n",
        "\n",
        "# Other tooling\n",
        "import os #needed to use Environment Variables in Domino\n",
        "import time #some of the routines take a while so we monitor the time\n",
        "\n",
        "# SML\n",
        "import xgboost as xgb #for building models\n",
        "import sklearn.ensemble #for building models\n",
        "from sklearn.model_selection import train_test_split #for creating a hold-out sample\n",
        "from sklearn import datasets # Boston Housing Data\n",
        "\n",
        "# Explainable ML&AI tools\n",
        "!pip install lime\n",
        "import lime #LIME package\n",
        "import lime.lime_tabular #the type of LIIME analysis we’ll do\n",
        "!pip install shap\n",
        "import shap #SHAP package\n",
        "import yellowbrick as yb\n",
        "!pip install pdpbox\n",
        "from pdpbox import pdp"
      ],
      "execution_count": 0,
      "outputs": []
    },
    {
      "cell_type": "markdown",
      "metadata": {
        "id": "BLA8OOnu8M83",
        "colab_type": "text"
      },
      "source": [
        "# Model"
      ]
    },
    {
      "cell_type": "code",
      "metadata": {
        "id": "UwhnXYdW8QsI",
        "colab_type": "code",
        "colab": {}
      },
      "source": [
        "from sklearn import datasets\n",
        "\n",
        "wine_data = datasets.load_wine()\n",
        "df_wine = pd.DataFrame(wine_data.data,columns=wine_data.feature_names)\n",
        "df_wine['target'] = pd.Series(wine_data.target)"
      ],
      "execution_count": 0,
      "outputs": []
    },
    {
      "cell_type": "code",
      "metadata": {
        "id": "bidw1cW_827H",
        "colab_type": "code",
        "colab": {}
      },
      "source": [
        "from sklearn.model_selection import train_test_split\n",
        "X = df_wine.drop(['target'], axis=1)\n",
        "y = df_wine['target']\n",
        "X_train, X_test, y_train, y_test = train_test_split(X, y, test_size=0.2)"
      ],
      "execution_count": 0,
      "outputs": []
    },
    {
      "cell_type": "code",
      "metadata": {
        "id": "2AeCZTtG8-WX",
        "colab_type": "code",
        "colab": {}
      },
      "source": [
        "from yellowbrick.features import Rank2D\n",
        "import matplotlib.pyplot as plt\n",
        "visualizer = Rank2D(algorithm=\"pearson\",  size=(1080, 720))\n",
        "visualizer.fit_transform(X_train)\n",
        "visualizer.poof()"
      ],
      "execution_count": 0,
      "outputs": []
    },
    {
      "cell_type": "code",
      "metadata": {
        "id": "_qTuUErW9Mvn",
        "colab_type": "code",
        "colab": {}
      },
      "source": [
        "from yellowbrick.classifier import ClassificationReport\n",
        "from sklearn.ensemble import RandomForestClassifier\n",
        "model = RandomForestClassifier()\n",
        "visualizer = ClassificationReport(model, size=(1080, 720))\n",
        "visualizer.fit(X_train, y_train)\n",
        "visualizer.score(X_test, y_test)\n",
        "visualizer.poof()"
      ],
      "execution_count": 0,
      "outputs": []
    },
    {
      "cell_type": "markdown",
      "metadata": {
        "id": "DAE3UFJt9V8u",
        "colab_type": "text"
      },
      "source": [
        "# ELI5"
      ]
    },
    {
      "cell_type": "code",
      "metadata": {
        "id": "_kuEpz279XOV",
        "colab_type": "code",
        "colab": {}
      },
      "source": [
        "import eli5\n",
        "eli5.show_weights(model, feature_names = X.columns.tolist())"
      ],
      "execution_count": 0,
      "outputs": []
    },
    {
      "cell_type": "code",
      "metadata": {
        "id": "9aKjxa6C9bIC",
        "colab_type": "code",
        "colab": {}
      },
      "source": [
        "from eli5 import show_prediction\n",
        "show_prediction(model, X_train.iloc[1], feature_names = X.columns.tolist(), \n",
        "                show_feature_values=True)"
      ],
      "execution_count": 0,
      "outputs": []
    },
    {
      "cell_type": "markdown",
      "metadata": {
        "id": "d4ak7se09mGW",
        "colab_type": "text"
      },
      "source": [
        "# Lime"
      ]
    },
    {
      "cell_type": "code",
      "metadata": {
        "id": "fqAl1Q589nZg",
        "colab_type": "code",
        "colab": {}
      },
      "source": [
        "import lime.lime_tabular\n",
        "explainer = lime.lime_tabular.LimeTabularExplainer(X_train.values,                                            \n",
        "                 feature_names=X_train.columns.values.tolist(),                                        \n",
        "                 class_names=y_train.unique())"
      ],
      "execution_count": 0,
      "outputs": []
    },
    {
      "cell_type": "code",
      "metadata": {
        "id": "KQHABGVB9sAH",
        "colab_type": "code",
        "colab": {}
      },
      "source": [
        "predict_fn = lambda x: model.predict_proba(x).astype(float)"
      ],
      "execution_count": 0,
      "outputs": []
    },
    {
      "cell_type": "code",
      "metadata": {
        "id": "m4eCzLGd9wdQ",
        "colab_type": "code",
        "colab": {}
      },
      "source": [
        "exp = explainer.explain_instance(X_test.values[1], predict_fn, num_features=6)\n",
        "exp.show_in_notebook(show_all=False)"
      ],
      "execution_count": 0,
      "outputs": []
    },
    {
      "cell_type": "markdown",
      "metadata": {
        "id": "5R2JCFWy9_Re",
        "colab_type": "text"
      },
      "source": [
        "# ML extend"
      ]
    },
    {
      "cell_type": "code",
      "metadata": {
        "id": "fzggG8iC-B9i",
        "colab_type": "code",
        "colab": {}
      },
      "source": [
        "!pip install mlxtend"
      ],
      "execution_count": 0,
      "outputs": []
    },
    {
      "cell_type": "code",
      "metadata": {
        "id": "X6qpfuzA-GG-",
        "colab_type": "code",
        "colab": {}
      },
      "source": [
        "from mlxtend.plotting import plot_decision_regions\n",
        "from mlxtend.classifier import EnsembleVoteClassifier\n",
        "\n",
        "import matplotlib.gridspec as gridspec\n",
        "import itertools \n",
        "from sklearn import model_selection\n",
        "\n",
        "from sklearn.linear_model import LogisticRegression\n",
        "from sklearn.naive_bayes import GaussianNB\n",
        "from sklearn.ensemble import RandomForestClassifier"
      ],
      "execution_count": 0,
      "outputs": []
    },
    {
      "cell_type": "code",
      "metadata": {
        "id": "Nh6tAKL8-bQR",
        "colab_type": "code",
        "colab": {}
      },
      "source": [
        "X_train_ml = X_train[['proline', 'color_intensity']].values\n",
        "y_train_ml = y_train.values"
      ],
      "execution_count": 0,
      "outputs": []
    },
    {
      "cell_type": "code",
      "metadata": {
        "id": "k60wEtSz-dnG",
        "colab_type": "code",
        "colab": {}
      },
      "source": [
        "clf1 = LogisticRegression(random_state=1)\n",
        "clf2 = RandomForestClassifier(random_state=1)\n",
        "clf3 = GaussianNB()\n",
        "eclf = EnsembleVoteClassifier(clfs=[clf1, clf2, clf3], weights=[1,1,1])\n",
        "value=1.5\n",
        "width=0.75\n",
        "gs = gridspec.GridSpec(2,2)\n",
        "fig = plt.figure(figsize=(10,8))\n",
        "labels = ['Logistic Regression', 'Random Forest', 'Naive Bayes', 'Ensemble']\n",
        "for clf, lab, grd in zip([clf1, clf2, clf3, eclf],\n",
        "                         labels,\n",
        "                         itertools.product([0, 1], repeat=2)):\n",
        "                         \n",
        "    clf.fit(X_train_ml, y_train_ml)\n",
        "    ax = plt.subplot(gs[grd[0], grd[1]])\n",
        "    fig = plot_decision_regions(X=X_train_ml, y=y_train_ml, clf=clf)\n",
        "    plt.title(lab)"
      ],
      "execution_count": 0,
      "outputs": []
    }
  ]
}