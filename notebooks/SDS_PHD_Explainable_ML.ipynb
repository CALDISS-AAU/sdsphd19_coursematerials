{
  "nbformat": 4,
  "nbformat_minor": 0,
  "metadata": {
    "colab": {
      "name": "SDS_PHD_Explainable_ML.ipynb",
      "provenance": [],
      "private_outputs": true,
      "include_colab_link": true
    },
    "kernelspec": {
      "name": "python3",
      "display_name": "Python 3"
    }
  },
  "cells": [
    {
      "cell_type": "markdown",
      "metadata": {
        "id": "view-in-github",
        "colab_type": "text"
      },
      "source": [
        "<a href=\"https://colab.research.google.com/github/CALDISS-AAU/sdsphd19_coursematerials/blob/master/notebooks/SDS_PHD_Explainable_ML.ipynb\" target=\"_parent\"><img src=\"https://colab.research.google.com/assets/colab-badge.svg\" alt=\"Open In Colab\"/></a>"
      ]
    },
    {
      "cell_type": "code",
      "metadata": {
        "id": "8P4lpEsa5jZT",
        "colab_type": "code",
        "colab": {}
      },
      "source": [
        "# Standard stuff\n",
        "import pandas as pd #for manipulating data\n",
        "import numpy as np #for manipulating data\n",
        "import sklearn #for building models\n",
        "\n",
        "# Dataviz\n",
        "import matplotlib.pyplot as plt #for custom graphs at the end\n",
        "import seaborn as sns #for custom graphs at the end\n",
        "\n",
        "# Other tooling\n",
        "import os #needed to use Environment Variables in Domino\n",
        "import time #some of the routines take a while so we monitor the time\n",
        "\n",
        "# SML\n",
        "import xgboost as xgb #for building models\n",
        "import sklearn.ensemble #for building models\n",
        "from sklearn.model_selection import train_test_split #for creating a hold-out sample\n",
        "\n",
        "# Explainable ML&AI tools\n",
        "import lime #LIME package\n",
        "import lime.lime_tabular #the type of LIIME analysis we’ll do\n",
        "import shap #SHAP package\n",
        "import yellowbrick as yb\n",
        "from pdpbox import pdp"
      ],
      "execution_count": 0,
      "outputs": []
    }
  ]
}