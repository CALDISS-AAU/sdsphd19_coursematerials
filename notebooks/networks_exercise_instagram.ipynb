{
  "nbformat": 4,
  "nbformat_minor": 0,
  "metadata": {
    "colab": {
      "name": "/networks_exercise_instagram.ipynb",
      "provenance": [],
      "private_outputs": true,
      "include_colab_link": true
    },
    "kernelspec": {
      "name": "python3",
      "display_name": "Python 3"
    }
  },
  "cells": [
    {
      "cell_type": "markdown",
      "metadata": {
        "id": "view-in-github",
        "colab_type": "text"
      },
      "source": [
        "<a href=\"https://colab.research.google.com/github/CALDISS-AAU/sdsphd19_coursematerials/blob/master/notebooks/networks_exercise_instagram.ipynb\" target=\"_parent\"><img src=\"https://colab.research.google.com/assets/colab-badge.svg\" alt=\"Open In Colab\"/></a>"
      ]
    },
    {
      "cell_type": "markdown",
      "metadata": {
        "id": "7L53IOJPRDgf",
        "colab_type": "text"
      },
      "source": [
        "# Preamble"
      ]
    },
    {
      "cell_type": "code",
      "metadata": {
        "id": "YQfgQ9a5QfTZ",
        "colab_type": "code",
        "colab": {}
      },
      "source": [
        "# STandard stuff\n",
        "import numpy as np\n",
        "import pandas as pd\n",
        "import matplotlib.pyplot as plt\n",
        "import seaborn as sb\n",
        "import itertools # Python's amazing iteration & combination library"
      ],
      "execution_count": 0,
      "outputs": []
    },
    {
      "cell_type": "code",
      "metadata": {
        "id": "EvZdilOdQ11B",
        "colab_type": "code",
        "colab": {}
      },
      "source": [
        "# For visualization\n",
        "!pip install -U bokeh\n",
        "!pip install -q holoviews\n",
        "\n",
        "# Import the libraries and link to the bokeh backend\n",
        "import holoviews as hv\n",
        "from holoviews import opts\n",
        "hv.extension('bokeh')\n",
        "from bokeh.plotting import show\n",
        "\n",
        "# Setting the default figure size a bit larger\n",
        "defaults = dict(width=750, height=750, padding=0.1,\n",
        "                xaxis=None, yaxis=None)\n",
        "hv.opts.defaults(\n",
        "    opts.EdgePaths(**defaults), opts.Graph(**defaults), opts.Nodes(**defaults))"
      ],
      "execution_count": 0,
      "outputs": []
    },
    {
      "cell_type": "code",
      "metadata": {
        "id": "tilWBAYXQoUP",
        "colab_type": "code",
        "colab": {}
      },
      "source": [
        "# Network Stuff\n",
        "import networkx as nx\n",
        "import community # `python-louvain` is implemented here\n",
        "from networkx.algorithms import bipartite # bipartite NW algos"
      ],
      "execution_count": 0,
      "outputs": []
    },
    {
      "cell_type": "code",
      "metadata": {
        "id": "JmdoxqxQRKiz",
        "colab_type": "code",
        "colab": {}
      },
      "source": [
        "# Blockmodel Stuff\n",
        "!wget https://github.com/CALDISS-AAU/sdsphd19_coursematerials/raw/master/wednesday_network-blockmodeling/blockmodeling_material.zip # downloading module and data files to googe drive session\n",
        "!unzip 'blockmodeling_material.zip' # unzipping\n",
        "\n",
        "# import the necessary modules\n",
        "import blockmodeling as bm\n",
        "import matplotlib.pyplot as plt\n",
        "import scipy as sc\n",
        "import scipy.cluster.hierarchy as sch"
      ],
      "execution_count": 0,
      "outputs": []
    },
    {
      "cell_type": "code",
      "metadata": {
        "id": "7YtLz6yARvu6",
        "colab_type": "code",
        "colab": {}
      },
      "source": [
        "# API&Scraping&instagramm\n",
        "!pip3 install instaloader # Installing instaloader\n",
        "import instaloader\n",
        "L = instaloader.Instaloader()\n",
        "\n",
        "import requests as rq # The requests library handles \"requests\" to APIs similar to a browser that requests a webpage given a URL\n",
        "from nltk.tokenize import TweetTokenizer # A bit of a transition into NLP. The tweet tokenizer from the NLTK library will help us extract the hashtags from post-text\n",
        "tknzr = TweetTokenizer()\n"
      ],
      "execution_count": 0,
      "outputs": []
    },
    {
      "cell_type": "markdown",
      "metadata": {
        "id": "GtXZbE0gQdVf",
        "colab_type": "text"
      },
      "source": [
        "# Task\n",
        "\n",
        "So guys, now its time to put it all together. Take the two notebooks by Carl, and Daniel, and Carl, and Ddo the following:\n",
        "\n",
        "1. Extract Instagram Tag infos of your choice\n",
        "2. Generate a bipartite User-Tag network\n",
        "3. Project it on either the user or the tag mode (your choice)\n",
        "4. Apply blockmodeling on it "
      ]
    },
    {
      "cell_type": "markdown",
      "metadata": {
        "id": "tJUQB3uASjJ5",
        "colab_type": "text"
      },
      "source": [
        "# Getting the data"
      ]
    },
    {
      "cell_type": "code",
      "metadata": {
        "id": "ZPBQFVS9SlLf",
        "colab_type": "code",
        "colab": {}
      },
      "source": [
        "# Instagram base url preffix\n",
        "tagurl_prefix = 'https://www.instagram.com/explore/tags/'\n",
        "\n",
        "# suffix to append to tag request url to retrieve data in JSON format\n",
        "tagurl_suffix = '/?__a=1'\n",
        "\n",
        "# suffix to end cursor when requesting posts by tag\n",
        "tagurl_endcursor = '&max_id='\n",
        "\n",
        "# a generic media post preffix (concat with media shortcode to view)\n",
        "posturl_prefix = 'https://www.instagram.com/p/'"
      ],
      "execution_count": 0,
      "outputs": []
    },
    {
      "cell_type": "code",
      "metadata": {
        "id": "kudm7HruSnet",
        "colab_type": "code",
        "colab": {}
      },
      "source": [
        "#\n",
        "# Find your own instagramm tag to explore!!!!!\n",
        "#\n",
        "tags = ['XXXXXXXXX']"
      ],
      "execution_count": 0,
      "outputs": []
    },
    {
      "cell_type": "code",
      "metadata": {
        "id": "mF91Kcc4StWe",
        "colab_type": "code",
        "colab": {}
      },
      "source": [
        "# urls to initial tags using the above url-components\n",
        "queries = [ tagurl_prefix + tag + tagurl_suffix for tag in tags ]"
      ],
      "execution_count": 0,
      "outputs": []
    },
    {
      "cell_type": "code",
      "metadata": {
        "id": "zgLWIJ8sS9nE",
        "colab_type": "code",
        "colab": {}
      },
      "source": [
        "# Getting the data\n",
        "edges = []\n",
        "for q in queries:    \n",
        "    for i in range(10): # how many iterations/deepth ?\n",
        "      r = rq.get(q).json()\n",
        "      end_cursor = r['graphql']['hashtag']['edge_hashtag_to_media']['page_info']['end_cursor']\n",
        "      edges.extend(r['graphql']['hashtag']['edge_hashtag_to_media']['edges'])\n",
        "      print(i)\n",
        "      q = q + tagurl_endcursor + end_cursor"
      ],
      "execution_count": 0,
      "outputs": []
    },
    {
      "cell_type": "code",
      "metadata": {
        "id": "JK6fo1OSTEa7",
        "colab_type": "code",
        "colab": {}
      },
      "source": [
        "edges = []\n",
        "for q in queries:    \n",
        "    for i in range(10): # how many iterations/deepth ?\n",
        "      r = rq.get(q).json()\n",
        "      end_cursor = r['graphql']['hashtag']['edge_hashtag_to_media']['page_info']['end_cursor']\n",
        "      edges.extend(r['graphql']['hashtag']['edge_hashtag_to_media']['edges'])\n",
        "      print(i)\n",
        "      q = q + tagurl_endcursor + end_cursor"
      ],
      "execution_count": 0,
      "outputs": []
    },
    {
      "cell_type": "code",
      "metadata": {
        "id": "DjxRqCz0TH-p",
        "colab_type": "code",
        "colab": {}
      },
      "source": [
        "post_dicts = [] #empty list\n",
        "\n",
        "for post in edges: #iterate all raw posts\n",
        "\n",
        "  if post['node']['edge_media_to_caption']['edges'] == []: # hop to the next if no text in the post\n",
        "    continue\n",
        "    \n",
        "  post_dict = {} # empty dictionary\n",
        "  id_owner = post['node']['owner']['id'] # pick out user-id\n",
        "  shortcode = post['node']['shortcode'] # pick out short post identifier\n",
        "  text = post['node']['edge_media_to_caption']['edges'][0]['node']['text'] # pick out post text\n",
        "  \n",
        "  # Pick hashtags from text\n",
        "  tokens = tknzr.tokenize(text)\n",
        "  tags = [x.strip('#') for x in tokens if x.startswith('#')]\n",
        "\n",
        "  # fill in dictionary with values\n",
        "  post_dict['id_owner'] = id_owner\n",
        "  post_dict['shortcode'] = shortcode\n",
        "  post_dict['tags'] = tags\n",
        "  post_dict['text'] = text\n",
        "\n",
        "  post_dicts.append(post_dict) #append the dictionary to a list of post-dictionaries"
      ],
      "execution_count": 0,
      "outputs": []
    },
    {
      "cell_type": "code",
      "metadata": {
        "id": "1JKaWfzFTNMQ",
        "colab_type": "code",
        "colab": {}
      },
      "source": [
        "# Create DF\n",
        "posts_df = pd.DataFrame(post_dicts)\n",
        "\n",
        "# Remove hashtags that are not a hashtag (emptyspace & mistakes)\n",
        "posts_df['tags'] = posts_df['tags'].map(lambda t: [x for x in t if x.isalnum()])\n",
        "\n",
        "# Kick out posts with 0 hashtags\n",
        "posts_df = posts_df[posts_df['tags'].map(len) != 0]"
      ],
      "execution_count": 0,
      "outputs": []
    },
    {
      "cell_type": "markdown",
      "metadata": {
        "id": "Nr0IEYwNTh2Q",
        "colab_type": "text"
      },
      "source": [
        "# Create a graph"
      ]
    },
    {
      "cell_type": "code",
      "metadata": {
        "id": "mBcRNVdZTri9",
        "colab_type": "code",
        "colab": {}
      },
      "source": [
        "# Create a new graph\n",
        "B = nx.Graph()\n",
        "# We need to specify the nodes for level 0 - this will be our users\n",
        "B.add_nodes_from(list(set(posts_df.id_owner)), bipartite= ***)\n",
        "# Then we need to add hashtags nodes as level 1 nodes\n",
        "B.add_nodes_from(list(set(itertools.chain(*posts_df.tags))), bipartite= ***)"
      ],
      "execution_count": 0,
      "outputs": []
    },
    {
      "cell_type": "code",
      "metadata": {
        "id": "IjA_UC_4T1u_",
        "colab_type": "code",
        "colab": {}
      },
      "source": [
        "# This quick loop will generate edges between users and hashtags\n",
        "# Every time someone mentions a #hashtag, a link is created\n",
        "\n",
        "bi_edges = []\n",
        "for i in posts_df[['id_owner','tags']].iterrows(): # we do this row-by-row since each row is a post\n",
        "  id_owner = i[1]['id_owner']\n",
        "  for j in i[1]['tags']:\n",
        "    bi_edges.append((id_owner, j)) # edges are appended to a list as a tuple (id_owner, hashtag)\n",
        "\n",
        "# Let's add the edges to our graph\n",
        "B.add_edges_from(bi_edges)"
      ],
      "execution_count": 0,
      "outputs": []
    },
    {
      "cell_type": "code",
      "metadata": {
        "id": "1IuIHgCiUIv0",
        "colab_type": "code",
        "colab": {}
      },
      "source": [
        "# Extract a set of nodes with level 0\n",
        "top_nodes = {n for n, d in B.nodes(data=True) if d['bipartite']==0}\n",
        "\n",
        "# the remaining nodes are then level 1\n",
        "bottom_nodes = set(B) - top_nodes"
      ],
      "execution_count": 0,
      "outputs": []
    },
    {
      "cell_type": "markdown",
      "metadata": {
        "id": "oqef7qUlUNq0",
        "colab_type": "text"
      },
      "source": [
        "# How your turn!"
      ]
    },
    {
      "cell_type": "code",
      "metadata": {
        "id": "jLTpjWm2URGb",
        "colab_type": "code",
        "colab": {}
      },
      "source": [
        "# Let's project this graph using a weighted projection\n",
        "G_proj = bipartite.weighted_projected_graph(B, ***)"
      ],
      "execution_count": 0,
      "outputs": []
    }
  ]
}