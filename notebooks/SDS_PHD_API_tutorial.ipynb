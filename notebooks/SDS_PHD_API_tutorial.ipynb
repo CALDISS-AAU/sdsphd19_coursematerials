{
  "nbformat": 4,
  "nbformat_minor": 0,
  "metadata": {
    "hide_input": false,
    "kernelspec": {
      "display_name": "Python 3",
      "language": "python",
      "name": "python3"
    },
    "language_info": {
      "codemirror_mode": {
        "name": "ipython",
        "version": 3
      },
      "file_extension": ".py",
      "mimetype": "text/x-python",
      "name": "python",
      "nbconvert_exporter": "python",
      "pygments_lexer": "ipython3",
      "version": "3.7.3"
    },
    "toc": {
      "base_numbering": 1,
      "nav_menu": {},
      "number_sections": true,
      "sideBar": true,
      "skip_h1_title": false,
      "title_cell": "Table of Contents",
      "title_sidebar": "Contents",
      "toc_cell": false,
      "toc_position": {},
      "toc_section_display": true,
      "toc_window_display": false
    },
    "varInspector": {
      "cols": {
        "lenName": 16,
        "lenType": 16,
        "lenVar": 40
      },
      "kernels_config": {
        "python": {
          "delete_cmd_postfix": "",
          "delete_cmd_prefix": "del ",
          "library": "var_list.py",
          "varRefreshCmd": "print(var_dic_list())"
        },
        "r": {
          "delete_cmd_postfix": ") ",
          "delete_cmd_prefix": "rm(",
          "library": "var_list.r",
          "varRefreshCmd": "cat(var_dic_list()) "
        }
      },
      "types_to_exclude": [
        "module",
        "function",
        "builtin_function_or_method",
        "instance",
        "_Feature"
      ],
      "window_display": false
    },
    "colab": {
      "name": "SDS PHD API_tutorial.ipynb",
      "provenance": [],
      "include_colab_link": true
    }
  },
  "cells": [
    {
      "cell_type": "markdown",
      "metadata": {
        "id": "view-in-github",
        "colab_type": "text"
      },
      "source": [
        "<a href=\"https://colab.research.google.com/github/CALDISS-AAU/sdsphd19_coursematerials/blob/master/notebooks/SDS_PHD_API_tutorial.ipynb\" target=\"_parent\"><img src=\"https://colab.research.google.com/assets/colab-badge.svg\" alt=\"Open In Colab\"/></a>"
      ]
    },
    {
      "cell_type": "code",
      "metadata": {
        "id": "wWvl2zzuYiVY",
        "colab_type": "code",
        "colab": {}
      },
      "source": [
        "%matplotlib inline"
      ],
      "execution_count": 0,
      "outputs": []
    },
    {
      "cell_type": "code",
      "metadata": {
        "id": "FLjdDWrEYiVn",
        "colab_type": "code",
        "colab": {}
      },
      "source": [
        "# install other packages we need\n",
        "!pip install ratelim tenacity"
      ],
      "execution_count": 0,
      "outputs": []
    },
    {
      "cell_type": "markdown",
      "metadata": {
        "id": "Zb3Oz7LRYiVr",
        "colab_type": "text"
      },
      "source": [
        "# Introduction to requests and API's"
      ]
    },
    {
      "cell_type": "markdown",
      "metadata": {
        "id": "3tZiZhchYiVt",
        "colab_type": "text"
      },
      "source": [
        "## What you will be able to do after the tutorial\n",
        "\n",
        "- Understand what a (RESTful) API is\n",
        "- Understand what a HTTP request is\n",
        "- Use Python to make requests to an API\n",
        "- Use Python to work with JSON data\n",
        "- Use Python to read JSON data into a Dataframe and plot it\n",
        "- Understand how to overcome some real-world complexities when using API's\n",
        "      \n",
        "      "
      ]
    },
    {
      "cell_type": "markdown",
      "metadata": {
        "id": "FJJNT2PoYiVu",
        "colab_type": "text"
      },
      "source": [
        "## Prerequisites\n",
        "\n",
        "Before we get started with using API's in python we need to know a little more first."
      ]
    },
    {
      "cell_type": "markdown",
      "metadata": {
        "id": "ssguGbO7YiVy",
        "colab_type": "text"
      },
      "source": [
        "### APIs : What and why\n",
        "    \n",
        "An API (Application Programming interface) is a way for two different applications to communicate. Whilst the term applies to any two programs we are using it to refer to the API of a web service that provides data.\n",
        "\n",
        "To retrieve data from an API, a request to a remote web server is made.\n",
        "\n",
        "For example, if you want to build an application which plots stock prices, you would use the API of something like google finance to request the current stock prices.\n",
        "\n",
        "APIs are useful where:\n",
        "* Data is changing quickly, e.g. stock prices\n",
        "* The whole dataset is not required, e.g. the tweets of one user\n",
        "* Repeated computation is involved, e.g. Spotify API that tells you the genre of a piece of music\n",
        "\n",
        "#### REST\n",
        "\n",
        "Most API's you come across will be RESTful, i.e. they provide a REST (REpresentational State Transfer) interface.\n",
        "\n",
        "REST uses standard HTTP commands which means that getting data from an API is similar to accessing a webpage. \n",
        "\n",
        "For example, When you type `www.duckduckgo.com` in your browser, your browser is asking the `www.duckduckgo.com` server for a webpage by making a `GET` HTTP (Hypertext Transfer Protocol) request. Making a `GET` request to a RESTful API instead retrieves data (rather than a webpage).\n",
        "\n",
        "Similarly, while your browser uses `POST` to submit the contents of a form, REST APIs use `POST` to update data.\n",
        "\n",
        "REST APIs also uses other HTTP commmands such as `PUT` - for creating data - and `DELETE` - for removing data.\n",
        "\n",
        "HTTP is a text-based protocol (the response is always text) and could return a response in any format - this is typically found in the API documentation - though data is more often than not returned in JSON format.\n",
        "\n",
        "As they are used to retrieve data `GET` requests are the most commonly used type of request, therefore we will restrict ourselves to `GET` in this tutorial.\n",
        "\n",
        "#### JSON\n",
        "\n",
        "JSON (JavaScript Object Notation) is a format for sending data, that is meant to be human readable and easy to parse (It was derived from JavaScript but is language-independent).\n",
        "\n",
        "It uses attribute-value pairs (e.g. python dictionaries `{\"name\": \"Pizza\", \"foodRanking\": 1}`) and array data-types (e.g. python lists `[1, 2, 3]`)\n",
        "\n",
        "Example JSON representation :\n",
        "```\n",
        "{\n",
        "  \"firstName\": \"Donald\",\n",
        "  \"lastName\": \"Trump\",\n",
        "  \"age\": 73,\n",
        "  \"isAlive\": true,\n",
        "  \"color\": \"orange\",\n",
        "  \"addresses\": [\n",
        "      {\n",
        "          \"streetAddress\": \"1600 Pennsylvania Avenue NW\",\n",
        "          \"city\": \"Washington, D.C.\",\n",
        "          \"state\": \"null\",\n",
        "          \"postalCode\": \"20500\",\n",
        "          \"country\": \"US\"\n",
        "      },\n",
        "      {\n",
        "          \"streetAddress\": \"721 Fifth Avenue\",\n",
        "          \"city\": \"NYC\",\n",
        "          \"state\": \"NY\",\n",
        "          \"postalCode\": \"10022\",\n",
        "          \"country\": \"US\"\n",
        "      }\n",
        "  ],\n",
        "}\n",
        "```\n",
        "\n",
        "\n",
        "#### Status codes\n",
        "\n",
        "So we've sent off some mystery `GET` request but how do we know the request was successful?\n",
        "\n",
        "Servers issue numeric [status codes](https://developer.mozilla.org/en-US/docs/Web/HTTP/Status) in response to HTTP requests that indicate whether a request has been successfully completed.\n",
        "\n",
        "Some common ones relating to `GET` requests are:\n",
        "* `200` - Success\n",
        "* `300` - The API is redirecting to a different endpoint\n",
        "* `400` - Bad request\n",
        "* `401` - Not authenticated\n",
        "* `403` - Forbidden\n",
        "* `404` - Not found\n",
        "* `429` - Too many requests"
      ]
    },
    {
      "cell_type": "markdown",
      "metadata": {
        "id": "9mbkPgcaYiV0",
        "colab_type": "text"
      },
      "source": [
        "### Pandas - the absolute basics\n",
        "\n",
        "We will be using Pandas (a contraction of 'panel' and 'data'). Pandas is a python library for doing practical, real world data analysis.\n",
        "\n",
        "Being comfortable with using pandas is a tutorial (or set of tutorials) alone$^{*}$, so don't worry if you're unfamiliar, but we will pick up the basics.\n",
        "\n",
        "\\* *(See the resources section at the end of this tutorial for more resources on pandas)*\n",
        "\n",
        "The main data-structure in pandas is the dataframe, it stores rows of observations over columns of variables. Lets see how it works..."
      ]
    },
    {
      "cell_type": "markdown",
      "metadata": {
        "id": "AWZ9tavWYiV2",
        "colab_type": "text"
      },
      "source": [
        "#### Construct a DataFrame"
      ]
    },
    {
      "cell_type": "code",
      "metadata": {
        "id": "0uNK-lghYiV3",
        "colab_type": "code",
        "outputId": "857855e2-1f8c-42a6-d8b6-876bbc39afd9",
        "colab": {}
      },
      "source": [
        "import pandas as pd  # Import the package\n",
        "\n",
        "# Some input data - a small sample of the iris dataset\n",
        "data = {\n",
        "    'sepal_length': [6.9, 6.9, 4.8, 5.4, 4.6],\n",
        "    'sepal_width': [3.2, 3.1, 3.4, 3.0, 3.6],\n",
        "    'petal_length': [5.7, 5.1, 1.9, 4.5, 1.0],\n",
        "    'petal_width': [2.3, 2.3, 0.2, 1.5, 0.2],\n",
        "    'species': ['virginica', 'virginica', 'setosa', 'versicolor', 'setosa']\n",
        "}\n",
        "\n",
        "df = pd.DataFrame(data)\n",
        "\n",
        "df # Typing a variable at the end of a cell will print it out"
      ],
      "execution_count": 0,
      "outputs": [
        {
          "output_type": "execute_result",
          "data": {
            "text/html": [
              "<div>\n",
              "<style scoped>\n",
              "    .dataframe tbody tr th:only-of-type {\n",
              "        vertical-align: middle;\n",
              "    }\n",
              "\n",
              "    .dataframe tbody tr th {\n",
              "        vertical-align: top;\n",
              "    }\n",
              "\n",
              "    .dataframe thead th {\n",
              "        text-align: right;\n",
              "    }\n",
              "</style>\n",
              "<table border=\"1\" class=\"dataframe\">\n",
              "  <thead>\n",
              "    <tr style=\"text-align: right;\">\n",
              "      <th></th>\n",
              "      <th>sepal_length</th>\n",
              "      <th>sepal_width</th>\n",
              "      <th>petal_length</th>\n",
              "      <th>petal_width</th>\n",
              "      <th>species</th>\n",
              "    </tr>\n",
              "  </thead>\n",
              "  <tbody>\n",
              "    <tr>\n",
              "      <td>0</td>\n",
              "      <td>6.9</td>\n",
              "      <td>3.2</td>\n",
              "      <td>5.7</td>\n",
              "      <td>2.3</td>\n",
              "      <td>virginica</td>\n",
              "    </tr>\n",
              "    <tr>\n",
              "      <td>1</td>\n",
              "      <td>6.9</td>\n",
              "      <td>3.1</td>\n",
              "      <td>5.1</td>\n",
              "      <td>2.3</td>\n",
              "      <td>virginica</td>\n",
              "    </tr>\n",
              "    <tr>\n",
              "      <td>2</td>\n",
              "      <td>4.8</td>\n",
              "      <td>3.4</td>\n",
              "      <td>1.9</td>\n",
              "      <td>0.2</td>\n",
              "      <td>setosa</td>\n",
              "    </tr>\n",
              "    <tr>\n",
              "      <td>3</td>\n",
              "      <td>5.4</td>\n",
              "      <td>3.0</td>\n",
              "      <td>4.5</td>\n",
              "      <td>1.5</td>\n",
              "      <td>versicolor</td>\n",
              "    </tr>\n",
              "    <tr>\n",
              "      <td>4</td>\n",
              "      <td>4.6</td>\n",
              "      <td>3.6</td>\n",
              "      <td>1.0</td>\n",
              "      <td>0.2</td>\n",
              "      <td>setosa</td>\n",
              "    </tr>\n",
              "  </tbody>\n",
              "</table>\n",
              "</div>"
            ],
            "text/plain": [
              "   sepal_length  sepal_width  petal_length  petal_width     species\n",
              "0           6.9          3.2           5.7          2.3   virginica\n",
              "1           6.9          3.1           5.1          2.3   virginica\n",
              "2           4.8          3.4           1.9          0.2      setosa\n",
              "3           5.4          3.0           4.5          1.5  versicolor\n",
              "4           4.6          3.6           1.0          0.2      setosa"
            ]
          },
          "metadata": {
            "tags": []
          },
          "execution_count": 2
        }
      ]
    },
    {
      "cell_type": "markdown",
      "metadata": {
        "id": "Qw0mxrDnYiV8",
        "colab_type": "text"
      },
      "source": [
        "#### Indexes"
      ]
    },
    {
      "cell_type": "code",
      "metadata": {
        "id": "_VYau8geYiV9",
        "colab_type": "code",
        "outputId": "a69a65b0-cc03-4f73-f104-ffb05eb13c9e",
        "colab": {}
      },
      "source": [
        "df.index  # Access the index"
      ],
      "execution_count": 0,
      "outputs": [
        {
          "output_type": "execute_result",
          "data": {
            "text/plain": [
              "RangeIndex(start=0, stop=5, step=1)"
            ]
          },
          "metadata": {
            "tags": []
          },
          "execution_count": 3
        }
      ]
    },
    {
      "cell_type": "code",
      "metadata": {
        "id": "RF43QwlBYiWF",
        "colab_type": "code",
        "outputId": "7ade4d7f-8e02-4033-9b9d-4344577249c4",
        "colab": {}
      },
      "source": [
        "# Change the index\n",
        "df.index = [2, 3, 4, 5, 6]\n",
        "print(df.index)  # Access the index\n",
        "df"
      ],
      "execution_count": 0,
      "outputs": [
        {
          "output_type": "stream",
          "text": [
            "Int64Index([2, 3, 4, 5, 6], dtype='int64')\n"
          ],
          "name": "stdout"
        },
        {
          "output_type": "execute_result",
          "data": {
            "text/html": [
              "<div>\n",
              "<style scoped>\n",
              "    .dataframe tbody tr th:only-of-type {\n",
              "        vertical-align: middle;\n",
              "    }\n",
              "\n",
              "    .dataframe tbody tr th {\n",
              "        vertical-align: top;\n",
              "    }\n",
              "\n",
              "    .dataframe thead th {\n",
              "        text-align: right;\n",
              "    }\n",
              "</style>\n",
              "<table border=\"1\" class=\"dataframe\">\n",
              "  <thead>\n",
              "    <tr style=\"text-align: right;\">\n",
              "      <th></th>\n",
              "      <th>sepal_length</th>\n",
              "      <th>sepal_width</th>\n",
              "      <th>petal_length</th>\n",
              "      <th>petal_width</th>\n",
              "      <th>species</th>\n",
              "    </tr>\n",
              "  </thead>\n",
              "  <tbody>\n",
              "    <tr>\n",
              "      <td>2</td>\n",
              "      <td>6.9</td>\n",
              "      <td>3.2</td>\n",
              "      <td>5.7</td>\n",
              "      <td>2.3</td>\n",
              "      <td>virginica</td>\n",
              "    </tr>\n",
              "    <tr>\n",
              "      <td>3</td>\n",
              "      <td>6.9</td>\n",
              "      <td>3.1</td>\n",
              "      <td>5.1</td>\n",
              "      <td>2.3</td>\n",
              "      <td>virginica</td>\n",
              "    </tr>\n",
              "    <tr>\n",
              "      <td>4</td>\n",
              "      <td>4.8</td>\n",
              "      <td>3.4</td>\n",
              "      <td>1.9</td>\n",
              "      <td>0.2</td>\n",
              "      <td>setosa</td>\n",
              "    </tr>\n",
              "    <tr>\n",
              "      <td>5</td>\n",
              "      <td>5.4</td>\n",
              "      <td>3.0</td>\n",
              "      <td>4.5</td>\n",
              "      <td>1.5</td>\n",
              "      <td>versicolor</td>\n",
              "    </tr>\n",
              "    <tr>\n",
              "      <td>6</td>\n",
              "      <td>4.6</td>\n",
              "      <td>3.6</td>\n",
              "      <td>1.0</td>\n",
              "      <td>0.2</td>\n",
              "      <td>setosa</td>\n",
              "    </tr>\n",
              "  </tbody>\n",
              "</table>\n",
              "</div>"
            ],
            "text/plain": [
              "   sepal_length  sepal_width  petal_length  petal_width     species\n",
              "2           6.9          3.2           5.7          2.3   virginica\n",
              "3           6.9          3.1           5.1          2.3   virginica\n",
              "4           4.8          3.4           1.9          0.2      setosa\n",
              "5           5.4          3.0           4.5          1.5  versicolor\n",
              "6           4.6          3.6           1.0          0.2      setosa"
            ]
          },
          "metadata": {
            "tags": []
          },
          "execution_count": 4
        }
      ]
    },
    {
      "cell_type": "code",
      "metadata": {
        "id": "bIxdGrdqYiWJ",
        "colab_type": "code",
        "outputId": "5c7c439c-e4ed-4787-94d8-c43ce57c2f25",
        "colab": {}
      },
      "source": [
        "df.index = df.index - 1  # Change the index\n",
        "df.index  # Access the index"
      ],
      "execution_count": 0,
      "outputs": [
        {
          "output_type": "execute_result",
          "data": {
            "text/plain": [
              "Int64Index([1, 2, 3, 4, 5], dtype='int64')"
            ]
          },
          "metadata": {
            "tags": []
          },
          "execution_count": 5
        }
      ]
    },
    {
      "cell_type": "markdown",
      "metadata": {
        "id": "aAemDxKbYiWN",
        "colab_type": "text"
      },
      "source": [
        "#### COLUMNS"
      ]
    },
    {
      "cell_type": "code",
      "metadata": {
        "id": "rHA8s9AjYiWP",
        "colab_type": "code",
        "outputId": "c99d24a1-cf58-4978-b465-b04832da7a9e",
        "colab": {}
      },
      "source": [
        "df.columns  # Access the columns"
      ],
      "execution_count": 0,
      "outputs": [
        {
          "output_type": "execute_result",
          "data": {
            "text/plain": [
              "Index(['sepal_length', 'sepal_width', 'petal_length', 'petal_width',\n",
              "       'species'],\n",
              "      dtype='object')"
            ]
          },
          "metadata": {
            "tags": []
          },
          "execution_count": 6
        }
      ]
    },
    {
      "cell_type": "code",
      "metadata": {
        "id": "Si5iaowjYiWY",
        "colab_type": "code",
        "outputId": "b1caf50b-fb25-4ee2-f412-f0a6ac7526d8",
        "colab": {}
      },
      "source": [
        "# Change the columns\n",
        "df.columns = ['sepal_length', 'sepal_width', \n",
        "              'petal_length', 'petal_width', 'SPECIES']\n",
        "print(df.columns)\n",
        "df"
      ],
      "execution_count": 0,
      "outputs": [
        {
          "output_type": "stream",
          "text": [
            "Index(['sepal_length', 'sepal_width', 'petal_length', 'petal_width',\n",
            "       'SPECIES'],\n",
            "      dtype='object')\n"
          ],
          "name": "stdout"
        },
        {
          "output_type": "execute_result",
          "data": {
            "text/html": [
              "<div>\n",
              "<style scoped>\n",
              "    .dataframe tbody tr th:only-of-type {\n",
              "        vertical-align: middle;\n",
              "    }\n",
              "\n",
              "    .dataframe tbody tr th {\n",
              "        vertical-align: top;\n",
              "    }\n",
              "\n",
              "    .dataframe thead th {\n",
              "        text-align: right;\n",
              "    }\n",
              "</style>\n",
              "<table border=\"1\" class=\"dataframe\">\n",
              "  <thead>\n",
              "    <tr style=\"text-align: right;\">\n",
              "      <th></th>\n",
              "      <th>sepal_length</th>\n",
              "      <th>sepal_width</th>\n",
              "      <th>petal_length</th>\n",
              "      <th>petal_width</th>\n",
              "      <th>SPECIES</th>\n",
              "    </tr>\n",
              "  </thead>\n",
              "  <tbody>\n",
              "    <tr>\n",
              "      <td>1</td>\n",
              "      <td>6.9</td>\n",
              "      <td>3.2</td>\n",
              "      <td>5.7</td>\n",
              "      <td>2.3</td>\n",
              "      <td>virginica</td>\n",
              "    </tr>\n",
              "    <tr>\n",
              "      <td>2</td>\n",
              "      <td>6.9</td>\n",
              "      <td>3.1</td>\n",
              "      <td>5.1</td>\n",
              "      <td>2.3</td>\n",
              "      <td>virginica</td>\n",
              "    </tr>\n",
              "    <tr>\n",
              "      <td>3</td>\n",
              "      <td>4.8</td>\n",
              "      <td>3.4</td>\n",
              "      <td>1.9</td>\n",
              "      <td>0.2</td>\n",
              "      <td>setosa</td>\n",
              "    </tr>\n",
              "    <tr>\n",
              "      <td>4</td>\n",
              "      <td>5.4</td>\n",
              "      <td>3.0</td>\n",
              "      <td>4.5</td>\n",
              "      <td>1.5</td>\n",
              "      <td>versicolor</td>\n",
              "    </tr>\n",
              "    <tr>\n",
              "      <td>5</td>\n",
              "      <td>4.6</td>\n",
              "      <td>3.6</td>\n",
              "      <td>1.0</td>\n",
              "      <td>0.2</td>\n",
              "      <td>setosa</td>\n",
              "    </tr>\n",
              "  </tbody>\n",
              "</table>\n",
              "</div>"
            ],
            "text/plain": [
              "   sepal_length  sepal_width  petal_length  petal_width     SPECIES\n",
              "1           6.9          3.2           5.7          2.3   virginica\n",
              "2           6.9          3.1           5.1          2.3   virginica\n",
              "3           4.8          3.4           1.9          0.2      setosa\n",
              "4           5.4          3.0           4.5          1.5  versicolor\n",
              "5           4.6          3.6           1.0          0.2      setosa"
            ]
          },
          "metadata": {
            "tags": []
          },
          "execution_count": 7
        }
      ]
    },
    {
      "cell_type": "code",
      "metadata": {
        "id": "I3QVLgHCYiWc",
        "colab_type": "code",
        "outputId": "d669fe54-fcc2-444a-8100-32dcb765df49",
        "colab": {}
      },
      "source": [
        "# Apply the `str.lower` function to every column\n",
        "df.columns = map(str.lower, df.columns)\n",
        "df.columns  # Access the columns"
      ],
      "execution_count": 0,
      "outputs": [
        {
          "output_type": "execute_result",
          "data": {
            "text/plain": [
              "Index(['sepal_length', 'sepal_width', 'petal_length', 'petal_width',\n",
              "       'species'],\n",
              "      dtype='object')"
            ]
          },
          "metadata": {
            "tags": []
          },
          "execution_count": 8
        }
      ]
    },
    {
      "cell_type": "markdown",
      "metadata": {
        "id": "dGyzC3KZYiWg",
        "colab_type": "text"
      },
      "source": [
        "#### Accessing columns"
      ]
    },
    {
      "cell_type": "code",
      "metadata": {
        "id": "IyYk3rEfYiWj",
        "colab_type": "code",
        "outputId": "4b2d8fa9-beab-456f-f414-6028e4abd820",
        "colab": {}
      },
      "source": [
        "# Access one column \n",
        "df.loc[:, 'sepal_length']"
      ],
      "execution_count": 0,
      "outputs": [
        {
          "output_type": "execute_result",
          "data": {
            "text/plain": [
              "1    6.9\n",
              "2    6.9\n",
              "3    4.8\n",
              "4    5.4\n",
              "5    4.6\n",
              "Name: sepal_length, dtype: float64"
            ]
          },
          "metadata": {
            "tags": []
          },
          "execution_count": 9
        }
      ]
    },
    {
      "cell_type": "code",
      "metadata": {
        "id": "pmqZV0j3YiWo",
        "colab_type": "code",
        "outputId": "e32bad12-6cb1-47c9-b974-e63ad7b7cc77",
        "colab": {}
      },
      "source": [
        "# Access one column (short-hand)\n",
        "df['sepal_length']"
      ],
      "execution_count": 0,
      "outputs": [
        {
          "output_type": "execute_result",
          "data": {
            "text/plain": [
              "1    6.9\n",
              "2    6.9\n",
              "3    4.8\n",
              "4    5.4\n",
              "5    4.6\n",
              "Name: sepal_length, dtype: float64"
            ]
          },
          "metadata": {
            "tags": []
          },
          "execution_count": 10
        }
      ]
    },
    {
      "cell_type": "code",
      "metadata": {
        "id": "kBD9qaT9YiWs",
        "colab_type": "code",
        "outputId": "9d23d786-3c01-4a6f-8e52-0fe0a85ba69a",
        "colab": {}
      },
      "source": [
        "# Access two columns\n",
        "df.loc[:, ['sepal_length', 'sepal_width']]"
      ],
      "execution_count": 0,
      "outputs": [
        {
          "output_type": "execute_result",
          "data": {
            "text/html": [
              "<div>\n",
              "<style scoped>\n",
              "    .dataframe tbody tr th:only-of-type {\n",
              "        vertical-align: middle;\n",
              "    }\n",
              "\n",
              "    .dataframe tbody tr th {\n",
              "        vertical-align: top;\n",
              "    }\n",
              "\n",
              "    .dataframe thead th {\n",
              "        text-align: right;\n",
              "    }\n",
              "</style>\n",
              "<table border=\"1\" class=\"dataframe\">\n",
              "  <thead>\n",
              "    <tr style=\"text-align: right;\">\n",
              "      <th></th>\n",
              "      <th>sepal_length</th>\n",
              "      <th>sepal_width</th>\n",
              "    </tr>\n",
              "  </thead>\n",
              "  <tbody>\n",
              "    <tr>\n",
              "      <td>1</td>\n",
              "      <td>6.9</td>\n",
              "      <td>3.2</td>\n",
              "    </tr>\n",
              "    <tr>\n",
              "      <td>2</td>\n",
              "      <td>6.9</td>\n",
              "      <td>3.1</td>\n",
              "    </tr>\n",
              "    <tr>\n",
              "      <td>3</td>\n",
              "      <td>4.8</td>\n",
              "      <td>3.4</td>\n",
              "    </tr>\n",
              "    <tr>\n",
              "      <td>4</td>\n",
              "      <td>5.4</td>\n",
              "      <td>3.0</td>\n",
              "    </tr>\n",
              "    <tr>\n",
              "      <td>5</td>\n",
              "      <td>4.6</td>\n",
              "      <td>3.6</td>\n",
              "    </tr>\n",
              "  </tbody>\n",
              "</table>\n",
              "</div>"
            ],
            "text/plain": [
              "   sepal_length  sepal_width\n",
              "1           6.9          3.2\n",
              "2           6.9          3.1\n",
              "3           4.8          3.4\n",
              "4           5.4          3.0\n",
              "5           4.6          3.6"
            ]
          },
          "metadata": {
            "tags": []
          },
          "execution_count": 11
        }
      ]
    },
    {
      "cell_type": "code",
      "metadata": {
        "id": "EKSwNDaQYiWw",
        "colab_type": "code",
        "outputId": "cba356bd-b08b-435d-cca6-da987de2e12a",
        "colab": {}
      },
      "source": [
        "# Access two columns (short-hand)\n",
        "df[['sepal_length', 'sepal_width']]"
      ],
      "execution_count": 0,
      "outputs": [
        {
          "output_type": "execute_result",
          "data": {
            "text/html": [
              "<div>\n",
              "<style scoped>\n",
              "    .dataframe tbody tr th:only-of-type {\n",
              "        vertical-align: middle;\n",
              "    }\n",
              "\n",
              "    .dataframe tbody tr th {\n",
              "        vertical-align: top;\n",
              "    }\n",
              "\n",
              "    .dataframe thead th {\n",
              "        text-align: right;\n",
              "    }\n",
              "</style>\n",
              "<table border=\"1\" class=\"dataframe\">\n",
              "  <thead>\n",
              "    <tr style=\"text-align: right;\">\n",
              "      <th></th>\n",
              "      <th>sepal_length</th>\n",
              "      <th>sepal_width</th>\n",
              "    </tr>\n",
              "  </thead>\n",
              "  <tbody>\n",
              "    <tr>\n",
              "      <td>1</td>\n",
              "      <td>6.9</td>\n",
              "      <td>3.2</td>\n",
              "    </tr>\n",
              "    <tr>\n",
              "      <td>2</td>\n",
              "      <td>6.9</td>\n",
              "      <td>3.1</td>\n",
              "    </tr>\n",
              "    <tr>\n",
              "      <td>3</td>\n",
              "      <td>4.8</td>\n",
              "      <td>3.4</td>\n",
              "    </tr>\n",
              "    <tr>\n",
              "      <td>4</td>\n",
              "      <td>5.4</td>\n",
              "      <td>3.0</td>\n",
              "    </tr>\n",
              "    <tr>\n",
              "      <td>5</td>\n",
              "      <td>4.6</td>\n",
              "      <td>3.6</td>\n",
              "    </tr>\n",
              "  </tbody>\n",
              "</table>\n",
              "</div>"
            ],
            "text/plain": [
              "   sepal_length  sepal_width\n",
              "1           6.9          3.2\n",
              "2           6.9          3.1\n",
              "3           4.8          3.4\n",
              "4           5.4          3.0\n",
              "5           4.6          3.6"
            ]
          },
          "metadata": {
            "tags": []
          },
          "execution_count": 12
        }
      ]
    },
    {
      "cell_type": "markdown",
      "metadata": {
        "id": "XemSouP9YiW5",
        "colab_type": "text"
      },
      "source": [
        "#### Accessing rows"
      ]
    },
    {
      "cell_type": "code",
      "metadata": {
        "id": "q1RIsxdpYiW6",
        "colab_type": "code",
        "outputId": "5f52b6dd-ec81-4797-a54a-dabbadd4e2d0",
        "colab": {}
      },
      "source": [
        "# Access one row \n",
        "df.loc[3, :]"
      ],
      "execution_count": 0,
      "outputs": [
        {
          "output_type": "execute_result",
          "data": {
            "text/plain": [
              "sepal_length       4.8\n",
              "sepal_width        3.4\n",
              "petal_length       1.9\n",
              "petal_width        0.2\n",
              "species         setosa\n",
              "Name: 3, dtype: object"
            ]
          },
          "metadata": {
            "tags": []
          },
          "execution_count": 13
        }
      ]
    },
    {
      "cell_type": "code",
      "metadata": {
        "id": "JNDjv8BfYiW-",
        "colab_type": "code",
        "outputId": "946e9a69-c046-406f-e321-45ab3031f8ec",
        "colab": {}
      },
      "source": [
        "# Access two rows\n",
        "df.loc[[3, 0], :]\n",
        "# Note: `0` is not an index so it's value's are `NaN` (not a number), i.e. missing"
      ],
      "execution_count": 0,
      "outputs": [
        {
          "output_type": "stream",
          "text": [
            "/home/alex/anaconda3/lib/python3.7/site-packages/pandas/core/indexing.py:1418: FutureWarning: \n",
            "Passing list-likes to .loc or [] with any missing label will raise\n",
            "KeyError in the future, you can use .reindex() as an alternative.\n",
            "\n",
            "See the documentation here:\n",
            "https://pandas.pydata.org/pandas-docs/stable/user_guide/indexing.html#deprecate-loc-reindex-listlike\n",
            "  return self._getitem_tuple(key)\n"
          ],
          "name": "stderr"
        },
        {
          "output_type": "execute_result",
          "data": {
            "text/html": [
              "<div>\n",
              "<style scoped>\n",
              "    .dataframe tbody tr th:only-of-type {\n",
              "        vertical-align: middle;\n",
              "    }\n",
              "\n",
              "    .dataframe tbody tr th {\n",
              "        vertical-align: top;\n",
              "    }\n",
              "\n",
              "    .dataframe thead th {\n",
              "        text-align: right;\n",
              "    }\n",
              "</style>\n",
              "<table border=\"1\" class=\"dataframe\">\n",
              "  <thead>\n",
              "    <tr style=\"text-align: right;\">\n",
              "      <th></th>\n",
              "      <th>sepal_length</th>\n",
              "      <th>sepal_width</th>\n",
              "      <th>petal_length</th>\n",
              "      <th>petal_width</th>\n",
              "      <th>species</th>\n",
              "    </tr>\n",
              "  </thead>\n",
              "  <tbody>\n",
              "    <tr>\n",
              "      <td>3</td>\n",
              "      <td>4.8</td>\n",
              "      <td>3.4</td>\n",
              "      <td>1.9</td>\n",
              "      <td>0.2</td>\n",
              "      <td>setosa</td>\n",
              "    </tr>\n",
              "    <tr>\n",
              "      <td>0</td>\n",
              "      <td>NaN</td>\n",
              "      <td>NaN</td>\n",
              "      <td>NaN</td>\n",
              "      <td>NaN</td>\n",
              "      <td>NaN</td>\n",
              "    </tr>\n",
              "  </tbody>\n",
              "</table>\n",
              "</div>"
            ],
            "text/plain": [
              "   sepal_length  sepal_width  petal_length  petal_width species\n",
              "3           4.8          3.4           1.9          0.2  setosa\n",
              "0           NaN          NaN           NaN          NaN     NaN"
            ]
          },
          "metadata": {
            "tags": []
          },
          "execution_count": 14
        }
      ]
    },
    {
      "cell_type": "code",
      "metadata": {
        "id": "0IuparsFYiXI",
        "colab_type": "code",
        "outputId": "c62abf92-96e7-4658-adbd-cc8f76fd6414",
        "colab": {}
      },
      "source": [
        "# Access a range of rows\n",
        "df.loc[2:5, :]"
      ],
      "execution_count": 0,
      "outputs": [
        {
          "output_type": "execute_result",
          "data": {
            "text/html": [
              "<div>\n",
              "<style scoped>\n",
              "    .dataframe tbody tr th:only-of-type {\n",
              "        vertical-align: middle;\n",
              "    }\n",
              "\n",
              "    .dataframe tbody tr th {\n",
              "        vertical-align: top;\n",
              "    }\n",
              "\n",
              "    .dataframe thead th {\n",
              "        text-align: right;\n",
              "    }\n",
              "</style>\n",
              "<table border=\"1\" class=\"dataframe\">\n",
              "  <thead>\n",
              "    <tr style=\"text-align: right;\">\n",
              "      <th></th>\n",
              "      <th>sepal_length</th>\n",
              "      <th>sepal_width</th>\n",
              "      <th>petal_length</th>\n",
              "      <th>petal_width</th>\n",
              "      <th>species</th>\n",
              "    </tr>\n",
              "  </thead>\n",
              "  <tbody>\n",
              "    <tr>\n",
              "      <td>2</td>\n",
              "      <td>6.9</td>\n",
              "      <td>3.1</td>\n",
              "      <td>5.1</td>\n",
              "      <td>2.3</td>\n",
              "      <td>virginica</td>\n",
              "    </tr>\n",
              "    <tr>\n",
              "      <td>3</td>\n",
              "      <td>4.8</td>\n",
              "      <td>3.4</td>\n",
              "      <td>1.9</td>\n",
              "      <td>0.2</td>\n",
              "      <td>setosa</td>\n",
              "    </tr>\n",
              "    <tr>\n",
              "      <td>4</td>\n",
              "      <td>5.4</td>\n",
              "      <td>3.0</td>\n",
              "      <td>4.5</td>\n",
              "      <td>1.5</td>\n",
              "      <td>versicolor</td>\n",
              "    </tr>\n",
              "    <tr>\n",
              "      <td>5</td>\n",
              "      <td>4.6</td>\n",
              "      <td>3.6</td>\n",
              "      <td>1.0</td>\n",
              "      <td>0.2</td>\n",
              "      <td>setosa</td>\n",
              "    </tr>\n",
              "  </tbody>\n",
              "</table>\n",
              "</div>"
            ],
            "text/plain": [
              "   sepal_length  sepal_width  petal_length  petal_width     species\n",
              "2           6.9          3.1           5.1          2.3   virginica\n",
              "3           4.8          3.4           1.9          0.2      setosa\n",
              "4           5.4          3.0           4.5          1.5  versicolor\n",
              "5           4.6          3.6           1.0          0.2      setosa"
            ]
          },
          "metadata": {
            "tags": []
          },
          "execution_count": 15
        }
      ]
    },
    {
      "cell_type": "code",
      "metadata": {
        "id": "C527lKNCYiXM",
        "colab_type": "code",
        "outputId": "b0f6bb13-6c20-4182-ee31-dc7555c8ac86",
        "colab": {}
      },
      "source": [
        "# Access rows by index location (number starting from zero)\n",
        "df.iloc[0:2, :]"
      ],
      "execution_count": 0,
      "outputs": [
        {
          "output_type": "execute_result",
          "data": {
            "text/html": [
              "<div>\n",
              "<style scoped>\n",
              "    .dataframe tbody tr th:only-of-type {\n",
              "        vertical-align: middle;\n",
              "    }\n",
              "\n",
              "    .dataframe tbody tr th {\n",
              "        vertical-align: top;\n",
              "    }\n",
              "\n",
              "    .dataframe thead th {\n",
              "        text-align: right;\n",
              "    }\n",
              "</style>\n",
              "<table border=\"1\" class=\"dataframe\">\n",
              "  <thead>\n",
              "    <tr style=\"text-align: right;\">\n",
              "      <th></th>\n",
              "      <th>sepal_length</th>\n",
              "      <th>sepal_width</th>\n",
              "      <th>petal_length</th>\n",
              "      <th>petal_width</th>\n",
              "      <th>species</th>\n",
              "    </tr>\n",
              "  </thead>\n",
              "  <tbody>\n",
              "    <tr>\n",
              "      <td>1</td>\n",
              "      <td>6.9</td>\n",
              "      <td>3.2</td>\n",
              "      <td>5.7</td>\n",
              "      <td>2.3</td>\n",
              "      <td>virginica</td>\n",
              "    </tr>\n",
              "    <tr>\n",
              "      <td>2</td>\n",
              "      <td>6.9</td>\n",
              "      <td>3.1</td>\n",
              "      <td>5.1</td>\n",
              "      <td>2.3</td>\n",
              "      <td>virginica</td>\n",
              "    </tr>\n",
              "  </tbody>\n",
              "</table>\n",
              "</div>"
            ],
            "text/plain": [
              "   sepal_length  sepal_width  petal_length  petal_width    species\n",
              "1           6.9          3.2           5.7          2.3  virginica\n",
              "2           6.9          3.1           5.1          2.3  virginica"
            ]
          },
          "metadata": {
            "tags": []
          },
          "execution_count": 16
        }
      ]
    },
    {
      "cell_type": "code",
      "metadata": {
        "id": "5S9QADd_YiXZ",
        "colab_type": "code",
        "outputId": "d6ffcc91-6cca-4ffe-f324-0fe8ad7a31eb",
        "colab": {}
      },
      "source": [
        "# Filter keeping only rows with `sepal_length` > 5\n",
        "df[df.sepal_length > 5]"
      ],
      "execution_count": 0,
      "outputs": [
        {
          "output_type": "execute_result",
          "data": {
            "text/html": [
              "<div>\n",
              "<style scoped>\n",
              "    .dataframe tbody tr th:only-of-type {\n",
              "        vertical-align: middle;\n",
              "    }\n",
              "\n",
              "    .dataframe tbody tr th {\n",
              "        vertical-align: top;\n",
              "    }\n",
              "\n",
              "    .dataframe thead th {\n",
              "        text-align: right;\n",
              "    }\n",
              "</style>\n",
              "<table border=\"1\" class=\"dataframe\">\n",
              "  <thead>\n",
              "    <tr style=\"text-align: right;\">\n",
              "      <th></th>\n",
              "      <th>sepal_length</th>\n",
              "      <th>sepal_width</th>\n",
              "      <th>petal_length</th>\n",
              "      <th>petal_width</th>\n",
              "      <th>species</th>\n",
              "    </tr>\n",
              "  </thead>\n",
              "  <tbody>\n",
              "    <tr>\n",
              "      <td>1</td>\n",
              "      <td>6.9</td>\n",
              "      <td>3.2</td>\n",
              "      <td>5.7</td>\n",
              "      <td>2.3</td>\n",
              "      <td>virginica</td>\n",
              "    </tr>\n",
              "    <tr>\n",
              "      <td>2</td>\n",
              "      <td>6.9</td>\n",
              "      <td>3.1</td>\n",
              "      <td>5.1</td>\n",
              "      <td>2.3</td>\n",
              "      <td>virginica</td>\n",
              "    </tr>\n",
              "    <tr>\n",
              "      <td>4</td>\n",
              "      <td>5.4</td>\n",
              "      <td>3.0</td>\n",
              "      <td>4.5</td>\n",
              "      <td>1.5</td>\n",
              "      <td>versicolor</td>\n",
              "    </tr>\n",
              "  </tbody>\n",
              "</table>\n",
              "</div>"
            ],
            "text/plain": [
              "   sepal_length  sepal_width  petal_length  petal_width     species\n",
              "1           6.9          3.2           5.7          2.3   virginica\n",
              "2           6.9          3.1           5.1          2.3   virginica\n",
              "4           5.4          3.0           4.5          1.5  versicolor"
            ]
          },
          "metadata": {
            "tags": []
          },
          "execution_count": 17
        }
      ]
    },
    {
      "cell_type": "code",
      "metadata": {
        "id": "BoELtry-YiXe",
        "colab_type": "code",
        "outputId": "a8b4d0cb-5bc6-45c5-ede6-1ba401dcd9bb",
        "colab": {}
      },
      "source": [
        "# Filter keeping only rows with `sepal_length` > 5 (alternative syntax)\n",
        "df.query(\"sepal_length > 5\")"
      ],
      "execution_count": 0,
      "outputs": [
        {
          "output_type": "execute_result",
          "data": {
            "text/html": [
              "<div>\n",
              "<style scoped>\n",
              "    .dataframe tbody tr th:only-of-type {\n",
              "        vertical-align: middle;\n",
              "    }\n",
              "\n",
              "    .dataframe tbody tr th {\n",
              "        vertical-align: top;\n",
              "    }\n",
              "\n",
              "    .dataframe thead th {\n",
              "        text-align: right;\n",
              "    }\n",
              "</style>\n",
              "<table border=\"1\" class=\"dataframe\">\n",
              "  <thead>\n",
              "    <tr style=\"text-align: right;\">\n",
              "      <th></th>\n",
              "      <th>sepal_length</th>\n",
              "      <th>sepal_width</th>\n",
              "      <th>petal_length</th>\n",
              "      <th>petal_width</th>\n",
              "      <th>species</th>\n",
              "    </tr>\n",
              "  </thead>\n",
              "  <tbody>\n",
              "    <tr>\n",
              "      <td>1</td>\n",
              "      <td>6.9</td>\n",
              "      <td>3.2</td>\n",
              "      <td>5.7</td>\n",
              "      <td>2.3</td>\n",
              "      <td>virginica</td>\n",
              "    </tr>\n",
              "    <tr>\n",
              "      <td>2</td>\n",
              "      <td>6.9</td>\n",
              "      <td>3.1</td>\n",
              "      <td>5.1</td>\n",
              "      <td>2.3</td>\n",
              "      <td>virginica</td>\n",
              "    </tr>\n",
              "    <tr>\n",
              "      <td>4</td>\n",
              "      <td>5.4</td>\n",
              "      <td>3.0</td>\n",
              "      <td>4.5</td>\n",
              "      <td>1.5</td>\n",
              "      <td>versicolor</td>\n",
              "    </tr>\n",
              "  </tbody>\n",
              "</table>\n",
              "</div>"
            ],
            "text/plain": [
              "   sepal_length  sepal_width  petal_length  petal_width     species\n",
              "1           6.9          3.2           5.7          2.3   virginica\n",
              "2           6.9          3.1           5.1          2.3   virginica\n",
              "4           5.4          3.0           4.5          1.5  versicolor"
            ]
          },
          "metadata": {
            "tags": []
          },
          "execution_count": 18
        }
      ]
    },
    {
      "cell_type": "markdown",
      "metadata": {
        "id": "EnqrVL18YiXi",
        "colab_type": "text"
      },
      "source": [
        "#### Reading data from disk"
      ]
    },
    {
      "cell_type": "markdown",
      "metadata": {
        "id": "H27C8AamYiXk",
        "colab_type": "text"
      },
      "source": [
        "Pandas can read files directly from a file (even excel files) and will automatically try and infer as much as it can about the structure of the data)\n",
        "\n",
        "``` python\n",
        "filename = 'Your_filename_here.json'\n",
        "df = pd.read_json(filename)\n",
        "\n",
        "filename = 'Your_filename_here.csv'\n",
        "df = pd.read_csv(filename)\n",
        "\n",
        "# Requires `xlrd` package to be installed\n",
        "filename = 'Your_filename_here.xlsx'\n",
        "df = pd.read_excel(filename)\n",
        "```"
      ]
    },
    {
      "cell_type": "code",
      "metadata": {
        "id": "JYAT8cPmYiXn",
        "colab_type": "code",
        "colab": {}
      },
      "source": [
        "# You may need to manually tell pandas some things about your dataset\n",
        "# Lots of options detailed in the docs... \n",
        "pd.read_csv?"
      ],
      "execution_count": 0,
      "outputs": []
    },
    {
      "cell_type": "markdown",
      "metadata": {
        "id": "28lPjEyrYiXq",
        "colab_type": "text"
      },
      "source": [
        "#### Adding new columns"
      ]
    },
    {
      "cell_type": "code",
      "metadata": {
        "id": "1bsygmTNYiXr",
        "colab_type": "code",
        "outputId": "d529f2f3-98bf-49c0-942c-fa6a371f5cac",
        "colab": {}
      },
      "source": [
        "df['new_column'] = 1\n",
        "df"
      ],
      "execution_count": 0,
      "outputs": [
        {
          "output_type": "execute_result",
          "data": {
            "text/html": [
              "<div>\n",
              "<style scoped>\n",
              "    .dataframe tbody tr th:only-of-type {\n",
              "        vertical-align: middle;\n",
              "    }\n",
              "\n",
              "    .dataframe tbody tr th {\n",
              "        vertical-align: top;\n",
              "    }\n",
              "\n",
              "    .dataframe thead th {\n",
              "        text-align: right;\n",
              "    }\n",
              "</style>\n",
              "<table border=\"1\" class=\"dataframe\">\n",
              "  <thead>\n",
              "    <tr style=\"text-align: right;\">\n",
              "      <th></th>\n",
              "      <th>sepal_length</th>\n",
              "      <th>sepal_width</th>\n",
              "      <th>petal_length</th>\n",
              "      <th>petal_width</th>\n",
              "      <th>species</th>\n",
              "      <th>new_column</th>\n",
              "    </tr>\n",
              "  </thead>\n",
              "  <tbody>\n",
              "    <tr>\n",
              "      <td>1</td>\n",
              "      <td>6.9</td>\n",
              "      <td>3.2</td>\n",
              "      <td>5.7</td>\n",
              "      <td>2.3</td>\n",
              "      <td>virginica</td>\n",
              "      <td>1</td>\n",
              "    </tr>\n",
              "    <tr>\n",
              "      <td>2</td>\n",
              "      <td>6.9</td>\n",
              "      <td>3.1</td>\n",
              "      <td>5.1</td>\n",
              "      <td>2.3</td>\n",
              "      <td>virginica</td>\n",
              "      <td>1</td>\n",
              "    </tr>\n",
              "    <tr>\n",
              "      <td>3</td>\n",
              "      <td>4.8</td>\n",
              "      <td>3.4</td>\n",
              "      <td>1.9</td>\n",
              "      <td>0.2</td>\n",
              "      <td>setosa</td>\n",
              "      <td>1</td>\n",
              "    </tr>\n",
              "    <tr>\n",
              "      <td>4</td>\n",
              "      <td>5.4</td>\n",
              "      <td>3.0</td>\n",
              "      <td>4.5</td>\n",
              "      <td>1.5</td>\n",
              "      <td>versicolor</td>\n",
              "      <td>1</td>\n",
              "    </tr>\n",
              "    <tr>\n",
              "      <td>5</td>\n",
              "      <td>4.6</td>\n",
              "      <td>3.6</td>\n",
              "      <td>1.0</td>\n",
              "      <td>0.2</td>\n",
              "      <td>setosa</td>\n",
              "      <td>1</td>\n",
              "    </tr>\n",
              "  </tbody>\n",
              "</table>\n",
              "</div>"
            ],
            "text/plain": [
              "   sepal_length  sepal_width  petal_length  petal_width     species  \\\n",
              "1           6.9          3.2           5.7          2.3   virginica   \n",
              "2           6.9          3.1           5.1          2.3   virginica   \n",
              "3           4.8          3.4           1.9          0.2      setosa   \n",
              "4           5.4          3.0           4.5          1.5  versicolor   \n",
              "5           4.6          3.6           1.0          0.2      setosa   \n",
              "\n",
              "   new_column  \n",
              "1           1  \n",
              "2           1  \n",
              "3           1  \n",
              "4           1  \n",
              "5           1  "
            ]
          },
          "metadata": {
            "tags": []
          },
          "execution_count": 20
        }
      ]
    },
    {
      "cell_type": "code",
      "metadata": {
        "id": "c9uPzpxWYiXv",
        "colab_type": "code",
        "outputId": "977f6ff5-2ca8-45fe-f508-63ae6ac3ad48",
        "colab": {}
      },
      "source": [
        "df['new_column'] = [1, 2, 3, 4, 5]\n",
        "df"
      ],
      "execution_count": 0,
      "outputs": [
        {
          "output_type": "execute_result",
          "data": {
            "text/html": [
              "<div>\n",
              "<style scoped>\n",
              "    .dataframe tbody tr th:only-of-type {\n",
              "        vertical-align: middle;\n",
              "    }\n",
              "\n",
              "    .dataframe tbody tr th {\n",
              "        vertical-align: top;\n",
              "    }\n",
              "\n",
              "    .dataframe thead th {\n",
              "        text-align: right;\n",
              "    }\n",
              "</style>\n",
              "<table border=\"1\" class=\"dataframe\">\n",
              "  <thead>\n",
              "    <tr style=\"text-align: right;\">\n",
              "      <th></th>\n",
              "      <th>sepal_length</th>\n",
              "      <th>sepal_width</th>\n",
              "      <th>petal_length</th>\n",
              "      <th>petal_width</th>\n",
              "      <th>species</th>\n",
              "      <th>new_column</th>\n",
              "    </tr>\n",
              "  </thead>\n",
              "  <tbody>\n",
              "    <tr>\n",
              "      <td>1</td>\n",
              "      <td>6.9</td>\n",
              "      <td>3.2</td>\n",
              "      <td>5.7</td>\n",
              "      <td>2.3</td>\n",
              "      <td>virginica</td>\n",
              "      <td>1</td>\n",
              "    </tr>\n",
              "    <tr>\n",
              "      <td>2</td>\n",
              "      <td>6.9</td>\n",
              "      <td>3.1</td>\n",
              "      <td>5.1</td>\n",
              "      <td>2.3</td>\n",
              "      <td>virginica</td>\n",
              "      <td>2</td>\n",
              "    </tr>\n",
              "    <tr>\n",
              "      <td>3</td>\n",
              "      <td>4.8</td>\n",
              "      <td>3.4</td>\n",
              "      <td>1.9</td>\n",
              "      <td>0.2</td>\n",
              "      <td>setosa</td>\n",
              "      <td>3</td>\n",
              "    </tr>\n",
              "    <tr>\n",
              "      <td>4</td>\n",
              "      <td>5.4</td>\n",
              "      <td>3.0</td>\n",
              "      <td>4.5</td>\n",
              "      <td>1.5</td>\n",
              "      <td>versicolor</td>\n",
              "      <td>4</td>\n",
              "    </tr>\n",
              "    <tr>\n",
              "      <td>5</td>\n",
              "      <td>4.6</td>\n",
              "      <td>3.6</td>\n",
              "      <td>1.0</td>\n",
              "      <td>0.2</td>\n",
              "      <td>setosa</td>\n",
              "      <td>5</td>\n",
              "    </tr>\n",
              "  </tbody>\n",
              "</table>\n",
              "</div>"
            ],
            "text/plain": [
              "   sepal_length  sepal_width  petal_length  petal_width     species  \\\n",
              "1           6.9          3.2           5.7          2.3   virginica   \n",
              "2           6.9          3.1           5.1          2.3   virginica   \n",
              "3           4.8          3.4           1.9          0.2      setosa   \n",
              "4           5.4          3.0           4.5          1.5  versicolor   \n",
              "5           4.6          3.6           1.0          0.2      setosa   \n",
              "\n",
              "   new_column  \n",
              "1           1  \n",
              "2           2  \n",
              "3           3  \n",
              "4           4  \n",
              "5           5  "
            ]
          },
          "metadata": {
            "tags": []
          },
          "execution_count": 21
        }
      ]
    },
    {
      "cell_type": "code",
      "metadata": {
        "id": "pvTB1I2xYiX1",
        "colab_type": "code",
        "outputId": "35345f7e-4205-4502-db8b-98971ed99fdf",
        "colab": {}
      },
      "source": [
        "df['new_column'] = df['sepal_length'] - df['petal_length']\n",
        "df"
      ],
      "execution_count": 0,
      "outputs": [
        {
          "output_type": "execute_result",
          "data": {
            "text/html": [
              "<div>\n",
              "<style scoped>\n",
              "    .dataframe tbody tr th:only-of-type {\n",
              "        vertical-align: middle;\n",
              "    }\n",
              "\n",
              "    .dataframe tbody tr th {\n",
              "        vertical-align: top;\n",
              "    }\n",
              "\n",
              "    .dataframe thead th {\n",
              "        text-align: right;\n",
              "    }\n",
              "</style>\n",
              "<table border=\"1\" class=\"dataframe\">\n",
              "  <thead>\n",
              "    <tr style=\"text-align: right;\">\n",
              "      <th></th>\n",
              "      <th>sepal_length</th>\n",
              "      <th>sepal_width</th>\n",
              "      <th>petal_length</th>\n",
              "      <th>petal_width</th>\n",
              "      <th>species</th>\n",
              "      <th>new_column</th>\n",
              "    </tr>\n",
              "  </thead>\n",
              "  <tbody>\n",
              "    <tr>\n",
              "      <td>1</td>\n",
              "      <td>6.9</td>\n",
              "      <td>3.2</td>\n",
              "      <td>5.7</td>\n",
              "      <td>2.3</td>\n",
              "      <td>virginica</td>\n",
              "      <td>1.2</td>\n",
              "    </tr>\n",
              "    <tr>\n",
              "      <td>2</td>\n",
              "      <td>6.9</td>\n",
              "      <td>3.1</td>\n",
              "      <td>5.1</td>\n",
              "      <td>2.3</td>\n",
              "      <td>virginica</td>\n",
              "      <td>1.8</td>\n",
              "    </tr>\n",
              "    <tr>\n",
              "      <td>3</td>\n",
              "      <td>4.8</td>\n",
              "      <td>3.4</td>\n",
              "      <td>1.9</td>\n",
              "      <td>0.2</td>\n",
              "      <td>setosa</td>\n",
              "      <td>2.9</td>\n",
              "    </tr>\n",
              "    <tr>\n",
              "      <td>4</td>\n",
              "      <td>5.4</td>\n",
              "      <td>3.0</td>\n",
              "      <td>4.5</td>\n",
              "      <td>1.5</td>\n",
              "      <td>versicolor</td>\n",
              "      <td>0.9</td>\n",
              "    </tr>\n",
              "    <tr>\n",
              "      <td>5</td>\n",
              "      <td>4.6</td>\n",
              "      <td>3.6</td>\n",
              "      <td>1.0</td>\n",
              "      <td>0.2</td>\n",
              "      <td>setosa</td>\n",
              "      <td>3.6</td>\n",
              "    </tr>\n",
              "  </tbody>\n",
              "</table>\n",
              "</div>"
            ],
            "text/plain": [
              "   sepal_length  sepal_width  petal_length  petal_width     species  \\\n",
              "1           6.9          3.2           5.7          2.3   virginica   \n",
              "2           6.9          3.1           5.1          2.3   virginica   \n",
              "3           4.8          3.4           1.9          0.2      setosa   \n",
              "4           5.4          3.0           4.5          1.5  versicolor   \n",
              "5           4.6          3.6           1.0          0.2      setosa   \n",
              "\n",
              "   new_column  \n",
              "1         1.2  \n",
              "2         1.8  \n",
              "3         2.9  \n",
              "4         0.9  \n",
              "5         3.6  "
            ]
          },
          "metadata": {
            "tags": []
          },
          "execution_count": 22
        }
      ]
    },
    {
      "cell_type": "markdown",
      "metadata": {
        "id": "5aDG2s5OYiX7",
        "colab_type": "text"
      },
      "source": [
        "## Example API: Eurostat\n",
        "\n",
        "Let's dive in by looking at an API that can be of use to us, the [EUROSTAT API](https://ec.europa.eu/eurostat/web/json-and-unicode-web-services).\n",
        "\n",
        "The documentation linked gives a very useful summary of the structure of the requests:\n",
        "![](https://github.com/nestauk/im-tutorials/blob/3-ysi-tutorial/notebooks/APIs/figures/eurostat_api.png?raw=1)\n",
        " \n",
        "* host_url : fixed part of the request related to our website\n",
        "* service : fixed part of the request related to the service\n",
        "* version : fixed part of the request related to the version of the service\n",
        "* format : data format to be returned (json or unicode)\n",
        "* lang : language used for metadata (en/fr/de)\n",
        "* datasetCode : unique code identifier of the queried dataset\n",
        "* filters : specify the scope of the query (optional). There is a threshold of maximum 50 sub-indicators per query. The filters are specific to a dataset, depending on dataset dimensions.\n",
        "    * precision : the number of decimals for the values returned by the request\n",
        "    * unit : filter on the dataset's UNIT dimension "
      ]
    },
    {
      "cell_type": "markdown",
      "metadata": {
        "id": "A-XppkclYiX8",
        "colab_type": "text"
      },
      "source": [
        "We'll learn by example how to use Python to get the data for a REST GET request on this dataset (`nama_10_gdp`).\n",
        "\n",
        "We will use the Python library `requests` - https://github.com/psf/requests."
      ]
    },
    {
      "cell_type": "code",
      "metadata": {
        "id": "VIaOrKWwYiX9",
        "colab_type": "code",
        "outputId": "cd4ae17d-ba71-4ee0-c8da-8c4ea79be13f",
        "colab": {}
      },
      "source": [
        "import requests  # Import the requests library\n",
        "\n",
        "# Query URL\n",
        "url = ('http://ec.europa.eu/eurostat/wdds/rest/data/v2.1/json/en'\n",
        "       '/nama_10_gdp?precision=1'\n",
        "       '&unit=CLV05_MEUR'  # Unit: CLV (2005) Million EUR\n",
        "       '&geo=NL&geo=DE'  # Country: Netherlands, Germany\n",
        "       '&time=2010&time=2011&time=2012'  # Years: 2010, 2011, 2012\n",
        "       '&na_item=B1GQ&na_item=D21'  # GDP (market prices) & taxes on products\n",
        "       )\n",
        "# Some api's will have nicer syntax like:\n",
        "# `&time=2010..2012` or `&na_item=B1GQ,D21`\n",
        "print(url)\n",
        "\n",
        "response = requests.get(url)  # Make a GET request to the URL\n",
        "\n",
        "# Print status code (and associated text)\n",
        "print(f\"Request returned {response.status_code} : '{response.reason}'\")\n",
        "\n",
        "# Print data returned (parsing as JSON)\n",
        "payload = response.json()  # Parse `response.text` into JSON\n",
        "\n",
        "import pprint\n",
        "pp = pprint.PrettyPrinter(indent=1)\n",
        "pp.pprint(payload)\n",
        "# NOTE: Could use print(response.json()) but this wouldn't be formatted nicely"
      ],
      "execution_count": 0,
      "outputs": [
        {
          "output_type": "stream",
          "text": [
            "http://ec.europa.eu/eurostat/wdds/rest/data/v2.1/json/en/nama_10_gdp?precision=1&unit=CLV05_MEUR&geo=NL&geo=DE&time=2010&time=2011&time=2012&na_item=B1GQ&na_item=D21\n",
            "Request returned 200 : 'OK'\n",
            "{'class': 'dataset',\n",
            " 'dimension': {'geo': {'category': {'index': {'DE': 0, 'NL': 1},\n",
            "                                    'label': {'DE': 'Germany (until 1990 '\n",
            "                                                    'former territory of the '\n",
            "                                                    'FRG)',\n",
            "                                              'NL': 'Netherlands'}},\n",
            "                       'label': 'geo'},\n",
            "               'na_item': {'category': {'index': {'B1GQ': 0, 'D21': 1},\n",
            "                                        'label': {'B1GQ': 'Gross domestic '\n",
            "                                                          'product at market '\n",
            "                                                          'prices',\n",
            "                                                  'D21': 'Taxes on products'}},\n",
            "                           'label': 'na_item'},\n",
            "               'time': {'category': {'index': {'2010': 0, '2011': 1, '2012': 2},\n",
            "                                     'label': {'2010': '2010',\n",
            "                                               '2011': '2011',\n",
            "                                               '2012': '2012'}},\n",
            "                        'label': 'time'},\n",
            "               'unit': {'category': {'index': {'CLV05_MEUR': 0},\n",
            "                                     'label': {'CLV05_MEUR': 'Chain linked '\n",
            "                                                             'volumes (2005), '\n",
            "                                                             'million euro'}},\n",
            "                        'label': 'unit'}},\n",
            " 'extension': {'datasetId': 'nama_10_gdp',\n",
            "               'description': None,\n",
            "               'lang': 'EN',\n",
            "               'subTitle': None},\n",
            " 'href': 'http://ec.europa.eu/eurostat/wdds/rest/data/v2.1/json/en/nama_10_gdp?precision=1&unit=CLV05_MEUR&geo=NL&geo=DE&time=2010&time=2011&time=2012&na_item=B1GQ&na_item=D21',\n",
            " 'id': ['unit', 'na_item', 'geo', 'time'],\n",
            " 'label': 'GDP and main components (output, expenditure and income)',\n",
            " 'size': [1, 2, 2, 3],\n",
            " 'source': 'Eurostat',\n",
            " 'updated': '2019-09-03',\n",
            " 'value': {'0': 2426650.8,\n",
            "           '1': 2521875.8,\n",
            "           '10': 59852.5,\n",
            "           '11': 57924.1,\n",
            "           '2': 2532456.4,\n",
            "           '3': 589946.6,\n",
            "           '4': 599097.8,\n",
            "           '5': 592925.0,\n",
            "           '6': 228297.9,\n",
            "           '7': 237275.9,\n",
            "           '8': 236325.2,\n",
            "           '9': 60631.6},\n",
            " 'version': '2.0'}\n"
          ],
          "name": "stdout"
        }
      ]
    },
    {
      "cell_type": "markdown",
      "metadata": {
        "id": "0DrgANNVYiYC",
        "colab_type": "text"
      },
      "source": [
        "---\n",
        "\n",
        "**Tip:** it's easy to forget what attributes a variable like `response` has - was it `status_code` or `status`?\n",
        "Use the function `dir` to list the contents of a variable.\n",
        "\n",
        "``` python\n",
        "dir(response)\n",
        "```\n",
        "\n",
        "If you're in a jupyter notebook you can also type \"response.\" and then press `TAB` and an autocomplete bar will pop up.\n",
        "\n",
        "---"
      ]
    },
    {
      "cell_type": "markdown",
      "metadata": {
        "id": "Rty7YMOkYiYE",
        "colab_type": "text"
      },
      "source": [
        "**SUCCESS!** But what's the structure of our data?"
      ]
    },
    {
      "cell_type": "code",
      "metadata": {
        "id": "fRw0QDjuYiYI",
        "colab_type": "code",
        "outputId": "ed3f572b-e565-48dd-dcfa-2a801e970e98",
        "colab": {}
      },
      "source": [
        "payload['value']  # The values returned aren't very informative!"
      ],
      "execution_count": 0,
      "outputs": [
        {
          "output_type": "execute_result",
          "data": {
            "text/plain": [
              "{'0': 2426650.8,\n",
              " '1': 2521875.8,\n",
              " '2': 2532456.4,\n",
              " '3': 589946.6,\n",
              " '4': 599097.8,\n",
              " '5': 592925.0,\n",
              " '6': 228297.9,\n",
              " '7': 237275.9,\n",
              " '8': 236325.2,\n",
              " '9': 60631.6,\n",
              " '10': 59852.5,\n",
              " '11': 57924.1}"
            ]
          },
          "metadata": {
            "tags": []
          },
          "execution_count": 24
        }
      ]
    },
    {
      "cell_type": "code",
      "metadata": {
        "id": "qwyCpOQyYiYM",
        "colab_type": "code",
        "outputId": "8b4a4a58-ee02-4d7d-e012-c0e094309cb5",
        "colab": {}
      },
      "source": [
        "list(zip(payload['id'], payload['size']))  # Dimensions of our data (1 x 2 x 2 x 3)"
      ],
      "execution_count": 0,
      "outputs": [
        {
          "output_type": "execute_result",
          "data": {
            "text/plain": [
              "[('unit', 1), ('na_item', 2), ('geo', 2), ('time', 3)]"
            ]
          },
          "metadata": {
            "tags": []
          },
          "execution_count": 25
        }
      ]
    },
    {
      "cell_type": "code",
      "metadata": {
        "id": "wboy9tVoYiYP",
        "colab_type": "code",
        "outputId": "71219af9-86bd-48de-def4-b662c02de4cf",
        "colab": {}
      },
      "source": [
        "payload['dimension']  # Gives us the dimension details of the data"
      ],
      "execution_count": 0,
      "outputs": [
        {
          "output_type": "execute_result",
          "data": {
            "text/plain": [
              "{'unit': {'label': 'unit',\n",
              "  'category': {'index': {'CLV05_MEUR': 0},\n",
              "   'label': {'CLV05_MEUR': 'Chain linked volumes (2005), million euro'}}},\n",
              " 'na_item': {'label': 'na_item',\n",
              "  'category': {'index': {'B1GQ': 0, 'D21': 1},\n",
              "   'label': {'B1GQ': 'Gross domestic product at market prices',\n",
              "    'D21': 'Taxes on products'}}},\n",
              " 'geo': {'label': 'geo',\n",
              "  'category': {'index': {'DE': 0, 'NL': 1},\n",
              "   'label': {'DE': 'Germany (until 1990 former territory of the FRG)',\n",
              "    'NL': 'Netherlands'}}},\n",
              " 'time': {'label': 'time',\n",
              "  'category': {'index': {'2010': 0, '2011': 1, '2012': 2},\n",
              "   'label': {'2010': '2010', '2011': '2011', '2012': '2012'}}}}"
            ]
          },
          "metadata": {
            "tags": []
          },
          "execution_count": 26
        }
      ]
    },
    {
      "cell_type": "markdown",
      "metadata": {
        "id": "DIzywYCDYiYS",
        "colab_type": "text"
      },
      "source": [
        "We want to extract the indices from each dimension of the data (e.g. 'DE' and 'NL' for 'geo') and enumerate all the possible index combinations in order to build the index for the values in `payload['value']`.\n",
        "\n",
        "Lets first extract the indices..."
      ]
    },
    {
      "cell_type": "code",
      "metadata": {
        "id": "579_VaMGYiYT",
        "colab_type": "code",
        "outputId": "dbcd54ed-cb66-423f-e0ec-eb20166c9f3b",
        "colab": {}
      },
      "source": [
        "list_of_keys = []\n",
        "for k in payload['id']:\n",
        "    list_of_keys.append(\n",
        "        payload['dimension'][k]['category']['index'].keys()\n",
        "        )\n",
        "print(list_of_keys)\n",
        "    \n",
        "# NOTE: Equivalent to: [payload['dimension'][k]['category']['index'].keys() for k in payload['id']]"
      ],
      "execution_count": 0,
      "outputs": [
        {
          "output_type": "stream",
          "text": [
            "[dict_keys(['CLV05_MEUR']), dict_keys(['B1GQ', 'D21']), dict_keys(['DE', 'NL']), dict_keys(['2010', '2011', '2012'])]\n"
          ],
          "name": "stdout"
        }
      ]
    },
    {
      "cell_type": "markdown",
      "metadata": {
        "id": "IMhV14UkYiYZ",
        "colab_type": "text"
      },
      "source": [
        "Now we want to enumerate all the combinations.\n",
        "\n",
        "Fortunately pandas has a function `pd.MultiIndex.from_product` that will do this for us, and let us (optionally) name each of the dimensions by passing a `names=` argument."
      ]
    },
    {
      "cell_type": "code",
      "metadata": {
        "id": "qlud-ty6YiYb",
        "colab_type": "code",
        "outputId": "f983c2b2-76d6-4f81-b345-889ec9699dbe",
        "colab": {}
      },
      "source": [
        "index = pd.MultiIndex.from_product(\n",
        "    list_of_keys, names=payload['id']\n",
        ")\n",
        "index"
      ],
      "execution_count": 0,
      "outputs": [
        {
          "output_type": "execute_result",
          "data": {
            "text/plain": [
              "MultiIndex([('CLV05_MEUR', 'B1GQ', 'DE', '2010'),\n",
              "            ('CLV05_MEUR', 'B1GQ', 'DE', '2011'),\n",
              "            ('CLV05_MEUR', 'B1GQ', 'DE', '2012'),\n",
              "            ('CLV05_MEUR', 'B1GQ', 'NL', '2010'),\n",
              "            ('CLV05_MEUR', 'B1GQ', 'NL', '2011'),\n",
              "            ('CLV05_MEUR', 'B1GQ', 'NL', '2012'),\n",
              "            ('CLV05_MEUR',  'D21', 'DE', '2010'),\n",
              "            ('CLV05_MEUR',  'D21', 'DE', '2011'),\n",
              "            ('CLV05_MEUR',  'D21', 'DE', '2012'),\n",
              "            ('CLV05_MEUR',  'D21', 'NL', '2010'),\n",
              "            ('CLV05_MEUR',  'D21', 'NL', '2011'),\n",
              "            ('CLV05_MEUR',  'D21', 'NL', '2012')],\n",
              "           names=['unit', 'na_item', 'geo', 'time'])"
            ]
          },
          "metadata": {
            "tags": []
          },
          "execution_count": 28
        }
      ]
    },
    {
      "cell_type": "markdown",
      "metadata": {
        "id": "oA0T55vOYiYe",
        "colab_type": "text"
      },
      "source": [
        "Now our index is built we can pass in a list of values, index, and columns to `pd.DataFrame`."
      ]
    },
    {
      "cell_type": "code",
      "metadata": {
        "id": "4l907ptEYiYf",
        "colab_type": "code",
        "outputId": "8a0de408-efeb-448a-bbf9-0614f06a9655",
        "colab": {}
      },
      "source": [
        "df = pd.DataFrame(payload['value'].values(), index=index, columns=['value'])\n",
        "df"
      ],
      "execution_count": 0,
      "outputs": [
        {
          "output_type": "execute_result",
          "data": {
            "text/html": [
              "<div>\n",
              "<style scoped>\n",
              "    .dataframe tbody tr th:only-of-type {\n",
              "        vertical-align: middle;\n",
              "    }\n",
              "\n",
              "    .dataframe tbody tr th {\n",
              "        vertical-align: top;\n",
              "    }\n",
              "\n",
              "    .dataframe thead th {\n",
              "        text-align: right;\n",
              "    }\n",
              "</style>\n",
              "<table border=\"1\" class=\"dataframe\">\n",
              "  <thead>\n",
              "    <tr style=\"text-align: right;\">\n",
              "      <th></th>\n",
              "      <th></th>\n",
              "      <th></th>\n",
              "      <th></th>\n",
              "      <th>value</th>\n",
              "    </tr>\n",
              "    <tr>\n",
              "      <th>unit</th>\n",
              "      <th>na_item</th>\n",
              "      <th>geo</th>\n",
              "      <th>time</th>\n",
              "      <th></th>\n",
              "    </tr>\n",
              "  </thead>\n",
              "  <tbody>\n",
              "    <tr>\n",
              "      <td rowspan=\"12\" valign=\"top\">CLV05_MEUR</td>\n",
              "      <td rowspan=\"6\" valign=\"top\">B1GQ</td>\n",
              "      <td rowspan=\"3\" valign=\"top\">DE</td>\n",
              "      <td>2010</td>\n",
              "      <td>2426650.8</td>\n",
              "    </tr>\n",
              "    <tr>\n",
              "      <td>2011</td>\n",
              "      <td>2521875.8</td>\n",
              "    </tr>\n",
              "    <tr>\n",
              "      <td>2012</td>\n",
              "      <td>2532456.4</td>\n",
              "    </tr>\n",
              "    <tr>\n",
              "      <td rowspan=\"3\" valign=\"top\">NL</td>\n",
              "      <td>2010</td>\n",
              "      <td>589946.6</td>\n",
              "    </tr>\n",
              "    <tr>\n",
              "      <td>2011</td>\n",
              "      <td>599097.8</td>\n",
              "    </tr>\n",
              "    <tr>\n",
              "      <td>2012</td>\n",
              "      <td>592925.0</td>\n",
              "    </tr>\n",
              "    <tr>\n",
              "      <td rowspan=\"6\" valign=\"top\">D21</td>\n",
              "      <td rowspan=\"3\" valign=\"top\">DE</td>\n",
              "      <td>2010</td>\n",
              "      <td>228297.9</td>\n",
              "    </tr>\n",
              "    <tr>\n",
              "      <td>2011</td>\n",
              "      <td>237275.9</td>\n",
              "    </tr>\n",
              "    <tr>\n",
              "      <td>2012</td>\n",
              "      <td>236325.2</td>\n",
              "    </tr>\n",
              "    <tr>\n",
              "      <td rowspan=\"3\" valign=\"top\">NL</td>\n",
              "      <td>2010</td>\n",
              "      <td>60631.6</td>\n",
              "    </tr>\n",
              "    <tr>\n",
              "      <td>2011</td>\n",
              "      <td>59852.5</td>\n",
              "    </tr>\n",
              "    <tr>\n",
              "      <td>2012</td>\n",
              "      <td>57924.1</td>\n",
              "    </tr>\n",
              "  </tbody>\n",
              "</table>\n",
              "</div>"
            ],
            "text/plain": [
              "                                 value\n",
              "unit       na_item geo time           \n",
              "CLV05_MEUR B1GQ    DE  2010  2426650.8\n",
              "                       2011  2521875.8\n",
              "                       2012  2532456.4\n",
              "                   NL  2010   589946.6\n",
              "                       2011   599097.8\n",
              "                       2012   592925.0\n",
              "           D21     DE  2010   228297.9\n",
              "                       2011   237275.9\n",
              "                       2012   236325.2\n",
              "                   NL  2010    60631.6\n",
              "                       2011    59852.5\n",
              "                       2012    57924.1"
            ]
          },
          "metadata": {
            "tags": []
          },
          "execution_count": 29
        }
      ]
    },
    {
      "cell_type": "markdown",
      "metadata": {
        "id": "_Flw7PPbYiYj",
        "colab_type": "text"
      },
      "source": [
        "---\n",
        "\n",
        "We can calculate the means (across years) for each country and each `na_item` using `.groupby(...)` on a DataFrame.\n",
        "\n",
        "`groupby` simply groups a dataframe over the indexes/columns that are passed to it, on which we can then apply an aggregation function such as `.mean()`"
      ]
    },
    {
      "cell_type": "code",
      "metadata": {
        "id": "m5vl6U8JYiYk",
        "colab_type": "code",
        "outputId": "77920cd5-362c-443d-cff5-f80f9f4c3bbf",
        "colab": {}
      },
      "source": [
        "df_means = (df.groupby(['na_item', 'geo'])\n",
        "            .mean()\n",
        "           )\n",
        "df_means"
      ],
      "execution_count": 0,
      "outputs": [
        {
          "output_type": "execute_result",
          "data": {
            "text/html": [
              "<div>\n",
              "<style scoped>\n",
              "    .dataframe tbody tr th:only-of-type {\n",
              "        vertical-align: middle;\n",
              "    }\n",
              "\n",
              "    .dataframe tbody tr th {\n",
              "        vertical-align: top;\n",
              "    }\n",
              "\n",
              "    .dataframe thead th {\n",
              "        text-align: right;\n",
              "    }\n",
              "</style>\n",
              "<table border=\"1\" class=\"dataframe\">\n",
              "  <thead>\n",
              "    <tr style=\"text-align: right;\">\n",
              "      <th></th>\n",
              "      <th></th>\n",
              "      <th>value</th>\n",
              "    </tr>\n",
              "    <tr>\n",
              "      <th>na_item</th>\n",
              "      <th>geo</th>\n",
              "      <th></th>\n",
              "    </tr>\n",
              "  </thead>\n",
              "  <tbody>\n",
              "    <tr>\n",
              "      <td rowspan=\"2\" valign=\"top\">B1GQ</td>\n",
              "      <td>DE</td>\n",
              "      <td>2.493661e+06</td>\n",
              "    </tr>\n",
              "    <tr>\n",
              "      <td>NL</td>\n",
              "      <td>5.939898e+05</td>\n",
              "    </tr>\n",
              "    <tr>\n",
              "      <td rowspan=\"2\" valign=\"top\">D21</td>\n",
              "      <td>DE</td>\n",
              "      <td>2.339663e+05</td>\n",
              "    </tr>\n",
              "    <tr>\n",
              "      <td>NL</td>\n",
              "      <td>5.946940e+04</td>\n",
              "    </tr>\n",
              "  </tbody>\n",
              "</table>\n",
              "</div>"
            ],
            "text/plain": [
              "                    value\n",
              "na_item geo              \n",
              "B1GQ    DE   2.493661e+06\n",
              "        NL   5.939898e+05\n",
              "D21     DE   2.339663e+05\n",
              "        NL   5.946940e+04"
            ]
          },
          "metadata": {
            "tags": []
          },
          "execution_count": 30
        }
      ]
    },
    {
      "cell_type": "markdown",
      "metadata": {
        "id": "ma2GH7WPYiYq",
        "colab_type": "text"
      },
      "source": [
        "---"
      ]
    },
    {
      "cell_type": "markdown",
      "metadata": {
        "id": "QhiUFAzBYiYr",
        "colab_type": "text"
      },
      "source": [
        "We can \"unstack\" indexes to become columns..."
      ]
    },
    {
      "cell_type": "code",
      "metadata": {
        "id": "qIr6OX-IYiYs",
        "colab_type": "code",
        "outputId": "1b910f20-1ecb-4ae2-b996-ad89db266dbf",
        "colab": {}
      },
      "source": [
        "df.unstack('na_item')\n",
        "\n"
      ],
      "execution_count": 0,
      "outputs": [
        {
          "output_type": "execute_result",
          "data": {
            "text/html": [
              "<div>\n",
              "<style scoped>\n",
              "    .dataframe tbody tr th:only-of-type {\n",
              "        vertical-align: middle;\n",
              "    }\n",
              "\n",
              "    .dataframe tbody tr th {\n",
              "        vertical-align: top;\n",
              "    }\n",
              "\n",
              "    .dataframe thead tr th {\n",
              "        text-align: left;\n",
              "    }\n",
              "\n",
              "    .dataframe thead tr:last-of-type th {\n",
              "        text-align: right;\n",
              "    }\n",
              "</style>\n",
              "<table border=\"1\" class=\"dataframe\">\n",
              "  <thead>\n",
              "    <tr>\n",
              "      <th></th>\n",
              "      <th></th>\n",
              "      <th></th>\n",
              "      <th colspan=\"2\" halign=\"left\">value</th>\n",
              "    </tr>\n",
              "    <tr>\n",
              "      <th></th>\n",
              "      <th></th>\n",
              "      <th>na_item</th>\n",
              "      <th>B1GQ</th>\n",
              "      <th>D21</th>\n",
              "    </tr>\n",
              "    <tr>\n",
              "      <th>unit</th>\n",
              "      <th>geo</th>\n",
              "      <th>time</th>\n",
              "      <th></th>\n",
              "      <th></th>\n",
              "    </tr>\n",
              "  </thead>\n",
              "  <tbody>\n",
              "    <tr>\n",
              "      <td rowspan=\"6\" valign=\"top\">CLV05_MEUR</td>\n",
              "      <td rowspan=\"3\" valign=\"top\">DE</td>\n",
              "      <td>2010</td>\n",
              "      <td>2426650.8</td>\n",
              "      <td>228297.9</td>\n",
              "    </tr>\n",
              "    <tr>\n",
              "      <td>2011</td>\n",
              "      <td>2521875.8</td>\n",
              "      <td>237275.9</td>\n",
              "    </tr>\n",
              "    <tr>\n",
              "      <td>2012</td>\n",
              "      <td>2532456.4</td>\n",
              "      <td>236325.2</td>\n",
              "    </tr>\n",
              "    <tr>\n",
              "      <td rowspan=\"3\" valign=\"top\">NL</td>\n",
              "      <td>2010</td>\n",
              "      <td>589946.6</td>\n",
              "      <td>60631.6</td>\n",
              "    </tr>\n",
              "    <tr>\n",
              "      <td>2011</td>\n",
              "      <td>599097.8</td>\n",
              "      <td>59852.5</td>\n",
              "    </tr>\n",
              "    <tr>\n",
              "      <td>2012</td>\n",
              "      <td>592925.0</td>\n",
              "      <td>57924.1</td>\n",
              "    </tr>\n",
              "  </tbody>\n",
              "</table>\n",
              "</div>"
            ],
            "text/plain": [
              "                         value          \n",
              "na_item                   B1GQ       D21\n",
              "unit       geo time                     \n",
              "CLV05_MEUR DE  2010  2426650.8  228297.9\n",
              "               2011  2521875.8  237275.9\n",
              "               2012  2532456.4  236325.2\n",
              "           NL  2010   589946.6   60631.6\n",
              "               2011   599097.8   59852.5\n",
              "               2012   592925.0   57924.1"
            ]
          },
          "metadata": {
            "tags": []
          },
          "execution_count": 31
        }
      ]
    },
    {
      "cell_type": "markdown",
      "metadata": {
        "id": "jZuTkL8lYiYv",
        "colab_type": "text"
      },
      "source": [
        "Note the `value` at the top level of the columns above - this means we can't do `df['D21']` directly, but have to do `df['value']['D21']  (or drop the `value` level from our dataframe which we will see below).\n",
        "\n",
        "\n",
        "We can reverse what we just did with \"stack\".\n",
        "`stack` makes a dataset longer (taller) and `unstack` makes a dataset wider"
      ]
    },
    {
      "cell_type": "code",
      "metadata": {
        "id": "h3GR7nXhYiYw",
        "colab_type": "code",
        "outputId": "b55c5206-3ec6-43d9-e4db-9a2e0643ecd4",
        "colab": {}
      },
      "source": [
        "(df\n",
        " .unstack('na_item')\n",
        " .stack('na_item')\n",
        " )"
      ],
      "execution_count": 0,
      "outputs": [
        {
          "output_type": "execute_result",
          "data": {
            "text/html": [
              "<div>\n",
              "<style scoped>\n",
              "    .dataframe tbody tr th:only-of-type {\n",
              "        vertical-align: middle;\n",
              "    }\n",
              "\n",
              "    .dataframe tbody tr th {\n",
              "        vertical-align: top;\n",
              "    }\n",
              "\n",
              "    .dataframe thead th {\n",
              "        text-align: right;\n",
              "    }\n",
              "</style>\n",
              "<table border=\"1\" class=\"dataframe\">\n",
              "  <thead>\n",
              "    <tr style=\"text-align: right;\">\n",
              "      <th></th>\n",
              "      <th></th>\n",
              "      <th></th>\n",
              "      <th></th>\n",
              "      <th>value</th>\n",
              "    </tr>\n",
              "    <tr>\n",
              "      <th>unit</th>\n",
              "      <th>geo</th>\n",
              "      <th>time</th>\n",
              "      <th>na_item</th>\n",
              "      <th></th>\n",
              "    </tr>\n",
              "  </thead>\n",
              "  <tbody>\n",
              "    <tr>\n",
              "      <td rowspan=\"12\" valign=\"top\">CLV05_MEUR</td>\n",
              "      <td rowspan=\"6\" valign=\"top\">DE</td>\n",
              "      <td rowspan=\"2\" valign=\"top\">2010</td>\n",
              "      <td>B1GQ</td>\n",
              "      <td>2426650.8</td>\n",
              "    </tr>\n",
              "    <tr>\n",
              "      <td>D21</td>\n",
              "      <td>228297.9</td>\n",
              "    </tr>\n",
              "    <tr>\n",
              "      <td rowspan=\"2\" valign=\"top\">2011</td>\n",
              "      <td>B1GQ</td>\n",
              "      <td>2521875.8</td>\n",
              "    </tr>\n",
              "    <tr>\n",
              "      <td>D21</td>\n",
              "      <td>237275.9</td>\n",
              "    </tr>\n",
              "    <tr>\n",
              "      <td rowspan=\"2\" valign=\"top\">2012</td>\n",
              "      <td>B1GQ</td>\n",
              "      <td>2532456.4</td>\n",
              "    </tr>\n",
              "    <tr>\n",
              "      <td>D21</td>\n",
              "      <td>236325.2</td>\n",
              "    </tr>\n",
              "    <tr>\n",
              "      <td rowspan=\"6\" valign=\"top\">NL</td>\n",
              "      <td rowspan=\"2\" valign=\"top\">2010</td>\n",
              "      <td>B1GQ</td>\n",
              "      <td>589946.6</td>\n",
              "    </tr>\n",
              "    <tr>\n",
              "      <td>D21</td>\n",
              "      <td>60631.6</td>\n",
              "    </tr>\n",
              "    <tr>\n",
              "      <td rowspan=\"2\" valign=\"top\">2011</td>\n",
              "      <td>B1GQ</td>\n",
              "      <td>599097.8</td>\n",
              "    </tr>\n",
              "    <tr>\n",
              "      <td>D21</td>\n",
              "      <td>59852.5</td>\n",
              "    </tr>\n",
              "    <tr>\n",
              "      <td rowspan=\"2\" valign=\"top\">2012</td>\n",
              "      <td>B1GQ</td>\n",
              "      <td>592925.0</td>\n",
              "    </tr>\n",
              "    <tr>\n",
              "      <td>D21</td>\n",
              "      <td>57924.1</td>\n",
              "    </tr>\n",
              "  </tbody>\n",
              "</table>\n",
              "</div>"
            ],
            "text/plain": [
              "                                 value\n",
              "unit       geo time na_item           \n",
              "CLV05_MEUR DE  2010 B1GQ     2426650.8\n",
              "                    D21       228297.9\n",
              "               2011 B1GQ     2521875.8\n",
              "                    D21       237275.9\n",
              "               2012 B1GQ     2532456.4\n",
              "                    D21       236325.2\n",
              "           NL  2010 B1GQ      589946.6\n",
              "                    D21        60631.6\n",
              "               2011 B1GQ      599097.8\n",
              "                    D21        59852.5\n",
              "               2012 B1GQ      592925.0\n",
              "                    D21        57924.1"
            ]
          },
          "metadata": {
            "tags": []
          },
          "execution_count": 32
        }
      ]
    },
    {
      "cell_type": "markdown",
      "metadata": {
        "id": "dSeOjrnxYiY0",
        "colab_type": "text"
      },
      "source": [
        "Ok, lets:\n",
        "* Unstack `na_items` and `geo` as before\n",
        "* Drop the `unit` index (which only has one value)\n",
        "* Drop the `value` column level\n",
        "* Turn the output into a bar plot"
      ]
    },
    {
      "cell_type": "code",
      "metadata": {
        "id": "Pcx8NKBEYiY1",
        "colab_type": "code",
        "outputId": "9f2a2418-f8ec-4aeb-98e6-fe54e71fabc5",
        "colab": {}
      },
      "source": [
        "(df\n",
        " .unstack(['na_item', 'geo'])  # unstacks indices (makes our dataset wider)\n",
        " .droplevel('unit', axis=0)  # Everything is in the same unit so we drop it\n",
        " .droplevel(0, axis=1)  # OR: ['value']\n",
        " .plot(kind='bar')  # Make a bar plot\n",
        " )"
      ],
      "execution_count": 0,
      "outputs": [
        {
          "output_type": "execute_result",
          "data": {
            "text/plain": [
              "<matplotlib.axes._subplots.AxesSubplot at 0x7f3401ec09b0>"
            ]
          },
          "metadata": {
            "tags": []
          },
          "execution_count": 41
        },
        {
          "output_type": "display_data",
          "data": {
            "image/png": "[encoded data removed]",
            "text/plain": [
              "<Figure size 432x288 with 1 Axes>"
            ]
          },
          "metadata": {
            "tags": [],
            "needs_background": "light"
          }
        }
      ]
    },
    {
      "cell_type": "markdown",
      "metadata": {
        "id": "ht-J0hx9YiY8",
        "colab_type": "text"
      },
      "source": [
        "We can also chain our commands together rather than storing the intermediate values.\n",
        "This makes it easier to read the flow of operations but removes the ability to inspect intermediate results."
      ]
    },
    {
      "cell_type": "code",
      "metadata": {
        "id": "9Fs9Z-WWYiY_",
        "colab_type": "code",
        "colab": {}
      },
      "source": [
        "# Look at the documentation for the plot function below and see what types of plot you can make\n",
        "pd.DataFrame.plot?"
      ],
      "execution_count": 0,
      "outputs": []
    },
    {
      "cell_type": "markdown",
      "metadata": {
        "id": "HtUH191jYiZF",
        "colab_type": "text"
      },
      "source": [
        "### Real-world considerations for Requests\n",
        "\n",
        "Things do not always go so nicely, particularly when using API's at scale.\n",
        "\n",
        "We'll quickly cover some other common considerations when using API's, and outline how they can be solved.\n",
        "\n",
        "#### Retries\n",
        "\n",
        "Sometimes you can do everything perfectly, and send off a request but something on the web-server (or elsewhere) can go wrong and give a bad status code.\n",
        "We don't want to silently ignore these errors or let them crash our program by raising an exception.\n",
        "\n",
        "The first port of call is to retry the request again.\n",
        "\n",
        "---\n",
        "\n",
        "A hacky way to do this would be (**don't do this**):\n",
        "\n",
        "``` python\n",
        "import time\n",
        "import requests\n",
        "\n",
        "def get(url):\n",
        "    try:\n",
        "        r = requests.get(url)\n",
        "        r.raise_for_status()  # raise an error on a bad status\n",
        "    except:\n",
        "        time.sleep(1)  # sleep for a bit in case that helps\n",
        "        return get(url)  # try again\n",
        "```\n",
        "\n",
        "---\n",
        "\n",
        "A better and easier way to do this is to use the [tenacity](https://github.com/jd/tenacity) library:\n",
        "\n",
        "``` python\n",
        "import requests\n",
        "from tenacity import (retry, stop_after_attempt, wait_fixed,\n",
        "                      retry_if_exception_type)\n",
        "\n",
        "@retry(stop=stop_after_attempt(3), wait=wait_fixed(0.1),\n",
        "      retry=retry_if_exception_type(requests.HTTPError))\n",
        "def get(url):\n",
        "    try:\n",
        "        r = requests.get(url)\n",
        "        r.raise_for_status()  # raise an error on a bad status\n",
        "        return r\n",
        "    except requests.HTTPError:\n",
        "        print(r.status_code, r.reason)\n",
        "        raise\n",
        "```\n",
        "\n",
        "It uses a python decorator (the `@` symbol) to wrap our function with another function `retry` that will retry if we raise an error.\n",
        "\n",
        "We can tell it how many times to stop trying after, how long to wait between each retry, what error to retry on etc.\n",
        "\n",
        "#### Authentication\n",
        "\n",
        "Not all API's are open for immediate use. For example, some require you pay for access (e.g. the google maps API) and some require you to register for access first.\n",
        "\n",
        "When you get access to a \"closed\" API, you will typically get an API key - a long string of letters and numbers - which is unique to you which you need to send along with any GET request you make to the API.\n",
        "This lets the API know who you are and decide how to deal with your request.\n",
        "\n",
        "Several different types of authentication exists (read the specific API docs) but the most common way is:\n",
        "``` python\n",
        "api_key = 'asodifhafglkkhj'\n",
        "r = requests.get(url, auth=(api_key, ''))\n",
        "```\n",
        "\n",
        "#### Rate limits\n",
        "\n",
        "API's can be costly to host and typically limit the number of requests that can be made (either by an IP or API key).\n",
        "If you exceed this limit you'll get a `429` status code for any extra requests you make (and may be blocked if you continue making them).\n",
        "\n",
        "It is important to therefore respect any rate limits given in an API's documentation (annoyingly some are very vague).\n",
        "The simplest way to do this is to limit how often the number of times our function that makes the request can be called within some time limit using the [ratelim](https://pypi.org/project/ratelim/) library - again using decorators."
      ]
    },
    {
      "cell_type": "code",
      "metadata": {
        "id": "hCWdsyWQYiZL",
        "colab_type": "code",
        "outputId": "f203e093-b1fc-4cab-8ae9-fe718e9e6552",
        "colab": {}
      },
      "source": [
        "import ratelim\n",
        "import time\n",
        "\n",
        "# 10 times in 5 seconds as fast as possible\n",
        "@ratelim.greedy(10, 5)\n",
        "def hello_greedy(i):\n",
        "    print(i, \"hello\")\n",
        "    \n",
        "# Fast\n",
        "t0 = time.time()\n",
        "for i in range(10):\n",
        "    hello_greedy(i)\n",
        "print(f\"Took {(time.time() - t0):.3f} seconds\")"
      ],
      "execution_count": 0,
      "outputs": [
        {
          "output_type": "stream",
          "text": [
            "0 hello\n",
            "1 hello\n",
            "2 hello\n",
            "3 hello\n",
            "4 hello\n",
            "5 hello\n",
            "6 hello\n",
            "7 hello\n",
            "8 hello\n",
            "9 hello\n",
            "Took 0.001 seconds\n"
          ],
          "name": "stdout"
        }
      ]
    },
    {
      "cell_type": "code",
      "metadata": {
        "id": "--fMYZFfYiZO",
        "colab_type": "code",
        "outputId": "6b0a6d72-7000-44c1-f7b4-61543add4127",
        "colab": {}
      },
      "source": [
        "# 10 times in 5 seconds as fast as possible\n",
        "@ratelim.greedy(10, 5)\n",
        "def hello_greedy(i):\n",
        "    print(i, \"hello\")\n",
        "\n",
        "# Takes ~5 seconds because we hit the rate limit\n",
        "t0 = time.time()\n",
        "for i in range(11):\n",
        "    hello_greedy(i)\n",
        "print(f\"Took {(time.time() - t0):.3f} seconds\")"
      ],
      "execution_count": 0,
      "outputs": [
        {
          "output_type": "stream",
          "text": [
            "0 hello\n",
            "1 hello\n",
            "2 hello\n",
            "3 hello\n",
            "4 hello\n",
            "5 hello\n",
            "6 hello\n",
            "7 hello\n",
            "8 hello\n",
            "9 hello\n",
            "10 hello\n",
            "Took 5.007 seconds\n"
          ],
          "name": "stdout"
        }
      ]
    },
    {
      "cell_type": "code",
      "metadata": {
        "id": "znAGUhVqYiZR",
        "colab_type": "code",
        "outputId": "cff1f5db-8dec-4792-8779-adecce764fcb",
        "colab": {}
      },
      "source": [
        "# 10 times in 5 seconds\n",
        "# Gets called at most every 0.5 seconds\n",
        "@ratelim.patient(10, 5)\n",
        "def hello_patient(i):\n",
        "    print(i, \"hello\")\n",
        "\n",
        "# Takes ~4.5s\n",
        "t0 = time.time()\n",
        "for i in range(10):\n",
        "    hello_patient(i)\n",
        "print(f\"Took {(time.time() - t0):.3f} seconds\")"
      ],
      "execution_count": 0,
      "outputs": [
        {
          "output_type": "stream",
          "text": [
            "0 hello\n",
            "1 hello\n",
            "2 hello\n",
            "3 hello\n",
            "4 hello\n",
            "5 hello\n",
            "6 hello\n",
            "7 hello\n",
            "8 hello\n",
            "9 hello\n",
            "Took 4.515 seconds\n"
          ],
          "name": "stdout"
        }
      ]
    },
    {
      "cell_type": "markdown",
      "metadata": {
        "id": "FMHkRRUSYiZU",
        "colab_type": "text"
      },
      "source": [
        "Using `ratelim.patient` is kinder to the API you are using as you lower the risk of overwhelming the API and getting a batch of responses with bad statuses."
      ]
    },
    {
      "cell_type": "markdown",
      "metadata": {
        "id": "8abdAktXYiZU",
        "colab_type": "text"
      },
      "source": [
        "## Exercise\n",
        "\n",
        "**Task**\n",
        "\n",
        "* Get the data for dataset `rd_e_berdindr2` from the Eurostat API for all NACE activities as a percentage of GDP\n",
        "* Read the data into a pandas dataframe\n",
        "* Calculate the total expenditure across countries each year\n",
        "* Plot it\n",
        "\n",
        "---\n",
        "**Links**\n",
        "\n",
        "* [Query builder](https://ec.europa.eu/eurostat/web/json-and-unicode-web-services/getting-started/query-builder)\n",
        "* [Data Explorer](https://appsso.eurostat.ec.europa.eu/nui/show.do?dataset=rd_e_berdindr2&lang=en)\n",
        "* [Metadata](https://ec.europa.eu/eurostat/cache/metadata/en/rd_esms.htm)\n",
        "\n",
        "---\n",
        "**Hint**\n",
        "If you look at the data-explorer/metadata/response you will see that there won't be a `payload['value']` for every possible index - there is missing data.\n",
        "To deal with this we can create a quick workaround by using a `defaultdict` from the `collections` library.\n",
        "A default dict takes a function and a dictionary as arguements. When a value is looked up in the dictionary that isn't found it calls and returns the function passed to `defaultdict`. \n",
        "\n",
        "Below we create a `defaultdict` that returns `None` for indexes that aren't there and builds a new dictionary that fills in the missing data:\n",
        "\n",
        "``` python\n",
        "from collections import defaultdict\n",
        "n = len(index)  # Length of our index\n",
        "def return_none():\n",
        "    return None\n",
        "d = defaultdict(return_none, payload['value'])  # Build default dict\n",
        "values = [\n",
        "    d[str(i)]  # Lookup `i` in dictionary\n",
        "    for i in range(n)  # Numberical indexes\n",
        "]\n",
        "```\n",
        "NOTE: We use `str(i)` because the keys of the dictionaries are strings not integers so we need to convert\n",
        "\n",
        "---\n",
        "**EXTENSION**\n",
        "\n",
        "Pick another dataset from Eurostat, fetch it and use a [`merge`](https://pandas.pydata.org/pandas-docs/stable/reference/api/pandas.DataFrame.merge.html) operation to join the two datasets together.\n",
        "\n",
        "\n",
        "---\n",
        "\n",
        "[Solution (don't peek until you've tried)](https://github.com/nestauk/im-tutorials/blob/3-ysi-tutorial/notebooks/APIs/API_exercise_solution.ipynb)"
      ]
    },
    {
      "cell_type": "code",
      "metadata": {
        "id": "UDXFMs_KYiZV",
        "colab_type": "code",
        "colab": {}
      },
      "source": [
        "## Template\n",
        "\n",
        "# Make the request\n",
        "import requests\n",
        "\n",
        "url = ...\n",
        "\n",
        "response = requests.get(url)\n",
        "response.raise_for_status()  # Gives an error if not successful\n",
        "\n",
        "# Parse into JSON\n",
        "payload = ...\n",
        "\n",
        "# Define the index from `payload['dimension']`\n",
        "index = ...\n",
        "\n",
        "# Get data values\n",
        "values = ...\n",
        "\n",
        "# Read into dataframe, manipulate and plot\n",
        "(pd.DataFrame(values, index=index)\n",
        "    # Make dataframe wider (~1 line(s))\n",
        "    # Get totals (1 line)\n",
        "    # Plot (1 line)\n",
        ")"
      ],
      "execution_count": 0,
      "outputs": []
    },
    {
      "cell_type": "markdown",
      "metadata": {
        "id": "9m0IdG5bYiZg",
        "colab_type": "text"
      },
      "source": [
        "## Resources"
      ]
    },
    {
      "cell_type": "markdown",
      "metadata": {
        "id": "BvkAPeybYiZi",
        "colab_type": "text"
      },
      "source": [
        "### Assorted API snippets"
      ]
    },
    {
      "cell_type": "code",
      "metadata": {
        "id": "tNnTENxQYiZj",
        "colab_type": "code",
        "colab": {}
      },
      "source": [
        "## COMPANIES HOUSE (UK registrar of companies)\n",
        "# Register for an api key here: https://developer.companieshouse.gov.uk/developer/signin\n",
        "\n",
        "api_key = 'put your api key here'\n",
        "url = 'https://api.companieshouse.gov.uk/search?q=consultio consultius'\n",
        "r = requests.get(url, auth=(api_key, ''))\n",
        "r.raise_for_status()\n",
        "\n",
        "r.json()['items'][0]  # get the first item"
      ],
      "execution_count": 0,
      "outputs": []
    },
    {
      "cell_type": "markdown",
      "metadata": {
        "id": "MDpSsIf6YiZm",
        "colab_type": "raw"
      },
      "source": [
        "# Example output\n",
        "{'title': 'CONSULTIO CONSULTIUS CONSULTING  LIMITED',\n",
        " 'snippet': '',\n",
        " 'address': {'country': 'United Kingdom',\n",
        "  'region': 'Uk',\n",
        "  'address_line_1': 'Gibbons Close',\n",
        "  'postal_code': 'GU47 9BB',\n",
        "  'address_line_2': 'Sandhurst',\n",
        "  'premises': '3 ',\n",
        "  'locality': 'Berkshire'},\n",
        " 'date_of_cessation': '2016-11-22',\n",
        " 'date_of_creation': '2016-03-29',\n",
        " 'kind': 'searchresults#company',\n",
        " 'matches': {'title': [1, 9, 11, 20], 'snippet': []},\n",
        " 'description': '10088276 - Dissolved on 22 November 2016',\n",
        " 'company_type': 'ltd',\n",
        " 'description_identifier': ['dissolved-on'],\n",
        " 'company_number': '10088276',\n",
        " 'company_status': 'dissolved',\n",
        " 'links': {'self': '/company/10088276'},\n",
        " 'address_snippet': '3  Gibbons Close, Sandhurst, Berkshire, Uk, United Kingdom, GU47 9BB'}"
      ]
    },
    {
      "cell_type": "code",
      "metadata": {
        "id": "u95LkuHTYiZo",
        "colab_type": "code",
        "outputId": "eb3be56b-adec-4181-ae13-5040dcd26d1e",
        "colab": {}
      },
      "source": [
        "## REDDIT - https://www.reddit.com/dev/api/#GET_subreddits_search\n",
        "# Let's find some subreddits to learn python with!\n",
        "# https://www.reddit.com/dev/api/#GET_subreddits_search\n",
        "\n",
        "url = 'https://www.reddit.com/subreddits/search.json?q=\"learn python\"&limit=5'\n",
        "r = requests.get(url, headers={'User-agent': 'your bot 0.1'})\n",
        "r.raise_for_status()\n",
        "\n",
        "[result['data']['display_name_prefixed']\n",
        " for result in r.json()['data']['children']]"
      ],
      "execution_count": 0,
      "outputs": [
        {
          "output_type": "execute_result",
          "data": {
            "text/plain": [
              "['r/learnpython',\n",
              " 'r/Python',\n",
              " 'r/learnprogramming',\n",
              " 'r/programming',\n",
              " 'r/FreeEBOOKS']"
            ]
          },
          "metadata": {
            "tags": []
          },
          "execution_count": 38
        }
      ]
    },
    {
      "cell_type": "markdown",
      "metadata": {
        "id": "OOiUKzthYiZv",
        "colab_type": "text"
      },
      "source": [
        "### List of API's\n",
        "\n",
        "Massive list [**here**](https://github.com/public-apis/public-apis)\n"
      ]
    },
    {
      "cell_type": "markdown",
      "metadata": {
        "id": "fIJcKsyZYiZw",
        "colab_type": "text"
      },
      "source": [
        "### API wrapper libraries\n",
        "\n",
        "Massive list [**here**](https://github.com/realpython/list-of-python-api-wrappers).\n",
        "\n",
        "For example, geo-code location data with [`geopy`](https://github.com/geopy/geopy) :"
      ]
    },
    {
      "cell_type": "code",
      "metadata": {
        "id": "8HTQfws4YiZx",
        "colab_type": "code",
        "outputId": "a1fc2806-2365-44aa-a58e-34947cdb5bd8",
        "colab": {}
      },
      "source": [
        "from geopy.geocoders import Nominatim\n",
        "geolocator = Nominatim(user_agent=\"ysi_tutorial\")\n",
        "\n",
        "print(geolocator.geocode(\"Leuvenlaan 4\"))  # From address\n",
        "print(geolocator.reverse(\"52.086779,5.1674726\"))  # From co-ordinates"
      ],
      "execution_count": 0,
      "outputs": [
        {
          "output_type": "stream",
          "text": [
            "Jazzmans, 4, Leuvenlaan, Utrecht, Nederland, 3584CE, Nederland\n",
            "Jazzmans, 4, Leuvenlaan, Utrecht, Nederland, 3584CE, Nederland\n"
          ],
          "name": "stdout"
        }
      ]
    },
    {
      "cell_type": "markdown",
      "metadata": {
        "id": "oIPrjALLYiZ1",
        "colab_type": "text"
      },
      "source": [
        "### More detailed tutorials\n",
        "\n",
        "* Python - https://www.reddit.com/r/learnpython/wiki/index\n",
        "\n",
        "  This wiki gives a lot of different resources for people both new to programming, or just new to python.\n",
        "* Pandas - https://pandas.pydata.org/pandas-docs/stable/getting_started/tutorials.html\n",
        "    \n",
        "* Requests/API's\n",
        "    * https://realpython.com/python-requests/\n",
        "    * https://www.dataquest.io/blog/python-api-tutorial/"
      ]
    }
  ]
}