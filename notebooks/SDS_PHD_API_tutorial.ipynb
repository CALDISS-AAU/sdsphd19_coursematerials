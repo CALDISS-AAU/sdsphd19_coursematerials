{
  "nbformat": 4,
  "nbformat_minor": 0,
  "metadata": {
    "hide_input": false,
    "kernelspec": {
      "display_name": "Python 3",
      "language": "python",
      "name": "python3"
    },
    "language_info": {
      "codemirror_mode": {
        "name": "ipython",
        "version": 3
      },
      "file_extension": ".py",
      "mimetype": "text/x-python",
      "name": "python",
      "nbconvert_exporter": "python",
      "pygments_lexer": "ipython3",
      "version": "3.7.3"
    },
    "toc": {
      "base_numbering": 1,
      "nav_menu": {},
      "number_sections": true,
      "sideBar": true,
      "skip_h1_title": false,
      "title_cell": "Table of Contents",
      "title_sidebar": "Contents",
      "toc_cell": false,
      "toc_position": {},
      "toc_section_display": true,
      "toc_window_display": false
    },
    "varInspector": {
      "cols": {
        "lenName": 16,
        "lenType": 16,
        "lenVar": 40
      },
      "kernels_config": {
        "python": {
          "delete_cmd_postfix": "",
          "delete_cmd_prefix": "del ",
          "library": "var_list.py",
          "varRefreshCmd": "print(var_dic_list())"
        },
        "r": {
          "delete_cmd_postfix": ") ",
          "delete_cmd_prefix": "rm(",
          "library": "var_list.r",
          "varRefreshCmd": "cat(var_dic_list()) "
        }
      },
      "types_to_exclude": [
        "module",
        "function",
        "builtin_function_or_method",
        "instance",
        "_Feature"
      ],
      "window_display": false
    },
    "colab": {
      "name": "SDS PHD API_tutorial.ipynb",
      "provenance": [],
      "include_colab_link": true
    }
  },
  "cells": [
    {
      "cell_type": "markdown",
      "metadata": {
        "id": "view-in-github",
        "colab_type": "text"
      },
      "source": [
        "<a href=\"https://colab.research.google.com/github/CALDISS-AAU/sdsphd19_coursematerials/blob/master/notebooks/SDS_PHD_API_tutorial.ipynb\" target=\"_parent\"><img src=\"https://colab.research.google.com/assets/colab-badge.svg\" alt=\"Open In Colab\"/></a>"
      ]
    },
    {
      "cell_type": "code",
      "metadata": {
        "id": "wWvl2zzuYiVY",
        "colab_type": "code",
        "colab": {}
      },
      "source": [
        "%matplotlib inline"
      ],
      "execution_count": 0,
      "outputs": []
    },
    {
      "cell_type": "code",
      "metadata": {
        "id": "FLjdDWrEYiVn",
        "colab_type": "code",
        "colab": {
          "base_uri": "https://localhost:8080/",
          "height": 85
        },
        "outputId": "883f261d-57b5-483f-b897-07702f10835e"
      },
      "source": [
        "# install other packages we need\n",
        "!pip install ratelim tenacity\n",
        "\n",
        "# Import standard stuff\n",
        "import pandas as pd\n"
      ],
      "execution_count": 9,
      "outputs": [
        {
          "output_type": "stream",
          "text": [
            "Requirement already satisfied: ratelim in /usr/local/lib/python3.6/dist-packages (0.1.6)\n",
            "Requirement already satisfied: tenacity in /usr/local/lib/python3.6/dist-packages (6.0.0)\n",
            "Requirement already satisfied: decorator in /usr/local/lib/python3.6/dist-packages (from ratelim) (4.4.1)\n",
            "Requirement already satisfied: six>=1.9.0 in /usr/local/lib/python3.6/dist-packages (from tenacity) (1.12.0)\n"
          ],
          "name": "stdout"
        }
      ]
    },
    {
      "cell_type": "markdown",
      "metadata": {
        "id": "Zb3Oz7LRYiVr",
        "colab_type": "text"
      },
      "source": [
        "# Introduction to requests and API's"
      ]
    },
    {
      "cell_type": "markdown",
      "metadata": {
        "id": "3tZiZhchYiVt",
        "colab_type": "text"
      },
      "source": [
        "## What you will be able to do after the tutorial\n",
        "\n",
        "- Understand what a (RESTful) API is\n",
        "- Understand what a HTTP request is\n",
        "- Use Python to make requests to an API\n",
        "- Use Python to work with JSON data\n",
        "- Use Python to read JSON data into a Dataframe and plot it\n",
        "- Understand how to overcome some real-world complexities when using API's\n",
        "      \n",
        "      "
      ]
    },
    {
      "cell_type": "markdown",
      "metadata": {
        "id": "FJJNT2PoYiVu",
        "colab_type": "text"
      },
      "source": [
        "## Prerequisites\n",
        "\n",
        "Before we get started with using API's in python we need to know a little more first."
      ]
    },
    {
      "cell_type": "markdown",
      "metadata": {
        "id": "ssguGbO7YiVy",
        "colab_type": "text"
      },
      "source": [
        "### APIs : What and why\n",
        "    \n",
        "An API (Application Programming interface) is a way for two different applications to communicate. Whilst the term applies to any two programs we are using it to refer to the API of a web service that provides data.\n",
        "\n",
        "To retrieve data from an API, a request to a remote web server is made.\n",
        "\n",
        "For example, if you want to build an application which plots stock prices, you would use the API of something like google finance to request the current stock prices.\n",
        "\n",
        "APIs are useful where:\n",
        "* Data is changing quickly, e.g. stock prices\n",
        "* The whole dataset is not required, e.g. the tweets of one user\n",
        "* Repeated computation is involved, e.g. Spotify API that tells you the genre of a piece of music\n",
        "\n",
        "#### REST\n",
        "\n",
        "Most API's you come across will be RESTful, i.e. they provide a REST (REpresentational State Transfer) interface.\n",
        "\n",
        "REST uses standard HTTP commands which means that getting data from an API is similar to accessing a webpage. \n",
        "\n",
        "For example, When you type `www.duckduckgo.com` in your browser, your browser is asking the `www.duckduckgo.com` server for a webpage by making a `GET` HTTP (Hypertext Transfer Protocol) request. Making a `GET` request to a RESTful API instead retrieves data (rather than a webpage).\n",
        "\n",
        "Similarly, while your browser uses `POST` to submit the contents of a form, REST APIs use `POST` to update data.\n",
        "\n",
        "REST APIs also uses other HTTP commmands such as `PUT` - for creating data - and `DELETE` - for removing data.\n",
        "\n",
        "HTTP is a text-based protocol (the response is always text) and could return a response in any format - this is typically found in the API documentation - though data is more often than not returned in JSON format.\n",
        "\n",
        "As they are used to retrieve data `GET` requests are the most commonly used type of request, therefore we will restrict ourselves to `GET` in this tutorial.\n",
        "\n",
        "#### JSON\n",
        "\n",
        "JSON (JavaScript Object Notation) is a format for sending data, that is meant to be human readable and easy to parse (It was derived from JavaScript but is language-independent).\n",
        "\n",
        "It uses attribute-value pairs (e.g. python dictionaries `{\"name\": \"Pizza\", \"foodRanking\": 1}`) and array data-types (e.g. python lists `[1, 2, 3]`)\n",
        "\n",
        "Example JSON representation :\n",
        "```\n",
        "{\n",
        "  \"firstName\": \"Donald\",\n",
        "  \"lastName\": \"Trump\",\n",
        "  \"age\": 73,\n",
        "  \"isAlive\": true,\n",
        "  \"color\": \"orange\",\n",
        "  \"addresses\": [\n",
        "      {\n",
        "          \"streetAddress\": \"1600 Pennsylvania Avenue NW\",\n",
        "          \"city\": \"Washington, D.C.\",\n",
        "          \"state\": \"null\",\n",
        "          \"postalCode\": \"20500\",\n",
        "          \"country\": \"US\"\n",
        "      },\n",
        "      {\n",
        "          \"streetAddress\": \"721 Fifth Avenue\",\n",
        "          \"city\": \"NYC\",\n",
        "          \"state\": \"NY\",\n",
        "          \"postalCode\": \"10022\",\n",
        "          \"country\": \"US\"\n",
        "      }\n",
        "  ],\n",
        "}\n",
        "```\n",
        "\n",
        "\n",
        "#### Status codes\n",
        "\n",
        "So we've sent off some mystery `GET` request but how do we know the request was successful?\n",
        "\n",
        "Servers issue numeric [status codes](https://developer.mozilla.org/en-US/docs/Web/HTTP/Status) in response to HTTP requests that indicate whether a request has been successfully completed.\n",
        "\n",
        "Some common ones relating to `GET` requests are:\n",
        "* `200` - Success\n",
        "* `300` - The API is redirecting to a different endpoint\n",
        "* `400` - Bad request\n",
        "* `401` - Not authenticated\n",
        "* `403` - Forbidden\n",
        "* `404` - Not found\n",
        "* `429` - Too many requests"
      ]
    },
    {
      "cell_type": "markdown",
      "metadata": {
        "id": "5aDG2s5OYiX7",
        "colab_type": "text"
      },
      "source": [
        "## Example API: Eurostat\n",
        "\n",
        "Let's dive in by looking at an API that can be of use to us, the [EUROSTAT API](https://ec.europa.eu/eurostat/web/json-and-unicode-web-services).\n",
        "\n",
        "The documentation linked gives a very useful summary of the structure of the requests:\n",
        "![](https://github.com/nestauk/im-tutorials/blob/3-ysi-tutorial/notebooks/APIs/figures/eurostat_api.png?raw=1)\n",
        " \n",
        "* host_url : fixed part of the request related to our website\n",
        "* service : fixed part of the request related to the service\n",
        "* version : fixed part of the request related to the version of the service\n",
        "* format : data format to be returned (json or unicode)\n",
        "* lang : language used for metadata (en/fr/de)\n",
        "* datasetCode : unique code identifier of the queried dataset\n",
        "* filters : specify the scope of the query (optional). There is a threshold of maximum 50 sub-indicators per query. The filters are specific to a dataset, depending on dataset dimensions.\n",
        "    * precision : the number of decimals for the values returned by the request\n",
        "    * unit : filter on the dataset's UNIT dimension "
      ]
    },
    {
      "cell_type": "markdown",
      "metadata": {
        "id": "A-XppkclYiX8",
        "colab_type": "text"
      },
      "source": [
        "We'll learn by example how to use Python to get the data for a REST GET request on this dataset (`nama_10_gdp`).\n",
        "\n",
        "We will use the Python library `requests` - https://github.com/psf/requests."
      ]
    },
    {
      "cell_type": "code",
      "metadata": {
        "id": "VIaOrKWwYiX9",
        "colab_type": "code",
        "outputId": "67e9de44-8d14-46c7-fa7a-c0e290976b5d",
        "colab": {
          "base_uri": "https://localhost:8080/",
          "height": 833
        }
      },
      "source": [
        "import requests  # Import the requests library\n",
        "\n",
        "# Query URL\n",
        "url = ('http://ec.europa.eu/eurostat/wdds/rest/data/v2.1/json/en'\n",
        "       '/nama_10_gdp?precision=1'\n",
        "       '&unit=CLV05_MEUR'  # Unit: CLV (2005) Million EUR\n",
        "       '&geo=NL&geo=DE'  # Country: Netherlands, Germany\n",
        "       '&time=2010&time=2011&time=2012'  # Years: 2010, 2011, 2012\n",
        "       '&na_item=B1GQ&na_item=D21'  # GDP (market prices) & taxes on products\n",
        "       )\n",
        "# Some api's will have nicer syntax like:\n",
        "# `&time=2010..2012` or `&na_item=B1GQ,D21`\n",
        "print(url)\n",
        "\n",
        "response = requests.get(url)  # Make a GET request to the URL\n",
        "\n",
        "# Print status code (and associated text)\n",
        "print(f\"Request returned {response.status_code} : '{response.reason}'\")\n",
        "\n",
        "# Print data returned (parsing as JSON)\n",
        "payload = response.json()  # Parse `response.text` into JSON\n",
        "\n",
        "import pprint\n",
        "pp = pprint.PrettyPrinter(indent=1)\n",
        "pp.pprint(payload)\n",
        "# NOTE: Could use print(response.json()) but this wouldn't be formatted nicely"
      ],
      "execution_count": 2,
      "outputs": [
        {
          "output_type": "stream",
          "text": [
            "http://ec.europa.eu/eurostat/wdds/rest/data/v2.1/json/en/nama_10_gdp?precision=1&unit=CLV05_MEUR&geo=NL&geo=DE&time=2010&time=2011&time=2012&na_item=B1GQ&na_item=D21\n",
            "Request returned 200 : 'OK'\n",
            "{'class': 'dataset',\n",
            " 'dimension': {'geo': {'category': {'index': {'DE': 0, 'NL': 1},\n",
            "                                    'label': {'DE': 'Germany (until 1990 '\n",
            "                                                    'former territory of the '\n",
            "                                                    'FRG)',\n",
            "                                              'NL': 'Netherlands'}},\n",
            "                       'label': 'geo'},\n",
            "               'na_item': {'category': {'index': {'B1GQ': 0, 'D21': 1},\n",
            "                                        'label': {'B1GQ': 'Gross domestic '\n",
            "                                                          'product at market '\n",
            "                                                          'prices',\n",
            "                                                  'D21': 'Taxes on products'}},\n",
            "                           'label': 'na_item'},\n",
            "               'time': {'category': {'index': {'2010': 0, '2011': 1, '2012': 2},\n",
            "                                     'label': {'2010': '2010',\n",
            "                                               '2011': '2011',\n",
            "                                               '2012': '2012'}},\n",
            "                        'label': 'time'},\n",
            "               'unit': {'category': {'index': {'CLV05_MEUR': 0},\n",
            "                                     'label': {'CLV05_MEUR': 'Chain linked '\n",
            "                                                             'volumes (2005), '\n",
            "                                                             'million euro'}},\n",
            "                        'label': 'unit'}},\n",
            " 'extension': {'datasetId': 'nama_10_gdp',\n",
            "               'description': None,\n",
            "               'lang': 'EN',\n",
            "               'subTitle': None},\n",
            " 'href': 'http://ec.europa.eu/eurostat/wdds/rest/data/v2.1/json/en/nama_10_gdp?precision=1&unit=CLV05_MEUR&geo=NL&geo=DE&time=2010&time=2011&time=2012&na_item=B1GQ&na_item=D21',\n",
            " 'id': ['unit', 'na_item', 'geo', 'time'],\n",
            " 'label': 'GDP and main components (output, expenditure and income)',\n",
            " 'size': [1, 2, 2, 3],\n",
            " 'source': 'Eurostat',\n",
            " 'updated': '2019-11-26',\n",
            " 'value': {'0': 2426650.8,\n",
            "           '1': 2521875.8,\n",
            "           '10': 59852.5,\n",
            "           '11': 57924.1,\n",
            "           '2': 2532456.4,\n",
            "           '3': 589946.6,\n",
            "           '4': 599097.8,\n",
            "           '5': 592925.0,\n",
            "           '6': 228297.9,\n",
            "           '7': 237275.9,\n",
            "           '8': 236325.2,\n",
            "           '9': 60631.6},\n",
            " 'version': '2.0'}\n"
          ],
          "name": "stdout"
        }
      ]
    },
    {
      "cell_type": "markdown",
      "metadata": {
        "id": "0DrgANNVYiYC",
        "colab_type": "text"
      },
      "source": [
        "---\n",
        "\n",
        "**Tip:** it's easy to forget what attributes a variable like `response` has - was it `status_code` or `status`?\n",
        "Use the function `dir` to list the contents of a variable.\n",
        "\n",
        "``` python\n",
        "dir(response)\n",
        "```\n",
        "\n",
        "If you're in a jupyter notebook you can also type \"response.\" and then press `TAB` and an autocomplete bar will pop up.\n",
        "\n",
        "---"
      ]
    },
    {
      "cell_type": "markdown",
      "metadata": {
        "id": "Rty7YMOkYiYE",
        "colab_type": "text"
      },
      "source": [
        "**SUCCESS!** But what's the structure of our data?"
      ]
    },
    {
      "cell_type": "code",
      "metadata": {
        "id": "fRw0QDjuYiYI",
        "colab_type": "code",
        "outputId": "6fe2e5b5-e25b-4df1-bba7-d443ffb98f5e",
        "colab": {
          "base_uri": "https://localhost:8080/",
          "height": 221
        }
      },
      "source": [
        "payload['value']  # The values returned aren't very informative!"
      ],
      "execution_count": 3,
      "outputs": [
        {
          "output_type": "execute_result",
          "data": {
            "text/plain": [
              "{'0': 2426650.8,\n",
              " '1': 2521875.8,\n",
              " '10': 59852.5,\n",
              " '11': 57924.1,\n",
              " '2': 2532456.4,\n",
              " '3': 589946.6,\n",
              " '4': 599097.8,\n",
              " '5': 592925.0,\n",
              " '6': 228297.9,\n",
              " '7': 237275.9,\n",
              " '8': 236325.2,\n",
              " '9': 60631.6}"
            ]
          },
          "metadata": {
            "tags": []
          },
          "execution_count": 3
        }
      ]
    },
    {
      "cell_type": "code",
      "metadata": {
        "id": "qwyCpOQyYiYM",
        "colab_type": "code",
        "outputId": "60de0827-2a67-49f4-e778-10b8ad00820e",
        "colab": {
          "base_uri": "https://localhost:8080/",
          "height": 34
        }
      },
      "source": [
        "list(zip(payload['id'], payload['size']))  # Dimensions of our data (1 x 2 x 2 x 3)"
      ],
      "execution_count": 4,
      "outputs": [
        {
          "output_type": "execute_result",
          "data": {
            "text/plain": [
              "[('unit', 1), ('na_item', 2), ('geo', 2), ('time', 3)]"
            ]
          },
          "metadata": {
            "tags": []
          },
          "execution_count": 4
        }
      ]
    },
    {
      "cell_type": "code",
      "metadata": {
        "id": "wboy9tVoYiYP",
        "colab_type": "code",
        "outputId": "8be59abf-18a3-4c69-ae6a-0a0b9df5f3c5",
        "colab": {
          "base_uri": "https://localhost:8080/",
          "height": 255
        }
      },
      "source": [
        "payload['dimension']  # Gives us the dimension details of the data"
      ],
      "execution_count": 5,
      "outputs": [
        {
          "output_type": "execute_result",
          "data": {
            "text/plain": [
              "{'geo': {'category': {'index': {'DE': 0, 'NL': 1},\n",
              "   'label': {'DE': 'Germany (until 1990 former territory of the FRG)',\n",
              "    'NL': 'Netherlands'}},\n",
              "  'label': 'geo'},\n",
              " 'na_item': {'category': {'index': {'B1GQ': 0, 'D21': 1},\n",
              "   'label': {'B1GQ': 'Gross domestic product at market prices',\n",
              "    'D21': 'Taxes on products'}},\n",
              "  'label': 'na_item'},\n",
              " 'time': {'category': {'index': {'2010': 0, '2011': 1, '2012': 2},\n",
              "   'label': {'2010': '2010', '2011': '2011', '2012': '2012'}},\n",
              "  'label': 'time'},\n",
              " 'unit': {'category': {'index': {'CLV05_MEUR': 0},\n",
              "   'label': {'CLV05_MEUR': 'Chain linked volumes (2005), million euro'}},\n",
              "  'label': 'unit'}}"
            ]
          },
          "metadata": {
            "tags": []
          },
          "execution_count": 5
        }
      ]
    },
    {
      "cell_type": "markdown",
      "metadata": {
        "id": "DIzywYCDYiYS",
        "colab_type": "text"
      },
      "source": [
        "We want to extract the indices from each dimension of the data (e.g. 'DE' and 'NL' for 'geo') and enumerate all the possible index combinations in order to build the index for the values in `payload['value']`.\n",
        "\n",
        "Lets first extract the indices..."
      ]
    },
    {
      "cell_type": "code",
      "metadata": {
        "id": "579_VaMGYiYT",
        "colab_type": "code",
        "outputId": "ff4fc51e-22d1-4b94-db96-1a16fecec2b1",
        "colab": {
          "base_uri": "https://localhost:8080/",
          "height": 34
        }
      },
      "source": [
        "list_of_keys = []\n",
        "for k in payload['id']:\n",
        "    list_of_keys.append(\n",
        "        payload['dimension'][k]['category']['index'].keys()\n",
        "        )\n",
        "print(list_of_keys)\n",
        "    \n",
        "# NOTE: Equivalent to: [payload['dimension'][k]['category']['index'].keys() for k in payload['id']]"
      ],
      "execution_count": 6,
      "outputs": [
        {
          "output_type": "stream",
          "text": [
            "[dict_keys(['CLV05_MEUR']), dict_keys(['B1GQ', 'D21']), dict_keys(['DE', 'NL']), dict_keys(['2010', '2011', '2012'])]\n"
          ],
          "name": "stdout"
        }
      ]
    },
    {
      "cell_type": "markdown",
      "metadata": {
        "id": "IMhV14UkYiYZ",
        "colab_type": "text"
      },
      "source": [
        "Now we want to enumerate all the combinations.\n",
        "\n",
        "Fortunately pandas has a function `pd.MultiIndex.from_product` that will do this for us, and let us (optionally) name each of the dimensions by passing a `names=` argument."
      ]
    },
    {
      "cell_type": "code",
      "metadata": {
        "id": "qlud-ty6YiYb",
        "colab_type": "code",
        "outputId": "4c7c5730-3f49-481c-e03e-dbce9837df26",
        "colab": {
          "base_uri": "https://localhost:8080/",
          "height": 238
        }
      },
      "source": [
        "index = pd.MultiIndex.from_product(\n",
        "    list_of_keys, names=payload['id']\n",
        ")\n",
        "index"
      ],
      "execution_count": 10,
      "outputs": [
        {
          "output_type": "execute_result",
          "data": {
            "text/plain": [
              "MultiIndex([('CLV05_MEUR', 'B1GQ', 'DE', '2010'),\n",
              "            ('CLV05_MEUR', 'B1GQ', 'DE', '2011'),\n",
              "            ('CLV05_MEUR', 'B1GQ', 'DE', '2012'),\n",
              "            ('CLV05_MEUR', 'B1GQ', 'NL', '2010'),\n",
              "            ('CLV05_MEUR', 'B1GQ', 'NL', '2011'),\n",
              "            ('CLV05_MEUR', 'B1GQ', 'NL', '2012'),\n",
              "            ('CLV05_MEUR',  'D21', 'DE', '2010'),\n",
              "            ('CLV05_MEUR',  'D21', 'DE', '2011'),\n",
              "            ('CLV05_MEUR',  'D21', 'DE', '2012'),\n",
              "            ('CLV05_MEUR',  'D21', 'NL', '2010'),\n",
              "            ('CLV05_MEUR',  'D21', 'NL', '2011'),\n",
              "            ('CLV05_MEUR',  'D21', 'NL', '2012')],\n",
              "           names=['unit', 'na_item', 'geo', 'time'])"
            ]
          },
          "metadata": {
            "tags": []
          },
          "execution_count": 10
        }
      ]
    },
    {
      "cell_type": "markdown",
      "metadata": {
        "id": "oA0T55vOYiYe",
        "colab_type": "text"
      },
      "source": [
        "Now our index is built we can pass in a list of values, index, and columns to `pd.DataFrame`."
      ]
    },
    {
      "cell_type": "code",
      "metadata": {
        "id": "4l907ptEYiYf",
        "colab_type": "code",
        "outputId": "9bf97e0b-2358-49ba-8ce1-61037c77ddb5",
        "colab": {
          "base_uri": "https://localhost:8080/",
          "height": 452
        }
      },
      "source": [
        "df = pd.DataFrame(payload['value'].values(), index=index, columns=['value'])\n",
        "df"
      ],
      "execution_count": 11,
      "outputs": [
        {
          "output_type": "execute_result",
          "data": {
            "text/html": [
              "<div>\n",
              "<style scoped>\n",
              "    .dataframe tbody tr th:only-of-type {\n",
              "        vertical-align: middle;\n",
              "    }\n",
              "\n",
              "    .dataframe tbody tr th {\n",
              "        vertical-align: top;\n",
              "    }\n",
              "\n",
              "    .dataframe thead th {\n",
              "        text-align: right;\n",
              "    }\n",
              "</style>\n",
              "<table border=\"1\" class=\"dataframe\">\n",
              "  <thead>\n",
              "    <tr style=\"text-align: right;\">\n",
              "      <th></th>\n",
              "      <th></th>\n",
              "      <th></th>\n",
              "      <th></th>\n",
              "      <th>value</th>\n",
              "    </tr>\n",
              "    <tr>\n",
              "      <th>unit</th>\n",
              "      <th>na_item</th>\n",
              "      <th>geo</th>\n",
              "      <th>time</th>\n",
              "      <th></th>\n",
              "    </tr>\n",
              "  </thead>\n",
              "  <tbody>\n",
              "    <tr>\n",
              "      <th rowspan=\"12\" valign=\"top\">CLV05_MEUR</th>\n",
              "      <th rowspan=\"6\" valign=\"top\">B1GQ</th>\n",
              "      <th rowspan=\"3\" valign=\"top\">DE</th>\n",
              "      <th>2010</th>\n",
              "      <td>2426650.8</td>\n",
              "    </tr>\n",
              "    <tr>\n",
              "      <th>2011</th>\n",
              "      <td>2521875.8</td>\n",
              "    </tr>\n",
              "    <tr>\n",
              "      <th>2012</th>\n",
              "      <td>2532456.4</td>\n",
              "    </tr>\n",
              "    <tr>\n",
              "      <th rowspan=\"3\" valign=\"top\">NL</th>\n",
              "      <th>2010</th>\n",
              "      <td>589946.6</td>\n",
              "    </tr>\n",
              "    <tr>\n",
              "      <th>2011</th>\n",
              "      <td>599097.8</td>\n",
              "    </tr>\n",
              "    <tr>\n",
              "      <th>2012</th>\n",
              "      <td>592925.0</td>\n",
              "    </tr>\n",
              "    <tr>\n",
              "      <th rowspan=\"6\" valign=\"top\">D21</th>\n",
              "      <th rowspan=\"3\" valign=\"top\">DE</th>\n",
              "      <th>2010</th>\n",
              "      <td>228297.9</td>\n",
              "    </tr>\n",
              "    <tr>\n",
              "      <th>2011</th>\n",
              "      <td>237275.9</td>\n",
              "    </tr>\n",
              "    <tr>\n",
              "      <th>2012</th>\n",
              "      <td>236325.2</td>\n",
              "    </tr>\n",
              "    <tr>\n",
              "      <th rowspan=\"3\" valign=\"top\">NL</th>\n",
              "      <th>2010</th>\n",
              "      <td>60631.6</td>\n",
              "    </tr>\n",
              "    <tr>\n",
              "      <th>2011</th>\n",
              "      <td>59852.5</td>\n",
              "    </tr>\n",
              "    <tr>\n",
              "      <th>2012</th>\n",
              "      <td>57924.1</td>\n",
              "    </tr>\n",
              "  </tbody>\n",
              "</table>\n",
              "</div>"
            ],
            "text/plain": [
              "                                 value\n",
              "unit       na_item geo time           \n",
              "CLV05_MEUR B1GQ    DE  2010  2426650.8\n",
              "                       2011  2521875.8\n",
              "                       2012  2532456.4\n",
              "                   NL  2010   589946.6\n",
              "                       2011   599097.8\n",
              "                       2012   592925.0\n",
              "           D21     DE  2010   228297.9\n",
              "                       2011   237275.9\n",
              "                       2012   236325.2\n",
              "                   NL  2010    60631.6\n",
              "                       2011    59852.5\n",
              "                       2012    57924.1"
            ]
          },
          "metadata": {
            "tags": []
          },
          "execution_count": 11
        }
      ]
    },
    {
      "cell_type": "markdown",
      "metadata": {
        "id": "_Flw7PPbYiYj",
        "colab_type": "text"
      },
      "source": [
        "---\n",
        "\n",
        "We can calculate the means (across years) for each country and each `na_item` using `.groupby(...)` on a DataFrame.\n",
        "\n",
        "`groupby` simply groups a dataframe over the indexes/columns that are passed to it, on which we can then apply an aggregation function such as `.mean()`"
      ]
    },
    {
      "cell_type": "code",
      "metadata": {
        "id": "m5vl6U8JYiYk",
        "colab_type": "code",
        "outputId": "09ec1d68-41a6-43c0-c54e-153bfb7faed2",
        "colab": {
          "base_uri": "https://localhost:8080/",
          "height": 204
        }
      },
      "source": [
        "df_means = (df.groupby(['na_item', 'geo'])\n",
        "            .mean()\n",
        "           )\n",
        "df_means"
      ],
      "execution_count": 12,
      "outputs": [
        {
          "output_type": "execute_result",
          "data": {
            "text/html": [
              "<div>\n",
              "<style scoped>\n",
              "    .dataframe tbody tr th:only-of-type {\n",
              "        vertical-align: middle;\n",
              "    }\n",
              "\n",
              "    .dataframe tbody tr th {\n",
              "        vertical-align: top;\n",
              "    }\n",
              "\n",
              "    .dataframe thead th {\n",
              "        text-align: right;\n",
              "    }\n",
              "</style>\n",
              "<table border=\"1\" class=\"dataframe\">\n",
              "  <thead>\n",
              "    <tr style=\"text-align: right;\">\n",
              "      <th></th>\n",
              "      <th></th>\n",
              "      <th>value</th>\n",
              "    </tr>\n",
              "    <tr>\n",
              "      <th>na_item</th>\n",
              "      <th>geo</th>\n",
              "      <th></th>\n",
              "    </tr>\n",
              "  </thead>\n",
              "  <tbody>\n",
              "    <tr>\n",
              "      <th rowspan=\"2\" valign=\"top\">B1GQ</th>\n",
              "      <th>DE</th>\n",
              "      <td>2.493661e+06</td>\n",
              "    </tr>\n",
              "    <tr>\n",
              "      <th>NL</th>\n",
              "      <td>5.939898e+05</td>\n",
              "    </tr>\n",
              "    <tr>\n",
              "      <th rowspan=\"2\" valign=\"top\">D21</th>\n",
              "      <th>DE</th>\n",
              "      <td>2.339663e+05</td>\n",
              "    </tr>\n",
              "    <tr>\n",
              "      <th>NL</th>\n",
              "      <td>5.946940e+04</td>\n",
              "    </tr>\n",
              "  </tbody>\n",
              "</table>\n",
              "</div>"
            ],
            "text/plain": [
              "                    value\n",
              "na_item geo              \n",
              "B1GQ    DE   2.493661e+06\n",
              "        NL   5.939898e+05\n",
              "D21     DE   2.339663e+05\n",
              "        NL   5.946940e+04"
            ]
          },
          "metadata": {
            "tags": []
          },
          "execution_count": 12
        }
      ]
    },
    {
      "cell_type": "markdown",
      "metadata": {
        "id": "ma2GH7WPYiYq",
        "colab_type": "text"
      },
      "source": [
        "---"
      ]
    },
    {
      "cell_type": "markdown",
      "metadata": {
        "id": "QhiUFAzBYiYr",
        "colab_type": "text"
      },
      "source": [
        "We can \"unstack\" indexes to become columns..."
      ]
    },
    {
      "cell_type": "code",
      "metadata": {
        "id": "qIr6OX-IYiYs",
        "colab_type": "code",
        "outputId": "e170b150-3d86-4a17-9377-cd6724e4a1b0",
        "colab": {
          "base_uri": "https://localhost:8080/",
          "height": 297
        }
      },
      "source": [
        "df.unstack('na_item')\n",
        "\n"
      ],
      "execution_count": 13,
      "outputs": [
        {
          "output_type": "execute_result",
          "data": {
            "text/html": [
              "<div>\n",
              "<style scoped>\n",
              "    .dataframe tbody tr th:only-of-type {\n",
              "        vertical-align: middle;\n",
              "    }\n",
              "\n",
              "    .dataframe tbody tr th {\n",
              "        vertical-align: top;\n",
              "    }\n",
              "\n",
              "    .dataframe thead tr th {\n",
              "        text-align: left;\n",
              "    }\n",
              "\n",
              "    .dataframe thead tr:last-of-type th {\n",
              "        text-align: right;\n",
              "    }\n",
              "</style>\n",
              "<table border=\"1\" class=\"dataframe\">\n",
              "  <thead>\n",
              "    <tr>\n",
              "      <th></th>\n",
              "      <th></th>\n",
              "      <th></th>\n",
              "      <th colspan=\"2\" halign=\"left\">value</th>\n",
              "    </tr>\n",
              "    <tr>\n",
              "      <th></th>\n",
              "      <th></th>\n",
              "      <th>na_item</th>\n",
              "      <th>B1GQ</th>\n",
              "      <th>D21</th>\n",
              "    </tr>\n",
              "    <tr>\n",
              "      <th>unit</th>\n",
              "      <th>geo</th>\n",
              "      <th>time</th>\n",
              "      <th></th>\n",
              "      <th></th>\n",
              "    </tr>\n",
              "  </thead>\n",
              "  <tbody>\n",
              "    <tr>\n",
              "      <th rowspan=\"6\" valign=\"top\">CLV05_MEUR</th>\n",
              "      <th rowspan=\"3\" valign=\"top\">DE</th>\n",
              "      <th>2010</th>\n",
              "      <td>2426650.8</td>\n",
              "      <td>228297.9</td>\n",
              "    </tr>\n",
              "    <tr>\n",
              "      <th>2011</th>\n",
              "      <td>2521875.8</td>\n",
              "      <td>237275.9</td>\n",
              "    </tr>\n",
              "    <tr>\n",
              "      <th>2012</th>\n",
              "      <td>2532456.4</td>\n",
              "      <td>236325.2</td>\n",
              "    </tr>\n",
              "    <tr>\n",
              "      <th rowspan=\"3\" valign=\"top\">NL</th>\n",
              "      <th>2010</th>\n",
              "      <td>589946.6</td>\n",
              "      <td>60631.6</td>\n",
              "    </tr>\n",
              "    <tr>\n",
              "      <th>2011</th>\n",
              "      <td>599097.8</td>\n",
              "      <td>59852.5</td>\n",
              "    </tr>\n",
              "    <tr>\n",
              "      <th>2012</th>\n",
              "      <td>592925.0</td>\n",
              "      <td>57924.1</td>\n",
              "    </tr>\n",
              "  </tbody>\n",
              "</table>\n",
              "</div>"
            ],
            "text/plain": [
              "                         value          \n",
              "na_item                   B1GQ       D21\n",
              "unit       geo time                     \n",
              "CLV05_MEUR DE  2010  2426650.8  228297.9\n",
              "               2011  2521875.8  237275.9\n",
              "               2012  2532456.4  236325.2\n",
              "           NL  2010   589946.6   60631.6\n",
              "               2011   599097.8   59852.5\n",
              "               2012   592925.0   57924.1"
            ]
          },
          "metadata": {
            "tags": []
          },
          "execution_count": 13
        }
      ]
    },
    {
      "cell_type": "markdown",
      "metadata": {
        "id": "jZuTkL8lYiYv",
        "colab_type": "text"
      },
      "source": [
        "Note the `value` at the top level of the columns above - this means we can't do `df['D21']` directly, but have to do `df['value']['D21']  (or drop the `value` level from our dataframe which we will see below).\n",
        "\n",
        "\n",
        "We can reverse what we just did with \"stack\".\n",
        "`stack` makes a dataset longer (taller) and `unstack` makes a dataset wider"
      ]
    },
    {
      "cell_type": "code",
      "metadata": {
        "id": "h3GR7nXhYiYw",
        "colab_type": "code",
        "outputId": "442f09cf-394a-4909-d09c-e0152bb4f476",
        "colab": {
          "base_uri": "https://localhost:8080/",
          "height": 452
        }
      },
      "source": [
        "(df\n",
        " .unstack('na_item')\n",
        " .stack('na_item')\n",
        " )"
      ],
      "execution_count": 14,
      "outputs": [
        {
          "output_type": "execute_result",
          "data": {
            "text/html": [
              "<div>\n",
              "<style scoped>\n",
              "    .dataframe tbody tr th:only-of-type {\n",
              "        vertical-align: middle;\n",
              "    }\n",
              "\n",
              "    .dataframe tbody tr th {\n",
              "        vertical-align: top;\n",
              "    }\n",
              "\n",
              "    .dataframe thead th {\n",
              "        text-align: right;\n",
              "    }\n",
              "</style>\n",
              "<table border=\"1\" class=\"dataframe\">\n",
              "  <thead>\n",
              "    <tr style=\"text-align: right;\">\n",
              "      <th></th>\n",
              "      <th></th>\n",
              "      <th></th>\n",
              "      <th></th>\n",
              "      <th>value</th>\n",
              "    </tr>\n",
              "    <tr>\n",
              "      <th>unit</th>\n",
              "      <th>geo</th>\n",
              "      <th>time</th>\n",
              "      <th>na_item</th>\n",
              "      <th></th>\n",
              "    </tr>\n",
              "  </thead>\n",
              "  <tbody>\n",
              "    <tr>\n",
              "      <th rowspan=\"12\" valign=\"top\">CLV05_MEUR</th>\n",
              "      <th rowspan=\"6\" valign=\"top\">DE</th>\n",
              "      <th rowspan=\"2\" valign=\"top\">2010</th>\n",
              "      <th>B1GQ</th>\n",
              "      <td>2426650.8</td>\n",
              "    </tr>\n",
              "    <tr>\n",
              "      <th>D21</th>\n",
              "      <td>228297.9</td>\n",
              "    </tr>\n",
              "    <tr>\n",
              "      <th rowspan=\"2\" valign=\"top\">2011</th>\n",
              "      <th>B1GQ</th>\n",
              "      <td>2521875.8</td>\n",
              "    </tr>\n",
              "    <tr>\n",
              "      <th>D21</th>\n",
              "      <td>237275.9</td>\n",
              "    </tr>\n",
              "    <tr>\n",
              "      <th rowspan=\"2\" valign=\"top\">2012</th>\n",
              "      <th>B1GQ</th>\n",
              "      <td>2532456.4</td>\n",
              "    </tr>\n",
              "    <tr>\n",
              "      <th>D21</th>\n",
              "      <td>236325.2</td>\n",
              "    </tr>\n",
              "    <tr>\n",
              "      <th rowspan=\"6\" valign=\"top\">NL</th>\n",
              "      <th rowspan=\"2\" valign=\"top\">2010</th>\n",
              "      <th>B1GQ</th>\n",
              "      <td>589946.6</td>\n",
              "    </tr>\n",
              "    <tr>\n",
              "      <th>D21</th>\n",
              "      <td>60631.6</td>\n",
              "    </tr>\n",
              "    <tr>\n",
              "      <th rowspan=\"2\" valign=\"top\">2011</th>\n",
              "      <th>B1GQ</th>\n",
              "      <td>599097.8</td>\n",
              "    </tr>\n",
              "    <tr>\n",
              "      <th>D21</th>\n",
              "      <td>59852.5</td>\n",
              "    </tr>\n",
              "    <tr>\n",
              "      <th rowspan=\"2\" valign=\"top\">2012</th>\n",
              "      <th>B1GQ</th>\n",
              "      <td>592925.0</td>\n",
              "    </tr>\n",
              "    <tr>\n",
              "      <th>D21</th>\n",
              "      <td>57924.1</td>\n",
              "    </tr>\n",
              "  </tbody>\n",
              "</table>\n",
              "</div>"
            ],
            "text/plain": [
              "                                 value\n",
              "unit       geo time na_item           \n",
              "CLV05_MEUR DE  2010 B1GQ     2426650.8\n",
              "                    D21       228297.9\n",
              "               2011 B1GQ     2521875.8\n",
              "                    D21       237275.9\n",
              "               2012 B1GQ     2532456.4\n",
              "                    D21       236325.2\n",
              "           NL  2010 B1GQ      589946.6\n",
              "                    D21        60631.6\n",
              "               2011 B1GQ      599097.8\n",
              "                    D21        59852.5\n",
              "               2012 B1GQ      592925.0\n",
              "                    D21        57924.1"
            ]
          },
          "metadata": {
            "tags": []
          },
          "execution_count": 14
        }
      ]
    },
    {
      "cell_type": "markdown",
      "metadata": {
        "id": "dSeOjrnxYiY0",
        "colab_type": "text"
      },
      "source": [
        "Ok, lets:\n",
        "* Unstack `na_items` and `geo` as before\n",
        "* Drop the `unit` index (which only has one value)\n",
        "* Drop the `value` column level\n",
        "* Turn the output into a bar plot"
      ]
    },
    {
      "cell_type": "code",
      "metadata": {
        "id": "Pcx8NKBEYiY1",
        "colab_type": "code",
        "outputId": "4567af15-c527-4d16-a99c-08ca44158fd1",
        "colab": {
          "base_uri": "https://localhost:8080/",
          "height": 312
        }
      },
      "source": [
        "(df\n",
        " .unstack(['na_item', 'geo'])  # unstacks indices (makes our dataset wider)\n",
        " .droplevel('unit', axis=0)  # Everything is in the same unit so we drop it\n",
        " .droplevel(0, axis=1)  # OR: ['value']\n",
        " .plot(kind='bar')  # Make a bar plot\n",
        " )"
      ],
      "execution_count": 15,
      "outputs": [
        {
          "output_type": "execute_result",
          "data": {
            "text/plain": [
              "<matplotlib.axes._subplots.AxesSubplot at 0x7f08b6cee6d8>"
            ]
          },
          "metadata": {
            "tags": []
          },
          "execution_count": 15
        },
        {
          "output_type": "display_data",
          "data": {
            "image/png": "[encoded data removed]",
            "text/plain": [
              "<Figure size 432x288 with 1 Axes>"
            ]
          },
          "metadata": {
            "tags": []
          }
        }
      ]
    },
    {
      "cell_type": "markdown",
      "metadata": {
        "id": "ht-J0hx9YiY8",
        "colab_type": "text"
      },
      "source": [
        "We can also chain our commands together rather than storing the intermediate values.\n",
        "This makes it easier to read the flow of operations but removes the ability to inspect intermediate results."
      ]
    },
    {
      "cell_type": "code",
      "metadata": {
        "id": "9Fs9Z-WWYiY_",
        "colab_type": "code",
        "colab": {}
      },
      "source": [
        "# Look at the documentation for the plot function below and see what types of plot you can make\n",
        "pd.DataFrame.plot?"
      ],
      "execution_count": 0,
      "outputs": []
    },
    {
      "cell_type": "markdown",
      "metadata": {
        "id": "HtUH191jYiZF",
        "colab_type": "text"
      },
      "source": [
        "### Real-world considerations for Requests\n",
        "\n",
        "Things do not always go so nicely, particularly when using API's at scale.\n",
        "\n",
        "We'll quickly cover some other common considerations when using API's, and outline how they can be solved.\n",
        "\n",
        "#### Retries\n",
        "\n",
        "Sometimes you can do everything perfectly, and send off a request but something on the web-server (or elsewhere) can go wrong and give a bad status code.\n",
        "We don't want to silently ignore these errors or let them crash our program by raising an exception.\n",
        "\n",
        "The first port of call is to retry the request again.\n",
        "\n",
        "---\n",
        "\n",
        "A hacky way to do this would be (**don't do this**):\n",
        "\n",
        "``` python\n",
        "import time\n",
        "import requests\n",
        "\n",
        "def get(url):\n",
        "    try:\n",
        "        r = requests.get(url)\n",
        "        r.raise_for_status()  # raise an error on a bad status\n",
        "    except:\n",
        "        time.sleep(1)  # sleep for a bit in case that helps\n",
        "        return get(url)  # try again\n",
        "```\n",
        "\n",
        "---\n",
        "\n",
        "A better and easier way to do this is to use the [tenacity](https://github.com/jd/tenacity) library:\n",
        "\n",
        "``` python\n",
        "import requests\n",
        "from tenacity import (retry, stop_after_attempt, wait_fixed,\n",
        "                      retry_if_exception_type)\n",
        "\n",
        "@retry(stop=stop_after_attempt(3), wait=wait_fixed(0.1),\n",
        "      retry=retry_if_exception_type(requests.HTTPError))\n",
        "def get(url):\n",
        "    try:\n",
        "        r = requests.get(url)\n",
        "        r.raise_for_status()  # raise an error on a bad status\n",
        "        return r\n",
        "    except requests.HTTPError:\n",
        "        print(r.status_code, r.reason)\n",
        "        raise\n",
        "```\n",
        "\n",
        "It uses a python decorator (the `@` symbol) to wrap our function with another function `retry` that will retry if we raise an error.\n",
        "\n",
        "We can tell it how many times to stop trying after, how long to wait between each retry, what error to retry on etc.\n",
        "\n",
        "#### Authentication\n",
        "\n",
        "Not all API's are open for immediate use. For example, some require you pay for access (e.g. the google maps API) and some require you to register for access first.\n",
        "\n",
        "When you get access to a \"closed\" API, you will typically get an API key - a long string of letters and numbers - which is unique to you which you need to send along with any GET request you make to the API.\n",
        "This lets the API know who you are and decide how to deal with your request.\n",
        "\n",
        "Several different types of authentication exists (read the specific API docs) but the most common way is:\n",
        "``` python\n",
        "api_key = 'asodifhafglkkhj'\n",
        "r = requests.get(url, auth=(api_key, ''))\n",
        "```\n",
        "\n",
        "#### Rate limits\n",
        "\n",
        "API's can be costly to host and typically limit the number of requests that can be made (either by an IP or API key).\n",
        "If you exceed this limit you'll get a `429` status code for any extra requests you make (and may be blocked if you continue making them).\n",
        "\n",
        "It is important to therefore respect any rate limits given in an API's documentation (annoyingly some are very vague).\n",
        "The simplest way to do this is to limit how often the number of times our function that makes the request can be called within some time limit using the [ratelim](https://pypi.org/project/ratelim/) library - again using decorators."
      ]
    },
    {
      "cell_type": "code",
      "metadata": {
        "id": "hCWdsyWQYiZL",
        "colab_type": "code",
        "outputId": "1059a88f-8e1c-44e7-a1e6-c4216edbae84",
        "colab": {
          "base_uri": "https://localhost:8080/",
          "height": 204
        }
      },
      "source": [
        "import ratelim\n",
        "import time\n",
        "\n",
        "# 10 times in 5 seconds as fast as possible\n",
        "@ratelim.greedy(10, 5)\n",
        "def hello_greedy(i):\n",
        "    print(i, \"hello\")\n",
        "    \n",
        "# Fast\n",
        "t0 = time.time()\n",
        "for i in range(10):\n",
        "    hello_greedy(i)\n",
        "print(f\"Took {(time.time() - t0):.3f} seconds\")"
      ],
      "execution_count": 17,
      "outputs": [
        {
          "output_type": "stream",
          "text": [
            "0 hello\n",
            "1 hello\n",
            "2 hello\n",
            "3 hello\n",
            "4 hello\n",
            "5 hello\n",
            "6 hello\n",
            "7 hello\n",
            "8 hello\n",
            "9 hello\n",
            "Took 0.018 seconds\n"
          ],
          "name": "stdout"
        }
      ]
    },
    {
      "cell_type": "code",
      "metadata": {
        "id": "--fMYZFfYiZO",
        "colab_type": "code",
        "outputId": "b8b277be-62ff-455e-e345-46414ab7fae8",
        "colab": {
          "base_uri": "https://localhost:8080/",
          "height": 221
        }
      },
      "source": [
        "# 10 times in 5 seconds as fast as possible\n",
        "@ratelim.greedy(10, 5)\n",
        "def hello_greedy(i):\n",
        "    print(i, \"hello\")\n",
        "\n",
        "# Takes ~5 seconds because we hit the rate limit\n",
        "t0 = time.time()\n",
        "for i in range(11):\n",
        "    hello_greedy(i)\n",
        "print(f\"Took {(time.time() - t0):.3f} seconds\")"
      ],
      "execution_count": 18,
      "outputs": [
        {
          "output_type": "stream",
          "text": [
            "0 hello\n",
            "1 hello\n",
            "2 hello\n",
            "3 hello\n",
            "4 hello\n",
            "5 hello\n",
            "6 hello\n",
            "7 hello\n",
            "8 hello\n",
            "9 hello\n",
            "10 hello\n",
            "Took 5.023 seconds\n"
          ],
          "name": "stdout"
        }
      ]
    },
    {
      "cell_type": "code",
      "metadata": {
        "id": "znAGUhVqYiZR",
        "colab_type": "code",
        "outputId": "5105de37-cf5e-4677-aab7-47c57295077e",
        "colab": {
          "base_uri": "https://localhost:8080/",
          "height": 204
        }
      },
      "source": [
        "# 10 times in 5 seconds\n",
        "# Gets called at most every 0.5 seconds\n",
        "@ratelim.patient(10, 5)\n",
        "def hello_patient(i):\n",
        "    print(i, \"hello\")\n",
        "\n",
        "# Takes ~4.5s\n",
        "t0 = time.time()\n",
        "for i in range(10):\n",
        "    hello_patient(i)\n",
        "print(f\"Took {(time.time() - t0):.3f} seconds\")"
      ],
      "execution_count": 19,
      "outputs": [
        {
          "output_type": "stream",
          "text": [
            "0 hello\n",
            "1 hello\n",
            "2 hello\n",
            "3 hello\n",
            "4 hello\n",
            "5 hello\n",
            "6 hello\n",
            "7 hello\n",
            "8 hello\n",
            "9 hello\n",
            "Took 4.513 seconds\n"
          ],
          "name": "stdout"
        }
      ]
    },
    {
      "cell_type": "markdown",
      "metadata": {
        "id": "FMHkRRUSYiZU",
        "colab_type": "text"
      },
      "source": [
        "Using `ratelim.patient` is kinder to the API you are using as you lower the risk of overwhelming the API and getting a batch of responses with bad statuses."
      ]
    },
    {
      "cell_type": "markdown",
      "metadata": {
        "id": "8abdAktXYiZU",
        "colab_type": "text"
      },
      "source": [
        "## Exercise\n",
        "\n",
        "**Task**\n",
        "\n",
        "* Get the data for dataset `rd_e_berdindr2` from the Eurostat API for all NACE activities as a percentage of GDP\n",
        "* Read the data into a pandas dataframe\n",
        "* Calculate the total expenditure across countries each year\n",
        "* Plot it\n",
        "\n",
        "---\n",
        "**Links**\n",
        "\n",
        "* [Query builder](https://ec.europa.eu/eurostat/web/json-and-unicode-web-services/getting-started/query-builder)\n",
        "* [Data Explorer](https://appsso.eurostat.ec.europa.eu/nui/show.do?dataset=rd_e_berdindr2&lang=en)\n",
        "* [Metadata](https://ec.europa.eu/eurostat/cache/metadata/en/rd_esms.htm)\n",
        "\n",
        "---\n",
        "**Hint**\n",
        "If you look at the data-explorer/metadata/response you will see that there won't be a `payload['value']` for every possible index - there is missing data.\n",
        "To deal with this we can create a quick workaround by using a `defaultdict` from the `collections` library.\n",
        "A default dict takes a function and a dictionary as arguements. When a value is looked up in the dictionary that isn't found it calls and returns the function passed to `defaultdict`. \n",
        "\n",
        "Below we create a `defaultdict` that returns `None` for indexes that aren't there and builds a new dictionary that fills in the missing data:\n",
        "\n",
        "``` python\n",
        "from collections import defaultdict\n",
        "n = len(index)  # Length of our index\n",
        "def return_none():\n",
        "    return None\n",
        "d = defaultdict(return_none, payload['value'])  # Build default dict\n",
        "values = [\n",
        "    d[str(i)]  # Lookup `i` in dictionary\n",
        "    for i in range(n)  # Numberical indexes\n",
        "]\n",
        "```\n",
        "NOTE: We use `str(i)` because the keys of the dictionaries are strings not integers so we need to convert\n",
        "\n",
        "---\n",
        "**EXTENSION**\n",
        "\n",
        "Pick another dataset from Eurostat, fetch it and use a [`merge`](https://pandas.pydata.org/pandas-docs/stable/reference/api/pandas.DataFrame.merge.html) operation to join the two datasets together.\n",
        "\n",
        "\n",
        "---\n",
        "\n",
        "[Solution (don't peek until you've tried)](https://github.com/nestauk/im-tutorials/blob/3-ysi-tutorial/notebooks/APIs/API_exercise_solution.ipynb)"
      ]
    },
    {
      "cell_type": "code",
      "metadata": {
        "id": "UDXFMs_KYiZV",
        "colab_type": "code",
        "colab": {}
      },
      "source": [
        "## Template\n",
        "\n",
        "# Make the request\n",
        "import requests\n",
        "\n",
        "url = ...\n",
        "\n",
        "response = requests.get(url)\n",
        "response.raise_for_status()  # Gives an error if not successful\n",
        "\n",
        "# Parse into JSON\n",
        "payload = ...\n",
        "\n",
        "# Define the index from `payload['dimension']`\n",
        "index = ...\n",
        "\n",
        "# Get data values\n",
        "values = ...\n",
        "\n",
        "# Read into dataframe, manipulate and plot\n",
        "(pd.DataFrame(values, index=index)\n",
        "    # Make dataframe wider (~1 line(s))\n",
        "    # Get totals (1 line)\n",
        "    # Plot (1 line)\n",
        ")"
      ],
      "execution_count": 0,
      "outputs": []
    },
    {
      "cell_type": "markdown",
      "metadata": {
        "id": "9m0IdG5bYiZg",
        "colab_type": "text"
      },
      "source": [
        "## Resources"
      ]
    },
    {
      "cell_type": "markdown",
      "metadata": {
        "id": "BvkAPeybYiZi",
        "colab_type": "text"
      },
      "source": [
        "### Assorted API snippets"
      ]
    },
    {
      "cell_type": "code",
      "metadata": {
        "id": "tNnTENxQYiZj",
        "colab_type": "code",
        "colab": {}
      },
      "source": [
        "## COMPANIES HOUSE (UK registrar of companies)\n",
        "# Register for an api key here: https://developer.companieshouse.gov.uk/developer/signin\n",
        "\n",
        "api_key = 'put your api key here'\n",
        "url = 'https://api.companieshouse.gov.uk/search?q=consultio consultius'\n",
        "r = requests.get(url, auth=(api_key, ''))\n",
        "r.raise_for_status()\n",
        "\n",
        "r.json()['items'][0]  # get the first item"
      ],
      "execution_count": 0,
      "outputs": []
    },
    {
      "cell_type": "markdown",
      "metadata": {
        "id": "MDpSsIf6YiZm",
        "colab_type": "raw"
      },
      "source": [
        "# Example output\n",
        "{'title': 'CONSULTIO CONSULTIUS CONSULTING  LIMITED',\n",
        " 'snippet': '',\n",
        " 'address': {'country': 'United Kingdom',\n",
        "  'region': 'Uk',\n",
        "  'address_line_1': 'Gibbons Close',\n",
        "  'postal_code': 'GU47 9BB',\n",
        "  'address_line_2': 'Sandhurst',\n",
        "  'premises': '3 ',\n",
        "  'locality': 'Berkshire'},\n",
        " 'date_of_cessation': '2016-11-22',\n",
        " 'date_of_creation': '2016-03-29',\n",
        " 'kind': 'searchresults#company',\n",
        " 'matches': {'title': [1, 9, 11, 20], 'snippet': []},\n",
        " 'description': '10088276 - Dissolved on 22 November 2016',\n",
        " 'company_type': 'ltd',\n",
        " 'description_identifier': ['dissolved-on'],\n",
        " 'company_number': '10088276',\n",
        " 'company_status': 'dissolved',\n",
        " 'links': {'self': '/company/10088276'},\n",
        " 'address_snippet': '3  Gibbons Close, Sandhurst, Berkshire, Uk, United Kingdom, GU47 9BB'}"
      ]
    },
    {
      "cell_type": "code",
      "metadata": {
        "id": "u95LkuHTYiZo",
        "colab_type": "code",
        "outputId": "eb3be56b-adec-4181-ae13-5040dcd26d1e",
        "colab": {}
      },
      "source": [
        "## REDDIT - https://www.reddit.com/dev/api/#GET_subreddits_search\n",
        "# Let's find some subreddits to learn python with!\n",
        "# https://www.reddit.com/dev/api/#GET_subreddits_search\n",
        "\n",
        "url = 'https://www.reddit.com/subreddits/search.json?q=\"learn python\"&limit=5'\n",
        "r = requests.get(url, headers={'User-agent': 'your bot 0.1'})\n",
        "r.raise_for_status()\n",
        "\n",
        "[result['data']['display_name_prefixed']\n",
        " for result in r.json()['data']['children']]"
      ],
      "execution_count": 0,
      "outputs": [
        {
          "output_type": "execute_result",
          "data": {
            "text/plain": [
              "['r/learnpython',\n",
              " 'r/Python',\n",
              " 'r/learnprogramming',\n",
              " 'r/programming',\n",
              " 'r/FreeEBOOKS']"
            ]
          },
          "metadata": {
            "tags": []
          },
          "execution_count": 38
        }
      ]
    },
    {
      "cell_type": "markdown",
      "metadata": {
        "id": "OOiUKzthYiZv",
        "colab_type": "text"
      },
      "source": [
        "### List of API's\n",
        "\n",
        "Massive list [**here**](https://github.com/public-apis/public-apis)\n"
      ]
    },
    {
      "cell_type": "markdown",
      "metadata": {
        "id": "fIJcKsyZYiZw",
        "colab_type": "text"
      },
      "source": [
        "### API wrapper libraries\n",
        "\n",
        "Massive list [**here**](https://github.com/realpython/list-of-python-api-wrappers).\n",
        "\n",
        "For example, geo-code location data with [`geopy`](https://github.com/geopy/geopy) :"
      ]
    },
    {
      "cell_type": "code",
      "metadata": {
        "id": "8HTQfws4YiZx",
        "colab_type": "code",
        "outputId": "5f966f4e-9e64-4caa-a609-d3ccb3de454a",
        "colab": {
          "base_uri": "https://localhost:8080/",
          "height": 51
        }
      },
      "source": [
        "from geopy.geocoders import Nominatim\n",
        "geolocator = Nominatim(user_agent=\"daniel_s_hain\")\n",
        "\n",
        "print(geolocator.geocode(\"Algade 54, 9000 Aalborg, Denmark\"))  # From address\n",
        "print(geolocator.reverse(\"52.086779,5.1674726\"))  # From co-ordinates\n"
      ],
      "execution_count": 22,
      "outputs": [
        {
          "output_type": "stream",
          "text": [
            "54, Algade, Skansekvarteret, Hasseris, Jylland, Aalborg Kommune, Region Nordjylland, 9000, Danmark\n",
            "Minnaertgebouw (UU), Leuvenlaan, Rijnsweerd, Utrecht, Nederland, 3584CA, Nederland\n"
          ],
          "name": "stdout"
        }
      ]
    },
    {
      "cell_type": "markdown",
      "metadata": {
        "id": "oIPrjALLYiZ1",
        "colab_type": "text"
      },
      "source": [
        "### More detailed tutorials\n",
        "\n",
        "* Python - https://www.reddit.com/r/learnpython/wiki/index\n",
        "\n",
        "  This wiki gives a lot of different resources for people both new to programming, or just new to python.\n",
        "* Pandas - https://pandas.pydata.org/pandas-docs/stable/getting_started/tutorials.html\n",
        "    \n",
        "* Requests/API's\n",
        "    * https://realpython.com/python-requests/\n",
        "    * https://www.dataquest.io/blog/python-api-tutorial/"
      ]
    }
  ]
}