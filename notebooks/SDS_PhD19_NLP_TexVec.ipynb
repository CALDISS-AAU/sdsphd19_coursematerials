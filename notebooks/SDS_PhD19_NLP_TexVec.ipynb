{
  "nbformat": 4,
  "nbformat_minor": 0,
  "metadata": {
    "colab": {
      "name": "SDS PhD19 NLP TexVec",
      "provenance": [],
      "collapsed_sections": [],
      "include_colab_link": true
    },
    "kernelspec": {
      "name": "python3",
      "display_name": "Python 3"
    }
  },
  "cells": [
    {
      "cell_type": "markdown",
      "metadata": {
        "id": "view-in-github",
        "colab_type": "text"
      },
      "source": [
        "<a href=\"https://colab.research.google.com/github/CALDISS-AAU/sdsphd19_coursematerials/blob/master/notebooks/SDS_PhD19_NLP_TexVec.ipynb\" target=\"_parent\"><img src=\"https://colab.research.google.com/assets/colab-badge.svg\" alt=\"Open In Colab\"/></a>"
      ]
    },
    {
      "cell_type": "markdown",
      "metadata": {
        "id": "dDq-VGAB_WG_",
        "colab_type": "text"
      },
      "source": [
        "# Moving on to text-vectorization\n",
        "\n",
        "Before we dive into text-vectorization and representation: A bit something on SpaCy and part-of-speech tagging. Also: We will be using SpaCy as our main pre-processing tool, as it combines most of the things that we need in one convinient api.\n"
      ]
    },
    {
      "cell_type": "code",
      "metadata": {
        "id": "BZMq7F2oBopo",
        "colab_type": "code",
        "colab": {}
      },
      "source": [
        "import pandas as pd\n",
        "import numpy as np"
      ],
      "execution_count": 0,
      "outputs": []
    },
    {
      "cell_type": "code",
      "metadata": {
        "id": "t0D7XFT4BOlK",
        "colab_type": "code",
        "colab": {}
      },
      "source": [
        "import spacy\n",
        "nlp = spacy.load(\"en\")\n",
        "\n",
        "# Let's apply the model to the article (as easy as that)\n",
        "article_nlp = nlp(article)"
      ],
      "execution_count": 0,
      "outputs": []
    },
    {
      "cell_type": "code",
      "metadata": {
        "id": "vTqqjxP9_uAR",
        "colab_type": "code",
        "colab": {}
      },
      "source": [
        "# Here is a long article text - again\n",
        "article = \"\"\"'(CNN) Donald Trump drove Democrats to the first crucial pivot point of their impeachment confrontation on Tuesday with a defiant declaration that his administration would not cooperate with the investigation.\\n\\nIn a fierce counter-attack after days of failing to control a torrent of damaging disclosures, the Trump White House branded the inquiry an illegal bid to overthrow the 2016 election and blocked testimony from a top diplomat.\\n\\n\"Never before in our history has the House of Representatives -- under the control of either political party -- taken the American people down the dangerous path you seem determined to pursue,\" White House counsel Pat Cipollone wrote in a letter to House Speaker Nancy Pelos i and her key committee chairs.\\n\\nThe letter in effect gave notice of all out political warfare as part of the administration\\'s strategy to deprive investigators of all the testimony and evidence that they have demanded, in a clear effort to throttle the capacity of the probe into whether Trump abused his power by pressuring Ukraine to investigate a political opponent -- Joe Biden.\\n\\nPelosi says there is no constitutional requirement supporting Trump\\'s demand for a full House vote to initiate impeachment proceedings -- one justification given for the President\\'s refusal to cooperate.\\n\\nBut Trump\\'s move left her with grave strategic decisions on what to do next in a confrontation that puts to the test the integrity of America\\'s bedrock separation of powers and will determine whether she truly gamed out this duel several steps ahead.\\n\\nChallenging Trump\\'s position in court could bog down the impeachment drive in months of legal challenges. Folding the President\\'s obstruction into articles of impeachment in short order could play into his claims that she\\'s running a \"kangaroo court\" and rushing the most consequential function of Congress.\\n\\nThe American people will now be effectively asked whether a President who accepts few limits on his power can be held in check by a separate branch of government or whether he can avoid such an examination, a decision that will echo through history.\\n\\nDemocrats are already arguing that Trump\\'s position is a de facto admission of guilt based on a legal and political house of sand.\\n\\n\"I guess they haven\\'t read the Constitution,\" said Rep. Tom Malinowski of New Jersey, a Democrat who serves on the House Foreign Affairs Committee.\\n\\n\"If they don\\'t defend themselves, against the copious evidence that we already have, then I think it disadvantages them,\" Malinowski told CNN\\'s Erin Burnett.\\n\\n\"This is not the kind of investigation where we are starting with nothing -- we are starting with everything.\"\\n\\nTrump\\'s call \\'crazy\\' and \\'frightening\\'\\n\\nThe nation\\'s most serious political crisis in decades came to a head as more shocking details emerged of Trump\\'s attempt to pressure Ukraine.\\n\\nThe now famous whistleblower wrote a memo that describes a White House official as characterizing the call with Volodymyr Zelensky as \"crazy\" and \"frightening,\" a source familiar with the whistleblower complaint said.\\n\\nThe New York Times , which first reported the new details, said in its piece that White House lawyers discussed how to handle the discussion because in the official\\'s view the president had clearly committed a criminal act.\"\\n\\nIn another break in the drama, CNN reported that Gordon Sondland -- the US ambassador to the EU who Trump prevented from testifying to Congress on Tuesday -- directly called the President in September to find out what was going on amid discussions among his peers over whether US military aid to Ukraine was being withheld.\\n\\nThe nugget raises the possibility that Sondland\\'s text to a colleague that there was no quid pro quo involved was on the orders of the President himself -- a possibility Democrats will surely want to investigate.\\n\\nHouse Intelligence Committee chairman Adam Schiff suggested Monday that Sondland had texts and emails on a personal device that the State Department was refusing to hand over.\\n\\nThe new revelations explain why the White House is refusing to cooperate with the impeachment inquiry. It can\\'t allow a window into wild, self-serving and possibly even criminal behavior by the President in his dealings with Ukraine that could turn Americans against him.\\n\\nAs Democrats seek to make a case that the President defies constitutional norms and abuses his power by setting foreign policy for personal political ends, Trump\\'s aides must try to slow their momentum and weave a tale of congressional overreach.\\n\\nThe struggle intensified further after multiple polls showed a majority of Americans now support opening an impeachment inquiry.\\n\\nBut there is not yet a majority for removing the President from office, underscoring the critical impact of the political battle in Washington now being fully joined by both sides.\\n\\nTrump dares Pelosi to hold risky vote\\n\\nTrump\\'s letter effectively dares Pelosi, who may want to protect her more moderate members from political damage, to hold a full vote in the House on moving forward with the inquiry.\\n\\nSuch a vote was held in the last two impeachment sagas concerning Presidents Richard Nixon and Bill Clinton, but there is nothing in the Constitution that mandates such a vote. Trump\\'s team says the absence of such a vote means that he has no choice but to withhold cooperation to preserve the scope of his office for future occupants.\\n\\n\"At a constitutional level, that is what we call complete and total nonsense,\" said CNN legal and national security analyst Susan Hennessey on \"The Situation Room.\"\\n\\nThe White House maintained that without such a vote, the President and other Executive Branch officials will be denied basic rights available to all Americans.\\n\\nIt accused Pelosi of denying Trump the right to cross-examine witnesses, to have access to evidence, and for counsel to be present during depositions.\\n\\n\"Put simply, you seek to overturn the results of the 2016 election and deprive the American people of the President they have freely chosen,\" Cipollone wrote.\\n\\nHe also argued that the President did nothing wrong in his call with Zelensky, and claimed that Democrats had prejudiced the case with unfair process and had violated the separation of powers.\\n\\nThe tone of the letter however was far more partisan in tone than legalistic, reflecting that the battle over Trump\\'s fate will now come down to a vicious political fight. Mostly, it appeared to defend Trump based on the perceived unfairness of the political process rather than the merits of the Ukraine case.\\n\\nPelosi vowed in her own letter to House Democrats: \"The President will be held accountable. When it comes to impeachment, it is just about the facts and the Constitution,\" she wrote.\\n\\n\"At the same time as President Trump is obstructing justice, abusing power and diminishing the office of the presidency, we have a responsibility to strengthen the institution in which we serve. This is essential if we are to honor the separation of powers which is the genius of the Constitution.\"\\n\\nThe Speaker could decide to call the President\\'s bluff by scheduling a full House vote. But there is no guarantee that Trump would cooperate if a full House vote takes place.\\n\\n\"We don\\'t want to speculate on what would happen in various hypothetical situations\" Cipollone wrote.\\n\\nA vote would also give Republicans a platform to grandstand and to turn the impeachment process into a circus -- as they have done in previous Democratic oversight hearings -- a factor that might weigh on Pelosi\\'s deliberations.\\n\\nBut there is also an argument that offering Trump a blueprint for an open process, with clearly defined impeachment goals, is not just politically smart but it\\'s the right thing to do at a perilous national moment that demands basic standards of fairness.\\n\\nAs the shockwaves of Trump\\'s letter rocked Capitol Hill, Democrats issued a subpoena for testimony and evidence from Sondland, who was stopped from offering a deposition on Capitol Hill by the White House hours before his Tuesday appointment.\\n\\nStill, as this tumultuous presidency has shown, refusing a congressional subpoena is less risky than ignoring a criminal summons. Democrats could hold recalcitrant witnesses in contempt but that would entail the kind of legal imbroglio they are seeking to avoid, which Trump plans to create.\\n\\nDemocratic House Intelligence Committee Chairman Adam Schiff hinted that the remedy for the refusal of Sondland and other key officials to testify would rebound against the President.\\n\\n\"The failure to produce this witness, the failure to produce these documents we consider yet additional strong evidence of obstruction of the constitutional functions of Congress,\" Schiff told reporters.\\n\\nGirding for the battle ahead, the White House contacted outside lawyers as it seeks impeachment counsel. One of those attorneys is former South Carolina Rep. Trey Gowdy, CNN\\'s Pamela Brown reported on Tuesday.'\"\"\""
      ],
      "execution_count": 0,
      "outputs": []
    },
    {
      "cell_type": "code",
      "metadata": {
        "id": "kZctG-sGDltL",
        "colab_type": "code",
        "outputId": "d96f0412-37f2-4773-a0c5-aae372f2166a",
        "colab": {
          "base_uri": "https://localhost:8080/",
          "height": 326
        }
      },
      "source": [
        "# spaCy also splits sentences\n",
        "[sentance for sentance in article_nlp.sents][:10]"
      ],
      "execution_count": 4,
      "outputs": [
        {
          "output_type": "execute_result",
          "data": {
            "text/plain": [
              "[',\n",
              " (CNN),\n",
              " Donald Trump drove Democrats to the first crucial pivot point of their impeachment confrontation on Tuesday with a defiant declaration that his administration would not cooperate with the investigation.\n",
              " ,\n",
              " In a fierce counter-attack after days of failing to control a torrent of damaging disclosures, the Trump White House branded the inquiry an illegal bid to overthrow the 2016 election and blocked testimony from a top diplomat.\n",
              " ,\n",
              " \"Never before in our history has the House of Representatives -- under the control of either political party -- taken the American people down the dangerous path you seem determined to pursue,\" White House counsel Pat Cipollone wrote in a letter to House Speaker Nancy Pelos i and her key committee chairs.\n",
              " ,\n",
              " The letter in effect gave notice of all out political warfare as part of the administration's strategy to deprive investigators of all the testimony and evidence that they have demanded, in a clear effort to throttle the capacity of the probe into whether Trump abused his power by pressuring Ukraine to investigate a political opponent -- Joe Biden.\n",
              " ,\n",
              " Pelosi says there is no constitutional requirement supporting Trump's demand for a full House vote to initiate impeachment proceedings -- one justification given for the President's refusal to cooperate.\n",
              " ,\n",
              " But Trump's move left her with grave strategic decisions on what to do next in a confrontation that puts to the test the integrity of America's bedrock separation of powers and will determine whether she truly gamed out this duel several steps ahead.\n",
              " ,\n",
              " Challenging Trump's position in court could bog down the impeachment drive in months of legal challenges.,\n",
              " Folding the President's obstruction into articles of impeachment in short order could play into his claims that she's running a \"kangaroo court\" and rushing the most consequential function of Congress.\n",
              " ]"
            ]
          },
          "metadata": {
            "tags": []
          },
          "execution_count": 4
        }
      ]
    },
    {
      "cell_type": "code",
      "metadata": {
        "id": "A3m4lIm44qv6",
        "colab_type": "code",
        "outputId": "d8d3f34f-1e48-4c3b-e472-75952310002a",
        "colab": {
          "base_uri": "https://localhost:8080/",
          "height": 544
        }
      },
      "source": [
        "# And: it will also annotate them with POS-labels\n",
        "sentance_2 = [sentance for sentance in article_nlp.sents][2]\n",
        "[(token.text, token.pos_) for token in sentance_2]"
      ],
      "execution_count": 5,
      "outputs": [
        {
          "output_type": "execute_result",
          "data": {
            "text/plain": [
              "[('Donald', 'PROPN'),\n",
              " ('Trump', 'PROPN'),\n",
              " ('drove', 'VERB'),\n",
              " ('Democrats', 'PROPN'),\n",
              " ('to', 'ADP'),\n",
              " ('the', 'DET'),\n",
              " ('first', 'ADJ'),\n",
              " ('crucial', 'ADJ'),\n",
              " ('pivot', 'ADJ'),\n",
              " ('point', 'NOUN'),\n",
              " ('of', 'ADP'),\n",
              " ('their', 'DET'),\n",
              " ('impeachment', 'NOUN'),\n",
              " ('confrontation', 'NOUN'),\n",
              " ('on', 'ADP'),\n",
              " ('Tuesday', 'PROPN'),\n",
              " ('with', 'ADP'),\n",
              " ('a', 'DET'),\n",
              " ('defiant', 'ADJ'),\n",
              " ('declaration', 'NOUN'),\n",
              " ('that', 'ADP'),\n",
              " ('his', 'DET'),\n",
              " ('administration', 'NOUN'),\n",
              " ('would', 'VERB'),\n",
              " ('not', 'ADV'),\n",
              " ('cooperate', 'VERB'),\n",
              " ('with', 'ADP'),\n",
              " ('the', 'DET'),\n",
              " ('investigation', 'NOUN'),\n",
              " ('.', 'PUNCT'),\n",
              " ('\\n\\n', 'SPACE')]"
            ]
          },
          "metadata": {
            "tags": []
          },
          "execution_count": 5
        }
      ]
    },
    {
      "cell_type": "code",
      "metadata": {
        "id": "Ou1jGUv74843",
        "colab_type": "code",
        "outputId": "d26fdfb2-53bb-4705-fb8c-d34ee03b3efa",
        "colab": {
          "base_uri": "https://localhost:8080/",
          "height": 238
        }
      },
      "source": [
        "# We can use this to extract only tokens that we think bear most of the meaning\n",
        "[token.text for token in sentance_2 if token.pos_ in ['NOUN', 'PROPN', 'ADJ', 'ADV'] and not token.is_stop] "
      ],
      "execution_count": 6,
      "outputs": [
        {
          "output_type": "execute_result",
          "data": {
            "text/plain": [
              "['Donald',\n",
              " 'Trump',\n",
              " 'Democrats',\n",
              " 'crucial',\n",
              " 'pivot',\n",
              " 'point',\n",
              " 'impeachment',\n",
              " 'confrontation',\n",
              " 'Tuesday',\n",
              " 'defiant',\n",
              " 'declaration',\n",
              " 'administration',\n",
              " 'investigation']"
            ]
          },
          "metadata": {
            "tags": []
          },
          "execution_count": 6
        }
      ]
    },
    {
      "cell_type": "code",
      "metadata": {
        "id": "jFiFOnvEW5Oe",
        "colab_type": "code",
        "outputId": "9c4fb910-a56b-406b-bf68-0cbb277a1729",
        "colab": {
          "base_uri": "https://localhost:8080/",
          "height": 34
        }
      },
      "source": [
        "# Also, we can create lemmas, thus reducing heterogeneity in the vocabulary without sacrificing much meaning\n",
        "\n",
        "[tok.lemma_ for tok in nlp(\"a text about innovations and all kinds things\")]"
      ],
      "execution_count": 7,
      "outputs": [
        {
          "output_type": "execute_result",
          "data": {
            "text/plain": [
              "['a', 'text', 'about', 'innovation', 'and', 'all', 'kind', 'thing']"
            ]
          },
          "metadata": {
            "tags": []
          },
          "execution_count": 7
        }
      ]
    },
    {
      "cell_type": "code",
      "metadata": {
        "id": "Uvo7rxqOTIF9",
        "colab_type": "code",
        "outputId": "64f999e0-8029-4e43-b24f-ff9218c10223",
        "colab": {
          "base_uri": "https://localhost:8080/",
          "height": 238
        }
      },
      "source": [
        "# Isn't that great?\n",
        "\n",
        "[token.lemma_.lower() for token in sentance_2 if token.pos_ in ['NOUN', 'PROPN', 'ADJ', 'ADV'] and not token.is_stop] "
      ],
      "execution_count": 8,
      "outputs": [
        {
          "output_type": "execute_result",
          "data": {
            "text/plain": [
              "['donald',\n",
              " 'trump',\n",
              " 'democrats',\n",
              " 'crucial',\n",
              " 'pivot',\n",
              " 'point',\n",
              " 'impeachment',\n",
              " 'confrontation',\n",
              " 'tuesday',\n",
              " 'defiant',\n",
              " 'declaration',\n",
              " 'administration',\n",
              " 'investigation']"
            ]
          },
          "metadata": {
            "tags": []
          },
          "execution_count": 8
        }
      ]
    },
    {
      "cell_type": "markdown",
      "metadata": {
        "id": "AJ33e5O8ic-c",
        "colab_type": "text"
      },
      "source": [
        "Thus we have created a representation of a text that is probably as \"minimal\" as possible - Maximising meaning and minimising \"noise\"\n",
        "\n",
        "In the last part of this notebook we will try to use such representations to explore the content of text collections"
      ]
    },
    {
      "cell_type": "markdown",
      "metadata": {
        "id": "Sf1JFlnmaSUB",
        "colab_type": "text"
      },
      "source": [
        "### Bag of words model\n",
        "\n",
        "In order for a computer to understand text we need to somehow find a useful representation.\n",
        "If you need to compare different texts e.g. articles, you will probably go for keywords. These keywords may come from a keyword-list with for example 200 different keywords\n",
        "In that case you could represent each document with a (sparse) vector with 1 for \"keyword present\" and 0 for \"keyword absent\"\n",
        "We can also get a bit more sophoistocated and count the number of times a word from our dictionary occurs.\n",
        "For a corpus of documents that would give us a document-term matrix\n",
        "![example](https://i.stack.imgur.com/C1UMs.png)\n",
        "\n",
        "Let's try creating a bag of words model from our initial example."
      ]
    },
    {
      "cell_type": "code",
      "metadata": {
        "id": "64CPbz3xaWpp",
        "colab_type": "code",
        "colab": {}
      },
      "source": [
        "from sklearn.feature_extraction.text import CountVectorizer\n",
        "corpus = [\n",
        "    \n",
        "     'A text about cats.',\n",
        "     'A text about dogs.',\n",
        "     'And another text about a dog.',\n",
        "     'Why always writing about cats and dogs?',\n",
        "   ]\n",
        "vectorizer = CountVectorizer()\n",
        "X = vectorizer.fit_transform(corpus)"
      ],
      "execution_count": 0,
      "outputs": []
    },
    {
      "cell_type": "code",
      "metadata": {
        "id": "-pCTn2y6a2ra",
        "colab_type": "code",
        "outputId": "55721305-e253-43b3-8bf0-c819baa40f32",
        "colab": {
          "base_uri": "https://localhost:8080/",
          "height": 173
        }
      },
      "source": [
        "pd.DataFrame(X.A, columns=vectorizer.get_feature_names())"
      ],
      "execution_count": 13,
      "outputs": [
        {
          "output_type": "execute_result",
          "data": {
            "text/html": [
              "<div>\n",
              "<style scoped>\n",
              "    .dataframe tbody tr th:only-of-type {\n",
              "        vertical-align: middle;\n",
              "    }\n",
              "\n",
              "    .dataframe tbody tr th {\n",
              "        vertical-align: top;\n",
              "    }\n",
              "\n",
              "    .dataframe thead th {\n",
              "        text-align: right;\n",
              "    }\n",
              "</style>\n",
              "<table border=\"1\" class=\"dataframe\">\n",
              "  <thead>\n",
              "    <tr style=\"text-align: right;\">\n",
              "      <th></th>\n",
              "      <th>about</th>\n",
              "      <th>always</th>\n",
              "      <th>and</th>\n",
              "      <th>another</th>\n",
              "      <th>cats</th>\n",
              "      <th>dog</th>\n",
              "      <th>dogs</th>\n",
              "      <th>text</th>\n",
              "      <th>why</th>\n",
              "      <th>writing</th>\n",
              "    </tr>\n",
              "  </thead>\n",
              "  <tbody>\n",
              "    <tr>\n",
              "      <th>0</th>\n",
              "      <td>1</td>\n",
              "      <td>0</td>\n",
              "      <td>0</td>\n",
              "      <td>0</td>\n",
              "      <td>1</td>\n",
              "      <td>0</td>\n",
              "      <td>0</td>\n",
              "      <td>1</td>\n",
              "      <td>0</td>\n",
              "      <td>0</td>\n",
              "    </tr>\n",
              "    <tr>\n",
              "      <th>1</th>\n",
              "      <td>1</td>\n",
              "      <td>0</td>\n",
              "      <td>0</td>\n",
              "      <td>0</td>\n",
              "      <td>0</td>\n",
              "      <td>0</td>\n",
              "      <td>1</td>\n",
              "      <td>1</td>\n",
              "      <td>0</td>\n",
              "      <td>0</td>\n",
              "    </tr>\n",
              "    <tr>\n",
              "      <th>2</th>\n",
              "      <td>1</td>\n",
              "      <td>0</td>\n",
              "      <td>1</td>\n",
              "      <td>1</td>\n",
              "      <td>0</td>\n",
              "      <td>1</td>\n",
              "      <td>0</td>\n",
              "      <td>1</td>\n",
              "      <td>0</td>\n",
              "      <td>0</td>\n",
              "    </tr>\n",
              "    <tr>\n",
              "      <th>3</th>\n",
              "      <td>1</td>\n",
              "      <td>1</td>\n",
              "      <td>1</td>\n",
              "      <td>0</td>\n",
              "      <td>1</td>\n",
              "      <td>0</td>\n",
              "      <td>1</td>\n",
              "      <td>0</td>\n",
              "      <td>1</td>\n",
              "      <td>1</td>\n",
              "    </tr>\n",
              "  </tbody>\n",
              "</table>\n",
              "</div>"
            ],
            "text/plain": [
              "   about  always  and  another  cats  dog  dogs  text  why  writing\n",
              "0      1       0    0        0     1    0     0     1    0        0\n",
              "1      1       0    0        0     0    0     1     1    0        0\n",
              "2      1       0    1        1     0    1     0     1    0        0\n",
              "3      1       1    1        0     1    0     1     0    1        1"
            ]
          },
          "metadata": {
            "tags": []
          },
          "execution_count": 13
        }
      ]
    },
    {
      "cell_type": "markdown",
      "metadata": {
        "id": "roRMrE7HpNHp",
        "colab_type": "text"
      },
      "source": [
        "#### TF-IDF - Term Frequency - Inverse Document Frequency\n",
        "\n",
        "A token is importan for a document if appears very often\n",
        "A token becomes less important for comparaison across a corpus if it appears all over the place in the corpus\n",
        "\n",
        "*Innovation* in a corpus of abstracts talking about innovation is not that important\n",
        "\n",
        "\\begin{equation*}\n",
        "w_{i,j} = tf_{i,j}*log(\\frac{N}{df_i})\n",
        "\\end{equation*}\n",
        "\n",
        "- $w_{i,j}$ = the TF-IDF score for a term i in a document j\n",
        "- $tf_{i,j}$ = number of occurence of term i in document j\n",
        "- $N$ = number of documents in the corpus\n",
        "- $df_i$ = number of documents with term i\n",
        "\n",
        "\n",
        "We will use TF-IDF to transform our corpus. However, first we need to fir the TF-IDF model."
      ]
    },
    {
      "cell_type": "code",
      "metadata": {
        "id": "Z2TjxKuHnEzJ",
        "colab_type": "code",
        "colab": {}
      },
      "source": [
        "from sklearn.feature_extraction.text import TfidfVectorizer\n",
        "\n",
        "vectorizer = TfidfVectorizer()\n",
        "X = vectorizer.fit_transform(corpus)"
      ],
      "execution_count": 0,
      "outputs": []
    },
    {
      "cell_type": "code",
      "metadata": {
        "id": "fDln35hvo7qx",
        "colab_type": "code",
        "outputId": "68577bb0-4f92-4342-ead1-d3363f814f9b",
        "colab": {
          "base_uri": "https://localhost:8080/",
          "height": 173
        }
      },
      "source": [
        "pd.DataFrame(X.A, columns=vectorizer.get_feature_names())"
      ],
      "execution_count": 15,
      "outputs": [
        {
          "output_type": "execute_result",
          "data": {
            "text/html": [
              "<div>\n",
              "<style scoped>\n",
              "    .dataframe tbody tr th:only-of-type {\n",
              "        vertical-align: middle;\n",
              "    }\n",
              "\n",
              "    .dataframe tbody tr th {\n",
              "        vertical-align: top;\n",
              "    }\n",
              "\n",
              "    .dataframe thead th {\n",
              "        text-align: right;\n",
              "    }\n",
              "</style>\n",
              "<table border=\"1\" class=\"dataframe\">\n",
              "  <thead>\n",
              "    <tr style=\"text-align: right;\">\n",
              "      <th></th>\n",
              "      <th>about</th>\n",
              "      <th>always</th>\n",
              "      <th>and</th>\n",
              "      <th>another</th>\n",
              "      <th>cats</th>\n",
              "      <th>dog</th>\n",
              "      <th>dogs</th>\n",
              "      <th>text</th>\n",
              "      <th>why</th>\n",
              "      <th>writing</th>\n",
              "    </tr>\n",
              "  </thead>\n",
              "  <tbody>\n",
              "    <tr>\n",
              "      <th>0</th>\n",
              "      <td>0.457453</td>\n",
              "      <td>0.000000</td>\n",
              "      <td>0.000000</td>\n",
              "      <td>0.000000</td>\n",
              "      <td>0.691131</td>\n",
              "      <td>0.000000</td>\n",
              "      <td>0.000000</td>\n",
              "      <td>0.559530</td>\n",
              "      <td>0.000000</td>\n",
              "      <td>0.000000</td>\n",
              "    </tr>\n",
              "    <tr>\n",
              "      <th>1</th>\n",
              "      <td>0.457453</td>\n",
              "      <td>0.000000</td>\n",
              "      <td>0.000000</td>\n",
              "      <td>0.000000</td>\n",
              "      <td>0.000000</td>\n",
              "      <td>0.000000</td>\n",
              "      <td>0.691131</td>\n",
              "      <td>0.559530</td>\n",
              "      <td>0.000000</td>\n",
              "      <td>0.000000</td>\n",
              "    </tr>\n",
              "    <tr>\n",
              "      <th>2</th>\n",
              "      <td>0.287207</td>\n",
              "      <td>0.000000</td>\n",
              "      <td>0.433919</td>\n",
              "      <td>0.550372</td>\n",
              "      <td>0.000000</td>\n",
              "      <td>0.550372</td>\n",
              "      <td>0.000000</td>\n",
              "      <td>0.351295</td>\n",
              "      <td>0.000000</td>\n",
              "      <td>0.000000</td>\n",
              "    </tr>\n",
              "    <tr>\n",
              "      <th>3</th>\n",
              "      <td>0.230239</td>\n",
              "      <td>0.441206</td>\n",
              "      <td>0.347852</td>\n",
              "      <td>0.000000</td>\n",
              "      <td>0.347852</td>\n",
              "      <td>0.000000</td>\n",
              "      <td>0.347852</td>\n",
              "      <td>0.000000</td>\n",
              "      <td>0.441206</td>\n",
              "      <td>0.441206</td>\n",
              "    </tr>\n",
              "  </tbody>\n",
              "</table>\n",
              "</div>"
            ],
            "text/plain": [
              "      about    always       and  ...      text       why   writing\n",
              "0  0.457453  0.000000  0.000000  ...  0.559530  0.000000  0.000000\n",
              "1  0.457453  0.000000  0.000000  ...  0.559530  0.000000  0.000000\n",
              "2  0.287207  0.000000  0.433919  ...  0.351295  0.000000  0.000000\n",
              "3  0.230239  0.441206  0.347852  ...  0.000000  0.441206  0.441206\n",
              "\n",
              "[4 rows x 10 columns]"
            ]
          },
          "metadata": {
            "tags": []
          },
          "execution_count": 15
        }
      ]
    },
    {
      "cell_type": "code",
      "metadata": {
        "id": "WHV7quvyL0cd",
        "colab_type": "code",
        "colab": {
          "base_uri": "https://localhost:8080/",
          "height": 51
        },
        "outputId": "97bd8f55-2c40-4861-9aae-5b4744b11f03"
      },
      "source": [
        "# let's fist install this nice visualizer\n",
        "!pip install -qq pyLDAvis"
      ],
      "execution_count": 16,
      "outputs": [
        {
          "output_type": "stream",
          "text": [
            "\u001b[?25l\r\u001b[K     |▏                               | 10kB 16.2MB/s eta 0:00:01\r\u001b[K     |▍                               | 20kB 3.3MB/s eta 0:00:01\r\u001b[K     |▋                               | 30kB 4.7MB/s eta 0:00:01\r\u001b[K     |▉                               | 40kB 3.0MB/s eta 0:00:01\r\u001b[K     |█                               | 51kB 3.7MB/s eta 0:00:01\r\u001b[K     |█▏                              | 61kB 4.4MB/s eta 0:00:01\r\u001b[K     |█▍                              | 71kB 5.0MB/s eta 0:00:01\r\u001b[K     |█▋                              | 81kB 5.7MB/s eta 0:00:01\r\u001b[K     |█▉                              | 92kB 6.3MB/s eta 0:00:01\r\u001b[K     |██                              | 102kB 4.9MB/s eta 0:00:01\r\u001b[K     |██▎                             | 112kB 4.9MB/s eta 0:00:01\r\u001b[K     |██▍                             | 122kB 4.9MB/s eta 0:00:01\r\u001b[K     |██▋                             | 133kB 4.9MB/s eta 0:00:01\r\u001b[K     |██▉                             | 143kB 4.9MB/s eta 0:00:01\r\u001b[K     |███                             | 153kB 4.9MB/s eta 0:00:01\r\u001b[K     |███▎                            | 163kB 4.9MB/s eta 0:00:01\r\u001b[K     |███▌                            | 174kB 4.9MB/s eta 0:00:01\r\u001b[K     |███▋                            | 184kB 4.9MB/s eta 0:00:01\r\u001b[K     |███▉                            | 194kB 4.9MB/s eta 0:00:01\r\u001b[K     |████                            | 204kB 4.9MB/s eta 0:00:01\r\u001b[K     |████▎                           | 215kB 4.9MB/s eta 0:00:01\r\u001b[K     |████▌                           | 225kB 4.9MB/s eta 0:00:01\r\u001b[K     |████▊                           | 235kB 4.9MB/s eta 0:00:01\r\u001b[K     |████▉                           | 245kB 4.9MB/s eta 0:00:01\r\u001b[K     |█████                           | 256kB 4.9MB/s eta 0:00:01\r\u001b[K     |█████▎                          | 266kB 4.9MB/s eta 0:00:01\r\u001b[K     |█████▌                          | 276kB 4.9MB/s eta 0:00:01\r\u001b[K     |█████▊                          | 286kB 4.9MB/s eta 0:00:01\r\u001b[K     |█████▉                          | 296kB 4.9MB/s eta 0:00:01\r\u001b[K     |██████                          | 307kB 4.9MB/s eta 0:00:01\r\u001b[K     |██████▎                         | 317kB 4.9MB/s eta 0:00:01\r\u001b[K     |██████▌                         | 327kB 4.9MB/s eta 0:00:01\r\u001b[K     |██████▊                         | 337kB 4.9MB/s eta 0:00:01\r\u001b[K     |███████                         | 348kB 4.9MB/s eta 0:00:01\r\u001b[K     |███████                         | 358kB 4.9MB/s eta 0:00:01\r\u001b[K     |███████▎                        | 368kB 4.9MB/s eta 0:00:01\r\u001b[K     |███████▌                        | 378kB 4.9MB/s eta 0:00:01\r\u001b[K     |███████▊                        | 389kB 4.9MB/s eta 0:00:01\r\u001b[K     |████████                        | 399kB 4.9MB/s eta 0:00:01\r\u001b[K     |████████▏                       | 409kB 4.9MB/s eta 0:00:01\r\u001b[K     |████████▎                       | 419kB 4.9MB/s eta 0:00:01\r\u001b[K     |████████▌                       | 430kB 4.9MB/s eta 0:00:01\r\u001b[K     |████████▊                       | 440kB 4.9MB/s eta 0:00:01\r\u001b[K     |█████████                       | 450kB 4.9MB/s eta 0:00:01\r\u001b[K     |█████████▏                      | 460kB 4.9MB/s eta 0:00:01\r\u001b[K     |█████████▍                      | 471kB 4.9MB/s eta 0:00:01\r\u001b[K     |█████████▌                      | 481kB 4.9MB/s eta 0:00:01\r\u001b[K     |█████████▊                      | 491kB 4.9MB/s eta 0:00:01\r\u001b[K     |██████████                      | 501kB 4.9MB/s eta 0:00:01\r\u001b[K     |██████████▏                     | 512kB 4.9MB/s eta 0:00:01\r\u001b[K     |██████████▍                     | 522kB 4.9MB/s eta 0:00:01\r\u001b[K     |██████████▋                     | 532kB 4.9MB/s eta 0:00:01\r\u001b[K     |██████████▊                     | 542kB 4.9MB/s eta 0:00:01\r\u001b[K     |███████████                     | 552kB 4.9MB/s eta 0:00:01\r\u001b[K     |███████████▏                    | 563kB 4.9MB/s eta 0:00:01\r\u001b[K     |███████████▍                    | 573kB 4.9MB/s eta 0:00:01\r\u001b[K     |███████████▋                    | 583kB 4.9MB/s eta 0:00:01\r\u001b[K     |███████████▊                    | 593kB 4.9MB/s eta 0:00:01\r\u001b[K     |████████████                    | 604kB 4.9MB/s eta 0:00:01\r\u001b[K     |████████████▏                   | 614kB 4.9MB/s eta 0:00:01\r\u001b[K     |████████████▍                   | 624kB 4.9MB/s eta 0:00:01\r\u001b[K     |████████████▋                   | 634kB 4.9MB/s eta 0:00:01\r\u001b[K     |████████████▉                   | 645kB 4.9MB/s eta 0:00:01\r\u001b[K     |█████████████                   | 655kB 4.9MB/s eta 0:00:01\r\u001b[K     |█████████████▏                  | 665kB 4.9MB/s eta 0:00:01\r\u001b[K     |█████████████▍                  | 675kB 4.9MB/s eta 0:00:01\r\u001b[K     |█████████████▋                  | 686kB 4.9MB/s eta 0:00:01\r\u001b[K     |█████████████▉                  | 696kB 4.9MB/s eta 0:00:01\r\u001b[K     |██████████████                  | 706kB 4.9MB/s eta 0:00:01\r\u001b[K     |██████████████▏                 | 716kB 4.9MB/s eta 0:00:01\r\u001b[K     |██████████████▍                 | 727kB 4.9MB/s eta 0:00:01\r\u001b[K     |██████████████▋                 | 737kB 4.9MB/s eta 0:00:01\r\u001b[K     |██████████████▉                 | 747kB 4.9MB/s eta 0:00:01\r\u001b[K     |███████████████                 | 757kB 4.9MB/s eta 0:00:01\r\u001b[K     |███████████████▎                | 768kB 4.9MB/s eta 0:00:01\r\u001b[K     |███████████████▍                | 778kB 4.9MB/s eta 0:00:01\r\u001b[K     |███████████████▋                | 788kB 4.9MB/s eta 0:00:01\r\u001b[K     |███████████████▉                | 798kB 4.9MB/s eta 0:00:01\r\u001b[K     |████████████████                | 808kB 4.9MB/s eta 0:00:01\r\u001b[K     |████████████████▎               | 819kB 4.9MB/s eta 0:00:01\r\u001b[K     |████████████████▌               | 829kB 4.9MB/s eta 0:00:01\r\u001b[K     |████████████████▋               | 839kB 4.9MB/s eta 0:00:01\r\u001b[K     |████████████████▉               | 849kB 4.9MB/s eta 0:00:01\r\u001b[K     |█████████████████               | 860kB 4.9MB/s eta 0:00:01\r\u001b[K     |█████████████████▎              | 870kB 4.9MB/s eta 0:00:01\r\u001b[K     |█████████████████▌              | 880kB 4.9MB/s eta 0:00:01\r\u001b[K     |█████████████████▋              | 890kB 4.9MB/s eta 0:00:01\r\u001b[K     |█████████████████▉              | 901kB 4.9MB/s eta 0:00:01\r\u001b[K     |██████████████████              | 911kB 4.9MB/s eta 0:00:01\r\u001b[K     |██████████████████▎             | 921kB 4.9MB/s eta 0:00:01\r\u001b[K     |██████████████████▌             | 931kB 4.9MB/s eta 0:00:01\r\u001b[K     |██████████████████▊             | 942kB 4.9MB/s eta 0:00:01\r\u001b[K     |██████████████████▉             | 952kB 4.9MB/s eta 0:00:01\r\u001b[K     |███████████████████             | 962kB 4.9MB/s eta 0:00:01\r\u001b[K     |███████████████████▎            | 972kB 4.9MB/s eta 0:00:01\r\u001b[K     |███████████████████▌            | 983kB 4.9MB/s eta 0:00:01\r\u001b[K     |███████████████████▊            | 993kB 4.9MB/s eta 0:00:01\r\u001b[K     |████████████████████            | 1.0MB 4.9MB/s eta 0:00:01\r\u001b[K     |████████████████████            | 1.0MB 4.9MB/s eta 0:00:01\r\u001b[K     |████████████████████▎           | 1.0MB 4.9MB/s eta 0:00:01\r\u001b[K     |████████████████████▌           | 1.0MB 4.9MB/s eta 0:00:01\r\u001b[K     |████████████████████▊           | 1.0MB 4.9MB/s eta 0:00:01\r\u001b[K     |█████████████████████           | 1.1MB 4.9MB/s eta 0:00:01\r\u001b[K     |█████████████████████▏          | 1.1MB 4.9MB/s eta 0:00:01\r\u001b[K     |█████████████████████▎          | 1.1MB 4.9MB/s eta 0:00:01\r\u001b[K     |█████████████████████▌          | 1.1MB 4.9MB/s eta 0:00:01\r\u001b[K     |█████████████████████▊          | 1.1MB 4.9MB/s eta 0:00:01\r\u001b[K     |██████████████████████          | 1.1MB 4.9MB/s eta 0:00:01\r\u001b[K     |██████████████████████▏         | 1.1MB 4.9MB/s eta 0:00:01\r\u001b[K     |██████████████████████▍         | 1.1MB 4.9MB/s eta 0:00:01\r\u001b[K     |██████████████████████▌         | 1.1MB 4.9MB/s eta 0:00:01\r\u001b[K     |██████████████████████▊         | 1.1MB 4.9MB/s eta 0:00:01\r\u001b[K     |███████████████████████         | 1.2MB 4.9MB/s eta 0:00:01\r\u001b[K     |███████████████████████▏        | 1.2MB 4.9MB/s eta 0:00:01\r\u001b[K     |███████████████████████▍        | 1.2MB 4.9MB/s eta 0:00:01\r\u001b[K     |███████████████████████▌        | 1.2MB 4.9MB/s eta 0:00:01\r\u001b[K     |███████████████████████▊        | 1.2MB 4.9MB/s eta 0:00:01\r\u001b[K     |████████████████████████        | 1.2MB 4.9MB/s eta 0:00:01\r\u001b[K     |████████████████████████▏       | 1.2MB 4.9MB/s eta 0:00:01\r\u001b[K     |████████████████████████▍       | 1.2MB 4.9MB/s eta 0:00:01\r\u001b[K     |████████████████████████▋       | 1.2MB 4.9MB/s eta 0:00:01\r\u001b[K     |████████████████████████▊       | 1.2MB 4.9MB/s eta 0:00:01\r\u001b[K     |█████████████████████████       | 1.3MB 4.9MB/s eta 0:00:01\r\u001b[K     |█████████████████████████▏      | 1.3MB 4.9MB/s eta 0:00:01\r\u001b[K     |█████████████████████████▍      | 1.3MB 4.9MB/s eta 0:00:01\r\u001b[K     |█████████████████████████▋      | 1.3MB 4.9MB/s eta 0:00:01\r\u001b[K     |█████████████████████████▉      | 1.3MB 4.9MB/s eta 0:00:01\r\u001b[K     |██████████████████████████      | 1.3MB 4.9MB/s eta 0:00:01\r\u001b[K     |██████████████████████████▏     | 1.3MB 4.9MB/s eta 0:00:01\r\u001b[K     |██████████████████████████▍     | 1.3MB 4.9MB/s eta 0:00:01\r\u001b[K     |██████████████████████████▋     | 1.3MB 4.9MB/s eta 0:00:01\r\u001b[K     |██████████████████████████▉     | 1.4MB 4.9MB/s eta 0:00:01\r\u001b[K     |███████████████████████████     | 1.4MB 4.9MB/s eta 0:00:01\r\u001b[K     |███████████████████████████▏    | 1.4MB 4.9MB/s eta 0:00:01\r\u001b[K     |███████████████████████████▍    | 1.4MB 4.9MB/s eta 0:00:01\r\u001b[K     |███████████████████████████▋    | 1.4MB 4.9MB/s eta 0:00:01\r\u001b[K     |███████████████████████████▉    | 1.4MB 4.9MB/s eta 0:00:01\r\u001b[K     |████████████████████████████    | 1.4MB 4.9MB/s eta 0:00:01\r\u001b[K     |████████████████████████████▏   | 1.4MB 4.9MB/s eta 0:00:01\r\u001b[K     |████████████████████████████▍   | 1.4MB 4.9MB/s eta 0:00:01\r\u001b[K     |████████████████████████████▋   | 1.4MB 4.9MB/s eta 0:00:01\r\u001b[K     |████████████████████████████▉   | 1.5MB 4.9MB/s eta 0:00:01\r\u001b[K     |█████████████████████████████   | 1.5MB 4.9MB/s eta 0:00:01\r\u001b[K     |█████████████████████████████▎  | 1.5MB 4.9MB/s eta 0:00:01\r\u001b[K     |█████████████████████████████▍  | 1.5MB 4.9MB/s eta 0:00:01\r\u001b[K     |█████████████████████████████▋  | 1.5MB 4.9MB/s eta 0:00:01\r\u001b[K     |█████████████████████████████▉  | 1.5MB 4.9MB/s eta 0:00:01\r\u001b[K     |██████████████████████████████  | 1.5MB 4.9MB/s eta 0:00:01\r\u001b[K     |██████████████████████████████▎ | 1.5MB 4.9MB/s eta 0:00:01\r\u001b[K     |██████████████████████████████▌ | 1.5MB 4.9MB/s eta 0:00:01\r\u001b[K     |██████████████████████████████▋ | 1.5MB 4.9MB/s eta 0:00:01\r\u001b[K     |██████████████████████████████▉ | 1.6MB 4.9MB/s eta 0:00:01\r\u001b[K     |███████████████████████████████ | 1.6MB 4.9MB/s eta 0:00:01\r\u001b[K     |███████████████████████████████▎| 1.6MB 4.9MB/s eta 0:00:01\r\u001b[K     |███████████████████████████████▌| 1.6MB 4.9MB/s eta 0:00:01\r\u001b[K     |███████████████████████████████▊| 1.6MB 4.9MB/s eta 0:00:01\r\u001b[K     |███████████████████████████████▉| 1.6MB 4.9MB/s eta 0:00:01\r\u001b[K     |████████████████████████████████| 1.6MB 4.9MB/s \n",
            "\u001b[?25h  Building wheel for pyLDAvis (setup.py) ... \u001b[?25l\u001b[?25hdone\n"
          ],
          "name": "stdout"
        }
      ]
    },
    {
      "cell_type": "code",
      "metadata": {
        "id": "fuGZe88uMxCh",
        "colab_type": "code",
        "colab": {}
      },
      "source": [
        "# and import it\n",
        "import pyLDAvis.gensim\n",
        "%matplotlib inline\n",
        "pyLDAvis.enable_notebook()"
      ],
      "execution_count": 0,
      "outputs": []
    },
    {
      "cell_type": "markdown",
      "metadata": {
        "id": "qmAhAMcrjJjU",
        "colab_type": "text"
      },
      "source": [
        "We will be using a dataset from EU Cordis which describes H2020 research projects. No tweets for now.\n",
        "\n",
        "http://data.europa.eu/euodp/en/data/dataset/cordisH2020projects"
      ]
    },
    {
      "cell_type": "code",
      "metadata": {
        "id": "QZyun0T2US-a",
        "colab_type": "code",
        "colab": {}
      },
      "source": [
        "# I put the data on our SDS server to make things faster (it takes forever to lode otherwise)\n",
        "\n",
        "reports = pd.read_csv('http://sds-datacrunch.aau.dk/public/data/cordis-h2020reports.csv', sep=';')"
      ],
      "execution_count": 0,
      "outputs": []
    },
    {
      "cell_type": "code",
      "metadata": {
        "id": "F5aD1YE3dHNe",
        "colab_type": "code",
        "outputId": "c73f9929-012e-4d9a-a789-535b020543d1",
        "colab": {
          "base_uri": "https://localhost:8080/",
          "height": 357
        }
      },
      "source": [
        "reports.info()"
      ],
      "execution_count": 35,
      "outputs": [
        {
          "output_type": "stream",
          "text": [
            "<class 'pandas.core.frame.DataFrame'>\n",
            "RangeIndex: 13155 entries, 0 to 13154\n",
            "Data columns (total 15 columns):\n",
            "rcn               13155 non-null object\n",
            "language          13154 non-null object\n",
            "title             13152 non-null object\n",
            "teaser            13150 non-null object\n",
            "summary           13151 non-null object\n",
            "workPerformed     13151 non-null object\n",
            "finalResults      13140 non-null object\n",
            "lastUpdateDate    13151 non-null object\n",
            "country           0 non-null float64\n",
            "projectID         13151 non-null object\n",
            "projectAcronym    13150 non-null object\n",
            "programme         13150 non-null object\n",
            "topics            13150 non-null object\n",
            "relatedFile       11506 non-null object\n",
            "url               11835 non-null object\n",
            "dtypes: float64(1), object(14)\n",
            "memory usage: 1.5+ MB\n"
          ],
          "name": "stdout"
        }
      ]
    },
    {
      "cell_type": "code",
      "metadata": {
        "id": "UF9cVYcNakPR",
        "colab_type": "code",
        "colab": {}
      },
      "source": [
        "# to speed things up, we will keep the data at 500 projects\n",
        "# create a random sample\n",
        "\n",
        "reports = reports.sample(500)\n",
        "reports = reports[reports['language'] == 'en']"
      ],
      "execution_count": 0,
      "outputs": []
    },
    {
      "cell_type": "code",
      "metadata": {
        "id": "FLXIRn3Pl3_h",
        "colab_type": "code",
        "colab": {}
      },
      "source": [
        "# reindec\n",
        "reports.index = range(len(reports))"
      ],
      "execution_count": 0,
      "outputs": []
    },
    {
      "cell_type": "code",
      "metadata": {
        "id": "P9ZYojgcX8xx",
        "colab_type": "code",
        "colab": {}
      },
      "source": [
        "# now, let's combine everything that we learned about preprocessing in a few lines of code\n",
        "\n",
        "tokens = []\n",
        "\n",
        "for summary in nlp.pipe(reports['summary']):\n",
        "  proj_tok = [token.lemma_.lower() for token in summary if token.pos_ in ['NOUN', 'PROPN', 'ADJ', 'ADV'] and not token.is_stop] \n",
        "  tokens.append(proj_tok)"
      ],
      "execution_count": 0,
      "outputs": []
    },
    {
      "cell_type": "code",
      "metadata": {
        "id": "swYK2bBvbbol",
        "colab_type": "code",
        "colab": {}
      },
      "source": [
        "# Let's bring the tokens back in\n",
        "\n",
        "reports['tokens'] = tokens"
      ],
      "execution_count": 0,
      "outputs": []
    },
    {
      "cell_type": "code",
      "metadata": {
        "id": "-b0TwvW8DTxB",
        "colab_type": "code",
        "colab": {
          "base_uri": "https://localhost:8080/",
          "height": 204
        },
        "outputId": "b5516aff-d96d-497e-d610-41e8262cfef2"
      },
      "source": [
        "reports['tokens'][:10]"
      ],
      "execution_count": 41,
      "outputs": [
        {
          "output_type": "execute_result",
          "data": {
            "text/plain": [
              "0    [company, portfolio, h2020, sme, phase, i., pr...\n",
              "1    [recognition, mushroom, property, consumption,...\n",
              "2    [trawl, door, large, rectangular, steel, struc...\n",
              "3    [visually, impaired, people, worldwide, millio...\n",
              "4    [home, advertising, market, 32b, important, in...\n",
              "5    [electricity, distribution, services, ltd, eds...\n",
              "6    [objective, high, power, innovation, project, ...\n",
              "7    [hiv, vaccine, concept, efficacy, trial, proph...\n",
              "8    [interact, research, station, harsh, remote, a...\n",
              "9    [addact, live, music, startup, -, invent, way,...\n",
              "Name: tokens, dtype: object"
            ]
          },
          "metadata": {
            "tags": []
          },
          "execution_count": 41
        }
      ]
    },
    {
      "cell_type": "markdown",
      "metadata": {
        "id": "fPG-IPHRkkV9",
        "colab_type": "text"
      },
      "source": [
        "Another library that you have to know when doing NLP (once you progress to DeepLearning and recent stuff probably not any more but for now) is gensim\n",
        "\n",
        "https://radimrehurek.com/gensim/\n",
        "\n",
        "This is the library that handles all kinds of statistical NLP tasks and goes as far as implementing (super efficient) embedding model training (next class)\n",
        "But: With NLP today being all BERT, ELMO and transformers probably declining in importance. Back in 2013 gensim was a major discovery and breakthrough helper when I was working on my PhD. One more reason to have a look at it.\n",
        "\n"
      ]
    },
    {
      "cell_type": "code",
      "metadata": {
        "id": "motjLUBpDmdL",
        "colab_type": "code",
        "colab": {}
      },
      "source": [
        "!pip install -qq -U gensim"
      ],
      "execution_count": 0,
      "outputs": []
    },
    {
      "cell_type": "code",
      "metadata": {
        "id": "EWU7zITlkwPs",
        "colab_type": "code",
        "colab": {}
      },
      "source": [
        "# Import the dictionary builder\n",
        "from gensim.corpora.dictionary import Dictionary"
      ],
      "execution_count": 0,
      "outputs": []
    },
    {
      "cell_type": "code",
      "metadata": {
        "id": "iOmNmWMvZ8Vy",
        "colab_type": "code",
        "colab": {}
      },
      "source": [
        "# Create a Dictionary from the articles: dictionary\n",
        "dictionary = Dictionary(reports['tokens'])"
      ],
      "execution_count": 0,
      "outputs": []
    },
    {
      "cell_type": "code",
      "metadata": {
        "id": "wZW6Idn_btnL",
        "colab_type": "code",
        "colab": {}
      },
      "source": [
        "# filter out low-frequency / high-frequency stuff, also limit the vocabulary to max 1000 words\n",
        "dictionary.filter_extremes(no_below=5, no_above=0.5, keep_n=1000)"
      ],
      "execution_count": 0,
      "outputs": []
    },
    {
      "cell_type": "code",
      "metadata": {
        "id": "UB6aB8E-bkW9",
        "colab_type": "code",
        "colab": {}
      },
      "source": [
        "# construct corpus using this dictionary\n",
        "corpus = [dictionary.doc2bow(doc) for doc in reports['tokens']]"
      ],
      "execution_count": 0,
      "outputs": []
    },
    {
      "cell_type": "code",
      "metadata": {
        "id": "WNOI_-xNl5PG",
        "colab_type": "code",
        "outputId": "227f9881-1a4e-47ee-b013-16ad015b682f",
        "colab": {
          "base_uri": "https://localhost:8080/",
          "height": 187
        }
      },
      "source": [
        "# That's how the corpus looks\n",
        "corpus[100][:10]"
      ],
      "execution_count": 233,
      "outputs": [
        {
          "output_type": "execute_result",
          "data": {
            "text/plain": [
              "[(0, 2),\n",
              " (2, 5),\n",
              " (12, 1),\n",
              " (21, 3),\n",
              " (26, 1),\n",
              " (28, 4),\n",
              " (31, 1),\n",
              " (33, 1),\n",
              " (37, 1),\n",
              " (38, 1)]"
            ]
          },
          "metadata": {
            "tags": []
          },
          "execution_count": 233
        }
      ]
    },
    {
      "cell_type": "markdown",
      "metadata": {
        "id": "T4krg3HfmAhp",
        "colab_type": "text"
      },
      "source": [
        "### Topic modelling - NLP meets unsupervised ML\n",
        "\n",
        "The corpus is a list of tuples, with word-ids and the number of their occurrence in documents: LDA - https://youtu.be/DWJYZq_fQ2A\n",
        "\n",
        "We will start with a topic modelling approach that is good for interpretable topics but not too much for further processing\n",
        "\n",
        "![alt text](https://miro.medium.com/max/1600/1*pZo_IcxW1GVuH2vQKdoIMQ.jpeg)\n"
      ]
    },
    {
      "cell_type": "code",
      "metadata": {
        "id": "G3vcFRRqbsFR",
        "colab_type": "code",
        "colab": {}
      },
      "source": [
        "# we'll use the faster multicore version of LDA\n",
        "\n",
        "from gensim.models import LdaMulticore"
      ],
      "execution_count": 0,
      "outputs": []
    },
    {
      "cell_type": "code",
      "metadata": {
        "id": "Sv_Z6JXIb526",
        "colab_type": "code",
        "colab": {}
      },
      "source": [
        "# Training the model (makes some mess atm due to version clashes)\n",
        "\n",
        "lda_model = LdaMulticore(corpus, id2word=dictionary,  num_topics=10, workers = 4, passes=10)"
      ],
      "execution_count": 0,
      "outputs": []
    },
    {
      "cell_type": "code",
      "metadata": {
        "id": "cXPrQHO9nDhB",
        "colab_type": "code",
        "outputId": "f7d91fb4-6755-4cf6-d16e-9459d2cd169d",
        "colab": {
          "base_uri": "https://localhost:8080/",
          "height": 357
        }
      },
      "source": [
        "# Check out topics\n",
        "lda_model.print_topics(-1)"
      ],
      "execution_count": 56,
      "outputs": [
        {
          "output_type": "execute_result",
          "data": {
            "text/plain": [
              "[(0,\n",
              "  '0.023*\"datum\" + 0.015*\"solution\" + 0.013*\"model\" + 0.012*\"security\" + 0.012*\"user\" + 0.012*\"product\" + 0.012*\"system\" + 0.011*\"cloud\" + 0.011*\"service\" + 0.011*\"application\"'),\n",
              " (1,\n",
              "  '0.020*\"system\" + 0.015*\"waste\" + 0.012*\"control\" + 0.012*\"concrete\" + 0.011*\"thermal\" + 0.011*\"impact\" + 0.011*\"electrical\" + 0.010*\"technology\" + 0.010*\"development\" + 0.010*\"block\"'),\n",
              " (2,\n",
              "  '0.030*\"energy\" + 0.021*\"%\" + 0.019*\"cost\" + 0.016*\"system\" + 0.015*\"market\" + 0.014*\"solution\" + 0.013*\"high\" + 0.012*\"low\" + 0.011*\"technology\" + 0.009*\"emission\"'),\n",
              " (3,\n",
              "  '0.027*\"innovation\" + 0.027*\"sme\" + 0.019*\"service\" + 0.018*\"system\" + 0.016*\"management\" + 0.012*\"development\" + 0.011*\"strategy\" + 0.011*\"objective\" + 0.009*\"business\" + 0.009*\"technology\"'),\n",
              " (4,\n",
              "  '0.023*\"material\" + 0.022*\"market\" + 0.022*\"product\" + 0.020*\"new\" + 0.019*\"technology\" + 0.014*\"industry\" + 0.013*\"high\" + 0.012*\"application\" + 0.012*\"production\" + 0.010*\"system\"'),\n",
              " (5,\n",
              "  '0.034*\"research\" + 0.014*\"innovation\" + 0.013*\"european\" + 0.011*\"scientific\" + 0.011*\"knowledge\" + 0.010*\"new\" + 0.010*\"-\" + 0.009*\"europe\" + 0.009*\"technology\" + 0.009*\"eu\"'),\n",
              " (6,\n",
              "  '0.024*\"social\" + 0.021*\"european\" + 0.017*\"citizen\" + 0.016*\"research\" + 0.012*\"policy\" + 0.012*\"eu\" + 0.012*\"cultural\" + 0.012*\"-\" + 0.009*\"objective\" + 0.009*\"development\"'),\n",
              " (7,\n",
              "  '0.013*\"virus\" + 0.012*\"health\" + 0.011*\"research\" + 0.011*\"study\" + 0.010*\"risk\" + 0.009*\"structure\" + 0.009*\"channel\" + 0.009*\"different\" + 0.009*\"infection\" + 0.008*\"general\"'),\n",
              " (8,\n",
              "  '0.024*\"cancer\" + 0.023*\"patient\" + 0.017*\"disease\" + 0.013*\"treatment\" + 0.012*\"clinical\" + 0.011*\"-\" + 0.010*\"care\" + 0.010*\"therapy\" + 0.010*\"diagnosis\" + 0.009*\"diagnostic\"'),\n",
              " (9,\n",
              "  '0.012*\"-\" + 0.012*\"human\" + 0.011*\"model\" + 0.010*\"quantum\" + 0.010*\"cell\" + 0.009*\"system\" + 0.008*\"research\" + 0.008*\"process\" + 0.008*\"objective\" + 0.007*\"state\"')]"
            ]
          },
          "metadata": {
            "tags": []
          },
          "execution_count": 56
        }
      ]
    },
    {
      "cell_type": "code",
      "metadata": {
        "id": "SDIH34Lvb7Cz",
        "colab_type": "code",
        "outputId": "d55efe10-82a0-4dd3-88de-e845565d7aee",
        "colab": {
          "base_uri": "https://localhost:8080/",
          "height": 153
        }
      },
      "source": [
        "# Let's try to visualize\n",
        "lda_display = pyLDAvis.gensim.prepare(lda_model, corpus, dictionary, sort_topics=False)\n"
      ],
      "execution_count": 57,
      "outputs": [
        {
          "output_type": "stream",
          "text": [
            "/usr/local/lib/python3.6/dist-packages/pyLDAvis/_prepare.py:257: FutureWarning: Sorting because non-concatenation axis is not aligned. A future version\n",
            "of pandas will change to not sort by default.\n",
            "\n",
            "To accept the future behavior, pass 'sort=False'.\n",
            "\n",
            "To retain the current behavior and silence the warning, pass 'sort=True'.\n",
            "\n",
            "  return pd.concat([default_term_info] + list(topic_dfs))\n"
          ],
          "name": "stderr"
        }
      ]
    },
    {
      "cell_type": "code",
      "metadata": {
        "id": "bmDFJBBFcBHV",
        "colab_type": "code",
        "outputId": "abc251ac-f870-45c8-9851-335893b2ff70",
        "colab": {
          "base_uri": "https://localhost:8080/",
          "height": 861
        }
      },
      "source": [
        "# Let's Visualize\n",
        "pyLDAvis.display(lda_display)"
      ],
      "execution_count": 58,
      "outputs": [
        {
          "output_type": "execute_result",
          "data": {
            "text/html": [
              "\n",
              "<link rel=\"stylesheet\" type=\"text/css\" href=\"https://cdn.rawgit.com/bmabey/pyLDAvis/files/ldavis.v1.0.0.css\">\n",
              "\n",
              "\n",
              "<div id=\"ldavis_el1281402509730902247358795176\"></div>\n",
              "<script type=\"text/javascript\">\n",
              "\n",
              "var ldavis_el1281402509730902247358795176_data = {\"mdsDat\": {\"x\": [0.057731882704618785, 0.04106865853516858, 0.1349079898985212, 0.02659840301922446, 0.12495828818882498, -0.07580327533613347, -0.16536880414332616, -0.06542402735254249, -0.04693905969399421, -0.03173005582036184], \"y\": [-0.05339537192834664, 0.05551457660828274, -0.059195571709271956, -0.03618295386698494, -0.0039352549688651765, -0.11288859163865189, -0.08818035492570848, 0.031207236262920345, 0.15657683094929553, 0.11047945521733016], \"topics\": [1, 2, 3, 4, 5, 6, 7, 8, 9, 10], \"cluster\": [1, 1, 1, 1, 1, 1, 1, 1, 1, 1], \"Freq\": [13.536660194396973, 4.041861534118652, 14.791886329650879, 8.682480812072754, 12.925026893615723, 10.935698509216309, 6.598977565765381, 4.92983341217041, 8.20229721069336, 15.35527515411377]}, \"tinfo\": {\"Category\": [\"Default\", \"Default\", \"Default\", \"Default\", \"Default\", \"Default\", \"Default\", \"Default\", \"Default\", \"Default\", \"Default\", \"Default\", \"Default\", \"Default\", \"Default\", \"Default\", \"Default\", \"Default\", \"Default\", \"Default\", \"Default\", \"Default\", \"Default\", \"Default\", \"Default\", \"Default\", \"Default\", \"Default\", \"Default\", \"Default\", \"Topic1\", \"Topic1\", \"Topic1\", \"Topic1\", \"Topic1\", \"Topic1\", \"Topic1\", \"Topic1\", \"Topic1\", \"Topic1\", \"Topic1\", \"Topic1\", \"Topic1\", \"Topic1\", \"Topic1\", \"Topic1\", \"Topic1\", \"Topic1\", \"Topic1\", \"Topic1\", \"Topic1\", \"Topic1\", \"Topic1\", \"Topic1\", \"Topic1\", \"Topic1\", \"Topic1\", \"Topic1\", \"Topic1\", \"Topic1\", \"Topic1\", \"Topic1\", \"Topic1\", \"Topic1\", \"Topic1\", \"Topic1\", \"Topic1\", \"Topic1\", \"Topic1\", \"Topic1\", \"Topic1\", \"Topic1\", \"Topic1\", \"Topic1\", \"Topic1\", \"Topic1\", \"Topic1\", \"Topic1\", \"Topic1\", \"Topic1\", \"Topic1\", \"Topic1\", \"Topic1\", \"Topic1\", \"Topic1\", \"Topic1\", \"Topic1\", \"Topic1\", \"Topic2\", \"Topic2\", \"Topic2\", \"Topic2\", \"Topic2\", \"Topic2\", \"Topic2\", \"Topic2\", \"Topic2\", \"Topic2\", \"Topic2\", \"Topic2\", \"Topic2\", \"Topic2\", \"Topic2\", \"Topic2\", \"Topic2\", \"Topic2\", \"Topic2\", \"Topic2\", \"Topic2\", \"Topic2\", \"Topic2\", \"Topic2\", \"Topic2\", \"Topic2\", \"Topic2\", \"Topic2\", \"Topic2\", \"Topic2\", \"Topic2\", \"Topic2\", \"Topic2\", \"Topic2\", \"Topic2\", \"Topic2\", \"Topic2\", \"Topic2\", \"Topic2\", \"Topic2\", \"Topic2\", \"Topic2\", \"Topic2\", \"Topic2\", \"Topic2\", \"Topic2\", \"Topic2\", \"Topic2\", \"Topic2\", \"Topic2\", \"Topic3\", \"Topic3\", \"Topic3\", \"Topic3\", \"Topic3\", \"Topic3\", \"Topic3\", \"Topic3\", \"Topic3\", \"Topic3\", \"Topic3\", \"Topic3\", \"Topic3\", \"Topic3\", \"Topic3\", \"Topic3\", \"Topic3\", \"Topic3\", \"Topic3\", \"Topic3\", \"Topic3\", \"Topic3\", \"Topic3\", \"Topic3\", \"Topic3\", \"Topic3\", \"Topic3\", \"Topic3\", \"Topic3\", \"Topic3\", \"Topic3\", \"Topic3\", \"Topic3\", \"Topic3\", \"Topic3\", \"Topic3\", \"Topic3\", \"Topic3\", \"Topic3\", \"Topic3\", \"Topic3\", \"Topic3\", \"Topic3\", \"Topic3\", \"Topic3\", \"Topic3\", \"Topic3\", \"Topic3\", \"Topic3\", \"Topic3\", \"Topic3\", \"Topic3\", \"Topic3\", \"Topic3\", \"Topic3\", \"Topic3\", \"Topic3\", \"Topic3\", \"Topic4\", \"Topic4\", \"Topic4\", \"Topic4\", \"Topic4\", \"Topic4\", \"Topic4\", \"Topic4\", \"Topic4\", \"Topic4\", \"Topic4\", \"Topic4\", \"Topic4\", \"Topic4\", \"Topic4\", \"Topic4\", \"Topic4\", \"Topic4\", \"Topic4\", \"Topic4\", \"Topic4\", \"Topic4\", \"Topic4\", \"Topic4\", \"Topic4\", \"Topic4\", \"Topic4\", \"Topic4\", \"Topic4\", \"Topic4\", \"Topic4\", \"Topic4\", \"Topic4\", \"Topic4\", \"Topic4\", \"Topic4\", \"Topic4\", \"Topic4\", \"Topic4\", \"Topic4\", \"Topic4\", \"Topic4\", \"Topic4\", \"Topic4\", \"Topic4\", \"Topic4\", \"Topic4\", \"Topic4\", \"Topic4\", \"Topic4\", \"Topic4\", \"Topic4\", \"Topic4\", \"Topic4\", \"Topic4\", \"Topic4\", \"Topic4\", \"Topic4\", \"Topic4\", \"Topic5\", \"Topic5\", \"Topic5\", \"Topic5\", \"Topic5\", \"Topic5\", \"Topic5\", \"Topic5\", \"Topic5\", \"Topic5\", \"Topic5\", \"Topic5\", \"Topic5\", \"Topic5\", \"Topic5\", \"Topic5\", \"Topic5\", \"Topic5\", \"Topic5\", \"Topic5\", \"Topic5\", \"Topic5\", \"Topic5\", \"Topic5\", \"Topic5\", \"Topic5\", \"Topic5\", \"Topic5\", \"Topic5\", \"Topic5\", \"Topic5\", \"Topic5\", \"Topic5\", \"Topic5\", \"Topic5\", \"Topic5\", \"Topic5\", \"Topic5\", \"Topic5\", \"Topic5\", \"Topic5\", \"Topic5\", \"Topic5\", \"Topic5\", \"Topic5\", \"Topic5\", \"Topic5\", \"Topic5\", \"Topic5\", \"Topic5\", \"Topic5\", \"Topic5\", \"Topic5\", \"Topic5\", \"Topic5\", \"Topic5\", \"Topic5\", \"Topic5\", \"Topic6\", \"Topic6\", \"Topic6\", \"Topic6\", \"Topic6\", \"Topic6\", \"Topic6\", \"Topic6\", \"Topic6\", \"Topic6\", \"Topic6\", \"Topic6\", \"Topic6\", \"Topic6\", \"Topic6\", \"Topic6\", \"Topic6\", \"Topic6\", \"Topic6\", \"Topic6\", \"Topic6\", \"Topic6\", \"Topic6\", \"Topic6\", \"Topic6\", \"Topic6\", \"Topic6\", \"Topic6\", \"Topic6\", \"Topic6\", \"Topic6\", \"Topic6\", \"Topic6\", \"Topic6\", \"Topic6\", \"Topic6\", \"Topic6\", \"Topic6\", \"Topic6\", \"Topic6\", \"Topic6\", \"Topic6\", \"Topic6\", \"Topic6\", \"Topic6\", \"Topic6\", \"Topic6\", \"Topic6\", \"Topic6\", \"Topic6\", \"Topic6\", \"Topic6\", \"Topic6\", \"Topic6\", \"Topic6\", \"Topic6\", \"Topic6\", \"Topic7\", \"Topic7\", \"Topic7\", \"Topic7\", \"Topic7\", \"Topic7\", \"Topic7\", \"Topic7\", \"Topic7\", \"Topic7\", \"Topic7\", \"Topic7\", \"Topic7\", \"Topic7\", \"Topic7\", \"Topic7\", \"Topic7\", \"Topic7\", \"Topic7\", \"Topic7\", \"Topic7\", \"Topic7\", \"Topic7\", \"Topic7\", \"Topic7\", \"Topic7\", \"Topic7\", \"Topic7\", \"Topic7\", \"Topic7\", \"Topic7\", \"Topic7\", \"Topic7\", \"Topic7\", \"Topic7\", \"Topic7\", \"Topic7\", \"Topic7\", \"Topic7\", \"Topic7\", \"Topic7\", \"Topic7\", \"Topic7\", \"Topic7\", \"Topic7\", \"Topic7\", \"Topic7\", \"Topic7\", \"Topic7\", \"Topic8\", \"Topic8\", \"Topic8\", \"Topic8\", \"Topic8\", \"Topic8\", \"Topic8\", \"Topic8\", \"Topic8\", \"Topic8\", \"Topic8\", \"Topic8\", \"Topic8\", \"Topic8\", \"Topic8\", \"Topic8\", \"Topic8\", \"Topic8\", \"Topic8\", \"Topic8\", \"Topic8\", \"Topic8\", \"Topic8\", \"Topic8\", \"Topic8\", \"Topic8\", \"Topic8\", \"Topic8\", \"Topic8\", \"Topic8\", \"Topic8\", \"Topic8\", \"Topic8\", \"Topic8\", \"Topic8\", \"Topic8\", \"Topic8\", \"Topic8\", \"Topic8\", \"Topic8\", \"Topic8\", \"Topic8\", \"Topic8\", \"Topic8\", \"Topic8\", \"Topic8\", \"Topic8\", \"Topic8\", \"Topic8\", \"Topic8\", \"Topic8\", \"Topic8\", \"Topic8\", \"Topic8\", \"Topic8\", \"Topic9\", \"Topic9\", \"Topic9\", \"Topic9\", \"Topic9\", \"Topic9\", \"Topic9\", \"Topic9\", \"Topic9\", \"Topic9\", \"Topic9\", \"Topic9\", \"Topic9\", \"Topic9\", \"Topic9\", \"Topic9\", \"Topic9\", \"Topic9\", \"Topic9\", \"Topic9\", \"Topic9\", \"Topic9\", \"Topic9\", \"Topic9\", \"Topic9\", \"Topic9\", \"Topic9\", \"Topic9\", \"Topic9\", \"Topic9\", \"Topic9\", \"Topic9\", \"Topic9\", \"Topic9\", \"Topic9\", \"Topic9\", \"Topic9\", \"Topic9\", \"Topic9\", \"Topic9\", \"Topic9\", \"Topic9\", \"Topic9\", \"Topic9\", \"Topic9\", \"Topic9\", \"Topic9\", \"Topic9\", \"Topic9\", \"Topic9\", \"Topic9\", \"Topic9\", \"Topic9\", \"Topic10\", \"Topic10\", \"Topic10\", \"Topic10\", \"Topic10\", \"Topic10\", \"Topic10\", \"Topic10\", \"Topic10\", \"Topic10\", \"Topic10\", \"Topic10\", \"Topic10\", \"Topic10\", \"Topic10\", \"Topic10\", \"Topic10\", \"Topic10\", \"Topic10\", \"Topic10\", \"Topic10\", \"Topic10\", \"Topic10\", \"Topic10\", \"Topic10\", \"Topic10\", \"Topic10\", \"Topic10\", \"Topic10\", \"Topic10\", \"Topic10\", \"Topic10\", \"Topic10\", \"Topic10\", \"Topic10\", \"Topic10\", \"Topic10\", \"Topic10\", \"Topic10\", \"Topic10\", \"Topic10\", \"Topic10\", \"Topic10\", \"Topic10\", \"Topic10\", \"Topic10\", \"Topic10\", \"Topic10\", \"Topic10\", \"Topic10\", \"Topic10\", \"Topic10\", \"Topic10\", \"Topic10\", \"Topic10\", \"Topic10\", \"Topic10\", \"Topic10\", \"Topic10\", \"Topic10\", \"Topic10\", \"Topic10\", \"Topic10\", \"Topic10\"], \"Freq\": [277.0, 237.0, 404.0, 145.0, 99.0, 100.0, 143.0, 223.0, 299.0, 262.0, 265.0, 233.0, 499.0, 103.0, 235.0, 366.0, 95.0, 77.0, 63.0, 125.0, 162.0, 80.0, 74.0, 100.0, 105.0, 258.0, 115.0, 419.0, 64.0, 83.0, 75.64671325683594, 21.24574851989746, 27.928457260131836, 82.76729583740234, 29.6513671875, 51.82921600341797, 18.74576187133789, 12.501313209533691, 28.190980911254883, 10.588892936706543, 23.45244026184082, 17.44181251525879, 21.9621524810791, 12.826830863952637, 16.91847801208496, 8.821404457092285, 8.162900924682617, 13.6665678024292, 8.753762245178223, 6.312256813049316, 17.636627197265625, 9.125061988830566, 44.23237609863281, 11.788031578063965, 13.511982917785645, 150.64016723632812, 42.077579498291016, 16.559099197387695, 10.184383392333984, 22.627105712890625, 42.63045120239258, 78.70138549804688, 37.008975982666016, 58.502506256103516, 96.34461212158203, 88.46206665039062, 23.263896942138672, 72.96259307861328, 70.79633331298828, 53.43219757080078, 32.716400146484375, 77.47191619873047, 32.29737091064453, 62.03987503051758, 77.24388885498047, 69.53653717041016, 38.771785736083984, 40.96918487548828, 41.1278190612793, 58.53731155395508, 46.4130973815918, 38.76006317138672, 53.13542175292969, 41.93341827392578, 38.0831184387207, 45.88734436035156, 42.920536041259766, 37.513675689697266, 23.264774322509766, 21.772136688232422, 15.39215087890625, 22.540674209594727, 13.50232219696045, 13.869200706481934, 18.977949142456055, 16.79611587524414, 11.952557563781738, 16.54161262512207, 4.981029510498047, 9.206108093261719, 5.162217617034912, 14.1622314453125, 7.091638565063477, 4.171883583068848, 7.151040554046631, 13.077229499816895, 8.093069076538086, 30.182315826416016, 7.236294269561768, 4.627389907836914, 6.914062023162842, 4.574053764343262, 3.183814525604248, 6.680037021636963, 4.644702911376953, 3.124504327774048, 17.492340087890625, 4.3093581199646, 13.662810325622559, 11.018016815185547, 12.856013298034668, 6.382481575012207, 17.35033416748047, 23.282907485961914, 13.891048431396484, 16.979440689086914, 22.31427764892578, 39.378108978271484, 16.842588424682617, 16.61652374267578, 14.21464729309082, 14.612958908081055, 19.904773712158203, 20.707853317260742, 14.108299255371094, 16.658952713012695, 15.363215446472168, 15.48696517944336, 49.64699172973633, 13.874550819396973, 67.63179779052734, 17.721233367919922, 17.603649139404297, 33.62643814086914, 21.261127471923828, 20.649858474731445, 48.16957092285156, 219.82972717285156, 33.9217643737793, 8.471548080444336, 15.897843360900879, 34.720298767089844, 19.124935150146484, 30.985862731933594, 12.832000732421875, 46.06706619262695, 31.542560577392578, 19.29064178466797, 33.37432098388672, 31.4570255279541, 16.757877349853516, 64.09625244140625, 10.767389297485352, 149.89913940429688, 11.733684539794922, 10.381393432617188, 19.457500457763672, 9.444664001464844, 17.406713485717773, 139.6969757080078, 41.6317138671875, 88.93521118164062, 47.36948776245117, 52.89472961425781, 98.52489471435547, 53.21315002441406, 36.8665657043457, 110.13267517089844, 95.59883117675781, 116.13402557373047, 51.84977340698242, 35.98141098022461, 80.24977111816406, 50.35893630981445, 35.26279067993164, 48.264556884765625, 47.778499603271484, 44.492950439453125, 42.20398712158203, 46.854576110839844, 45.08660888671875, 42.36145782470703, 38.25121307373047, 38.17720031738281, 39.385250091552734, 38.40279006958008, 112.930908203125, 15.430700302124023, 14.38683032989502, 10.611021995544434, 11.643449783325195, 12.579912185668945, 15.779200553894043, 13.64561939239502, 11.24855899810791, 14.37507438659668, 13.982965469360352, 10.066020965576172, 29.55535316467285, 9.991792678833008, 15.295073509216309, 113.83483123779297, 15.288443565368652, 9.778568267822266, 5.585267543792725, 68.3991928100586, 4.821724891662598, 14.866939544677734, 12.114781379699707, 10.133877754211426, 6.561589241027832, 11.619013786315918, 12.234673500061035, 5.73546838760376, 12.793915748596191, 80.45950317382812, 47.87165832519531, 33.421653747558594, 25.74652671813965, 32.059818267822266, 19.962743759155273, 40.263668060302734, 78.22330474853516, 22.31818199157715, 22.718902587890625, 50.16121292114258, 19.736839294433594, 23.637048721313477, 45.25923538208008, 28.833486557006836, 39.12827682495117, 39.07844161987305, 36.745758056640625, 33.70561981201172, 24.09412384033203, 20.813589096069336, 19.047090530395508, 29.570669174194336, 21.673704147338867, 22.395021438598633, 23.323238372802734, 22.927780151367188, 26.690784454345703, 21.369182586669922, 21.837265014648438, 32.11917495727539, 43.2201042175293, 15.363922119140625, 13.732057571411133, 7.8026580810546875, 59.30272674560547, 15.327213287353516, 18.31593132019043, 22.754358291625977, 13.48665714263916, 142.9141082763672, 20.61361312866211, 16.531118392944336, 9.447784423828125, 46.609947204589844, 6.164534091949463, 9.172831535339355, 17.0260009765625, 16.340248107910156, 7.7695465087890625, 11.989090919494629, 7.799042701721191, 12.362102508544922, 12.22894287109375, 43.31597900390625, 30.70453453063965, 6.250481605529785, 7.247338771820068, 16.106645584106445, 12.541959762573242, 141.5568389892578, 63.72260284423828, 88.68700408935547, 75.72803497314453, 141.8644256591797, 35.50522232055664, 29.918479919433594, 75.90475463867188, 129.3033447265625, 117.33698272705078, 25.2745418548584, 48.579612731933594, 84.26201629638672, 23.162202835083008, 44.166114807128906, 39.613182067871094, 51.80368423461914, 38.56217575073242, 63.93862533569336, 29.790142059326172, 33.700050354003906, 36.601924896240234, 47.81458282470703, 37.174163818359375, 41.58940124511719, 36.49229049682617, 33.03859329223633, 34.703575134277344, 22.74585723876953, 15.9094877243042, 15.928462982177734, 18.446765899658203, 14.432000160217285, 18.881290435791016, 8.37906551361084, 11.553056716918945, 18.967599868774414, 28.341991424560547, 13.063257217407227, 9.944232940673828, 41.222259521484375, 37.727840423583984, 16.056320190429688, 10.615056037902832, 10.540685653686523, 15.31844711303711, 24.368879318237305, 46.12064743041992, 60.64016342163086, 19.94097137451172, 11.804217338562012, 37.02654266357422, 23.807252883911133, 13.454743385314941, 16.514556884765625, 29.519983291625977, 21.063701629638672, 8.507587432861328, 33.44870376586914, 182.59030151367188, 46.109100341796875, 57.99851989746094, 43.14298629760742, 31.376876831054688, 77.30863189697266, 23.268882751464844, 34.70061492919922, 71.66580200195312, 49.930137634277344, 35.09311294555664, 46.182518005371094, 30.221107482910156, 39.132450103759766, 54.444969177246094, 35.3403205871582, 39.948326110839844, 55.87092208862305, 33.198516845703125, 35.377967834472656, 48.49858856201172, 45.833648681640625, 34.49663162231445, 33.452571868896484, 37.87733459472656, 33.143218994140625, 38.33026885986328, 27.36270523071289, 53.54393768310547, 27.074522018432617, 19.576004028320312, 12.522858619689941, 23.46084976196289, 16.09866714477539, 21.374311447143555, 13.138103485107422, 14.432531356811523, 20.63483428955078, 79.07460021972656, 7.237631797790527, 14.772586822509766, 5.710500240325928, 40.0421257019043, 12.859210968017578, 7.484609127044678, 5.541356086730957, 9.920381546020508, 14.056851387023926, 15.848258972167969, 19.534215927124023, 11.350919723510742, 12.427204132080078, 5.7603840827941895, 27.244956970214844, 6.733090400695801, 5.497796058654785, 24.13587760925293, 67.79660034179688, 18.9036808013916, 39.69504928588867, 27.13892364501953, 26.553359985351562, 51.207942962646484, 20.820627212524414, 28.153728485107422, 27.85312843322754, 37.266483306884766, 27.10753631591797, 26.1751708984375, 25.26327133178711, 29.09073829650879, 28.944839477539062, 19.824901580810547, 19.35677719116211, 19.051860809326172, 30.382932662963867, 14.907029151916504, 22.584232330322266, 21.15845489501953, 15.12763786315918, 12.961456298828125, 8.869245529174805, 5.24213981628418, 8.78122615814209, 9.0902738571167, 7.3716888427734375, 12.083429336547852, 18.758987426757812, 11.217833518981934, 9.969482421875, 4.171874523162842, 5.176565170288086, 6.884186744689941, 10.576111793518066, 4.9736199378967285, 4.9596357345581055, 3.6226513385772705, 6.261714935302734, 4.623817443847656, 11.19971752166748, 9.628451347351074, 9.421470642089844, 22.775203704833984, 19.93712043762207, 6.833961009979248, 29.884321212768555, 15.265341758728027, 23.853452682495117, 10.166183471679688, 10.712215423583984, 18.11290740966797, 9.304341316223145, 26.487337112426758, 18.788549423217773, 19.636253356933594, 22.07992172241211, 13.495996475219727, 26.98493194580078, 19.22386360168457, 17.595415115356445, 16.114276885986328, 18.457963943481445, 13.145676612854004, 13.281941413879395, 16.865022659301758, 15.775374412536621, 13.639067649841309, 15.093483924865723, 13.461956024169922, 13.455498695373535, 95.61066436767578, 38.79825210571289, 26.277555465698242, 91.81672668457031, 40.173736572265625, 30.10017204284668, 21.30177879333496, 19.59362030029297, 21.75133514404297, 9.935513496398926, 16.998960494995117, 35.8987922668457, 20.733497619628906, 15.700855255126953, 11.054455757141113, 48.26827621459961, 10.591483116149902, 21.275985717773438, 16.035072326660156, 12.534992218017578, 9.656643867492676, 67.23957824707031, 26.808944702148438, 9.740972518920898, 20.727313995361328, 9.409104347229004, 7.673074245452881, 13.840536117553711, 8.996179580688477, 16.113664627075195, 40.63655471801758, 34.248374938964844, 30.647584915161133, 50.524070739746094, 16.69363021850586, 21.05121612548828, 31.840879440307617, 33.41423797607422, 21.493873596191406, 33.51856231689453, 31.92340850830078, 30.644075393676758, 43.650917053222656, 34.671016693115234, 29.63730812072754, 33.43817901611328, 34.246917724609375, 30.569643020629883, 27.731307983398438, 27.359699249267578, 23.58650779724121, 27.88804817199707, 23.608383178710938, 76.82908630371094, 20.587148666381836, 15.001543045043945, 23.727052688598633, 11.111913681030273, 36.764617919921875, 20.35543441772461, 11.425731658935547, 20.572551727294922, 25.6995792388916, 11.936927795410156, 10.22343921661377, 33.10719680786133, 29.45731544494629, 15.857162475585938, 19.234291076660156, 21.483068466186523, 31.590768814086914, 20.028249740600586, 13.866617202758789, 20.67863655090332, 23.339141845703125, 8.58207893371582, 16.65506362915039, 9.663066864013672, 11.558303833007812, 28.73657989501953, 11.330492973327637, 18.236858367919922, 11.818618774414062, 35.83769607543945, 75.08940887451172, 23.961639404296875, 52.60155487060547, 45.84516525268555, 53.804176330566406, 90.26072692871094, 33.40770721435547, 35.36226272583008, 35.87593460083008, 54.84423065185547, 45.53853225708008, 38.58926010131836, 82.8166275024414, 50.33446502685547, 92.90237426757812, 50.99589538574219, 47.87827682495117, 39.778934478759766, 30.247480392456055, 60.75763702392578, 35.767452239990234, 59.904998779296875, 61.86749267578125, 65.24624633789062, 41.02130889892578, 53.867000579833984, 39.8614387512207, 35.35800552368164, 36.718013763427734, 36.938541412353516, 36.12591552734375, 38.22552490234375, 38.04179763793945], \"Term\": [\"energy\", \"innovation\", \"research\", \"sme\", \"cancer\", \"patient\", \"social\", \"service\", \"product\", \"european\", \"datum\", \"material\", \"system\", \"disease\", \"%\", \"market\", \"waste\", \"cloud\", \"citizen\", \"cell\", \"management\", \"quantum\", \"care\", \"security\", \"treatment\", \"cost\", \"power\", \"technology\", \"clinical\", \"policy\", \"cloud\", \"privacy\", \"web\", \"security\", \"mobile\", \"software\", \"automatic\", \"hardware\", \"internet\", \"definition\", \"computing\", \"secure\", \"iot\", \"analytic\", \"virtual\", \"compliance\", \"connectivity\", \"adoption\", \"intelligent\", \"uncertainty\", \"sale\", \"reality\", \"customer\", \"entity\", \"valuable\", \"datum\", \"manufacturing\", \"provider\", \"reference\", \"protection\", \"digital\", \"user\", \"data\", \"information\", \"solution\", \"model\", \"pilot\", \"service\", \"application\", \"platform\", \"real\", \"product\", \"access\", \"process\", \"system\", \"technology\", \"control\", \"current\", \"tool\", \"development\", \"industry\", \"design\", \"new\", \"time\", \"quality\", \"objective\", \"market\", \"business\", \"concrete\", \"electrical\", \"semantic\", \"thermal\", \"disposal\", \"scientist\", \"block\", \"memory\", \"image\", \"mechanical\", \"manager\", \"reliability\", \"numerical\", \"simulation\", \"nano\", \"multidisciplinary\", \"observation\", \"experimental\", \"young\", \"waste\", \"late\", \"board\", \"disorder\", \"characteristic\", \"additionally\", \"demonstrator\", \"basic\", \"contemporary\", \"data\", \"load\", \"light\", \"brain\", \"event\", \"topic\", \"building\", \"control\", \"structure\", \"power\", \"impact\", \"system\", \"design\", \"level\", \"performance\", \"activity\", \"development\", \"technology\", \"large\", \"high\", \"datum\", \"objective\", \"wind\", \"greenhouse\", \"emission\", \"fossil\", \"electricity\", \"co2\", \"track\", \"clean\", \"consumption\", \"energy\", \"road\", \"penetration\", \"installation\", \"renewable\", \"transportation\", \"fuel\", \"asset\", \"reduction\", \"maintenance\", \"affordable\", \"gas\", \"investment\", \"saving\", \"efficiency\", \"footprint\", \"%\", \"electric\", \"capital\", \"traffic\", \"farmer\", \"price\", \"cost\", \"vehicle\", \"low\", \"building\", \"water\", \"solution\", \"power\", \"operation\", \"market\", \"high\", \"system\", \"sector\", \"plant\", \"technology\", \"production\", \"small\", \"europe\", \"time\", \"eu\", \"year\", \"development\", \"objective\", \"european\", \"company\", \"potential\", \"product\", \"process\", \"sme\", \"scheme\", \"autonomous\", \"accident\", \"depth\", \"resolution\", \"evaluation\", \"effectiveness\", \"enterprise\", \"engine\", \"idea\", \"car\", \"instrument\", \"h2020\", \"driver\", \"innovation\", \"account\", \"adaptation\", \"routine\", \"management\", \"realization\", \"prototype\", \"report\", \"visual\", \"patent\", \"aircraft\", \"funding\", \"assembly\", \"pre\", \"service\", \"strategy\", \"capacity\", \"vehicle\", \"safety\", \"region\", \"business\", \"system\", \"support\", \"plan\", \"development\", \"capability\", \"partner\", \"objective\", \"potential\", \"technology\", \"new\", \"market\", \"-\", \"method\", \"target\", \"consortium\", \"high\", \"phase\", \"analysis\", \"innovative\", \"key\", \"research\", \"activity\", \"european\", \"liquid\", \"surface\", \"organic\", \"compound\", \"viable\", \"food\", \"harmful\", \"bio\", \"electronic\", \"frequency\", \"material\", \"metal\", \"automotive\", \"synthetic\", \"feasibility\", \"spectrum\", \"packaging\", \"optical\", \"raw\", \"ultra\", \"stream\", \"biomedical\", \"pharmaceutical\", \"breakthrough\", \"property\", \"processing\", \"commercialisation\", \"launch\", \"part\", \"volume\", \"product\", \"device\", \"industry\", \"production\", \"market\", \"chain\", \"consumer\", \"application\", \"new\", \"technology\", \"transport\", \"quality\", \"high\", \"chemical\", \"study\", \"need\", \"process\", \"innovative\", \"system\", \"waste\", \"industrial\", \"business\", \"objective\", \"use\", \"cost\", \"\\u2019s\", \"low\", \"development\", \"cooperation\", \"institute\", \"publication\", \"excellence\", \"synergy\", \"partnership\", \"technologies\", \"forum\", \"maker\", \"university\", \"participation\", \"priority\", \"ict\", \"researcher\", \"joint\", \"workshop\", \"staff\", \"awareness\", \"programme\", \"international\", \"scientific\", \"member\", \"commission\", \"local\", \"expertise\", \"academic\", \"horizon\", \"stakeholder\", \"regional\", \"achievement\", \"economy\", \"research\", \"partner\", \"knowledge\", \"science\", \"collaboration\", \"innovation\", \"institution\", \"sustainable\", \"european\", \"europe\", \"public\", \"eu\", \"community\", \"global\", \"-\", \"challenge\", \"impact\", \"new\", \"area\", \"activity\", \"technology\", \"development\", \"innovative\", \"social\", \"objective\", \"sector\", \"cultural\", \"land\", \"citizen\", \"century\", \"education\", \"governance\", \"actor\", \"government\", \"professional\", \"authority\", \"family\", \"political\", \"social\", \"instance\", \"collection\", \"adequate\", \"policy\", \"consequence\", \"states\", \"contemporary\", \"implication\", \"right\", \"perspective\", \"institution\", \"relationship\", \"collaborative\", \"engagement\", \"care\", \"series\", \"moment\", \"practice\", \"european\", \"question\", \"eu\", \"public\", \"issue\", \"research\", \"country\", \"use\", \"study\", \"-\", \"europe\", \"service\", \"\\u2019s\", \"objective\", \"development\", \"activity\", \"network\", \"innovation\", \"virus\", \"perception\", \"channel\", \"infection\", \"city\", \"movement\", \"transmission\", \"answer\", \"mind\", \"debate\", \"italian\", \"grid\", \"nature\", \"view\", \"signal\", \"widespread\", \"systematic\", \"noise\", \"language\", \"parallel\", \"screening\", \"typical\", \"literature\", \"assembly\", \"cross\", \"transition\", \"relation\", \"structure\", \"general\", \"exchange\", \"health\", \"question\", \"risk\", \"regulation\", \"biological\", \"communication\", \"political\", \"study\", \"society\", \"network\", \"different\", \"infrastructure\", \"research\", \"human\", \"tool\", \"analysis\", \"datum\", \"interaction\", \"understanding\", \"system\", \"high\", \"platform\", \"new\", \"service\", \"objective\", \"cancer\", \"diagnosis\", \"tissue\", \"patient\", \"therapy\", \"therapeutic\", \"tumour\", \"blood\", \"death\", \"mortality\", \"invasive\", \"diagnostic\", \"adult\", \"medicine\", \"incidence\", \"clinical\", \"vivo\", \"imaging\", \"trial\", \"cause\", \"burden\", \"disease\", \"drug\", \"disability\", \"old\", \"expression\", \"approximately\", \"disorder\", \"efficacy\", \"gene\", \"care\", \"early\", \"medical\", \"treatment\", \"cognitive\", \"response\", \"change\", \"people\", \"detection\", \"cell\", \"novel\", \"health\", \"-\", \"time\", \"year\", \"development\", \"new\", \"high\", \"\\u2019s\", \"%\", \"technique\", \"system\", \"cost\", \"quantum\", \"behavior\", \"hypothesis\", \"electron\", \"composition\", \"particle\", \"organism\", \"unknown\", \"synthesis\", \"formation\", \"beneficial\", \"mathematical\", \"theory\", \"specie\", \"phenomenon\", \"theoretical\", \"physics\", \"evolution\", \"principle\", \"artificial\", \"molecule\", \"genetic\", \"conservation\", \"investigation\", \"useful\", \"presence\", \"fundamental\", \"stable\", \"biology\", \"atmospheric\", \"molecular\", \"cell\", \"protein\", \"interaction\", \"mechanism\", \"understanding\", \"human\", \"single\", \"function\", \"dynamic\", \"state\", \"role\", \"natural\", \"model\", \"field\", \"-\", \"important\", \"novel\", \"effect\", \"pressure\", \"process\", \"condition\", \"objective\", \"research\", \"system\", \"method\", \"new\", \"approach\", \"non\", \"problem\", \"large\", \"information\", \"development\", \"high\"], \"Total\": [277.0, 237.0, 404.0, 145.0, 99.0, 100.0, 143.0, 223.0, 299.0, 262.0, 265.0, 233.0, 499.0, 103.0, 235.0, 366.0, 95.0, 77.0, 63.0, 125.0, 162.0, 80.0, 74.0, 100.0, 105.0, 258.0, 115.0, 419.0, 64.0, 83.0, 77.68811798095703, 23.854537963867188, 32.649539947509766, 100.41043853759766, 36.752052307128906, 66.09063720703125, 24.82008171081543, 16.885208129882812, 38.77219772338867, 14.88238525390625, 33.12483215332031, 24.90257453918457, 31.786956787109375, 18.728164672851562, 24.756601333618164, 13.64529037475586, 12.968366622924805, 21.941375732421875, 14.834671974182129, 10.895547866821289, 30.596445083618164, 15.848235130310059, 77.34124755859375, 20.714262008666992, 23.84642219543457, 265.8796691894531, 74.53540802001953, 29.51702117919922, 18.732677459716797, 41.758914947509766, 79.39700317382812, 154.59567260742188, 70.69483184814453, 139.91798400878906, 256.99810791015625, 251.43850708007812, 47.513832092285156, 223.4065399169922, 220.85472106933594, 156.21299743652344, 81.00102233886719, 299.7481689453125, 82.45220184326172, 272.0634460449219, 499.7015380859375, 419.6131896972656, 131.88864135742188, 152.76583862304688, 155.21287536621094, 366.83453369140625, 209.362548828125, 135.16665649414062, 430.6547546386719, 202.5164337158203, 149.91348266601562, 360.720703125, 366.9805908203125, 164.3305206298828, 32.898197174072266, 30.978351593017578, 22.234254837036133, 34.86100769042969, 23.18920135498047, 24.144046783447266, 34.70055389404297, 37.68545913696289, 26.898008346557617, 39.20832061767578, 12.465736389160156, 25.450641632080078, 14.388143539428711, 42.378318786621094, 21.59845542907715, 12.726371765136719, 22.130996704101562, 40.533653259277344, 25.28584098815918, 95.86234283447266, 23.329933166503906, 15.487726211547852, 23.448280334472656, 16.47186279296875, 12.476990699768066, 26.33997917175293, 18.546451568603516, 12.573017120361328, 70.69483184814453, 17.484874725341797, 55.94586944580078, 46.74734878540039, 55.48665237426758, 26.876869201660156, 89.03378295898438, 131.88864135742188, 79.69811248779297, 115.9313735961914, 182.71304321289062, 499.7015380859375, 135.16665649414062, 162.70291137695312, 117.47399139404297, 140.6974639892578, 366.83453369140625, 419.6131896972656, 163.7382354736328, 348.5751953125, 265.8796691894531, 360.720703125, 55.14749526977539, 15.76249885559082, 77.88932800292969, 20.667133331298828, 20.761627197265625, 40.43929672241211, 25.636606216430664, 25.719438552856445, 60.22749328613281, 277.36785888671875, 43.15924072265625, 10.861260414123535, 20.75687599182129, 45.555259704589844, 25.51078987121582, 42.04911804199219, 17.699678421020508, 64.80232238769531, 44.46261215209961, 27.47984504699707, 47.579376220703125, 45.49124526977539, 24.636863708496094, 98.13386535644531, 16.785202026367188, 235.53564453125, 18.620223999023438, 16.84347152709961, 32.265464782714844, 15.736682891845703, 29.43227767944336, 258.123291015625, 73.18894958496094, 165.82443237304688, 89.03378295898438, 107.51234436035156, 256.99810791015625, 115.9313735961914, 71.72972869873047, 366.9805908203125, 348.5751953125, 499.7015380859375, 143.8021240234375, 82.45420837402344, 419.6131896972656, 181.08279418945312, 84.79631805419922, 188.71180725097656, 202.5164337158203, 183.18759155273438, 180.7489013671875, 366.83453369140625, 360.720703125, 262.8517150878906, 121.32615661621094, 172.80514526367188, 299.7481689453125, 272.0634460449219, 145.22630310058594, 27.42339515686035, 25.60508155822754, 18.938186645507812, 20.850135803222656, 22.53323745727539, 28.428102493286133, 25.753437042236328, 21.986032485961914, 28.124221801757812, 27.597854614257812, 19.889833450317383, 59.22844314575195, 20.1873836517334, 31.294559478759766, 237.6186065673828, 33.04374313354492, 21.664033889770508, 12.49853515625, 162.184326171875, 11.456537246704102, 35.555763244628906, 28.97822380065918, 24.658920288085938, 16.420320510864258, 29.206565856933594, 30.9560604095459, 14.958986282348633, 34.640220642089844, 223.4065399169922, 134.74754333496094, 96.5128173828125, 73.18894958496094, 96.05970764160156, 61.95446014404297, 164.3305206298828, 499.7015380859375, 76.9750747680664, 81.90509033203125, 366.83453369140625, 69.38616180419922, 99.92670440673828, 360.720703125, 172.80514526367188, 419.6131896972656, 430.6547546386719, 366.9805908203125, 358.3807067871094, 134.61135864257812, 89.33000183105469, 70.55558013916016, 348.5751953125, 116.07417297363281, 135.28082275390625, 163.79205322265625, 159.6075897216797, 404.9140625, 140.6974639892578, 262.8517150878906, 38.23075866699219, 53.3094482421875, 20.06687355041504, 20.033832550048828, 11.925811767578125, 92.22522735595703, 24.051664352416992, 29.258445739746094, 36.83277130126953, 21.940427780151367, 233.73934936523438, 33.966922760009766, 27.325668334960938, 15.909988403320312, 79.59678649902344, 11.031079292297363, 16.82688331604004, 31.439315795898438, 30.942296981811523, 14.750287055969238, 22.914310455322266, 14.986326217651367, 24.0112247467041, 23.918209075927734, 86.08951568603516, 62.615074157714844, 12.758661270141602, 14.80689811706543, 32.928462982177734, 25.745899200439453, 299.7481689453125, 144.62098693847656, 209.362548828125, 181.08279418945312, 366.9805908203125, 79.02609252929688, 70.92906951904297, 220.85472106933594, 430.6547546386719, 419.6131896972656, 59.7479362487793, 149.91348266601562, 348.5751953125, 55.47941589355469, 181.9065399169922, 156.4119415283203, 272.0634460449219, 163.79205322265625, 499.7015380859375, 95.86234283447266, 127.64436340332031, 164.3305206298828, 360.720703125, 184.2259063720703, 258.123291015625, 213.32611083984375, 165.82443237304688, 366.83453369140625, 24.344331741333008, 19.20102310180664, 21.145566940307617, 24.939207077026367, 20.039613723754883, 26.714338302612305, 11.883230209350586, 17.083532333374023, 29.874563217163086, 45.20756530761719, 20.852807998657227, 15.958148956298828, 67.48184204101562, 62.098899841308594, 26.675085067749023, 17.983325958251953, 17.921781539916992, 26.6197566986084, 43.67545700073242, 84.33770751953125, 111.3323974609375, 36.875492095947266, 21.951807022094727, 70.47740936279297, 46.85329818725586, 26.836698532104492, 33.666316986083984, 60.3814697265625, 43.24820327758789, 17.595083236694336, 70.22320556640625, 404.9140625, 99.92670440673828, 128.49986267089844, 96.76990509033203, 72.73499298095703, 237.6186065673828, 49.51327133178711, 85.79124450683594, 262.8517150878906, 188.71180725097656, 108.89252471923828, 183.18759155273438, 85.1005859375, 147.79470825195312, 358.3807067871094, 134.14434814453125, 182.71304321289062, 430.6547546386719, 117.73019409179688, 140.6974639892578, 419.6131896972656, 366.83453369140625, 163.79205322265625, 143.90213012695312, 360.720703125, 143.8021240234375, 43.3440055847168, 30.996435165405273, 63.12174606323242, 32.00836944580078, 26.365596771240234, 19.54572105407715, 36.827049255371094, 25.50045394897461, 34.21530532836914, 22.334321975708008, 25.233200073242188, 36.354312896728516, 143.90213012695312, 13.525498390197754, 30.332944869995117, 11.754239082336426, 83.16364288330078, 27.275964736938477, 16.744455337524414, 12.573017120361328, 23.45092010498047, 34.378082275390625, 39.80288314819336, 49.51327133178711, 29.8801326751709, 33.4525260925293, 15.664178848266602, 74.70709991455078, 18.518213272094727, 15.598806381225586, 78.25912475585938, 262.8517150878906, 60.99586486816406, 183.18759155273438, 108.89252471923828, 121.15949249267578, 404.9140625, 93.12933349609375, 184.2259063720703, 181.9065399169922, 358.3807067871094, 188.71180725097656, 223.4065399169922, 213.32611083984375, 360.720703125, 366.83453369140625, 140.6974639892578, 130.74697875976562, 237.6186065673828, 48.67431640625, 24.05580711364746, 37.24501419067383, 35.833778381347656, 29.166154861450195, 25.42290496826172, 18.587360382080078, 11.347046852111816, 19.579654693603516, 20.90037727355957, 17.0959415435791, 28.399011611938477, 47.50684356689453, 28.5067138671875, 25.43290901184082, 11.40284538269043, 14.202921867370605, 18.98089599609375, 29.79214859008789, 14.341327667236328, 15.377021789550781, 11.519169807434082, 19.982324600219727, 14.958986282348633, 36.83979034423828, 31.7216796875, 32.54387664794922, 79.69811248779297, 69.8336410522461, 24.18794822692871, 132.96453857421875, 60.99586486816406, 114.78987884521484, 39.53273391723633, 44.153953552246094, 96.13197326660156, 36.354312896728516, 181.9065399169922, 119.80438995361328, 130.74697875976562, 185.7281951904297, 75.38836669921875, 404.9140625, 184.06582641601562, 155.21287536621094, 135.28082275390625, 265.8796691894531, 92.21392059326172, 96.79791259765625, 499.7015380859375, 348.5751953125, 156.21299743652344, 430.6547546386719, 223.4065399169922, 360.720703125, 99.21945190429688, 40.686073303222656, 27.764991760253906, 100.96019744873047, 44.61546325683594, 33.65692138671875, 24.737810134887695, 22.83844566345215, 25.700838088989258, 11.798938751220703, 20.730501174926758, 44.16011047363281, 25.63320541381836, 19.848508834838867, 14.67387580871582, 64.47007751464844, 14.809627532958984, 30.234907150268555, 23.69099998474121, 18.623943328857422, 14.875725746154785, 103.98322296142578, 42.499759674072266, 15.490809440612793, 34.44218063354492, 15.758670806884766, 12.89282512664795, 23.448280334472656, 15.598628997802734, 29.51926040649414, 74.70709991455078, 64.18023681640625, 57.325199127197266, 105.35210418701172, 31.127849578857422, 46.56954574584961, 95.51168823242188, 104.34754943847656, 50.565940856933594, 125.50656127929688, 132.9966278076172, 132.96453857421875, 358.3807067871094, 202.5164337158203, 180.7489013671875, 366.83453369140625, 430.6547546386719, 348.5751953125, 213.32611083984375, 235.53564453125, 81.04132080078125, 499.7015380859375, 258.123291015625, 80.931884765625, 22.416120529174805, 16.57034683227539, 26.35300064086914, 12.676748275756836, 41.99851989746094, 23.41264533996582, 13.574814796447754, 24.471738815307617, 31.18184471130371, 14.637309074401855, 12.697853088378906, 41.574951171875, 37.08176803588867, 20.442567825317383, 25.070234298706055, 28.299928665161133, 43.600730895996094, 28.02347183227539, 19.57776641845703, 29.95370101928711, 34.18004608154297, 12.727463722229004, 25.147987365722656, 14.602574348449707, 17.657207489013672, 44.309532165527344, 17.58812141418457, 28.37728500366211, 18.618682861328125, 56.791900634765625, 125.50656127929688, 38.521053314208984, 92.21392059326172, 80.85218048095703, 96.79791259765625, 184.06582641601562, 57.23149108886719, 62.533424377441406, 65.1690902709961, 126.6041259765625, 99.51639556884766, 78.3373794555664, 251.43850708007812, 126.72333526611328, 358.3807067871094, 146.1136474609375, 132.9966278076172, 101.90946960449219, 58.41691207885742, 272.0634460449219, 90.82447814941406, 360.720703125, 404.9140625, 499.7015380859375, 134.61135864257812, 430.6547546386719, 172.6543731689453, 99.27987670898438, 145.0503387451172, 163.7382354736328, 139.91798400878906, 366.83453369140625, 348.5751953125], \"loglift\": [30.0, 29.0, 28.0, 27.0, 26.0, 25.0, 24.0, 23.0, 22.0, 21.0, 20.0, 19.0, 18.0, 17.0, 16.0, 15.0, 14.0, 13.0, 12.0, 11.0, 10.0, 9.0, 8.0, 7.0, 6.0, 5.0, 4.0, 3.0, 2.0, 1.0, 1.973099946975708, 1.8839999437332153, 1.8436000347137451, 1.80649995803833, 1.785099983215332, 1.756700038909912, 1.719099998474121, 1.6992000341415405, 1.6811000108718872, 1.6593999862670898, 1.6545000076293945, 1.6437000036239624, 1.6299999952316284, 1.6212999820709229, 1.6190999746322632, 1.563599944114685, 1.5369000434875488, 1.5262999534606934, 1.4723000526428223, 1.4538999795913696, 1.4488999843597412, 1.447700023651123, 1.440999984741211, 1.4359999895095825, 1.4316999912261963, 1.4315999746322632, 1.4279999732971191, 1.4217000007629395, 1.3904000520706177, 1.3869999647140503, 1.3779000043869019, 1.3245999813079834, 1.3525999784469604, 1.1277999877929688, 1.0185999870300293, 0.9550999999046326, 1.2856999635696411, 0.8806999921798706, 0.8621000051498413, 0.9269999861717224, 1.0931999683380127, 0.6467000246047974, 1.0625, 0.5214999914169312, 0.13269999623298645, 0.20229999721050262, 0.7754999995231628, 0.6837000250816345, 0.6717000007629395, 0.16449999809265137, 0.4932999908924103, 0.7506999969482422, -0.09269999712705612, 0.42500001192092896, 0.6294999718666077, -0.06210000067949295, -0.1462000012397766, 0.522599995136261, 2.861999988555908, 2.855799913406372, 2.8406999111175537, 2.77239990234375, 2.66759991645813, 2.654099941253662, 2.6050000190734863, 2.4003000259399414, 2.39739990234375, 2.3454999923706055, 2.291100025177002, 2.1916000843048096, 2.1833999156951904, 2.1124000549316406, 2.0947999954223633, 2.0931999683380127, 2.078700065612793, 2.077199935913086, 2.069200038909912, 2.052799940109253, 2.0378000736236572, 2.0004000663757324, 1.9872000217437744, 1.9271999597549438, 1.8427000045776367, 1.8365000486373901, 1.8238999843597412, 1.8162000179290771, 1.811900019645691, 1.8078999519348145, 1.798799991607666, 1.763200044631958, 1.7460999488830566, 1.770799994468689, 1.573099970817566, 1.4742000102996826, 1.4615000486373901, 1.287500023841858, 1.1058000326156616, 0.6676999926567078, 1.1259000301361084, 0.9269000291824341, 1.096500039100647, 0.9437999725341797, 0.2944999933242798, 0.1995999962091446, 0.7570000290870667, 0.16760000586509705, 0.35740000009536743, 0.06040000170469284, 1.805999994277954, 1.7834999561309814, 1.7698999643325806, 1.7573000192642212, 1.7460999488830566, 1.7266000509262085, 1.7239999771118164, 1.69159996509552, 1.6877000331878662, 1.6785999536514282, 1.670300006866455, 1.662600040435791, 1.6444000005722046, 1.6395000219345093, 1.6230000257492065, 1.6058000326156616, 1.5894999504089355, 1.5698000192642212, 1.5678000450134277, 1.5572999715805054, 1.55649995803833, 1.542199969291687, 1.5256999731063843, 1.4851000308990479, 1.4671000242233276, 1.4592000246047974, 1.4493000507354736, 1.4270999431610107, 1.4053000211715698, 1.4005000591278076, 1.3859000205993652, 1.2970999479293823, 1.3468999862670898, 1.288100004196167, 1.2800999879837036, 1.201799988746643, 0.9523000121116638, 1.1324000358581543, 1.2454999685287476, 0.7074999809265137, 0.6173999905586243, 0.45179998874664307, 0.890999972820282, 1.0819000005722046, 0.25690001249313354, 0.6312999725341797, 1.0336999893188477, 0.5475999712944031, 0.4668000042438507, 0.4959000051021576, 0.45649999380111694, -0.1467999964952469, -0.16840000450611115, 0.08569999784231186, 0.7567999958992004, 0.40119999647140503, -0.1185000017285347, -0.046799998730421066, 2.1923000812530518, 1.8688000440597534, 1.867400050163269, 1.8645999431610107, 1.861199975013733, 1.8609999418258667, 1.8552000522613525, 1.8086999654769897, 1.7736999988555908, 1.7726999521255493, 1.7640000581741333, 1.7627999782562256, 1.7487000226974487, 1.7405999898910522, 1.7279000282287598, 1.707900047302246, 1.6730999946594238, 1.6483999490737915, 1.6383999586105347, 1.5805000066757202, 1.5784000158309937, 1.5719000101089478, 1.5716999769210815, 1.5546000003814697, 1.5266000032424927, 1.5220999717712402, 1.5155999660491943, 1.485200047492981, 1.4478000402450562, 1.4226000308990479, 1.409000039100647, 1.3833999633789062, 1.3990999460220337, 1.346500039100647, 1.3113000392913818, 1.0374000072479248, 0.5893999934196472, 1.2058000564575195, 1.1614999771118164, 0.45419999957084656, 1.1866999864578247, 1.0022000074386597, 0.36820000410079956, 0.6531999707221985, 0.0714000016450882, 0.04410000145435333, 0.14259999990463257, 0.07989999651908875, 0.7233999967575073, 0.9871000051498413, 1.1344000101089478, -0.02319999970495701, 0.7656999826431274, 0.6452999711036682, 0.49470001459121704, 0.5034999847412109, -0.27549999952316284, 0.5591999888420105, -0.04410000145435333, 1.8717999458312988, 1.8361999988555908, 1.7790000438690186, 1.6683000326156616, 1.6217999458312988, 1.6044000387191772, 1.5953999757766724, 1.5776000022888184, 1.5643999576568604, 1.559399962425232, 1.5540000200271606, 1.5465999841690063, 1.5434000492095947, 1.5247999429702759, 1.5108000040054321, 1.4641000032424927, 1.4392999410629272, 1.4327000379562378, 1.4075000286102295, 1.4049999713897705, 1.3982000350952148, 1.392899990081787, 1.382099986076355, 1.3752000331878662, 1.3590999841690063, 1.333400011062622, 1.3324999809265137, 1.3315000534057617, 1.330899953842163, 1.326799988746643, 1.295799970626831, 1.2264000177383423, 1.1871000528335571, 1.1742000579833984, 1.0956000089645386, 1.24590003490448, 1.182800054550171, 0.9779999852180481, 0.8428999781608582, 0.7717000246047974, 1.1857000589370728, 0.9192000031471252, 0.6261000037193298, 1.1725000143051147, 0.6305000185966492, 0.6726999878883362, 0.3874000012874603, 0.5996999740600586, -0.010099999606609344, 0.8773000240325928, 0.7142999768257141, 0.5442000031471252, 0.025200000032782555, 0.445499986410141, 0.22040000557899475, 0.28029999136924744, 0.4327999949455261, -0.31209999322891235, 2.14520001411438, 2.025099992752075, 1.929800033569336, 1.9115999937057495, 1.8848999738693237, 1.8660999536514282, 1.863700032234192, 1.8220000267028809, 1.7589000463485718, 1.7461999654769897, 1.7454999685287476, 1.7402000427246094, 1.7202999591827393, 1.7148000001907349, 1.7055000066757202, 1.6859999895095825, 1.6823999881744385, 1.6605000495910645, 1.629699945449829, 1.6095999479293823, 1.6055999994277954, 1.5983999967575073, 1.5927000045776367, 1.5694999694824219, 1.5361000299453735, 1.5226999521255493, 1.5009000301361084, 1.497499942779541, 1.4937000274658203, 1.4865000247955322, 1.471500039100647, 1.416700005531311, 1.4397000074386597, 1.4176000356674194, 1.4053000211715698, 1.3724000453948975, 1.0902999639511108, 1.4579999446868896, 1.3079999685287476, 0.9136000275611877, 0.8834999799728394, 1.0808000564575195, 0.8352000117301941, 1.1778000593185425, 0.8842999935150146, 0.3287000060081482, 0.8791999816894531, 0.692799985408783, 0.17090000212192535, 0.9472000002861023, 0.8325999975204468, 0.05530000105500221, 0.133200004696846, 0.6553999781608582, 0.7541000247001648, -0.0406000018119812, 0.7455000281333923, 2.5952999591827393, 2.593600034713745, 2.5536999702453613, 2.5508999824523926, 2.4205000400543213, 2.273099899291992, 2.267400026321411, 2.2583000659942627, 2.24780011177063, 2.1875998973846436, 2.159600019454956, 2.151900053024292, 2.119499921798706, 2.0929999351501465, 1.9988000392913818, 1.9962999820709229, 1.9874000549316406, 1.9663000106811523, 1.9129999876022339, 1.898900032043457, 1.8579000234603882, 1.8238999843597412, 1.7973999977111816, 1.7882000207901, 1.7503999471664429, 1.7280000448226929, 1.717900037765503, 1.7094999551773071, 1.7065000534057617, 1.6754000186920166, 1.5419000387191772, 1.3631999492645264, 1.5468000173568726, 1.1890000104904175, 1.3288999795913696, 1.2002999782562256, 0.6504999995231628, 1.2201999425888062, 0.8398000001907349, 0.84170001745224, 0.454800009727478, 0.7778000235557556, 0.5741000175476074, 0.5848000049591064, 0.20059999823570251, 0.17870000004768372, 0.7585999965667725, 0.8080000281333923, 0.19480000436306, 2.538599967956543, 2.5313000679016113, 2.5095999240875244, 2.4830000400543213, 2.3533999919891357, 2.336199998855591, 2.2699999809265137, 2.237600088119507, 2.2079999446868896, 2.177299976348877, 2.1686999797821045, 2.1552999019622803, 2.080699920654297, 2.077199935913086, 2.0732998847961426, 2.0044000148773193, 2.0006000995635986, 1.9957000017166138, 1.9742000102996826, 1.9508999586105347, 1.8782999515533447, 1.8530999422073364, 1.8494999408721924, 1.835800051689148, 1.819200038909912, 1.8176000118255615, 1.770300030708313, 1.7573000192642212, 1.7562999725341797, 1.74590003490448, 1.5170999765396118, 1.6246000528335571, 1.4386999607086182, 1.6518000364303589, 1.5936000347137451, 1.3408000469207764, 1.6469999551773071, 1.0829999446868896, 1.1572999954223633, 1.1139999628067017, 0.8802000284194946, 1.2896000146865845, 0.30149999260902405, 0.7506999969482422, 0.8327000141143799, 0.8822000026702881, 0.3422999978065491, 1.0618000030517578, 1.0235999822616577, -0.3788999915122986, -0.08550000190734863, 0.5716000199317932, -0.34119999408721924, 0.20069999992847443, -0.27889999747276306, 2.46370005607605, 2.453200101852417, 2.44569993019104, 2.4058001041412354, 2.395900011062622, 2.3891000747680664, 2.3512001037597656, 2.3475000858306885, 2.333899974822998, 2.328900098800659, 2.302299976348877, 2.293600082397461, 2.288599967956543, 2.2662999629974365, 2.2174999713897705, 2.2112998962402344, 2.1654999256134033, 2.1493000984191895, 2.1103999614715576, 2.10479998588562, 2.068700075149536, 2.0648000240325928, 2.0399999618530273, 2.036799907684326, 1.992900013923645, 1.9850000143051147, 1.9817999601364136, 1.9736000299453735, 1.9503999948501587, 1.895400047302246, 1.891800045967102, 1.8726999759674072, 1.8746000528335571, 1.7659000158309937, 1.8776999711990356, 1.7067999839782715, 1.4023000001907349, 1.3619999885559082, 1.6452000141143799, 1.1805000305175781, 1.073799967765808, 1.0331000089645386, 0.3953999876976013, 0.73580002784729, 0.6927000284194946, 0.1054999977350235, -0.03099999949336052, 0.06689999997615814, 0.46050000190734863, 0.3479999899864197, 1.2664999961853027, -0.38510000705718994, 0.10890000313520432, 1.8216999769210815, 1.788599967956543, 1.7741999626159668, 1.7687000036239624, 1.7419999837875366, 1.7405999898910522, 1.7338000535964966, 1.7014000415802002, 1.7000999450683594, 1.680299997329712, 1.669800043106079, 1.656999945640564, 1.6460000276565552, 1.6434999704360962, 1.6196999549865723, 1.6087000370025635, 1.598099946975708, 1.5514999628067017, 1.5377999544143677, 1.5288000106811523, 1.5032000541687012, 1.4922000169754028, 1.479599952697754, 1.4615999460220337, 1.460800051689148, 1.4500000476837158, 1.4407000541687012, 1.434000015258789, 1.4315999746322632, 1.4191999435424805, 1.4133000373840332, 1.3600000143051147, 1.3990000486373901, 1.3122999668121338, 1.306399941444397, 1.2863999605178833, 1.1611000299453735, 1.3353999853134155, 1.3036999702453613, 1.2768000364303589, 1.0370999574661255, 1.0918999910354614, 1.1656999588012695, 0.7631000280380249, 0.9503999948501587, 0.5236999988555908, 0.8210999965667725, 0.8519999980926514, 0.9330000281333923, 1.215499997138977, 0.37459999322891235, 0.9417999982833862, 0.07840000092983246, -0.004999999888241291, -0.16210000216960907, 0.6854000091552734, -0.20509999990463257, 0.40779998898506165, 0.8413000106811523, 0.4999000132083893, 0.3847000002861023, 0.5196999907493591, -0.38769999146461487, -0.34150001406669617], \"logprob\": [30.0, 29.0, 28.0, 27.0, 26.0, 25.0, 24.0, 23.0, 22.0, 21.0, 20.0, 19.0, 18.0, 17.0, 16.0, 15.0, 14.0, 13.0, 12.0, 11.0, 10.0, 9.0, 8.0, 7.0, 6.0, 5.0, 4.0, 3.0, 2.0, 1.0, -4.473100185394287, -5.743000030517578, -5.4695000648498535, -4.3831000328063965, -5.409599781036377, -4.851200103759766, -5.868199825286865, -6.2733001708984375, -5.460100173950195, -6.439300060272217, -5.644199848175049, -5.940299987792969, -5.709799766540527, -6.247600078582764, -5.970699787139893, -6.622000217437744, -6.69950008392334, -6.184199810028076, -6.6296000480651855, -6.956600189208984, -5.929200172424316, -6.588099956512451, -5.009699821472168, -6.331999778747559, -6.1956000328063965, -3.7841999530792236, -5.059599876403809, -5.992199897766113, -6.478300094604492, -5.679999828338623, -5.046599864959717, -4.433499813079834, -5.188000202178955, -4.730100154876709, -4.231200218200684, -4.3165998458862305, -5.652200222015381, -4.509200096130371, -4.539299964904785, -4.820700168609619, -5.311299800872803, -4.44920015335083, -5.324100017547607, -4.67140007019043, -4.452199935913086, -4.557300090789795, -5.14139986038208, -5.086299896240234, -5.082399845123291, -4.729499816894531, -4.961599826812744, -5.14169979095459, -4.826300144195557, -5.0630998611450195, -5.15939998626709, -4.972899913787842, -5.03980016708374, -5.1743998527526855, -4.44350004196167, -4.509799957275391, -4.856599807739258, -4.475100040435791, -4.987599849700928, -4.9608001708984375, -4.647200107574463, -4.7692999839782715, -5.109499931335449, -4.784599781036377, -5.984799861907959, -5.37060022354126, -5.949100017547607, -4.939899921417236, -5.631499767303467, -6.162099838256836, -5.623199939727783, -5.019599914550781, -5.4994001388549805, -4.183199882507324, -5.611299991607666, -6.0584001541137695, -5.656899929046631, -6.070000171661377, -6.432400226593018, -5.691299915313721, -6.054699897766113, -6.451200008392334, -4.728700160980225, -6.1296000480651855, -4.975800037384033, -5.190899848937988, -5.036600112915039, -5.7368998527526855, -4.736800193786621, -4.442699909210205, -4.959199905395508, -4.758399963378906, -4.485199928283691, -3.9172000885009766, -4.766499996185303, -4.78000020980835, -4.936200141906738, -4.9085001945495605, -4.5995001792907715, -4.559899806976318, -4.943699836730957, -4.777500152587891, -4.858500003814697, -4.850399971008301, -4.982900142669678, -6.257800102233887, -4.673699855804443, -6.013000011444092, -6.019700050354004, -5.372499942779541, -5.830900192260742, -5.860099792480469, -5.0131001472473145, -3.494999885559082, -5.363800048828125, -6.751100063323975, -6.121600151062012, -5.3404998779296875, -5.936800003051758, -5.4542999267578125, -6.335899829864502, -5.057700157165527, -5.436500072479248, -5.928199768066406, -5.380000114440918, -5.439199924468994, -6.068900108337402, -4.727399826049805, -6.511300086975098, -3.8777999877929688, -6.425300121307373, -6.547800064086914, -5.919600009918213, -6.642399787902832, -6.031000137329102, -3.9482998847961426, -5.158899784088135, -4.399899959564209, -5.029799938201904, -4.91949987411499, -4.297500133514404, -4.91349983215332, -5.2804999351501465, -4.186100006103516, -4.327600002288818, -4.1331000328063965, -4.939499855041504, -5.304800033569336, -4.502699851989746, -4.968599796295166, -5.324999809265137, -5.011099815368652, -5.021200180053711, -5.09250020980835, -5.145299911499023, -5.040800094604492, -5.07919979095459, -5.141600131988525, -5.243599891662598, -5.24560022354126, -5.214399814605713, -5.239699840545654, -3.6282999515533447, -5.61870002746582, -5.688700199127197, -5.993100166320801, -5.900300025939941, -5.82289981842041, -5.59630012512207, -5.741600036621094, -5.934800148010254, -5.689499855041504, -5.717199802398682, -6.045899868011475, -4.968800067901611, -6.053299903869629, -5.627500057220459, -3.620300054550171, -5.627900123596191, -6.07480001449585, -6.634900093078613, -4.129700183868408, -6.781899929046631, -5.655900001525879, -5.860599994659424, -6.0391998291015625, -6.473800182342529, -5.902400016784668, -5.850800037384033, -6.608399868011475, -5.806099891662598, -3.9672999382019043, -4.486499786376953, -4.845799922943115, -5.1066999435424805, -4.887400150299072, -5.361199855804443, -4.659599781036377, -3.995500087738037, -5.249599933624268, -5.231800079345703, -4.439799785614014, -5.372600078582764, -5.192200183868408, -4.542600154876709, -4.993500232696533, -4.688199996948242, -4.689499855041504, -4.750999927520752, -4.837399959564209, -5.173099994659424, -5.319399833679199, -5.408100128173828, -4.968299865722656, -5.278900146484375, -5.246200084686279, -5.205599784851074, -5.222700119018555, -5.070700168609619, -5.293099880218506, -5.271399974822998, -5.283400058746338, -4.986599922180176, -6.020899772644043, -6.133200168609619, -6.698400020599365, -4.670199871063232, -6.0233001708984375, -5.845099925994873, -5.6280999183654785, -6.151199817657471, -3.7906999588012695, -5.726900100708008, -5.947700023651123, -6.5071001052856445, -4.911099910736084, -6.934100151062012, -6.5366997718811035, -5.9182000160217285, -5.9593000411987305, -6.702700138092041, -6.268899917602539, -6.69890022277832, -6.23829984664917, -6.249100208282471, -4.984399795532227, -5.328499794006348, -6.920199871063232, -6.772299766540527, -5.973700046539307, -6.223800182342529, -3.8001999855041504, -4.598400115966797, -4.2677998542785645, -4.4257001876831055, -3.7980000972747803, -5.183199882507324, -5.354400157928467, -4.423399925231934, -3.890700101852417, -3.987799882888794, -5.523099899291992, -4.869699954986572, -4.318999767303467, -5.610400199890137, -4.964900016784668, -5.073699951171875, -4.8053998947143555, -5.100599765777588, -4.59499979019165, -5.358699798583984, -5.235400199890137, -5.1528000831604, -4.8856000900268555, -5.13730001449585, -5.025100231170654, -5.155799865722656, -5.255199909210205, -5.206099987030029, -5.461400032043457, -5.81879997253418, -5.817699909210205, -5.670899868011475, -5.916299819946289, -5.647600173950195, -6.460000038146973, -6.138800144195557, -5.64300012588501, -5.241399765014648, -6.015999794006348, -6.28879976272583, -4.866799831390381, -4.955399990081787, -5.809700012207031, -6.223499774932861, -6.230500221252441, -5.8566999435424805, -5.392499923706055, -4.754499912261963, -4.480800151824951, -5.5929999351501465, -6.117300033569336, -4.974100112915039, -5.415800094604492, -5.986400127410889, -5.781499862670898, -5.200699806213379, -5.5381999015808105, -6.444799900054932, -5.075799942016602, -3.378499984741211, -4.754799842834473, -4.525300025939941, -4.821199893951416, -5.139699935913086, -4.23799991607666, -5.438600063323975, -5.039000034332275, -4.313799858093262, -4.675099849700928, -5.0278000831604, -4.753200054168701, -5.177199840545654, -4.918799877166748, -4.588600158691406, -5.020699977874756, -4.898200035095215, -4.562699794769287, -5.0833001136779785, -5.019700050354004, -4.70419979095459, -4.760700225830078, -5.044899940490723, -5.0756001472473145, -4.951399803161621, -5.08489990234375, -4.4344000816345215, -4.771500110626221, -4.100100040435791, -4.782100200653076, -5.106299877166748, -5.553100109100342, -4.925300121307373, -5.3018999099731445, -5.018499851226807, -5.505099773406982, -5.411200046539307, -5.053699970245361, -3.7102999687194824, -6.101399898529053, -5.387899875640869, -6.3383002281188965, -4.390699863433838, -5.526599884033203, -6.067800045013428, -6.3684000968933105, -5.786099910736084, -5.4375, -5.317599773406982, -5.108500003814697, -5.651299953460693, -5.560800075531006, -6.329599857330322, -4.7758002281188965, -6.173600196838379, -6.376299858093262, -4.896900177001953, -3.8640999794006348, -5.141300201416016, -4.399400234222412, -4.779699802398682, -4.801499843597412, -4.144800186157227, -5.0447001457214355, -4.743000030517578, -4.753699779510498, -4.462600231170654, -4.780799865722656, -4.815800189971924, -4.85129976272583, -4.71019983291626, -4.7153000831604, -5.093699932098389, -5.117599964141846, -5.133500099182129, -4.375199794769287, -5.087200164794922, -4.671800136566162, -4.736999988555908, -5.072500228881836, -5.227099895477295, -5.606400012969971, -6.132299900054932, -5.616399765014648, -5.5817999839782715, -5.791399955749512, -5.2972002029418945, -4.857399940490723, -5.371500015258789, -5.489500045776367, -6.3607001304626465, -6.144899845123291, -5.859799861907959, -5.4303998947143555, -6.184899806976318, -6.187699794769287, -6.501800060272217, -5.954599857330322, -6.257800102233887, -5.3730998039245605, -5.5243000984191895, -5.546000003814697, -4.663400173187256, -4.796500205993652, -5.867099761962891, -4.39169979095459, -5.063499927520752, -4.617099761962891, -5.46999979019165, -5.417699813842773, -4.892399787902832, -5.558599948883057, -4.512400150299072, -4.855800151824951, -4.811699867248535, -4.694399833679199, -5.186600208282471, -4.493800163269043, -4.832900047302246, -4.92140007019043, -5.009300231933594, -4.873499870300293, -5.212900161743164, -5.202600002288818, -4.963799953460693, -5.030600070953369, -5.17609977722168, -5.07480001449585, -5.189199924468994, -5.189599990844727, -3.7379000186920166, -4.639800071716309, -5.029399871826172, -3.77839994430542, -4.604899883270264, -4.893599987030029, -5.2393999099731445, -5.32289981842041, -5.218500137329102, -6.001999855041504, -5.465000152587891, -4.717400074005127, -5.26639986038208, -5.544400215148926, -5.895299911499023, -4.42140007019043, -5.9380998611450195, -5.240600109100342, -5.523399829864502, -5.769599914550781, -6.0304999351501465, -4.089900016784668, -5.009399890899658, -6.0218000411987305, -5.26669979095459, -6.05649995803833, -6.26039981842041, -5.670499801635742, -6.10129976272583, -5.518499851226807, -4.593500137329102, -4.764500141143799, -4.8755998611450195, -4.375699996948242, -5.483099937438965, -5.251200199127197, -4.837399959564209, -4.7891998291015625, -5.230400085449219, -4.785999774932861, -4.834799766540527, -4.875699996948242, -4.521900177001953, -4.752200126647949, -4.90910005569458, -4.788400173187256, -4.764500141143799, -4.8780999183654785, -4.975599765777588, -4.989099979400635, -5.137499809265137, -4.969900131225586, -5.136499881744385, -4.583600044250488, -5.9004998207092285, -6.2170000076293945, -5.758600234985352, -6.517199993133545, -5.320700168609619, -5.911799907684326, -6.489299774169922, -5.901199817657471, -5.678699970245361, -6.4456000328063965, -6.600500106811523, -5.4253997802734375, -5.542200088500977, -6.161600112915039, -5.968500137329102, -5.857900142669678, -5.472300052642822, -5.927999973297119, -6.2957000732421875, -5.896100044250488, -5.775100231170654, -6.7754998207092285, -6.112500190734863, -6.656899929046631, -6.477799892425537, -5.566999912261963, -6.497700214385986, -6.021699905395508, -6.45550012588501, -5.346199989318848, -4.606500148773193, -5.748700141906738, -4.962399959564209, -5.099899768829346, -4.939799785614014, -4.422500133514404, -5.416399955749512, -5.359499931335449, -5.345099925994873, -4.9207000732421875, -5.106599807739258, -5.272200107574463, -4.508600234985352, -5.006499767303467, -4.393599987030029, -4.9934000968933105, -5.05649995803833, -5.2418999671936035, -5.5157999992370605, -4.818299770355225, -5.348199844360352, -4.832399845123291, -4.80019998550415, -4.747000217437744, -5.211100101470947, -4.938700199127197, -5.239799976348877, -5.3597002029418945, -5.321899890899658, -5.315899848937988, -5.338200092315674, -5.281700134277344, -5.286499977111816]}, \"token.table\": {\"Topic\": [1, 2, 3, 4, 5, 7, 8, 9, 10, 1, 2, 3, 4, 5, 6, 7, 8, 9, 10, 2, 4, 6, 7, 9, 10, 1, 2, 3, 4, 5, 6, 7, 8, 9, 10, 3, 4, 10, 1, 2, 4, 6, 8, 10, 4, 6, 9, 10, 1, 2, 3, 4, 5, 6, 7, 8, 9, 10, 3, 4, 5, 6, 7, 1, 2, 3, 4, 8, 10, 2, 4, 5, 8, 9, 10, 1, 7, 9, 1, 3, 6, 4, 7, 9, 1, 3, 4, 5, 9, 2, 3, 4, 5, 8, 1, 2, 3, 4, 5, 6, 7, 8, 9, 10, 1, 7, 8, 10, 1, 6, 7, 8, 1, 2, 3, 4, 5, 6, 7, 8, 9, 10, 1, 2, 3, 4, 5, 6, 7, 8, 9, 10, 1, 3, 6, 9, 1, 2, 3, 4, 5, 6, 7, 8, 9, 10, 3, 4, 5, 10, 1, 4, 8, 10, 3, 6, 8, 1, 3, 10, 1, 6, 7, 8, 9, 1, 2, 4, 5, 10, 1, 4, 5, 8, 1, 3, 4, 6, 10, 2, 4, 6, 7, 8, 10, 2, 5, 8, 10, 3, 10, 3, 10, 3, 4, 5, 8, 10, 4, 5, 8, 9, 10, 6, 8, 9, 10, 5, 6, 10, 1, 2, 3, 8, 10, 5, 9, 1, 2, 3, 4, 6, 7, 10, 2, 4, 6, 9, 10, 4, 5, 6, 9, 10, 1, 2, 3, 4, 5, 6, 7, 10, 3, 5, 9, 1, 3, 4, 5, 6, 7, 9, 10, 5, 9, 10, 1, 2, 3, 4, 5, 6, 8, 9, 10, 1, 2, 3, 4, 5, 6, 7, 8, 9, 10, 3, 5, 6, 7, 1, 2, 3, 4, 10, 1, 3, 4, 5, 6, 7, 9, 10, 3, 4, 9, 10, 2, 4, 5, 8, 9, 10, 1, 7, 10, 1, 3, 4, 5, 6, 7, 10, 1, 2, 3, 4, 5, 6, 7, 8, 9, 10, 1, 3, 4, 5, 7, 8, 9, 10, 2, 3, 4, 5, 6, 8, 10, 1, 2, 3, 4, 6, 10, 1, 3, 5, 10, 1, 3, 5, 6, 7, 8, 9, 1, 5, 6, 7, 8, 3, 5, 6, 2, 4, 5, 8, 9, 10, 1, 8, 1, 3, 6, 7, 10, 2, 4, 9, 10, 1, 3, 4, 5, 6, 7, 8, 9, 10, 1, 4, 6, 7, 9, 1, 3, 4, 6, 7, 3, 4, 5, 10, 1, 3, 4, 6, 7, 1, 2, 4, 5, 6, 7, 8, 9, 10, 1, 2, 3, 4, 5, 6, 7, 8, 9, 10, 1, 3, 4, 5, 6, 8, 9, 10, 1, 3, 4, 8, 10, 3, 5, 7, 9, 10, 1, 8, 10, 2, 3, 6, 7, 1, 2, 3, 4, 5, 6, 7, 9, 10, 1, 3, 5, 1, 2, 3, 4, 6, 7, 8, 9, 6, 7, 9, 10, 1, 2, 3, 4, 5, 6, 7, 8, 9, 1, 3, 4, 5, 6, 10, 1, 3, 5, 8, 10, 2, 7, 10, 1, 2, 3, 4, 5, 6, 7, 8, 9, 10, 6, 1, 2, 3, 4, 5, 6, 7, 9, 10, 1, 3, 4, 5, 6, 7, 8, 9, 10, 1, 3, 4, 5, 6, 7, 8, 9, 7, 8, 10, 1, 2, 3, 4, 5, 6, 7, 8, 9, 10, 1, 3, 4, 5, 1, 2, 3, 4, 5, 6, 8, 1, 2, 3, 4, 5, 6, 7, 8, 9, 10, 4, 5, 9, 10, 2, 6, 7, 8, 10, 1, 3, 9, 10, 2, 3, 4, 5, 8, 9, 10, 1, 3, 4, 5, 7, 10, 1, 2, 3, 4, 5, 6, 7, 8, 10, 1, 2, 3, 4, 5, 7, 9, 10, 1, 2, 3, 4, 5, 6, 7, 8, 9, 10, 1, 2, 3, 4, 5, 6, 8, 9, 10, 5, 9, 4, 5, 9, 1, 2, 3, 4, 5, 6, 7, 8, 9, 10, 1, 3, 6, 7, 9, 4, 9, 3, 4, 5, 8, 9, 10, 2, 5, 8, 9, 2, 3, 6, 10, 2, 3, 4, 10, 1, 5, 9, 10, 1, 3, 4, 7, 8, 9, 10, 2, 5, 6, 7, 8, 9, 10, 1, 3, 5, 6, 7, 8, 1, 6, 7, 1, 2, 3, 4, 5, 7, 8, 9, 10, 1, 3, 4, 5, 6, 10, 1, 2, 4, 8, 9, 10, 1, 2, 3, 4, 5, 6, 10, 3, 4, 5, 2, 5, 6, 3, 5, 5, 10, 1, 2, 5, 9, 10, 3, 5, 6, 8, 10, 1, 2, 3, 5, 6, 7, 8, 10, 5, 6, 7, 8, 10, 2, 4, 8, 10, 1, 4, 6, 7, 1, 4, 6, 8, 10, 1, 2, 3, 4, 5, 6, 7, 8, 9, 10, 1, 3, 4, 5, 6, 7, 8, 9, 10, 1, 2, 3, 4, 5, 6, 7, 8, 9, 10, 1, 2, 4, 5, 6, 7, 8, 1, 2, 3, 4, 5, 6, 7, 9, 10, 1, 5, 7, 8, 10, 2, 4, 6, 7, 1, 3, 6, 7, 8, 2, 5, 8, 9, 10, 1, 4, 5, 6, 7, 8, 9, 10, 9, 10, 3, 4, 7, 9, 10, 3, 6, 7, 9, 1, 3, 4, 5, 8, 10, 1, 2, 3, 4, 5, 6, 7, 8, 9, 10, 1, 5, 6, 7, 10, 3, 4, 5, 6, 2, 7, 9, 10, 1, 3, 6, 7, 3, 4, 5, 10, 2, 3, 4, 5, 10, 3, 4, 5, 10, 1, 2, 5, 7, 8, 9, 10, 1, 6, 7, 8, 9, 10, 4, 6, 7, 1, 3, 5, 6, 10, 9, 10, 1, 2, 3, 4, 5, 6, 8, 9, 10, 8, 9, 10, 1, 2, 3, 4, 5, 6, 7, 8, 9, 10, 1, 4, 6, 7, 3, 5, 6, 7, 1, 3, 1, 2, 3, 8, 10, 1, 4, 6, 1, 3, 9, 1, 3, 5, 9, 10, 1, 2, 3, 4, 5, 6, 7, 8, 9, 10, 1, 2, 3, 4, 5, 6, 7, 8, 9, 10, 2, 4, 5, 6, 7, 8, 10, 1, 2, 3, 4, 5, 6, 7, 8, 9, 10, 1, 10, 1, 5, 6, 7, 8, 9, 2, 4, 6, 7, 9, 10, 2, 3, 4, 9, 10, 2, 4, 8, 9, 1, 2, 3, 4, 5, 6, 7, 8, 9, 10, 6, 7, 8, 9, 10, 1, 2, 3, 4, 5, 6, 7, 8, 9, 10, 4, 8, 9, 10, 1, 3, 4, 5, 6, 7, 9, 10, 1, 3, 4, 5, 6, 7, 8, 9, 10, 4, 8, 10, 1, 2, 3, 4, 5, 6, 7, 8, 9, 10, 1, 2, 3, 5, 6, 7, 8, 9, 1, 2, 3, 4, 5, 6, 7, 10, 1, 2, 3, 4, 5, 6, 8, 9, 10, 1, 3, 4, 7, 10, 1, 6, 10, 1, 3, 6, 7, 8, 9, 1, 3, 4, 5, 6, 7, 9, 10, 1, 4, 5, 1, 3, 5, 6, 8, 9, 10, 1, 3, 4, 5, 6, 9, 1, 3, 6, 8, 4, 5, 9, 7, 8, 9, 10, 3, 4, 5, 6, 8, 1, 3, 1, 2, 3, 4, 5, 6, 7, 8, 9, 10, 3, 4, 5, 6, 8, 2, 4, 6, 7, 8, 9, 1, 2, 3, 4, 5, 6, 7, 8, 9, 10, 1, 2, 4, 5, 6, 7, 8, 9, 10, 3, 4, 7, 5, 6, 7, 8, 9, 10, 1, 2, 3, 4, 5, 6, 7, 8, 9, 10, 2, 4, 6, 9, 10, 1, 3, 4, 5, 1, 2, 3, 4, 5, 6, 7, 8, 9, 10, 2, 3, 4, 5, 9, 10, 1, 5, 8, 9, 10, 5, 7, 8, 10, 2, 3, 4, 6, 1, 3, 4, 5, 6, 7, 8, 10, 1, 2, 3, 4, 5, 6, 7, 8, 9, 10, 1, 2, 3, 5, 7, 1, 6, 7, 8, 10, 1, 2, 3, 4, 5, 6, 7, 8, 9, 10, 2, 3, 4, 7, 8, 1, 2, 3, 4, 5, 6, 1, 2, 3, 4, 5, 6, 7, 8, 9, 10, 1, 2, 3, 5, 6, 7, 8, 9, 10, 1, 10, 2, 3, 5, 10, 1, 2, 4, 5, 6, 7, 8, 9, 10, 4, 5, 6, 7, 9, 10, 5, 6, 9, 10, 1, 6, 7, 9, 10, 1, 2, 7, 8, 9, 1, 5, 10, 1, 2, 3, 4, 5, 6, 7, 8, 9, 10, 2, 4, 7, 8, 9, 10, 1, 3, 4, 5, 8, 1, 2, 3, 4, 5, 6, 7, 8, 9, 10, 4, 5, 9, 10, 5, 8, 10, 1, 3, 7, 10, 8, 9, 3, 5, 7, 8, 2, 5, 9, 2, 5, 8, 9, 10, 1, 3, 4, 5, 6, 7, 8, 10, 1, 5, 6, 7, 8, 9, 10, 1, 3, 4, 5, 6, 7, 8, 9, 10, 1, 2, 3, 4, 5, 6, 7, 8, 9, 10, 1, 2, 3, 4, 5, 6, 7, 8, 9, 10, 3, 4, 8, 10, 1, 2, 3, 4, 5, 6, 9, 10, 1, 2, 3, 4, 5, 6, 7, 8, 9, 10, 2, 4, 8, 10, 1, 2, 3, 4, 5, 6, 7, 8, 9, 10, 1, 2, 3, 4, 7, 10, 2, 3, 4, 5, 7, 9, 10, 1, 2, 3, 4, 5, 6, 7, 8, 2, 5, 8, 9, 10, 5, 10, 3, 9, 10, 2, 3, 5, 7, 1, 5, 6, 8, 9, 10, 1, 2, 3, 4, 5, 9, 10, 4, 6, 7, 8, 1, 5, 10, 1, 3, 4, 5, 6, 7, 8, 9, 10, 4, 6, 1, 3, 4, 5, 1, 4, 5, 7, 8, 9, 10, 3, 5, 1, 2, 3, 4, 5, 6, 7, 8, 9, 10, 2, 4, 5, 7, 8, 1, 2, 3, 4, 5, 6, 7, 8, 9, 10, 1, 4, 5, 6, 7, 8, 10, 1, 5, 6, 10, 1, 3, 4, 5, 6, 7, 9, 10, 7, 10, 1, 6, 8, 10, 1, 3, 4, 5, 8, 1, 3, 4, 5, 6, 7, 8, 10, 1, 3, 4, 5, 6, 8, 9, 10, 1, 2, 3, 4, 5, 6, 7, 8, 9, 10, 1, 2, 3, 4, 6, 7, 8, 10, 3, 6, 7, 8, 10, 1, 2, 3, 4, 5, 6, 7, 8, 9, 10, 1, 2, 3, 4, 5, 6, 7, 8, 9, 1, 2, 3, 4, 5, 6, 7, 9, 10, 1, 3, 4, 6, 7, 9, 10, 3, 5, 9, 10, 1, 2, 3, 4, 5, 8, 9, 10, 1, 3, 4, 5, 7, 8, 1, 4, 7, 8, 10, 1, 4, 6, 7, 10, 1, 3, 6, 8, 1, 2, 3, 4, 5, 6, 7, 8, 9, 10, 1, 2, 3, 4, 5, 6, 7, 8, 9, 10, 1, 3, 4, 5, 6, 7, 8, 10, 1, 3, 4, 5, 6, 8, 9, 10, 1, 2, 3, 4, 5, 6, 8, 9, 10, 1, 3, 4, 5, 7, 1, 4, 5, 6, 7, 9, 10, 1, 2, 3, 5, 8, 10, 1, 3, 6, 7, 9, 10, 4, 5, 8, 9, 10, 1, 3, 4, 5, 9, 1, 3, 4, 6, 7, 1, 2, 3, 4, 5, 6, 7, 8, 9, 10, 4, 6, 9, 10, 1, 2, 3, 4, 5, 6, 7, 8, 9, 10, 2, 5, 10, 1, 2, 7, 8, 9, 10, 1, 3, 5, 6, 7, 1, 2, 3, 4, 5, 6, 7, 8, 9, 10, 1, 3, 4, 6, 4, 9, 10, 1, 2, 3, 4, 5, 6, 7, 8, 10, 1, 3, 7, 8, 10, 2, 3, 4, 5, 6, 7, 8, 10, 2, 4, 5, 6, 7, 9, 1, 2, 3, 4, 5, 7, 8, 9, 10, 4, 5, 6, 7, 8, 10, 4, 6, 7, 8, 10, 1, 2, 3, 5, 9, 3, 5, 6, 8, 1, 3, 4, 5, 6, 9, 10, 1, 2, 3, 4, 5, 6, 7, 8, 9, 10, 1, 2, 3, 4, 6, 7, 9, 10, 1, 2, 4, 8, 9, 10, 1, 4, 5, 7, 8, 9, 10, 1, 3, 5, 6, 7, 8, 9, 1, 2, 3, 4, 5, 6, 7, 8, 9, 10, 1, 2, 3, 4, 5, 7, 10, 1, 2, 3, 6, 7, 9, 10, 1, 4, 5, 7, 1, 2, 3, 4, 5, 6, 7, 8, 10, 1, 3, 4, 5, 1, 2, 3, 4, 9, 1, 3, 4, 5, 7, 8, 9, 10, 1, 2, 3, 6, 7, 8, 10, 1, 2, 3, 4, 5, 6, 7, 8, 9, 10, 2, 6, 7, 10, 5, 8, 9, 10, 1, 3, 4, 5, 6, 7, 8, 9, 10, 1, 3, 5, 10, 1, 4, 5, 6, 7, 8, 1, 2, 6, 9, 1, 2, 4, 5, 7, 8, 1, 3, 4, 5, 6, 7, 8, 9, 1, 2, 4, 8, 9, 10, 1, 2, 4, 8, 9, 10, 3, 4, 5, 6, 7, 9, 10, 1, 2, 3, 4, 5, 6, 7, 8, 9, 10, 1, 3, 4, 5, 6, 9, 1, 3, 4, 5, 6, 7, 8, 9, 10, 1, 2, 3, 4, 5, 6, 7, 8, 9, 10, 1, 3, 4, 5, 1, 2, 3, 4, 5, 6, 7, 8, 9, 10, 5, 8, 9, 10, 1, 5, 1, 2, 3, 5, 7, 10, 3, 4, 6, 7, 9, 1, 3, 4, 5, 6, 7, 8, 1, 2, 3, 4, 5, 6, 7, 8, 9, 10, 1, 4, 6, 7, 8, 1, 3, 4, 5, 6, 7, 8, 9, 10, 2, 5, 6, 10, 2, 4, 5, 6, 7, 8, 10, 1, 2, 3, 4, 5, 6, 7, 8, 9, 10, 1, 2, 3, 4, 6, 7, 8, 9, 10, 1, 5, 6, 7, 10, 1, 2, 3, 4, 5, 6, 8, 9, 10, 4, 5, 6, 10, 5, 6, 10, 5, 10, 1, 2, 3, 4, 5, 6, 7, 8, 9, 10, 7, 8, 10, 1, 2, 3, 4, 5, 6, 7, 9, 10, 1, 3, 4, 5, 6, 8, 9, 10, 4, 6, 8, 1, 2, 3, 4, 5, 6, 7, 8, 9, 10, 7, 8, 10, 7, 8, 10, 9, 10, 5, 9, 10, 2, 3, 5, 6, 10, 1, 2, 3, 4, 5, 6, 7, 8, 9, 10, 9, 1, 2, 3, 4, 5, 6, 7, 8, 9, 10, 2, 4, 6, 7, 8, 10, 3, 4, 6, 1, 3, 4, 8, 10, 1, 3, 4, 5, 6, 8, 10, 4, 5, 6, 8, 1, 3, 4, 5, 6, 7, 10, 1, 2, 3, 4, 5, 7, 2, 3, 4, 5, 6, 9, 10, 4, 5, 9, 10, 9, 10, 3, 5, 8, 1, 2, 3, 4, 5, 10, 1, 3, 1, 2, 4, 5, 6, 7, 8, 9, 10, 1, 2, 6, 7, 9, 4, 10, 1, 2, 3, 4, 5, 6, 7, 8, 9, 10, 1, 8, 9, 10, 1, 2, 3, 4, 5, 6, 7, 8, 9, 10, 1, 5, 6, 10, 3, 4, 5, 6, 7, 10, 4, 5, 10, 1, 2, 3, 5, 6, 7, 8, 10, 1, 2, 4, 5, 6, 4, 8, 9, 10, 1, 2, 3, 4, 5, 6, 8, 9, 10, 9, 10, 1, 2, 3, 4, 5, 6, 1, 2, 3, 5, 6, 10, 3, 4, 5, 6, 10, 1, 4, 8, 10, 1, 2, 4, 6, 8, 10, 3, 5, 8, 1, 4, 6, 7, 9, 1, 2, 3, 4, 5, 6, 7, 8, 9, 10, 2, 6, 7, 8, 9, 1, 2, 3, 4, 5, 6, 7, 8, 9, 10], \"Freq\": [0.07642155140638351, 0.025473851710557938, 0.6368463039398193, 0.03396513685584068, 0.08066719770431519, 0.004245642106980085, 0.012736925855278969, 0.11463233083486557, 0.012736925855278969, 0.08929052203893661, 0.02790328860282898, 0.06417756527662277, 0.09487117826938629, 0.08370986580848694, 0.15067775547504425, 0.1032421663403511, 0.0055806576274335384, 0.12277446687221527, 0.25950056314468384, 0.03726240620017052, 0.03726240620017052, 0.4844112992286682, 0.11178722232580185, 0.07452481240034103, 0.18631203472614288, 0.3881036341190338, 0.04851295426487923, 0.024256477132439613, 0.024256477132439613, 0.012128238566219807, 0.278949499130249, 0.07276943325996399, 0.012128238566219807, 0.10915414988994598, 0.024256477132439613, 0.3168202042579651, 0.5808370113372803, 0.052803367376327515, 0.06052583083510399, 0.12105166167020798, 0.45394372940063477, 0.12105166167020798, 0.09078874439001083, 0.12105166167020798, 0.2841702997684479, 0.5115065574645996, 0.056834060698747635, 0.11366812139749527, 0.028429795056581497, 0.10661172866821289, 0.10661172866821289, 0.14925642311573029, 0.0852893814444542, 0.24876070022583008, 0.1421489715576172, 0.02132234536111355, 0.014214897528290749, 0.09239683300256729, 0.054307907819747925, 0.1357697695493698, 0.027153953909873962, 0.10861581563949585, 0.6245409250259399, 0.09231890738010406, 0.18463781476020813, 0.04615945369005203, 0.4615945518016815, 0.09231890738010406, 0.09231890738010406, 0.24044258892536163, 0.24044258892536163, 0.16029506921768188, 0.08014753460884094, 0.16029506921768188, 0.08014753460884094, 0.25522705912590027, 0.5104541182518005, 0.17015138268470764, 0.638063907623291, 0.136727973818779, 0.18230397999286652, 0.03901189938187599, 0.11703569442033768, 0.8192498683929443, 0.036390308290719986, 0.6914158463478088, 0.10917092114686966, 0.07278061658143997, 0.07278061658143997, 0.20543326437473297, 0.171194389462471, 0.41086652874946594, 0.06847774982452393, 0.13695549964904785, 0.21436889469623566, 0.051744215190410614, 0.04435218498110771, 0.16262467205524445, 0.10348843038082123, 0.03696015477180481, 0.014784061349928379, 0.11827249079942703, 0.06652827560901642, 0.18480077385902405, 0.694141685962677, 0.1601865440607071, 0.05339551344513893, 0.05339551344513893, 0.08812865614891052, 0.08812865614891052, 0.26438596844673157, 0.4406432807445526, 0.32147830724716187, 0.0226393174380064, 0.08602940291166306, 0.013583590276539326, 0.3441176116466522, 0.04075077176094055, 0.004527863580733538, 0.0226393174380064, 0.03169504180550575, 0.1086687222123146, 0.13321411609649658, 0.05212726444005966, 0.11583836376667023, 0.04054342582821846, 0.09267069399356842, 0.13321411609649658, 0.057919181883335114, 0.057919181883335114, 0.08108685165643692, 0.23167672753334045, 0.15512503683567047, 0.07756251841783524, 0.07756251841783524, 0.6205001473426819, 0.07644598186016083, 0.05096398666501045, 0.14439795911312103, 0.05945798382163048, 0.1019279733300209, 0.28030192852020264, 0.05945798382163048, 0.0084939980879426, 0.0679519847035408, 0.15289196372032166, 0.10215669870376587, 0.051078349351882935, 0.1532350480556488, 0.7150968909263611, 0.20054835081100464, 0.4010967016220093, 0.33424726128578186, 0.06684944778680801, 0.734476625919342, 0.1694945991039276, 0.0564982034265995, 0.1611284762620926, 0.1074189841747284, 0.6445139050483704, 0.0895482748746872, 0.1343224048614502, 0.5820637941360474, 0.0895482748746872, 0.0447741374373436, 0.7655091881752014, 0.04028995707631111, 0.04028995707631111, 0.12086986750364304, 0.04028995707631111, 0.036595627665519714, 0.2195737659931183, 0.6221256852149963, 0.10978688299655914, 0.117164246737957, 0.1952737420797348, 0.546766459941864, 0.0390547476708889, 0.117164246737957, 0.07513216882944107, 0.11269824951887131, 0.5634912252426147, 0.11269824951887131, 0.07513216882944107, 0.037566084414720535, 0.26959335803985596, 0.3235120177268982, 0.05391867086291313, 0.3235120177268982, 0.044610753655433655, 0.9368258118629456, 0.1366371363401413, 0.8198228478431702, 0.03417816385626793, 0.06835632771253586, 0.6152069568634033, 0.2392471581697464, 0.03417816385626793, 0.022648029029369354, 0.022648029029369354, 0.2491283118724823, 0.22648029029369354, 0.4529605805873871, 0.10571835935115814, 0.03523945435881615, 0.21143671870231628, 0.6343101263046265, 0.5338199734687805, 0.13345499336719513, 0.26690998673439026, 0.028817983344197273, 0.5475416779518127, 0.23054386675357819, 0.028817983344197273, 0.14408992230892181, 0.0875716358423233, 0.8757163286209106, 0.06456726044416428, 0.3228362798690796, 0.12913452088832855, 0.12913452088832855, 0.12913452088832855, 0.12913452088832855, 0.06456726044416428, 0.2353074550628662, 0.02139158733189106, 0.06417476385831833, 0.14974111318588257, 0.5133981108665466, 0.08361829817295074, 0.5017098188400269, 0.08361829817295074, 0.1672365963459015, 0.1254274547100067, 0.06739015132188797, 0.19093875586986542, 0.5278894901275635, 0.033695075660943985, 0.01123169157654047, 0.056158456951379776, 0.04492676630616188, 0.056158456951379776, 0.2016708254814148, 0.06722360849380493, 0.6722360849380493, 0.23124128580093384, 0.1643030196428299, 0.2434118688106537, 0.22515597939491272, 0.06085296720266342, 0.042597077786922455, 0.018255891278386116, 0.01217059325426817, 0.010078668594360352, 0.9675521850585938, 0.020157337188720703, 0.20176933705806732, 0.11529676616191864, 0.05764838308095932, 0.2882419228553772, 0.05764838308095932, 0.08647257089614868, 0.05764838308095932, 0.0720604807138443, 0.08647257089614868, 0.07252922654151917, 0.08289054781198502, 0.05180659145116806, 0.3419235050678253, 0.05180659145116806, 0.20722636580467224, 0.04144527390599251, 0.010361318476498127, 0.020722636952996254, 0.11397449672222137, 0.5937018394470215, 0.11874036490917206, 0.11874036490917206, 0.11874036490917206, 0.05027694255113602, 0.10055388510227203, 0.15083082020282745, 0.502769410610199, 0.20110777020454407, 0.04015682637691498, 0.013385608792304993, 0.013385608792304993, 0.013385608792304993, 0.013385608792304993, 0.3614114224910736, 0.5488099455833435, 0.013385608792304993, 0.05369432270526886, 0.10738864541053772, 0.698026180267334, 0.10738864541053772, 0.007967710494995117, 0.03187084197998047, 0.08764482289552689, 0.007967710494995117, 0.270902156829834, 0.5975783467292786, 0.031241828575730324, 0.8435294032096863, 0.09372548758983612, 0.3036971688270569, 0.07592429220676422, 0.03796214610338211, 0.4555457532405853, 0.08857833594083786, 0.025308096781373024, 0.012654048390686512, 0.11927449703216553, 0.03727328032255173, 0.12672916054725647, 0.0074546560645103455, 0.09691052883863449, 0.2609129548072815, 0.04472793638706207, 0.014909312129020691, 0.1490931212902069, 0.14163847267627716, 0.04187969118356705, 0.07328946143388748, 0.031409766525030136, 0.04187969118356705, 0.1675187647342682, 0.0837593823671341, 0.3350375294685364, 0.23033830523490906, 0.05369846150279045, 0.026849230751395226, 0.08054769039154053, 0.05369846150279045, 0.1073969230055809, 0.6175323128700256, 0.05369846150279045, 0.12141917645931244, 0.3035479485988617, 0.18212875723838806, 0.12141917645931244, 0.06070958822965622, 0.18212875723838806, 0.018024703487753868, 0.054074108600616455, 0.4145681858062744, 0.5046916604042053, 0.01584240049123764, 0.01584240049123764, 0.01584240049123764, 0.04752720147371292, 0.8554896712303162, 0.01584240049123764, 0.01584240049123764, 0.034286316484212875, 0.10285894572734833, 0.06857263296842575, 0.24000421166419983, 0.5142947435379028, 0.8165030479431152, 0.11664329469203949, 0.0388810969889164, 0.015511072240769863, 0.15511071681976318, 0.031022144481539726, 0.031022144481539726, 0.7445314526557922, 0.015511072240769863, 0.9782705903053284, 0.012871981598436832, 0.049456845968961716, 0.8407663702964783, 0.024728422984480858, 0.024728422984480858, 0.07418526709079742, 0.032125573605298996, 0.19275343418121338, 0.5461347103118896, 0.22487901151180267, 0.24747373163700104, 0.013748540543019772, 0.013748540543019772, 0.027497081086039543, 0.42620477080345154, 0.1787310242652893, 0.027497081086039543, 0.06874269992113113, 0.013748540543019772, 0.5081828236579895, 0.02989310957491398, 0.05978621914982796, 0.35871729254722595, 0.02989310957491398, 0.16483727097511292, 0.16483727097511292, 0.0329674556851387, 0.09890236705541611, 0.49451181292533875, 0.15675625205039978, 0.23513439297676086, 0.47026878595352173, 0.07837812602519989, 0.13666300475597382, 0.18221734464168549, 0.04555433616042137, 0.5466520190238953, 0.04555433616042137, 0.20804733037948608, 0.12482839822769165, 0.04160946607589722, 0.10402366518974304, 0.18724259734153748, 0.02080473303794861, 0.18724259734153748, 0.010402366518974304, 0.12482839822769165, 0.18801280856132507, 0.023501601070165634, 0.058754000812768936, 0.0352523997426033, 0.011750800535082817, 0.3525240123271942, 0.11750800162553787, 0.04700320214033127, 0.09400640428066254, 0.0705047994852066, 0.2802363634109497, 0.3132053315639496, 0.11539144068956375, 0.14836041629314423, 0.09066469967365265, 0.016484491527080536, 0.016484491527080536, 0.008242245763540268, 0.6595682501792908, 0.07328535616397858, 0.07328535616397858, 0.14657071232795715, 0.867730438709259, 0.04991556331515312, 0.6988178491592407, 0.04991556331515312, 0.09983112663030624, 0.09983112663030624, 0.6943431496620178, 0.21132183074951172, 0.06037766486406326, 0.6991264820098877, 0.06079360470175743, 0.182380810379982, 0.030396802350878716, 0.0440409891307354, 0.01101024728268385, 0.0880819782614708, 0.0220204945653677, 0.22020494937896729, 0.0220204945653677, 0.0220204945653677, 0.16515371203422546, 0.39636892080307007, 0.6168857216835022, 0.07711071521043777, 0.23133213818073273, 0.03666231408715248, 0.03666231408715248, 0.10998694598674774, 0.03666231408715248, 0.07332462817430496, 0.47661009430885315, 0.03666231408715248, 0.14664925634860992, 0.07857024669647217, 0.07857024669647217, 0.07857024669647217, 0.7071322202682495, 0.07086611539125443, 0.01417322363704443, 0.02834644727408886, 0.2692912518978119, 0.02834644727408886, 0.3259841501712799, 0.05669289454817772, 0.12755900621414185, 0.08503933995962143, 0.25377464294433594, 0.2255774736404419, 0.028197184205055237, 0.42295774817466736, 0.042295776307582855, 0.014098592102527618, 0.016603711992502213, 0.796978235244751, 0.11622598767280579, 0.016603711992502213, 0.016603711992502213, 0.23860621452331543, 0.47721242904663086, 0.23860621452331543, 0.2957040071487427, 0.1743895411491394, 0.06823938339948654, 0.09098584949970245, 0.12889662384986877, 0.022746462374925613, 0.0075821541249752045, 0.022746462374925613, 0.015164308249950409, 0.1743895411491394, 0.9447784423828125, 0.08910470455884933, 0.01162235252559185, 0.5423764586448669, 0.042615294456481934, 0.1627129465341568, 0.0232447050511837, 0.01162235252559185, 0.0929788202047348, 0.0232447050511837, 0.010737755335867405, 0.12885306775569916, 0.1395908147096634, 0.1073775514960289, 0.2469683736562729, 0.22549286484718323, 0.03221326693892479, 0.1073775514960289, 0.010737755335867405, 0.02714456245303154, 0.05428912490606308, 0.02714456245303154, 0.05428912490606308, 0.38002386689186096, 0.08143369108438492, 0.29859018325805664, 0.05428912490606308, 0.876707136631012, 0.06921372562646866, 0.02307124063372612, 0.2683846056461334, 0.06545966118574142, 0.18983301520347595, 0.01309193205088377, 0.13746528327465057, 0.03272983059287071, 0.05236772820353508, 0.03272983059287071, 0.07200562953948975, 0.15710318088531494, 0.5689073204994202, 0.31031307578086853, 0.038789134472608566, 0.06464855372905731, 0.5233762860298157, 0.24047020077705383, 0.07072652876377106, 0.014145305380225182, 0.056581221520900726, 0.042435918003320694, 0.042435918003320694, 0.5679261088371277, 0.056416500359773636, 0.08274419605731964, 0.03761100023984909, 0.026327699422836304, 0.007522199768573046, 0.04513319954276085, 0.06769979745149612, 0.04513319954276085, 0.0639386996626854, 0.03890923783183098, 0.03890923783183098, 0.8560032248497009, 0.03890923783183098, 0.09569205343723297, 0.23923012614250183, 0.09569205343723297, 0.4306142330169678, 0.09569205343723297, 0.739128828048706, 0.06719353049993515, 0.06719353049993515, 0.06719353049993515, 0.26575571298599243, 0.18982550501823425, 0.03796510398387909, 0.3416859209537506, 0.07593020796775818, 0.03796510398387909, 0.03796510398387909, 0.09592263400554657, 0.09592263400554657, 0.5755358338356018, 0.047961317002773285, 0.047961317002773285, 0.14388395845890045, 0.28853270411491394, 0.1257706582546234, 0.16276203095912933, 0.11837238818407059, 0.03699137270450592, 0.07398274540901184, 0.044389646500349045, 0.06658446788787842, 0.08877929300069809, 0.15820926427841187, 0.019776158034801483, 0.13843309879302979, 0.039552316069602966, 0.17798541486263275, 0.019776158034801483, 0.41529929637908936, 0.039552316069602966, 0.16083545982837677, 0.05452049523591995, 0.12812316417694092, 0.13630123436450958, 0.09541086107492447, 0.12539713084697723, 0.07905471324920654, 0.027260247617959976, 0.08995881676673889, 0.10358893871307373, 0.10371938347816467, 0.006914625875651836, 0.11063401401042938, 0.013829251751303673, 0.44253605604171753, 0.006914625875651836, 0.06914626061916351, 0.10371938347816467, 0.13829252123832703, 0.024578435346484184, 0.958558976650238, 0.13586921989917755, 0.02264486998319626, 0.8152153491973877, 0.1346053034067154, 0.0323052741587162, 0.11845266819000244, 0.02692105993628502, 0.17229478061199188, 0.05922633409500122, 0.08076318353414536, 0.11845266819000244, 0.10230003297328949, 0.15075793862342834, 0.5415821671485901, 0.03778479993343353, 0.12594933807849884, 0.2015189379453659, 0.07556959986686707, 0.3227720260620117, 0.6455440521240234, 0.00961693562567234, 0.03846774250268936, 0.03846774250268936, 0.05770161747932434, 0.6443347334861755, 0.2019556611776352, 0.29852935671806335, 0.04264704883098602, 0.04264704883098602, 0.5970587134361267, 0.6037293076515198, 0.0431235209107399, 0.0862470418214798, 0.2587411105632782, 0.12781774997711182, 0.2875899374485016, 0.4793165326118469, 0.06390887498855591, 0.023529544472694397, 0.07058863341808319, 0.6352977156639099, 0.25882500410079956, 0.1994810700416565, 0.04603409394621849, 0.06137879192829132, 0.06137879192829132, 0.04603409394621849, 0.01534469798207283, 0.5524091124534607, 0.015581120736896992, 0.031162241473793983, 0.14023008942604065, 0.10906784236431122, 0.031162241473793983, 0.529758095741272, 0.12464896589517593, 0.1708836853504181, 0.1993642896413803, 0.09968214482069016, 0.46993014216423035, 0.014240306802093983, 0.014240306802093983, 0.03792821243405342, 0.15171284973621368, 0.758564293384552, 0.029437892138957977, 0.058875784277915955, 0.03925052285194397, 0.04906315356492996, 0.08831367641687393, 0.058875784277915955, 0.08831367641687393, 0.18643999099731445, 0.3925052285194397, 0.11648930609226227, 0.11648930609226227, 0.543616771697998, 0.11648930609226227, 0.03882976993918419, 0.07765953987836838, 0.06410820037126541, 0.06410820037126541, 0.12821640074253082, 0.06410820037126541, 0.5769737958908081, 0.06410820037126541, 0.07133113592863083, 0.040760647505521774, 0.6521703600883484, 0.08152129501104355, 0.05095081031322479, 0.020380323752760887, 0.09171146154403687, 0.6444605588912964, 0.1611151397228241, 0.1611151397228241, 0.7101733684539795, 0.19368363916873932, 0.032280609011650085, 0.8669840693473816, 0.09633156657218933, 0.07589268684387207, 0.9107122421264648, 0.05429947003722191, 0.16289840638637543, 0.6244438886642456, 0.027149735018610954, 0.13574868440628052, 0.8730335831642151, 0.03851618617773056, 0.012838729657232761, 0.012838729657232761, 0.051354918628931046, 0.0036053203511983156, 0.02163192257285118, 0.7931705117225647, 0.07931704819202423, 0.028842562809586525, 0.0036053203511983156, 0.01081596128642559, 0.05768512561917305, 0.12767985463142395, 0.2553597092628479, 0.38303953409194946, 0.12767985463142395, 0.06383992731571198, 0.21333923935890198, 0.4977915585041046, 0.07111307978630066, 0.21333923935890198, 0.2729005217552185, 0.5003176331520081, 0.0909668430685997, 0.04548342153429985, 0.5793110132217407, 0.09655183553695679, 0.14482775330543518, 0.048275917768478394, 0.14482775330543518, 0.07642439007759094, 0.03821219503879547, 0.24019093811511993, 0.01637665554881096, 0.10917770117521286, 0.25110870599746704, 0.21835540235042572, 0.01637665554881096, 0.021835539489984512, 0.005458884872496128, 0.052990853786468506, 0.25435611605644226, 0.052990853786468506, 0.07948628067970276, 0.26495426893234253, 0.14307530224323273, 0.026495426893234253, 0.07948628067970276, 0.037093598395586014, 0.07608852535486221, 0.007608852814882994, 0.1597859114408493, 0.0836973786354065, 0.07228410243988037, 0.27391868829727173, 0.25870099663734436, 0.026630984619259834, 0.03804426267743111, 0.003804426407441497, 0.10552937537431717, 0.035176459699869156, 0.5628233551979065, 0.07035291939973831, 0.10552937537431717, 0.07035291939973831, 0.035176459699869156, 0.05406705662608147, 0.23429058492183685, 0.21626822650432587, 0.10813411325216293, 0.01802235282957554, 0.12615646421909332, 0.07208941131830215, 0.07208941131830215, 0.10813411325216293, 0.022935396060347557, 0.045870792120695114, 0.09174158424139023, 0.09174158424139023, 0.7339326739311218, 0.08019500970840454, 0.12029251456260681, 0.7217550873756409, 0.04009750485420227, 0.24805742502212524, 0.041342902928590775, 0.24805742502212524, 0.12402871251106262, 0.2894003093242645, 0.3207211494445801, 0.0986834317445755, 0.07401257008314133, 0.04934171587228775, 0.44407543540000916, 0.1280592828989029, 0.08537285774946213, 0.042686428874731064, 0.5122371315956116, 0.042686428874731064, 0.021343214437365532, 0.14940249919891357, 0.042686428874731064, 0.571114182472229, 0.3172856569290161, 0.11889098584651947, 0.03963032737374306, 0.5548245906829834, 0.03963032737374306, 0.19815164804458618, 0.5719121694564819, 0.06354579329490662, 0.19063737988471985, 0.06354579329490662, 0.15075986087322235, 0.10050656646490097, 0.08794324845075607, 0.5904760956764221, 0.012563320808112621, 0.06281660497188568, 0.08680327236652374, 0.07102085649967194, 0.07891206443309784, 0.015782412141561508, 0.07102085649967194, 0.12625929713249207, 0.07891206443309784, 0.015782412141561508, 0.06312964856624603, 0.3945603370666504, 0.10843019932508469, 0.6397382020950317, 0.05421509966254234, 0.09758718311786652, 0.08674415946006775, 0.6553391218185425, 0.05957628786563873, 0.1787288635969162, 0.11915257573127747, 0.032069943845272064, 0.032069943845272064, 0.06413988769054413, 0.8338185548782349, 0.11707180738449097, 0.05853590369224548, 0.7024308443069458, 0.11707180738449097, 0.870948076248169, 0.04838600382208824, 0.04838600382208824, 0.04838600382208824, 0.04557796195149422, 0.13673388957977295, 0.04557796195149422, 0.5925135016441345, 0.09115592390298843, 0.73723304271698, 0.11890856176614761, 0.047563422471284866, 0.07134513556957245, 0.031982894986867905, 0.031982894986867905, 0.031982894986867905, 0.06396578997373581, 0.19189737737178802, 0.09594868868589401, 0.5597006678581238, 0.022568507120013237, 0.06770551949739456, 0.022568507120013237, 0.20311656594276428, 0.022568507120013237, 0.6544867157936096, 0.38764622807502747, 0.38764622807502747, 0.16151925921440125, 0.021017510443925858, 0.6935778260231018, 0.06305252760648727, 0.1471225619316101, 0.06305252760648727, 0.5420190095901489, 0.4065142571926117, 0.02863949164748192, 0.08591847866773605, 0.04295923933386803, 0.05727898329496384, 0.08591847866773605, 0.11455796658992767, 0.2863949239253998, 0.01431974582374096, 0.27207517623901367, 0.02925683557987213, 0.2633115351200104, 0.6729072332382202, 0.1217905580997467, 0.0202984269708395, 0.2503472566604614, 0.027064569294452667, 0.10825827717781067, 0.26387953758239746, 0.04736299440264702, 0.027064569294452667, 0.033830709755420685, 0.09472598880529404, 0.05116209387779236, 0.05116209387779236, 0.20464837551116943, 0.6651071906089783, 0.07842997461557388, 0.07842997461557388, 0.1960749477148056, 0.6274397969245911, 0.06344171613454819, 0.8881840705871582, 0.07042498886585236, 0.07042498886585236, 0.38733741641044617, 0.42254990339279175, 0.03521249443292618, 0.14860767126083374, 0.4953588843345642, 0.2972153425216675, 0.769904613494873, 0.11844686418771744, 0.05922343209385872, 0.041577164083719254, 0.16630865633487701, 0.6236574649810791, 0.08315432816743851, 0.08315432816743851, 0.08272882550954819, 0.037604011595249176, 0.022562406957149506, 0.04512481391429901, 0.19554086029529572, 0.09024962782859802, 0.04512481391429901, 0.22562406957149506, 0.2331448644399643, 0.03008320927619934, 0.03729467839002609, 0.04876996576786041, 0.2754068672657013, 0.0860646441578865, 0.24098099768161774, 0.05450760945677757, 0.01721292920410633, 0.04590114206075668, 0.08893346786499023, 0.10901521891355515, 0.029703278094530106, 0.11881311237812042, 0.11881311237812042, 0.5049557685852051, 0.05940655618906021, 0.029703278094530106, 0.14851638674736023, 0.10865677893161774, 0.021731356158852577, 0.03259703516960144, 0.08692542463541031, 0.04889555275440216, 0.05432838946580887, 0.005432839039713144, 0.10322394222021103, 0.04889555275440216, 0.4889554977416992, 0.060348767787218094, 0.9052314758300781, 0.31119483709335327, 0.014818801544606686, 0.6075708270072937, 0.014818801544606686, 0.014818801544606686, 0.02963760308921337, 0.1087041050195694, 0.5072858333587646, 0.18117350339889526, 0.07246939837932587, 0.03623469918966293, 0.07246939837932587, 0.4461296796798706, 0.037177473306655884, 0.18588736653327942, 0.2602423131465912, 0.037177473306655884, 0.13229741156101227, 0.0992230623960495, 0.06614870578050613, 0.6945614218711853, 0.032838378101587296, 0.12040738761425018, 0.15324576199054718, 0.10946126282215118, 0.10946126282215118, 0.21892252564430237, 0.032838378101587296, 0.06020369380712509, 0.04925756901502609, 0.10946126282215118, 0.17056900262832642, 0.42642250657081604, 0.042642250657081604, 0.042642250657081604, 0.2558535039424896, 0.06843987852334976, 0.02053196355700493, 0.08212785422801971, 0.03421993926167488, 0.12319178134202957, 0.08897183835506439, 0.1163477897644043, 0.04106392711400986, 0.07528386265039444, 0.3490433692932129, 0.06814832240343094, 0.06814832240343094, 0.7496315240859985, 0.06814832240343094, 0.2506965398788452, 0.2898678779602051, 0.007834266871213913, 0.26636508107185364, 0.09401120245456696, 0.015668533742427826, 0.02350280061364174, 0.04700560122728348, 0.21971455216407776, 0.17195051908493042, 0.019105613231658936, 0.4250999093055725, 0.12418648600578308, 0.014329209923744202, 0.004776403307914734, 0.004776403307914734, 0.014329209923744202, 0.2232530415058136, 0.5860392451286316, 0.1674397736787796, 0.42167559266090393, 0.014294087886810303, 0.04288226366043091, 0.014294087886810303, 0.03573521971702576, 0.12149974703788757, 0.028588175773620605, 0.05717635154724121, 0.007147043943405151, 0.25729358196258545, 0.3050868511199951, 0.01326464582234621, 0.15917575359344482, 0.01326464582234621, 0.23876363039016724, 0.06632322818040848, 0.17244039475917816, 0.02652929164469242, 0.025250548496842384, 0.004208424594253302, 0.05891794338822365, 0.47976040840148926, 0.021042123436927795, 0.3240486979484558, 0.07996007055044174, 0.004208424594253302, 0.0488424189388752, 0.0488424189388752, 0.17094846069812775, 0.14042195677757263, 0.23810678720474243, 0.20758028328418732, 0.0122106047347188, 0.09157953411340714, 0.03663181513547897, 0.19270722568035126, 0.770828902721405, 0.07393442839384079, 0.5175409913063049, 0.29573771357536316, 0.052080556750297546, 0.8332889080047607, 0.052080556750297546, 0.04039321094751358, 0.02019660547375679, 0.4645219147205353, 0.4039320945739746, 0.04039321094751358, 0.02019660547375679, 0.06753511726856232, 0.1688378006219864, 0.5065134167671204, 0.05065133795142174, 0.0844189003109932, 0.03376755863428116, 0.03376755863428116, 0.06753511726856232, 0.6066868305206299, 0.13481929898262024, 0.20222893357276917, 0.1084434986114502, 0.01084434986114502, 0.01084434986114502, 0.08675479888916016, 0.14097654819488525, 0.06506609916687012, 0.574750542640686, 0.04742836952209473, 0.011857092380523682, 0.2015705704689026, 0.15414220094680786, 0.5454262495040894, 0.023714184761047363, 0.7221669554710388, 0.07737503200769424, 0.12895838916301727, 0.05158335343003273, 0.09647620469331741, 0.04823810234665871, 0.8200477361679077, 0.07952922582626343, 0.11929383873939514, 0.11929383873939514, 0.6759984493255615, 0.6814497709274292, 0.04396450147032738, 0.1758580058813095, 0.06594675779342651, 0.02198225073516369, 0.6921077966690063, 0.28313499689102173, 0.02476075105369091, 0.041267916560173035, 0.1238037571310997, 0.05777508392930031, 0.0660286694765091, 0.21459317207336426, 0.22284676134586334, 0.08253583312034607, 0.08253583312034607, 0.09904300421476364, 0.11698682606220245, 0.11698682606220245, 0.2339736521244049, 0.11698682606220245, 0.4094538986682892, 0.037488166242837906, 0.07497633248567581, 0.5998106598854065, 0.14995266497135162, 0.07497633248567581, 0.037488166242837906, 0.04385756328701973, 0.05638829618692398, 0.13783805072307587, 0.14410342276096344, 0.150368794798851, 0.16289952397346497, 0.08144976198673248, 0.018796099349856377, 0.0751843973994255, 0.12530732154846191, 0.1322958618402481, 0.023346329107880592, 0.07003898173570633, 0.023346329107880592, 0.45136234164237976, 0.11673164367675781, 0.05447476729750633, 0.03112843818962574, 0.09338531643152237, 0.06452354788780212, 0.03226177394390106, 0.8710678815841675, 0.2685271203517914, 0.03356589004397392, 0.03356589004397392, 0.36922478675842285, 0.1678294539451599, 0.10069767385721207, 0.12214618176221848, 0.08550232648849487, 0.17100465297698975, 0.08550232648849487, 0.10382425040006638, 0.06107309088110924, 0.042751163244247437, 0.06107309088110924, 0.0366438552737236, 0.22597043216228485, 0.3000437319278717, 0.0428633876144886, 0.0428633876144886, 0.2571803331375122, 0.3000437319278717, 0.06753609329462051, 0.27014437317848206, 0.13507218658924103, 0.4727526307106018, 0.11677725613117218, 0.1044849157333374, 0.14750811457633972, 0.1044849157333374, 0.03073085844516754, 0.11677725613117218, 0.06146171689033508, 0.055315542966127396, 0.11677725613117218, 0.14750811457633972, 0.25024187564849854, 0.017874419689178467, 0.0536232627928257, 0.3753628432750702, 0.1072465255856514, 0.17874421179294586, 0.026156948879361153, 0.8370223641395569, 0.026156948879361153, 0.052313897758722305, 0.052313897758722305, 0.1000884547829628, 0.3503095805644989, 0.300265371799469, 0.2502211332321167, 0.22876915335655212, 0.5147305727005005, 0.11438457667827606, 0.05719228833913803, 0.08513366430997849, 0.11351154744625092, 0.04256683215498924, 0.04256683215498924, 0.5249909162521362, 0.07094471901655197, 0.08513366430997849, 0.02837788686156273, 0.0060304743237793446, 0.024121897295117378, 0.5367122292518616, 0.03618284687399864, 0.19900566339492798, 0.030152373015880585, 0.012060948647558689, 0.01809142343699932, 0.06030474603176117, 0.07236569374799728, 0.11245403438806534, 0.022490806877613068, 0.7197058200836182, 0.08996322751045227, 0.044981613755226135, 0.03347329422831535, 0.6359925866127014, 0.23431305587291718, 0.0669465884566307, 0.03347329422831535, 0.20347219705581665, 0.06782406568527222, 0.036994945257902145, 0.41927602887153625, 0.03082912042737007, 0.15414559841156006, 0.018497472628951073, 0.024663295596837997, 0.018497472628951073, 0.03082912042737007, 0.40109944343566895, 0.2406596690416336, 0.08021988719701767, 0.16043977439403534, 0.08021988719701767, 0.5634905695915222, 0.04024932533502579, 0.12074798345565796, 0.04024932533502579, 0.2146630734205246, 0.013416442088782787, 0.11717241257429123, 0.002724939724430442, 0.2997433841228485, 0.10082276910543442, 0.38694143295288086, 0.02452445775270462, 0.010899758897721767, 0.016349637880921364, 0.013624698854982853, 0.02997433766722679, 0.06417404860258102, 0.008556539192795753, 0.12834809720516205, 0.6117925643920898, 0.09412193298339844, 0.017113078385591507, 0.012834809720516205, 0.004278269596397877, 0.059895776212215424, 0.15750694274902344, 0.7875347137451172, 0.4335814416408539, 0.025504790246486664, 0.4080766439437866, 0.12752395868301392, 0.049473002552986145, 0.024736501276493073, 0.03710475191473961, 0.03710475191473961, 0.136050745844841, 0.07420950382947922, 0.07420950382947922, 0.024736501276493073, 0.5689395070075989, 0.01744433492422104, 0.1395546793937683, 0.01744433492422104, 0.20933201909065247, 0.540774405002594, 0.052333004772663116, 0.0503816194832325, 0.0503816194832325, 0.80610591173172, 0.0503816194832325, 0.05423656478524208, 0.5423656702041626, 0.2440645396709442, 0.02711828239262104, 0.08135484904050827, 0.026535432785749435, 0.4511023759841919, 0.21228346228599548, 0.026535432785749435, 0.26535433530807495, 0.11776162683963776, 0.6182485222816467, 0.26496365666389465, 0.17086225748062134, 0.02228638157248497, 0.05943034961819649, 0.17829105257987976, 0.08171673119068146, 0.014857587404549122, 0.02228638157248497, 0.05943034961819649, 0.08171673119068146, 0.30458053946495056, 0.1532202661037445, 0.10214684903621674, 0.05107342451810837, 0.4596608281135559, 0.05107342451810837, 0.10214684903621674, 0.8162809610366821, 0.08162809163331985, 0.027209365740418434, 0.05441873148083687, 0.027209365740418434, 0.34998616576194763, 0.03977115452289581, 0.06363385170698166, 0.047725386917591095, 0.007954231463372707, 0.043748270720243454, 0.011931346729397774, 0.051702503114938736, 0.047725386917591095, 0.3301005959510803, 0.017608145251870155, 0.017608145251870155, 0.3169465959072113, 0.6338931918144226, 0.13353942334651947, 0.16692428290843964, 0.7010819911956787, 0.06410747021436691, 0.12821494042873383, 0.32053735852241516, 0.3846448063850403, 0.08475338667631149, 0.8475338220596313, 0.31467685103416443, 0.07866921275854111, 0.07866921275854111, 0.5113499164581299, 0.31430795788764954, 0.07857698947191238, 0.4714619517326355, 0.32409724593162537, 0.4166964590549469, 0.04629960656166077, 0.09259921312332153, 0.09259921312332153, 0.012765297666192055, 0.12765298783779144, 0.02553059533238411, 0.17871417105197906, 0.07659178972244263, 0.012765297666192055, 0.06382649391889572, 0.4978466331958771, 0.06314879655838013, 0.06314879655838013, 0.04209919646382332, 0.04209919646382332, 0.3999423682689667, 0.02104959823191166, 0.35784319043159485, 0.19180120527744293, 0.1854078322649002, 0.07032711058855057, 0.25573495030403137, 0.07672048360109329, 0.06393373757600784, 0.019180120900273323, 0.1342608481645584, 0.006393373943865299, 0.11472540348768234, 0.053538523614406586, 0.053538523614406586, 0.12237376719713211, 0.11472540348768234, 0.1759122908115387, 0.14531885087490082, 0.1529671996831894, 0.007648360449820757, 0.061186883598566055, 0.1230684220790863, 0.023220457136631012, 0.08359364420175552, 0.09055978059768677, 0.2995438873767853, 0.13003455102443695, 0.009288182482123375, 0.03483068570494652, 0.07894955575466156, 0.12539047002792358, 0.31610730290412903, 0.05268455296754837, 0.3687918484210968, 0.21073821187019348, 0.11079788208007812, 0.05036267265677452, 0.05036267265677452, 0.060435209423303604, 0.11079788208007812, 0.060435209423303604, 0.18130561709403992, 0.35253870487213135, 0.03759493678808212, 0.03759493678808212, 0.022556962445378304, 0.05263291299343109, 0.1503797471523285, 0.030075950548052788, 0.015037975274026394, 0.060151901096105576, 0.2406076043844223, 0.36091139912605286, 0.34750834107398987, 0.13900333642959595, 0.06950166821479797, 0.41701000928878784, 0.12752248346805573, 0.04158341884613037, 0.12475025653839111, 0.12475025653839111, 0.13306693732738495, 0.10534466058015823, 0.08039461076259613, 0.03603896126151085, 0.05821678787469864, 0.16633367538452148, 0.09037098288536072, 0.3162984549999237, 0.04518549144268036, 0.13555647432804108, 0.13555647432804108, 0.225927472114563, 0.0871025025844574, 0.11613666266202927, 0.029034165665507317, 0.029034165665507317, 0.0871025025844574, 0.6097174882888794, 0.029034165665507317, 0.05576488375663757, 0.04182366281747818, 0.5158251523971558, 0.1951770931482315, 0.027882441878318787, 0.06970610469579697, 0.013941220939159393, 0.05576488375663757, 0.1590365469455719, 0.5407242178916931, 0.1272292286157608, 0.0636146143078804, 0.0954219251871109, 0.7475005984306335, 0.19933348894119263, 0.04271196201443672, 0.04271196201443672, 0.8542392253875732, 0.23771484196186066, 0.059428710490465164, 0.5348584055900574, 0.11885742098093033, 0.139457106590271, 0.0697285532951355, 0.0697285532951355, 0.3486427664756775, 0.139457106590271, 0.2091856598854065, 0.2125820517539978, 0.03036886267364025, 0.0607377253472805, 0.03036886267364025, 0.485901802778244, 0.0911065936088562, 0.0911065936088562, 0.04795517399907112, 0.6234172582626343, 0.2397758662700653, 0.04795517399907112, 0.07143108546733856, 0.023810362443327904, 0.8809834122657776, 0.07005134224891663, 0.020014669746160507, 0.2401760369539261, 0.07005134224891663, 0.46033740043640137, 0.010007334873080254, 0.06004400923848152, 0.03002200461924076, 0.040029339492321014, 0.26203155517578125, 0.7112285494804382, 0.06090015172958374, 0.18270045518875122, 0.4263010621070862, 0.3045007586479187, 0.00990489311516285, 0.0198097862303257, 0.0198097862303257, 0.00990489311516285, 0.0198097862303257, 0.9112501740455627, 0.00990489311516285, 0.7365627884864807, 0.09207034856081009, 0.05750015377998352, 0.038333434611558914, 0.10541694611310959, 0.038333434611558914, 0.02875007688999176, 0.27791741490364075, 0.019166717305779457, 0.10541694611310959, 0.31625083088874817, 0.009583358652889729, 0.20785002410411835, 0.04157000407576561, 0.08314000815153122, 0.04157000407576561, 0.6235500574111938, 0.13620035350322723, 0.11917531490325928, 0.17025044560432434, 0.08512522280216217, 0.19578802585601807, 0.07661270350217819, 0.02553756721317768, 0.05107513442635536, 0.02553756721317768, 0.1106627956032753, 0.025123808532953262, 0.025123808532953262, 0.10049523413181305, 0.22611427307128906, 0.4019809365272522, 0.17586666345596313, 0.050247617065906525, 0.12494156509637833, 0.4997662603855133, 0.12494156509637833, 0.24988313019275665, 0.1033821702003479, 0.13784289360046387, 0.18953397870063782, 0.15507325530052185, 0.03446072340011597, 0.03446072340011597, 0.08615180850028992, 0.26707062125205994, 0.14675259590148926, 0.7826805114746094, 0.03533577919006348, 0.10600733757019043, 0.07067155838012695, 0.742051362991333, 0.4840695559978485, 0.06313950568437576, 0.23151153326034546, 0.10523251444101334, 0.08418601006269455, 0.04883701354265213, 0.06104626506567001, 0.2808128297328949, 0.32964983582496643, 0.10988327860832214, 0.12209253013134003, 0.012209253385663033, 0.03662775829434395, 0.012127943336963654, 0.43660596013069153, 0.012127943336963654, 0.048511773347854614, 0.048511773347854614, 0.048511773347854614, 0.09702354669570923, 0.30319860577583313, 0.3392803370952606, 0.038409095257520676, 0.06401515752077103, 0.07681819051504135, 0.11522728949785233, 0.14083334803581238, 0.0256060641258955, 0.08962122350931168, 0.09602274000644684, 0.006401516031473875, 0.060122426599264145, 0.012024485506117344, 0.08417139947414398, 0.024048971012234688, 0.25251418352127075, 0.48097941279411316, 0.060122426599264145, 0.012024485506117344, 0.027507051825523376, 0.1100282073020935, 0.5776481032371521, 0.24756348133087158, 0.027507051825523376, 0.11573729664087296, 0.0231474582105875, 0.21990086138248444, 0.167819082736969, 0.08680297434329987, 0.08680297434329987, 0.005786864552646875, 0.0231474582105875, 0.08680297434329987, 0.17939279973506927, 0.01725158467888832, 0.14663848280906677, 0.45716702938079834, 0.07763213664293289, 0.05175475776195526, 0.00862579233944416, 0.12938688695430756, 0.10350951552391052, 0.00862579233944416, 0.06389031559228897, 0.02555612474679947, 0.02555612474679947, 0.15333674848079681, 0.038334187120199203, 0.28111737966537476, 0.30667349696159363, 0.038334187120199203, 0.05111224949359894, 0.0288681760430336, 0.0577363520860672, 0.3752862811088562, 0.0866045281291008, 0.0577363520860672, 0.2886817753314972, 0.1443408876657486, 0.056634098291397095, 0.16990229487419128, 0.056634098291397095, 0.6796091794967651, 0.034236662089824677, 0.10270997881889343, 0.1369466483592987, 0.06847332417964935, 0.08559165149927139, 0.017118331044912338, 0.017118331044912338, 0.5135499238967896, 0.03397630527615547, 0.5775971412658691, 0.03397630527615547, 0.16988152265548706, 0.06795261055231094, 0.06795261055231094, 0.0713687464594841, 0.10705311596393585, 0.03568437322974205, 0.03568437322974205, 0.7136874198913574, 0.12532782554626465, 0.06266391277313232, 0.6266390681266785, 0.06266391277313232, 0.12532782554626465, 0.8803356289863586, 0.0419207438826561, 0.0419207438826561, 0.0419207438826561, 0.20682474970817566, 0.027576632797718048, 0.15167148411273956, 0.055153265595436096, 0.11030653119087219, 0.013788316398859024, 0.055153265595436096, 0.04136494919657707, 0.08962405472993851, 0.2550838589668274, 0.22788801789283752, 0.018378065899014473, 0.13967330753803253, 0.06248542666435242, 0.19113188982009888, 0.04778297245502472, 0.04043174535036087, 0.014702453278005123, 0.03308051824569702, 0.2242124080657959, 0.17567653954029083, 0.047911785542964935, 0.031941190361976624, 0.49508845806121826, 0.031941190361976624, 0.09582357108592987, 0.031941190361976624, 0.11179416626691818, 0.25688230991363525, 0.13010922074317932, 0.04003360494971275, 0.47373101115226746, 0.04336974024772644, 0.003336133901029825, 0.010008401237428188, 0.036697473376989365, 0.10492438077926636, 0.005522335879504681, 0.2761167883872986, 0.033134013414382935, 0.41969752311706543, 0.05522335693240166, 0.02761167846620083, 0.02761167846620083, 0.0497010238468647, 0.17536011338233948, 0.05845337361097336, 0.02922668680548668, 0.08768005669116974, 0.6137604117393494, 0.02289615385234356, 0.13737691938877106, 0.09158461540937424, 0.5495076775550842, 0.11448077112436295, 0.02289615385234356, 0.04579230770468712, 0.023231633007526398, 0.011615816503763199, 0.046463266015052795, 0.49948009848594666, 0.058079082518815994, 0.34847450256347656, 0.5507805943489075, 0.11973491311073303, 0.16762886941432953, 0.07184094935655594, 0.047893963754177094, 0.047893963754177094, 0.025959830731153488, 0.07787948846817017, 0.18171881139278412, 0.051919661462306976, 0.6230359077453613, 0.028124835342168808, 0.3374980390071869, 0.4218725264072418, 0.11249934136867523, 0.08437450975179672, 0.575938880443573, 0.16939379274845123, 0.10163627564907074, 0.03387875854969025, 0.135515034198761, 0.12856712937355042, 0.027550101280212402, 0.07346693426370621, 0.027550101280212402, 0.018366733565926552, 0.32141783833503723, 0.24795091152191162, 0.11020040512084961, 0.036733467131853104, 0.018366733565926552, 0.047291237860918045, 0.7566598057746887, 0.14187370240688324, 0.047291237860918045, 0.253479540348053, 0.0066705141216516495, 0.053364112973213196, 0.0667051374912262, 0.3268551826477051, 0.10005771368741989, 0.026682056486606598, 0.026682056486606598, 0.10005771368741989, 0.0400230847299099, 0.01235606987029314, 0.02471213974058628, 0.9514173865318298, 0.01639455370604992, 0.06557821482419968, 0.3114965260028839, 0.24591830372810364, 0.01639455370604992, 0.3114965260028839, 0.03231821954250336, 0.2262275516986847, 0.5170915126800537, 0.03231821954250336, 0.16159111261367798, 0.40740227699279785, 0.03703656792640686, 0.17283733189105988, 0.09876418858766556, 0.03703656792640686, 0.012345523573458195, 0.02469104714691639, 0.08641866594552994, 0.07407313585281372, 0.07407313585281372, 0.5678865909576416, 0.06309850513935089, 0.12619701027870178, 0.18929553031921387, 0.43643203377723694, 0.17457282543182373, 0.2618592381477356, 0.04629463702440262, 0.06172618269920349, 0.709851086139679, 0.015431545674800873, 0.030863091349601746, 0.030863091349601746, 0.015431545674800873, 0.030863091349601746, 0.04629463702440262, 0.5338265299797058, 0.16014795005321503, 0.10676530748605728, 0.05338265374302864, 0.10676530748605728, 0.016140887513756752, 0.09684532880783081, 0.32281777262687683, 0.032281775027513504, 0.30667686462402344, 0.032281775027513504, 0.032281775027513504, 0.16140888631343842, 0.02312234789133072, 0.18497878313064575, 0.02312234789133072, 0.4855692982673645, 0.2312234789133072, 0.02312234789133072, 0.07588648051023483, 0.025295492261648178, 0.2529549300670624, 0.025295492261648178, 0.15177296102046967, 0.050590984523296356, 0.2529549300670624, 0.050590984523296356, 0.1264774650335312, 0.030727745965123177, 0.06145549193024635, 0.1229109838604927, 0.30727747082710266, 0.27654972672462463, 0.15363873541355133, 0.06693410873413086, 0.06693410873413086, 0.3681375980377197, 0.10040116310119629, 0.40160465240478516, 0.11787521839141846, 0.35362565517425537, 0.19645869731903076, 0.19645869731903076, 0.11787521839141846, 0.7682976722717285, 0.08780544996261597, 0.10975681245326996, 0.02195136249065399, 0.06901734322309494, 0.10352601110935211, 0.41410404443740845, 0.06901734322309494, 0.241560697555542, 0.03450867161154747, 0.06901734322309494, 0.04198421910405159, 0.03210557624697685, 0.0024696597829461098, 0.06668081879615784, 0.012348298914730549, 0.45194774866104126, 0.12595264613628387, 0.06668081879615784, 0.049393195658922195, 0.15311890840530396, 0.032206688076257706, 0.032206688076257706, 0.016103344038128853, 0.016103344038128853, 0.6119270920753479, 0.032206688076257706, 0.11272341758012772, 0.12882675230503082, 0.08875777572393417, 0.08875777572393417, 0.57692551612854, 0.08875777572393417, 0.08875777572393417, 0.08875777572393417, 0.02147326059639454, 0.02147326059639454, 0.02147326059639454, 0.12883956730365753, 0.15031282603740692, 0.45093846321105957, 0.15031282603740692, 0.2036181092262268, 0.05817660316824913, 0.08726490288972855, 0.029088301584124565, 0.4072362184524536, 0.029088301584124565, 0.1745298057794571, 0.13938510417938232, 0.01742313802242279, 0.27005866169929504, 0.07840412855148315, 0.060980986803770065, 0.008711569011211395, 0.026134708896279335, 0.20907767117023468, 0.13938510417938232, 0.043557848781347275, 0.02317000925540924, 0.02317000925540924, 0.7877802848815918, 0.06951002776622772, 0.02317000925540924, 0.02317000925540924, 0.02317000925540924, 0.05024297907948494, 0.04019438102841377, 0.010048595257103443, 0.2512148916721344, 0.13063174486160278, 0.06029157340526581, 0.46223539113998413, 0.16001875698566437, 0.4800562560558319, 0.24002812802791595, 0.08000937849283218, 0.16656307876110077, 0.04164076969027519, 0.1145121157169342, 0.33312615752220154, 0.29148536920547485, 0.020820384845137596, 0.010410192422568798, 0.010410192422568798, 0.010410192422568798, 0.5883036255836487, 0.22878475487232208, 0.09805060923099518, 0.06536707282066345, 0.1623583287000656, 0.0405895821750164, 0.690022885799408, 0.0405895821750164, 0.0405895821750164, 0.03646521642804146, 0.07293043285608292, 0.546978235244751, 0.07293043285608292, 0.07293043285608292, 0.03646521642804146, 0.03646521642804146, 0.07293043285608292, 0.031001374125480652, 0.062002748250961304, 0.020667582750320435, 0.44435301423072815, 0.1860082447528839, 0.051668956875801086, 0.19634203612804413, 0.04491055756807327, 0.04491055756807327, 0.00898211169987917, 0.026946334168314934, 0.05389266833662987, 0.5479087829589844, 0.03592844679951668, 0.06287477910518646, 0.03592844679951668, 0.1437137871980667, 0.5798530578613281, 0.08283615857362747, 0.041418079286813736, 0.24850846827030182, 0.1300642043352127, 0.32516050338745117, 0.39019259810447693, 0.1300642043352127, 0.1390800029039383, 0.36160799860954285, 0.01390800066292286, 0.20166601240634918, 0.2294820100069046, 0.00695400033146143, 0.00695400033146143, 0.020862000063061714, 0.020862000063061714, 0.6826603412628174, 0.08031298220157623, 0.12046947330236435, 0.040156491100788116, 0.8266072869300842, 0.009959124028682709, 0.039836496114730835, 0.029877372086048126, 0.07967299222946167, 0.009959124028682709, 0.179902583360672, 0.6746346950531006, 0.089951291680336, 0.044975645840168, 0.3240053355693817, 0.054000891745090485, 0.10800178349018097, 0.054000891745090485, 0.3780062198638916, 0.054000891745090485, 0.32675856351852417, 0.07161831855773926, 0.3580915629863739, 0.031333014369010925, 0.017904579639434814, 0.1163797602057457, 0.05818988010287285, 0.013428433798253536, 0.11795740574598312, 0.07863827049732208, 0.07863827049732208, 0.3931913673877716, 0.03931913524866104, 0.31455308198928833, 0.18877577781677246, 0.3303576111793518, 0.023596972227096558, 0.11798486113548279, 0.07079091668128967, 0.25956669449806213, 0.03494579717516899, 0.157256081700325, 0.05241869390010834, 0.03494579717516899, 0.017472898587584496, 0.10483738780021667, 0.5766056180000305, 0.023585930466651917, 0.09434372186660767, 0.41275376081466675, 0.04717186093330383, 0.035378895699977875, 0.011792965233325958, 0.035378895699977875, 0.035378895699977875, 0.04717186093330383, 0.24765226244926453, 0.0619722455739975, 0.04820063337683678, 0.7780959606170654, 0.07574385404586792, 0.020657414570450783, 0.006885805167257786, 0.006949167232960463, 0.03474583849310875, 0.02779666893184185, 0.006949167232960463, 0.22932252287864685, 0.5489842295646667, 0.02084750309586525, 0.03474583849310875, 0.09033917635679245, 0.03338775783777237, 0.03338775783777237, 0.14189797639846802, 0.03338775783777237, 0.025040818378329277, 0.24206124246120453, 0.09181633591651917, 0.1585918515920639, 0.07512245327234268, 0.16693879663944244, 0.7867982983589172, 0.06052294373512268, 0.12104588747024536, 0.01513073593378067, 0.3735436201095581, 0.01167323812842369, 0.3852168321609497, 0.03501971438527107, 0.08949482440948486, 0.01167323812842369, 0.02334647625684738, 0.015564316883683205, 0.03112863376736641, 0.02334647625684738, 0.05393486097455025, 0.026967430487275124, 0.08090229332447052, 0.7820554971694946, 0.3626118302345276, 0.5439177751541138, 0.05685655400156975, 0.05685655400156975, 0.05685655400156975, 0.05685655400156975, 0.05685655400156975, 0.6254221200942993, 0.16739407181739807, 0.11159604787826538, 0.613778293132782, 0.05579802393913269, 0.05579802393913269, 0.09936823695898056, 0.13249097764492035, 0.06624548882246017, 0.016561372205615044, 0.496841162443161, 0.13249097764492035, 0.06624548882246017, 0.05529045686125755, 0.09478364139795303, 0.007898637093603611, 0.04739182069897652, 0.086885005235672, 0.06318909674882889, 0.14217546582221985, 0.03949318453669548, 0.031594548374414444, 0.43442502617836, 0.05972126126289368, 0.05972126126289368, 0.41804882884025574, 0.41804882884025574, 0.05972126126289368, 0.07421285659074783, 0.03710642829537392, 0.3562217056751251, 0.14842571318149567, 0.20037470757961273, 0.03710642829537392, 0.007421285379678011, 0.03710642829537392, 0.10389799624681473, 0.17456340789794922, 0.5236902236938477, 0.17456340789794922, 0.08728170394897461, 0.17566287517547607, 0.07528409361839294, 0.08783143758773804, 0.02509469725191593, 0.06273674219846725, 0.2885890305042267, 0.2634943127632141, 0.10444924235343933, 0.010994656942784786, 0.032983969897031784, 0.054973285645246506, 0.24188245832920074, 0.032983969897031784, 0.15392519533634186, 0.1429305374622345, 0.054973285645246506, 0.15942253172397614, 0.15589462220668793, 0.012991217896342278, 0.03897365555167198, 0.285806804895401, 0.3247804641723633, 0.09093853086233139, 0.012991217896342278, 0.05196487158536911, 0.012991217896342278, 0.01875840127468109, 0.8066112399101257, 0.01875840127468109, 0.01875840127468109, 0.11255040764808655, 0.034968603402376175, 0.0233124028891325, 0.26809263229370117, 0.0233124028891325, 0.12821821868419647, 0.4079670310020447, 0.0233124028891325, 0.01165620144456625, 0.06993720680475235, 0.09980232268571854, 0.04990116134285927, 0.6986162662506104, 0.04990116134285927, 0.08172692358493805, 0.040863461792469025, 0.8581327199935913, 0.5656823515892029, 0.31426799297332764, 0.1540919840335846, 0.07804659008979797, 0.23213857412338257, 0.15609318017959595, 0.1280764490365982, 0.024014335125684738, 0.0060035837814211845, 0.034020308405160904, 0.05603344738483429, 0.13007764518260956, 0.07040804624557495, 0.35204023122787476, 0.49285632371902466, 0.08955557644367218, 0.03358334302902222, 0.1231389194726944, 0.23508340120315552, 0.10075002908706665, 0.011194447055459023, 0.011194447055459023, 0.21269449591636658, 0.19030560553073883, 0.17275138199329376, 0.02467876859009266, 0.02467876859009266, 0.08637569099664688, 0.04935753718018532, 0.1357332319021225, 0.2961452305316925, 0.20976953208446503, 0.16830439865589142, 0.6732175946235657, 0.08415219932794571, 0.16682030260562897, 0.05004609003663063, 0.1906517744064331, 0.0929427444934845, 0.2788282334804535, 0.11439106613397598, 0.002383147133514285, 0.02621462009847164, 0.00953258853405714, 0.0667281225323677, 0.039887938648462296, 0.11966381967067719, 0.7578708529472351, 0.07215883582830429, 0.09621177613735199, 0.7937471866607666, 0.8913471102714539, 0.059423141181468964, 0.02241375297307968, 0.8965501189231873, 0.04482750594615936, 0.6597629189491272, 0.11474137753248215, 0.14342671632766724, 0.028685344383120537, 0.057370688766241074, 0.20739057660102844, 0.02468935400247574, 0.23701779544353485, 0.05925444886088371, 0.07406806200742722, 0.034565094858407974, 0.06419232487678528, 0.02468935400247574, 0.17282548546791077, 0.10369528830051422, 0.9364310503005981, 0.2641533315181732, 0.01288552861660719, 0.06442764401435852, 0.13529805839061737, 0.02577105723321438, 0.06442764401435852, 0.019328294321894646, 0.11596976220607758, 0.11596976220607758, 0.1803974062204361, 0.22324028611183167, 0.11162014305591583, 0.18603357672691345, 0.14882685244083405, 0.11162014305591583, 0.14882685244083405, 0.8191412091255188, 0.03900672495365143, 0.07801344990730286, 0.09297867119312286, 0.5888649225234985, 0.06198577955365181, 0.030992889776825905, 0.18595734238624573, 0.1260967254638672, 0.2521934509277344, 0.0315241813659668, 0.0315241813659668, 0.1260967254638672, 0.31524181365966797, 0.09457254409790039, 0.32280001044273376, 0.05380000174045563, 0.10760000348091125, 0.48420000076293945, 0.01673698052763939, 0.451898455619812, 0.01673698052763939, 0.41842448711395264, 0.03347396105527878, 0.03347396105527878, 0.03347396105527878, 0.039199098944664, 0.039199098944664, 0.7447829246520996, 0.039199098944664, 0.039199098944664, 0.039199098944664, 0.09491979330778122, 0.07593583315610886, 0.13288770616054535, 0.009491979144513607, 0.018983958289027214, 0.4840909540653229, 0.18983958661556244, 0.08442024141550064, 0.16884048283100128, 0.6753619313240051, 0.04221012070775032, 0.8489029407501221, 0.08084789663553238, 0.4340590536594391, 0.08681181073188782, 0.34724724292755127, 0.0677952915430069, 0.0677952915430069, 0.0677952915430069, 0.1355905830860138, 0.5423623323440552, 0.0677952915430069, 0.5506836175918579, 0.27534180879592896, 0.020661601796746254, 0.030992403626441956, 0.020661601796746254, 0.010330800898373127, 0.11363881081342697, 0.08264640718698502, 0.13430041074752808, 0.030992403626441956, 0.5578632950782776, 0.11060095578432083, 0.04424038156867027, 0.6193653345108032, 0.06636057794094086, 0.1327211558818817, 0.07366582751274109, 0.8103241324424744, 0.16827166080474854, 0.02714059129357338, 0.1845560222864151, 0.04342494532465935, 0.20084036886692047, 0.059709299355745316, 0.15198731422424316, 0.032568708062171936, 0.08142177015542984, 0.05428118258714676, 0.06848107278347015, 0.06848107278347015, 0.1369621455669403, 0.6848107576370239, 0.5110104084014893, 0.019405459985136986, 0.14877519011497498, 0.051747892051935196, 0.14877519011497498, 0.045279406011104584, 0.03234243020415306, 0.012936973012983799, 0.019405459985136986, 0.012936973012983799, 0.5870901942253113, 0.12580503523349762, 0.04193501174449921, 0.20967505872249603, 0.5738571286201477, 0.35524487495422363, 0.01366326492279768, 0.040989793837070465, 0.01366326492279768, 0.01366326492279768, 0.08385173231363297, 0.6708138585090637, 0.16770346462726593, 0.035079456865787506, 0.035079456865787506, 0.21047672629356384, 0.035079456865787506, 0.07015891373157501, 0.10523836314678192, 0.3858740031719208, 0.10523836314678192, 0.6866855621337891, 0.08078653365373611, 0.08078653365373611, 0.08078653365373611, 0.08078653365373611, 0.2259918749332428, 0.6163414716720581, 0.10272357612848282, 0.020544715225696564, 0.08110655099153519, 0.12165983021259308, 0.08110655099153519, 0.40553274750709534, 0.04055327549576759, 0.04055327549576759, 0.08110655099153519, 0.04055327549576759, 0.08110655099153519, 0.7427600622177124, 0.20257093012332916, 0.07768227159976959, 0.23304682970046997, 0.15536454319953918, 0.038841135799884796, 0.5049347877502441, 0.038841135799884796, 0.05215812474489212, 0.31294873356819153, 0.1251794993877411, 0.31294873356819153, 0.15647436678409576, 0.041726499795913696, 0.4929666519165039, 0.13021761178970337, 0.20462766289710999, 0.14882011711597443, 0.018602514639496803, 0.8575924634933472, 0.030628303065896034, 0.030628303065896034, 0.030628303065896034, 0.2630922198295593, 0.08769740909337997, 0.08769740909337997, 0.08769740909337997, 0.3507896363735199, 0.08769740909337997, 0.9066594839096069, 0.05439956858754158, 0.03626637905836105, 0.11121413111686707, 0.05560706555843353, 0.6116777062416077, 0.1668211966753006, 0.05560706555843353, 0.07745552062988281, 0.005532537121325731, 0.23236656188964844, 0.08298805356025696, 0.13278089463710785, 0.05532537028193474, 0.07192298024892807, 0.022130148485302925, 0.16597610712051392, 0.15491104125976562, 0.31638258695602417, 0.27683475613594055, 0.11864347010850906, 0.11864347010850906, 0.15819129347801208, 0.07969019562005997, 0.023438293486833572, 0.13594210147857666, 0.07500253617763519, 0.16875571012496948, 0.11250381171703339, 0.11719147115945816, 0.03281361237168312, 0.13125444948673248, 0.12187912315130234], \"Term\": [\"%\", \"%\", \"%\", \"%\", \"%\", \"%\", \"%\", \"%\", \"%\", \"-\", \"-\", \"-\", \"-\", \"-\", \"-\", \"-\", \"-\", \"-\", \"-\", \"academic\", \"academic\", \"academic\", \"academic\", \"academic\", \"academic\", \"access\", \"access\", \"access\", \"access\", \"access\", \"access\", \"access\", \"access\", \"access\", \"access\", \"accident\", \"accident\", \"accident\", \"account\", \"account\", \"account\", \"account\", \"account\", \"account\", \"achievement\", \"achievement\", \"achievement\", \"achievement\", \"activity\", \"activity\", \"activity\", \"activity\", \"activity\", \"activity\", \"activity\", \"activity\", \"activity\", \"activity\", \"actor\", \"actor\", \"actor\", \"actor\", \"actor\", \"adaptation\", \"adaptation\", \"adaptation\", \"adaptation\", \"adaptation\", \"adaptation\", \"additionally\", \"additionally\", \"additionally\", \"additionally\", \"additionally\", \"additionally\", \"adequate\", \"adequate\", \"adequate\", \"adoption\", \"adoption\", \"adoption\", \"adult\", \"adult\", \"adult\", \"affordable\", \"affordable\", \"affordable\", \"affordable\", \"affordable\", \"aircraft\", \"aircraft\", \"aircraft\", \"aircraft\", \"aircraft\", \"analysis\", \"analysis\", \"analysis\", \"analysis\", \"analysis\", \"analysis\", \"analysis\", \"analysis\", \"analysis\", \"analysis\", \"analytic\", \"analytic\", \"analytic\", \"analytic\", \"answer\", \"answer\", \"answer\", \"answer\", \"application\", \"application\", \"application\", \"application\", \"application\", \"application\", \"application\", \"application\", \"application\", \"application\", \"approach\", \"approach\", \"approach\", \"approach\", \"approach\", \"approach\", \"approach\", \"approach\", \"approach\", \"approach\", \"approximately\", \"approximately\", \"approximately\", \"approximately\", \"area\", \"area\", \"area\", \"area\", \"area\", \"area\", \"area\", \"area\", \"area\", \"area\", \"artificial\", \"artificial\", \"artificial\", \"artificial\", \"assembly\", \"assembly\", \"assembly\", \"assembly\", \"asset\", \"asset\", \"asset\", \"atmospheric\", \"atmospheric\", \"atmospheric\", \"authority\", \"authority\", \"authority\", \"authority\", \"authority\", \"automatic\", \"automatic\", \"automatic\", \"automatic\", \"automatic\", \"automotive\", \"automotive\", \"automotive\", \"automotive\", \"autonomous\", \"autonomous\", \"autonomous\", \"autonomous\", \"autonomous\", \"awareness\", \"awareness\", \"awareness\", \"awareness\", \"awareness\", \"awareness\", \"basic\", \"basic\", \"basic\", \"basic\", \"behavior\", \"behavior\", \"beneficial\", \"beneficial\", \"bio\", \"bio\", \"bio\", \"bio\", \"bio\", \"biological\", \"biological\", \"biological\", \"biological\", \"biological\", \"biology\", \"biology\", \"biology\", \"biology\", \"biomedical\", \"biomedical\", \"biomedical\", \"block\", \"block\", \"block\", \"block\", \"block\", \"blood\", \"blood\", \"board\", \"board\", \"board\", \"board\", \"board\", \"board\", \"board\", \"brain\", \"brain\", \"brain\", \"brain\", \"brain\", \"breakthrough\", \"breakthrough\", \"breakthrough\", \"breakthrough\", \"breakthrough\", \"building\", \"building\", \"building\", \"building\", \"building\", \"building\", \"building\", \"building\", \"burden\", \"burden\", \"burden\", \"business\", \"business\", \"business\", \"business\", \"business\", \"business\", \"business\", \"business\", \"cancer\", \"cancer\", \"cancer\", \"capability\", \"capability\", \"capability\", \"capability\", \"capability\", \"capability\", \"capability\", \"capability\", \"capability\", \"capacity\", \"capacity\", \"capacity\", \"capacity\", \"capacity\", \"capacity\", \"capacity\", \"capacity\", \"capacity\", \"capacity\", \"capital\", \"capital\", \"capital\", \"capital\", \"car\", \"car\", \"car\", \"car\", \"car\", \"care\", \"care\", \"care\", \"care\", \"care\", \"care\", \"care\", \"care\", \"cause\", \"cause\", \"cause\", \"cause\", \"cell\", \"cell\", \"cell\", \"cell\", \"cell\", \"cell\", \"century\", \"century\", \"century\", \"chain\", \"chain\", \"chain\", \"chain\", \"chain\", \"chain\", \"chain\", \"challenge\", \"challenge\", \"challenge\", \"challenge\", \"challenge\", \"challenge\", \"challenge\", \"challenge\", \"challenge\", \"challenge\", \"change\", \"change\", \"change\", \"change\", \"change\", \"change\", \"change\", \"change\", \"channel\", \"channel\", \"channel\", \"channel\", \"channel\", \"channel\", \"channel\", \"characteristic\", \"characteristic\", \"characteristic\", \"characteristic\", \"characteristic\", \"characteristic\", \"chemical\", \"chemical\", \"chemical\", \"chemical\", \"citizen\", \"citizen\", \"citizen\", \"citizen\", \"citizen\", \"citizen\", \"citizen\", \"city\", \"city\", \"city\", \"city\", \"city\", \"clean\", \"clean\", \"clean\", \"clinical\", \"clinical\", \"clinical\", \"clinical\", \"clinical\", \"clinical\", \"cloud\", \"cloud\", \"co2\", \"co2\", \"co2\", \"co2\", \"co2\", \"cognitive\", \"cognitive\", \"cognitive\", \"cognitive\", \"collaboration\", \"collaboration\", \"collaboration\", \"collaboration\", \"collaboration\", \"collaboration\", \"collaboration\", \"collaboration\", \"collaboration\", \"collaborative\", \"collaborative\", \"collaborative\", \"collaborative\", \"collaborative\", \"collection\", \"collection\", \"collection\", \"collection\", \"collection\", \"commercialisation\", \"commercialisation\", \"commercialisation\", \"commercialisation\", \"commission\", \"commission\", \"commission\", \"commission\", \"commission\", \"communication\", \"communication\", \"communication\", \"communication\", \"communication\", \"communication\", \"communication\", \"communication\", \"communication\", \"community\", \"community\", \"community\", \"community\", \"community\", \"community\", \"community\", \"community\", \"community\", \"community\", \"company\", \"company\", \"company\", \"company\", \"company\", \"company\", \"company\", \"company\", \"compliance\", \"compliance\", \"compliance\", \"compliance\", \"composition\", \"compound\", \"compound\", \"compound\", \"compound\", \"compound\", \"computing\", \"computing\", \"computing\", \"concrete\", \"concrete\", \"concrete\", \"concrete\", \"condition\", \"condition\", \"condition\", \"condition\", \"condition\", \"condition\", \"condition\", \"condition\", \"condition\", \"connectivity\", \"connectivity\", \"connectivity\", \"consequence\", \"consequence\", \"consequence\", \"consequence\", \"consequence\", \"consequence\", \"consequence\", \"consequence\", \"conservation\", \"conservation\", \"conservation\", \"conservation\", \"consortium\", \"consortium\", \"consortium\", \"consortium\", \"consortium\", \"consortium\", \"consortium\", \"consortium\", \"consortium\", \"consumer\", \"consumer\", \"consumer\", \"consumer\", \"consumer\", \"consumer\", \"consumption\", \"consumption\", \"consumption\", \"consumption\", \"consumption\", \"contemporary\", \"contemporary\", \"contemporary\", \"control\", \"control\", \"control\", \"control\", \"control\", \"control\", \"control\", \"control\", \"control\", \"control\", \"cooperation\", \"cost\", \"cost\", \"cost\", \"cost\", \"cost\", \"cost\", \"cost\", \"cost\", \"cost\", \"country\", \"country\", \"country\", \"country\", \"country\", \"country\", \"country\", \"country\", \"country\", \"cross\", \"cross\", \"cross\", \"cross\", \"cross\", \"cross\", \"cross\", \"cross\", \"cultural\", \"cultural\", \"cultural\", \"current\", \"current\", \"current\", \"current\", \"current\", \"current\", \"current\", \"current\", \"current\", \"current\", \"customer\", \"customer\", \"customer\", \"customer\", \"data\", \"data\", \"data\", \"data\", \"data\", \"data\", \"data\", \"datum\", \"datum\", \"datum\", \"datum\", \"datum\", \"datum\", \"datum\", \"datum\", \"datum\", \"datum\", \"death\", \"death\", \"death\", \"death\", \"debate\", \"debate\", \"debate\", \"debate\", \"debate\", \"definition\", \"definition\", \"definition\", \"definition\", \"demonstrator\", \"demonstrator\", \"demonstrator\", \"demonstrator\", \"demonstrator\", \"demonstrator\", \"demonstrator\", \"depth\", \"depth\", \"depth\", \"depth\", \"depth\", \"depth\", \"design\", \"design\", \"design\", \"design\", \"design\", \"design\", \"design\", \"design\", \"design\", \"detection\", \"detection\", \"detection\", \"detection\", \"detection\", \"detection\", \"detection\", \"detection\", \"development\", \"development\", \"development\", \"development\", \"development\", \"development\", \"development\", \"development\", \"development\", \"development\", \"device\", \"device\", \"device\", \"device\", \"device\", \"device\", \"device\", \"device\", \"device\", \"diagnosis\", \"diagnosis\", \"diagnostic\", \"diagnostic\", \"diagnostic\", \"different\", \"different\", \"different\", \"different\", \"different\", \"different\", \"different\", \"different\", \"different\", \"different\", \"digital\", \"digital\", \"digital\", \"digital\", \"digital\", \"disability\", \"disability\", \"disease\", \"disease\", \"disease\", \"disease\", \"disease\", \"disease\", \"disorder\", \"disorder\", \"disorder\", \"disorder\", \"disposal\", \"disposal\", \"disposal\", \"disposal\", \"driver\", \"driver\", \"driver\", \"driver\", \"drug\", \"drug\", \"drug\", \"drug\", \"dynamic\", \"dynamic\", \"dynamic\", \"dynamic\", \"dynamic\", \"dynamic\", \"dynamic\", \"early\", \"early\", \"early\", \"early\", \"early\", \"early\", \"early\", \"economy\", \"economy\", \"economy\", \"economy\", \"economy\", \"economy\", \"education\", \"education\", \"education\", \"effect\", \"effect\", \"effect\", \"effect\", \"effect\", \"effect\", \"effect\", \"effect\", \"effect\", \"effectiveness\", \"effectiveness\", \"effectiveness\", \"effectiveness\", \"effectiveness\", \"effectiveness\", \"efficacy\", \"efficacy\", \"efficacy\", \"efficacy\", \"efficacy\", \"efficacy\", \"efficiency\", \"efficiency\", \"efficiency\", \"efficiency\", \"efficiency\", \"efficiency\", \"efficiency\", \"electric\", \"electric\", \"electric\", \"electrical\", \"electrical\", \"electrical\", \"electricity\", \"electricity\", \"electron\", \"electron\", \"electronic\", \"electronic\", \"electronic\", \"electronic\", \"electronic\", \"emission\", \"emission\", \"emission\", \"emission\", \"emission\", \"energy\", \"energy\", \"energy\", \"energy\", \"energy\", \"energy\", \"energy\", \"energy\", \"engagement\", \"engagement\", \"engagement\", \"engagement\", \"engagement\", \"engine\", \"engine\", \"engine\", \"engine\", \"enterprise\", \"enterprise\", \"enterprise\", \"enterprise\", \"entity\", \"entity\", \"entity\", \"entity\", \"entity\", \"eu\", \"eu\", \"eu\", \"eu\", \"eu\", \"eu\", \"eu\", \"eu\", \"eu\", \"eu\", \"europe\", \"europe\", \"europe\", \"europe\", \"europe\", \"europe\", \"europe\", \"europe\", \"europe\", \"european\", \"european\", \"european\", \"european\", \"european\", \"european\", \"european\", \"european\", \"european\", \"european\", \"evaluation\", \"evaluation\", \"evaluation\", \"evaluation\", \"evaluation\", \"evaluation\", \"evaluation\", \"event\", \"event\", \"event\", \"event\", \"event\", \"event\", \"event\", \"event\", \"event\", \"evolution\", \"evolution\", \"evolution\", \"evolution\", \"evolution\", \"excellence\", \"excellence\", \"excellence\", \"excellence\", \"exchange\", \"exchange\", \"exchange\", \"exchange\", \"exchange\", \"experimental\", \"experimental\", \"experimental\", \"experimental\", \"experimental\", \"expertise\", \"expertise\", \"expertise\", \"expertise\", \"expertise\", \"expertise\", \"expertise\", \"expertise\", \"expression\", \"expression\", \"family\", \"family\", \"family\", \"family\", \"family\", \"farmer\", \"farmer\", \"farmer\", \"farmer\", \"feasibility\", \"feasibility\", \"feasibility\", \"feasibility\", \"feasibility\", \"feasibility\", \"field\", \"field\", \"field\", \"field\", \"field\", \"field\", \"field\", \"field\", \"field\", \"field\", \"food\", \"food\", \"food\", \"food\", \"food\", \"footprint\", \"footprint\", \"footprint\", \"footprint\", \"formation\", \"formation\", \"formation\", \"formation\", \"forum\", \"forum\", \"forum\", \"forum\", \"fossil\", \"fossil\", \"fossil\", \"fossil\", \"frequency\", \"frequency\", \"frequency\", \"frequency\", \"frequency\", \"fuel\", \"fuel\", \"fuel\", \"fuel\", \"function\", \"function\", \"function\", \"function\", \"function\", \"function\", \"function\", \"fundamental\", \"fundamental\", \"fundamental\", \"fundamental\", \"fundamental\", \"fundamental\", \"funding\", \"funding\", \"funding\", \"gas\", \"gas\", \"gas\", \"gas\", \"gas\", \"gene\", \"gene\", \"general\", \"general\", \"general\", \"general\", \"general\", \"general\", \"general\", \"general\", \"general\", \"genetic\", \"genetic\", \"genetic\", \"global\", \"global\", \"global\", \"global\", \"global\", \"global\", \"global\", \"global\", \"global\", \"global\", \"governance\", \"governance\", \"governance\", \"governance\", \"government\", \"government\", \"government\", \"government\", \"greenhouse\", \"greenhouse\", \"grid\", \"grid\", \"grid\", \"grid\", \"grid\", \"h2020\", \"h2020\", \"h2020\", \"hardware\", \"hardware\", \"hardware\", \"harmful\", \"harmful\", \"harmful\", \"harmful\", \"harmful\", \"health\", \"health\", \"health\", \"health\", \"health\", \"health\", \"health\", \"health\", \"health\", \"health\", \"high\", \"high\", \"high\", \"high\", \"high\", \"high\", \"high\", \"high\", \"high\", \"high\", \"horizon\", \"horizon\", \"horizon\", \"horizon\", \"horizon\", \"horizon\", \"horizon\", \"human\", \"human\", \"human\", \"human\", \"human\", \"human\", \"human\", \"human\", \"human\", \"human\", \"hypothesis\", \"hypothesis\", \"ict\", \"ict\", \"ict\", \"ict\", \"ict\", \"ict\", \"idea\", \"idea\", \"idea\", \"idea\", \"idea\", \"idea\", \"image\", \"image\", \"image\", \"image\", \"image\", \"imaging\", \"imaging\", \"imaging\", \"imaging\", \"impact\", \"impact\", \"impact\", \"impact\", \"impact\", \"impact\", \"impact\", \"impact\", \"impact\", \"impact\", \"implication\", \"implication\", \"implication\", \"implication\", \"implication\", \"important\", \"important\", \"important\", \"important\", \"important\", \"important\", \"important\", \"important\", \"important\", \"important\", \"incidence\", \"incidence\", \"incidence\", \"incidence\", \"industrial\", \"industrial\", \"industrial\", \"industrial\", \"industrial\", \"industrial\", \"industrial\", \"industrial\", \"industry\", \"industry\", \"industry\", \"industry\", \"industry\", \"industry\", \"industry\", \"industry\", \"industry\", \"infection\", \"infection\", \"infection\", \"information\", \"information\", \"information\", \"information\", \"information\", \"information\", \"information\", \"information\", \"information\", \"information\", \"infrastructure\", \"infrastructure\", \"infrastructure\", \"infrastructure\", \"infrastructure\", \"infrastructure\", \"infrastructure\", \"infrastructure\", \"innovation\", \"innovation\", \"innovation\", \"innovation\", \"innovation\", \"innovation\", \"innovation\", \"innovation\", \"innovative\", \"innovative\", \"innovative\", \"innovative\", \"innovative\", \"innovative\", \"innovative\", \"innovative\", \"innovative\", \"installation\", \"installation\", \"instance\", \"instance\", \"instance\", \"institute\", \"institute\", \"institute\", \"institution\", \"institution\", \"institution\", \"institution\", \"institution\", \"institution\", \"instrument\", \"instrument\", \"instrument\", \"instrument\", \"instrument\", \"instrument\", \"instrument\", \"instrument\", \"intelligent\", \"intelligent\", \"intelligent\", \"interaction\", \"interaction\", \"interaction\", \"interaction\", \"interaction\", \"interaction\", \"interaction\", \"international\", \"international\", \"international\", \"international\", \"international\", \"international\", \"internet\", \"internet\", \"internet\", \"internet\", \"invasive\", \"invasive\", \"invasive\", \"investigation\", \"investigation\", \"investigation\", \"investigation\", \"investment\", \"investment\", \"investment\", \"investment\", \"investment\", \"iot\", \"iot\", \"issue\", \"issue\", \"issue\", \"issue\", \"issue\", \"issue\", \"issue\", \"issue\", \"issue\", \"issue\", \"italian\", \"italian\", \"italian\", \"italian\", \"italian\", \"joint\", \"joint\", \"joint\", \"joint\", \"joint\", \"joint\", \"key\", \"key\", \"key\", \"key\", \"key\", \"key\", \"key\", \"key\", \"key\", \"key\", \"knowledge\", \"knowledge\", \"knowledge\", \"knowledge\", \"knowledge\", \"knowledge\", \"knowledge\", \"knowledge\", \"knowledge\", \"land\", \"land\", \"land\", \"language\", \"language\", \"language\", \"language\", \"language\", \"language\", \"large\", \"large\", \"large\", \"large\", \"large\", \"large\", \"large\", \"large\", \"large\", \"large\", \"late\", \"late\", \"late\", \"late\", \"late\", \"launch\", \"launch\", \"launch\", \"launch\", \"level\", \"level\", \"level\", \"level\", \"level\", \"level\", \"level\", \"level\", \"level\", \"level\", \"light\", \"light\", \"light\", \"light\", \"light\", \"light\", \"liquid\", \"liquid\", \"liquid\", \"liquid\", \"liquid\", \"literature\", \"literature\", \"literature\", \"literature\", \"load\", \"load\", \"load\", \"load\", \"local\", \"local\", \"local\", \"local\", \"local\", \"local\", \"local\", \"local\", \"low\", \"low\", \"low\", \"low\", \"low\", \"low\", \"low\", \"low\", \"low\", \"low\", \"maintenance\", \"maintenance\", \"maintenance\", \"maintenance\", \"maintenance\", \"maker\", \"maker\", \"maker\", \"maker\", \"maker\", \"management\", \"management\", \"management\", \"management\", \"management\", \"management\", \"management\", \"management\", \"management\", \"management\", \"manager\", \"manager\", \"manager\", \"manager\", \"manager\", \"manufacturing\", \"manufacturing\", \"manufacturing\", \"manufacturing\", \"manufacturing\", \"manufacturing\", \"market\", \"market\", \"market\", \"market\", \"market\", \"market\", \"market\", \"market\", \"market\", \"market\", \"material\", \"material\", \"material\", \"material\", \"material\", \"material\", \"material\", \"material\", \"material\", \"mathematical\", \"mathematical\", \"mechanical\", \"mechanical\", \"mechanical\", \"mechanical\", \"mechanism\", \"mechanism\", \"mechanism\", \"mechanism\", \"mechanism\", \"mechanism\", \"mechanism\", \"mechanism\", \"mechanism\", \"medical\", \"medical\", \"medical\", \"medical\", \"medical\", \"medical\", \"medicine\", \"medicine\", \"medicine\", \"medicine\", \"member\", \"member\", \"member\", \"member\", \"member\", \"memory\", \"memory\", \"memory\", \"memory\", \"memory\", \"metal\", \"metal\", \"metal\", \"method\", \"method\", \"method\", \"method\", \"method\", \"method\", \"method\", \"method\", \"method\", \"method\", \"mind\", \"mind\", \"mind\", \"mind\", \"mind\", \"mind\", \"mobile\", \"mobile\", \"mobile\", \"mobile\", \"mobile\", \"model\", \"model\", \"model\", \"model\", \"model\", \"model\", \"model\", \"model\", \"model\", \"model\", \"molecular\", \"molecular\", \"molecular\", \"molecular\", \"molecule\", \"molecule\", \"molecule\", \"moment\", \"moment\", \"moment\", \"moment\", \"mortality\", \"mortality\", \"movement\", \"movement\", \"movement\", \"movement\", \"multidisciplinary\", \"multidisciplinary\", \"multidisciplinary\", \"nano\", \"nano\", \"nano\", \"nano\", \"nano\", \"natural\", \"natural\", \"natural\", \"natural\", \"natural\", \"natural\", \"natural\", \"natural\", \"nature\", \"nature\", \"nature\", \"nature\", \"nature\", \"nature\", \"nature\", \"need\", \"need\", \"need\", \"need\", \"need\", \"need\", \"need\", \"need\", \"need\", \"network\", \"network\", \"network\", \"network\", \"network\", \"network\", \"network\", \"network\", \"network\", \"network\", \"new\", \"new\", \"new\", \"new\", \"new\", \"new\", \"new\", \"new\", \"new\", \"new\", \"noise\", \"noise\", \"noise\", \"noise\", \"non\", \"non\", \"non\", \"non\", \"non\", \"non\", \"non\", \"non\", \"novel\", \"novel\", \"novel\", \"novel\", \"novel\", \"novel\", \"novel\", \"novel\", \"novel\", \"novel\", \"numerical\", \"numerical\", \"numerical\", \"numerical\", \"objective\", \"objective\", \"objective\", \"objective\", \"objective\", \"objective\", \"objective\", \"objective\", \"objective\", \"objective\", \"observation\", \"observation\", \"observation\", \"observation\", \"observation\", \"observation\", \"old\", \"old\", \"old\", \"old\", \"old\", \"old\", \"old\", \"operation\", \"operation\", \"operation\", \"operation\", \"operation\", \"operation\", \"operation\", \"operation\", \"optical\", \"optical\", \"optical\", \"optical\", \"optical\", \"organic\", \"organic\", \"organism\", \"organism\", \"organism\", \"packaging\", \"packaging\", \"packaging\", \"packaging\", \"parallel\", \"parallel\", \"parallel\", \"parallel\", \"parallel\", \"parallel\", \"part\", \"part\", \"part\", \"part\", \"part\", \"part\", \"part\", \"participation\", \"participation\", \"participation\", \"participation\", \"particle\", \"particle\", \"particle\", \"partner\", \"partner\", \"partner\", \"partner\", \"partner\", \"partner\", \"partner\", \"partner\", \"partner\", \"partnership\", \"partnership\", \"patent\", \"patent\", \"patent\", \"patent\", \"patient\", \"patient\", \"patient\", \"patient\", \"patient\", \"patient\", \"patient\", \"penetration\", \"penetration\", \"people\", \"people\", \"people\", \"people\", \"people\", \"people\", \"people\", \"people\", \"people\", \"people\", \"perception\", \"perception\", \"perception\", \"perception\", \"perception\", \"performance\", \"performance\", \"performance\", \"performance\", \"performance\", \"performance\", \"performance\", \"performance\", \"performance\", \"performance\", \"perspective\", \"perspective\", \"perspective\", \"perspective\", \"perspective\", \"perspective\", \"perspective\", \"pharmaceutical\", \"pharmaceutical\", \"pharmaceutical\", \"pharmaceutical\", \"phase\", \"phase\", \"phase\", \"phase\", \"phase\", \"phase\", \"phase\", \"phase\", \"phenomenon\", \"phenomenon\", \"physics\", \"physics\", \"physics\", \"physics\", \"pilot\", \"pilot\", \"pilot\", \"pilot\", \"pilot\", \"plan\", \"plan\", \"plan\", \"plan\", \"plan\", \"plan\", \"plan\", \"plan\", \"plant\", \"plant\", \"plant\", \"plant\", \"plant\", \"plant\", \"plant\", \"plant\", \"platform\", \"platform\", \"platform\", \"platform\", \"platform\", \"platform\", \"platform\", \"platform\", \"platform\", \"platform\", \"policy\", \"policy\", \"policy\", \"policy\", \"policy\", \"policy\", \"policy\", \"policy\", \"political\", \"political\", \"political\", \"political\", \"political\", \"potential\", \"potential\", \"potential\", \"potential\", \"potential\", \"potential\", \"potential\", \"potential\", \"potential\", \"potential\", \"power\", \"power\", \"power\", \"power\", \"power\", \"power\", \"power\", \"power\", \"power\", \"practice\", \"practice\", \"practice\", \"practice\", \"practice\", \"practice\", \"practice\", \"practice\", \"practice\", \"pre\", \"pre\", \"pre\", \"pre\", \"pre\", \"pre\", \"pre\", \"presence\", \"presence\", \"presence\", \"presence\", \"pressure\", \"pressure\", \"pressure\", \"pressure\", \"pressure\", \"pressure\", \"pressure\", \"pressure\", \"price\", \"price\", \"price\", \"price\", \"price\", \"price\", \"principle\", \"principle\", \"principle\", \"principle\", \"principle\", \"priority\", \"priority\", \"priority\", \"priority\", \"priority\", \"privacy\", \"privacy\", \"privacy\", \"privacy\", \"problem\", \"problem\", \"problem\", \"problem\", \"problem\", \"problem\", \"problem\", \"problem\", \"problem\", \"problem\", \"process\", \"process\", \"process\", \"process\", \"process\", \"process\", \"process\", \"process\", \"process\", \"process\", \"processing\", \"processing\", \"processing\", \"processing\", \"processing\", \"processing\", \"processing\", \"processing\", \"product\", \"product\", \"product\", \"product\", \"product\", \"product\", \"product\", \"product\", \"production\", \"production\", \"production\", \"production\", \"production\", \"production\", \"production\", \"production\", \"production\", \"professional\", \"professional\", \"professional\", \"professional\", \"professional\", \"programme\", \"programme\", \"programme\", \"programme\", \"programme\", \"programme\", \"programme\", \"property\", \"property\", \"property\", \"property\", \"property\", \"property\", \"protection\", \"protection\", \"protection\", \"protection\", \"protection\", \"protection\", \"protein\", \"protein\", \"protein\", \"protein\", \"protein\", \"prototype\", \"prototype\", \"prototype\", \"prototype\", \"prototype\", \"provider\", \"provider\", \"provider\", \"provider\", \"provider\", \"public\", \"public\", \"public\", \"public\", \"public\", \"public\", \"public\", \"public\", \"public\", \"public\", \"publication\", \"publication\", \"publication\", \"publication\", \"quality\", \"quality\", \"quality\", \"quality\", \"quality\", \"quality\", \"quality\", \"quality\", \"quality\", \"quality\", \"quantum\", \"quantum\", \"quantum\", \"question\", \"question\", \"question\", \"question\", \"question\", \"question\", \"raw\", \"raw\", \"raw\", \"raw\", \"raw\", \"real\", \"real\", \"real\", \"real\", \"real\", \"real\", \"real\", \"real\", \"real\", \"real\", \"reality\", \"reality\", \"reality\", \"reality\", \"realization\", \"realization\", \"realization\", \"reduction\", \"reduction\", \"reduction\", \"reduction\", \"reduction\", \"reduction\", \"reduction\", \"reduction\", \"reduction\", \"reference\", \"reference\", \"reference\", \"reference\", \"reference\", \"region\", \"region\", \"region\", \"region\", \"region\", \"region\", \"region\", \"region\", \"regional\", \"regional\", \"regional\", \"regional\", \"regional\", \"regional\", \"regulation\", \"regulation\", \"regulation\", \"regulation\", \"regulation\", \"regulation\", \"regulation\", \"regulation\", \"regulation\", \"relation\", \"relation\", \"relation\", \"relation\", \"relation\", \"relation\", \"relationship\", \"relationship\", \"relationship\", \"relationship\", \"relationship\", \"reliability\", \"reliability\", \"reliability\", \"reliability\", \"reliability\", \"renewable\", \"renewable\", \"renewable\", \"renewable\", \"report\", \"report\", \"report\", \"report\", \"report\", \"report\", \"report\", \"research\", \"research\", \"research\", \"research\", \"research\", \"research\", \"research\", \"research\", \"research\", \"research\", \"researcher\", \"researcher\", \"researcher\", \"researcher\", \"researcher\", \"researcher\", \"researcher\", \"researcher\", \"resolution\", \"resolution\", \"resolution\", \"resolution\", \"resolution\", \"resolution\", \"response\", \"response\", \"response\", \"response\", \"response\", \"response\", \"response\", \"right\", \"right\", \"right\", \"right\", \"right\", \"right\", \"right\", \"risk\", \"risk\", \"risk\", \"risk\", \"risk\", \"risk\", \"risk\", \"risk\", \"risk\", \"risk\", \"road\", \"road\", \"road\", \"road\", \"road\", \"road\", \"road\", \"role\", \"role\", \"role\", \"role\", \"role\", \"role\", \"role\", \"routine\", \"routine\", \"routine\", \"routine\", \"safety\", \"safety\", \"safety\", \"safety\", \"safety\", \"safety\", \"safety\", \"safety\", \"safety\", \"sale\", \"sale\", \"sale\", \"sale\", \"saving\", \"saving\", \"saving\", \"saving\", \"saving\", \"scheme\", \"scheme\", \"scheme\", \"scheme\", \"scheme\", \"scheme\", \"scheme\", \"scheme\", \"science\", \"science\", \"science\", \"science\", \"science\", \"science\", \"science\", \"scientific\", \"scientific\", \"scientific\", \"scientific\", \"scientific\", \"scientific\", \"scientific\", \"scientific\", \"scientific\", \"scientific\", \"scientist\", \"scientist\", \"scientist\", \"scientist\", \"screening\", \"screening\", \"screening\", \"screening\", \"sector\", \"sector\", \"sector\", \"sector\", \"sector\", \"sector\", \"sector\", \"sector\", \"sector\", \"secure\", \"secure\", \"secure\", \"secure\", \"security\", \"security\", \"security\", \"security\", \"security\", \"security\", \"semantic\", \"semantic\", \"semantic\", \"semantic\", \"series\", \"series\", \"series\", \"series\", \"series\", \"series\", \"service\", \"service\", \"service\", \"service\", \"service\", \"service\", \"service\", \"service\", \"signal\", \"signal\", \"signal\", \"signal\", \"signal\", \"signal\", \"simulation\", \"simulation\", \"simulation\", \"simulation\", \"simulation\", \"simulation\", \"single\", \"single\", \"single\", \"single\", \"single\", \"single\", \"single\", \"small\", \"small\", \"small\", \"small\", \"small\", \"small\", \"small\", \"small\", \"small\", \"small\", \"sme\", \"sme\", \"sme\", \"sme\", \"sme\", \"sme\", \"social\", \"social\", \"social\", \"social\", \"social\", \"social\", \"social\", \"social\", \"social\", \"society\", \"society\", \"society\", \"society\", \"society\", \"society\", \"society\", \"society\", \"society\", \"society\", \"software\", \"software\", \"software\", \"software\", \"solution\", \"solution\", \"solution\", \"solution\", \"solution\", \"solution\", \"solution\", \"solution\", \"solution\", \"solution\", \"specie\", \"specie\", \"specie\", \"specie\", \"spectrum\", \"spectrum\", \"stable\", \"stable\", \"stable\", \"stable\", \"stable\", \"stable\", \"staff\", \"staff\", \"staff\", \"staff\", \"staff\", \"stakeholder\", \"stakeholder\", \"stakeholder\", \"stakeholder\", \"stakeholder\", \"stakeholder\", \"stakeholder\", \"state\", \"state\", \"state\", \"state\", \"state\", \"state\", \"state\", \"state\", \"state\", \"state\", \"states\", \"states\", \"states\", \"states\", \"states\", \"strategy\", \"strategy\", \"strategy\", \"strategy\", \"strategy\", \"strategy\", \"strategy\", \"strategy\", \"strategy\", \"stream\", \"stream\", \"stream\", \"stream\", \"structure\", \"structure\", \"structure\", \"structure\", \"structure\", \"structure\", \"structure\", \"study\", \"study\", \"study\", \"study\", \"study\", \"study\", \"study\", \"study\", \"study\", \"study\", \"support\", \"support\", \"support\", \"support\", \"support\", \"support\", \"support\", \"support\", \"support\", \"surface\", \"surface\", \"surface\", \"surface\", \"surface\", \"sustainable\", \"sustainable\", \"sustainable\", \"sustainable\", \"sustainable\", \"sustainable\", \"sustainable\", \"sustainable\", \"sustainable\", \"synergy\", \"synergy\", \"synergy\", \"synergy\", \"synthesis\", \"synthesis\", \"synthesis\", \"synthetic\", \"synthetic\", \"system\", \"system\", \"system\", \"system\", \"system\", \"system\", \"system\", \"system\", \"system\", \"system\", \"systematic\", \"systematic\", \"systematic\", \"target\", \"target\", \"target\", \"target\", \"target\", \"target\", \"target\", \"target\", \"target\", \"technique\", \"technique\", \"technique\", \"technique\", \"technique\", \"technique\", \"technique\", \"technique\", \"technologies\", \"technologies\", \"technologies\", \"technology\", \"technology\", \"technology\", \"technology\", \"technology\", \"technology\", \"technology\", \"technology\", \"technology\", \"technology\", \"theoretical\", \"theoretical\", \"theoretical\", \"theory\", \"theory\", \"theory\", \"therapeutic\", \"therapeutic\", \"therapy\", \"therapy\", \"therapy\", \"thermal\", \"thermal\", \"thermal\", \"thermal\", \"thermal\", \"time\", \"time\", \"time\", \"time\", \"time\", \"time\", \"time\", \"time\", \"time\", \"time\", \"tissue\", \"tool\", \"tool\", \"tool\", \"tool\", \"tool\", \"tool\", \"tool\", \"tool\", \"tool\", \"tool\", \"topic\", \"topic\", \"topic\", \"topic\", \"topic\", \"topic\", \"track\", \"track\", \"track\", \"traffic\", \"traffic\", \"traffic\", \"traffic\", \"traffic\", \"transition\", \"transition\", \"transition\", \"transition\", \"transition\", \"transition\", \"transition\", \"transmission\", \"transmission\", \"transmission\", \"transmission\", \"transport\", \"transport\", \"transport\", \"transport\", \"transport\", \"transport\", \"transport\", \"transportation\", \"transportation\", \"transportation\", \"transportation\", \"transportation\", \"transportation\", \"treatment\", \"treatment\", \"treatment\", \"treatment\", \"treatment\", \"treatment\", \"treatment\", \"trial\", \"trial\", \"trial\", \"trial\", \"tumour\", \"tumour\", \"typical\", \"typical\", \"typical\", \"ultra\", \"ultra\", \"ultra\", \"ultra\", \"ultra\", \"ultra\", \"uncertainty\", \"uncertainty\", \"understanding\", \"understanding\", \"understanding\", \"understanding\", \"understanding\", \"understanding\", \"understanding\", \"understanding\", \"understanding\", \"university\", \"university\", \"university\", \"university\", \"university\", \"unknown\", \"unknown\", \"use\", \"use\", \"use\", \"use\", \"use\", \"use\", \"use\", \"use\", \"use\", \"use\", \"useful\", \"useful\", \"useful\", \"useful\", \"user\", \"user\", \"user\", \"user\", \"user\", \"user\", \"user\", \"user\", \"user\", \"user\", \"valuable\", \"valuable\", \"valuable\", \"valuable\", \"vehicle\", \"vehicle\", \"vehicle\", \"vehicle\", \"vehicle\", \"vehicle\", \"viable\", \"viable\", \"viable\", \"view\", \"view\", \"view\", \"view\", \"view\", \"view\", \"view\", \"view\", \"virtual\", \"virtual\", \"virtual\", \"virtual\", \"virtual\", \"virus\", \"virus\", \"virus\", \"virus\", \"visual\", \"visual\", \"visual\", \"visual\", \"visual\", \"visual\", \"visual\", \"visual\", \"visual\", \"vivo\", \"vivo\", \"volume\", \"volume\", \"volume\", \"volume\", \"volume\", \"volume\", \"waste\", \"waste\", \"waste\", \"waste\", \"waste\", \"waste\", \"water\", \"water\", \"water\", \"water\", \"water\", \"web\", \"web\", \"web\", \"web\", \"widespread\", \"widespread\", \"widespread\", \"widespread\", \"widespread\", \"widespread\", \"wind\", \"wind\", \"wind\", \"workshop\", \"workshop\", \"workshop\", \"workshop\", \"workshop\", \"year\", \"year\", \"year\", \"year\", \"year\", \"year\", \"year\", \"year\", \"year\", \"year\", \"young\", \"young\", \"young\", \"young\", \"young\", \"\\u2019s\", \"\\u2019s\", \"\\u2019s\", \"\\u2019s\", \"\\u2019s\", \"\\u2019s\", \"\\u2019s\", \"\\u2019s\", \"\\u2019s\", \"\\u2019s\"]}, \"R\": 30, \"lambda.step\": 0.01, \"plot.opts\": {\"xlab\": \"PC1\", \"ylab\": \"PC2\"}, \"topic.order\": [1, 2, 3, 4, 5, 6, 7, 8, 9, 10]};\n",
              "\n",
              "function LDAvis_load_lib(url, callback){\n",
              "  var s = document.createElement('script');\n",
              "  s.src = url;\n",
              "  s.async = true;\n",
              "  s.onreadystatechange = s.onload = callback;\n",
              "  s.onerror = function(){console.warn(\"failed to load library \" + url);};\n",
              "  document.getElementsByTagName(\"head\")[0].appendChild(s);\n",
              "}\n",
              "\n",
              "if(typeof(LDAvis) !== \"undefined\"){\n",
              "   // already loaded: just create the visualization\n",
              "   !function(LDAvis){\n",
              "       new LDAvis(\"#\" + \"ldavis_el1281402509730902247358795176\", ldavis_el1281402509730902247358795176_data);\n",
              "   }(LDAvis);\n",
              "}else if(typeof define === \"function\" && define.amd){\n",
              "   // require.js is available: use it to load d3/LDAvis\n",
              "   require.config({paths: {d3: \"https://cdnjs.cloudflare.com/ajax/libs/d3/3.5.5/d3.min\"}});\n",
              "   require([\"d3\"], function(d3){\n",
              "      window.d3 = d3;\n",
              "      LDAvis_load_lib(\"https://cdn.rawgit.com/bmabey/pyLDAvis/files/ldavis.v1.0.0.js\", function(){\n",
              "        new LDAvis(\"#\" + \"ldavis_el1281402509730902247358795176\", ldavis_el1281402509730902247358795176_data);\n",
              "      });\n",
              "    });\n",
              "}else{\n",
              "    // require.js not available: dynamically load d3 & LDAvis\n",
              "    LDAvis_load_lib(\"https://cdnjs.cloudflare.com/ajax/libs/d3/3.5.5/d3.min.js\", function(){\n",
              "         LDAvis_load_lib(\"https://cdn.rawgit.com/bmabey/pyLDAvis/files/ldavis.v1.0.0.js\", function(){\n",
              "                 new LDAvis(\"#\" + \"ldavis_el1281402509730902247358795176\", ldavis_el1281402509730902247358795176_data);\n",
              "            })\n",
              "         });\n",
              "}\n",
              "</script>"
            ],
            "text/plain": [
              "<IPython.core.display.HTML object>"
            ]
          },
          "metadata": {
            "tags": []
          },
          "execution_count": 58
        }
      ]
    },
    {
      "cell_type": "code",
      "metadata": {
        "id": "BA3LS0RQETxM",
        "colab_type": "code",
        "colab": {}
      },
      "source": [
        "# In case you run a website and want to publish it...or embed it in a blogpost...\n",
        "pyLDAvis.save_html(lda_display, 'lda.html')"
      ],
      "execution_count": 0,
      "outputs": []
    },
    {
      "cell_type": "code",
      "metadata": {
        "id": "d80U1-IrnK77",
        "colab_type": "code",
        "outputId": "0a42a2a7-d0a4-4f3d-d86a-11e7c1844934",
        "colab": {
          "base_uri": "https://localhost:8080/",
          "height": 102
        }
      },
      "source": [
        "# Where does a text belong to?\n",
        "lda_model[corpus][8]"
      ],
      "execution_count": 68,
      "outputs": [
        {
          "output_type": "execute_result",
          "data": {
            "text/plain": [
              "[(0, 0.27383766),\n",
              " (1, 0.43297037),\n",
              " (3, 0.08793864),\n",
              " (4, 0.07695392),\n",
              " (5, 0.12445197)]"
            ]
          },
          "metadata": {
            "tags": []
          },
          "execution_count": 68
        }
      ]
    },
    {
      "cell_type": "code",
      "metadata": {
        "id": "cYOPWeMLpMcz",
        "colab_type": "code",
        "outputId": "09f0b9e9-99f7-414b-bece-2033442ba9cc",
        "colab": {
          "base_uri": "https://localhost:8080/",
          "height": 51
        }
      },
      "source": [
        "# And that's how you get the topic-number that's ranked highest\n",
        "\n",
        "print(sorted([(2, 0.121567), (9, 0.8610384)], key=lambda x: -x[1]))\n",
        "print(sorted([(2, 0.121567), (9, 0.8610384)], key=lambda x: -x[1])[0][0])"
      ],
      "execution_count": 71,
      "outputs": [
        {
          "output_type": "stream",
          "text": [
            "[(9, 0.8610384), (2, 0.121567)]\n",
            "9\n"
          ],
          "name": "stdout"
        }
      ]
    },
    {
      "cell_type": "markdown",
      "metadata": {
        "id": "-A6aJYDXoorZ",
        "colab_type": "text"
      },
      "source": [
        "From here, you can assign topics to texts...do some EDA, explore how topics evolve over time etc.\n",
        "\n",
        "Finally, let's try out LSA (an older topic-moddeling approach similar to NMF) - thus unsupervised ML\n",
        "\n",
        "More on LDA: https://www.machinelearningplus.com/nlp/topic-modeling-gensim-python/\n"
      ]
    },
    {
      "cell_type": "markdown",
      "metadata": {
        "id": "76xo7pFWI4AB",
        "colab_type": "text"
      },
      "source": [
        "### Your Turn:\n",
        "\n",
        "![alt text](https://media.giphy.com/media/1zjRp3fs05jhjTuwr3/giphy.gif)\n",
        "\n",
        "Perform an LDA analysis of the #OKBoomer dataset\n",
        "\n",
        "- Filter the corpus using `tweet-preprocessor` - try to figure out how to use it using it's documentation\n",
        "- Clean up further with SpaCy (keep only ADV, ADJ, NOUN)\n",
        "- Use Gensim to build a Dictionary (Filter extremes) and Corpus\n",
        "- Use Gensim to run LDA\n",
        "- Identify 10 topics\n",
        "- Plot topic-counts by day"
      ]
    },
    {
      "cell_type": "code",
      "metadata": {
        "id": "vIc4Nd0SqZ7a",
        "colab_type": "code",
        "colab": {}
      },
      "source": [
        "# Import the TfidfModel from Gensim\n",
        "from gensim.models.tfidfmodel import TfidfModel"
      ],
      "execution_count": 0,
      "outputs": []
    },
    {
      "cell_type": "code",
      "metadata": {
        "id": "5ABvkfSjd4ly",
        "colab_type": "code",
        "colab": {}
      },
      "source": [
        "# Create and fit a new TfidfModel using the corpus: tfidf\n",
        "tfidf = TfidfModel(corpus)"
      ],
      "execution_count": 0,
      "outputs": []
    },
    {
      "cell_type": "code",
      "metadata": {
        "id": "s_geBUz3eJ8O",
        "colab_type": "code",
        "colab": {}
      },
      "source": [
        "# Now we can transform the whole corpus\n",
        "tfidf_corpus = tfidf[corpus]"
      ],
      "execution_count": 0,
      "outputs": []
    },
    {
      "cell_type": "code",
      "metadata": {
        "id": "k36xISjteOkw",
        "colab_type": "code",
        "colab": {}
      },
      "source": [
        "# Just like before, we import the model\n",
        "from gensim.models.lsimodel import LsiModel\n",
        "\n",
        "# And we fir it on the tfidf_corpus pointing to the dictionary as reference and the number of topics.\n",
        "# In more serious settings one would pick between 300-400\n",
        "lsi = LsiModel(tfidf_corpus, id2word=dictionary, num_topics=100)"
      ],
      "execution_count": 0,
      "outputs": []
    },
    {
      "cell_type": "code",
      "metadata": {
        "id": "tDMZkYbCeTda",
        "colab_type": "code",
        "outputId": "3cf9076c-526d-43b7-d7bd-00f7aed1ad77",
        "colab": {
          "base_uri": "https://localhost:8080/",
          "height": 357
        }
      },
      "source": [
        "lsi.show_topics(num_topics=10)"
      ],
      "execution_count": 238,
      "outputs": [
        {
          "output_type": "execute_result",
          "data": {
            "text/plain": [
              "[(0,\n",
              "  '0.117*\"market\" + 0.114*\"product\" + 0.110*\"material\" + 0.110*\"energy\" + 0.105*\"technology\" + 0.104*\"system\" + 0.099*\"innovation\" + 0.099*\"research\" + 0.099*\"service\" + 0.093*\"%\"'),\n",
              " (1,\n",
              "  '-0.351*\"cancer\" + -0.251*\"cell\" + 0.223*\"sme\" + 0.193*\"innovation\" + -0.177*\"disease\" + 0.170*\"service\" + -0.164*\"patient\" + -0.136*\"therapy\" + -0.121*\"tumour\" + -0.119*\"clinical\"'),\n",
              " (2,\n",
              "  '0.262*\"innovation\" + 0.243*\"sme\" + -0.218*\"material\" + 0.181*\"service\" + -0.178*\"energy\" + 0.143*\"research\" + 0.120*\"management\" + -0.119*\"production\" + 0.113*\"social\" + -0.106*\"waste\"'),\n",
              " (3,\n",
              "  '0.294*\"quantum\" + -0.255*\"cancer\" + -0.198*\"sme\" + -0.183*\"patient\" + 0.153*\"research\" + -0.145*\"treatment\" + -0.137*\"product\" + -0.136*\"therapy\" + -0.125*\"market\" + -0.123*\"clinical\"'),\n",
              " (4,\n",
              "  '0.244*\"material\" + 0.230*\"sme\" + 0.215*\"innovation\" + -0.170*\"datum\" + -0.152*\"security\" + -0.134*\"vehicle\" + 0.131*\"waste\" + -0.129*\"patient\" + -0.120*\"cloud\" + -0.108*\"user\"'),\n",
              " (5,\n",
              "  '0.447*\"quantum\" + 0.283*\"sme\" + -0.162*\"water\" + 0.156*\"innovation\" + -0.146*\"food\" + 0.145*\"service\" + 0.134*\"device\" + -0.129*\"waste\" + 0.109*\"management\" + 0.107*\"instrument\"'),\n",
              " (6,\n",
              "  '0.324*\"quantum\" + 0.218*\"material\" + -0.209*\"energy\" + -0.205*\"water\" + 0.189*\"waste\" + -0.182*\"wind\" + -0.172*\"cell\" + 0.167*\"product\" + 0.151*\"patient\" + -0.138*\"vehicle\"'),\n",
              " (7,\n",
              "  '0.493*\"water\" + -0.268*\"energy\" + 0.221*\"food\" + -0.180*\"cancer\" + -0.171*\"building\" + -0.148*\"material\" + 0.118*\"virus\" + 0.110*\"bacteria\" + -0.108*\"emission\" + 0.104*\"quantum\"'),\n",
              " (8,\n",
              "  '0.342*\"quantum\" + 0.322*\"water\" + -0.239*\"material\" + -0.172*\"cloud\" + -0.170*\"security\" + 0.166*\"energy\" + 0.157*\"wind\" + -0.153*\"datum\" + -0.124*\"manufacturing\" + -0.120*\"process\"'),\n",
              " (9,\n",
              "  '-0.342*\"water\" + -0.160*\"cloud\" + 0.154*\"vehicle\" + -0.145*\"wind\" + -0.145*\"quantum\" + -0.140*\"patient\" + 0.139*\"road\" + -0.138*\"cancer\" + 0.131*\"human\" + 0.121*\"feasibility\"')]"
            ]
          },
          "metadata": {
            "tags": []
          },
          "execution_count": 238
        }
      ]
    },
    {
      "cell_type": "code",
      "metadata": {
        "id": "lj_nxOcveWuN",
        "colab_type": "code",
        "colab": {}
      },
      "source": [
        "# And just as before, we can use the trained model to transform the corpus\n",
        "lsi_corpus = lsi[tfidf_corpus]"
      ],
      "execution_count": 0,
      "outputs": []
    },
    {
      "cell_type": "code",
      "metadata": {
        "id": "zpyEfcy9eeXk",
        "colab_type": "code",
        "outputId": "b7d0b190-7674-45a8-96fc-3d5532c4f830",
        "colab": {
          "base_uri": "https://localhost:8080/",
          "height": 71
        }
      },
      "source": [
        "# Load the MatrixSimilarity\n",
        "from gensim.similarities import MatrixSimilarity\n",
        "\n",
        "# Create the document-topic-matrix\n",
        "document_topic_matrix = MatrixSimilarity(lsi_corpus)\n",
        "document_topic_matrix_ix = document_topic_matrix.index"
      ],
      "execution_count": 240,
      "outputs": [
        {
          "output_type": "stream",
          "text": [
            "/usr/local/lib/python3.6/dist-packages/gensim/matutils.py:737: FutureWarning: Conversion of the second argument of issubdtype from `int` to `np.signedinteger` is deprecated. In future, it will be treated as `np.int64 == np.dtype(int).type`.\n",
            "  return vec\n"
          ],
          "name": "stderr"
        }
      ]
    },
    {
      "cell_type": "code",
      "metadata": {
        "id": "QI8K24W2lTcP",
        "colab_type": "code",
        "outputId": "ecd4557c-8fe2-4e85-9e71-dd81c5387c01",
        "colab": {
          "base_uri": "https://localhost:8080/",
          "height": 54
        }
      },
      "source": [
        "# this now allows us to perform similarity-queries\n",
        "\n",
        "sims = document_topic_matrix[lsi_corpus[0]]\n",
        "sims = sorted(enumerate(sims), key=lambda item: -item[1])\n",
        "print(sims)"
      ],
      "execution_count": 241,
      "outputs": [
        {
          "output_type": "stream",
          "text": [
            "[(0, 1.0), (351, 0.4999364), (134, 0.41555494), (163, 0.4105711), (180, 0.39315295), (94, 0.3877287), (13, 0.38641906), (279, 0.38579795), (147, 0.38216606), (285, 0.38068804), (55, 0.37140903), (344, 0.36789674), (394, 0.36423743), (137, 0.3596772), (402, 0.35925308), (251, 0.34799844), (318, 0.34793994), (202, 0.34339824), (263, 0.33582208), (473, 0.33527043), (25, 0.31683287), (14, 0.31118667), (46, 0.3079456), (90, 0.3061393), (449, 0.3022737), (294, 0.3003865), (40, 0.2962471), (431, 0.28960562), (200, 0.28648698), (191, 0.28502402), (130, 0.2837346), (182, 0.28367785), (207, 0.28005463), (319, 0.27874088), (399, 0.27780494), (159, 0.27686873), (225, 0.2760351), (335, 0.27550983), (99, 0.27531624), (133, 0.27401978), (31, 0.2724014), (9, 0.26920867), (157, 0.26895165), (100, 0.2659078), (34, 0.2623421), (32, 0.2609), (273, 0.26040408), (349, 0.2596786), (276, 0.25964803), (150, 0.25885206), (462, 0.2588028), (131, 0.25223857), (75, 0.24886894), (365, 0.24681059), (96, 0.24650443), (422, 0.2406521), (467, 0.24021006), (405, 0.23950155), (327, 0.23689), (468, 0.23613572), (124, 0.23545523), (156, 0.23489082), (199, 0.23435906), (425, 0.23246254), (324, 0.23222245), (312, 0.22161113), (203, 0.220662), (252, 0.21957022), (48, 0.21922192), (486, 0.21790755), (304, 0.21660472), (24, 0.21598954), (171, 0.21565603), (112, 0.2155361), (161, 0.21474035), (277, 0.21455434), (436, 0.21408114), (7, 0.2132206), (429, 0.21043855), (29, 0.21017075), (457, 0.2088539), (348, 0.20854828), (410, 0.2075926), (381, 0.20732263), (218, 0.2071299), (247, 0.2058219), (330, 0.20540395), (26, 0.20518477), (476, 0.20471588), (64, 0.20433998), (132, 0.20410931), (257, 0.20258847), (451, 0.20220575), (231, 0.20220333), (2, 0.20200586), (357, 0.20005226), (345, 0.19912806), (316, 0.19847542), (107, 0.19768229), (213, 0.19428942), (407, 0.19357604), (166, 0.19322053), (129, 0.19243142), (98, 0.19235043), (155, 0.19158393), (92, 0.19099337), (195, 0.18844774), (447, 0.18835899), (259, 0.1857788), (6, 0.18394259), (216, 0.18269435), (303, 0.18222663), (72, 0.1814121), (117, 0.18098593), (67, 0.18043792), (148, 0.17936411), (411, 0.17884555), (370, 0.17617577), (414, 0.17586078), (346, 0.17569879), (1, 0.17529546), (479, 0.17517574), (49, 0.17401417), (325, 0.17146346), (149, 0.17126599), (269, 0.1664781), (185, 0.1631558), (28, 0.1625148), (266, 0.1623845), (382, 0.16227448), (188, 0.16135524), (444, 0.16119407), (66, 0.1598648), (376, 0.15979367), (122, 0.15970865), (426, 0.1589964), (379, 0.15853459), (158, 0.15800774), (35, 0.15770315), (463, 0.15723172), (192, 0.15637943), (454, 0.15624323), (306, 0.15460181), (76, 0.15376034), (322, 0.15371063), (80, 0.1533416), (483, 0.15311487), (458, 0.15284863), (403, 0.15156832), (78, 0.15085685), (445, 0.1506756), (378, 0.1489946), (3, 0.14882883), (165, 0.14744139), (8, 0.147064), (260, 0.14681375), (438, 0.14639154), (302, 0.14606407), (383, 0.14398822), (151, 0.14280468), (364, 0.14176852), (177, 0.14168935), (289, 0.14077657), (95, 0.14073896), (65, 0.14027172), (210, 0.13990052), (340, 0.1397627), (293, 0.13831422), (176, 0.13815099), (361, 0.13672794), (356, 0.13666217), (461, 0.13582279), (480, 0.13538447), (262, 0.13522834), (435, 0.13490225), (464, 0.13408828), (288, 0.13341191), (311, 0.13252486), (212, 0.1316686), (44, 0.13076186), (42, 0.13037498), (477, 0.13036755), (387, 0.13016036), (265, 0.12905715), (380, 0.12805517), (307, 0.12798712), (404, 0.12785065), (51, 0.12748623), (194, 0.12676011), (62, 0.12596484), (384, 0.12565988), (224, 0.12542878), (193, 0.12531039), (60, 0.124230966), (272, 0.12420838), (17, 0.12388535), (175, 0.12318331), (57, 0.12276462), (355, 0.122032076), (314, 0.12182924), (466, 0.11969003), (496, 0.11957598), (343, 0.11927639), (73, 0.11899871), (79, 0.11892961), (408, 0.11888807), (317, 0.11863805), (128, 0.118613385), (323, 0.11758285), (126, 0.11659361), (453, 0.11653672), (474, 0.11605309), (174, 0.1157535), (52, 0.11473721), (152, 0.11405191), (360, 0.11339806), (275, 0.113055326), (226, 0.1125133), (110, 0.11219997), (169, 0.11074431), (181, 0.11058583), (135, 0.11025512), (481, 0.10913303), (375, 0.10871972), (418, 0.10857295), (281, 0.108544834), (219, 0.10840252), (299, 0.10784623), (109, 0.107683495), (190, 0.10750572), (320, 0.10708766), (487, 0.106782004), (456, 0.10565697), (196, 0.105542675), (334, 0.10502449), (321, 0.10401263), (246, 0.10390427), (38, 0.10324545), (415, 0.1021846), (178, 0.101887524), (104, 0.10152016), (328, 0.101228714), (59, 0.10068857), (409, 0.1006269), (184, 0.100201406), (367, 0.100167), (221, 0.09991279), (459, 0.099794514), (388, 0.09936057), (430, 0.09909809), (138, 0.09866531), (460, 0.09827016), (353, 0.097970344), (121, 0.096799135), (69, 0.09642577), (271, 0.09628819), (298, 0.09623422), (366, 0.09576495), (198, 0.09543633), (23, 0.09487841), (204, 0.094471425), (374, 0.09406823), (491, 0.09388142), (296, 0.09387416), (347, 0.09368439), (342, 0.093568094), (256, 0.092580035), (223, 0.09240107), (56, 0.09135357), (432, 0.09042552), (105, 0.08941164), (21, 0.089274645), (268, 0.0892359), (183, 0.08859183), (490, 0.088489205), (250, 0.08794125), (333, 0.08791604), (61, 0.08749206), (243, 0.0871857), (336, 0.08708658), (108, 0.08692603), (284, 0.086332396), (240, 0.0862084), (41, 0.08603291), (253, 0.085914), (290, 0.08580223), (363, 0.085468456), (450, 0.08541136), (270, 0.08533789), (493, 0.0850607), (83, 0.08485198), (114, 0.08452549), (145, 0.084194146), (242, 0.083947465), (398, 0.083363056), (162, 0.08313465), (85, 0.08287609), (236, 0.08284897), (310, 0.08256144), (215, 0.08196684), (264, 0.0818585), (33, 0.081855245), (261, 0.08180174), (197, 0.08125592), (19, 0.07972256), (116, 0.07924839), (84, 0.07918633), (118, 0.079095), (287, 0.078703515), (140, 0.07822616), (10, 0.07819039), (11, 0.07804517), (482, 0.07748592), (154, 0.076696694), (27, 0.07654387), (283, 0.07635243), (77, 0.07613022), (153, 0.07593999), (391, 0.07523178), (448, 0.0749367), (93, 0.07390559), (313, 0.07359026), (209, 0.07303627), (244, 0.073030226), (377, 0.07258533), (470, 0.07251562), (338, 0.07216498), (498, 0.07126939), (173, 0.07057986), (249, 0.06979482), (309, 0.06960083), (5, 0.06860669), (143, 0.06838395), (274, 0.06828919), (235, 0.06689056), (39, 0.066837505), (301, 0.0662857), (86, 0.06550967), (248, 0.0641094), (469, 0.06309901), (446, 0.06294072), (390, 0.06279164), (300, 0.06269453), (371, 0.062595814), (341, 0.062414788), (286, 0.062259004), (87, 0.062245533), (101, 0.061011806), (362, 0.06099192), (492, 0.060973503), (120, 0.060971327), (471, 0.060112823), (45, 0.059439793), (350, 0.05930879), (475, 0.05930335), (189, 0.058677148), (102, 0.058240376), (20, 0.058019966), (396, 0.057972983), (233, 0.05684921), (437, 0.056225672), (97, 0.056067854), (106, 0.05573217), (239, 0.05568952), (179, 0.05554048), (186, 0.055202957), (339, 0.055122897), (232, 0.054797854), (70, 0.054142673), (358, 0.053948186), (439, 0.05299811), (58, 0.052542176), (206, 0.052295238), (441, 0.052220423), (428, 0.05159448), (205, 0.049897946), (386, 0.04930723), (485, 0.04918004), (489, 0.048919924), (423, 0.048885882), (326, 0.048151165), (74, 0.047837846), (465, 0.047152646), (228, 0.0459392), (412, 0.0449265), (499, 0.044566587), (282, 0.044203877), (393, 0.044177838), (291, 0.042962193), (401, 0.042795554), (395, 0.042349704), (245, 0.041998215), (141, 0.04199797), (187, 0.041876957), (22, 0.041830935), (400, 0.04169531), (88, 0.04112769), (359, 0.04109051), (406, 0.040981565), (329, 0.040554523), (91, 0.040495995), (37, 0.040444095), (15, 0.039946407), (50, 0.039746754), (113, 0.039678726), (18, 0.039609537), (217, 0.039306298), (81, 0.039228283), (12, 0.039023638), (16, 0.037818544), (332, 0.037592657), (416, 0.037258048), (167, 0.03722819), (36, 0.036890846), (168, 0.03643629), (230, 0.03579057), (420, 0.03559407), (258, 0.03444221), (295, 0.03422401), (417, 0.033578843), (227, 0.032406416), (315, 0.03165809), (30, 0.03165281), (385, 0.030322134), (280, 0.029222406), (123, 0.028382666), (111, 0.028329007), (354, 0.028046628), (4, 0.027427774), (43, 0.027381785), (305, 0.026664443), (433, 0.0263765), (208, 0.02636709), (241, 0.026056752), (440, 0.026023783), (222, 0.025884105), (292, 0.024007194), (488, 0.020167202), (373, 0.01915764), (103, 0.018981658), (331, 0.018260576), (89, 0.018223599), (484, 0.018049382), (142, 0.018044863), (63, 0.017973766), (427, 0.016938403), (442, 0.016415149), (139, 0.01603841), (368, 0.016016489), (254, 0.014017884), (372, 0.013234995), (53, 0.012269497), (494, 0.011243846), (255, 0.009953849), (229, 0.009844918), (54, 0.009504139), (497, 0.0078460425), (369, 0.0071694925), (119, 0.006921068), (201, 0.0058402605), (160, 0.005638145), (389, 0.0047216415), (238, 0.0042862687), (68, 0.0025764368), (127, 0.0025597438), (267, 0.00036158226), (220, 4.10527e-05), (421, -0.00034028292), (495, -0.000916183), (144, -0.0012478605), (164, -0.0014012232), (211, -0.0057549924), (392, -0.0059257895), (424, -0.0060491897), (146, -0.007491326), (434, -0.009908289), (337, -0.011245154), (455, -0.0121691), (47, -0.013029322), (278, -0.014164232), (397, -0.016332477), (297, -0.018300902), (237, -0.019023556), (125, -0.024956264), (71, -0.025230423), (472, -0.025618188), (478, -0.02651855), (136, -0.027170584), (82, -0.02747026), (308, -0.028824687), (234, -0.036475427), (413, -0.037106074), (172, -0.04103504), (214, -0.044233464), (170, -0.044954404), (452, -0.049040295), (115, -0.0683171), (352, -0.07108189), (419, -0.08268693), (443, -0.097415395)]\n"
          ],
          "name": "stdout"
        }
      ]
    },
    {
      "cell_type": "markdown",
      "metadata": {
        "id": "pvNB5tGWrtEi",
        "colab_type": "text"
      },
      "source": [
        "We will go deeper into how that works next time\n",
        "The last bit is a bit of a quick bonus and should be super familiar from M1.\n",
        "\n",
        "Since we now have a matrix with observations and features - why not trying to apply unsupervisd ML that we know from M1?"
      ]
    },
    {
      "cell_type": "code",
      "metadata": {
        "id": "XBn8C2lIefgC",
        "colab_type": "code",
        "colab": {}
      },
      "source": [
        "# dimensionali lity reduction for plotting\n",
        "import umap\n",
        "embeddings = umap.UMAP(n_neighbors=15, metric='cosine').fit_transform(document_topic_matrix_ix)\n",
        "\n",
        "#------------------------------\n",
        "# we could use that too\n",
        "\n",
        "#from sklearn.decomposition import PCA\n",
        "\n",
        "#reduced = PCA(n_components = 10).fit_transform(document_topic_matrix_ix)"
      ],
      "execution_count": 0,
      "outputs": []
    },
    {
      "cell_type": "code",
      "metadata": {
        "id": "fYlDGWflf5ng",
        "colab_type": "code",
        "outputId": "0d2b2e53-bc03-45a8-e323-3b1ccdd6b5d4",
        "colab": {
          "base_uri": "https://localhost:8080/",
          "height": 68
        }
      },
      "source": [
        "# Nothing new here\n",
        "from sklearn.cluster import KMeans\n",
        "clusterer = KMeans(n_clusters = 10)\n",
        "clusterer.fit(document_topic_matrix_ix)"
      ],
      "execution_count": 243,
      "outputs": [
        {
          "output_type": "execute_result",
          "data": {
            "text/plain": [
              "KMeans(algorithm='auto', copy_x=True, init='k-means++', max_iter=300,\n",
              "       n_clusters=10, n_init=10, n_jobs=None, precompute_distances='auto',\n",
              "       random_state=None, tol=0.0001, verbose=0)"
            ]
          },
          "metadata": {
            "tags": []
          },
          "execution_count": 243
        }
      ]
    },
    {
      "cell_type": "code",
      "metadata": {
        "id": "JCRVRPcygpnG",
        "colab_type": "code",
        "colab": {}
      },
      "source": [
        "import seaborn as sns"
      ],
      "execution_count": 0,
      "outputs": []
    },
    {
      "cell_type": "code",
      "metadata": {
        "id": "k9y77tBVe3VL",
        "colab_type": "code",
        "outputId": "7b67aa75-cf64-4ab7-97bc-ea9a659420d8",
        "colab": {
          "base_uri": "https://localhost:8080/",
          "height": 703
        }
      },
      "source": [
        "# Plotting things\n",
        "sns.set_style(\"darkgrid\")\n",
        "\n",
        "plt.rcParams.update({'font.size': 12})\n",
        "plt.figure(figsize=(12,12))\n",
        "g = sns.scatterplot(*embeddings.T,\n",
        "                    #reduced[:,0],reduced[:,1],\n",
        "                   hue=clusterer.labels_,\n",
        "                    palette=\"Paired\",\n",
        "                   legend='full')"
      ],
      "execution_count": 246,
      "outputs": [
        {
          "output_type": "display_data",
          "data": {
            "image/png": "[encoded data removed]",
            "text/plain": [
              "<Figure size 864x864 with 1 Axes>"
            ]
          },
          "metadata": {
            "tags": []
          }
        }
      ]
    },
    {
      "cell_type": "code",
      "metadata": {
        "id": "oQYukJYIgYwY",
        "colab_type": "code",
        "colab": {}
      },
      "source": [
        "# Let's explore the clusters ... that should actually correlate with topics found by LDA\n",
        "reports['cluster'] = clusterer.labels_"
      ],
      "execution_count": 0,
      "outputs": []
    },
    {
      "cell_type": "code",
      "metadata": {
        "id": "F3chqB3Sg-8_",
        "colab_type": "code",
        "outputId": "259ff1dc-a0de-44fd-eaaa-3b88e79981e5",
        "colab": {
          "base_uri": "https://localhost:8080/",
          "height": 629
        }
      },
      "source": [
        "reports[reports['cluster'] == 2]['teaser']"
      ],
      "execution_count": 248,
      "outputs": [
        {
          "output_type": "execute_result",
          "data": {
            "text/plain": [
              "42     Overall transport accounts for ±25% of Greenho...\n",
              "47     Undesired vibrations affect many engineering s...\n",
              "74     ChallengeToday, electric vehicles (EV) are on ...\n",
              "89     MeBeSafe focuses on behavioural feedback measu...\n",
              "98     The road freight transport activity is growing...\n",
              "112    BluBrake represents a high-tech European SME s...\n",
              "113    Oil cooling machines are the preferred solutio...\n",
              "125    The agile and efficient flight of birds shows ...\n",
              "138    MOSAIC  focuses on developing the next generat...\n",
              "139    The majority of solid state light (SSL) system...\n",
              "149    The SmILES proposal contributes to the (LCE 33...\n",
              "158    According to the “State of Housing in the EU 2...\n",
              "162    The world energetic demand keeps growing and i...\n",
              "174    Wavepiston is developed on the shoulders of th...\n",
              "194    Globally, there are more than 300 million indu...\n",
              "208    Despite significant progress in reducing traff...\n",
              "209    Road accidents continue to be a major public s...\n",
              "231    Industrial companies are willing to deploy aut...\n",
              "254    With StarLink, DVP aims to launch a connected ...\n",
              "280    Development of information technologies and me...\n",
              "282    A human being learns to drive in tens of hours...\n",
              "342    The aim of this project was to develop and imp...\n",
              "367    The DOMINOES project aims to enable the discov...\n",
              "369    Horizontal road markings are considered to be ...\n",
              "373    Today fleet managers lack information regardin...\n",
              "382    Global bike sharing market is expected to reac...\n",
              "398    The data revolution is progressively arriving ...\n",
              "413    Railway track lateral movement occurs when lat...\n",
              "414    The railway industry is experiencing a new boo...\n",
              "423    The Attitude Determination and Control System ...\n",
              "430    The objectives of this applicant consortium to...\n",
              "447    Biogas is mainly a mixture of methane and carb...\n",
              "448    What is the problem/issue being addressed?Hydr...\n",
              "454    Everyday, people die or get injured on Europe’...\n",
              "487    The UPGRADE project addresses very precise and...\n",
              "Name: teaser, dtype: object"
            ]
          },
          "metadata": {
            "tags": []
          },
          "execution_count": 248
        }
      ]
    },
    {
      "cell_type": "code",
      "metadata": {
        "id": "_hnaBLL0gtCf",
        "colab_type": "code",
        "colab": {}
      },
      "source": [
        "from gensim.matutils import corpus2dense"
      ],
      "execution_count": 0,
      "outputs": []
    },
    {
      "cell_type": "code",
      "metadata": {
        "id": "7o_i5_NGj8gS",
        "colab_type": "code",
        "colab": {
          "base_uri": "https://localhost:8080/",
          "height": 71
        },
        "outputId": "389d4ecc-bb70-4c68-cb50-f339c9e9eadf"
      },
      "source": [
        "# Let's check out the topics by getting \"top-tfidf\" for the different clusters (and we need to transponse)\n",
        "tfidf_matrix = corpus2dense(tfidf_corpus, len(dictionary)).T"
      ],
      "execution_count": 292,
      "outputs": [
        {
          "output_type": "stream",
          "text": [
            "/usr/local/lib/python3.6/dist-packages/gensim/matutils.py:502: FutureWarning: arrays to stack must be passed as a \"sequence\" type such as list or tuple. Support for non-sequence iterables such as generators is deprecated as of NumPy 1.16 and will raise an error in the future.\n",
            "  for docno, doc in enumerate(corpus):\n"
          ],
          "name": "stderr"
        }
      ]
    },
    {
      "cell_type": "code",
      "metadata": {
        "id": "jkyGeh87khvL",
        "colab_type": "code",
        "colab": {}
      },
      "source": [
        "# write cluster-numbers into our data\n",
        "reports['cluster'] = clusterer.labels_"
      ],
      "execution_count": 0,
      "outputs": []
    },
    {
      "cell_type": "code",
      "metadata": {
        "id": "RgCiVflWkpAF",
        "colab_type": "code",
        "colab": {}
      },
      "source": [
        "# Get indices to subset the matrix\n",
        "cluster_index = reports[reports['cluster'] == 0].index"
      ],
      "execution_count": 0,
      "outputs": []
    },
    {
      "cell_type": "code",
      "metadata": {
        "id": "UquKhoAvk8Ju",
        "colab_type": "code",
        "colab": {}
      },
      "source": [
        "# Use numpy to sum up columns for tfidf, get the indices of the sorted values, and flip (descending), and only top 10\n",
        "topk = np.flip(np.argsort(np.sum(tfidf_matrix[cluster_index,:], axis=0)))[:10]"
      ],
      "execution_count": 0,
      "outputs": []
    },
    {
      "cell_type": "code",
      "metadata": {
        "id": "DNOoxP9jlIEn",
        "colab_type": "code",
        "outputId": "84186a56-a2ff-4620-ecb3-8ea8d3554b22",
        "colab": {
          "base_uri": "https://localhost:8080/",
          "height": 187
        }
      },
      "source": [
        "# Use dictionary to get the words from indices\n",
        "[dictionary[x] for x in topk]"
      ],
      "execution_count": 296,
      "outputs": [
        {
          "output_type": "execute_result",
          "data": {
            "text/plain": [
              "['ict',\n",
              " 'service',\n",
              " 'datum',\n",
              " 'cloud',\n",
              " 'security',\n",
              " 'platform',\n",
              " 'user',\n",
              " 'digital',\n",
              " 'technology',\n",
              " 'customer']"
            ]
          },
          "metadata": {
            "tags": []
          },
          "execution_count": 296
        }
      ]
    },
    {
      "cell_type": "code",
      "metadata": {
        "id": "KBnWPpnSlT2Z",
        "colab_type": "code",
        "outputId": "47185ee8-45e1-4abd-943d-66e0e2bfdb06",
        "colab": {
          "base_uri": "https://localhost:8080/",
          "height": 187
        }
      },
      "source": [
        "# Let's loop it\n",
        "\n",
        "for i in set(clusterer.labels_):\n",
        "  cluster_index = reports[reports['cluster'] == i].index\n",
        "  topk = np.flip(np.argsort(np.sum(tfidf_matrix[cluster_index,:], axis=0)))[:10]\n",
        "\n",
        "  print(str(i) + str([dictionary[x] for x in topk]))"
      ],
      "execution_count": 298,
      "outputs": [
        {
          "output_type": "stream",
          "text": [
            "0['ict', 'service', 'datum', 'cloud', 'security', 'platform', 'user', 'digital', 'technology', 'customer']\n",
            "1['cancer', 'cell', 'gene', 'virus', 'disease', 'infection', 'molecular', 'human', 'brain', 'mechanism']\n",
            "2['vehicle', 'road', 'energy', 'driver', 'maintenance', 'system', 'technology', 'engine', 'grid', 'control']\n",
            "3['market', 'wind', 'business', 'power', '%', 'energy', 'product', 'plan', 'technology', 'solution']\n",
            "4['food', 'water', 'animal', 'product', 'bacteria', 'compound', 'chain', 'health', 'production', 'environmental']\n",
            "5['patient', 'clinical', 'care', 'medical', 'diagnosis', 'diagnostic', 'treatment', 'disease', 'blood', 'healthcare']\n",
            "6['material', 'process', 'waste', 'product', 'construction', 'property', 'production', 'raw', 'energy', 'metal']\n",
            "7['sme', 'innovation', 'service', 'management', 'instrument', 'capacity', 'scheme', 'account', 'consortium', 'region']\n",
            "8['quantum', 'climate', 'theory', 'model', 'field', 'earth', 'object', 'particle', 'magnetic', 'effect']\n",
            "9['research', 'cultural', 'european', 'scientific', 'innovation', 'social', 'science', 'international', 'university', 'political']\n"
          ],
          "name": "stdout"
        }
      ]
    },
    {
      "cell_type": "code",
      "metadata": {
        "id": "72KVY1NsnUYT",
        "colab_type": "code",
        "colab": {}
      },
      "source": [
        ""
      ],
      "execution_count": 0,
      "outputs": []
    }
  ]
}