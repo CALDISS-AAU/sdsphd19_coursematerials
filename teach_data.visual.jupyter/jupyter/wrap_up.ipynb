{
 "cells": [
  {
   "cell_type": "markdown",
   "metadata": {
    "slideshow": {
     "slide_type": "subslide"
    }
   },
   "source": [
    "## Wrap-up\n",
    "* Why Jupyter notebook + Python + Pandas?\n",
    "* The Python programming language\n",
    "* Python Data Analysis Library: Pandas\n",
    "* Visualization og Pandas DataFrame and plotnine (Grammar of Graphics)\n",
    "* Examples\n",
    "* Last questions/openings for now?\n",
    "* Learning objectives: lets talk about them!"
   ]
  },
  {
   "cell_type": "markdown",
   "metadata": {
    "slideshow": {
     "slide_type": "subslide"
    }
   },
   "source": [
    "## CLAAUDIA - research data service\n",
    "* Infrastructure, data management and data science\n",
    "* Training, guides, support and advice for researchers @ AAU\n",
    "* claaudia.aau.dk; email claaudia@aau.dk"
   ]
  }
 ],
 "metadata": {
  "celltoolbar": "Slideshow",
  "kernelspec": {
   "display_name": "Python 3",
   "language": "python",
   "name": "python3"
  },
  "language_info": {
   "codemirror_mode": {
    "name": "ipython",
    "version": 3
   },
   "file_extension": ".py",
   "mimetype": "text/x-python",
   "name": "python",
   "nbconvert_exporter": "python",
   "pygments_lexer": "ipython3",
   "version": "3.7.1"
  }
 },
 "nbformat": 4,
 "nbformat_minor": 2
}
