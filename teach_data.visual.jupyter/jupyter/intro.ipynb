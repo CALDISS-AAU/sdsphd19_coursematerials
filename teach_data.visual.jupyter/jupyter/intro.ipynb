{
 "cells": [
  {
   "cell_type": "markdown",
   "metadata": {
    "slideshow": {
     "slide_type": "slide"
    }
   },
   "source": [
    "#  An introduction to Python and Data Science"
   ]
  },
  {
   "cell_type": "markdown",
   "metadata": {
    "slideshow": {
     "slide_type": "subslide"
    }
   },
   "source": [
    "## Outline\n",
    "\n",
    "See [gitea repo](https://git.its.aau.dk/CLAAUDIA/teach_data.visual.Jupyter/src/branch/sdsphd19)"
   ]
  },
  {
   "cell_type": "markdown",
   "metadata": {
    "slideshow": {
     "slide_type": "subslide"
    }
   },
   "source": [
    "# Why Python?\n",
    "1. General purpose language - add what you need\n",
    "2. Portable (Linux, Windows, Mac)\n",
    "3. Interactive\n",
    "4. Free\n",
    "5. Community and eco-system\n",
    "6. Easy to use"
   ]
  },
  {
   "cell_type": "markdown",
   "metadata": {
    "slideshow": {
     "slide_type": "subslide"
    }
   },
   "source": [
    "# Installing Python: Anaconda\n",
    "* Go to (https://www.anaconda.com/download)\n",
    "* Install a version 3.x\n",
    "* Open Jupyter notebook\n",
    "  * Windows: search for jupyter\n",
    "  * Mac?\n",
    "  * Mac and linux: `$ <anaconda_root_dir>/jupyter notebook`"
   ]
  },
  {
   "cell_type": "markdown",
   "metadata": {
    "slideshow": {
     "slide_type": "subslide"
    }
   },
   "source": [
    "# Working with Python\n",
    "* Workflows - many - find your own! In this course - Jupyter notebook and pandas:\n",
    "  * Python + Jupyter notebook + pandas = A complete environment\n",
    "  * Interactive\n",
    "  * Encourage an iterative work process (research?)\n",
    "  * Documentation, code and visualization in one - literate programming\n",
    "  * Reproducing results and figures\n",
    "* Obtain this material from [here](https://git.its.aau.dk/CLAAUDIA/teach_data.visual.Jupyter)"
   ]
  },
  {
   "cell_type": "markdown",
   "metadata": {
    "slideshow": {
     "slide_type": "subslide"
    }
   },
   "source": [
    "## Visualization with Python\n",
    "* Old school: matplotlib\n",
    "* New overlays:\n",
    "  * Plotting from pandas\n",
    "  * [Bokeh](https://bokeh.pydata.org/en/latest/)\n",
    "  * [Plotly](https://plot.ly/)\n",
    "  * [Plotnine](https://plotnine.readthedocs.io/en/stable/) (grammar of graphics)"
   ]
  },
  {
   "cell_type": "markdown",
   "metadata": {
    "slideshow": {
     "slide_type": "subslide"
    }
   },
   "source": [
    "# A carpentry approach\n",
    "1. Obtain the fundamental skills needed to conduct your work\n",
    "  * Learning a trade\n",
    "  * Take pride in what you produce $\\leftrightarrow$ produce quality\n",
    "  * Adapt best practice\n",
    "  * Being efficient\n",
    "2. Also an organization: https://carpentries.org/"
   ]
  },
  {
   "cell_type": "markdown",
   "metadata": {
    "slideshow": {
     "slide_type": "subslide"
    }
   },
   "source": [
    "# Learning objectives\n",
    "After this course the parcipants will have\n",
    "1. A basic understanding of the Python language and ability to perform simple tasks\n",
    "2. A working knowledge for data analysis using Pandas\n",
    "3. A working knowledge for data visualization of Pandas DataFrames using Seaborn\n"
   ]
  },
  {
   "cell_type": "markdown",
   "metadata": {
    "slideshow": {
     "slide_type": "subslide"
    }
   },
   "source": [
    "# Learning methods\n",
    "\n",
    "* Lecture - but work out the examples on your own laptap - (live-coding)\n",
    "* Small exercises - individual or in small groups\n"
   ]
  },
  {
   "cell_type": "markdown",
   "metadata": {
    "slideshow": {
     "slide_type": "subslide"
    }
   },
   "source": [
    "# Class room rules\n",
    "* Discuss with your neighbour\n",
    "* Help each other\n",
    "* Try everything out yourself\n",
    "* Stickers: \n",
    "  - yyy: I need help; \n",
    "  - zzz: Im okay"
   ]
  }
 ],
 "metadata": {
  "celltoolbar": "Slideshow",
  "kernelspec": {
   "display_name": "Python 3",
   "language": "python",
   "name": "python3"
  },
  "language_info": {
   "codemirror_mode": {
    "name": "ipython",
    "version": 3
   },
   "file_extension": ".py",
   "mimetype": "text/x-python",
   "name": "python",
   "nbconvert_exporter": "python",
   "pygments_lexer": "ipython3",
   "version": "3.7.1"
  }
 },
 "nbformat": 4,
 "nbformat_minor": 2
}
